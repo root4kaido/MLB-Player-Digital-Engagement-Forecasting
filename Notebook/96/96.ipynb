{
 "cells": [
  {
   "cell_type": "code",
   "execution_count": 1,
   "id": "d339a2ff",
   "metadata": {},
   "outputs": [],
   "source": [
    "import gc\n",
    "import os\n",
    "import sys\n",
    "import math\n",
    "import random\n",
    "import warnings\n",
    "import pickle\n",
    "from pathlib import Path\n",
    "from joblib import Parallel, delayed\n",
    "from statsmodels.tsa.deterministic import (CalendarFourier,\n",
    "                                           CalendarSeasonality,\n",
    "                                           CalendarTimeTrend,\n",
    "                                           DeterministicProcess)\n",
    "import pickle\n",
    "import optuna\n",
    "from tqdm import tqdm\n",
    "import os\n",
    "import ipywidgets as widgets\n",
    "import matplotlib.pyplot as plt\n",
    "import numpy as np\n",
    "import pandas as pd\n",
    "import seaborn as sns\n",
    "# from pandarallel import pandarallel\n",
    "# pandarallel.initialize()\n",
    "warnings.simplefilter(\"ignore\")\n",
    "import ctypes as ct\n",
    "from datetime import timedelta\n",
    "\n",
    "from sklearn.metrics import mean_absolute_error\n",
    "\n",
    "import statistics as st\n",
    "from catboost import CatBoostRegressor\n",
    "from scipy.stats import norm"
   ]
  },
  {
   "cell_type": "code",
   "execution_count": 2,
   "id": "a7b5b222",
   "metadata": {},
   "outputs": [],
   "source": [
    "sys.path.append('../../')\n",
    "import src.utils as utils"
   ]
  },
  {
   "cell_type": "markdown",
   "id": "a637b517",
   "metadata": {},
   "source": [
    "## Param"
   ]
  },
  {
   "cell_type": "code",
   "execution_count": 3,
   "id": "59549ca3",
   "metadata": {},
   "outputs": [],
   "source": [
    "EXP_NUM = 96\n",
    "NFOLDS = 5\n",
    "SEED = 100\n",
    "TRAIN_DATE = 'date < 20210701'"
   ]
  },
  {
   "cell_type": "code",
   "execution_count": 4,
   "id": "4cbeec33",
   "metadata": {},
   "outputs": [],
   "source": [
    "# def set_seed(seed: int = 42):\n",
    "#     random.seed(seed)\n",
    "#     np.random.seed(seed)\n",
    "#     os.environ[\"PYTHONHASHSEED\"] = str(seed)\n",
    "#     torch.manual_seed(seed)\n",
    "#     torch.cuda.manual_seed(seed)  # type: ignore\n",
    "#     torch.backends.cudnn.deterministic = True  # type: ignore\n",
    "#     torch.backends.cudnn.benchmark = False  # type: ignore\n",
    "# set_seed(SEED)"
   ]
  },
  {
   "cell_type": "markdown",
   "id": "a80970c4",
   "metadata": {},
   "source": [
    "## Dir"
   ]
  },
  {
   "cell_type": "code",
   "execution_count": 5,
   "id": "4529f3d3",
   "metadata": {},
   "outputs": [],
   "source": [
    "DATA_DIR = Path(\"/home/knikaido/work/MLB-Player-Digital-Engagement-Forecasting/data/\")\n",
    "MAIN_DATA_DIR = DATA_DIR / 'mlb-player-digital-engagement-forecasting-update'\n",
    "TRAIN_DIR = MAIN_DATA_DIR / 'train'\n",
    "OUTPUT_DIR = Path('./output/')"
   ]
  },
  {
   "cell_type": "code",
   "execution_count": 6,
   "id": "ab6e9820",
   "metadata": {},
   "outputs": [],
   "source": [
    "players = pd.read_csv(MAIN_DATA_DIR / 'players.csv')\n",
    "seasons = pd.read_csv(MAIN_DATA_DIR / 'seasons.csv')\n",
    "teams = pd.read_csv(MAIN_DATA_DIR / 'teams.csv')\n",
    "\n",
    "rosters = pd.read_csv(TRAIN_DIR / 'rosters_train.csv').query(TRAIN_DATE)\n",
    "targets = pd.read_csv(TRAIN_DIR / 'nextDayPlayerEngagement_train.csv').query(TRAIN_DATE)\n",
    "scores = pd.read_csv(TRAIN_DIR / 'playerBoxScores_train.csv').query(TRAIN_DATE)\n",
    "scores = scores.groupby(['playerId', 'date']).sum().reset_index()\n",
    "standings = pd.read_csv(TRAIN_DIR / 'standings_train.csv').query(TRAIN_DATE)\n",
    "playerTwitterFollowers = pd.read_csv(TRAIN_DIR / 'playerTwitterFollowers_train.csv').query(TRAIN_DATE)\n",
    "awards = pd.read_csv(TRAIN_DIR / 'awards_train.csv').query(TRAIN_DATE)\n"
   ]
  },
  {
   "cell_type": "code",
   "execution_count": 7,
   "id": "d1cb4aad",
   "metadata": {},
   "outputs": [],
   "source": [
    "train_elements_dict = {\"players\":players, \n",
    "                       \"rosters\":rosters, \n",
    "                       \"targets\":targets, \n",
    "                       \"scores\":scores, \n",
    "                       \"seasons\":seasons, \n",
    "                       \"teams\":teams, \n",
    "                       \"standings\":standings,\n",
    "                       'awards':awards}"
   ]
  },
  {
   "cell_type": "code",
   "execution_count": 8,
   "id": "a1b8c2fa",
   "metadata": {},
   "outputs": [],
   "source": [
    "def map_team_name(name):\n",
    "    names = name.split('-')\n",
    "    result = ''\n",
    "    for n in names:\n",
    "        if n == 'st':\n",
    "            n = 'st.'\n",
    "        result += f' {n.capitalize()}'\n",
    "\n",
    "    return result[1:]"
   ]
  },
  {
   "cell_type": "code",
   "execution_count": 9,
   "id": "226909fc",
   "metadata": {},
   "outputs": [],
   "source": [
    "def calc_corr(df):\n",
    "    # 相関係数行列を作成\n",
    "    corr_mat = df.corr(method='pearson')\n",
    "\n",
    "    # 行（列）サイズを取得\n",
    "    n = corr_mat.shape[0]\n",
    "    corr_ary = []\n",
    "\n",
    "    for i in range(n):\n",
    "        for j in range(i):\n",
    "            if i == j:\n",
    "                continue\n",
    "            corr_ary.append(corr_mat.iloc[i,j])\n",
    "\n",
    "    return corr_ary"
   ]
  },
  {
   "cell_type": "code",
   "execution_count": 10,
   "id": "0700e682",
   "metadata": {},
   "outputs": [],
   "source": [
    "def calc_probs(pid,df,temp):\n",
    "    to_append=[pid,'','','','','','','','','','','','','','','','','','','','','','','','','','','','','','','','','','']\n",
    "    targets=['target1','target2','target3','target4']\n",
    "    z=1\n",
    "    for target in targets:\n",
    "        target_prob = temp[target].tolist()\n",
    "        mean = np.mean(target_prob)\n",
    "        std = np.std(target_prob)\n",
    "        median = st.median(target_prob)\n",
    "        distribution = norm(mean, std)\n",
    "        min_weight = min(target_prob)\n",
    "        max_weight = max(target_prob)\n",
    "        values = list(np.linspace(min_weight, max_weight))\n",
    "        probabilities = [distribution.pdf(v) for v in values]\n",
    "        max_value = max(probabilities)\n",
    "        max_index = probabilities.index(max_value)\n",
    "        to_append[z]=mean\n",
    "        to_append[z+1]=median\n",
    "        to_append[z+2]=std\n",
    "        to_append[z+3]=min_weight\n",
    "        to_append[z+4]=max_weight\n",
    "        to_append[z+5]=temp[target].skew()\n",
    "        to_append[z+6]=temp[target].kurt()\n",
    "\n",
    "        z=z+7\n",
    "    corr_ = calc_corr(temp[['target1', 'target2', 'target3', 'target4']])\n",
    "    to_append[z:] = corr_  \n",
    "    df_length = len(df)\n",
    "    df.loc[df_length] = to_append\n",
    "    return df"
   ]
  },
  {
   "cell_type": "code",
   "execution_count": 11,
   "id": "fd1da28b",
   "metadata": {},
   "outputs": [],
   "source": [
    "def count_consecutive_items_n_cols(df, col_name_list, output_col):\n",
    "    cum_sum_list = [\n",
    "        (df[col_name] != df[col_name].shift(1)).cumsum().tolist() for col_name in col_name_list\n",
    "    ]\n",
    "    df[output_col] = df.groupby(\n",
    "        [\"_\".join(map(str, x)) for x in zip(*cum_sum_list)]\n",
    "    ).cumcount() + 1\n",
    "    return df"
   ]
  },
  {
   "cell_type": "code",
   "execution_count": 12,
   "id": "64aafdeb",
   "metadata": {},
   "outputs": [],
   "source": [
    "def extract_season(date_raw, season_start_end):\n",
    "    idxes = 0\n",
    "    for raw in season_start_end.iloc():\n",
    "        idx_ = ((date_raw >= raw.iloc[0]) & (date_raw <= raw.iloc[1])) * 1\n",
    "        idxes += idx_\n",
    "    return idxes"
   ]
  },
  {
   "cell_type": "code",
   "execution_count": 13,
   "id": "28aba88d",
   "metadata": {},
   "outputs": [],
   "source": [
    "def fit_cat(x_train, y_train, x_valid, y_valid, verbose=100):\n",
    "    def opt(trial):\n",
    "        params = {\n",
    "                'random_state': SEED,\n",
    "                'loss_function':'MAE',\n",
    "                'n_estimators': 10000,\n",
    "                'learning_rate': 0.1,\n",
    "#                 \"bootstrap_type\": \"Bayesian\",\n",
    "                'verbose': False,\n",
    "                'colsample_bylevel': trial.suggest_float('colsample_bylevel', 0.01, 0.1),\n",
    "                'depth': trial.suggest_int('depth', 4, 10),\n",
    "                'boosting_type': trial.suggest_categorical('boosting_type', ['Ordered', 'Plain']),\n",
    "                'bootstrap_type': trial.suggest_categorical(\n",
    "                    'bootstrap_type', ['Bayesian', 'Bernoulli', 'MVS']\n",
    "                ),\n",
    "                'l2_leaf_reg': trial.suggest_float('l2_leaf_reg', 0.1, 20),\n",
    "                'random_strength': trial.suggest_float('random_strength', 0.01, 10),\n",
    "            }\n",
    "        if params['bootstrap_type'] == 'Bayesian':\n",
    "            params['bagging_temperature'] = trial.suggest_float('bagging_temperature', 0, 10)\n",
    "        elif params['bootstrap_type'] == 'Bernoulli':\n",
    "            params['subsample'] = trial.suggest_float('subsample', 0.1, 1)\n",
    "\n",
    "        model_opt = CatBoostRegressor(**params)\n",
    "\n",
    "        model_opt.fit(x_train, y_train, \n",
    "            eval_set=[(x_train, y_train), (x_valid, y_valid)],  \n",
    "            early_stopping_rounds=100, \n",
    "            verbose=verbose)\n",
    "        oof_pred = model_opt.predict(x_valid)\n",
    "        oof_pred = np.clip(oof_pred, 0, 100)\n",
    "        score = mean_absolute_error(oof_pred, y_valid)\n",
    "        gc.collect()\n",
    "        return -score\n",
    "    return opt"
   ]
  },
  {
   "cell_type": "code",
   "execution_count": 14,
   "id": "4172d5e3",
   "metadata": {},
   "outputs": [],
   "source": [
    "# def fit_lgbm(x_train, y_train, x_valid, y_valid, params: dict=None, verbose=100):\n",
    "#     oof_pred = np.zeros(len(y_valid), dtype=np.float32)\n",
    "#     model = lgbm.LGBMRegressor(**params)\n",
    "#     model.fit(x_train, y_train, \n",
    "#         eval_set=[(x_valid, y_valid)],  \n",
    "#         early_stopping_rounds=verbose, \n",
    "#         verbose=verbose)\n",
    "#     oof_pred = model.predict(x_valid)\n",
    "#     oof_pred = np.clip(oof_pred, 0, 100)\n",
    "#     score = mean_absolute_error(oof_pred, y_valid)\n",
    "#     print('mae:', score)\n",
    "#     return oof_pred, model, score"
   ]
  },
  {
   "cell_type": "code",
   "execution_count": 15,
   "id": "fb770d9b",
   "metadata": {},
   "outputs": [],
   "source": [
    "def my_timeseries_fold(train):\n",
    "    \n",
    "    tr_idxs = []\n",
    "    val_idxs = []\n",
    "        \n",
    "    tr_idx = (train['date'].astype(int) < 20200801)\n",
    "    val_idx = (train['date'].astype(int) >= 20200801) & (train['date'].astype(int) < 20200901)\n",
    "    tr_idxs.append(tr_idx)\n",
    "    val_idxs.append(val_idx)\n",
    "\n",
    "    tr_idx = (train['date'].astype(int) < 20200901)\n",
    "    val_idx = (train['date'].astype(int) >= 20200901) & (train['date'].astype(int) < 20201001)\n",
    "    tr_idxs.append(tr_idx)\n",
    "    val_idxs.append(val_idx)\n",
    "    \n",
    "    tr_idx = (train['date'].astype(int) < 20210401)\n",
    "    val_idx = (train['date'].astype(int) >= 20210401) & (train['date'].astype(int) < 20210501)\n",
    "    tr_idxs.append(tr_idx)\n",
    "    val_idxs.append(val_idx)\n",
    "\n",
    "    tr_idx = (train['date'].astype(int) < 20210501)\n",
    "    val_idx = (train['date'].astype(int) >= 20210501) & (train['date'].astype(int) < 20210601)\n",
    "    tr_idxs.append(tr_idx)\n",
    "    val_idxs.append(val_idx)\n",
    "    \n",
    "    tr_idx = (train['date'].astype(int) < 20210601)\n",
    "    val_idx = (train['date'].astype(int) >= 20210601) & (train['date'].astype(int) < 20210701)\n",
    "    tr_idxs.append(tr_idx)\n",
    "    val_idxs.append(val_idx)\n",
    "    \n",
    "    return tr_idxs, val_idxs"
   ]
  },
  {
   "cell_type": "code",
   "execution_count": 16,
   "id": "777db6f5",
   "metadata": {},
   "outputs": [],
   "source": [
    "class Rt4kaidoTrain:\n",
    "    def __init__(self, usetimelinefeature=False):\n",
    "        \n",
    "        self.usetimelinefeature = usetimelinefeature\n",
    "        self.targets_cols = ['playerId', 'target1', 'target2', 'target3', 'target4', 'date']\n",
    "        self.players_cols = ['playerId', 'primaryPositionName', 'birthCity', 'DOY', 'mlbDebutYear', 'mlbDebutDate', 'DebutAge', 'heightInches', 'weight', 'playerForTestSetAndFuturePreds']\n",
    "        self.rosters_cols = ['playerId', 'teamId', 'status', 'date']\n",
    "        self.salaries_cols = ['teamId', 'salary', 'year']\n",
    "        self.standings_cols = ['teamId', 'wildCardRank', 'sportGamesBack', 'date']\n",
    "        self.transactions_cols = ['playerId', 'transaction_flag', 'date']\n",
    "        self.stat_cols = [\"playerId\", \"target1_mean\",\"target1_median\",\"target1_std\",\"target1_min\",\"target1_max\",\"target1_skew\",\"target1_kurt\",\n",
    "                        \"target2_mean\",\"target2_median\",\"target2_std\",\"target2_min\",\"target2_max\",\"target2_skew\",\"target2_kurt\",\n",
    "                        \"target3_mean\",\"target3_median\",\"target3_std\",\"target3_min\",\"target3_max\",\"target3_skew\",\"target3_kurt\",\n",
    "                        \"target4_mean\",\"target4_median\",\"target4_std\",\"target4_min\",\"target4_max\",\"target4_skew\",\"target4_kurt\",\n",
    "                        'tgt1_2_corr', 'tgt1_3_corr', 'tgt2_3_corr', 'tgt1_4_corr', 'tgt2_4_corr', 'tgt3_4_corr']\n",
    "\n",
    "        self.scores_cols = ['playerId', 'battingOrder', 'gamesPlayedBatting', 'flyOuts',\n",
    "               'groundOuts', 'runsScored', 'doubles', 'triples', 'homeRuns',\n",
    "               'strikeOuts', 'baseOnBalls', 'intentionalWalks', 'hits', 'hitByPitch',\n",
    "               'atBats', 'caughtStealing', 'stolenBases', 'groundIntoDoublePlay',\n",
    "               'groundIntoTriplePlay', 'plateAppearances', 'totalBases', 'rbi',\n",
    "               'leftOnBase', 'sacBunts', 'sacFlies', 'catchersInterference',\n",
    "               'pickoffs', 'gamesPlayedPitching', 'gamesStartedPitching',\n",
    "               'completeGamesPitching', 'shutoutsPitching', 'winsPitching',\n",
    "               'lossesPitching', 'flyOutsPitching', 'airOutsPitching',\n",
    "               'groundOutsPitching', 'runsPitching', 'doublesPitching',\n",
    "               'triplesPitching', 'homeRunsPitching', 'strikeOutsPitching',\n",
    "               'baseOnBallsPitching', 'intentionalWalksPitching', 'hitsPitching',\n",
    "               'hitByPitchPitching', 'atBatsPitching', 'caughtStealingPitching',\n",
    "               'stolenBasesPitching', 'inningsPitched', 'saveOpportunities',\n",
    "               'earnedRuns', 'battersFaced', 'outsPitching', 'pitchesThrown', 'balls',\n",
    "               'strikes', 'hitBatsmen', 'balks', 'wildPitches', 'pickoffsPitching',\n",
    "               'rbiPitching', 'gamesFinishedPitching', 'inheritedRunners',\n",
    "               'inheritedRunnersScored', 'catchersInterferencePitching',\n",
    "               'sacBuntsPitching', 'sacFliesPitching', 'saves', 'holds', 'blownSaves',\n",
    "               'assists', 'putOuts', 'errors', 'chances', 'date']\n",
    "\n",
    "        self.feature_cols1 = ['week_day','label_playerId', 'label_primaryPositionName', 'label_teamId',\n",
    "               'label_status', 'battingOrder', 'gamesPlayedBatting', 'flyOuts',\n",
    "               'groundOuts', 'runsScored', 'doubles', 'triples', 'homeRuns',\n",
    "               'strikeOuts', 'baseOnBalls', 'intentionalWalks', 'hits', 'hitByPitch',\n",
    "               'atBats', 'caughtStealing', 'stolenBases', 'groundIntoDoublePlay',\n",
    "               'groundIntoTriplePlay', 'plateAppearances', 'totalBases', 'rbi',\n",
    "               'leftOnBase', 'sacBunts', 'sacFlies', 'catchersInterference',\n",
    "               'pickoffs', 'gamesPlayedPitching', 'gamesStartedPitching',\n",
    "               'completeGamesPitching', 'shutoutsPitching', 'winsPitching',\n",
    "               'lossesPitching', 'flyOutsPitching', 'airOutsPitching',\n",
    "               'groundOutsPitching', 'runsPitching', 'doublesPitching',\n",
    "               'triplesPitching', 'homeRunsPitching', 'strikeOutsPitching',\n",
    "               'baseOnBallsPitching', 'intentionalWalksPitching', 'hitsPitching',\n",
    "               'hitByPitchPitching', 'atBatsPitching', 'caughtStealingPitching',\n",
    "               'stolenBasesPitching', 'inningsPitched', 'saveOpportunities',\n",
    "               'earnedRuns', 'battersFaced', 'outsPitching', 'pitchesThrown', 'balls',\n",
    "               'strikes', 'hitBatsmen', 'balks', 'wildPitches', 'pickoffsPitching',\n",
    "               'rbiPitching', 'gamesFinishedPitching', 'inheritedRunners',\n",
    "               'inheritedRunnersScored', 'catchersInterferencePitching',\n",
    "               'sacBuntsPitching', 'sacFliesPitching', 'saves', 'holds', 'blownSaves',\n",
    "               'assists', 'putOuts', 'errors', 'chances',\n",
    "                'season_info', 'wildCardRank', 'award_flag'] \n",
    "\n",
    "        self.feature_cols2 = ['label_playerId', 'label_primaryPositionName', 'label_teamId',\n",
    "               'label_status', 'battingOrder', 'gamesPlayedBatting', 'flyOuts',\n",
    "               'groundOuts', 'runsScored', 'doubles', 'triples', 'homeRuns',\n",
    "               'strikeOuts', 'baseOnBalls', 'intentionalWalks', 'hits', 'hitByPitch',\n",
    "               'atBats', 'caughtStealing', 'stolenBases', 'groundIntoDoublePlay',\n",
    "               'groundIntoTriplePlay', 'plateAppearances', 'totalBases', 'rbi',\n",
    "               'leftOnBase', 'sacBunts', 'sacFlies', 'catchersInterference',\n",
    "               'pickoffs', 'gamesPlayedPitching', 'gamesStartedPitching',\n",
    "               'completeGamesPitching', 'shutoutsPitching', 'winsPitching',\n",
    "               'lossesPitching', 'flyOutsPitching', 'airOutsPitching',\n",
    "               'groundOutsPitching', 'runsPitching', 'doublesPitching',\n",
    "               'triplesPitching', 'homeRunsPitching', 'strikeOutsPitching',\n",
    "               'baseOnBallsPitching', 'intentionalWalksPitching', 'hitsPitching',\n",
    "               'hitByPitchPitching', 'atBatsPitching', 'caughtStealingPitching',\n",
    "               'stolenBasesPitching', 'inningsPitched', 'saveOpportunities',\n",
    "               'earnedRuns', 'battersFaced', 'outsPitching', 'pitchesThrown', 'balls',\n",
    "               'strikes', 'hitBatsmen', 'balks', 'wildPitches', 'pickoffsPitching',\n",
    "               'rbiPitching', 'gamesFinishedPitching', 'inheritedRunners',\n",
    "               'inheritedRunnersScored', 'catchersInterferencePitching',\n",
    "               'sacBuntsPitching', 'sacFliesPitching', 'saves', 'holds', 'blownSaves',\n",
    "               'assists', 'putOuts', 'errors', 'chances',\n",
    "                'season_info', 'wildCardRank', 'award_flag'] \n",
    "\n",
    "        self.feature_cols3 = ['week_day','label_playerId', 'label_primaryPositionName', 'label_teamId',\n",
    "               'label_status', 'battingOrder', 'gamesPlayedBatting', 'flyOuts',\n",
    "               'groundOuts', 'runsScored', 'doubles', 'triples', 'homeRuns',\n",
    "               'strikeOuts', 'baseOnBalls', 'intentionalWalks', 'hits', 'hitByPitch',\n",
    "               'atBats', 'caughtStealing', 'stolenBases', 'groundIntoDoublePlay',\n",
    "               'groundIntoTriplePlay', 'plateAppearances', 'totalBases', 'rbi',\n",
    "               'leftOnBase', 'sacBunts', 'sacFlies', 'catchersInterference',\n",
    "               'pickoffs', 'gamesPlayedPitching', 'gamesStartedPitching',\n",
    "               'completeGamesPitching', 'shutoutsPitching', 'winsPitching',\n",
    "               'lossesPitching', 'flyOutsPitching', 'airOutsPitching',\n",
    "               'groundOutsPitching', 'runsPitching', 'doublesPitching',\n",
    "               'triplesPitching', 'homeRunsPitching', 'strikeOutsPitching',\n",
    "               'baseOnBallsPitching', 'intentionalWalksPitching', 'hitsPitching',\n",
    "               'hitByPitchPitching', 'atBatsPitching', 'caughtStealingPitching',\n",
    "               'stolenBasesPitching', 'inningsPitched', 'saveOpportunities',\n",
    "               'earnedRuns', 'battersFaced', 'outsPitching', 'pitchesThrown', 'balls',\n",
    "               'strikes', 'hitBatsmen', 'balks', 'wildPitches', 'pickoffsPitching',\n",
    "               'rbiPitching', 'gamesFinishedPitching', 'inheritedRunners',\n",
    "               'inheritedRunnersScored', 'catchersInterferencePitching',\n",
    "               'sacBuntsPitching', 'sacFliesPitching', 'saves', 'holds', 'blownSaves',\n",
    "               'assists', 'putOuts', 'errors', 'chances',\n",
    "                'season_info', 'wildCardRank', 'diffmlbDebutDateflag', 'sincemlbDebutDateflag', 'award_flag'] \n",
    "\n",
    "        self.feature_cols4 = ['week_day', 'annual_day', 'month', 'label_playerId', 'label_primaryPositionName', 'label_teamId', 'label_birthCity',\n",
    "                        'DOY', 'mlbDebutYear', 'DebutAge', 'heightInches', 'weight',\n",
    "               'label_status', 'battingOrder', 'gamesPlayedBatting', 'flyOuts',\n",
    "               'groundOuts', 'runsScored', 'doubles', 'triples', 'homeRuns',\n",
    "               'strikeOuts', 'baseOnBalls', 'intentionalWalks', 'hits', 'hitByPitch',\n",
    "               'atBats', 'caughtStealing', 'stolenBases', 'groundIntoDoublePlay',\n",
    "               'groundIntoTriplePlay', 'plateAppearances', 'totalBases', 'rbi',\n",
    "               'leftOnBase', 'sacBunts', 'sacFlies', 'catchersInterference',\n",
    "               'pickoffs', 'gamesPlayedPitching', 'gamesStartedPitching',\n",
    "               'completeGamesPitching', 'shutoutsPitching', 'winsPitching',\n",
    "               'lossesPitching', 'flyOutsPitching', 'airOutsPitching',\n",
    "               'groundOutsPitching', 'runsPitching', 'doublesPitching',\n",
    "               'triplesPitching', 'homeRunsPitching', 'strikeOutsPitching',\n",
    "               'baseOnBallsPitching', 'intentionalWalksPitching', 'hitsPitching',\n",
    "               'hitByPitchPitching', 'atBatsPitching', 'caughtStealingPitching',\n",
    "               'stolenBasesPitching', 'inningsPitched', 'saveOpportunities',\n",
    "               'earnedRuns', 'battersFaced', 'outsPitching', 'pitchesThrown', 'balls',\n",
    "               'strikes', 'hitBatsmen', 'balks', 'wildPitches', 'pickoffsPitching',\n",
    "               'rbiPitching', 'gamesFinishedPitching', 'inheritedRunners',\n",
    "               'inheritedRunnersScored', 'catchersInterferencePitching',\n",
    "               'sacBuntsPitching', 'sacFliesPitching', 'saves', 'holds', 'blownSaves',\n",
    "               'assists', 'putOuts', 'errors', 'chances',\n",
    "                'season_info', 'wildCardRank', 'diffmlbDebutDateflag', 'sincemlbDebutDateflag', 'award_flag'] \n",
    "        \n",
    "        \n",
    "        # lightgbm\n",
    "        self.params1 = {'objective':'mae',\n",
    "                       'reg_alpha': 0.14947461820098767, \n",
    "                       'reg_lambda': 0.10185644384043743, \n",
    "                       'n_estimators': 3633, \n",
    "                       'learning_rate': 0.08046301304430488, \n",
    "                       'num_leaves': 674, \n",
    "                       'feature_fraction': 0.9101240539122566, \n",
    "                       'bagging_fraction': 0.9884451442950513, \n",
    "                       'bagging_freq': 8, \n",
    "                       'min_child_samples': 51}\n",
    "\n",
    "\n",
    "        self.params2 = {'objective':'mae',\n",
    "                       'reg_alpha': 0.1,\n",
    "                       'reg_lambda': 0.1, \n",
    "                       'n_estimators': 80,\n",
    "                       'learning_rate': 0.1,\n",
    "                       'random_state': 42,\n",
    "                       \"num_leaves\": 22}\n",
    "\n",
    "\n",
    "\n",
    "        self.params3 = {'objective':'mae',\n",
    "                       'reg_alpha': 0.1,\n",
    "                       'reg_lambda': 0.1, \n",
    "                       'n_estimators': 10000,\n",
    "                       'learning_rate': 0.1,\n",
    "                       'random_state': 42,\n",
    "                       \"num_leaves\": 100}\n",
    "\n",
    "        self.params4 = {'objective':'mae',\n",
    "                       'reg_alpha': 0.016468100279441976, \n",
    "                       'reg_lambda': 0.09128335764019105, \n",
    "                       'n_estimators': 9868, \n",
    "                       'learning_rate': 0.10528150510326864, \n",
    "                       'num_leaves': 157, \n",
    "                       'feature_fraction': 0.5419185713426886, \n",
    "                       'bagging_fraction': 0.2637405128936662, \n",
    "                       'bagging_freq': 19, \n",
    "                       'min_child_samples': 71}\n",
    "\n",
    "    def make_feature(self, train_elements_dict):\n",
    "\n",
    "        players = train_elements_dict['players']\n",
    "        rosters = train_elements_dict['rosters']\n",
    "        targets = train_elements_dict['targets']\n",
    "        scores = train_elements_dict['scores']\n",
    "        seasons = train_elements_dict['seasons']\n",
    "        teams = train_elements_dict['teams']\n",
    "        standings = train_elements_dict['standings']\n",
    "\n",
    "        print('calc target stat ... ', end=\"\")\n",
    "\n",
    "        ## target stats\n",
    "        targets_train = targets.merge(rosters[self.rosters_cols], on=['playerId', 'date'], how='left')\n",
    "        targets_train = targets_train[(targets_train['date'] >= 20210601) & (targets_train['date'] < 20210701)]\n",
    "\n",
    "        playerId_list = targets_train['playerId'].unique()\n",
    "        player_target_probs = pd.DataFrame(columns = self.stat_cols)  \n",
    "        for pid in tqdm(playerId_list):\n",
    "            temp = targets_train[targets_train['playerId'] == pid]\n",
    "            player_target_stats=calc_probs(pid,player_target_probs,temp)\n",
    "\n",
    "        teamId_list = targets_train['teamId'].dropna().unique()\n",
    "        team_target_probs = pd.DataFrame(columns = self.stat_cols)\n",
    "        for pid in tqdm(teamId_list):\n",
    "            temp = targets_train[targets_train['teamId'] == pid]\n",
    "            team_target_stats=calc_probs(pid,team_target_probs,temp)\n",
    "\n",
    "        team_stat_cols = self.stat_cols\n",
    "        team_stat_cols = team_stat_cols[:1] + [\"team_\" + word for word in team_stat_cols[1:]]\n",
    "        team_target_stats.columns = team_stat_cols\n",
    "\n",
    "        self.feature_cols1 += self.stat_cols[1:-6]\n",
    "        self.feature_cols2 += self.stat_cols[1:-6]\n",
    "        self.feature_cols3 += self.stat_cols[1:-6]\n",
    "        self.feature_cols4 += self.stat_cols[1:-6]\n",
    "\n",
    "        self.feature_cols1 += team_stat_cols[1:]\n",
    "        self.feature_cols2 += team_stat_cols[1:]\n",
    "        self.feature_cols3 += team_stat_cols[1:]\n",
    "        self.feature_cols4 += team_stat_cols[1:]\n",
    "\n",
    "        print('done.')\n",
    "\n",
    "        print('preprocess ... ', end=\"\")\n",
    "        ## salaries\n",
    "        # salaries = salaries.groupby(['year', 'team']).sum()['salary'].reset_index()\n",
    "        # salaries['team'] = salaries['team'].apply(map_team_name)\n",
    "        # salaries = salaries.merge(teams, left_on='team', right_on='name', how='inner')\n",
    "        # salaries = salaries.rename(columns={'id': 'teamId'})\n",
    "\n",
    "        ## seasons\n",
    "        seasons = seasons.fillna('0000-00-00')\n",
    "        for c_ in seasons.columns[1:]:\n",
    "            seasons[c_] = seasons[c_].str.replace('-', '').astype(int)\n",
    "\n",
    "        ## players\n",
    "        players['DOY'] = pd.to_datetime(players['DOB'], format=\"%Y-%m-%d\").dt.year\n",
    "        players['mlbDebutYear'] = pd.to_datetime(players['mlbDebutDate'], format=\"%Y-%m-%d\").dt.year\n",
    "        players['DebutAge'] = players['mlbDebutYear'] - players['DOY']\n",
    "        players['mlbDebutDate'] = pd.to_numeric(players['mlbDebutDate'].str.replace('-', ''), errors=\"coerce\")\n",
    "\n",
    "        print('done.')\n",
    "\n",
    "        print('creat feature ... ', end=\"\")\n",
    "        # creat feature\n",
    "        train = targets[self.targets_cols].merge(players[self.players_cols], on=['playerId'], how='left')\n",
    "        train = train.merge(rosters[self.rosters_cols], on=['playerId', 'date'], how='left')\n",
    "        train = train.merge(scores[self.scores_cols], on=['playerId', 'date'], how='left')\n",
    "        train = train.merge(player_target_stats, how='inner', left_on=[\"playerId\"],right_on=[\"playerId\"])\n",
    "        train = train.merge(standings[self.standings_cols], on=['teamId', 'date'], how='left')\n",
    "        train = train.merge(team_target_stats, how='left', left_on=[\"teamId\"],right_on=[\"playerId\"], suffixes=('', 'team_'))\n",
    "        train = train.merge(awards, on=['playerId', 'date'], how='left')\n",
    "\n",
    "        \n",
    "        date_ = pd.to_datetime(train['date'], format=\"%Y%m%d\")\n",
    "        train['annual_day'] = (date_ - pd.to_datetime(date_.dt.year, format=\"%Y\")) /  timedelta(days=1)\n",
    "        train['week_day'] = date_.dt.weekday\n",
    "        train['month'] = date_.dt.month\n",
    "        train['year'] = date_.dt.year\n",
    "        train['mlbDebutDateflag'] = (train['mlbDebutDate'] == train['date']) * 1\n",
    "        train['sincemlbDebutDateflag'] = (train['date'] >= train['mlbDebutDate']) * 1\n",
    "        train['diffmlbDebutDateflag'] = (train['date'] - train['mlbDebutDate'])\n",
    "\n",
    "        # label encoding\n",
    "        player2num = {c: i for i, c in enumerate(train['playerId'].unique())}\n",
    "        position2num = {c: i for i, c in enumerate(train['primaryPositionName'].unique())}\n",
    "        birthCityn2num = {c: i for i, c in enumerate(train['birthCity'].unique())}\n",
    "        teamid2num = {c: i for i, c in enumerate(train['teamId'].unique())}\n",
    "        status2num = {c: i for i, c in enumerate(train['status'].unique())}\n",
    "        awardName2num = {c: i for i, c in enumerate(train['awardName'].unique())}\n",
    "        train['label_playerId'] = train['playerId'].map(player2num)\n",
    "        train['label_primaryPositionName'] = train['primaryPositionName'].map(position2num)\n",
    "        train['label_birthCity'] = train['birthCity'].map(birthCityn2num)\n",
    "        train['label_teamId'] = train['teamId'].map(teamid2num)\n",
    "        train['label_status'] = train['status'].map(status2num)\n",
    "        train['award_flag'] = train['awardSeason'].isna()*1\n",
    "\n",
    "\n",
    "        ## season_info\n",
    "        on_preseason_idxes = extract_season(train['date'], seasons[['preSeasonStartDate', 'preSeasonEndDate']])\n",
    "        on_season_idxes = extract_season(train['date'], seasons[['regularSeasonStartDate', 'regularSeasonEndDate']]) * 2\n",
    "        on_postseason_idxes = extract_season(train['date'], seasons[['postSeasonStartDate', 'postSeasonEndDate']]) * 3\n",
    "\n",
    "        special_days = seasons['lastDate1stHalf'].to_list() + seasons['allStarDate'].to_list() + seasons['firstDate2ndHalf'].to_list()\n",
    "        special_idxes = 0\n",
    "        for day in special_days:\n",
    "            special_idxes += (train['date'] == day) * 4\n",
    "\n",
    "        on_total_season_idxes = on_preseason_idxes\n",
    "        on_total_season_idxes[on_season_idxes==2] = 2\n",
    "        on_total_season_idxes[on_postseason_idxes==3] = 3\n",
    "        on_total_season_idxes[special_idxes==4] = 4\n",
    "\n",
    "        train['season_info'] = on_total_season_idxes\n",
    "\n",
    "        ## only on season\n",
    "        on_whole_idxes = extract_season(train['date'], seasons[['seasonStartDate', 'seasonEndDate']])\n",
    "        train = train[on_whole_idxes == 1].reset_index(drop=True)\n",
    "\n",
    "        # train = train.merge(playerTwitterFollowers, how='left', on=[\"playerId\", 'date'])\n",
    "\n",
    "        # only test_player\n",
    "        train = train[train['playerForTestSetAndFuturePreds']==True].reset_index(drop=True)\n",
    "\n",
    "        print('done.')\n",
    "        \n",
    "        train_features_dict = {'players': players,\n",
    "                               'seasons': seasons,\n",
    "                                'player_target_stats': player_target_stats,\n",
    "                                'team_target_stats': team_target_stats,\n",
    "                                'player2num': player2num, \n",
    "                                'position2num': position2num, \n",
    "                                'birthCityn2num': birthCityn2num,\n",
    "                                'teamid2num': teamid2num,\n",
    "                                'status2num': status2num,\n",
    "                                'feature_cols1': self.feature_cols1,\n",
    "                                'feature_cols2': self.feature_cols2,\n",
    "                                'feature_cols3': self.feature_cols3,\n",
    "                                'feature_cols4': self.feature_cols4,\n",
    "                                'rosters_cols_all': list(rosters.columns),\n",
    "                                'scores_cols_all': list(scores.columns),\n",
    "                                'standings_cols_all': list(standings.columns),\n",
    "                                'awards_cols_all': list(awards.columns)\n",
    "                              }\n",
    "        \n",
    "        if self.usetimelinefeature:\n",
    "            ## game_info\n",
    "            train['gameday'] = ~train['battingOrder'].isna()*1\n",
    "            train.sort_values(by=['playerId','date'],inplace=True,ascending=True)\n",
    "\n",
    "            train=count_consecutive_items_n_cols(train,['playerId','gameday'],'daysSinceLastGame')\n",
    "            train.loc[train['gameday']==1,'daysSinceLastGame'] = 0\n",
    "\n",
    "            train_game = train[train['gameday']==1]\n",
    "            train_last_game = train_game[~train_game.duplicated(subset='playerId', keep='last')][['playerId', 'date']]\n",
    "            train_last_game.columns = ['playerId', 'lastdate']\n",
    "            train_player_unique = pd.DataFrame(train['playerId'].unique(), columns=['playerId'])\n",
    "            train_last_game = pd.merge(train_player_unique, train_last_game, on=['playerId'], how='left' )\n",
    "            train_last_game = train_last_game.fillna(20171231)\n",
    "            \n",
    "            train_features_dict['train_last_game'] = train_last_game\n",
    "            self.feature_cols1 += ['daysSinceLastGame']\n",
    "            self.feature_cols2 += ['daysSinceLastGame']\n",
    "            self.feature_cols3 += ['daysSinceLastGame']\n",
    "            self.feature_cols4 += ['daysSinceLastGame']\n",
    "            \n",
    "            \n",
    "            ## rosters_info\n",
    "            train['rosterday'] = ~train['status'].isna()*1\n",
    "            train.sort_values(by=['playerId','date'],inplace=True,ascending=True)\n",
    "\n",
    "            train=count_consecutive_items_n_cols(train,['playerId','rosterday'],'daysSinceLastRoster')\n",
    "            train.loc[train['rosterday']==1,'daysSinceLastRoster'] = 0\n",
    "\n",
    "            train_roster= train[train['rosterday']==1]\n",
    "            train_last_roster = train_roster[~train_roster.duplicated(subset='playerId', keep='last')][['playerId', 'date']]\n",
    "            train_last_roster.columns = ['playerId', 'lastroster']\n",
    "            train_player_unique = pd.DataFrame(train['playerId'].unique(), columns=['playerId'])\n",
    "            train_last_roster = pd.merge(train_player_unique, train_last_roster, on=['playerId'], how='left' )\n",
    "            train_last_roster = train_last_roster.fillna(20171231)\n",
    "            \n",
    "            train_features_dict['train_last_roster'] = train_last_roster\n",
    "            self.feature_cols1 += ['daysSinceLastRoster']\n",
    "            self.feature_cols2 += ['daysSinceLastRoster']\n",
    "            self.feature_cols3 += ['daysSinceLastRoster']\n",
    "            self.feature_cols4 += ['daysSinceLastRoster']\n",
    "\n",
    "\n",
    "        return train, train_features_dict\n",
    "    \n",
    "    def train_and_evaluate(self, train, isgamedayonly=False):\n",
    "        \n",
    "        if isgamedayonly:\n",
    "            train = train[train['gameday'] == 1].reset_index(drop=True)\n",
    "            \n",
    "        train_X = train\n",
    "        train_y = train[['target1', 'target2', 'target3', 'target4']]\n",
    "\n",
    "        oof = np.zeros(train_y.shape) - 1.0\n",
    "        y_valids = np.zeros(train_y.shape) - 1.0\n",
    "\n",
    "        tr_idx = (train['date'].astype(int) < 20210401)\n",
    "        val_idx = ~tr_idx\n",
    "\n",
    "        x_train = train_X.loc[tr_idx].reset_index(drop=True)\n",
    "        y_train = train_y.loc[tr_idx].reset_index(drop=True)\n",
    "        x_valid = train_X.loc[val_idx].reset_index(drop=True)\n",
    "        y_valid = train_y.loc[val_idx].reset_index(drop=True)\n",
    "\n",
    "        study1 = optuna.create_study(direction='maximize')\n",
    "        study1.optimize(fit_cat(x_train[self.feature_cols1], y_train['target1'], \n",
    "                                 x_valid[self.feature_cols1], y_valid['target1']), n_trials=100)\n",
    "        \n",
    "        study2 = optuna.create_study(direction='maximize')\n",
    "        study2.optimize(fit_cat(x_train[self.feature_cols2], y_train['target2'], \n",
    "                                 x_valid[self.feature_cols2], y_valid['target2']), n_trials=100)\n",
    "        \n",
    "        study3 = optuna.create_study(direction='maximize')\n",
    "        study3.optimize(fit_cat(x_train[self.feature_cols3], y_train['target3'], \n",
    "                                 x_valid[self.feature_cols3], y_valid['target3']), n_trials=100)\n",
    "        \n",
    "        study4 = optuna.create_study(direction='maximize')\n",
    "        study4.optimize(fit_cat(x_train[self.feature_cols4], y_train['target4'], \n",
    "                                 x_valid[self.feature_cols4], y_valid['target4']), n_trials=100)\n",
    "\n",
    "#         oof1, model1, score1 = fit_lgbm(\n",
    "#             x_train[self.feature_cols1], y_train['target1'],\n",
    "#             x_valid[self.feature_cols1], y_valid['target1'],\n",
    "# #             self.params1\n",
    "#         )\n",
    "#         oof2, model2, score2 = fit_lgbm(\n",
    "#             x_train[self.feature_cols2], y_train['target2'],\n",
    "#             x_valid[self.feature_cols2], y_valid['target2'],\n",
    "# #             self.params2\n",
    "#         )\n",
    "#         oof3, model3, score3 = fit_lgbm(\n",
    "#             x_train[self.feature_cols3], y_train['target3'],\n",
    "#             x_valid[self.feature_cols3], y_valid['target3'],\n",
    "# #             self.params3\n",
    "#         )\n",
    "#         oof4, model4, score4 = fit_lgbm(\n",
    "#             x_train[self.feature_cols4], y_train['target4'],\n",
    "#             x_valid[self.feature_cols4], y_valid['target4'],\n",
    "# #             self.params4\n",
    "#         )\n",
    "\n",
    "#         score = (score1+score2+score3+score4) / 4\n",
    "#         print(f'score: {score}')\n",
    "\n",
    "#         oof[val_idx, 0] = oof1\n",
    "#         oof[val_idx, 1] = oof2\n",
    "#         oof[val_idx, 2] = oof3\n",
    "#         oof[val_idx, 3] = oof4\n",
    "#         y_valids[val_idx, 0] = y_valid['target1'].values\n",
    "#         y_valids[val_idx, 1] = y_valid['target2'].values\n",
    "#         y_valids[val_idx, 2] = y_valid['target3'].values\n",
    "#         y_valids[val_idx, 3] = y_valid['target4'].values\n",
    "\n",
    "#         mae = mean_absolute_error(y_valids[val_idx, :], oof[val_idx, :])\n",
    "#         print(\"mae:\", mae)\n",
    "\n",
    "#         val_idx_num = val_idx[val_idx==True].index.to_list()\n",
    "\n",
    "#         oof_df = train[self.targets_cols]\n",
    "#         oof_df.iloc[val_idx_num, 1:5] = oof[val_idx_num, :]\n",
    "\n",
    "#         models = np.array([model1, model2, model3, model4])\n",
    "\n",
    "        return study1, study2, study3, study4"
   ]
  },
  {
   "cell_type": "code",
   "execution_count": 17,
   "id": "c4b94a91",
   "metadata": {},
   "outputs": [
    {
     "name": "stdout",
     "output_type": "stream",
     "text": [
      "calc target stat ... "
     ]
    },
    {
     "name": "stderr",
     "output_type": "stream",
     "text": [
      "100%|██████████| 2061/2061 [00:45<00:00, 45.00it/s]\n",
      "100%|██████████| 30/30 [00:00<00:00, 42.35it/s]\n"
     ]
    },
    {
     "name": "stdout",
     "output_type": "stream",
     "text": [
      "done.\n",
      "preprocess ... done.\n",
      "creat feature ... done.\n"
     ]
    }
   ],
   "source": [
    "rt4kaido_train = Rt4kaidoTrain(usetimelinefeature=True)\n",
    "train, train_features_dict = rt4kaido_train.make_feature(train_elements_dict)"
   ]
  },
  {
   "cell_type": "code",
   "execution_count": 18,
   "id": "5b7bf75f",
   "metadata": {},
   "outputs": [
    {
     "name": "stderr",
     "output_type": "stream",
     "text": [
      "\u001b[32m[I 2021-07-30 10:59:17,045]\u001b[0m A new study created in memory with name: no-name-075ef2d9-0239-4b87-8906-9a347a4d1cda\u001b[0m\n"
     ]
    },
    {
     "name": "stdout",
     "output_type": "stream",
     "text": [
      "0:\tlearn: 1.0070032\ttest: 1.0070032\ttest1: 1.3091436\tbest: 1.3091436 (0)\ttotal: 149ms\tremaining: 24m 47s\n",
      "100:\tlearn: 0.8795322\ttest: 0.8795322\ttest1: 1.1366379\tbest: 1.1366379 (100)\ttotal: 9.83s\tremaining: 16m 3s\n",
      "200:\tlearn: 0.8614431\ttest: 0.8614431\ttest1: 1.1200983\tbest: 1.1195490 (186)\ttotal: 18.7s\tremaining: 15m 10s\n",
      "300:\tlearn: 0.8564996\ttest: 0.8564996\ttest1: 1.1184457\tbest: 1.1182577 (225)\ttotal: 27.5s\tremaining: 14m 45s\n",
      "400:\tlearn: 0.8506932\ttest: 0.8506932\ttest1: 1.1129259\tbest: 1.1129012 (393)\ttotal: 36.3s\tremaining: 14m 28s\n",
      "500:\tlearn: 0.8464566\ttest: 0.8464566\ttest1: 1.1101036\tbest: 1.1100867 (498)\ttotal: 45.2s\tremaining: 14m 16s\n",
      "600:\tlearn: 0.8435849\ttest: 0.8435849\ttest1: 1.1096304\tbest: 1.1096062 (589)\ttotal: 54s\tremaining: 14m 4s\n",
      "700:\tlearn: 0.8405729\ttest: 0.8405729\ttest1: 1.1083520\tbest: 1.1075921 (666)\ttotal: 1m 2s\tremaining: 13m 53s\n",
      "800:\tlearn: 0.8382017\ttest: 0.8382017\ttest1: 1.1076024\tbest: 1.1075833 (757)\ttotal: 1m 11s\tremaining: 13m 43s\n",
      "900:\tlearn: 0.8354383\ttest: 0.8354383\ttest1: 1.1088079\tbest: 1.1074459 (823)\ttotal: 1m 20s\tremaining: 13m 33s\n"
     ]
    },
    {
     "name": "stderr",
     "output_type": "stream",
     "text": [
      "\u001b[32m[I 2021-07-30 11:00:40,477]\u001b[0m Trial 0 finished with value: -1.1064750162563115 and parameters: {'colsample_bylevel': 0.053078297281908174, 'depth': 10, 'boosting_type': 'Plain', 'bootstrap_type': 'MVS', 'l2_leaf_reg': 11.067061321366586, 'random_strength': 4.577671304734907}. Best is trial 0 with value: -1.1064750162563115.\u001b[0m\n"
     ]
    },
    {
     "name": "stdout",
     "output_type": "stream",
     "text": [
      "Stopped by overfitting detector  (100 iterations wait)\n",
      "\n",
      "bestTest = 1.107445864\n",
      "bestIteration = 823\n",
      "\n",
      "Shrink model to first 824 iterations.\n",
      "0:\tlearn: 1.0026641\ttest: 1.0026641\ttest1: 1.3017539\tbest: 1.3017539 (0)\ttotal: 140ms\tremaining: 23m 15s\n",
      "100:\tlearn: 0.9133770\ttest: 0.9133770\ttest1: 1.1748147\tbest: 1.1748119 (98)\ttotal: 12s\tremaining: 19m 33s\n",
      "200:\tlearn: 0.9030384\ttest: 0.9030384\ttest1: 1.1601280\tbest: 1.1601203 (198)\ttotal: 23.1s\tremaining: 18m 47s\n",
      "300:\tlearn: 0.8990872\ttest: 0.8990872\ttest1: 1.1553555\tbest: 1.1553352 (285)\ttotal: 34.2s\tremaining: 18m 21s\n",
      "400:\tlearn: 0.8956200\ttest: 0.8956200\ttest1: 1.1508955\tbest: 1.1508955 (400)\ttotal: 45.2s\tremaining: 18m 2s\n",
      "500:\tlearn: 0.8939251\ttest: 0.8939251\ttest1: 1.1487650\tbest: 1.1487514 (495)\ttotal: 56.3s\tremaining: 17m 47s\n",
      "600:\tlearn: 0.8930538\ttest: 0.8930538\ttest1: 1.1493263\tbest: 1.1485749 (563)\ttotal: 1m 7s\tremaining: 17m 33s\n",
      "700:\tlearn: 0.8899652\ttest: 0.8899652\ttest1: 1.1433782\tbest: 1.1433669 (692)\ttotal: 1m 18s\tremaining: 17m 19s\n",
      "800:\tlearn: 0.8886983\ttest: 0.8886983\ttest1: 1.1420162\tbest: 1.1419644 (794)\ttotal: 1m 29s\tremaining: 17m 5s\n",
      "900:\tlearn: 0.8868266\ttest: 0.8868266\ttest1: 1.1390139\tbest: 1.1389154 (892)\ttotal: 1m 40s\tremaining: 16m 52s\n",
      "1000:\tlearn: 0.8848787\ttest: 0.8848787\ttest1: 1.1371909\tbest: 1.1371909 (1000)\ttotal: 1m 51s\tremaining: 16m 40s\n",
      "1100:\tlearn: 0.8829063\ttest: 0.8829063\ttest1: 1.1342182\tbest: 1.1340984 (1088)\ttotal: 2m 2s\tremaining: 16m 28s\n",
      "1200:\tlearn: 0.8800539\ttest: 0.8800539\ttest1: 1.1305652\tbest: 1.1304456 (1191)\ttotal: 2m 13s\tremaining: 16m 15s\n",
      "1300:\tlearn: 0.8787683\ttest: 0.8787683\ttest1: 1.1290473\tbest: 1.1287804 (1251)\ttotal: 2m 24s\tremaining: 16m 4s\n"
     ]
    },
    {
     "name": "stderr",
     "output_type": "stream",
     "text": [
      "\u001b[32m[I 2021-07-30 11:03:10,970]\u001b[0m Trial 1 finished with value: -1.1282946460131222 and parameters: {'colsample_bylevel': 0.0982659511318957, 'depth': 6, 'boosting_type': 'Ordered', 'bootstrap_type': 'Bayesian', 'l2_leaf_reg': 18.533046410556047, 'random_strength': 7.571309607498056, 'bagging_temperature': 6.857030461312677}. Best is trial 0 with value: -1.1064750162563115.\u001b[0m\n"
     ]
    },
    {
     "name": "stdout",
     "output_type": "stream",
     "text": [
      "Stopped by overfitting detector  (100 iterations wait)\n",
      "\n",
      "bestTest = 1.128780449\n",
      "bestIteration = 1251\n",
      "\n",
      "Shrink model to first 1252 iterations.\n",
      "0:\tlearn: 1.0050061\ttest: 1.0050061\ttest1: 1.3053914\tbest: 1.3053914 (0)\ttotal: 115ms\tremaining: 19m 9s\n",
      "100:\tlearn: 0.9217709\ttest: 0.9217709\ttest1: 1.1996060\tbest: 1.1994681 (97)\ttotal: 8.86s\tremaining: 14m 28s\n",
      "200:\tlearn: 0.9082705\ttest: 0.9082705\ttest1: 1.1826984\tbest: 1.1826866 (198)\ttotal: 16.9s\tremaining: 13m 44s\n",
      "300:\tlearn: 0.9025472\ttest: 0.9025472\ttest1: 1.1777580\tbest: 1.1772884 (284)\ttotal: 24.9s\tremaining: 13m 21s\n",
      "400:\tlearn: 0.8961364\ttest: 0.8961364\ttest1: 1.1686229\tbest: 1.1686197 (394)\ttotal: 32.9s\tremaining: 13m 6s\n",
      "500:\tlearn: 0.8895799\ttest: 0.8895799\ttest1: 1.1606796\tbest: 1.1600418 (472)\ttotal: 40.8s\tremaining: 12m 54s\n",
      "600:\tlearn: 0.8860046\ttest: 0.8860046\ttest1: 1.1560537\tbest: 1.1560448 (550)\ttotal: 48.8s\tremaining: 12m 43s\n",
      "700:\tlearn: 0.8832026\ttest: 0.8832026\ttest1: 1.1518514\tbest: 1.1513567 (671)\ttotal: 56.8s\tremaining: 12m 33s\n",
      "800:\tlearn: 0.8818705\ttest: 0.8818705\ttest1: 1.1523214\tbest: 1.1513250 (743)\ttotal: 1m 4s\tremaining: 12m 24s\n"
     ]
    },
    {
     "name": "stderr",
     "output_type": "stream",
     "text": [
      "\u001b[32m[I 2021-07-30 11:04:19,762]\u001b[0m Trial 2 finished with value: -1.150622799324356 and parameters: {'colsample_bylevel': 0.062393600989389106, 'depth': 7, 'boosting_type': 'Plain', 'bootstrap_type': 'Bayesian', 'l2_leaf_reg': 3.770849591166828, 'random_strength': 5.485650991418336, 'bagging_temperature': 7.577827321944952}. Best is trial 0 with value: -1.1064750162563115.\u001b[0m\n"
     ]
    },
    {
     "name": "stdout",
     "output_type": "stream",
     "text": [
      "Stopped by overfitting detector  (100 iterations wait)\n",
      "\n",
      "bestTest = 1.151325011\n",
      "bestIteration = 743\n",
      "\n",
      "Shrink model to first 744 iterations.\n",
      "0:\tlearn: 1.0009920\ttest: 1.0009920\ttest1: 1.3002907\tbest: 1.3002907 (0)\ttotal: 129ms\tremaining: 21m 33s\n",
      "100:\tlearn: 0.8810884\ttest: 0.8810884\ttest1: 1.1414000\tbest: 1.1414000 (100)\ttotal: 10s\tremaining: 16m 23s\n",
      "200:\tlearn: 0.8673405\ttest: 0.8673405\ttest1: 1.1308181\tbest: 1.1305784 (198)\ttotal: 19.5s\tremaining: 15m 49s\n",
      "300:\tlearn: 0.8615078\ttest: 0.8615078\ttest1: 1.1312615\tbest: 1.1297511 (218)\ttotal: 28.8s\tremaining: 15m 28s\n"
     ]
    },
    {
     "name": "stderr",
     "output_type": "stream",
     "text": [
      "\u001b[32m[I 2021-07-30 11:04:50,803]\u001b[0m Trial 3 finished with value: -1.1294133885729318 and parameters: {'colsample_bylevel': 0.09468055471135485, 'depth': 10, 'boosting_type': 'Plain', 'bootstrap_type': 'Bayesian', 'l2_leaf_reg': 12.21478423379708, 'random_strength': 1.598160962657589, 'bagging_temperature': 4.304405011828153}. Best is trial 0 with value: -1.1064750162563115.\u001b[0m\n"
     ]
    },
    {
     "name": "stdout",
     "output_type": "stream",
     "text": [
      "Stopped by overfitting detector  (100 iterations wait)\n",
      "\n",
      "bestTest = 1.129751062\n",
      "bestIteration = 218\n",
      "\n",
      "Shrink model to first 219 iterations.\n",
      "0:\tlearn: 1.0034358\ttest: 1.0034358\ttest1: 1.3027354\tbest: 1.3027354 (0)\ttotal: 109ms\tremaining: 18m 9s\n",
      "100:\tlearn: 0.9160242\ttest: 0.9160242\ttest1: 1.1769577\tbest: 1.1769577 (100)\ttotal: 7.89s\tremaining: 12m 52s\n",
      "200:\tlearn: 0.8959003\ttest: 0.8959003\ttest1: 1.1451855\tbest: 1.1451855 (200)\ttotal: 15.2s\tremaining: 12m 21s\n",
      "300:\tlearn: 0.8906971\ttest: 0.8906971\ttest1: 1.1371345\tbest: 1.1371268 (293)\ttotal: 22.4s\tremaining: 12m 2s\n",
      "400:\tlearn: 0.8857807\ttest: 0.8857807\ttest1: 1.1297491\tbest: 1.1297333 (399)\ttotal: 29.6s\tremaining: 11m 48s\n",
      "500:\tlearn: 0.8818331\ttest: 0.8818331\ttest1: 1.1238258\tbest: 1.1238258 (500)\ttotal: 36.8s\tremaining: 11m 38s\n",
      "600:\tlearn: 0.8809111\ttest: 0.8809111\ttest1: 1.1224212\tbest: 1.1223925 (586)\ttotal: 44.1s\tremaining: 11m 29s\n",
      "700:\tlearn: 0.8805790\ttest: 0.8805790\ttest1: 1.1223120\tbest: 1.1221552 (688)\ttotal: 51.3s\tremaining: 11m 20s\n",
      "800:\tlearn: 0.8784171\ttest: 0.8784171\ttest1: 1.1192136\tbest: 1.1192133 (799)\ttotal: 58.6s\tremaining: 11m 12s\n",
      "900:\tlearn: 0.8768024\ttest: 0.8768024\ttest1: 1.1164235\tbest: 1.1164235 (899)\ttotal: 1m 5s\tremaining: 11m 4s\n",
      "1000:\tlearn: 0.8763504\ttest: 0.8763504\ttest1: 1.1157859\tbest: 1.1157692 (979)\ttotal: 1m 13s\tremaining: 10m 56s\n",
      "1100:\tlearn: 0.8759634\ttest: 0.8759634\ttest1: 1.1154026\tbest: 1.1153951 (1084)\ttotal: 1m 20s\tremaining: 10m 49s\n",
      "1200:\tlearn: 0.8750344\ttest: 0.8750344\ttest1: 1.1140664\tbest: 1.1140565 (1195)\ttotal: 1m 27s\tremaining: 10m 41s\n",
      "1300:\tlearn: 0.8730000\ttest: 0.8730000\ttest1: 1.1116775\tbest: 1.1116345 (1275)\ttotal: 1m 34s\tremaining: 10m 34s\n",
      "1400:\tlearn: 0.8727648\ttest: 0.8727648\ttest1: 1.1115051\tbest: 1.1115000 (1389)\ttotal: 1m 42s\tremaining: 10m 26s\n",
      "1500:\tlearn: 0.8722951\ttest: 0.8722951\ttest1: 1.1109460\tbest: 1.1108708 (1463)\ttotal: 1m 49s\tremaining: 10m 19s\n",
      "1600:\tlearn: 0.8707573\ttest: 0.8707573\ttest1: 1.1087551\tbest: 1.1087365 (1595)\ttotal: 1m 56s\tremaining: 10m 11s\n",
      "1700:\tlearn: 0.8698237\ttest: 0.8698237\ttest1: 1.1082130\tbest: 1.1081919 (1688)\ttotal: 2m 3s\tremaining: 10m 4s\n",
      "1800:\tlearn: 0.8697543\ttest: 0.8697543\ttest1: 1.1081307\tbest: 1.1081257 (1786)\ttotal: 2m 11s\tremaining: 9m 56s\n",
      "1900:\tlearn: 0.8681981\ttest: 0.8681981\ttest1: 1.1066230\tbest: 1.1066230 (1900)\ttotal: 2m 18s\tremaining: 9m 49s\n",
      "2000:\tlearn: 0.8666631\ttest: 0.8666631\ttest1: 1.1042677\tbest: 1.1042636 (1993)\ttotal: 2m 25s\tremaining: 9m 41s\n",
      "2100:\tlearn: 0.8658875\ttest: 0.8658875\ttest1: 1.1034896\tbest: 1.1034892 (2097)\ttotal: 2m 32s\tremaining: 9m 34s\n",
      "2200:\tlearn: 0.8653796\ttest: 0.8653796\ttest1: 1.1033946\tbest: 1.1033899 (2198)\ttotal: 2m 39s\tremaining: 9m 26s\n",
      "2300:\tlearn: 0.8645885\ttest: 0.8645885\ttest1: 1.1028903\tbest: 1.1028903 (2300)\ttotal: 2m 47s\tremaining: 9m 19s\n",
      "2400:\tlearn: 0.8642159\ttest: 0.8642159\ttest1: 1.1027240\tbest: 1.1026488 (2377)\ttotal: 2m 54s\tremaining: 9m 12s\n",
      "2500:\tlearn: 0.8635759\ttest: 0.8635759\ttest1: 1.1023774\tbest: 1.1023739 (2488)\ttotal: 3m 1s\tremaining: 9m 4s\n",
      "2600:\tlearn: 0.8633984\ttest: 0.8633984\ttest1: 1.1021615\tbest: 1.1021615 (2600)\ttotal: 3m 8s\tremaining: 8m 57s\n",
      "2700:\tlearn: 0.8622649\ttest: 0.8622649\ttest1: 1.1002505\tbest: 1.1002503 (2695)\ttotal: 3m 16s\tremaining: 8m 50s\n",
      "2800:\tlearn: 0.8621456\ttest: 0.8621456\ttest1: 1.1000738\tbest: 1.1000720 (2795)\ttotal: 3m 23s\tremaining: 8m 42s\n"
     ]
    },
    {
     "name": "stderr",
     "output_type": "stream",
     "text": [
      "\u001b[32m[I 2021-07-30 11:08:21,827]\u001b[0m Trial 4 finished with value: -1.099243252348961 and parameters: {'colsample_bylevel': 0.09587801761013927, 'depth': 4, 'boosting_type': 'Plain', 'bootstrap_type': 'MVS', 'l2_leaf_reg': 10.552169738533387, 'random_strength': 8.864570982251331}. Best is trial 4 with value: -1.099243252348961.\u001b[0m\n"
     ]
    },
    {
     "name": "stdout",
     "output_type": "stream",
     "text": [
      "Stopped by overfitting detector  (100 iterations wait)\n",
      "\n",
      "bestTest = 1.100072004\n",
      "bestIteration = 2795\n",
      "\n",
      "Shrink model to first 2796 iterations.\n",
      "0:\tlearn: 1.0026134\ttest: 1.0026134\ttest1: 1.3018831\tbest: 1.3018831 (0)\ttotal: 117ms\tremaining: 19m 31s\n",
      "100:\tlearn: 0.8946974\ttest: 0.8946974\ttest1: 1.1496771\tbest: 1.1496771 (100)\ttotal: 9.64s\tremaining: 15m 44s\n",
      "200:\tlearn: 0.8790777\ttest: 0.8790777\ttest1: 1.1298308\tbest: 1.1298111 (192)\ttotal: 17.9s\tremaining: 14m 32s\n",
      "300:\tlearn: 0.8714336\ttest: 0.8714336\ttest1: 1.1204319\tbest: 1.1203529 (295)\ttotal: 26.2s\tremaining: 14m 3s\n",
      "400:\tlearn: 0.8685847\ttest: 0.8685847\ttest1: 1.1179697\tbest: 1.1176514 (373)\ttotal: 34.4s\tremaining: 13m 43s\n",
      "500:\tlearn: 0.8660839\ttest: 0.8660839\ttest1: 1.1153013\tbest: 1.1153013 (500)\ttotal: 42.7s\tremaining: 13m 29s\n",
      "600:\tlearn: 0.8647337\ttest: 0.8647337\ttest1: 1.1129286\tbest: 1.1128456 (584)\ttotal: 50.9s\tremaining: 13m 16s\n",
      "700:\tlearn: 0.8624895\ttest: 0.8624895\ttest1: 1.1117693\tbest: 1.1116970 (690)\ttotal: 59.2s\tremaining: 13m 5s\n",
      "800:\tlearn: 0.8591855\ttest: 0.8591855\ttest1: 1.1090775\tbest: 1.1090641 (783)\ttotal: 1m 7s\tremaining: 12m 55s\n",
      "900:\tlearn: 0.8577240\ttest: 0.8577240\ttest1: 1.1079218\tbest: 1.1079218 (900)\ttotal: 1m 15s\tremaining: 12m 45s\n",
      "1000:\tlearn: 0.8561838\ttest: 0.8561838\ttest1: 1.1067123\tbest: 1.1067123 (1000)\ttotal: 1m 24s\tremaining: 12m 35s\n",
      "1100:\tlearn: 0.8545538\ttest: 0.8545538\ttest1: 1.1050045\tbest: 1.1050011 (1097)\ttotal: 1m 32s\tremaining: 12m 26s\n",
      "1200:\tlearn: 0.8530410\ttest: 0.8530410\ttest1: 1.1049665\tbest: 1.1038732 (1180)\ttotal: 1m 40s\tremaining: 12m 17s\n"
     ]
    },
    {
     "name": "stderr",
     "output_type": "stream",
     "text": [
      "\u001b[32m[I 2021-07-30 11:10:09,690]\u001b[0m Trial 5 finished with value: -1.103214789771896 and parameters: {'colsample_bylevel': 0.06441317919542545, 'depth': 7, 'boosting_type': 'Plain', 'bootstrap_type': 'MVS', 'l2_leaf_reg': 17.78919260153836, 'random_strength': 6.47945449440275}. Best is trial 4 with value: -1.099243252348961.\u001b[0m\n"
     ]
    },
    {
     "name": "stdout",
     "output_type": "stream",
     "text": [
      "Stopped by overfitting detector  (100 iterations wait)\n",
      "\n",
      "bestTest = 1.103873236\n",
      "bestIteration = 1180\n",
      "\n",
      "Shrink model to first 1181 iterations.\n",
      "0:\tlearn: 1.0073984\ttest: 1.0073984\ttest1: 1.3095991\tbest: 1.3095991 (0)\ttotal: 106ms\tremaining: 17m 37s\n",
      "100:\tlearn: 0.9331657\ttest: 0.9331657\ttest1: 1.2096931\tbest: 1.2096931 (100)\ttotal: 7.49s\tremaining: 12m 14s\n",
      "200:\tlearn: 0.9208077\ttest: 0.9208077\ttest1: 1.1915042\tbest: 1.1915042 (200)\ttotal: 14.2s\tremaining: 11m 33s\n",
      "300:\tlearn: 0.9155892\ttest: 0.9155892\ttest1: 1.1825002\tbest: 1.1824961 (298)\ttotal: 20.9s\tremaining: 11m 12s\n",
      "400:\tlearn: 0.9067168\ttest: 0.9067168\ttest1: 1.1680535\tbest: 1.1680535 (400)\ttotal: 27.5s\tremaining: 10m 57s\n",
      "500:\tlearn: 0.9033001\ttest: 0.9033001\ttest1: 1.1630278\tbest: 1.1630278 (500)\ttotal: 34s\tremaining: 10m 43s\n",
      "600:\tlearn: 0.9015414\ttest: 0.9015414\ttest1: 1.1597825\tbest: 1.1597801 (599)\ttotal: 40.4s\tremaining: 10m 32s\n",
      "700:\tlearn: 0.8990200\ttest: 0.8990200\ttest1: 1.1552036\tbest: 1.1552022 (699)\ttotal: 46.8s\tremaining: 10m 21s\n",
      "800:\tlearn: 0.8977343\ttest: 0.8977343\ttest1: 1.1525732\tbest: 1.1525732 (800)\ttotal: 53.3s\tremaining: 10m 12s\n",
      "900:\tlearn: 0.8952809\ttest: 0.8952809\ttest1: 1.1470081\tbest: 1.1470049 (899)\ttotal: 59.9s\tremaining: 10m 5s\n",
      "1000:\tlearn: 0.8939885\ttest: 0.8939885\ttest1: 1.1448614\tbest: 1.1448614 (999)\ttotal: 1m 6s\tremaining: 9m 57s\n",
      "1100:\tlearn: 0.8931730\ttest: 0.8931730\ttest1: 1.1436892\tbest: 1.1436743 (1096)\ttotal: 1m 13s\tremaining: 9m 50s\n",
      "1200:\tlearn: 0.8924514\ttest: 0.8924514\ttest1: 1.1426518\tbest: 1.1426092 (1193)\ttotal: 1m 19s\tremaining: 9m 42s\n",
      "1300:\tlearn: 0.8914011\ttest: 0.8914011\ttest1: 1.1411548\tbest: 1.1411516 (1299)\ttotal: 1m 25s\tremaining: 9m 34s\n",
      "1400:\tlearn: 0.8896475\ttest: 0.8896475\ttest1: 1.1385811\tbest: 1.1385811 (1399)\ttotal: 1m 32s\tremaining: 9m 28s\n",
      "1500:\tlearn: 0.8884145\ttest: 0.8884145\ttest1: 1.1358663\tbest: 1.1358601 (1496)\ttotal: 1m 39s\tremaining: 9m 20s\n",
      "1600:\tlearn: 0.8876333\ttest: 0.8876333\ttest1: 1.1343307\tbest: 1.1342998 (1597)\ttotal: 1m 45s\tremaining: 9m 13s\n",
      "1700:\tlearn: 0.8866283\ttest: 0.8866283\ttest1: 1.1327813\tbest: 1.1327783 (1699)\ttotal: 1m 52s\tremaining: 9m 6s\n",
      "1800:\tlearn: 0.8854097\ttest: 0.8854097\ttest1: 1.1314547\tbest: 1.1312694 (1759)\ttotal: 1m 58s\tremaining: 8m 59s\n",
      "1900:\tlearn: 0.8834448\ttest: 0.8834448\ttest1: 1.1277460\tbest: 1.1277396 (1873)\ttotal: 2m 5s\tremaining: 8m 52s\n",
      "2000:\tlearn: 0.8825136\ttest: 0.8825136\ttest1: 1.1266686\tbest: 1.1266601 (1988)\ttotal: 2m 11s\tremaining: 8m 46s\n",
      "2100:\tlearn: 0.8821812\ttest: 0.8821812\ttest1: 1.1265651\tbest: 1.1265465 (2077)\ttotal: 2m 18s\tremaining: 8m 39s\n",
      "2200:\tlearn: 0.8816040\ttest: 0.8816040\ttest1: 1.1263789\tbest: 1.1263389 (2193)\ttotal: 2m 24s\tremaining: 8m 32s\n",
      "2300:\tlearn: 0.8812640\ttest: 0.8812640\ttest1: 1.1254623\tbest: 1.1254618 (2287)\ttotal: 2m 31s\tremaining: 8m 25s\n",
      "2400:\tlearn: 0.8793945\ttest: 0.8793945\ttest1: 1.1231617\tbest: 1.1231576 (2398)\ttotal: 2m 37s\tremaining: 8m 18s\n",
      "2500:\tlearn: 0.8790151\ttest: 0.8790151\ttest1: 1.1221816\tbest: 1.1221758 (2494)\ttotal: 2m 44s\tremaining: 8m 12s\n",
      "2600:\tlearn: 0.8785186\ttest: 0.8785186\ttest1: 1.1214560\tbest: 1.1214560 (2600)\ttotal: 2m 50s\tremaining: 8m 5s\n",
      "2700:\tlearn: 0.8775869\ttest: 0.8775869\ttest1: 1.1196380\tbest: 1.1196277 (2692)\ttotal: 2m 57s\tremaining: 7m 58s\n",
      "2800:\tlearn: 0.8772728\ttest: 0.8772728\ttest1: 1.1194313\tbest: 1.1194213 (2795)\ttotal: 3m 3s\tremaining: 7m 52s\n",
      "2900:\tlearn: 0.8762807\ttest: 0.8762807\ttest1: 1.1176474\tbest: 1.1176109 (2817)\ttotal: 3m 10s\tremaining: 7m 45s\n"
     ]
    },
    {
     "name": "stderr",
     "output_type": "stream",
     "text": [
      "\u001b[32m[I 2021-07-30 11:13:21,808]\u001b[0m Trial 6 finished with value: -1.1163667480508197 and parameters: {'colsample_bylevel': 0.014895377193541426, 'depth': 4, 'boosting_type': 'Plain', 'bootstrap_type': 'Bayesian', 'l2_leaf_reg': 4.741889408201873, 'random_strength': 3.852173015857894, 'bagging_temperature': 7.9233726355139344}. Best is trial 4 with value: -1.099243252348961.\u001b[0m\n"
     ]
    },
    {
     "name": "stdout",
     "output_type": "stream",
     "text": [
      "Stopped by overfitting detector  (100 iterations wait)\n",
      "\n",
      "bestTest = 1.117610874\n",
      "bestIteration = 2817\n",
      "\n",
      "Shrink model to first 2818 iterations.\n",
      "0:\tlearn: 1.0037428\ttest: 1.0037428\ttest1: 1.3042570\tbest: 1.3042570 (0)\ttotal: 169ms\tremaining: 28m 8s\n",
      "100:\tlearn: 0.8821125\ttest: 0.8821125\ttest1: 1.1326399\tbest: 1.1326399 (100)\ttotal: 13.6s\tremaining: 22m 16s\n",
      "200:\tlearn: 0.8719544\ttest: 0.8719544\ttest1: 1.1225647\tbest: 1.1224091 (186)\ttotal: 26.7s\tremaining: 21m 39s\n",
      "300:\tlearn: 0.8669705\ttest: 0.8669705\ttest1: 1.1182872\tbest: 1.1182872 (300)\ttotal: 39.7s\tremaining: 21m 20s\n",
      "400:\tlearn: 0.8610467\ttest: 0.8610467\ttest1: 1.1121302\tbest: 1.1119402 (381)\ttotal: 52.7s\tremaining: 21m 2s\n",
      "500:\tlearn: 0.8572516\ttest: 0.8572516\ttest1: 1.1093616\tbest: 1.1091227 (499)\ttotal: 1m 5s\tremaining: 20m 44s\n",
      "600:\tlearn: 0.8520728\ttest: 0.8520728\ttest1: 1.1052120\tbest: 1.1051972 (599)\ttotal: 1m 18s\tremaining: 20m 30s\n",
      "700:\tlearn: 0.8510064\ttest: 0.8510064\ttest1: 1.1050325\tbest: 1.1049475 (698)\ttotal: 1m 31s\tremaining: 20m 14s\n",
      "800:\tlearn: 0.8495941\ttest: 0.8495941\ttest1: 1.1045270\tbest: 1.1037939 (754)\ttotal: 1m 44s\tremaining: 20m\n"
     ]
    },
    {
     "name": "stderr",
     "output_type": "stream",
     "text": [
      "\u001b[32m[I 2021-07-30 11:15:14,017]\u001b[0m Trial 7 finished with value: -1.1030932012028138 and parameters: {'colsample_bylevel': 0.05729458539403774, 'depth': 9, 'boosting_type': 'Ordered', 'bootstrap_type': 'MVS', 'l2_leaf_reg': 14.048290612774661, 'random_strength': 4.620653386487991}. Best is trial 4 with value: -1.099243252348961.\u001b[0m\n"
     ]
    },
    {
     "name": "stdout",
     "output_type": "stream",
     "text": [
      "Stopped by overfitting detector  (100 iterations wait)\n",
      "\n",
      "bestTest = 1.103793929\n",
      "bestIteration = 754\n",
      "\n",
      "Shrink model to first 755 iterations.\n",
      "0:\tlearn: 1.0031540\ttest: 1.0031540\ttest1: 1.3021303\tbest: 1.3021303 (0)\ttotal: 139ms\tremaining: 23m 6s\n",
      "100:\tlearn: 0.8925315\ttest: 0.8925315\ttest1: 1.1449761\tbest: 1.1449636 (99)\ttotal: 11.8s\tremaining: 19m 18s\n",
      "200:\tlearn: 0.8811853\ttest: 0.8811853\ttest1: 1.1291118\tbest: 1.1291118 (200)\ttotal: 22.8s\tremaining: 18m 30s\n",
      "300:\tlearn: 0.8777279\ttest: 0.8777279\ttest1: 1.1250627\tbest: 1.1250625 (299)\ttotal: 33.8s\tremaining: 18m 8s\n",
      "400:\tlearn: 0.8719872\ttest: 0.8719872\ttest1: 1.1179958\tbest: 1.1178965 (395)\ttotal: 44.5s\tremaining: 17m 46s\n",
      "500:\tlearn: 0.8695027\ttest: 0.8695027\ttest1: 1.1144055\tbest: 1.1144055 (500)\ttotal: 55.4s\tremaining: 17m 31s\n",
      "600:\tlearn: 0.8685393\ttest: 0.8685393\ttest1: 1.1132761\tbest: 1.1132428 (531)\ttotal: 1m 6s\tremaining: 17m 17s\n",
      "700:\tlearn: 0.8671774\ttest: 0.8671774\ttest1: 1.1119747\tbest: 1.1119743 (696)\ttotal: 1m 17s\tremaining: 17m 4s\n",
      "800:\tlearn: 0.8654654\ttest: 0.8654654\ttest1: 1.1101074\tbest: 1.1100671 (797)\ttotal: 1m 28s\tremaining: 16m 51s\n",
      "900:\tlearn: 0.8649638\ttest: 0.8649638\ttest1: 1.1094105\tbest: 1.1094104 (899)\ttotal: 1m 38s\tremaining: 16m 39s\n",
      "1000:\tlearn: 0.8644810\ttest: 0.8644810\ttest1: 1.1090551\tbest: 1.1090138 (991)\ttotal: 1m 49s\tremaining: 16m 27s\n",
      "1100:\tlearn: 0.8641853\ttest: 0.8641853\ttest1: 1.1087591\tbest: 1.1087478 (1071)\ttotal: 2m\tremaining: 16m 15s\n",
      "1200:\tlearn: 0.8630952\ttest: 0.8630952\ttest1: 1.1075350\tbest: 1.1074758 (1187)\ttotal: 2m 11s\tremaining: 16m 3s\n",
      "1300:\tlearn: 0.8623484\ttest: 0.8623484\ttest1: 1.1067924\tbest: 1.1067923 (1299)\ttotal: 2m 22s\tremaining: 15m 52s\n",
      "1400:\tlearn: 0.8618057\ttest: 0.8618057\ttest1: 1.1069678\tbest: 1.1063082 (1350)\ttotal: 2m 33s\tremaining: 15m 40s\n",
      "1500:\tlearn: 0.8608979\ttest: 0.8608979\ttest1: 1.1060493\tbest: 1.1060274 (1485)\ttotal: 2m 43s\tremaining: 15m 28s\n",
      "1600:\tlearn: 0.8606255\ttest: 0.8606255\ttest1: 1.1064338\tbest: 1.1058879 (1511)\ttotal: 2m 54s\tremaining: 15m 17s\n"
     ]
    },
    {
     "name": "stderr",
     "output_type": "stream",
     "text": [
      "\u001b[32m[I 2021-07-30 11:18:10,944]\u001b[0m Trial 8 finished with value: -1.1054455772563778 and parameters: {'colsample_bylevel': 0.07979571998589327, 'depth': 6, 'boosting_type': 'Ordered', 'bootstrap_type': 'Bernoulli', 'l2_leaf_reg': 19.453830983600348, 'random_strength': 2.953103458864384, 'subsample': 0.9673261546741695}. Best is trial 4 with value: -1.099243252348961.\u001b[0m\n"
     ]
    },
    {
     "name": "stdout",
     "output_type": "stream",
     "text": [
      "Stopped by overfitting detector  (100 iterations wait)\n",
      "\n",
      "bestTest = 1.10588795\n",
      "bestIteration = 1511\n",
      "\n",
      "Shrink model to first 1512 iterations.\n",
      "0:\tlearn: 1.0028543\ttest: 1.0028543\ttest1: 1.3017706\tbest: 1.3017706 (0)\ttotal: 110ms\tremaining: 18m 23s\n",
      "100:\tlearn: 0.8839377\ttest: 0.8839377\ttest1: 1.1339230\tbest: 1.1338895 (99)\ttotal: 9.71s\tremaining: 15m 51s\n",
      "200:\tlearn: 0.8694862\ttest: 0.8694862\ttest1: 1.1172841\tbest: 1.1170288 (185)\ttotal: 18.4s\tremaining: 14m 55s\n",
      "300:\tlearn: 0.8626737\ttest: 0.8626737\ttest1: 1.1105955\tbest: 1.1105932 (299)\ttotal: 26.9s\tremaining: 14m 27s\n",
      "400:\tlearn: 0.8589364\ttest: 0.8589364\ttest1: 1.1079444\tbest: 1.1078868 (394)\ttotal: 35.5s\tremaining: 14m 9s\n",
      "500:\tlearn: 0.8547767\ttest: 0.8547767\ttest1: 1.1070771\tbest: 1.1061990 (424)\ttotal: 44s\tremaining: 13m 54s\n",
      "Stopped by overfitting detector  (100 iterations wait)\n",
      "\n",
      "bestTest = 1.106198988\n",
      "bestIteration = 424\n",
      "\n",
      "Shrink model to first 425 iterations.\n"
     ]
    },
    {
     "name": "stderr",
     "output_type": "stream",
     "text": [
      "\u001b[32m[I 2021-07-30 11:18:57,687]\u001b[0m Trial 9 finished with value: -1.10563642194808 and parameters: {'colsample_bylevel': 0.06204541820276272, 'depth': 8, 'boosting_type': 'Plain', 'bootstrap_type': 'MVS', 'l2_leaf_reg': 11.24990370955988, 'random_strength': 2.9049738515515138}. Best is trial 4 with value: -1.099243252348961.\u001b[0m\n"
     ]
    },
    {
     "name": "stdout",
     "output_type": "stream",
     "text": [
      "0:\tlearn: 1.0057893\ttest: 1.0057893\ttest1: 1.3079319\tbest: 1.3079319 (0)\ttotal: 95.1ms\tremaining: 15m 50s\n",
      "100:\tlearn: 0.9267792\ttest: 0.9267792\ttest1: 1.1979714\tbest: 1.1979714 (100)\ttotal: 7.32s\tremaining: 11m 57s\n",
      "200:\tlearn: 0.9089027\ttest: 0.9089027\ttest1: 1.1697258\tbest: 1.1697225 (199)\ttotal: 13.6s\tremaining: 11m 1s\n",
      "300:\tlearn: 0.8939465\ttest: 0.8939465\ttest1: 1.1449422\tbest: 1.1449422 (300)\ttotal: 19.8s\tremaining: 10m 37s\n",
      "400:\tlearn: 0.8857469\ttest: 0.8857469\ttest1: 1.1308297\tbest: 1.1308297 (399)\ttotal: 26s\tremaining: 10m 21s\n",
      "500:\tlearn: 0.8817596\ttest: 0.8817596\ttest1: 1.1245166\tbest: 1.1245166 (500)\ttotal: 32.2s\tremaining: 10m 9s\n",
      "600:\tlearn: 0.8795509\ttest: 0.8795509\ttest1: 1.1222868\tbest: 1.1222574 (599)\ttotal: 38.3s\tremaining: 9m 59s\n",
      "700:\tlearn: 0.8775133\ttest: 0.8775133\ttest1: 1.1183786\tbest: 1.1183786 (700)\ttotal: 44.5s\tremaining: 9m 50s\n",
      "800:\tlearn: 0.8760389\ttest: 0.8760389\ttest1: 1.1172443\tbest: 1.1172323 (797)\ttotal: 50.7s\tremaining: 9m 42s\n",
      "900:\tlearn: 0.8739347\ttest: 0.8739347\ttest1: 1.1146477\tbest: 1.1145657 (883)\ttotal: 56.9s\tremaining: 9m 34s\n",
      "1000:\tlearn: 0.8722930\ttest: 0.8722930\ttest1: 1.1145131\tbest: 1.1132603 (995)\ttotal: 1m 3s\tremaining: 9m 26s\n"
     ]
    },
    {
     "name": "stderr",
     "output_type": "stream",
     "text": [
      "\u001b[32m[I 2021-07-30 11:20:07,171]\u001b[0m Trial 10 finished with value: -1.1122512299099074 and parameters: {'colsample_bylevel': 0.0309050333842828, 'depth': 4, 'boosting_type': 'Plain', 'bootstrap_type': 'Bernoulli', 'l2_leaf_reg': 7.164895238509448, 'random_strength': 9.48050869802563, 'subsample': 0.11905333273602775}. Best is trial 4 with value: -1.099243252348961.\u001b[0m\n"
     ]
    },
    {
     "name": "stdout",
     "output_type": "stream",
     "text": [
      "Stopped by overfitting detector  (100 iterations wait)\n",
      "\n",
      "bestTest = 1.113260313\n",
      "bestIteration = 995\n",
      "\n",
      "Shrink model to first 996 iterations.\n",
      "0:\tlearn: 1.0037227\ttest: 1.0037227\ttest1: 1.3034821\tbest: 1.3034821 (0)\ttotal: 152ms\tremaining: 25m 23s\n",
      "100:\tlearn: 0.8996579\ttest: 0.8996579\ttest1: 1.1608200\tbest: 1.1608200 (100)\ttotal: 14.2s\tremaining: 23m 9s\n",
      "200:\tlearn: 0.8670558\ttest: 0.8670558\ttest1: 1.1165969\tbest: 1.1165180 (198)\ttotal: 26.8s\tremaining: 21m 48s\n",
      "300:\tlearn: 0.8605685\ttest: 0.8605685\ttest1: 1.1122346\tbest: 1.1118577 (278)\ttotal: 39.5s\tremaining: 21m 13s\n",
      "400:\tlearn: 0.8576681\ttest: 0.8576681\ttest1: 1.1101998\tbest: 1.1101998 (400)\ttotal: 52s\tremaining: 20m 43s\n",
      "500:\tlearn: 0.8546360\ttest: 0.8546360\ttest1: 1.1085509\tbest: 1.1085185 (462)\ttotal: 1m 4s\tremaining: 20m 20s\n",
      "600:\tlearn: 0.8508687\ttest: 0.8508687\ttest1: 1.1058389\tbest: 1.1058141 (597)\ttotal: 1m 16s\tremaining: 20m\n",
      "700:\tlearn: 0.8488932\ttest: 0.8488932\ttest1: 1.1044268\tbest: 1.1043527 (690)\ttotal: 1m 29s\tremaining: 19m 42s\n",
      "800:\tlearn: 0.8465314\ttest: 0.8465314\ttest1: 1.1045784\tbest: 1.1043376 (713)\ttotal: 1m 41s\tremaining: 19m 28s\n"
     ]
    },
    {
     "name": "stderr",
     "output_type": "stream",
     "text": [
      "\u001b[32m[I 2021-07-30 11:21:51,323]\u001b[0m Trial 11 finished with value: -1.1034359290961169 and parameters: {'colsample_bylevel': 0.03903030422716521, 'depth': 9, 'boosting_type': 'Ordered', 'bootstrap_type': 'MVS', 'l2_leaf_reg': 15.264665911671575, 'random_strength': 9.935498976412594}. Best is trial 4 with value: -1.099243252348961.\u001b[0m\n"
     ]
    },
    {
     "name": "stdout",
     "output_type": "stream",
     "text": [
      "Stopped by overfitting detector  (100 iterations wait)\n",
      "\n",
      "bestTest = 1.104337564\n",
      "bestIteration = 713\n",
      "\n",
      "Shrink model to first 714 iterations.\n",
      "0:\tlearn: 1.0076635\ttest: 1.0076635\ttest1: 1.3088037\tbest: 1.3088037 (0)\ttotal: 146ms\tremaining: 24m 21s\n",
      "100:\tlearn: 0.9044014\ttest: 0.9044014\ttest1: 1.1576718\tbest: 1.1576718 (100)\ttotal: 10.9s\tremaining: 17m 46s\n",
      "200:\tlearn: 0.8899747\ttest: 0.8899747\ttest1: 1.1348456\tbest: 1.1348017 (194)\ttotal: 21s\tremaining: 17m 2s\n",
      "300:\tlearn: 0.8850195\ttest: 0.8850195\ttest1: 1.1279338\tbest: 1.1279321 (297)\ttotal: 31.1s\tremaining: 16m 41s\n",
      "400:\tlearn: 0.8797296\ttest: 0.8797296\ttest1: 1.1214614\tbest: 1.1214397 (392)\ttotal: 41.2s\tremaining: 16m 26s\n",
      "500:\tlearn: 0.8764420\ttest: 0.8764420\ttest1: 1.1167054\tbest: 1.1167054 (500)\ttotal: 51.3s\tremaining: 16m 12s\n",
      "600:\tlearn: 0.8738134\ttest: 0.8738134\ttest1: 1.1129670\tbest: 1.1129669 (599)\ttotal: 1m 1s\tremaining: 16m\n",
      "700:\tlearn: 0.8728480\ttest: 0.8728480\ttest1: 1.1115355\tbest: 1.1115355 (700)\ttotal: 1m 11s\tremaining: 15m 48s\n",
      "800:\tlearn: 0.8724877\ttest: 0.8724877\ttest1: 1.1110805\tbest: 1.1110731 (792)\ttotal: 1m 21s\tremaining: 15m 36s\n",
      "900:\tlearn: 0.8716568\ttest: 0.8716568\ttest1: 1.1099516\tbest: 1.1099516 (900)\ttotal: 1m 31s\tremaining: 15m 25s\n",
      "1000:\tlearn: 0.8711687\ttest: 0.8711687\ttest1: 1.1095723\tbest: 1.1095533 (967)\ttotal: 1m 41s\tremaining: 15m 14s\n",
      "1100:\tlearn: 0.8693489\ttest: 0.8693489\ttest1: 1.1066215\tbest: 1.1066215 (1100)\ttotal: 1m 51s\tremaining: 15m 4s\n",
      "1200:\tlearn: 0.8678312\ttest: 0.8678312\ttest1: 1.1045139\tbest: 1.1044939 (1177)\ttotal: 2m 1s\tremaining: 14m 53s\n",
      "1300:\tlearn: 0.8668508\ttest: 0.8668508\ttest1: 1.1034372\tbest: 1.1034317 (1292)\ttotal: 2m 11s\tremaining: 14m 41s\n",
      "1400:\tlearn: 0.8663181\ttest: 0.8663181\ttest1: 1.1029042\tbest: 1.1028265 (1351)\ttotal: 2m 21s\tremaining: 14m 30s\n",
      "1500:\tlearn: 0.8653882\ttest: 0.8653882\ttest1: 1.1025668\tbest: 1.1025618 (1495)\ttotal: 2m 31s\tremaining: 14m 20s\n",
      "1600:\tlearn: 0.8652783\ttest: 0.8652783\ttest1: 1.1024627\tbest: 1.1024627 (1600)\ttotal: 2m 41s\tremaining: 14m 9s\n",
      "1700:\tlearn: 0.8650702\ttest: 0.8650702\ttest1: 1.1023351\tbest: 1.1023052 (1672)\ttotal: 2m 52s\tremaining: 13m 59s\n",
      "1800:\tlearn: 0.8646026\ttest: 0.8646026\ttest1: 1.1021676\tbest: 1.1020342 (1768)\ttotal: 3m 2s\tremaining: 13m 49s\n"
     ]
    },
    {
     "name": "stderr",
     "output_type": "stream",
     "text": [
      "\u001b[32m[I 2021-07-30 11:25:01,225]\u001b[0m Trial 12 finished with value: -1.1013560317088407 and parameters: {'colsample_bylevel': 0.08327188609083806, 'depth': 5, 'boosting_type': 'Ordered', 'bootstrap_type': 'MVS', 'l2_leaf_reg': 14.474601618462525, 'random_strength': 7.998151056187317}. Best is trial 4 with value: -1.099243252348961.\u001b[0m\n"
     ]
    },
    {
     "name": "stdout",
     "output_type": "stream",
     "text": [
      "Stopped by overfitting detector  (100 iterations wait)\n",
      "\n",
      "bestTest = 1.102034224\n",
      "bestIteration = 1768\n",
      "\n",
      "Shrink model to first 1769 iterations.\n",
      "0:\tlearn: 1.0076635\ttest: 1.0076635\ttest1: 1.3088037\tbest: 1.3088037 (0)\ttotal: 139ms\tremaining: 23m 12s\n",
      "100:\tlearn: 0.9137058\ttest: 0.9137058\ttest1: 1.1741640\tbest: 1.1741640 (100)\ttotal: 12.1s\tremaining: 19m 50s\n",
      "200:\tlearn: 0.8936923\ttest: 0.8936923\ttest1: 1.1406738\tbest: 1.1406738 (200)\ttotal: 22.4s\tremaining: 18m 10s\n",
      "300:\tlearn: 0.8856516\ttest: 0.8856516\ttest1: 1.1298959\tbest: 1.1298959 (300)\ttotal: 32.6s\tremaining: 17m 29s\n",
      "400:\tlearn: 0.8795098\ttest: 0.8795098\ttest1: 1.1225744\tbest: 1.1225744 (400)\ttotal: 42.7s\tremaining: 17m 1s\n",
      "500:\tlearn: 0.8777091\ttest: 0.8777091\ttest1: 1.1197005\tbest: 1.1197005 (500)\ttotal: 52.7s\tremaining: 16m 39s\n",
      "600:\tlearn: 0.8752974\ttest: 0.8752974\ttest1: 1.1157033\tbest: 1.1157031 (598)\ttotal: 1m 2s\tremaining: 16m 22s\n",
      "700:\tlearn: 0.8745880\ttest: 0.8745880\ttest1: 1.1151745\tbest: 1.1151745 (700)\ttotal: 1m 12s\tremaining: 16m 6s\n",
      "800:\tlearn: 0.8737029\ttest: 0.8737029\ttest1: 1.1143269\tbest: 1.1143189 (791)\ttotal: 1m 22s\tremaining: 15m 52s\n",
      "900:\tlearn: 0.8732033\ttest: 0.8732033\ttest1: 1.1140672\tbest: 1.1140501 (857)\ttotal: 1m 33s\tremaining: 15m 39s\n",
      "1000:\tlearn: 0.8720313\ttest: 0.8720313\ttest1: 1.1123481\tbest: 1.1123463 (998)\ttotal: 1m 43s\tremaining: 15m 28s\n",
      "1100:\tlearn: 0.8704572\ttest: 0.8704572\ttest1: 1.1104892\tbest: 1.1104843 (1091)\ttotal: 1m 53s\tremaining: 15m 17s\n",
      "1200:\tlearn: 0.8697478\ttest: 0.8697478\ttest1: 1.1095734\tbest: 1.1095702 (1198)\ttotal: 2m 3s\tremaining: 15m 5s\n",
      "1300:\tlearn: 0.8692719\ttest: 0.8692719\ttest1: 1.1091897\tbest: 1.1091858 (1287)\ttotal: 2m 13s\tremaining: 14m 54s\n",
      "1400:\tlearn: 0.8678612\ttest: 0.8678612\ttest1: 1.1071807\tbest: 1.1071807 (1400)\ttotal: 2m 23s\tremaining: 14m 43s\n",
      "1500:\tlearn: 0.8673051\ttest: 0.8673051\ttest1: 1.1063727\tbest: 1.1063704 (1493)\ttotal: 2m 33s\tremaining: 14m 31s\n",
      "1600:\tlearn: 0.8651754\ttest: 0.8651754\ttest1: 1.1027652\tbest: 1.1027652 (1600)\ttotal: 2m 44s\tremaining: 14m 20s\n",
      "1700:\tlearn: 0.8647559\ttest: 0.8647559\ttest1: 1.1020804\tbest: 1.1020801 (1692)\ttotal: 2m 54s\tremaining: 14m 9s\n",
      "1800:\tlearn: 0.8641115\ttest: 0.8641115\ttest1: 1.1017629\tbest: 1.1014478 (1761)\ttotal: 3m 4s\tremaining: 13m 57s\n",
      "1900:\tlearn: 0.8618928\ttest: 0.8618928\ttest1: 1.0983538\tbest: 1.0983538 (1900)\ttotal: 3m 14s\tremaining: 13m 47s\n",
      "2000:\tlearn: 0.8616676\ttest: 0.8616676\ttest1: 1.0982409\tbest: 1.0982387 (1979)\ttotal: 3m 24s\tremaining: 13m 36s\n",
      "2100:\tlearn: 0.8605965\ttest: 0.8605965\ttest1: 1.0970105\tbest: 1.0970039 (2099)\ttotal: 3m 34s\tremaining: 13m 25s\n",
      "2200:\tlearn: 0.8594314\ttest: 0.8594314\ttest1: 1.0953907\tbest: 1.0953875 (2190)\ttotal: 3m 44s\tremaining: 13m 14s\n",
      "2300:\tlearn: 0.8592022\ttest: 0.8592022\ttest1: 1.0952877\tbest: 1.0952876 (2294)\ttotal: 3m 54s\tremaining: 13m 4s\n",
      "2400:\tlearn: 0.8590702\ttest: 0.8590702\ttest1: 1.0952744\tbest: 1.0951164 (2399)\ttotal: 4m 4s\tremaining: 12m 54s\n",
      "2500:\tlearn: 0.8586280\ttest: 0.8586280\ttest1: 1.0950705\tbest: 1.0950704 (2498)\ttotal: 4m 14s\tremaining: 12m 43s\n",
      "2600:\tlearn: 0.8584696\ttest: 0.8584696\ttest1: 1.0953215\tbest: 1.0950288 (2518)\ttotal: 4m 24s\tremaining: 12m 33s\n",
      "Stopped by overfitting detector  (100 iterations wait)\n",
      "\n",
      "bestTest = 1.095028817\n",
      "bestIteration = 2518\n",
      "\n",
      "Shrink model to first 2519 iterations.\n"
     ]
    },
    {
     "name": "stderr",
     "output_type": "stream",
     "text": [
      "\u001b[32m[I 2021-07-30 11:29:28,726]\u001b[0m Trial 13 finished with value: -1.0942966345662013 and parameters: {'colsample_bylevel': 0.08419833389851786, 'depth': 5, 'boosting_type': 'Ordered', 'bootstrap_type': 'MVS', 'l2_leaf_reg': 8.168157161840497, 'random_strength': 8.249800485263012}. Best is trial 13 with value: -1.0942966345662013.\u001b[0m\n"
     ]
    },
    {
     "name": "stdout",
     "output_type": "stream",
     "text": [
      "0:\tlearn: 1.0076635\ttest: 1.0076635\ttest1: 1.3088037\tbest: 1.3088037 (0)\ttotal: 131ms\tremaining: 21m 52s\n",
      "100:\tlearn: 0.9177082\ttest: 0.9177082\ttest1: 1.1806637\tbest: 1.1806637 (100)\ttotal: 12.1s\tremaining: 19m 41s\n",
      "200:\tlearn: 0.8922576\ttest: 0.8922576\ttest1: 1.1379596\tbest: 1.1379596 (200)\ttotal: 22.4s\tremaining: 18m 11s\n",
      "300:\tlearn: 0.8833867\ttest: 0.8833867\ttest1: 1.1263594\tbest: 1.1263594 (300)\ttotal: 32.6s\tremaining: 17m 30s\n",
      "400:\tlearn: 0.8801854\ttest: 0.8801854\ttest1: 1.1226836\tbest: 1.1226697 (390)\ttotal: 42.7s\tremaining: 17m 1s\n",
      "500:\tlearn: 0.8765780\ttest: 0.8765780\ttest1: 1.1188354\tbest: 1.1188202 (495)\ttotal: 52.8s\tremaining: 16m 40s\n",
      "600:\tlearn: 0.8724161\ttest: 0.8724161\ttest1: 1.1131341\tbest: 1.1130535 (582)\ttotal: 1m 2s\tremaining: 16m 22s\n",
      "700:\tlearn: 0.8703781\ttest: 0.8703781\ttest1: 1.1108791\tbest: 1.1108791 (700)\ttotal: 1m 12s\tremaining: 16m 7s\n",
      "800:\tlearn: 0.8696781\ttest: 0.8696781\ttest1: 1.1100232\tbest: 1.1100232 (800)\ttotal: 1m 22s\tremaining: 15m 52s\n",
      "900:\tlearn: 0.8682434\ttest: 0.8682434\ttest1: 1.1098353\tbest: 1.1091835 (869)\ttotal: 1m 33s\tremaining: 15m 40s\n"
     ]
    },
    {
     "name": "stderr",
     "output_type": "stream",
     "text": [
      "\u001b[32m[I 2021-07-30 11:31:09,469]\u001b[0m Trial 14 finished with value: -1.1084349475368747 and parameters: {'colsample_bylevel': 0.08411017310741958, 'depth': 5, 'boosting_type': 'Ordered', 'bootstrap_type': 'MVS', 'l2_leaf_reg': 7.833925102014991, 'random_strength': 8.491291817953005}. Best is trial 13 with value: -1.0942966345662013.\u001b[0m\n"
     ]
    },
    {
     "name": "stdout",
     "output_type": "stream",
     "text": [
      "Stopped by overfitting detector  (100 iterations wait)\n",
      "\n",
      "bestTest = 1.109183534\n",
      "bestIteration = 869\n",
      "\n",
      "Shrink model to first 870 iterations.\n",
      "0:\tlearn: 1.0052336\ttest: 1.0052336\ttest1: 1.3059276\tbest: 1.3059276 (0)\ttotal: 119ms\tremaining: 19m 52s\n",
      "100:\tlearn: 0.9147382\ttest: 0.9147382\ttest1: 1.1750875\tbest: 1.1750875 (100)\ttotal: 10.4s\tremaining: 17m 1s\n",
      "200:\tlearn: 0.9019012\ttest: 0.9019012\ttest1: 1.1542483\tbest: 1.1542483 (200)\ttotal: 20.1s\tremaining: 16m 22s\n",
      "300:\tlearn: 0.8931280\ttest: 0.8931280\ttest1: 1.1416476\tbest: 1.1416476 (300)\ttotal: 29.8s\tremaining: 16m\n",
      "400:\tlearn: 0.8903352\ttest: 0.8903352\ttest1: 1.1377420\tbest: 1.1377420 (400)\ttotal: 39.5s\tremaining: 15m 44s\n",
      "500:\tlearn: 0.8877009\ttest: 0.8877009\ttest1: 1.1337707\tbest: 1.1337706 (499)\ttotal: 49s\tremaining: 15m 29s\n",
      "600:\tlearn: 0.8864685\ttest: 0.8864685\ttest1: 1.1317115\tbest: 1.1317074 (596)\ttotal: 58.7s\tremaining: 15m 17s\n",
      "700:\tlearn: 0.8832228\ttest: 0.8832228\ttest1: 1.1260798\tbest: 1.1260783 (689)\ttotal: 1m 8s\tremaining: 15m 6s\n",
      "800:\tlearn: 0.8805894\ttest: 0.8805894\ttest1: 1.1218443\tbest: 1.1218443 (800)\ttotal: 1m 17s\tremaining: 14m 54s\n",
      "900:\tlearn: 0.8797672\ttest: 0.8797672\ttest1: 1.1209167\tbest: 1.1209159 (899)\ttotal: 1m 27s\tremaining: 14m 44s\n",
      "1000:\tlearn: 0.8788204\ttest: 0.8788204\ttest1: 1.1196031\tbest: 1.1196031 (1000)\ttotal: 1m 37s\tremaining: 14m 34s\n",
      "1100:\tlearn: 0.8779810\ttest: 0.8779810\ttest1: 1.1189098\tbest: 1.1189087 (1099)\ttotal: 1m 47s\tremaining: 14m 25s\n",
      "1200:\tlearn: 0.8763576\ttest: 0.8763576\ttest1: 1.1165375\tbest: 1.1165358 (1196)\ttotal: 1m 56s\tremaining: 14m 16s\n",
      "1300:\tlearn: 0.8754259\ttest: 0.8754259\ttest1: 1.1155241\tbest: 1.1155241 (1299)\ttotal: 2m 6s\tremaining: 14m 6s\n",
      "1400:\tlearn: 0.8741769\ttest: 0.8741769\ttest1: 1.1134289\tbest: 1.1134181 (1394)\ttotal: 2m 16s\tremaining: 13m 56s\n",
      "1500:\tlearn: 0.8737185\ttest: 0.8737185\ttest1: 1.1133523\tbest: 1.1132683 (1403)\ttotal: 2m 25s\tremaining: 13m 46s\n"
     ]
    },
    {
     "name": "stderr",
     "output_type": "stream",
     "text": [
      "\u001b[32m[I 2021-07-30 11:33:36,430]\u001b[0m Trial 15 finished with value: -1.1126013071103624 and parameters: {'colsample_bylevel': 0.09897991853412816, 'depth': 4, 'boosting_type': 'Ordered', 'bootstrap_type': 'MVS', 'l2_leaf_reg': 8.18911757933909, 'random_strength': 6.599859286439834}. Best is trial 13 with value: -1.0942966345662013.\u001b[0m\n"
     ]
    },
    {
     "name": "stdout",
     "output_type": "stream",
     "text": [
      "Stopped by overfitting detector  (100 iterations wait)\n",
      "\n",
      "bestTest = 1.113268274\n",
      "bestIteration = 1403\n",
      "\n",
      "Shrink model to first 1404 iterations.\n",
      "0:\tlearn: 1.0029659\ttest: 1.0029659\ttest1: 1.3032279\tbest: 1.3032279 (0)\ttotal: 101ms\tremaining: 16m 50s\n",
      "100:\tlearn: 0.9109201\ttest: 0.9109201\ttest1: 1.1726914\tbest: 1.1726914 (100)\ttotal: 8.43s\tremaining: 13m 46s\n",
      "200:\tlearn: 0.8903829\ttest: 0.8903829\ttest1: 1.1371531\tbest: 1.1371531 (200)\ttotal: 15.5s\tremaining: 12m 35s\n",
      "300:\tlearn: 0.8808934\ttest: 0.8808934\ttest1: 1.1247076\tbest: 1.1246999 (298)\ttotal: 22.5s\tremaining: 12m 5s\n",
      "400:\tlearn: 0.8780855\ttest: 0.8780855\ttest1: 1.1203011\tbest: 1.1202883 (382)\ttotal: 29.6s\tremaining: 11m 47s\n",
      "500:\tlearn: 0.8757736\ttest: 0.8757736\ttest1: 1.1178580\tbest: 1.1178580 (500)\ttotal: 36.6s\tremaining: 11m 34s\n",
      "600:\tlearn: 0.8737404\ttest: 0.8737404\ttest1: 1.1156900\tbest: 1.1156900 (600)\ttotal: 43.6s\tremaining: 11m 22s\n",
      "700:\tlearn: 0.8711829\ttest: 0.8711829\ttest1: 1.1123105\tbest: 1.1123105 (700)\ttotal: 50.6s\tremaining: 11m 11s\n",
      "800:\tlearn: 0.8676324\ttest: 0.8676324\ttest1: 1.1084764\tbest: 1.1084764 (800)\ttotal: 57.6s\tremaining: 11m 1s\n",
      "900:\tlearn: 0.8673932\ttest: 0.8673932\ttest1: 1.1084404\tbest: 1.1083942 (857)\ttotal: 1m 4s\tremaining: 10m 52s\n",
      "1000:\tlearn: 0.8663042\ttest: 0.8663042\ttest1: 1.1076544\tbest: 1.1076528 (998)\ttotal: 1m 11s\tremaining: 10m 44s\n",
      "1100:\tlearn: 0.8642794\ttest: 0.8642794\ttest1: 1.1045053\tbest: 1.1045053 (1100)\ttotal: 1m 18s\tremaining: 10m 36s\n",
      "1200:\tlearn: 0.8635670\ttest: 0.8635670\ttest1: 1.1039034\tbest: 1.1039032 (1197)\ttotal: 1m 25s\tremaining: 10m 28s\n",
      "1300:\tlearn: 0.8632370\ttest: 0.8632370\ttest1: 1.1038109\tbest: 1.1037184 (1227)\ttotal: 1m 32s\tremaining: 10m 20s\n",
      "1400:\tlearn: 0.8610091\ttest: 0.8610091\ttest1: 1.1002180\tbest: 1.1000106 (1395)\ttotal: 1m 39s\tremaining: 10m 12s\n",
      "1500:\tlearn: 0.8599127\ttest: 0.8599127\ttest1: 1.0990529\tbest: 1.0990284 (1497)\ttotal: 1m 46s\tremaining: 10m 5s\n",
      "1600:\tlearn: 0.8594424\ttest: 0.8594424\ttest1: 1.0988482\tbest: 1.0988171 (1539)\ttotal: 1m 53s\tremaining: 9m 57s\n",
      "1700:\tlearn: 0.8581823\ttest: 0.8581823\ttest1: 1.0978415\tbest: 1.0977745 (1669)\ttotal: 2m 1s\tremaining: 9m 50s\n"
     ]
    },
    {
     "name": "stderr",
     "output_type": "stream",
     "text": [
      "\u001b[32m[I 2021-07-30 11:35:42,952]\u001b[0m Trial 16 finished with value: -1.0968225154020848 and parameters: {'colsample_bylevel': 0.07607429420257436, 'depth': 5, 'boosting_type': 'Plain', 'bootstrap_type': 'Bernoulli', 'l2_leaf_reg': 0.5681721570717997, 'random_strength': 9.356784925753622, 'subsample': 0.489868242206408}. Best is trial 13 with value: -1.0942966345662013.\u001b[0m\n"
     ]
    },
    {
     "name": "stdout",
     "output_type": "stream",
     "text": [
      "Stopped by overfitting detector  (100 iterations wait)\n",
      "\n",
      "bestTest = 1.097774547\n",
      "bestIteration = 1669\n",
      "\n",
      "Shrink model to first 1670 iterations.\n",
      "0:\tlearn: 1.0093951\ttest: 1.0093951\ttest1: 1.3117215\tbest: 1.3117215 (0)\ttotal: 111ms\tremaining: 18m 30s\n",
      "100:\tlearn: 0.9162574\ttest: 0.9162574\ttest1: 1.1799739\tbest: 1.1799689 (99)\ttotal: 11.1s\tremaining: 18m 10s\n",
      "200:\tlearn: 0.8881962\ttest: 0.8881962\ttest1: 1.1339436\tbest: 1.1339402 (198)\ttotal: 20.3s\tremaining: 16m 32s\n",
      "300:\tlearn: 0.8828423\ttest: 0.8828423\ttest1: 1.1271580\tbest: 1.1271558 (296)\ttotal: 29.2s\tremaining: 15m 42s\n",
      "400:\tlearn: 0.8799534\ttest: 0.8799534\ttest1: 1.1236987\tbest: 1.1236987 (400)\ttotal: 38.1s\tremaining: 15m 12s\n",
      "500:\tlearn: 0.8765422\ttest: 0.8765422\ttest1: 1.1181336\tbest: 1.1181336 (500)\ttotal: 47.1s\tremaining: 14m 52s\n",
      "600:\tlearn: 0.8742498\ttest: 0.8742498\ttest1: 1.1145289\tbest: 1.1145285 (599)\ttotal: 56.1s\tremaining: 14m 36s\n",
      "700:\tlearn: 0.8715079\ttest: 0.8715079\ttest1: 1.1110861\tbest: 1.1110861 (700)\ttotal: 1m 4s\tremaining: 14m 21s\n",
      "800:\tlearn: 0.8703745\ttest: 0.8703745\ttest1: 1.1094608\tbest: 1.1094496 (797)\ttotal: 1m 13s\tremaining: 14m 7s\n",
      "900:\tlearn: 0.8688540\ttest: 0.8688540\ttest1: 1.1080188\tbest: 1.1079088 (857)\ttotal: 1m 22s\tremaining: 13m 56s\n",
      "1000:\tlearn: 0.8679480\ttest: 0.8679480\ttest1: 1.1070863\tbest: 1.1070817 (999)\ttotal: 1m 31s\tremaining: 13m 44s\n",
      "1100:\tlearn: 0.8673978\ttest: 0.8673978\ttest1: 1.1064598\tbest: 1.1064572 (1095)\ttotal: 1m 40s\tremaining: 13m 33s\n",
      "1200:\tlearn: 0.8663776\ttest: 0.8663776\ttest1: 1.1068225\tbest: 1.1063217 (1141)\ttotal: 1m 49s\tremaining: 13m 21s\n",
      "Stopped by overfitting detector  (100 iterations wait)\n",
      "\n",
      "bestTest = 1.106321683\n",
      "bestIteration = 1141\n",
      "\n",
      "Shrink model to first 1142 iterations.\n"
     ]
    },
    {
     "name": "stderr",
     "output_type": "stream",
     "text": [
      "\u001b[32m[I 2021-07-30 11:37:36,873]\u001b[0m Trial 17 finished with value: -1.1054920853996324 and parameters: {'colsample_bylevel': 0.07216133871124494, 'depth': 5, 'boosting_type': 'Ordered', 'bootstrap_type': 'Bernoulli', 'l2_leaf_reg': 0.5423256365565126, 'random_strength': 9.991017557877118, 'subsample': 0.508756212604601}. Best is trial 13 with value: -1.0942966345662013.\u001b[0m\n"
     ]
    },
    {
     "name": "stdout",
     "output_type": "stream",
     "text": [
      "0:\tlearn: 0.9982774\ttest: 0.9982774\ttest1: 1.2960102\tbest: 1.2960102 (0)\ttotal: 107ms\tremaining: 17m 45s\n",
      "100:\tlearn: 0.9080313\ttest: 0.9080313\ttest1: 1.1663759\tbest: 1.1662667 (99)\ttotal: 8.39s\tremaining: 13m 42s\n",
      "200:\tlearn: 0.8869040\ttest: 0.8869040\ttest1: 1.1347163\tbest: 1.1347163 (200)\ttotal: 15.6s\tremaining: 12m 42s\n",
      "300:\tlearn: 0.8795351\ttest: 0.8795351\ttest1: 1.1236730\tbest: 1.1236713 (299)\ttotal: 22.9s\tremaining: 12m 16s\n",
      "400:\tlearn: 0.8736731\ttest: 0.8736731\ttest1: 1.1164965\tbest: 1.1164928 (394)\ttotal: 30.1s\tremaining: 11m 59s\n",
      "500:\tlearn: 0.8707920\ttest: 0.8707920\ttest1: 1.1139997\tbest: 1.1136943 (496)\ttotal: 37.3s\tremaining: 11m 46s\n",
      "600:\tlearn: 0.8657893\ttest: 0.8657893\ttest1: 1.1077720\tbest: 1.1076804 (596)\ttotal: 44.5s\tremaining: 11m 35s\n",
      "700:\tlearn: 0.8651265\ttest: 0.8651265\ttest1: 1.1076499\tbest: 1.1074271 (655)\ttotal: 51.7s\tremaining: 11m 25s\n",
      "800:\tlearn: 0.8641982\ttest: 0.8641982\ttest1: 1.1068079\tbest: 1.1068071 (799)\ttotal: 58.9s\tremaining: 11m 16s\n",
      "900:\tlearn: 0.8620039\ttest: 0.8620039\ttest1: 1.1052089\tbest: 1.1051557 (885)\ttotal: 1m 6s\tremaining: 11m 7s\n",
      "1000:\tlearn: 0.8605181\ttest: 0.8605181\ttest1: 1.1034755\tbest: 1.1034703 (996)\ttotal: 1m 13s\tremaining: 10m 59s\n",
      "1100:\tlearn: 0.8595090\ttest: 0.8595090\ttest1: 1.1023962\tbest: 1.1022212 (1084)\ttotal: 1m 20s\tremaining: 10m 51s\n",
      "1200:\tlearn: 0.8586080\ttest: 0.8586080\ttest1: 1.1018353\tbest: 1.1015076 (1138)\ttotal: 1m 27s\tremaining: 10m 43s\n",
      "1300:\tlearn: 0.8561931\ttest: 0.8561931\ttest1: 1.0987421\tbest: 1.0987078 (1283)\ttotal: 1m 35s\tremaining: 10m 35s\n",
      "1400:\tlearn: 0.8550418\ttest: 0.8550418\ttest1: 1.0987770\tbest: 1.0984021 (1373)\ttotal: 1m 42s\tremaining: 10m 28s\n"
     ]
    },
    {
     "name": "stderr",
     "output_type": "stream",
     "text": [
      "\u001b[32m[I 2021-07-30 11:39:25,161]\u001b[0m Trial 18 finished with value: -1.0976495982187295 and parameters: {'colsample_bylevel': 0.07430868169660079, 'depth': 6, 'boosting_type': 'Plain', 'bootstrap_type': 'Bernoulli', 'l2_leaf_reg': 1.2423966095621068, 'random_strength': 7.083184946192339, 'subsample': 0.4882207469462039}. Best is trial 13 with value: -1.0942966345662013.\u001b[0m\n"
     ]
    },
    {
     "name": "stdout",
     "output_type": "stream",
     "text": [
      "Stopped by overfitting detector  (100 iterations wait)\n",
      "\n",
      "bestTest = 1.098402096\n",
      "bestIteration = 1373\n",
      "\n",
      "Shrink model to first 1374 iterations.\n",
      "0:\tlearn: 1.0050635\ttest: 1.0050635\ttest1: 1.3060752\tbest: 1.3060752 (0)\ttotal: 133ms\tremaining: 22m 10s\n",
      "100:\tlearn: 0.9175193\ttest: 0.9175193\ttest1: 1.1820086\tbest: 1.1820086 (100)\ttotal: 12.3s\tremaining: 20m 8s\n",
      "200:\tlearn: 0.8960845\ttest: 0.8960845\ttest1: 1.1474548\tbest: 1.1474548 (200)\ttotal: 22.7s\tremaining: 18m 28s\n",
      "300:\tlearn: 0.8868911\ttest: 0.8868911\ttest1: 1.1354885\tbest: 1.1354817 (299)\ttotal: 33s\tremaining: 17m 42s\n",
      "400:\tlearn: 0.8828193\ttest: 0.8828193\ttest1: 1.1299715\tbest: 1.1299715 (400)\ttotal: 43.1s\tremaining: 17m 11s\n",
      "500:\tlearn: 0.8806913\ttest: 0.8806913\ttest1: 1.1281663\tbest: 1.1281410 (497)\ttotal: 53.2s\tremaining: 16m 49s\n",
      "600:\tlearn: 0.8773908\ttest: 0.8773908\ttest1: 1.1241903\tbest: 1.1241189 (586)\ttotal: 1m 3s\tremaining: 16m 28s\n",
      "700:\tlearn: 0.8742729\ttest: 0.8742729\ttest1: 1.1196180\tbest: 1.1195588 (674)\ttotal: 1m 13s\tremaining: 16m 14s\n",
      "800:\tlearn: 0.8733407\ttest: 0.8733407\ttest1: 1.1186425\tbest: 1.1186425 (800)\ttotal: 1m 23s\tremaining: 15m 59s\n",
      "900:\tlearn: 0.8719275\ttest: 0.8719275\ttest1: 1.1172491\tbest: 1.1171647 (867)\ttotal: 1m 33s\tremaining: 15m 46s\n",
      "1000:\tlearn: 0.8708261\ttest: 0.8708261\ttest1: 1.1159555\tbest: 1.1159201 (987)\ttotal: 1m 43s\tremaining: 15m 34s\n",
      "1100:\tlearn: 0.8698576\ttest: 0.8698576\ttest1: 1.1153655\tbest: 1.1153624 (1098)\ttotal: 1m 54s\tremaining: 15m 21s\n",
      "1200:\tlearn: 0.8683890\ttest: 0.8683890\ttest1: 1.1141273\tbest: 1.1140367 (1191)\ttotal: 2m 4s\tremaining: 15m 9s\n",
      "1300:\tlearn: 0.8680889\ttest: 0.8680889\ttest1: 1.1137827\tbest: 1.1137811 (1295)\ttotal: 2m 14s\tremaining: 14m 57s\n",
      "1400:\tlearn: 0.8670781\ttest: 0.8670781\ttest1: 1.1125637\tbest: 1.1125628 (1393)\ttotal: 2m 24s\tremaining: 14m 46s\n",
      "1500:\tlearn: 0.8662704\ttest: 0.8662704\ttest1: 1.1120189\tbest: 1.1120124 (1487)\ttotal: 2m 34s\tremaining: 14m 34s\n",
      "1600:\tlearn: 0.8657167\ttest: 0.8657167\ttest1: 1.1115503\tbest: 1.1115138 (1538)\ttotal: 2m 44s\tremaining: 14m 22s\n",
      "1700:\tlearn: 0.8648135\ttest: 0.8648135\ttest1: 1.1096588\tbest: 1.1096506 (1669)\ttotal: 2m 54s\tremaining: 14m 12s\n",
      "1800:\tlearn: 0.8645544\ttest: 0.8645544\ttest1: 1.1094274\tbest: 1.1093986 (1765)\ttotal: 3m 4s\tremaining: 14m\n",
      "1900:\tlearn: 0.8639233\ttest: 0.8639233\ttest1: 1.1092135\tbest: 1.1092135 (1900)\ttotal: 3m 14s\tremaining: 13m 49s\n",
      "2000:\tlearn: 0.8627732\ttest: 0.8627732\ttest1: 1.1084037\tbest: 1.1084036 (1995)\ttotal: 3m 24s\tremaining: 13m 38s\n",
      "2100:\tlearn: 0.8620270\ttest: 0.8620270\ttest1: 1.1070814\tbest: 1.1070814 (2100)\ttotal: 3m 34s\tremaining: 13m 27s\n",
      "2200:\tlearn: 0.8610147\ttest: 0.8610147\ttest1: 1.1049741\tbest: 1.1049741 (2200)\ttotal: 3m 44s\tremaining: 13m 16s\n",
      "2300:\tlearn: 0.8606127\ttest: 0.8606127\ttest1: 1.1051689\tbest: 1.1049653 (2213)\ttotal: 3m 55s\tremaining: 13m 6s\n"
     ]
    },
    {
     "name": "stderr",
     "output_type": "stream",
     "text": [
      "\u001b[32m[I 2021-07-30 11:43:22,325]\u001b[0m Trial 19 finished with value: -1.1040849172965947 and parameters: {'colsample_bylevel': 0.044045134993629775, 'depth': 5, 'boosting_type': 'Ordered', 'bootstrap_type': 'Bernoulli', 'l2_leaf_reg': 3.081464093544025, 'random_strength': 8.84209308019699, 'subsample': 0.8533700832806366}. Best is trial 13 with value: -1.0942966345662013.\u001b[0m\n"
     ]
    },
    {
     "name": "stdout",
     "output_type": "stream",
     "text": [
      "Stopped by overfitting detector  (100 iterations wait)\n",
      "\n",
      "bestTest = 1.104965324\n",
      "bestIteration = 2213\n",
      "\n",
      "Shrink model to first 2214 iterations.\n",
      "0:\tlearn: 1.0014839\ttest: 1.0014839\ttest1: 1.3010757\tbest: 1.3010757 (0)\ttotal: 98.6ms\tremaining: 16m 25s\n",
      "100:\tlearn: 0.8883213\ttest: 0.8883213\ttest1: 1.1333935\tbest: 1.1333935 (100)\ttotal: 7.53s\tremaining: 12m 17s\n",
      "200:\tlearn: 0.8766723\ttest: 0.8766723\ttest1: 1.1184326\tbest: 1.1184149 (197)\ttotal: 14.2s\tremaining: 11m 30s\n",
      "300:\tlearn: 0.8722279\ttest: 0.8722279\ttest1: 1.1109178\tbest: 1.1108903 (294)\ttotal: 20.8s\tremaining: 11m 9s\n",
      "400:\tlearn: 0.8684631\ttest: 0.8684631\ttest1: 1.1063270\tbest: 1.1063253 (399)\ttotal: 27.4s\tremaining: 10m 55s\n",
      "500:\tlearn: 0.8662962\ttest: 0.8662962\ttest1: 1.1033708\tbest: 1.1033643 (498)\ttotal: 34s\tremaining: 10m 45s\n",
      "600:\tlearn: 0.8636000\ttest: 0.8636000\ttest1: 1.1009087\tbest: 1.1009087 (600)\ttotal: 40.7s\tremaining: 10m 36s\n",
      "700:\tlearn: 0.8625381\ttest: 0.8625381\ttest1: 1.1000050\tbest: 1.0999828 (658)\ttotal: 47.4s\tremaining: 10m 28s\n",
      "800:\tlearn: 0.8608145\ttest: 0.8608145\ttest1: 1.0980263\tbest: 1.0980263 (800)\ttotal: 54s\tremaining: 10m 20s\n",
      "900:\tlearn: 0.8595820\ttest: 0.8595820\ttest1: 1.0976580\tbest: 1.0973152 (855)\ttotal: 1m\tremaining: 10m 13s\n"
     ]
    },
    {
     "name": "stderr",
     "output_type": "stream",
     "text": [
      "\u001b[32m[I 2021-07-30 11:44:27,340]\u001b[0m Trial 20 finished with value: -1.0970500411316353 and parameters: {'colsample_bylevel': 0.08842800970095063, 'depth': 6, 'boosting_type': 'Plain', 'bootstrap_type': 'Bernoulli', 'l2_leaf_reg': 5.4410137379830825, 'random_strength': 0.02085099751836328, 'subsample': 0.19311134595007612}. Best is trial 13 with value: -1.0942966345662013.\u001b[0m\n"
     ]
    },
    {
     "name": "stdout",
     "output_type": "stream",
     "text": [
      "Stopped by overfitting detector  (100 iterations wait)\n",
      "\n",
      "bestTest = 1.097315216\n",
      "bestIteration = 855\n",
      "\n",
      "Shrink model to first 856 iterations.\n",
      "0:\tlearn: 1.0031015\ttest: 1.0031015\ttest1: 1.3029214\tbest: 1.3029214 (0)\ttotal: 97ms\tremaining: 16m 10s\n",
      "100:\tlearn: 0.8865567\ttest: 0.8865567\ttest1: 1.1297222\tbest: 1.1297164 (98)\ttotal: 7.56s\tremaining: 12m 20s\n",
      "200:\tlearn: 0.8743901\ttest: 0.8743901\ttest1: 1.1139756\tbest: 1.1139756 (200)\ttotal: 14.1s\tremaining: 11m 27s\n",
      "300:\tlearn: 0.8711131\ttest: 0.8711131\ttest1: 1.1106486\tbest: 1.1106484 (299)\ttotal: 20.6s\tremaining: 11m 5s\n",
      "400:\tlearn: 0.8674974\ttest: 0.8674974\ttest1: 1.1065269\tbest: 1.1064990 (396)\ttotal: 27.2s\tremaining: 10m 50s\n",
      "500:\tlearn: 0.8665526\ttest: 0.8665526\ttest1: 1.1056090\tbest: 1.1055141 (495)\ttotal: 33.7s\tremaining: 10m 39s\n",
      "600:\tlearn: 0.8642709\ttest: 0.8642709\ttest1: 1.1034823\tbest: 1.1034795 (597)\ttotal: 40.3s\tremaining: 10m 30s\n",
      "700:\tlearn: 0.8632204\ttest: 0.8632204\ttest1: 1.1030601\tbest: 1.1028679 (677)\ttotal: 46.9s\tremaining: 10m 21s\n",
      "800:\tlearn: 0.8612642\ttest: 0.8612642\ttest1: 1.1014309\tbest: 1.1014151 (797)\ttotal: 53.4s\tremaining: 10m 13s\n",
      "900:\tlearn: 0.8603239\ttest: 0.8603239\ttest1: 1.1004532\tbest: 1.1004374 (896)\ttotal: 60s\tremaining: 10m 5s\n",
      "1000:\tlearn: 0.8583623\ttest: 0.8583623\ttest1: 1.0982388\tbest: 1.0981720 (997)\ttotal: 1m 6s\tremaining: 9m 58s\n",
      "1100:\tlearn: 0.8576067\ttest: 0.8576067\ttest1: 1.0969919\tbest: 1.0969919 (1100)\ttotal: 1m 13s\tremaining: 9m 50s\n",
      "1200:\tlearn: 0.8569174\ttest: 0.8569174\ttest1: 1.0964133\tbest: 1.0964107 (1194)\ttotal: 1m 19s\tremaining: 9m 43s\n",
      "1300:\tlearn: 0.8557844\ttest: 0.8557844\ttest1: 1.0950671\tbest: 1.0950669 (1298)\ttotal: 1m 26s\tremaining: 9m 36s\n",
      "1400:\tlearn: 0.8545986\ttest: 0.8545986\ttest1: 1.0943185\tbest: 1.0943185 (1400)\ttotal: 1m 32s\tremaining: 9m 29s\n",
      "1500:\tlearn: 0.8539441\ttest: 0.8539441\ttest1: 1.0936147\tbest: 1.0936120 (1499)\ttotal: 1m 39s\tremaining: 9m 23s\n",
      "1600:\tlearn: 0.8535262\ttest: 0.8535262\ttest1: 1.0931767\tbest: 1.0931767 (1600)\ttotal: 1m 46s\tremaining: 9m 16s\n",
      "1700:\tlearn: 0.8525904\ttest: 0.8525904\ttest1: 1.0920421\tbest: 1.0917865 (1626)\ttotal: 1m 52s\tremaining: 9m 9s\n",
      "1800:\tlearn: 0.8510809\ttest: 0.8510809\ttest1: 1.0903929\tbest: 1.0903929 (1800)\ttotal: 1m 59s\tremaining: 9m 2s\n",
      "1900:\tlearn: 0.8507183\ttest: 0.8507183\ttest1: 1.0906281\tbest: 1.0901092 (1864)\ttotal: 2m 5s\tremaining: 8m 55s\n",
      "2000:\tlearn: 0.8501563\ttest: 0.8501563\ttest1: 1.0899402\tbest: 1.0898204 (1981)\ttotal: 2m 12s\tremaining: 8m 49s\n"
     ]
    },
    {
     "name": "stderr",
     "output_type": "stream",
     "text": [
      "\u001b[32m[I 2021-07-30 11:46:45,749]\u001b[0m Trial 21 finished with value: -1.0893608618833752 and parameters: {'colsample_bylevel': 0.08718973036585134, 'depth': 6, 'boosting_type': 'Plain', 'bootstrap_type': 'Bernoulli', 'l2_leaf_reg': 5.9079762325254555, 'random_strength': 0.3813350017757937, 'subsample': 0.15032129736359862}. Best is trial 21 with value: -1.0893608618833752.\u001b[0m\n"
     ]
    },
    {
     "name": "stdout",
     "output_type": "stream",
     "text": [
      "Stopped by overfitting detector  (100 iterations wait)\n",
      "\n",
      "bestTest = 1.089820359\n",
      "bestIteration = 1981\n",
      "\n",
      "Shrink model to first 1982 iterations.\n",
      "0:\tlearn: 1.0029838\ttest: 1.0029838\ttest1: 1.3026640\tbest: 1.3026640 (0)\ttotal: 98ms\tremaining: 16m 20s\n",
      "100:\tlearn: 0.9070375\ttest: 0.9070375\ttest1: 1.1615608\tbest: 1.1615608 (100)\ttotal: 8.32s\tremaining: 13m 35s\n",
      "200:\tlearn: 0.8825409\ttest: 0.8825409\ttest1: 1.1260175\tbest: 1.1260175 (200)\ttotal: 15s\tremaining: 12m 13s\n",
      "300:\tlearn: 0.8788153\ttest: 0.8788153\ttest1: 1.1207126\tbest: 1.1207126 (300)\ttotal: 21.7s\tremaining: 11m 39s\n",
      "400:\tlearn: 0.8748471\ttest: 0.8748471\ttest1: 1.1141762\tbest: 1.1141762 (400)\ttotal: 28.4s\tremaining: 11m 19s\n",
      "500:\tlearn: 0.8728438\ttest: 0.8728438\ttest1: 1.1109375\tbest: 1.1109375 (498)\ttotal: 35.1s\tremaining: 11m 5s\n",
      "600:\tlearn: 0.8717823\ttest: 0.8717823\ttest1: 1.1097104\tbest: 1.1097104 (600)\ttotal: 41.8s\tremaining: 10m 53s\n",
      "700:\tlearn: 0.8711244\ttest: 0.8711244\ttest1: 1.1093942\tbest: 1.1093522 (693)\ttotal: 48.5s\tremaining: 10m 42s\n",
      "800:\tlearn: 0.8690897\ttest: 0.8690897\ttest1: 1.1071442\tbest: 1.1071160 (783)\ttotal: 55.2s\tremaining: 10m 33s\n",
      "900:\tlearn: 0.8671636\ttest: 0.8671636\ttest1: 1.1041135\tbest: 1.1041134 (899)\ttotal: 1m 1s\tremaining: 10m 24s\n",
      "1000:\tlearn: 0.8662444\ttest: 0.8662444\ttest1: 1.1032659\tbest: 1.1031509 (979)\ttotal: 1m 8s\tremaining: 10m 15s\n",
      "1100:\tlearn: 0.8648376\ttest: 0.8648376\ttest1: 1.1013020\tbest: 1.1013020 (1100)\ttotal: 1m 15s\tremaining: 10m 7s\n",
      "1200:\tlearn: 0.8631725\ttest: 0.8631725\ttest1: 1.0994607\tbest: 1.0993500 (1190)\ttotal: 1m 21s\tremaining: 9m 59s\n",
      "1300:\tlearn: 0.8623379\ttest: 0.8623379\ttest1: 1.0983847\tbest: 1.0983744 (1294)\ttotal: 1m 28s\tremaining: 9m 52s\n",
      "1400:\tlearn: 0.8613509\ttest: 0.8613509\ttest1: 1.0977746\tbest: 1.0977654 (1382)\ttotal: 1m 35s\tremaining: 9m 44s\n",
      "1500:\tlearn: 0.8604768\ttest: 0.8604768\ttest1: 1.0970586\tbest: 1.0970586 (1500)\ttotal: 1m 41s\tremaining: 9m 37s\n",
      "1600:\tlearn: 0.8599957\ttest: 0.8599957\ttest1: 1.0962853\tbest: 1.0962852 (1599)\ttotal: 1m 48s\tremaining: 9m 29s\n",
      "1700:\tlearn: 0.8596429\ttest: 0.8596429\ttest1: 1.0956839\tbest: 1.0956824 (1696)\ttotal: 1m 55s\tremaining: 9m 22s\n",
      "1800:\tlearn: 0.8595269\ttest: 0.8595269\ttest1: 1.0955914\tbest: 1.0955805 (1770)\ttotal: 2m 1s\tremaining: 9m 15s\n"
     ]
    },
    {
     "name": "stderr",
     "output_type": "stream",
     "text": [
      "\u001b[32m[I 2021-07-30 11:48:53,037]\u001b[0m Trial 22 finished with value: -1.0950032054374186 and parameters: {'colsample_bylevel': 0.07308520060971258, 'depth': 5, 'boosting_type': 'Plain', 'bootstrap_type': 'Bernoulli', 'l2_leaf_reg': 6.479678754794767, 'random_strength': 0.8169969030921245, 'subsample': 0.3121290720879062}. Best is trial 21 with value: -1.0893608618833752.\u001b[0m\n"
     ]
    },
    {
     "name": "stdout",
     "output_type": "stream",
     "text": [
      "Stopped by overfitting detector  (100 iterations wait)\n",
      "\n",
      "bestTest = 1.095580475\n",
      "bestIteration = 1770\n",
      "\n",
      "Shrink model to first 1771 iterations.\n",
      "0:\tlearn: 1.0010607\ttest: 1.0010607\ttest1: 1.3005519\tbest: 1.3005519 (0)\ttotal: 97.9ms\tremaining: 16m 18s\n",
      "100:\tlearn: 0.8911760\ttest: 0.8911760\ttest1: 1.1390081\tbest: 1.1390081 (100)\ttotal: 7.71s\tremaining: 12m 36s\n",
      "200:\tlearn: 0.8802099\ttest: 0.8802099\ttest1: 1.1221569\tbest: 1.1221569 (200)\ttotal: 14.5s\tremaining: 11m 49s\n",
      "300:\tlearn: 0.8733025\ttest: 0.8733025\ttest1: 1.1135626\tbest: 1.1134810 (291)\ttotal: 21.4s\tremaining: 11m 28s\n",
      "400:\tlearn: 0.8698312\ttest: 0.8698312\ttest1: 1.1102592\tbest: 1.1102491 (398)\ttotal: 28.2s\tremaining: 11m 14s\n",
      "500:\tlearn: 0.8678648\ttest: 0.8678648\ttest1: 1.1084886\tbest: 1.1082746 (483)\ttotal: 35s\tremaining: 11m 3s\n",
      "600:\tlearn: 0.8655673\ttest: 0.8655673\ttest1: 1.1060247\tbest: 1.1059250 (596)\ttotal: 41.9s\tremaining: 10m 54s\n",
      "700:\tlearn: 0.8631754\ttest: 0.8631754\ttest1: 1.1036225\tbest: 1.1035569 (690)\ttotal: 48.7s\tremaining: 10m 46s\n",
      "800:\tlearn: 0.8615703\ttest: 0.8615703\ttest1: 1.1018534\tbest: 1.1018471 (794)\ttotal: 55.5s\tremaining: 10m 37s\n",
      "900:\tlearn: 0.8606462\ttest: 0.8606462\ttest1: 1.1008274\tbest: 1.1008274 (900)\ttotal: 1m 2s\tremaining: 10m 29s\n",
      "1000:\tlearn: 0.8587962\ttest: 0.8587962\ttest1: 1.0980725\tbest: 1.0980694 (982)\ttotal: 1m 9s\tremaining: 10m 22s\n",
      "1100:\tlearn: 0.8576255\ttest: 0.8576255\ttest1: 1.0971576\tbest: 1.0971576 (1100)\ttotal: 1m 16s\tremaining: 10m 14s\n",
      "1200:\tlearn: 0.8558106\ttest: 0.8558106\ttest1: 1.0949327\tbest: 1.0949298 (1194)\ttotal: 1m 22s\tremaining: 10m 7s\n",
      "1300:\tlearn: 0.8551899\ttest: 0.8551899\ttest1: 1.0945135\tbest: 1.0944306 (1258)\ttotal: 1m 29s\tremaining: 10m\n",
      "1400:\tlearn: 0.8543461\ttest: 0.8543461\ttest1: 1.0939594\tbest: 1.0938416 (1352)\ttotal: 1m 36s\tremaining: 9m 52s\n",
      "1500:\tlearn: 0.8532375\ttest: 0.8532375\ttest1: 1.0939568\tbest: 1.0929650 (1440)\ttotal: 1m 43s\tremaining: 9m 45s\n"
     ]
    },
    {
     "name": "stderr",
     "output_type": "stream",
     "text": [
      "\u001b[32m[I 2021-07-30 11:50:39,874]\u001b[0m Trial 23 finished with value: -1.092431426365015 and parameters: {'colsample_bylevel': 0.08728759186941631, 'depth': 6, 'boosting_type': 'Plain', 'bootstrap_type': 'Bernoulli', 'l2_leaf_reg': 6.741405441307436, 'random_strength': 0.27282248546289356, 'subsample': 0.28214920185385184}. Best is trial 21 with value: -1.0893608618833752.\u001b[0m\n"
     ]
    },
    {
     "name": "stdout",
     "output_type": "stream",
     "text": [
      "Stopped by overfitting detector  (100 iterations wait)\n",
      "\n",
      "bestTest = 1.092964998\n",
      "bestIteration = 1440\n",
      "\n",
      "Shrink model to first 1441 iterations.\n",
      "0:\tlearn: 1.0023549\ttest: 1.0023549\ttest1: 1.3023881\tbest: 1.3023881 (0)\ttotal: 101ms\tremaining: 16m 54s\n",
      "100:\tlearn: 0.8848239\ttest: 0.8848239\ttest1: 1.1306035\tbest: 1.1306035 (100)\ttotal: 8.02s\tremaining: 13m 6s\n",
      "200:\tlearn: 0.8735827\ttest: 0.8735827\ttest1: 1.1168959\tbest: 1.1168954 (196)\ttotal: 15s\tremaining: 12m 12s\n",
      "300:\tlearn: 0.8674350\ttest: 0.8674350\ttest1: 1.1117729\tbest: 1.1117308 (290)\ttotal: 22s\tremaining: 11m 49s\n",
      "400:\tlearn: 0.8655690\ttest: 0.8655690\ttest1: 1.1109116\tbest: 1.1105737 (373)\ttotal: 29s\tremaining: 11m 34s\n",
      "500:\tlearn: 0.8636527\ttest: 0.8636527\ttest1: 1.1099323\tbest: 1.1099232 (492)\ttotal: 36s\tremaining: 11m 22s\n",
      "600:\tlearn: 0.8595440\ttest: 0.8595440\ttest1: 1.1056829\tbest: 1.1056783 (597)\ttotal: 43s\tremaining: 11m 12s\n",
      "700:\tlearn: 0.8584967\ttest: 0.8584967\ttest1: 1.1047503\tbest: 1.1046915 (648)\ttotal: 50s\tremaining: 11m 3s\n"
     ]
    },
    {
     "name": "stderr",
     "output_type": "stream",
     "text": [
      "\u001b[32m[I 2021-07-30 11:51:33,817]\u001b[0m Trial 24 finished with value: -1.1042991824018018 and parameters: {'colsample_bylevel': 0.08978999097956673, 'depth': 7, 'boosting_type': 'Plain', 'bootstrap_type': 'Bernoulli', 'l2_leaf_reg': 9.21795530976959, 'random_strength': 0.11429696243210019, 'subsample': 0.27762976172877685}. Best is trial 21 with value: -1.0893608618833752.\u001b[0m\n"
     ]
    },
    {
     "name": "stdout",
     "output_type": "stream",
     "text": [
      "Stopped by overfitting detector  (100 iterations wait)\n",
      "\n",
      "bestTest = 1.104691501\n",
      "bestIteration = 648\n",
      "\n",
      "Shrink model to first 649 iterations.\n",
      "0:\tlearn: 1.0033714\ttest: 1.0033714\ttest1: 1.3031217\tbest: 1.3031217 (0)\ttotal: 93.4ms\tremaining: 15m 34s\n",
      "100:\tlearn: 0.8973179\ttest: 0.8973179\ttest1: 1.1501303\tbest: 1.1501303 (100)\ttotal: 7.66s\tremaining: 12m 30s\n",
      "200:\tlearn: 0.8759670\ttest: 0.8759670\ttest1: 1.1179948\tbest: 1.1179948 (200)\ttotal: 14.2s\tremaining: 11m 30s\n",
      "300:\tlearn: 0.8733950\ttest: 0.8733950\ttest1: 1.1150392\tbest: 1.1150383 (295)\ttotal: 20.6s\tremaining: 11m 4s\n",
      "400:\tlearn: 0.8697961\ttest: 0.8697961\ttest1: 1.1121347\tbest: 1.1121347 (400)\ttotal: 27.1s\tremaining: 10m 48s\n",
      "500:\tlearn: 0.8649305\ttest: 0.8649305\ttest1: 1.1060162\tbest: 1.1060129 (499)\ttotal: 33.6s\tremaining: 10m 36s\n",
      "600:\tlearn: 0.8627924\ttest: 0.8627924\ttest1: 1.1036893\tbest: 1.1036296 (597)\ttotal: 40.1s\tremaining: 10m 26s\n",
      "700:\tlearn: 0.8609012\ttest: 0.8609012\ttest1: 1.1012457\tbest: 1.1012440 (698)\ttotal: 46.5s\tremaining: 10m 17s\n",
      "800:\tlearn: 0.8592612\ttest: 0.8592612\ttest1: 1.1006976\tbest: 1.1002812 (791)\ttotal: 53s\tremaining: 10m 8s\n",
      "900:\tlearn: 0.8576709\ttest: 0.8576709\ttest1: 1.1004267\tbest: 1.1001339 (853)\ttotal: 59.5s\tremaining: 10m\n",
      "1000:\tlearn: 0.8551136\ttest: 0.8551136\ttest1: 1.0973274\tbest: 1.0973259 (998)\ttotal: 1m 6s\tremaining: 9m 53s\n",
      "1100:\tlearn: 0.8535572\ttest: 0.8535572\ttest1: 1.0962421\tbest: 1.0962274 (1086)\ttotal: 1m 12s\tremaining: 9m 46s\n",
      "1200:\tlearn: 0.8526286\ttest: 0.8526286\ttest1: 1.0955709\tbest: 1.0955604 (1197)\ttotal: 1m 19s\tremaining: 9m 39s\n",
      "1300:\tlearn: 0.8518476\ttest: 0.8518476\ttest1: 1.0953105\tbest: 1.0953105 (1300)\ttotal: 1m 25s\tremaining: 9m 32s\n",
      "1400:\tlearn: 0.8515279\ttest: 0.8515279\ttest1: 1.0951121\tbest: 1.0950892 (1393)\ttotal: 1m 32s\tremaining: 9m 25s\n",
      "1500:\tlearn: 0.8509393\ttest: 0.8509393\ttest1: 1.0947278\tbest: 1.0947070 (1486)\ttotal: 1m 38s\tremaining: 9m 18s\n",
      "1600:\tlearn: 0.8503322\ttest: 0.8503322\ttest1: 1.0944443\tbest: 1.0944347 (1595)\ttotal: 1m 45s\tremaining: 9m 12s\n",
      "1700:\tlearn: 0.8497973\ttest: 0.8497973\ttest1: 1.0946484\tbest: 1.0943157 (1614)\ttotal: 1m 51s\tremaining: 9m 5s\n"
     ]
    },
    {
     "name": "stderr",
     "output_type": "stream",
     "text": [
      "\u001b[32m[I 2021-07-30 11:53:27,204]\u001b[0m Trial 25 finished with value: -1.0935597346867973 and parameters: {'colsample_bylevel': 0.09141345936983562, 'depth': 6, 'boosting_type': 'Plain', 'bootstrap_type': 'Bernoulli', 'l2_leaf_reg': 2.444916173109537, 'random_strength': 1.3261939735558017, 'subsample': 0.10300377348483702}. Best is trial 21 with value: -1.0893608618833752.\u001b[0m\n"
     ]
    },
    {
     "name": "stdout",
     "output_type": "stream",
     "text": [
      "Stopped by overfitting detector  (100 iterations wait)\n",
      "\n",
      "bestTest = 1.094315717\n",
      "bestIteration = 1614\n",
      "\n",
      "Shrink model to first 1615 iterations.\n",
      "0:\tlearn: 1.0020821\ttest: 1.0020821\ttest1: 1.3011524\tbest: 1.3011524 (0)\ttotal: 99ms\tremaining: 16m 29s\n",
      "100:\tlearn: 0.8855474\ttest: 0.8855474\ttest1: 1.1377942\tbest: 1.1377942 (100)\ttotal: 7.83s\tremaining: 12m 47s\n",
      "200:\tlearn: 0.8701825\ttest: 0.8701825\ttest1: 1.1239704\tbest: 1.1239519 (196)\ttotal: 14.6s\tremaining: 11m 53s\n",
      "300:\tlearn: 0.8614192\ttest: 0.8614192\ttest1: 1.1126369\tbest: 1.1126367 (299)\ttotal: 21.4s\tremaining: 11m 29s\n",
      "400:\tlearn: 0.8574037\ttest: 0.8574037\ttest1: 1.1100306\tbest: 1.1098760 (357)\ttotal: 28.2s\tremaining: 11m 14s\n",
      "500:\tlearn: 0.8526983\ttest: 0.8526983\ttest1: 1.1061307\tbest: 1.1060989 (487)\ttotal: 35s\tremaining: 11m 2s\n",
      "600:\tlearn: 0.8501437\ttest: 0.8501437\ttest1: 1.1052844\tbest: 1.1052844 (600)\ttotal: 41.7s\tremaining: 10m 52s\n",
      "700:\tlearn: 0.8474441\ttest: 0.8474441\ttest1: 1.1039169\tbest: 1.1038807 (698)\ttotal: 48.5s\tremaining: 10m 43s\n",
      "800:\tlearn: 0.8445460\ttest: 0.8445460\ttest1: 1.1026991\tbest: 1.1020114 (762)\ttotal: 55.3s\tremaining: 10m 35s\n"
     ]
    },
    {
     "name": "stderr",
     "output_type": "stream",
     "text": [
      "\u001b[32m[I 2021-07-30 11:54:27,352]\u001b[0m Trial 26 finished with value: -1.101238005534255 and parameters: {'colsample_bylevel': 0.09058079407666181, 'depth': 8, 'boosting_type': 'Plain', 'bootstrap_type': 'Bernoulli', 'l2_leaf_reg': 2.819966709163965, 'random_strength': 1.4974508397404231, 'subsample': 0.10997908532863337}. Best is trial 21 with value: -1.0893608618833752.\u001b[0m\n"
     ]
    },
    {
     "name": "stdout",
     "output_type": "stream",
     "text": [
      "Stopped by overfitting detector  (100 iterations wait)\n",
      "\n",
      "bestTest = 1.102011424\n",
      "bestIteration = 762\n",
      "\n",
      "Shrink model to first 763 iterations.\n",
      "0:\tlearn: 1.0027479\ttest: 1.0027479\ttest1: 1.3016806\tbest: 1.3016806 (0)\ttotal: 98.8ms\tremaining: 16m 27s\n",
      "100:\tlearn: 0.8894278\ttest: 0.8894278\ttest1: 1.1378628\tbest: 1.1377793 (99)\ttotal: 8s\tremaining: 13m 3s\n",
      "200:\tlearn: 0.8794718\ttest: 0.8794718\ttest1: 1.1246729\tbest: 1.1246729 (200)\ttotal: 15s\tremaining: 12m 9s\n",
      "300:\tlearn: 0.8738352\ttest: 0.8738352\ttest1: 1.1178525\tbest: 1.1178436 (298)\ttotal: 21.9s\tremaining: 11m 45s\n",
      "400:\tlearn: 0.8708341\ttest: 0.8708341\ttest1: 1.1143463\tbest: 1.1143426 (398)\ttotal: 28.8s\tremaining: 11m 30s\n",
      "500:\tlearn: 0.8684412\ttest: 0.8684412\ttest1: 1.1115132\tbest: 1.1115041 (498)\ttotal: 35.8s\tremaining: 11m 18s\n",
      "600:\tlearn: 0.8657802\ttest: 0.8657802\ttest1: 1.1087979\tbest: 1.1084709 (593)\ttotal: 42.7s\tremaining: 11m 8s\n",
      "700:\tlearn: 0.8641098\ttest: 0.8641098\ttest1: 1.1074518\tbest: 1.1074518 (700)\ttotal: 49.7s\tremaining: 10m 58s\n",
      "800:\tlearn: 0.8616752\ttest: 0.8616752\ttest1: 1.1047178\tbest: 1.1044613 (776)\ttotal: 56.7s\tremaining: 10m 50s\n",
      "900:\tlearn: 0.8603059\ttest: 0.8603059\ttest1: 1.1032275\tbest: 1.1028929 (862)\ttotal: 1m 3s\tremaining: 10m 42s\n"
     ]
    },
    {
     "name": "stderr",
     "output_type": "stream",
     "text": [
      "\u001b[32m[I 2021-07-30 11:55:35,907]\u001b[0m Trial 27 finished with value: -1.102473942233572 and parameters: {'colsample_bylevel': 0.07010414256808609, 'depth': 6, 'boosting_type': 'Plain', 'bootstrap_type': 'Bernoulli', 'l2_leaf_reg': 5.753665488601674, 'random_strength': 0.9752017807105755, 'subsample': 0.30365781872046316}. Best is trial 21 with value: -1.0893608618833752.\u001b[0m\n"
     ]
    },
    {
     "name": "stdout",
     "output_type": "stream",
     "text": [
      "Stopped by overfitting detector  (100 iterations wait)\n",
      "\n",
      "bestTest = 1.102892944\n",
      "bestIteration = 862\n",
      "\n",
      "Shrink model to first 863 iterations.\n",
      "0:\tlearn: 1.0036289\ttest: 1.0036289\ttest1: 1.3036448\tbest: 1.3036448 (0)\ttotal: 96.3ms\tremaining: 16m 3s\n",
      "100:\tlearn: 0.8929437\ttest: 0.8929437\ttest1: 1.1538494\tbest: 1.1538494 (100)\ttotal: 8s\tremaining: 13m 4s\n",
      "200:\tlearn: 0.8754149\ttest: 0.8754149\ttest1: 1.1308994\tbest: 1.1308790 (190)\ttotal: 14.8s\tremaining: 12m 2s\n",
      "300:\tlearn: 0.8663380\ttest: 0.8663380\ttest1: 1.1220386\tbest: 1.1219664 (294)\ttotal: 21.6s\tremaining: 11m 37s\n",
      "400:\tlearn: 0.8615746\ttest: 0.8615746\ttest1: 1.1178831\tbest: 1.1178414 (393)\ttotal: 28.4s\tremaining: 11m 20s\n",
      "500:\tlearn: 0.8550206\ttest: 0.8550206\ttest1: 1.1114314\tbest: 1.1114314 (500)\ttotal: 35.2s\tremaining: 11m 7s\n",
      "600:\tlearn: 0.8502821\ttest: 0.8502821\ttest1: 1.1076265\tbest: 1.1076052 (595)\ttotal: 42s\tremaining: 10m 56s\n",
      "700:\tlearn: 0.8480344\ttest: 0.8480344\ttest1: 1.1064736\tbest: 1.1060324 (687)\ttotal: 48.8s\tremaining: 10m 47s\n",
      "800:\tlearn: 0.8454249\ttest: 0.8454249\ttest1: 1.1049315\tbest: 1.1048535 (763)\ttotal: 55.6s\tremaining: 10m 39s\n",
      "900:\tlearn: 0.8433010\ttest: 0.8433010\ttest1: 1.1038794\tbest: 1.1037999 (851)\ttotal: 1m 2s\tremaining: 10m 31s\n",
      "1000:\tlearn: 0.8418187\ttest: 0.8418187\ttest1: 1.1034295\tbest: 1.1032255 (951)\ttotal: 1m 9s\tremaining: 10m 23s\n",
      "1100:\tlearn: 0.8410315\ttest: 0.8410315\ttest1: 1.1032018\tbest: 1.1030208 (1072)\ttotal: 1m 16s\tremaining: 10m 15s\n",
      "1200:\tlearn: 0.8398531\ttest: 0.8398531\ttest1: 1.1027697\tbest: 1.1022194 (1125)\ttotal: 1m 22s\tremaining: 10m 7s\n",
      "Stopped by overfitting detector  (100 iterations wait)\n",
      "\n",
      "bestTest = 1.102219399\n",
      "bestIteration = 1125\n",
      "\n",
      "Shrink model to first 1126 iterations.\n"
     ]
    },
    {
     "name": "stderr",
     "output_type": "stream",
     "text": [
      "\u001b[32m[I 2021-07-30 11:57:01,354]\u001b[0m Trial 28 finished with value: -1.101297789272773 and parameters: {'colsample_bylevel': 0.09994874961243812, 'depth': 8, 'boosting_type': 'Plain', 'bootstrap_type': 'Bernoulli', 'l2_leaf_reg': 2.121023492510339, 'random_strength': 2.343797222333696, 'subsample': 0.10599587912919914}. Best is trial 21 with value: -1.0893608618833752.\u001b[0m\n"
     ]
    },
    {
     "name": "stdout",
     "output_type": "stream",
     "text": [
      "0:\tlearn: 1.0034953\ttest: 1.0034953\ttest1: 1.3041581\tbest: 1.3041581 (0)\ttotal: 100ms\tremaining: 16m 39s\n",
      "100:\tlearn: 0.8846957\ttest: 0.8846957\ttest1: 1.1302791\tbest: 1.1302791 (100)\ttotal: 8.1s\tremaining: 13m 13s\n",
      "200:\tlearn: 0.8732072\ttest: 0.8732072\ttest1: 1.1147114\tbest: 1.1147114 (200)\ttotal: 14.9s\tremaining: 12m 8s\n",
      "300:\tlearn: 0.8675193\ttest: 0.8675193\ttest1: 1.1092563\tbest: 1.1092563 (300)\ttotal: 21.7s\tremaining: 11m 40s\n",
      "400:\tlearn: 0.8628535\ttest: 0.8628535\ttest1: 1.1051442\tbest: 1.1045322 (377)\ttotal: 28.5s\tremaining: 11m 23s\n",
      "500:\tlearn: 0.8607198\ttest: 0.8607198\ttest1: 1.1030566\tbest: 1.1029783 (463)\ttotal: 35.3s\tremaining: 11m 9s\n",
      "600:\tlearn: 0.8566364\ttest: 0.8566364\ttest1: 1.0989714\tbest: 1.0989677 (599)\ttotal: 42.1s\tremaining: 10m 58s\n",
      "700:\tlearn: 0.8553985\ttest: 0.8553985\ttest1: 1.0980287\tbest: 1.0980137 (688)\ttotal: 49s\tremaining: 10m 50s\n",
      "800:\tlearn: 0.8536498\ttest: 0.8536498\ttest1: 1.0963660\tbest: 1.0963229 (786)\ttotal: 55.9s\tremaining: 10m 41s\n",
      "900:\tlearn: 0.8522466\ttest: 0.8522466\ttest1: 1.0956579\tbest: 1.0956537 (899)\ttotal: 1m 2s\tremaining: 10m 33s\n",
      "1000:\tlearn: 0.8515264\ttest: 0.8515264\ttest1: 1.0956577\tbest: 1.0955250 (962)\ttotal: 1m 9s\tremaining: 10m 25s\n",
      "1100:\tlearn: 0.8501627\ttest: 0.8501627\ttest1: 1.0948005\tbest: 1.0948005 (1100)\ttotal: 1m 16s\tremaining: 10m 17s\n",
      "1200:\tlearn: 0.8495926\ttest: 0.8495926\ttest1: 1.0945630\tbest: 1.0945343 (1189)\ttotal: 1m 23s\tremaining: 10m 10s\n",
      "1300:\tlearn: 0.8488216\ttest: 0.8488216\ttest1: 1.0944030\tbest: 1.0943771 (1299)\ttotal: 1m 30s\tremaining: 10m 2s\n",
      "1400:\tlearn: 0.8477092\ttest: 0.8477092\ttest1: 1.0946508\tbest: 1.0942604 (1344)\ttotal: 1m 37s\tremaining: 9m 55s\n",
      "1500:\tlearn: 0.8467011\ttest: 0.8467011\ttest1: 1.0942117\tbest: 1.0940932 (1442)\ttotal: 1m 43s\tremaining: 9m 48s\n",
      "1600:\tlearn: 0.8462454\ttest: 0.8462454\ttest1: 1.0940207\tbest: 1.0939369 (1591)\ttotal: 1m 50s\tremaining: 9m 41s\n"
     ]
    },
    {
     "name": "stderr",
     "output_type": "stream",
     "text": [
      "\u001b[32m[I 2021-07-30 11:58:59,048]\u001b[0m Trial 29 finished with value: -1.0933086000036456 and parameters: {'colsample_bylevel': 0.09123278883928926, 'depth': 7, 'boosting_type': 'Plain', 'bootstrap_type': 'Bernoulli', 'l2_leaf_reg': 4.585926379571582, 'random_strength': 0.46201418667530036, 'subsample': 0.20480540495715777}. Best is trial 21 with value: -1.0893608618833752.\u001b[0m\n"
     ]
    },
    {
     "name": "stdout",
     "output_type": "stream",
     "text": [
      "Stopped by overfitting detector  (100 iterations wait)\n",
      "\n",
      "bestTest = 1.0939369\n",
      "bestIteration = 1591\n",
      "\n",
      "Shrink model to first 1592 iterations.\n",
      "0:\tlearn: 1.0027308\ttest: 1.0027308\ttest1: 1.3025698\tbest: 1.3025698 (0)\ttotal: 102ms\tremaining: 17m 4s\n",
      "100:\tlearn: 0.8830396\ttest: 0.8830396\ttest1: 1.1329771\tbest: 1.1329771 (100)\ttotal: 7.92s\tremaining: 12m 56s\n",
      "200:\tlearn: 0.8708338\ttest: 0.8708338\ttest1: 1.1163865\tbest: 1.1163831 (198)\ttotal: 15.1s\tremaining: 12m 15s\n",
      "300:\tlearn: 0.8649595\ttest: 0.8649595\ttest1: 1.1090153\tbest: 1.1089879 (299)\ttotal: 22.2s\tremaining: 11m 56s\n",
      "400:\tlearn: 0.8625657\ttest: 0.8625657\ttest1: 1.1071779\tbest: 1.1071779 (400)\ttotal: 29.4s\tremaining: 11m 43s\n",
      "500:\tlearn: 0.8584323\ttest: 0.8584323\ttest1: 1.1027066\tbest: 1.1027053 (497)\ttotal: 36.5s\tremaining: 11m 32s\n",
      "600:\tlearn: 0.8554591\ttest: 0.8554591\ttest1: 1.1002736\tbest: 1.1002736 (600)\ttotal: 43.7s\tremaining: 11m 23s\n",
      "700:\tlearn: 0.8537558\ttest: 0.8537558\ttest1: 1.0999435\tbest: 1.0999435 (700)\ttotal: 50.9s\tremaining: 11m 14s\n",
      "800:\tlearn: 0.8528864\ttest: 0.8528864\ttest1: 1.0998240\tbest: 1.0998210 (796)\ttotal: 58s\tremaining: 11m 6s\n",
      "900:\tlearn: 0.8514751\ttest: 0.8514751\ttest1: 1.0984647\tbest: 1.0983547 (863)\ttotal: 1m 5s\tremaining: 10m 58s\n",
      "1000:\tlearn: 0.8496051\ttest: 0.8496051\ttest1: 1.0960853\tbest: 1.0960536 (983)\ttotal: 1m 12s\tremaining: 10m 50s\n",
      "1100:\tlearn: 0.8480073\ttest: 0.8480073\ttest1: 1.0946222\tbest: 1.0946222 (1100)\ttotal: 1m 19s\tremaining: 10m 43s\n",
      "1200:\tlearn: 0.8470966\ttest: 0.8470966\ttest1: 1.0944967\tbest: 1.0944831 (1186)\ttotal: 1m 26s\tremaining: 10m 35s\n",
      "1300:\tlearn: 0.8464355\ttest: 0.8464355\ttest1: 1.0942824\tbest: 1.0941569 (1285)\ttotal: 1m 34s\tremaining: 10m 28s\n"
     ]
    },
    {
     "name": "stderr",
     "output_type": "stream",
     "text": [
      "\u001b[32m[I 2021-07-30 12:00:39,853]\u001b[0m Trial 30 finished with value: -1.0934701016693629 and parameters: {'colsample_bylevel': 0.05016417181627733, 'depth': 7, 'boosting_type': 'Plain', 'bootstrap_type': 'Bernoulli', 'l2_leaf_reg': 4.463010931187242, 'random_strength': 0.40099674575170846, 'subsample': 0.37623810199937846}. Best is trial 21 with value: -1.0893608618833752.\u001b[0m\n"
     ]
    },
    {
     "name": "stdout",
     "output_type": "stream",
     "text": [
      "Stopped by overfitting detector  (100 iterations wait)\n",
      "\n",
      "bestTest = 1.094156926\n",
      "bestIteration = 1285\n",
      "\n",
      "Shrink model to first 1286 iterations.\n",
      "0:\tlearn: 1.0016900\ttest: 1.0016900\ttest1: 1.3002813\tbest: 1.3002813 (0)\ttotal: 103ms\tremaining: 17m 10s\n",
      "100:\tlearn: 0.8863084\ttest: 0.8863084\ttest1: 1.1365926\tbest: 1.1365926 (100)\ttotal: 8.28s\tremaining: 13m 31s\n",
      "200:\tlearn: 0.8748740\ttest: 0.8748740\ttest1: 1.1235153\tbest: 1.1227061 (196)\ttotal: 15.4s\tremaining: 12m 29s\n",
      "300:\tlearn: 0.8680454\ttest: 0.8680454\ttest1: 1.1173994\tbest: 1.1171715 (290)\ttotal: 22.5s\tremaining: 12m 6s\n",
      "400:\tlearn: 0.8626898\ttest: 0.8626898\ttest1: 1.1117179\tbest: 1.1117179 (400)\ttotal: 29.7s\tremaining: 11m 50s\n",
      "500:\tlearn: 0.8607197\ttest: 0.8607197\ttest1: 1.1100892\tbest: 1.1100892 (500)\ttotal: 36.8s\tremaining: 11m 38s\n",
      "600:\tlearn: 0.8564852\ttest: 0.8564852\ttest1: 1.1068397\tbest: 1.1068396 (599)\ttotal: 44s\tremaining: 11m 27s\n",
      "700:\tlearn: 0.8545998\ttest: 0.8545998\ttest1: 1.1053836\tbest: 1.1053836 (699)\ttotal: 51.2s\tremaining: 11m 18s\n",
      "800:\tlearn: 0.8520207\ttest: 0.8520207\ttest1: 1.1032643\tbest: 1.1032343 (790)\ttotal: 58.4s\tremaining: 11m 10s\n",
      "900:\tlearn: 0.8502817\ttest: 0.8502817\ttest1: 1.1023038\tbest: 1.1022986 (891)\ttotal: 1m 5s\tremaining: 11m 1s\n",
      "1000:\tlearn: 0.8488243\ttest: 0.8488243\ttest1: 1.1011023\tbest: 1.1010530 (976)\ttotal: 1m 12s\tremaining: 10m 53s\n",
      "1100:\tlearn: 0.8476471\ttest: 0.8476471\ttest1: 1.1001512\tbest: 1.1001445 (1096)\ttotal: 1m 19s\tremaining: 10m 44s\n",
      "1200:\tlearn: 0.8467842\ttest: 0.8467842\ttest1: 1.0997053\tbest: 1.0996302 (1170)\ttotal: 1m 26s\tremaining: 10m 36s\n"
     ]
    },
    {
     "name": "stderr",
     "output_type": "stream",
     "text": [
      "\u001b[32m[I 2021-07-30 12:02:12,454]\u001b[0m Trial 31 finished with value: -1.0989426770062485 and parameters: {'colsample_bylevel': 0.04235121076572272, 'depth': 7, 'boosting_type': 'Plain', 'bootstrap_type': 'Bernoulli', 'l2_leaf_reg': 4.206246733928195, 'random_strength': 0.37463011406828794, 'subsample': 0.3707544283521838}. Best is trial 21 with value: -1.0893608618833752.\u001b[0m\n"
     ]
    },
    {
     "name": "stdout",
     "output_type": "stream",
     "text": [
      "Stopped by overfitting detector  (100 iterations wait)\n",
      "\n",
      "bestTest = 1.099630181\n",
      "bestIteration = 1170\n",
      "\n",
      "Shrink model to first 1171 iterations.\n",
      "0:\tlearn: 1.0028277\ttest: 1.0028277\ttest1: 1.3025168\tbest: 1.3025168 (0)\ttotal: 96.8ms\tremaining: 16m 8s\n",
      "100:\tlearn: 0.8878952\ttest: 0.8878952\ttest1: 1.1393157\tbest: 1.1393157 (100)\ttotal: 7.19s\tremaining: 11m 44s\n",
      "200:\tlearn: 0.8746192\ttest: 0.8746192\ttest1: 1.1231761\tbest: 1.1231761 (200)\ttotal: 14s\tremaining: 11m 23s\n",
      "300:\tlearn: 0.8678540\ttest: 0.8678540\ttest1: 1.1158504\tbest: 1.1158464 (298)\ttotal: 20.8s\tremaining: 11m 11s\n",
      "400:\tlearn: 0.8656642\ttest: 0.8656642\ttest1: 1.1147237\tbest: 1.1146844 (392)\ttotal: 27.7s\tremaining: 11m 2s\n",
      "500:\tlearn: 0.8624156\ttest: 0.8624156\ttest1: 1.1117351\tbest: 1.1117351 (500)\ttotal: 34.5s\tremaining: 10m 54s\n",
      "600:\tlearn: 0.8598483\ttest: 0.8598483\ttest1: 1.1094316\tbest: 1.1093993 (594)\ttotal: 41.3s\tremaining: 10m 46s\n",
      "700:\tlearn: 0.8579499\ttest: 0.8579499\ttest1: 1.1078781\tbest: 1.1078545 (682)\ttotal: 48.2s\tremaining: 10m 39s\n",
      "800:\tlearn: 0.8549164\ttest: 0.8549164\ttest1: 1.1040564\tbest: 1.1040564 (800)\ttotal: 55s\tremaining: 10m 31s\n",
      "900:\tlearn: 0.8528964\ttest: 0.8528964\ttest1: 1.1024709\tbest: 1.1024709 (900)\ttotal: 1m 1s\tremaining: 10m 24s\n",
      "1000:\tlearn: 0.8506438\ttest: 0.8506438\ttest1: 1.1005484\tbest: 1.1004835 (945)\ttotal: 1m 8s\tremaining: 10m 18s\n",
      "1100:\tlearn: 0.8491545\ttest: 0.8491545\ttest1: 1.0995662\tbest: 1.0994024 (1085)\ttotal: 1m 15s\tremaining: 10m 11s\n"
     ]
    },
    {
     "name": "stderr",
     "output_type": "stream",
     "text": [
      "\u001b[32m[I 2021-07-30 12:03:34,509]\u001b[0m Trial 32 finished with value: -1.0986084763582704 and parameters: {'colsample_bylevel': 0.05277765685427911, 'depth': 7, 'boosting_type': 'Plain', 'bootstrap_type': 'Bernoulli', 'l2_leaf_reg': 6.276519790439444, 'random_strength': 2.067989216103383, 'subsample': 0.23454183214288898}. Best is trial 21 with value: -1.0893608618833752.\u001b[0m\n"
     ]
    },
    {
     "name": "stdout",
     "output_type": "stream",
     "text": [
      "Stopped by overfitting detector  (100 iterations wait)\n",
      "\n",
      "bestTest = 1.099402373\n",
      "bestIteration = 1085\n",
      "\n",
      "Shrink model to first 1086 iterations.\n",
      "0:\tlearn: 1.0018385\ttest: 1.0018385\ttest1: 1.3011838\tbest: 1.3011838 (0)\ttotal: 104ms\tremaining: 17m 21s\n",
      "100:\tlearn: 0.8817086\ttest: 0.8817086\ttest1: 1.1283109\tbest: 1.1283109 (100)\ttotal: 8.23s\tremaining: 13m 26s\n",
      "200:\tlearn: 0.8690096\ttest: 0.8690096\ttest1: 1.1175264\tbest: 1.1173900 (179)\ttotal: 15.5s\tremaining: 12m 37s\n",
      "300:\tlearn: 0.8628628\ttest: 0.8628628\ttest1: 1.1104787\tbest: 1.1104766 (298)\ttotal: 22.8s\tremaining: 12m 14s\n",
      "400:\tlearn: 0.8580372\ttest: 0.8580372\ttest1: 1.1073263\tbest: 1.1070725 (394)\ttotal: 30.1s\tremaining: 12m\n",
      "500:\tlearn: 0.8533576\ttest: 0.8533576\ttest1: 1.1045183\tbest: 1.1045183 (500)\ttotal: 37.4s\tremaining: 11m 49s\n",
      "600:\tlearn: 0.8510120\ttest: 0.8510120\ttest1: 1.1023243\tbest: 1.1023026 (599)\ttotal: 44.7s\tremaining: 11m 39s\n",
      "700:\tlearn: 0.8490329\ttest: 0.8490329\ttest1: 1.1011251\tbest: 1.1005707 (663)\ttotal: 52s\tremaining: 11m 29s\n",
      "800:\tlearn: 0.8469389\ttest: 0.8469389\ttest1: 1.0995847\tbest: 1.0994816 (782)\ttotal: 59.3s\tremaining: 11m 20s\n",
      "900:\tlearn: 0.8456278\ttest: 0.8456278\ttest1: 1.0996244\tbest: 1.0993649 (803)\ttotal: 1m 6s\tremaining: 11m 12s\n"
     ]
    },
    {
     "name": "stderr",
     "output_type": "stream",
     "text": [
      "\u001b[32m[I 2021-07-30 12:04:41,930]\u001b[0m Trial 33 finished with value: -1.0986910620502166 and parameters: {'colsample_bylevel': 0.02746743725419755, 'depth': 8, 'boosting_type': 'Plain', 'bootstrap_type': 'Bernoulli', 'l2_leaf_reg': 4.4748686972781595, 'random_strength': 0.5351732762930568, 'subsample': 0.36847122645616587}. Best is trial 21 with value: -1.0893608618833752.\u001b[0m\n"
     ]
    },
    {
     "name": "stdout",
     "output_type": "stream",
     "text": [
      "Stopped by overfitting detector  (100 iterations wait)\n",
      "\n",
      "bestTest = 1.09936493\n",
      "bestIteration = 803\n",
      "\n",
      "Shrink model to first 804 iterations.\n",
      "0:\tlearn: 1.0016087\ttest: 1.0016087\ttest1: 1.3000581\tbest: 1.3000581 (0)\ttotal: 96ms\tremaining: 16m\n",
      "100:\tlearn: 0.8836893\ttest: 0.8836893\ttest1: 1.1298319\tbest: 1.1298261 (98)\ttotal: 7.72s\tremaining: 12m 37s\n",
      "200:\tlearn: 0.8703182\ttest: 0.8703182\ttest1: 1.1154584\tbest: 1.1152919 (192)\ttotal: 14.5s\tremaining: 11m 45s\n",
      "300:\tlearn: 0.8646127\ttest: 0.8646127\ttest1: 1.1092967\tbest: 1.1092912 (298)\ttotal: 21.2s\tremaining: 11m 23s\n",
      "400:\tlearn: 0.8622451\ttest: 0.8622451\ttest1: 1.1063782\tbest: 1.1061196 (383)\ttotal: 27.9s\tremaining: 11m 8s\n",
      "500:\tlearn: 0.8596533\ttest: 0.8596533\ttest1: 1.1039555\tbest: 1.1039259 (482)\ttotal: 34.7s\tremaining: 10m 57s\n",
      "600:\tlearn: 0.8550017\ttest: 0.8550017\ttest1: 1.0993818\tbest: 1.0992844 (599)\ttotal: 41.4s\tremaining: 10m 47s\n",
      "700:\tlearn: 0.8521581\ttest: 0.8521581\ttest1: 1.0962272\tbest: 1.0961584 (692)\ttotal: 48.2s\tremaining: 10m 38s\n",
      "800:\tlearn: 0.8504812\ttest: 0.8504812\ttest1: 1.0948341\tbest: 1.0948331 (798)\ttotal: 54.9s\tremaining: 10m 30s\n",
      "900:\tlearn: 0.8491482\ttest: 0.8491482\ttest1: 1.0949675\tbest: 1.0947331 (875)\ttotal: 1m 1s\tremaining: 10m 22s\n",
      "1000:\tlearn: 0.8477321\ttest: 0.8477321\ttest1: 1.0938766\tbest: 1.0937465 (972)\ttotal: 1m 8s\tremaining: 10m 15s\n",
      "1100:\tlearn: 0.8469513\ttest: 0.8469513\ttest1: 1.0936556\tbest: 1.0935609 (1055)\ttotal: 1m 15s\tremaining: 10m 7s\n",
      "1200:\tlearn: 0.8457221\ttest: 0.8457221\ttest1: 1.0935377\tbest: 1.0935205 (1149)\ttotal: 1m 21s\tremaining: 10m\n",
      "1300:\tlearn: 0.8449806\ttest: 0.8449806\ttest1: 1.0933392\tbest: 1.0933381 (1295)\ttotal: 1m 28s\tremaining: 9m 53s\n",
      "1400:\tlearn: 0.8444115\ttest: 0.8444115\ttest1: 1.0930451\tbest: 1.0930449 (1398)\ttotal: 1m 35s\tremaining: 9m 46s\n",
      "1500:\tlearn: 0.8433109\ttest: 0.8433109\ttest1: 1.0927157\tbest: 1.0927108 (1497)\ttotal: 1m 42s\tremaining: 9m 39s\n",
      "1600:\tlearn: 0.8429160\ttest: 0.8429160\ttest1: 1.0927357\tbest: 1.0926244 (1599)\ttotal: 1m 49s\tremaining: 9m 32s\n",
      "1700:\tlearn: 0.8423074\ttest: 0.8423074\ttest1: 1.0922187\tbest: 1.0921085 (1642)\ttotal: 1m 55s\tremaining: 9m 24s\n"
     ]
    },
    {
     "name": "stderr",
     "output_type": "stream",
     "text": [
      "\u001b[32m[I 2021-07-30 12:06:41,215]\u001b[0m Trial 34 finished with value: -1.0915207844919856 and parameters: {'colsample_bylevel': 0.06713965293418739, 'depth': 7, 'boosting_type': 'Plain', 'bootstrap_type': 'Bernoulli', 'l2_leaf_reg': 5.429258811612115, 'random_strength': 0.09903674916119876, 'subsample': 0.19115738716523423}. Best is trial 21 with value: -1.0893608618833752.\u001b[0m\n"
     ]
    },
    {
     "name": "stdout",
     "output_type": "stream",
     "text": [
      "Stopped by overfitting detector  (100 iterations wait)\n",
      "\n",
      "bestTest = 1.092108471\n",
      "bestIteration = 1642\n",
      "\n",
      "Shrink model to first 1643 iterations.\n",
      "0:\tlearn: 1.0030896\ttest: 1.0030896\ttest1: 1.3029297\tbest: 1.3029297 (0)\ttotal: 114ms\tremaining: 19m\n",
      "100:\tlearn: 0.8852052\ttest: 0.8852052\ttest1: 1.1320274\tbest: 1.1319641 (98)\ttotal: 9.1s\tremaining: 14m 51s\n",
      "200:\tlearn: 0.8762847\ttest: 0.8762847\ttest1: 1.1210182\tbest: 1.1208641 (194)\ttotal: 17.3s\tremaining: 14m 5s\n",
      "300:\tlearn: 0.8722454\ttest: 0.8722454\ttest1: 1.1150533\tbest: 1.1150525 (299)\ttotal: 25.5s\tremaining: 13m 42s\n",
      "400:\tlearn: 0.8689963\ttest: 0.8689963\ttest1: 1.1121907\tbest: 1.1121894 (399)\ttotal: 33.7s\tremaining: 13m 27s\n",
      "500:\tlearn: 0.8663461\ttest: 0.8663461\ttest1: 1.1092140\tbest: 1.1091856 (487)\ttotal: 42s\tremaining: 13m 16s\n",
      "600:\tlearn: 0.8638069\ttest: 0.8638069\ttest1: 1.1063560\tbest: 1.1063560 (600)\ttotal: 50.2s\tremaining: 13m 5s\n",
      "700:\tlearn: 0.8628570\ttest: 0.8628570\ttest1: 1.1053920\tbest: 1.1053916 (699)\ttotal: 58.4s\tremaining: 12m 54s\n",
      "800:\tlearn: 0.8603921\ttest: 0.8603921\ttest1: 1.1021181\tbest: 1.1021169 (795)\ttotal: 1m 6s\tremaining: 12m 45s\n",
      "900:\tlearn: 0.8588277\ttest: 0.8588277\ttest1: 1.1002407\tbest: 1.1002407 (900)\ttotal: 1m 14s\tremaining: 12m 35s\n",
      "1000:\tlearn: 0.8577185\ttest: 0.8577185\ttest1: 1.0986012\tbest: 1.0985397 (998)\ttotal: 1m 23s\tremaining: 12m 26s\n",
      "1100:\tlearn: 0.8563806\ttest: 0.8563806\ttest1: 1.0978877\tbest: 1.0978877 (1100)\ttotal: 1m 31s\tremaining: 12m 18s\n",
      "1200:\tlearn: 0.8559624\ttest: 0.8559624\ttest1: 1.0979246\tbest: 1.0978742 (1180)\ttotal: 1m 39s\tremaining: 12m 9s\n",
      "1300:\tlearn: 0.8556249\ttest: 0.8556249\ttest1: 1.0977517\tbest: 1.0977494 (1297)\ttotal: 1m 47s\tremaining: 12m 1s\n",
      "1400:\tlearn: 0.8547329\ttest: 0.8547329\ttest1: 1.0971514\tbest: 1.0971397 (1397)\ttotal: 1m 56s\tremaining: 11m 52s\n",
      "1500:\tlearn: 0.8537249\ttest: 0.8537249\ttest1: 1.0969488\tbest: 1.0966638 (1439)\ttotal: 2m 4s\tremaining: 11m 44s\n"
     ]
    },
    {
     "name": "stderr",
     "output_type": "stream",
     "text": [
      "\u001b[32m[I 2021-07-30 12:08:49,471]\u001b[0m Trial 35 finished with value: -1.0962023551711222 and parameters: {'colsample_bylevel': 0.06629166845563433, 'depth': 6, 'boosting_type': 'Plain', 'bootstrap_type': 'Bayesian', 'l2_leaf_reg': 9.432091701579143, 'random_strength': 1.9784896129818366, 'bagging_temperature': 0.5880337931705322}. Best is trial 21 with value: -1.0893608618833752.\u001b[0m\n"
     ]
    },
    {
     "name": "stdout",
     "output_type": "stream",
     "text": [
      "Stopped by overfitting detector  (100 iterations wait)\n",
      "\n",
      "bestTest = 1.096663783\n",
      "bestIteration = 1439\n",
      "\n",
      "Shrink model to first 1440 iterations.\n",
      "0:\tlearn: 1.0018172\ttest: 1.0018172\ttest1: 1.3000087\tbest: 1.3000087 (0)\ttotal: 96.5ms\tremaining: 16m 4s\n",
      "100:\tlearn: 0.8868041\ttest: 0.8868041\ttest1: 1.1344198\tbest: 1.1344198 (100)\ttotal: 8.07s\tremaining: 13m 11s\n",
      "200:\tlearn: 0.8775594\ttest: 0.8775594\ttest1: 1.1244164\tbest: 1.1242214 (188)\ttotal: 14.8s\tremaining: 12m 1s\n",
      "300:\tlearn: 0.8676252\ttest: 0.8676252\ttest1: 1.1121853\tbest: 1.1121817 (290)\ttotal: 21.5s\tremaining: 11m 34s\n",
      "400:\tlearn: 0.8635052\ttest: 0.8635052\ttest1: 1.1083311\tbest: 1.1083140 (398)\ttotal: 28.3s\tremaining: 11m 16s\n",
      "500:\tlearn: 0.8604318\ttest: 0.8604318\ttest1: 1.1045848\tbest: 1.1045848 (500)\ttotal: 35s\tremaining: 11m 3s\n",
      "600:\tlearn: 0.8591201\ttest: 0.8591201\ttest1: 1.1038477\tbest: 1.1038409 (593)\ttotal: 41.8s\tremaining: 10m 53s\n",
      "700:\tlearn: 0.8576004\ttest: 0.8576004\ttest1: 1.1025160\tbest: 1.1024640 (682)\ttotal: 48.5s\tremaining: 10m 43s\n",
      "800:\tlearn: 0.8566700\ttest: 0.8566700\ttest1: 1.1041652\tbest: 1.1014827 (778)\ttotal: 55.2s\tremaining: 10m 34s\n"
     ]
    },
    {
     "name": "stderr",
     "output_type": "stream",
     "text": [
      "\u001b[32m[I 2021-07-30 12:09:50,580]\u001b[0m Trial 36 finished with value: -1.1009397452243943 and parameters: {'colsample_bylevel': 0.07937516541684513, 'depth': 7, 'boosting_type': 'Plain', 'bootstrap_type': 'Bernoulli', 'l2_leaf_reg': 7.302254485901077, 'random_strength': 0.9924622881675764, 'subsample': 0.1836543222963683}. Best is trial 21 with value: -1.0893608618833752.\u001b[0m\n"
     ]
    },
    {
     "name": "stdout",
     "output_type": "stream",
     "text": [
      "Stopped by overfitting detector  (100 iterations wait)\n",
      "\n",
      "bestTest = 1.101482711\n",
      "bestIteration = 778\n",
      "\n",
      "Shrink model to first 779 iterations.\n",
      "0:\tlearn: 1.0021849\ttest: 1.0021849\ttest1: 1.3012494\tbest: 1.3012494 (0)\ttotal: 119ms\tremaining: 19m 50s\n",
      "100:\tlearn: 0.8894470\ttest: 0.8894470\ttest1: 1.1349668\tbest: 1.1349668 (100)\ttotal: 9.48s\tremaining: 15m 29s\n",
      "200:\tlearn: 0.8760644\ttest: 0.8760644\ttest1: 1.1185285\tbest: 1.1164388 (169)\ttotal: 17.9s\tremaining: 14m 33s\n",
      "300:\tlearn: 0.8716142\ttest: 0.8716142\ttest1: 1.1123743\tbest: 1.1123743 (300)\ttotal: 26.3s\tremaining: 14m 7s\n",
      "400:\tlearn: 0.8688530\ttest: 0.8688530\ttest1: 1.1098926\tbest: 1.1096199 (375)\ttotal: 34.7s\tremaining: 13m 51s\n",
      "500:\tlearn: 0.8649317\ttest: 0.8649317\ttest1: 1.1048870\tbest: 1.1048598 (489)\ttotal: 43.1s\tremaining: 13m 37s\n",
      "600:\tlearn: 0.8637442\ttest: 0.8637442\ttest1: 1.1044647\tbest: 1.1042052 (560)\ttotal: 51.6s\tremaining: 13m 26s\n",
      "700:\tlearn: 0.8618189\ttest: 0.8618189\ttest1: 1.1024345\tbest: 1.1024344 (698)\ttotal: 60s\tremaining: 13m 15s\n",
      "800:\tlearn: 0.8613904\ttest: 0.8613904\ttest1: 1.1028097\tbest: 1.1023860 (731)\ttotal: 1m 8s\tremaining: 13m 5s\n"
     ]
    },
    {
     "name": "stderr",
     "output_type": "stream",
     "text": [
      "\u001b[32m[I 2021-07-30 12:11:02,163]\u001b[0m Trial 37 finished with value: -1.1020593243247359 and parameters: {'colsample_bylevel': 0.09764536609452533, 'depth': 6, 'boosting_type': 'Plain', 'bootstrap_type': 'Bayesian', 'l2_leaf_reg': 5.317465249940617, 'random_strength': 0.08916473553238408, 'bagging_temperature': 0.9667716893489526}. Best is trial 21 with value: -1.0893608618833752.\u001b[0m\n"
     ]
    },
    {
     "name": "stdout",
     "output_type": "stream",
     "text": [
      "Stopped by overfitting detector  (100 iterations wait)\n",
      "\n",
      "bestTest = 1.102386021\n",
      "bestIteration = 731\n",
      "\n",
      "Shrink model to first 732 iterations.\n",
      "0:\tlearn: 1.0031562\ttest: 1.0031562\ttest1: 1.3027649\tbest: 1.3027649 (0)\ttotal: 116ms\tremaining: 19m 18s\n",
      "100:\tlearn: 0.8855107\ttest: 0.8855107\ttest1: 1.1390513\tbest: 1.1390513 (100)\ttotal: 9.52s\tremaining: 15m 32s\n",
      "200:\tlearn: 0.8707076\ttest: 0.8707076\ttest1: 1.1215340\tbest: 1.1210435 (195)\ttotal: 18s\tremaining: 14m 36s\n",
      "300:\tlearn: 0.8606989\ttest: 0.8606989\ttest1: 1.1106086\tbest: 1.1105795 (299)\ttotal: 26.5s\tremaining: 14m 13s\n",
      "400:\tlearn: 0.8577724\ttest: 0.8577724\ttest1: 1.1095154\tbest: 1.1094256 (379)\ttotal: 34.9s\tremaining: 13m 56s\n",
      "500:\tlearn: 0.8547339\ttest: 0.8547339\ttest1: 1.1076231\tbest: 1.1076027 (496)\ttotal: 43.4s\tremaining: 13m 42s\n",
      "600:\tlearn: 0.8506931\ttest: 0.8506931\ttest1: 1.1039245\tbest: 1.1038199 (572)\ttotal: 51.8s\tremaining: 13m 30s\n",
      "700:\tlearn: 0.8480197\ttest: 0.8480197\ttest1: 1.1027437\tbest: 1.1023970 (665)\ttotal: 1m\tremaining: 13m 20s\n"
     ]
    },
    {
     "name": "stderr",
     "output_type": "stream",
     "text": [
      "\u001b[32m[I 2021-07-30 12:12:08,643]\u001b[0m Trial 38 finished with value: -1.1015277667211836 and parameters: {'colsample_bylevel': 0.09361822945887123, 'depth': 8, 'boosting_type': 'Plain', 'bootstrap_type': 'Bernoulli', 'l2_leaf_reg': 3.8162383939476827, 'random_strength': 5.359229368758374, 'subsample': 0.652213632136047}. Best is trial 21 with value: -1.0893608618833752.\u001b[0m\n"
     ]
    },
    {
     "name": "stdout",
     "output_type": "stream",
     "text": [
      "Stopped by overfitting detector  (100 iterations wait)\n",
      "\n",
      "bestTest = 1.102397041\n",
      "bestIteration = 665\n",
      "\n",
      "Shrink model to first 666 iterations.\n",
      "0:\tlearn: 1.0017393\ttest: 1.0017393\ttest1: 1.3012434\tbest: 1.3012434 (0)\ttotal: 99.1ms\tremaining: 16m 30s\n",
      "100:\tlearn: 0.9056371\ttest: 0.9056371\ttest1: 1.1685421\tbest: 1.1685032 (95)\ttotal: 8.87s\tremaining: 14m 29s\n",
      "200:\tlearn: 0.8797222\ttest: 0.8797222\ttest1: 1.1295181\tbest: 1.1294632 (199)\ttotal: 16s\tremaining: 13m 1s\n",
      "300:\tlearn: 0.8738395\ttest: 0.8738395\ttest1: 1.1232363\tbest: 1.1232363 (300)\ttotal: 22.7s\tremaining: 12m 12s\n",
      "400:\tlearn: 0.8684718\ttest: 0.8684718\ttest1: 1.1159881\tbest: 1.1159863 (395)\ttotal: 29.4s\tremaining: 11m 44s\n",
      "500:\tlearn: 0.8644239\ttest: 0.8644239\ttest1: 1.1106587\tbest: 1.1106587 (500)\ttotal: 36.1s\tremaining: 11m 24s\n",
      "600:\tlearn: 0.8609442\ttest: 0.8609442\ttest1: 1.1071825\tbest: 1.1065445 (547)\ttotal: 42.8s\tremaining: 11m 9s\n",
      "700:\tlearn: 0.8587630\ttest: 0.8587630\ttest1: 1.1053922\tbest: 1.1052252 (693)\ttotal: 49.5s\tremaining: 10m 56s\n",
      "800:\tlearn: 0.8571929\ttest: 0.8571929\ttest1: 1.1036463\tbest: 1.1036459 (799)\ttotal: 56.2s\tremaining: 10m 45s\n",
      "900:\tlearn: 0.8557779\ttest: 0.8557779\ttest1: 1.1022646\tbest: 1.1022646 (899)\ttotal: 1m 3s\tremaining: 10m 36s\n",
      "1000:\tlearn: 0.8548948\ttest: 0.8548948\ttest1: 1.1014864\tbest: 1.1014864 (1000)\ttotal: 1m 9s\tremaining: 10m 27s\n",
      "1100:\tlearn: 0.8520031\ttest: 0.8520031\ttest1: 1.0993163\tbest: 1.0991309 (1066)\ttotal: 1m 16s\tremaining: 10m 18s\n"
     ]
    },
    {
     "name": "stderr",
     "output_type": "stream",
     "text": [
      "\u001b[32m[I 2021-07-30 12:13:30,247]\u001b[0m Trial 39 finished with value: -1.0984205442171555 and parameters: {'colsample_bylevel': 0.08560058004270747, 'depth': 7, 'boosting_type': 'Plain', 'bootstrap_type': 'Bernoulli', 'l2_leaf_reg': 6.47696796021253, 'random_strength': 3.3034248654545664, 'subsample': 0.17889638998839813}. Best is trial 21 with value: -1.0893608618833752.\u001b[0m\n"
     ]
    },
    {
     "name": "stdout",
     "output_type": "stream",
     "text": [
      "Stopped by overfitting detector  (100 iterations wait)\n",
      "\n",
      "bestTest = 1.09913093\n",
      "bestIteration = 1066\n",
      "\n",
      "Shrink model to first 1067 iterations.\n",
      "0:\tlearn: 1.0035574\ttest: 1.0035574\ttest1: 1.3031855\tbest: 1.3031855 (0)\ttotal: 96.4ms\tremaining: 16m 3s\n",
      "100:\tlearn: 0.9021638\ttest: 0.9021638\ttest1: 1.1629205\tbest: 1.1629205 (100)\ttotal: 9.07s\tremaining: 14m 49s\n",
      "200:\tlearn: 0.8683086\ttest: 0.8683086\ttest1: 1.1215180\tbest: 1.1215128 (198)\ttotal: 16.5s\tremaining: 13m 22s\n",
      "300:\tlearn: 0.8594792\ttest: 0.8594792\ttest1: 1.1176233\tbest: 1.1163233 (256)\ttotal: 23.8s\tremaining: 12m 48s\n"
     ]
    },
    {
     "name": "stderr",
     "output_type": "stream",
     "text": [
      "\u001b[32m[I 2021-07-30 12:13:58,743]\u001b[0m Trial 40 finished with value: -1.1156926335702295 and parameters: {'colsample_bylevel': 0.07951478500812155, 'depth': 9, 'boosting_type': 'Plain', 'bootstrap_type': 'Bernoulli', 'l2_leaf_reg': 9.102028392791736, 'random_strength': 3.957449410340108, 'subsample': 0.2314195976988389}. Best is trial 21 with value: -1.0893608618833752.\u001b[0m\n"
     ]
    },
    {
     "name": "stdout",
     "output_type": "stream",
     "text": [
      "Stopped by overfitting detector  (100 iterations wait)\n",
      "\n",
      "bestTest = 1.116323341\n",
      "bestIteration = 256\n",
      "\n",
      "Shrink model to first 257 iterations.\n",
      "0:\tlearn: 1.0026239\ttest: 1.0026239\ttest1: 1.3024657\tbest: 1.3024657 (0)\ttotal: 101ms\tremaining: 16m 52s\n",
      "100:\tlearn: 0.8825339\ttest: 0.8825339\ttest1: 1.1317896\tbest: 1.1317718 (98)\ttotal: 8.12s\tremaining: 13m 16s\n",
      "200:\tlearn: 0.8698301\ttest: 0.8698301\ttest1: 1.1163762\tbest: 1.1157421 (171)\ttotal: 15.3s\tremaining: 12m 27s\n",
      "300:\tlearn: 0.8650349\ttest: 0.8650349\ttest1: 1.1113769\tbest: 1.1113255 (295)\ttotal: 22.5s\tremaining: 12m 6s\n",
      "400:\tlearn: 0.8626335\ttest: 0.8626335\ttest1: 1.1098988\tbest: 1.1098237 (383)\ttotal: 29.7s\tremaining: 11m 52s\n",
      "500:\tlearn: 0.8589341\ttest: 0.8589341\ttest1: 1.1057811\tbest: 1.1057798 (498)\ttotal: 37s\tremaining: 11m 40s\n",
      "600:\tlearn: 0.8565283\ttest: 0.8565283\ttest1: 1.1034956\tbest: 1.1034956 (600)\ttotal: 44.2s\tremaining: 11m 31s\n",
      "700:\tlearn: 0.8546972\ttest: 0.8546972\ttest1: 1.1014300\tbest: 1.1014258 (696)\ttotal: 51.4s\tremaining: 11m 22s\n",
      "800:\tlearn: 0.8527742\ttest: 0.8527742\ttest1: 1.0995644\tbest: 1.0995251 (789)\ttotal: 58.7s\tremaining: 11m 13s\n",
      "900:\tlearn: 0.8517748\ttest: 0.8517748\ttest1: 1.0991805\tbest: 1.0990107 (826)\ttotal: 1m 5s\tremaining: 11m 5s\n"
     ]
    },
    {
     "name": "stderr",
     "output_type": "stream",
     "text": [
      "\u001b[32m[I 2021-07-30 12:15:07,134]\u001b[0m Trial 41 finished with value: -1.098528716557486 and parameters: {'colsample_bylevel': 0.051043534604695705, 'depth': 7, 'boosting_type': 'Plain', 'bootstrap_type': 'Bernoulli', 'l2_leaf_reg': 4.737043441762866, 'random_strength': 0.03363947453977345, 'subsample': 0.39154942156699635}. Best is trial 21 with value: -1.0893608618833752.\u001b[0m\n"
     ]
    },
    {
     "name": "stdout",
     "output_type": "stream",
     "text": [
      "Stopped by overfitting detector  (100 iterations wait)\n",
      "\n",
      "bestTest = 1.099010667\n",
      "bestIteration = 826\n",
      "\n",
      "Shrink model to first 827 iterations.\n",
      "0:\tlearn: 1.0033919\ttest: 1.0033919\ttest1: 1.3036286\tbest: 1.3036286 (0)\ttotal: 102ms\tremaining: 16m 58s\n",
      "100:\tlearn: 0.8858331\ttest: 0.8858331\ttest1: 1.1338948\tbest: 1.1338948 (100)\ttotal: 7.91s\tremaining: 12m 55s\n",
      "200:\tlearn: 0.8699131\ttest: 0.8699131\ttest1: 1.1156275\tbest: 1.1156275 (200)\ttotal: 14.8s\tremaining: 12m 2s\n",
      "300:\tlearn: 0.8667615\ttest: 0.8667615\ttest1: 1.1122228\tbest: 1.1122228 (300)\ttotal: 21.7s\tremaining: 11m 40s\n",
      "400:\tlearn: 0.8629385\ttest: 0.8629385\ttest1: 1.1092254\tbest: 1.1089894 (380)\ttotal: 28.7s\tremaining: 11m 26s\n",
      "500:\tlearn: 0.8607339\ttest: 0.8607339\ttest1: 1.1080129\tbest: 1.1080129 (500)\ttotal: 35.6s\tremaining: 11m 15s\n",
      "600:\tlearn: 0.8571112\ttest: 0.8571112\ttest1: 1.1038376\tbest: 1.1038240 (597)\ttotal: 42.5s\tremaining: 11m 5s\n",
      "700:\tlearn: 0.8549958\ttest: 0.8549958\ttest1: 1.1024502\tbest: 1.1024453 (699)\ttotal: 49.5s\tremaining: 10m 56s\n",
      "800:\tlearn: 0.8532876\ttest: 0.8532876\ttest1: 1.1012162\tbest: 1.1011746 (798)\ttotal: 56.4s\tremaining: 10m 47s\n",
      "900:\tlearn: 0.8521775\ttest: 0.8521775\ttest1: 1.1008659\tbest: 1.1008254 (888)\ttotal: 1m 3s\tremaining: 10m 39s\n",
      "1000:\tlearn: 0.8504761\ttest: 0.8504761\ttest1: 1.0996952\tbest: 1.0996434 (995)\ttotal: 1m 10s\tremaining: 10m 32s\n",
      "1100:\tlearn: 0.8498624\ttest: 0.8498624\ttest1: 1.0995880\tbest: 1.0995114 (1085)\ttotal: 1m 17s\tremaining: 10m 24s\n",
      "1200:\tlearn: 0.8493292\ttest: 0.8493292\ttest1: 1.0991376\tbest: 1.0991304 (1193)\ttotal: 1m 24s\tremaining: 10m 16s\n",
      "1300:\tlearn: 0.8486374\ttest: 0.8486374\ttest1: 1.0990368\tbest: 1.0989092 (1203)\ttotal: 1m 31s\tremaining: 10m 9s\n"
     ]
    },
    {
     "name": "stderr",
     "output_type": "stream",
     "text": [
      "\u001b[32m[I 2021-07-30 12:16:39,131]\u001b[0m Trial 42 finished with value: -1.098251032827038 and parameters: {'colsample_bylevel': 0.057555482296721854, 'depth': 7, 'boosting_type': 'Plain', 'bootstrap_type': 'Bernoulli', 'l2_leaf_reg': 3.5367967314997903, 'random_strength': 0.6888942818917199, 'subsample': 0.2709709231012139}. Best is trial 21 with value: -1.0893608618833752.\u001b[0m\n"
     ]
    },
    {
     "name": "stdout",
     "output_type": "stream",
     "text": [
      "Stopped by overfitting detector  (100 iterations wait)\n",
      "\n",
      "bestTest = 1.098909249\n",
      "bestIteration = 1203\n",
      "\n",
      "Shrink model to first 1204 iterations.\n",
      "0:\tlearn: 1.0024124\ttest: 1.0024124\ttest1: 1.3019043\tbest: 1.3019043 (0)\ttotal: 98.5ms\tremaining: 16m 24s\n",
      "100:\tlearn: 0.8914657\ttest: 0.8914657\ttest1: 1.1388436\tbest: 1.1388436 (100)\ttotal: 7.72s\tremaining: 12m 36s\n",
      "200:\tlearn: 0.8791745\ttest: 0.8791745\ttest1: 1.1242473\tbest: 1.1242473 (200)\ttotal: 14.3s\tremaining: 11m 36s\n",
      "300:\tlearn: 0.8720986\ttest: 0.8720986\ttest1: 1.1142976\tbest: 1.1142962 (299)\ttotal: 20.9s\tremaining: 11m 12s\n",
      "400:\tlearn: 0.8696519\ttest: 0.8696519\ttest1: 1.1105444\tbest: 1.1105444 (400)\ttotal: 27.4s\tremaining: 10m 56s\n",
      "500:\tlearn: 0.8661296\ttest: 0.8661296\ttest1: 1.1065749\tbest: 1.1065593 (492)\ttotal: 34s\tremaining: 10m 44s\n",
      "600:\tlearn: 0.8635037\ttest: 0.8635037\ttest1: 1.1044050\tbest: 1.1044050 (600)\ttotal: 40.5s\tremaining: 10m 34s\n",
      "700:\tlearn: 0.8597808\ttest: 0.8597808\ttest1: 1.0987080\tbest: 1.0987080 (700)\ttotal: 47.1s\tremaining: 10m 24s\n",
      "800:\tlearn: 0.8572786\ttest: 0.8572786\ttest1: 1.0965111\tbest: 1.0965033 (789)\ttotal: 53.7s\tremaining: 10m 16s\n",
      "900:\tlearn: 0.8563322\ttest: 0.8563322\ttest1: 1.0957735\tbest: 1.0956973 (854)\ttotal: 1m\tremaining: 10m 8s\n",
      "1000:\tlearn: 0.8554981\ttest: 0.8554981\ttest1: 1.0954361\tbest: 1.0951913 (948)\ttotal: 1m 6s\tremaining: 10m\n",
      "1100:\tlearn: 0.8542134\ttest: 0.8542134\ttest1: 1.0948015\tbest: 1.0944238 (1021)\ttotal: 1m 13s\tremaining: 9m 53s\n",
      "1200:\tlearn: 0.8534526\ttest: 0.8534526\ttest1: 1.0941565\tbest: 1.0940577 (1168)\ttotal: 1m 19s\tremaining: 9m 45s\n",
      "1300:\tlearn: 0.8528258\ttest: 0.8528258\ttest1: 1.0938082\tbest: 1.0938070 (1298)\ttotal: 1m 26s\tremaining: 9m 38s\n",
      "1400:\tlearn: 0.8518457\ttest: 0.8518457\ttest1: 1.0937635\tbest: 1.0936111 (1340)\ttotal: 1m 33s\tremaining: 9m 31s\n",
      "1500:\tlearn: 0.8504834\ttest: 0.8504834\ttest1: 1.0926805\tbest: 1.0924503 (1477)\ttotal: 1m 39s\tremaining: 9m 24s\n"
     ]
    },
    {
     "name": "stderr",
     "output_type": "stream",
     "text": [
      "\u001b[32m[I 2021-07-30 12:18:24,548]\u001b[0m Trial 43 finished with value: -1.0918517448043128 and parameters: {'colsample_bylevel': 0.06604055150954309, 'depth': 6, 'boosting_type': 'Plain', 'bootstrap_type': 'Bernoulli', 'l2_leaf_reg': 5.2424352111149215, 'random_strength': 1.3322013514828883, 'subsample': 0.18211801202262437}. Best is trial 21 with value: -1.0893608618833752.\u001b[0m\n"
     ]
    },
    {
     "name": "stdout",
     "output_type": "stream",
     "text": [
      "Stopped by overfitting detector  (100 iterations wait)\n",
      "\n",
      "bestTest = 1.092450319\n",
      "bestIteration = 1477\n",
      "\n",
      "Shrink model to first 1478 iterations.\n",
      "0:\tlearn: 1.0032033\ttest: 1.0032033\ttest1: 1.3025052\tbest: 1.3025052 (0)\ttotal: 94.7ms\tremaining: 15m 47s\n",
      "100:\tlearn: 0.8974471\ttest: 0.8974471\ttest1: 1.1506525\tbest: 1.1505994 (99)\ttotal: 7.56s\tremaining: 12m 20s\n",
      "200:\tlearn: 0.8798141\ttest: 0.8798141\ttest1: 1.1279237\tbest: 1.1279237 (200)\ttotal: 14.1s\tremaining: 11m 27s\n",
      "300:\tlearn: 0.8739157\ttest: 0.8739157\ttest1: 1.1212962\tbest: 1.1212004 (282)\ttotal: 20.7s\tremaining: 11m 5s\n",
      "400:\tlearn: 0.8692308\ttest: 0.8692308\ttest1: 1.1153853\tbest: 1.1153634 (391)\ttotal: 27.2s\tremaining: 10m 51s\n",
      "500:\tlearn: 0.8677134\ttest: 0.8677134\ttest1: 1.1137843\tbest: 1.1137772 (494)\ttotal: 33.7s\tremaining: 10m 39s\n",
      "600:\tlearn: 0.8656822\ttest: 0.8656822\ttest1: 1.1121253\tbest: 1.1120771 (585)\ttotal: 40.2s\tremaining: 10m 29s\n",
      "700:\tlearn: 0.8629793\ttest: 0.8629793\ttest1: 1.1081549\tbest: 1.1081549 (700)\ttotal: 46.8s\tremaining: 10m 20s\n",
      "800:\tlearn: 0.8600822\ttest: 0.8600822\ttest1: 1.1037966\tbest: 1.1037444 (785)\ttotal: 53.3s\tremaining: 10m 11s\n",
      "900:\tlearn: 0.8579145\ttest: 0.8579145\ttest1: 1.1008783\tbest: 1.1008704 (898)\ttotal: 59.8s\tremaining: 10m 4s\n",
      "1000:\tlearn: 0.8565035\ttest: 0.8565035\ttest1: 1.1002126\tbest: 1.1001330 (985)\ttotal: 1m 6s\tremaining: 9m 56s\n",
      "1100:\tlearn: 0.8551990\ttest: 0.8551990\ttest1: 1.0987283\tbest: 1.0987283 (1100)\ttotal: 1m 12s\tremaining: 9m 49s\n",
      "1200:\tlearn: 0.8528673\ttest: 0.8528673\ttest1: 1.0957742\tbest: 1.0957523 (1193)\ttotal: 1m 19s\tremaining: 9m 42s\n",
      "1300:\tlearn: 0.8513306\ttest: 0.8513306\ttest1: 1.0950477\tbest: 1.0950475 (1295)\ttotal: 1m 26s\tremaining: 9m 35s\n",
      "1400:\tlearn: 0.8507181\ttest: 0.8507181\ttest1: 1.0945822\tbest: 1.0945783 (1395)\ttotal: 1m 32s\tremaining: 9m 28s\n",
      "1500:\tlearn: 0.8502487\ttest: 0.8502487\ttest1: 1.0943446\tbest: 1.0943351 (1494)\ttotal: 1m 39s\tremaining: 9m 21s\n",
      "1600:\tlearn: 0.8492687\ttest: 0.8492687\ttest1: 1.0936048\tbest: 1.0936048 (1600)\ttotal: 1m 45s\tremaining: 9m 14s\n",
      "1700:\tlearn: 0.8489776\ttest: 0.8489776\ttest1: 1.0934780\tbest: 1.0934779 (1699)\ttotal: 1m 52s\tremaining: 9m 8s\n",
      "1800:\tlearn: 0.8485787\ttest: 0.8485787\ttest1: 1.0941225\tbest: 1.0934607 (1720)\ttotal: 1m 58s\tremaining: 9m 1s\n"
     ]
    },
    {
     "name": "stderr",
     "output_type": "stream",
     "text": [
      "\u001b[32m[I 2021-07-30 12:20:25,475]\u001b[0m Trial 44 finished with value: -1.0927647775175469 and parameters: {'colsample_bylevel': 0.06739277734315087, 'depth': 6, 'boosting_type': 'Plain', 'bootstrap_type': 'Bernoulli', 'l2_leaf_reg': 1.6579840767858962, 'random_strength': 1.5108205037878468, 'subsample': 0.15247474132385846}. Best is trial 21 with value: -1.0893608618833752.\u001b[0m\n"
     ]
    },
    {
     "name": "stdout",
     "output_type": "stream",
     "text": [
      "Stopped by overfitting detector  (100 iterations wait)\n",
      "\n",
      "bestTest = 1.093460664\n",
      "bestIteration = 1720\n",
      "\n",
      "Shrink model to first 1721 iterations.\n",
      "0:\tlearn: 1.0099801\ttest: 1.0099801\ttest1: 1.3121483\tbest: 1.3121483 (0)\ttotal: 113ms\tremaining: 18m 50s\n",
      "100:\tlearn: 0.9563543\ttest: 0.9563543\ttest1: 1.2503802\tbest: 1.2503802 (100)\ttotal: 7.92s\tremaining: 12m 56s\n",
      "200:\tlearn: 0.9499305\ttest: 0.9499305\ttest1: 1.2432570\tbest: 1.2432521 (199)\ttotal: 15.5s\tremaining: 12m 34s\n",
      "300:\tlearn: 0.9468111\ttest: 0.9468111\ttest1: 1.2403192\tbest: 1.2401837 (297)\ttotal: 23s\tremaining: 12m 21s\n",
      "400:\tlearn: 0.9437600\ttest: 0.9437600\ttest1: 1.2373830\tbest: 1.2368243 (390)\ttotal: 30.6s\tremaining: 12m 11s\n",
      "500:\tlearn: 0.9344275\ttest: 0.9344275\ttest1: 1.2236675\tbest: 1.2236652 (498)\ttotal: 38.1s\tremaining: 12m 2s\n",
      "600:\tlearn: 0.9266388\ttest: 0.9266388\ttest1: 1.2135110\tbest: 1.2135089 (599)\ttotal: 45.6s\tremaining: 11m 53s\n",
      "700:\tlearn: 0.9246274\ttest: 0.9246274\ttest1: 1.2121693\tbest: 1.2121111 (697)\ttotal: 53.2s\tremaining: 11m 45s\n",
      "800:\tlearn: 0.9222587\ttest: 0.9222587\ttest1: 1.2095511\tbest: 1.2093763 (741)\ttotal: 1m\tremaining: 11m 37s\n",
      "900:\tlearn: 0.9133879\ttest: 0.9133879\ttest1: 1.1962054\tbest: 1.1962054 (900)\ttotal: 1m 8s\tremaining: 11m 29s\n",
      "1000:\tlearn: 0.9067369\ttest: 0.9067369\ttest1: 1.1846318\tbest: 1.1846305 (996)\ttotal: 1m 15s\tremaining: 11m 21s\n",
      "1100:\tlearn: 0.9043521\ttest: 0.9043521\ttest1: 1.1822870\tbest: 1.1822765 (1097)\ttotal: 1m 23s\tremaining: 11m 13s\n",
      "1200:\tlearn: 0.9012474\ttest: 0.9012474\ttest1: 1.1784185\tbest: 1.1782164 (1123)\ttotal: 1m 30s\tremaining: 11m 5s\n",
      "1300:\tlearn: 0.9001801\ttest: 0.9001801\ttest1: 1.1771084\tbest: 1.1770703 (1283)\ttotal: 1m 38s\tremaining: 10m 57s\n",
      "1400:\tlearn: 0.8995323\ttest: 0.8995323\ttest1: 1.1766924\tbest: 1.1766753 (1385)\ttotal: 1m 45s\tremaining: 10m 49s\n",
      "1500:\tlearn: 0.8943307\ttest: 0.8943307\ttest1: 1.1681083\tbest: 1.1681083 (1500)\ttotal: 1m 53s\tremaining: 10m 41s\n",
      "1600:\tlearn: 0.8935487\ttest: 0.8935487\ttest1: 1.1675661\tbest: 1.1675661 (1600)\ttotal: 2m\tremaining: 10m 33s\n",
      "1700:\tlearn: 0.8929789\ttest: 0.8929789\ttest1: 1.1670437\tbest: 1.1670150 (1694)\ttotal: 2m 8s\tremaining: 10m 26s\n",
      "1800:\tlearn: 0.8915327\ttest: 0.8915327\ttest1: 1.1646091\tbest: 1.1646091 (1800)\ttotal: 2m 15s\tremaining: 10m 18s\n",
      "1900:\tlearn: 0.8908598\ttest: 0.8908598\ttest1: 1.1638913\tbest: 1.1638806 (1861)\ttotal: 2m 23s\tremaining: 10m 11s\n",
      "2000:\tlearn: 0.8864796\ttest: 0.8864796\ttest1: 1.1565310\tbest: 1.1561008 (1971)\ttotal: 2m 30s\tremaining: 10m 3s\n",
      "2100:\tlearn: 0.8854219\ttest: 0.8854219\ttest1: 1.1548637\tbest: 1.1548429 (2098)\ttotal: 2m 38s\tremaining: 9m 55s\n",
      "2200:\tlearn: 0.8851601\ttest: 0.8851601\ttest1: 1.1549339\tbest: 1.1548162 (2157)\ttotal: 2m 45s\tremaining: 9m 48s\n",
      "2300:\tlearn: 0.8825846\ttest: 0.8825846\ttest1: 1.1511792\tbest: 1.1510942 (2280)\ttotal: 2m 53s\tremaining: 9m 40s\n",
      "2400:\tlearn: 0.8814935\ttest: 0.8814935\ttest1: 1.1493932\tbest: 1.1489368 (2374)\ttotal: 3m 1s\tremaining: 9m 32s\n"
     ]
    },
    {
     "name": "stderr",
     "output_type": "stream",
     "text": [
      "\u001b[32m[I 2021-07-30 12:23:32,787]\u001b[0m Trial 45 finished with value: -1.1476512801935246 and parameters: {'colsample_bylevel': 0.06842920809537757, 'depth': 6, 'boosting_type': 'Plain', 'bootstrap_type': 'Bayesian', 'l2_leaf_reg': 1.2663773066714008, 'random_strength': 1.7290155156886293, 'bagging_temperature': 9.966178518930077}. Best is trial 21 with value: -1.0893608618833752.\u001b[0m\n"
     ]
    },
    {
     "name": "stdout",
     "output_type": "stream",
     "text": [
      "Stopped by overfitting detector  (100 iterations wait)\n",
      "\n",
      "bestTest = 1.148936805\n",
      "bestIteration = 2374\n",
      "\n",
      "Shrink model to first 2375 iterations.\n",
      "0:\tlearn: 1.0039325\ttest: 1.0039325\ttest1: 1.3036675\tbest: 1.3036675 (0)\ttotal: 93.4ms\tremaining: 15m 34s\n",
      "100:\tlearn: 0.9018961\ttest: 0.9018961\ttest1: 1.1550767\tbest: 1.1550767 (100)\ttotal: 7.82s\tremaining: 12m 46s\n",
      "200:\tlearn: 0.8834575\ttest: 0.8834575\ttest1: 1.1284476\tbest: 1.1284269 (192)\ttotal: 14.3s\tremaining: 11m 38s\n",
      "300:\tlearn: 0.8785299\ttest: 0.8785299\ttest1: 1.1214136\tbest: 1.1214136 (300)\ttotal: 20.8s\tremaining: 11m 10s\n",
      "400:\tlearn: 0.8743471\ttest: 0.8743471\ttest1: 1.1167874\tbest: 1.1167745 (396)\ttotal: 27.3s\tremaining: 10m 52s\n",
      "500:\tlearn: 0.8711542\ttest: 0.8711542\ttest1: 1.1123056\tbest: 1.1122986 (496)\ttotal: 33.8s\tremaining: 10m 40s\n",
      "600:\tlearn: 0.8660413\ttest: 0.8660413\ttest1: 1.1079982\tbest: 1.1079634 (589)\ttotal: 40.2s\tremaining: 10m 29s\n",
      "700:\tlearn: 0.8631843\ttest: 0.8631843\ttest1: 1.1054267\tbest: 1.1052373 (667)\ttotal: 46.7s\tremaining: 10m 19s\n",
      "800:\tlearn: 0.8608072\ttest: 0.8608072\ttest1: 1.1031513\tbest: 1.1029901 (783)\ttotal: 53.2s\tremaining: 10m 11s\n",
      "900:\tlearn: 0.8587106\ttest: 0.8587106\ttest1: 1.1007740\tbest: 1.1006287 (863)\ttotal: 59.8s\tremaining: 10m 3s\n",
      "1000:\tlearn: 0.8578306\ttest: 0.8578306\ttest1: 1.0999888\tbest: 1.0999888 (1000)\ttotal: 1m 6s\tremaining: 9m 55s\n",
      "1100:\tlearn: 0.8568721\ttest: 0.8568721\ttest1: 1.0995390\tbest: 1.0993835 (1046)\ttotal: 1m 12s\tremaining: 9m 48s\n",
      "1200:\tlearn: 0.8548715\ttest: 0.8548715\ttest1: 1.0966986\tbest: 1.0966662 (1184)\ttotal: 1m 19s\tremaining: 9m 41s\n",
      "1300:\tlearn: 0.8540941\ttest: 0.8540941\ttest1: 1.0965805\tbest: 1.0964833 (1277)\ttotal: 1m 25s\tremaining: 9m 34s\n",
      "1400:\tlearn: 0.8530066\ttest: 0.8530066\ttest1: 1.0959749\tbest: 1.0956111 (1382)\ttotal: 1m 32s\tremaining: 9m 27s\n"
     ]
    },
    {
     "name": "stderr",
     "output_type": "stream",
     "text": [
      "\u001b[32m[I 2021-07-30 12:25:11,267]\u001b[0m Trial 46 finished with value: -1.0950008256483765 and parameters: {'colsample_bylevel': 0.06232514633916392, 'depth': 6, 'boosting_type': 'Plain', 'bootstrap_type': 'Bernoulli', 'l2_leaf_reg': 11.58607151165927, 'random_strength': 2.4629851632877076, 'subsample': 0.15082565647392818}. Best is trial 21 with value: -1.0893608618833752.\u001b[0m\n"
     ]
    },
    {
     "name": "stdout",
     "output_type": "stream",
     "text": [
      "Stopped by overfitting detector  (100 iterations wait)\n",
      "\n",
      "bestTest = 1.095611086\n",
      "bestIteration = 1382\n",
      "\n",
      "Shrink model to first 1383 iterations.\n",
      "0:\tlearn: 1.0036201\ttest: 1.0036201\ttest1: 1.3038227\tbest: 1.3038227 (0)\ttotal: 94.2ms\tremaining: 15m 42s\n",
      "100:\tlearn: 0.8951150\ttest: 0.8951150\ttest1: 1.1460927\tbest: 1.1460090 (99)\ttotal: 7.47s\tremaining: 12m 11s\n",
      "200:\tlearn: 0.8813621\ttest: 0.8813621\ttest1: 1.1290095\tbest: 1.1290094 (199)\ttotal: 14s\tremaining: 11m 22s\n",
      "300:\tlearn: 0.8748337\ttest: 0.8748337\ttest1: 1.1192496\tbest: 1.1192492 (299)\ttotal: 20.5s\tremaining: 11m\n",
      "400:\tlearn: 0.8713950\ttest: 0.8713950\ttest1: 1.1157368\tbest: 1.1157250 (391)\ttotal: 27s\tremaining: 10m 46s\n",
      "500:\tlearn: 0.8682048\ttest: 0.8682048\ttest1: 1.1122370\tbest: 1.1122358 (499)\ttotal: 33.5s\tremaining: 10m 34s\n",
      "600:\tlearn: 0.8659857\ttest: 0.8659857\ttest1: 1.1101030\tbest: 1.1099609 (550)\ttotal: 40s\tremaining: 10m 25s\n",
      "700:\tlearn: 0.8629504\ttest: 0.8629504\ttest1: 1.1064782\tbest: 1.1064774 (698)\ttotal: 46.5s\tremaining: 10m 17s\n",
      "800:\tlearn: 0.8603436\ttest: 0.8603436\ttest1: 1.1030294\tbest: 1.1030254 (796)\ttotal: 53.1s\tremaining: 10m 9s\n",
      "900:\tlearn: 0.8594691\ttest: 0.8594691\ttest1: 1.1025699\tbest: 1.1025185 (878)\ttotal: 59.6s\tremaining: 10m 1s\n",
      "1000:\tlearn: 0.8582426\ttest: 0.8582426\ttest1: 1.1018529\tbest: 1.1016214 (997)\ttotal: 1m 6s\tremaining: 9m 54s\n",
      "1100:\tlearn: 0.8572844\ttest: 0.8572844\ttest1: 1.1015989\tbest: 1.1015093 (1034)\ttotal: 1m 12s\tremaining: 9m 46s\n",
      "1200:\tlearn: 0.8562928\ttest: 0.8562928\ttest1: 1.1011587\tbest: 1.1010506 (1167)\ttotal: 1m 19s\tremaining: 9m 39s\n",
      "1300:\tlearn: 0.8553524\ttest: 0.8553524\ttest1: 1.1002982\tbest: 1.1002982 (1300)\ttotal: 1m 25s\tremaining: 9m 32s\n",
      "1400:\tlearn: 0.8543658\ttest: 0.8543658\ttest1: 1.0993114\tbest: 1.0993029 (1377)\ttotal: 1m 32s\tremaining: 9m 25s\n",
      "1500:\tlearn: 0.8536675\ttest: 0.8536675\ttest1: 1.0988353\tbest: 1.0987388 (1491)\ttotal: 1m 38s\tremaining: 9m 18s\n",
      "1600:\tlearn: 0.8527071\ttest: 0.8527071\ttest1: 1.0979889\tbest: 1.0979882 (1596)\ttotal: 1m 45s\tremaining: 9m 12s\n",
      "1700:\tlearn: 0.8520452\ttest: 0.8520452\ttest1: 1.0975711\tbest: 1.0975359 (1678)\ttotal: 1m 51s\tremaining: 9m 5s\n"
     ]
    },
    {
     "name": "stderr",
     "output_type": "stream",
     "text": [
      "\u001b[32m[I 2021-07-30 12:27:08,770]\u001b[0m Trial 47 finished with value: -1.096829990217776 and parameters: {'colsample_bylevel': 0.05654606766496641, 'depth': 6, 'boosting_type': 'Plain', 'bootstrap_type': 'Bernoulli', 'l2_leaf_reg': 1.80839152066173, 'random_strength': 1.2366431624919403, 'subsample': 0.14913305313053238}. Best is trial 21 with value: -1.0893608618833752.\u001b[0m\n"
     ]
    },
    {
     "name": "stdout",
     "output_type": "stream",
     "text": [
      "Stopped by overfitting detector  (100 iterations wait)\n",
      "\n",
      "bestTest = 1.09753595\n",
      "bestIteration = 1678\n",
      "\n",
      "Shrink model to first 1679 iterations.\n",
      "0:\tlearn: 1.0042221\ttest: 1.0042221\ttest1: 1.3045651\tbest: 1.3045651 (0)\ttotal: 93.5ms\tremaining: 15m 35s\n",
      "100:\tlearn: 0.9130095\ttest: 0.9130095\ttest1: 1.1790897\tbest: 1.1790897 (100)\ttotal: 8.4s\tremaining: 13m 42s\n",
      "200:\tlearn: 0.8899306\ttest: 0.8899306\ttest1: 1.1426296\tbest: 1.1426296 (200)\ttotal: 14.9s\tremaining: 12m 4s\n",
      "300:\tlearn: 0.8812453\ttest: 0.8812453\ttest1: 1.1288982\tbest: 1.1288971 (299)\ttotal: 21.3s\tremaining: 11m 25s\n",
      "400:\tlearn: 0.8733012\ttest: 0.8733012\ttest1: 1.1172216\tbest: 1.1172212 (398)\ttotal: 27.7s\tremaining: 11m 2s\n",
      "500:\tlearn: 0.8701601\ttest: 0.8701601\ttest1: 1.1149068\tbest: 1.1149002 (495)\ttotal: 34.1s\tremaining: 10m 47s\n",
      "600:\tlearn: 0.8673711\ttest: 0.8673711\ttest1: 1.1120005\tbest: 1.1119779 (582)\ttotal: 40.6s\tremaining: 10m 34s\n",
      "700:\tlearn: 0.8658195\ttest: 0.8658195\ttest1: 1.1112465\tbest: 1.1112403 (695)\ttotal: 47s\tremaining: 10m 23s\n",
      "800:\tlearn: 0.8621725\ttest: 0.8621725\ttest1: 1.1075709\tbest: 1.1075094 (791)\ttotal: 53.5s\tremaining: 10m 13s\n",
      "900:\tlearn: 0.8611271\ttest: 0.8611271\ttest1: 1.1067827\tbest: 1.1067818 (897)\ttotal: 59.9s\tremaining: 10m 4s\n",
      "1000:\tlearn: 0.8591651\ttest: 0.8591651\ttest1: 1.1042705\tbest: 1.1042705 (1000)\ttotal: 1m 6s\tremaining: 9m 56s\n",
      "1100:\tlearn: 0.8587804\ttest: 0.8587804\ttest1: 1.1040149\tbest: 1.1040143 (1093)\ttotal: 1m 12s\tremaining: 9m 47s\n",
      "1200:\tlearn: 0.8571929\ttest: 0.8571929\ttest1: 1.1027848\tbest: 1.1026084 (1159)\ttotal: 1m 19s\tremaining: 9m 40s\n",
      "1300:\tlearn: 0.8556157\ttest: 0.8556157\ttest1: 1.1008772\tbest: 1.1008522 (1294)\ttotal: 1m 25s\tremaining: 9m 32s\n",
      "1400:\tlearn: 0.8541958\ttest: 0.8541958\ttest1: 1.1001632\tbest: 1.1000168 (1369)\ttotal: 1m 32s\tremaining: 9m 25s\n",
      "1500:\tlearn: 0.8528646\ttest: 0.8528646\ttest1: 1.0991112\tbest: 1.0990958 (1481)\ttotal: 1m 38s\tremaining: 9m 18s\n",
      "1600:\tlearn: 0.8522804\ttest: 0.8522804\ttest1: 1.0990490\tbest: 1.0990444 (1598)\ttotal: 1m 45s\tremaining: 9m 11s\n",
      "1700:\tlearn: 0.8515122\ttest: 0.8515122\ttest1: 1.0981068\tbest: 1.0980726 (1656)\ttotal: 1m 51s\tremaining: 9m 4s\n"
     ]
    },
    {
     "name": "stderr",
     "output_type": "stream",
     "text": [
      "\u001b[32m[I 2021-07-30 12:29:04,584]\u001b[0m Trial 48 finished with value: -1.0972546065552513 and parameters: {'colsample_bylevel': 0.061688810044038284, 'depth': 6, 'boosting_type': 'Plain', 'bootstrap_type': 'Bernoulli', 'l2_leaf_reg': 10.093142613292628, 'random_strength': 3.0538786955107704, 'subsample': 0.10172462955976556}. Best is trial 21 with value: -1.0893608618833752.\u001b[0m\n"
     ]
    },
    {
     "name": "stdout",
     "output_type": "stream",
     "text": [
      "Stopped by overfitting detector  (100 iterations wait)\n",
      "\n",
      "bestTest = 1.0980726\n",
      "bestIteration = 1656\n",
      "\n",
      "Shrink model to first 1657 iterations.\n",
      "0:\tlearn: 1.0024736\ttest: 1.0024736\ttest1: 1.3019589\tbest: 1.3019589 (0)\ttotal: 95.2ms\tremaining: 15m 51s\n",
      "100:\tlearn: 0.9097212\ttest: 0.9097212\ttest1: 1.1668081\tbest: 1.1668081 (100)\ttotal: 8.77s\tremaining: 14m 19s\n",
      "200:\tlearn: 0.8876302\ttest: 0.8876302\ttest1: 1.1334355\tbest: 1.1334355 (200)\ttotal: 15.9s\tremaining: 12m 57s\n",
      "300:\tlearn: 0.8806769\ttest: 0.8806769\ttest1: 1.1228280\tbest: 1.1227827 (294)\ttotal: 22.5s\tremaining: 12m 4s\n",
      "400:\tlearn: 0.8782741\ttest: 0.8782741\ttest1: 1.1198755\tbest: 1.1198755 (400)\ttotal: 29.1s\tremaining: 11m 35s\n",
      "500:\tlearn: 0.8761259\ttest: 0.8761259\ttest1: 1.1172095\tbest: 1.1171134 (492)\ttotal: 35.6s\tremaining: 11m 15s\n",
      "600:\tlearn: 0.8745915\ttest: 0.8745915\ttest1: 1.1157464\tbest: 1.1157460 (595)\ttotal: 42.2s\tremaining: 10m 59s\n",
      "700:\tlearn: 0.8715538\ttest: 0.8715538\ttest1: 1.1114679\tbest: 1.1114679 (700)\ttotal: 48.7s\tremaining: 10m 46s\n",
      "800:\tlearn: 0.8689060\ttest: 0.8689060\ttest1: 1.1088890\tbest: 1.1088886 (796)\ttotal: 55.3s\tremaining: 10m 34s\n",
      "900:\tlearn: 0.8683221\ttest: 0.8683221\ttest1: 1.1083223\tbest: 1.1082533 (877)\ttotal: 1m 1s\tremaining: 10m 24s\n",
      "1000:\tlearn: 0.8677810\ttest: 0.8677810\ttest1: 1.1076965\tbest: 1.1076057 (940)\ttotal: 1m 8s\tremaining: 10m 15s\n",
      "1100:\tlearn: 0.8670039\ttest: 0.8670039\ttest1: 1.1065386\tbest: 1.1065214 (1069)\ttotal: 1m 14s\tremaining: 10m 6s\n",
      "1200:\tlearn: 0.8662245\ttest: 0.8662245\ttest1: 1.1062599\tbest: 1.1062581 (1198)\ttotal: 1m 21s\tremaining: 9m 57s\n",
      "1300:\tlearn: 0.8650260\ttest: 0.8650260\ttest1: 1.1047697\tbest: 1.1047696 (1298)\ttotal: 1m 28s\tremaining: 9m 49s\n",
      "1400:\tlearn: 0.8641987\ttest: 0.8641987\ttest1: 1.1041270\tbest: 1.1041270 (1400)\ttotal: 1m 34s\tremaining: 9m 41s\n",
      "1500:\tlearn: 0.8633597\ttest: 0.8633597\ttest1: 1.1033369\tbest: 1.1033368 (1498)\ttotal: 1m 41s\tremaining: 9m 33s\n",
      "1600:\tlearn: 0.8627419\ttest: 0.8627419\ttest1: 1.1023625\tbest: 1.1023625 (1600)\ttotal: 1m 47s\tremaining: 9m 26s\n",
      "1700:\tlearn: 0.8619319\ttest: 0.8619319\ttest1: 1.1013432\tbest: 1.1013432 (1698)\ttotal: 1m 54s\tremaining: 9m 18s\n",
      "1800:\tlearn: 0.8613083\ttest: 0.8613083\ttest1: 1.1006647\tbest: 1.1006647 (1800)\ttotal: 2m 1s\tremaining: 9m 11s\n",
      "1900:\tlearn: 0.8605635\ttest: 0.8605635\ttest1: 1.0998292\tbest: 1.0998292 (1899)\ttotal: 2m 7s\tremaining: 9m 3s\n",
      "2000:\tlearn: 0.8592335\ttest: 0.8592335\ttest1: 1.0975334\tbest: 1.0975334 (2000)\ttotal: 2m 14s\tremaining: 8m 56s\n",
      "2100:\tlearn: 0.8588972\ttest: 0.8588972\ttest1: 1.0972717\tbest: 1.0972717 (2100)\ttotal: 2m 20s\tremaining: 8m 49s\n",
      "2200:\tlearn: 0.8582087\ttest: 0.8582087\ttest1: 1.0967493\tbest: 1.0967493 (2200)\ttotal: 2m 27s\tremaining: 8m 42s\n",
      "2300:\tlearn: 0.8577115\ttest: 0.8577115\ttest1: 1.0963911\tbest: 1.0963254 (2271)\ttotal: 2m 33s\tremaining: 8m 35s\n"
     ]
    },
    {
     "name": "stderr",
     "output_type": "stream",
     "text": [
      "\u001b[32m[I 2021-07-30 12:31:43,987]\u001b[0m Trial 49 finished with value: -1.0956842545131957 and parameters: {'colsample_bylevel': 0.07692907023454904, 'depth': 5, 'boosting_type': 'Plain', 'bootstrap_type': 'Bernoulli', 'l2_leaf_reg': 7.289041087480102, 'random_strength': 1.693395228422943, 'subsample': 0.24363892336641985}. Best is trial 21 with value: -1.0893608618833752.\u001b[0m\n"
     ]
    },
    {
     "name": "stdout",
     "output_type": "stream",
     "text": [
      "Stopped by overfitting detector  (100 iterations wait)\n",
      "\n",
      "bestTest = 1.096325402\n",
      "bestIteration = 2271\n",
      "\n",
      "Shrink model to first 2272 iterations.\n",
      "0:\tlearn: 1.0030324\ttest: 1.0030324\ttest1: 1.3022887\tbest: 1.3022887 (0)\ttotal: 111ms\tremaining: 18m 31s\n",
      "100:\tlearn: 0.8919416\ttest: 0.8919416\ttest1: 1.1405461\tbest: 1.1405451 (99)\ttotal: 8.77s\tremaining: 14m 19s\n",
      "200:\tlearn: 0.8797338\ttest: 0.8797338\ttest1: 1.1254327\tbest: 1.1254174 (195)\ttotal: 16.6s\tremaining: 13m 27s\n",
      "300:\tlearn: 0.8757111\ttest: 0.8757111\ttest1: 1.1195628\tbest: 1.1195246 (299)\ttotal: 24.4s\tremaining: 13m 5s\n",
      "400:\tlearn: 0.8723451\ttest: 0.8723451\ttest1: 1.1150138\tbest: 1.1150137 (396)\ttotal: 32.2s\tremaining: 12m 50s\n",
      "500:\tlearn: 0.8707289\ttest: 0.8707289\ttest1: 1.1139715\tbest: 1.1137794 (488)\ttotal: 40s\tremaining: 12m 38s\n",
      "600:\tlearn: 0.8695287\ttest: 0.8695287\ttest1: 1.1124402\tbest: 1.1124308 (594)\ttotal: 47.8s\tremaining: 12m 27s\n",
      "700:\tlearn: 0.8668640\ttest: 0.8668640\ttest1: 1.1099354\tbest: 1.1099287 (697)\ttotal: 55.6s\tremaining: 12m 17s\n",
      "800:\tlearn: 0.8648277\ttest: 0.8648277\ttest1: 1.1078235\tbest: 1.1078234 (799)\ttotal: 1m 3s\tremaining: 12m 8s\n",
      "900:\tlearn: 0.8621735\ttest: 0.8621735\ttest1: 1.1033122\tbest: 1.1033118 (898)\ttotal: 1m 11s\tremaining: 11m 59s\n",
      "1000:\tlearn: 0.8612759\ttest: 0.8612759\ttest1: 1.1026600\tbest: 1.1024886 (928)\ttotal: 1m 19s\tremaining: 11m 50s\n"
     ]
    },
    {
     "name": "stderr",
     "output_type": "stream",
     "text": [
      "\u001b[32m[I 2021-07-30 12:33:05,847]\u001b[0m Trial 50 finished with value: -1.1019691199652661 and parameters: {'colsample_bylevel': 0.06834872821471322, 'depth': 6, 'boosting_type': 'Plain', 'bootstrap_type': 'Bernoulli', 'l2_leaf_reg': 12.7265612831901, 'random_strength': 2.591145879509346, 'subsample': 0.729947607142563}. Best is trial 21 with value: -1.0893608618833752.\u001b[0m\n"
     ]
    },
    {
     "name": "stdout",
     "output_type": "stream",
     "text": [
      "Stopped by overfitting detector  (100 iterations wait)\n",
      "\n",
      "bestTest = 1.102488626\n",
      "bestIteration = 928\n",
      "\n",
      "Shrink model to first 929 iterations.\n",
      "0:\tlearn: 1.0019298\ttest: 1.0019298\ttest1: 1.3011451\tbest: 1.3011451 (0)\ttotal: 98.2ms\tremaining: 16m 22s\n",
      "100:\tlearn: 0.8884199\ttest: 0.8884199\ttest1: 1.1391350\tbest: 1.1391350 (100)\ttotal: 7.55s\tremaining: 12m 20s\n",
      "200:\tlearn: 0.8753887\ttest: 0.8753887\ttest1: 1.1220823\tbest: 1.1213584 (162)\ttotal: 14.4s\tremaining: 11m 39s\n",
      "300:\tlearn: 0.8685119\ttest: 0.8685119\ttest1: 1.1152077\tbest: 1.1152077 (300)\ttotal: 21.1s\tremaining: 11m 21s\n",
      "400:\tlearn: 0.8649071\ttest: 0.8649071\ttest1: 1.1120789\tbest: 1.1120789 (400)\ttotal: 27.9s\tremaining: 11m 8s\n",
      "500:\tlearn: 0.8621598\ttest: 0.8621598\ttest1: 1.1095569\tbest: 1.1095537 (498)\ttotal: 34.7s\tremaining: 10m 58s\n",
      "600:\tlearn: 0.8600397\ttest: 0.8600397\ttest1: 1.1081128\tbest: 1.1081121 (599)\ttotal: 41.5s\tremaining: 10m 49s\n",
      "700:\tlearn: 0.8583136\ttest: 0.8583136\ttest1: 1.1067678\tbest: 1.1067626 (658)\ttotal: 48.3s\tremaining: 10m 41s\n",
      "800:\tlearn: 0.8550831\ttest: 0.8550831\ttest1: 1.1038265\tbest: 1.1037595 (787)\ttotal: 55.2s\tremaining: 10m 33s\n",
      "900:\tlearn: 0.8534424\ttest: 0.8534424\ttest1: 1.1031979\tbest: 1.1031544 (828)\ttotal: 1m 1s\tremaining: 10m 25s\n",
      "1000:\tlearn: 0.8520499\ttest: 0.8520499\ttest1: 1.1018046\tbest: 1.1018046 (1000)\ttotal: 1m 8s\tremaining: 10m 18s\n",
      "1100:\tlearn: 0.8509689\ttest: 0.8509689\ttest1: 1.1015215\tbest: 1.1013158 (1035)\ttotal: 1m 15s\tremaining: 10m 11s\n",
      "1200:\tlearn: 0.8494556\ttest: 0.8494556\ttest1: 1.1005103\tbest: 1.1004959 (1195)\ttotal: 1m 22s\tremaining: 10m 4s\n",
      "1300:\tlearn: 0.8483446\ttest: 0.8483446\ttest1: 1.1002442\tbest: 1.1000098 (1283)\ttotal: 1m 29s\tremaining: 9m 57s\n",
      "1400:\tlearn: 0.8474627\ttest: 0.8474627\ttest1: 1.0995272\tbest: 1.0995234 (1389)\ttotal: 1m 36s\tremaining: 9m 49s\n",
      "1500:\tlearn: 0.8469007\ttest: 0.8469007\ttest1: 1.0993834\tbest: 1.0993376 (1466)\ttotal: 1m 42s\tremaining: 9m 43s\n",
      "1600:\tlearn: 0.8455071\ttest: 0.8455071\ttest1: 1.0985279\tbest: 1.0981421 (1527)\ttotal: 1m 49s\tremaining: 9m 36s\n"
     ]
    },
    {
     "name": "stderr",
     "output_type": "stream",
     "text": [
      "\u001b[32m[I 2021-07-30 12:34:58,174]\u001b[0m Trial 51 finished with value: -1.0974099462069318 and parameters: {'colsample_bylevel': 0.08220830978821195, 'depth': 7, 'boosting_type': 'Plain', 'bootstrap_type': 'Bernoulli', 'l2_leaf_reg': 5.72785443359729, 'random_strength': 1.1134070253539834, 'subsample': 0.20731266162606543}. Best is trial 21 with value: -1.0893608618833752.\u001b[0m\n"
     ]
    },
    {
     "name": "stdout",
     "output_type": "stream",
     "text": [
      "Stopped by overfitting detector  (100 iterations wait)\n",
      "\n",
      "bestTest = 1.098142105\n",
      "bestIteration = 1527\n",
      "\n",
      "Shrink model to first 1528 iterations.\n",
      "0:\tlearn: 1.0017277\ttest: 1.0017277\ttest1: 1.3004701\tbest: 1.3004701 (0)\ttotal: 97.2ms\tremaining: 16m 12s\n",
      "100:\tlearn: 0.8927708\ttest: 0.8927708\ttest1: 1.1451817\tbest: 1.1451817 (100)\ttotal: 7.85s\tremaining: 12m 49s\n",
      "200:\tlearn: 0.8812383\ttest: 0.8812383\ttest1: 1.1307806\tbest: 1.1305962 (196)\ttotal: 14.4s\tremaining: 11m 42s\n",
      "300:\tlearn: 0.8748309\ttest: 0.8748309\ttest1: 1.1231354\tbest: 1.1231354 (300)\ttotal: 20.9s\tremaining: 11m 14s\n",
      "400:\tlearn: 0.8692820\ttest: 0.8692820\ttest1: 1.1153427\tbest: 1.1150117 (383)\ttotal: 27.5s\tremaining: 10m 57s\n",
      "500:\tlearn: 0.8679887\ttest: 0.8679887\ttest1: 1.1142845\tbest: 1.1142358 (462)\ttotal: 34s\tremaining: 10m 44s\n",
      "600:\tlearn: 0.8631723\ttest: 0.8631723\ttest1: 1.1092389\tbest: 1.1092389 (600)\ttotal: 40.5s\tremaining: 10m 33s\n",
      "700:\tlearn: 0.8603052\ttest: 0.8603052\ttest1: 1.1050767\tbest: 1.1050380 (693)\ttotal: 47.1s\tremaining: 10m 24s\n",
      "800:\tlearn: 0.8589729\ttest: 0.8589729\ttest1: 1.1038157\tbest: 1.1038157 (800)\ttotal: 53.6s\tremaining: 10m 15s\n",
      "900:\tlearn: 0.8575073\ttest: 0.8575073\ttest1: 1.1021160\tbest: 1.1020843 (884)\ttotal: 1m\tremaining: 10m 7s\n",
      "1000:\tlearn: 0.8562180\ttest: 0.8562180\ttest1: 1.1016247\tbest: 1.1015554 (984)\ttotal: 1m 6s\tremaining: 10m\n",
      "1100:\tlearn: 0.8558311\ttest: 0.8558311\ttest1: 1.1015385\tbest: 1.1012514 (1061)\ttotal: 1m 13s\tremaining: 9m 53s\n",
      "1200:\tlearn: 0.8541172\ttest: 0.8541172\ttest1: 1.1002735\tbest: 1.1002083 (1136)\ttotal: 1m 19s\tremaining: 9m 45s\n",
      "1300:\tlearn: 0.8533415\ttest: 0.8533415\ttest1: 1.0994919\tbest: 1.0994919 (1300)\ttotal: 1m 26s\tremaining: 9m 38s\n",
      "1400:\tlearn: 0.8519751\ttest: 0.8519751\ttest1: 1.0971306\tbest: 1.0971306 (1400)\ttotal: 1m 33s\tremaining: 9m 31s\n",
      "1500:\tlearn: 0.8511292\ttest: 0.8511292\ttest1: 1.0970126\tbest: 1.0956689 (1474)\ttotal: 1m 39s\tremaining: 9m 24s\n"
     ]
    },
    {
     "name": "stderr",
     "output_type": "stream",
     "text": [
      "\u001b[32m[I 2021-07-30 12:36:43,403]\u001b[0m Trial 52 finished with value: -1.0950433714422336 and parameters: {'colsample_bylevel': 0.06447513039741076, 'depth': 6, 'boosting_type': 'Plain', 'bootstrap_type': 'Bernoulli', 'l2_leaf_reg': 3.62101132495794, 'random_strength': 0.4469976310448758, 'subsample': 0.15992416140513432}. Best is trial 21 with value: -1.0893608618833752.\u001b[0m\n"
     ]
    },
    {
     "name": "stdout",
     "output_type": "stream",
     "text": [
      "Stopped by overfitting detector  (100 iterations wait)\n",
      "\n",
      "bestTest = 1.095668893\n",
      "bestIteration = 1474\n",
      "\n",
      "Shrink model to first 1475 iterations.\n",
      "0:\tlearn: 0.9993554\ttest: 0.9993554\ttest1: 1.2980713\tbest: 1.2980713 (0)\ttotal: 101ms\tremaining: 16m 45s\n",
      "100:\tlearn: 0.8871611\ttest: 0.8871611\ttest1: 1.1362838\tbest: 1.1362676 (95)\ttotal: 7.62s\tremaining: 12m 26s\n",
      "200:\tlearn: 0.8749210\ttest: 0.8749210\ttest1: 1.1217486\tbest: 1.1217099 (197)\ttotal: 14.7s\tremaining: 11m 57s\n",
      "300:\tlearn: 0.8696739\ttest: 0.8696739\ttest1: 1.1162376\tbest: 1.1161194 (290)\ttotal: 21.8s\tremaining: 11m 42s\n",
      "400:\tlearn: 0.8654127\ttest: 0.8654127\ttest1: 1.1105235\tbest: 1.1105235 (400)\ttotal: 28.9s\tremaining: 11m 31s\n",
      "500:\tlearn: 0.8616268\ttest: 0.8616268\ttest1: 1.1056182\tbest: 1.1056182 (500)\ttotal: 36s\tremaining: 11m 22s\n",
      "600:\tlearn: 0.8581194\ttest: 0.8581194\ttest1: 1.1027021\tbest: 1.1026692 (580)\ttotal: 43.1s\tremaining: 11m 14s\n",
      "700:\tlearn: 0.8566527\ttest: 0.8566527\ttest1: 1.1019919\tbest: 1.1019856 (697)\ttotal: 50.3s\tremaining: 11m 6s\n",
      "800:\tlearn: 0.8558931\ttest: 0.8558931\ttest1: 1.1016324\tbest: 1.1016317 (799)\ttotal: 57.4s\tremaining: 10m 58s\n",
      "900:\tlearn: 0.8540220\ttest: 0.8540220\ttest1: 1.1005253\tbest: 1.1001014 (868)\ttotal: 1m 4s\tremaining: 10m 51s\n"
     ]
    },
    {
     "name": "stderr",
     "output_type": "stream",
     "text": [
      "\u001b[32m[I 2021-07-30 12:37:53,336]\u001b[0m Trial 53 finished with value: -1.0996135087711743 and parameters: {'colsample_bylevel': 0.08597903220912474, 'depth': 7, 'boosting_type': 'Plain', 'bootstrap_type': 'Bernoulli', 'l2_leaf_reg': 6.590696879374305, 'random_strength': 0.7508630649516167, 'subsample': 0.32205099726886294}. Best is trial 21 with value: -1.0893608618833752.\u001b[0m\n"
     ]
    },
    {
     "name": "stdout",
     "output_type": "stream",
     "text": [
      "Stopped by overfitting detector  (100 iterations wait)\n",
      "\n",
      "bestTest = 1.100101375\n",
      "bestIteration = 868\n",
      "\n",
      "Shrink model to first 869 iterations.\n",
      "0:\tlearn: 1.0025090\ttest: 1.0025090\ttest1: 1.3017603\tbest: 1.3017603 (0)\ttotal: 98.3ms\tremaining: 16m 23s\n",
      "100:\tlearn: 0.8806920\ttest: 0.8806920\ttest1: 1.1331069\tbest: 1.1304933 (93)\ttotal: 7.64s\tremaining: 12m 29s\n",
      "200:\tlearn: 0.8649617\ttest: 0.8649617\ttest1: 1.1147754\tbest: 1.1147638 (199)\ttotal: 14.5s\tremaining: 11m 45s\n",
      "300:\tlearn: 0.8578685\ttest: 0.8578685\ttest1: 1.1074801\tbest: 1.1074799 (299)\ttotal: 21.3s\tremaining: 11m 25s\n",
      "400:\tlearn: 0.8551451\ttest: 0.8551451\ttest1: 1.1073200\tbest: 1.1069130 (377)\ttotal: 28.1s\tremaining: 11m 11s\n"
     ]
    },
    {
     "name": "stderr",
     "output_type": "stream",
     "text": [
      "\u001b[32m[I 2021-07-30 12:38:27,196]\u001b[0m Trial 54 finished with value: -1.1064974335881748 and parameters: {'colsample_bylevel': 0.05957038749974172, 'depth': 8, 'boosting_type': 'Plain', 'bootstrap_type': 'Bernoulli', 'l2_leaf_reg': 8.097103318892213, 'random_strength': 0.06341888547184471, 'subsample': 0.14803823088640744}. Best is trial 21 with value: -1.0893608618833752.\u001b[0m\n"
     ]
    },
    {
     "name": "stdout",
     "output_type": "stream",
     "text": [
      "Stopped by overfitting detector  (100 iterations wait)\n",
      "\n",
      "bestTest = 1.10691303\n",
      "bestIteration = 377\n",
      "\n",
      "Shrink model to first 378 iterations.\n",
      "0:\tlearn: 1.0033110\ttest: 1.0033110\ttest1: 1.3030562\tbest: 1.3030562 (0)\ttotal: 94.6ms\tremaining: 15m 46s\n",
      "100:\tlearn: 0.9001866\ttest: 0.9001866\ttest1: 1.1527905\tbest: 1.1527905 (100)\ttotal: 8.38s\tremaining: 13m 41s\n",
      "200:\tlearn: 0.8878377\ttest: 0.8878377\ttest1: 1.1356545\tbest: 1.1356545 (200)\ttotal: 14.9s\tremaining: 12m 8s\n",
      "300:\tlearn: 0.8780770\ttest: 0.8780770\ttest1: 1.1212054\tbest: 1.1211904 (295)\ttotal: 21.5s\tremaining: 11m 33s\n",
      "400:\tlearn: 0.8750010\ttest: 0.8750010\ttest1: 1.1165579\tbest: 1.1165567 (394)\ttotal: 28.1s\tremaining: 11m 12s\n",
      "500:\tlearn: 0.8728669\ttest: 0.8728669\ttest1: 1.1142554\tbest: 1.1142554 (500)\ttotal: 34.7s\tremaining: 10m 57s\n",
      "600:\tlearn: 0.8700340\ttest: 0.8700340\ttest1: 1.1102136\tbest: 1.1102135 (598)\ttotal: 41.2s\tremaining: 10m 44s\n",
      "700:\tlearn: 0.8689484\ttest: 0.8689484\ttest1: 1.1092250\tbest: 1.1092217 (694)\ttotal: 47.8s\tremaining: 10m 33s\n",
      "800:\tlearn: 0.8676236\ttest: 0.8676236\ttest1: 1.1070686\tbest: 1.1070686 (800)\ttotal: 54.3s\tremaining: 10m 23s\n",
      "900:\tlearn: 0.8662935\ttest: 0.8662935\ttest1: 1.1053379\tbest: 1.1053173 (894)\ttotal: 1m\tremaining: 10m 14s\n",
      "1000:\tlearn: 0.8651399\ttest: 0.8651399\ttest1: 1.1032643\tbest: 1.1032575 (996)\ttotal: 1m 7s\tremaining: 10m 6s\n",
      "1100:\tlearn: 0.8644906\ttest: 0.8644906\ttest1: 1.1028808\tbest: 1.1028808 (1100)\ttotal: 1m 13s\tremaining: 9m 57s\n",
      "1200:\tlearn: 0.8638744\ttest: 0.8638744\ttest1: 1.1022257\tbest: 1.1022257 (1200)\ttotal: 1m 20s\tremaining: 9m 49s\n",
      "1300:\tlearn: 0.8624799\ttest: 0.8624799\ttest1: 1.0998480\tbest: 1.0998307 (1291)\ttotal: 1m 27s\tremaining: 9m 42s\n",
      "1400:\tlearn: 0.8612436\ttest: 0.8612436\ttest1: 1.0983918\tbest: 1.0983859 (1394)\ttotal: 1m 33s\tremaining: 9m 34s\n",
      "1500:\tlearn: 0.8601063\ttest: 0.8601063\ttest1: 1.0968749\tbest: 1.0968708 (1497)\ttotal: 1m 40s\tremaining: 9m 27s\n",
      "1600:\tlearn: 0.8596294\ttest: 0.8596294\ttest1: 1.0968046\tbest: 1.0968020 (1599)\ttotal: 1m 46s\tremaining: 9m 20s\n",
      "1700:\tlearn: 0.8585058\ttest: 0.8585058\ttest1: 1.0954695\tbest: 1.0954690 (1696)\ttotal: 1m 53s\tremaining: 9m 13s\n",
      "1800:\tlearn: 0.8582506\ttest: 0.8582506\ttest1: 1.0956701\tbest: 1.0954536 (1716)\ttotal: 1m 59s\tremaining: 9m 6s\n"
     ]
    },
    {
     "name": "stderr",
     "output_type": "stream",
     "text": [
      "\u001b[32m[I 2021-07-30 12:40:28,843]\u001b[0m Trial 55 finished with value: -1.0947894544614258 and parameters: {'colsample_bylevel': 0.07695579134330927, 'depth': 5, 'boosting_type': 'Plain', 'bootstrap_type': 'Bernoulli', 'l2_leaf_reg': 5.255028406109297, 'random_strength': 1.3822480889946989, 'subsample': 0.22486750783431336}. Best is trial 21 with value: -1.0893608618833752.\u001b[0m\n"
     ]
    },
    {
     "name": "stdout",
     "output_type": "stream",
     "text": [
      "Stopped by overfitting detector  (100 iterations wait)\n",
      "\n",
      "bestTest = 1.095453648\n",
      "bestIteration = 1716\n",
      "\n",
      "Shrink model to first 1717 iterations.\n",
      "0:\tlearn: 1.0032888\ttest: 1.0032888\ttest1: 1.3030311\tbest: 1.3030311 (0)\ttotal: 93.5ms\tremaining: 15m 35s\n",
      "100:\tlearn: 0.9160369\ttest: 0.9160369\ttest1: 1.1804645\tbest: 1.1804645 (100)\ttotal: 8.43s\tremaining: 13m 46s\n",
      "200:\tlearn: 0.8782364\ttest: 0.8782364\ttest1: 1.1235670\tbest: 1.1235670 (200)\ttotal: 14.9s\tremaining: 12m 8s\n",
      "300:\tlearn: 0.8740646\ttest: 0.8740646\ttest1: 1.1183723\tbest: 1.1183156 (296)\ttotal: 21.4s\tremaining: 11m 30s\n",
      "400:\tlearn: 0.8708770\ttest: 0.8708770\ttest1: 1.1146175\tbest: 1.1145280 (382)\ttotal: 27.9s\tremaining: 11m 8s\n",
      "500:\tlearn: 0.8676381\ttest: 0.8676381\ttest1: 1.1101431\tbest: 1.1101316 (494)\ttotal: 34.4s\tremaining: 10m 53s\n",
      "600:\tlearn: 0.8643257\ttest: 0.8643257\ttest1: 1.1072960\tbest: 1.1072960 (600)\ttotal: 40.9s\tremaining: 10m 40s\n",
      "700:\tlearn: 0.8620810\ttest: 0.8620810\ttest1: 1.1045801\tbest: 1.1045282 (694)\ttotal: 47.4s\tremaining: 10m 29s\n",
      "800:\tlearn: 0.8614013\ttest: 0.8614013\ttest1: 1.1045883\tbest: 1.1042475 (732)\ttotal: 53.9s\tremaining: 10m 19s\n",
      "900:\tlearn: 0.8598596\ttest: 0.8598596\ttest1: 1.1039581\tbest: 1.1036110 (881)\ttotal: 1m\tremaining: 10m 10s\n",
      "1000:\tlearn: 0.8576817\ttest: 0.8576817\ttest1: 1.1009214\tbest: 1.1009096 (976)\ttotal: 1m 6s\tremaining: 10m 1s\n",
      "1100:\tlearn: 0.8565649\ttest: 0.8565649\ttest1: 1.1012245\tbest: 1.1008715 (1052)\ttotal: 1m 13s\tremaining: 9m 53s\n",
      "1200:\tlearn: 0.8553255\ttest: 0.8553255\ttest1: 1.1007707\tbest: 1.1004964 (1170)\ttotal: 1m 19s\tremaining: 9m 45s\n",
      "1300:\tlearn: 0.8532076\ttest: 0.8532076\ttest1: 1.0979341\tbest: 1.0979324 (1299)\ttotal: 1m 26s\tremaining: 9m 38s\n",
      "1400:\tlearn: 0.8526602\ttest: 0.8526602\ttest1: 1.0975518\tbest: 1.0975518 (1400)\ttotal: 1m 33s\tremaining: 9m 31s\n",
      "1500:\tlearn: 0.8516631\ttest: 0.8516631\ttest1: 1.0964863\tbest: 1.0964804 (1499)\ttotal: 1m 39s\tremaining: 9m 23s\n",
      "1600:\tlearn: 0.8510358\ttest: 0.8510358\ttest1: 1.0958081\tbest: 1.0958034 (1598)\ttotal: 1m 46s\tremaining: 9m 16s\n",
      "1700:\tlearn: 0.8508497\ttest: 0.8508497\ttest1: 1.0958161\tbest: 1.0957693 (1626)\ttotal: 1m 52s\tremaining: 9m 9s\n",
      "1800:\tlearn: 0.8503163\ttest: 0.8503163\ttest1: 1.0956674\tbest: 1.0956674 (1800)\ttotal: 1m 59s\tremaining: 9m 2s\n",
      "1900:\tlearn: 0.8488281\ttest: 0.8488281\ttest1: 1.0940824\tbest: 1.0940824 (1900)\ttotal: 2m 5s\tremaining: 8m 55s\n",
      "2000:\tlearn: 0.8482214\ttest: 0.8482214\ttest1: 1.0936942\tbest: 1.0935102 (1963)\ttotal: 2m 12s\tremaining: 8m 48s\n"
     ]
    },
    {
     "name": "stderr",
     "output_type": "stream",
     "text": [
      "\u001b[32m[I 2021-07-30 12:42:45,822]\u001b[0m Trial 56 finished with value: -1.0928256760086432 and parameters: {'colsample_bylevel': 0.09485842337300493, 'depth': 6, 'boosting_type': 'Plain', 'bootstrap_type': 'Bernoulli', 'l2_leaf_reg': 3.0772990057558336, 'random_strength': 2.0242619983068835, 'subsample': 0.1036989203089331}. Best is trial 21 with value: -1.0893608618833752.\u001b[0m\n"
     ]
    },
    {
     "name": "stdout",
     "output_type": "stream",
     "text": [
      "Stopped by overfitting detector  (100 iterations wait)\n",
      "\n",
      "bestTest = 1.093510215\n",
      "bestIteration = 1963\n",
      "\n",
      "Shrink model to first 1964 iterations.\n",
      "0:\tlearn: 1.0028750\ttest: 1.0028750\ttest1: 1.3023289\tbest: 1.3023289 (0)\ttotal: 117ms\tremaining: 19m 25s\n",
      "100:\tlearn: 0.8989136\ttest: 0.8989136\ttest1: 1.1551677\tbest: 1.1551677 (100)\ttotal: 9.2s\tremaining: 15m 1s\n",
      "200:\tlearn: 0.8844007\ttest: 0.8844007\ttest1: 1.1317407\tbest: 1.1317407 (200)\ttotal: 17.2s\tremaining: 13m 58s\n",
      "300:\tlearn: 0.8821637\ttest: 0.8821637\ttest1: 1.1290904\tbest: 1.1290904 (300)\ttotal: 25.2s\tremaining: 13m 31s\n",
      "400:\tlearn: 0.8781603\ttest: 0.8781603\ttest1: 1.1232700\tbest: 1.1232700 (400)\ttotal: 33.2s\tremaining: 13m 13s\n",
      "500:\tlearn: 0.8754538\ttest: 0.8754538\ttest1: 1.1188498\tbest: 1.1188498 (500)\ttotal: 41.1s\tremaining: 12m 59s\n",
      "600:\tlearn: 0.8720020\ttest: 0.8720020\ttest1: 1.1131520\tbest: 1.1131399 (596)\ttotal: 49.1s\tremaining: 12m 47s\n",
      "700:\tlearn: 0.8700436\ttest: 0.8700436\ttest1: 1.1107374\tbest: 1.1106775 (685)\ttotal: 57.1s\tremaining: 12m 37s\n",
      "800:\tlearn: 0.8683855\ttest: 0.8683855\ttest1: 1.1090591\tbest: 1.1090288 (795)\ttotal: 1m 5s\tremaining: 12m 27s\n",
      "900:\tlearn: 0.8673284\ttest: 0.8673284\ttest1: 1.1079960\tbest: 1.1078600 (873)\ttotal: 1m 13s\tremaining: 12m 18s\n",
      "1000:\tlearn: 0.8665643\ttest: 0.8665643\ttest1: 1.1064900\tbest: 1.1064890 (998)\ttotal: 1m 21s\tremaining: 12m 8s\n",
      "1100:\tlearn: 0.8653977\ttest: 0.8653977\ttest1: 1.1045405\tbest: 1.1045169 (1083)\ttotal: 1m 28s\tremaining: 11m 59s\n",
      "1200:\tlearn: 0.8643237\ttest: 0.8643237\ttest1: 1.1033821\tbest: 1.1033642 (1190)\ttotal: 1m 36s\tremaining: 11m 50s\n",
      "1300:\tlearn: 0.8631317\ttest: 0.8631317\ttest1: 1.1017746\tbest: 1.1017746 (1300)\ttotal: 1m 44s\tremaining: 11m 41s\n",
      "1400:\tlearn: 0.8613314\ttest: 0.8613314\ttest1: 1.0994005\tbest: 1.0994005 (1400)\ttotal: 1m 52s\tremaining: 11m 32s\n",
      "1500:\tlearn: 0.8606804\ttest: 0.8606804\ttest1: 1.0988600\tbest: 1.0988584 (1496)\ttotal: 2m\tremaining: 11m 24s\n",
      "1600:\tlearn: 0.8598831\ttest: 0.8598831\ttest1: 1.0976504\tbest: 1.0976466 (1597)\ttotal: 2m 8s\tremaining: 11m 15s\n",
      "1700:\tlearn: 0.8594781\ttest: 0.8594781\ttest1: 1.0973609\tbest: 1.0973231 (1685)\ttotal: 2m 16s\tremaining: 11m 7s\n",
      "1800:\tlearn: 0.8591141\ttest: 0.8591141\ttest1: 1.0972246\tbest: 1.0972090 (1794)\ttotal: 2m 24s\tremaining: 10m 59s\n",
      "1900:\tlearn: 0.8583920\ttest: 0.8583920\ttest1: 1.0969251\tbest: 1.0967496 (1814)\ttotal: 2m 32s\tremaining: 10m 51s\n"
     ]
    },
    {
     "name": "stderr",
     "output_type": "stream",
     "text": [
      "\u001b[32m[I 2021-07-30 12:45:20,426]\u001b[0m Trial 57 finished with value: -1.0962246447296968 and parameters: {'colsample_bylevel': 0.09500029661881107, 'depth': 5, 'boosting_type': 'Plain', 'bootstrap_type': 'Bayesian', 'l2_leaf_reg': 3.0544066695656644, 'random_strength': 1.9093483740876733, 'bagging_temperature': 2.3912583767961726}. Best is trial 21 with value: -1.0893608618833752.\u001b[0m\n"
     ]
    },
    {
     "name": "stdout",
     "output_type": "stream",
     "text": [
      "Stopped by overfitting detector  (100 iterations wait)\n",
      "\n",
      "bestTest = 1.096749639\n",
      "bestIteration = 1814\n",
      "\n",
      "Shrink model to first 1815 iterations.\n",
      "0:\tlearn: 1.0019961\ttest: 1.0019961\ttest1: 1.3013793\tbest: 1.3013793 (0)\ttotal: 94ms\tremaining: 15m 40s\n",
      "100:\tlearn: 0.9145642\ttest: 0.9145642\ttest1: 1.1788383\tbest: 1.1788383 (100)\ttotal: 8.71s\tremaining: 14m 13s\n",
      "200:\tlearn: 0.8905169\ttest: 0.8905169\ttest1: 1.1417836\tbest: 1.1417826 (199)\ttotal: 16.1s\tremaining: 13m 6s\n",
      "300:\tlearn: 0.8775671\ttest: 0.8775671\ttest1: 1.1250389\tbest: 1.1248012 (292)\ttotal: 22.6s\tremaining: 12m 7s\n",
      "400:\tlearn: 0.8740942\ttest: 0.8740942\ttest1: 1.1211024\tbest: 1.1210517 (385)\ttotal: 29s\tremaining: 11m 33s\n",
      "500:\tlearn: 0.8696595\ttest: 0.8696595\ttest1: 1.1157626\tbest: 1.1156736 (491)\ttotal: 35.4s\tremaining: 11m 11s\n",
      "600:\tlearn: 0.8674281\ttest: 0.8674281\ttest1: 1.1135962\tbest: 1.1135500 (591)\ttotal: 41.9s\tremaining: 10m 55s\n",
      "700:\tlearn: 0.8656161\ttest: 0.8656161\ttest1: 1.1110637\tbest: 1.1110464 (686)\ttotal: 48.4s\tremaining: 10m 41s\n",
      "800:\tlearn: 0.8647243\ttest: 0.8647243\ttest1: 1.1110020\tbest: 1.1107287 (732)\ttotal: 54.8s\tremaining: 10m 29s\n",
      "900:\tlearn: 0.8611936\ttest: 0.8611936\ttest1: 1.1060252\tbest: 1.1060152 (893)\ttotal: 1m 1s\tremaining: 10m 18s\n",
      "1000:\tlearn: 0.8581581\ttest: 0.8581581\ttest1: 1.1030265\tbest: 1.1030265 (1000)\ttotal: 1m 7s\tremaining: 10m 9s\n",
      "1100:\tlearn: 0.8562458\ttest: 0.8562458\ttest1: 1.1005532\tbest: 1.1005532 (1100)\ttotal: 1m 14s\tremaining: 9m 59s\n",
      "1200:\tlearn: 0.8554166\ttest: 0.8554166\ttest1: 1.1007000\tbest: 1.1000062 (1156)\ttotal: 1m 20s\tremaining: 9m 50s\n",
      "1300:\tlearn: 0.8535567\ttest: 0.8535567\ttest1: 1.0983687\tbest: 1.0983687 (1300)\ttotal: 1m 27s\tremaining: 9m 42s\n",
      "1400:\tlearn: 0.8525834\ttest: 0.8525834\ttest1: 1.0976403\tbest: 1.0975580 (1365)\ttotal: 1m 33s\tremaining: 9m 34s\n",
      "1500:\tlearn: 0.8520008\ttest: 0.8520008\ttest1: 1.0972456\tbest: 1.0972354 (1497)\ttotal: 1m 40s\tremaining: 9m 26s\n",
      "1600:\tlearn: 0.8515211\ttest: 0.8515211\ttest1: 1.0973925\tbest: 1.0970391 (1563)\ttotal: 1m 46s\tremaining: 9m 19s\n",
      "1700:\tlearn: 0.8506623\ttest: 0.8506623\ttest1: 1.0967099\tbest: 1.0966930 (1662)\ttotal: 1m 53s\tremaining: 9m 12s\n",
      "1800:\tlearn: 0.8503633\ttest: 0.8503633\ttest1: 1.0965831\tbest: 1.0965716 (1787)\ttotal: 1m 59s\tremaining: 9m 4s\n",
      "1900:\tlearn: 0.8499074\ttest: 0.8499074\ttest1: 1.0965101\tbest: 1.0964991 (1892)\ttotal: 2m 6s\tremaining: 8m 57s\n",
      "2000:\tlearn: 0.8491616\ttest: 0.8491616\ttest1: 1.0961163\tbest: 1.0960333 (1986)\ttotal: 2m 12s\tremaining: 8m 50s\n",
      "2100:\tlearn: 0.8487722\ttest: 0.8487722\ttest1: 1.0956499\tbest: 1.0956498 (2099)\ttotal: 2m 19s\tremaining: 8m 43s\n",
      "2200:\tlearn: 0.8478807\ttest: 0.8478807\ttest1: 1.0953564\tbest: 1.0949498 (2171)\ttotal: 2m 25s\tremaining: 8m 36s\n"
     ]
    },
    {
     "name": "stderr",
     "output_type": "stream",
     "text": [
      "\u001b[32m[I 2021-07-30 12:47:51,435]\u001b[0m Trial 58 finished with value: -1.0940450748815886 and parameters: {'colsample_bylevel': 0.0719523954090383, 'depth': 6, 'boosting_type': 'Plain', 'bootstrap_type': 'Bernoulli', 'l2_leaf_reg': 1.6182544313632916, 'random_strength': 4.393702256322807, 'subsample': 0.10745762374943292}. Best is trial 21 with value: -1.0893608618833752.\u001b[0m\n"
     ]
    },
    {
     "name": "stdout",
     "output_type": "stream",
     "text": [
      "Stopped by overfitting detector  (100 iterations wait)\n",
      "\n",
      "bestTest = 1.094949812\n",
      "bestIteration = 2171\n",
      "\n",
      "Shrink model to first 2172 iterations.\n",
      "0:\tlearn: 1.0022452\ttest: 1.0022452\ttest1: 1.3010420\tbest: 1.3010420 (0)\ttotal: 115ms\tremaining: 19m 13s\n",
      "100:\tlearn: 0.8990006\ttest: 0.8990006\ttest1: 1.1501091\tbest: 1.1501091 (100)\ttotal: 9.8s\tremaining: 16m\n",
      "200:\tlearn: 0.8814775\ttest: 0.8814775\ttest1: 1.1252038\tbest: 1.1252038 (200)\ttotal: 17.8s\tremaining: 14m 27s\n",
      "300:\tlearn: 0.8778691\ttest: 0.8778691\ttest1: 1.1197884\tbest: 1.1197884 (300)\ttotal: 25.7s\tremaining: 13m 48s\n",
      "400:\tlearn: 0.8744998\ttest: 0.8744998\ttest1: 1.1163861\tbest: 1.1163267 (388)\ttotal: 33.6s\tremaining: 13m 24s\n",
      "500:\tlearn: 0.8734306\ttest: 0.8734306\ttest1: 1.1150610\tbest: 1.1150606 (494)\ttotal: 41.5s\tremaining: 13m 7s\n",
      "600:\tlearn: 0.8719783\ttest: 0.8719783\ttest1: 1.1131738\tbest: 1.1131571 (594)\ttotal: 49.4s\tremaining: 12m 52s\n",
      "700:\tlearn: 0.8706084\ttest: 0.8706084\ttest1: 1.1119092\tbest: 1.1118930 (683)\ttotal: 57.2s\tremaining: 12m 39s\n",
      "800:\tlearn: 0.8695494\ttest: 0.8695494\ttest1: 1.1112911\tbest: 1.1112650 (788)\ttotal: 1m 5s\tremaining: 12m 28s\n",
      "900:\tlearn: 0.8670889\ttest: 0.8670889\ttest1: 1.1072496\tbest: 1.1072250 (873)\ttotal: 1m 13s\tremaining: 12m 17s\n",
      "1000:\tlearn: 0.8644200\ttest: 0.8644200\ttest1: 1.1044238\tbest: 1.1044238 (1000)\ttotal: 1m 21s\tremaining: 12m 8s\n",
      "1100:\tlearn: 0.8622113\ttest: 0.8622113\ttest1: 1.1010113\tbest: 1.1010113 (1100)\ttotal: 1m 28s\tremaining: 11m 59s\n",
      "1200:\tlearn: 0.8614088\ttest: 0.8614088\ttest1: 1.1003755\tbest: 1.1002791 (1162)\ttotal: 1m 36s\tremaining: 11m 50s\n",
      "1300:\tlearn: 0.8589452\ttest: 0.8589452\ttest1: 1.0969456\tbest: 1.0969428 (1299)\ttotal: 1m 44s\tremaining: 11m 41s\n",
      "1400:\tlearn: 0.8572131\ttest: 0.8572131\ttest1: 1.0958204\tbest: 1.0957147 (1392)\ttotal: 1m 52s\tremaining: 11m 32s\n",
      "1500:\tlearn: 0.8561932\ttest: 0.8561932\ttest1: 1.0950557\tbest: 1.0950186 (1480)\ttotal: 2m\tremaining: 11m 24s\n",
      "1600:\tlearn: 0.8540739\ttest: 0.8540739\ttest1: 1.0936883\tbest: 1.0936606 (1596)\ttotal: 2m 8s\tremaining: 11m 15s\n",
      "1700:\tlearn: 0.8531155\ttest: 0.8531155\ttest1: 1.0931813\tbest: 1.0931608 (1695)\ttotal: 2m 16s\tremaining: 11m 7s\n",
      "1800:\tlearn: 0.8518231\ttest: 0.8518231\ttest1: 1.0941556\tbest: 1.0928864 (1714)\ttotal: 2m 24s\tremaining: 10m 58s\n"
     ]
    },
    {
     "name": "stderr",
     "output_type": "stream",
     "text": [
      "\u001b[32m[I 2021-07-30 12:50:17,934]\u001b[0m Trial 59 finished with value: -1.092293051647164 and parameters: {'colsample_bylevel': 0.08684114483113903, 'depth': 6, 'boosting_type': 'Plain', 'bootstrap_type': 'MVS', 'l2_leaf_reg': 0.22119686447487497, 'random_strength': 3.3765067155317663}. Best is trial 21 with value: -1.0893608618833752.\u001b[0m\n"
     ]
    },
    {
     "name": "stdout",
     "output_type": "stream",
     "text": [
      "Stopped by overfitting detector  (100 iterations wait)\n",
      "\n",
      "bestTest = 1.092886361\n",
      "bestIteration = 1714\n",
      "\n",
      "Shrink model to first 1715 iterations.\n",
      "0:\tlearn: 1.0031167\ttest: 1.0031167\ttest1: 1.3021796\tbest: 1.3021796 (0)\ttotal: 112ms\tremaining: 18m 43s\n",
      "100:\tlearn: 0.9016285\ttest: 0.9016285\ttest1: 1.1579107\tbest: 1.1579107 (100)\ttotal: 9.38s\tremaining: 15m 19s\n",
      "200:\tlearn: 0.8857016\ttest: 0.8857016\ttest1: 1.1327087\tbest: 1.1326829 (196)\ttotal: 17s\tremaining: 13m 50s\n",
      "300:\tlearn: 0.8787841\ttest: 0.8787841\ttest1: 1.1220205\tbest: 1.1219277 (297)\ttotal: 24.6s\tremaining: 13m 13s\n",
      "400:\tlearn: 0.8764758\ttest: 0.8764758\ttest1: 1.1190669\tbest: 1.1190571 (399)\ttotal: 32.2s\tremaining: 12m 51s\n",
      "500:\tlearn: 0.8746810\ttest: 0.8746810\ttest1: 1.1164817\tbest: 1.1164816 (498)\ttotal: 39.8s\tremaining: 12m 33s\n",
      "600:\tlearn: 0.8720675\ttest: 0.8720675\ttest1: 1.1124602\tbest: 1.1124490 (595)\ttotal: 47.3s\tremaining: 12m 19s\n",
      "700:\tlearn: 0.8712304\ttest: 0.8712304\ttest1: 1.1122071\tbest: 1.1120820 (626)\ttotal: 54.9s\tremaining: 12m 7s\n",
      "800:\tlearn: 0.8693424\ttest: 0.8693424\ttest1: 1.1098862\tbest: 1.1098858 (799)\ttotal: 1m 2s\tremaining: 11m 57s\n",
      "900:\tlearn: 0.8680513\ttest: 0.8680513\ttest1: 1.1083669\tbest: 1.1083667 (899)\ttotal: 1m 10s\tremaining: 11m 46s\n",
      "1000:\tlearn: 0.8663234\ttest: 0.8663234\ttest1: 1.1059907\tbest: 1.1059818 (998)\ttotal: 1m 17s\tremaining: 11m 37s\n",
      "1100:\tlearn: 0.8660200\ttest: 0.8660200\ttest1: 1.1059305\tbest: 1.1058480 (1046)\ttotal: 1m 25s\tremaining: 11m 28s\n"
     ]
    },
    {
     "name": "stderr",
     "output_type": "stream",
     "text": [
      "\u001b[32m[I 2021-07-30 12:51:47,153]\u001b[0m Trial 60 finished with value: -1.1052357706658393 and parameters: {'colsample_bylevel': 0.08727246254430761, 'depth': 5, 'boosting_type': 'Plain', 'bootstrap_type': 'MVS', 'l2_leaf_reg': 0.19408802133741007, 'random_strength': 3.297484097382676}. Best is trial 21 with value: -1.0893608618833752.\u001b[0m\n"
     ]
    },
    {
     "name": "stdout",
     "output_type": "stream",
     "text": [
      "Stopped by overfitting detector  (100 iterations wait)\n",
      "\n",
      "bestTest = 1.105848\n",
      "bestIteration = 1046\n",
      "\n",
      "Shrink model to first 1047 iterations.\n",
      "0:\tlearn: 1.0059175\ttest: 1.0059175\ttest1: 1.3070692\tbest: 1.3070692 (0)\ttotal: 112ms\tremaining: 18m 40s\n",
      "100:\tlearn: 0.8945484\ttest: 0.8945484\ttest1: 1.1440302\tbest: 1.1440302 (100)\ttotal: 9.32s\tremaining: 15m 13s\n",
      "200:\tlearn: 0.8823913\ttest: 0.8823913\ttest1: 1.1289977\tbest: 1.1289977 (200)\ttotal: 17.3s\tremaining: 14m 3s\n",
      "300:\tlearn: 0.8732754\ttest: 0.8732754\ttest1: 1.1167208\tbest: 1.1167208 (300)\ttotal: 25.2s\tremaining: 13m 32s\n",
      "400:\tlearn: 0.8712121\ttest: 0.8712121\ttest1: 1.1145361\tbest: 1.1145361 (400)\ttotal: 33.1s\tremaining: 13m 12s\n",
      "500:\tlearn: 0.8701705\ttest: 0.8701705\ttest1: 1.1138163\tbest: 1.1138160 (498)\ttotal: 41s\tremaining: 12m 57s\n",
      "600:\tlearn: 0.8694153\ttest: 0.8694153\ttest1: 1.1134962\tbest: 1.1133075 (553)\ttotal: 48.9s\tremaining: 12m 44s\n",
      "700:\tlearn: 0.8682324\ttest: 0.8682324\ttest1: 1.1120928\tbest: 1.1120143 (668)\ttotal: 56.7s\tremaining: 12m 32s\n",
      "800:\tlearn: 0.8661101\ttest: 0.8661101\ttest1: 1.1090427\tbest: 1.1090382 (790)\ttotal: 1m 4s\tremaining: 12m 21s\n",
      "900:\tlearn: 0.8640917\ttest: 0.8640917\ttest1: 1.1069932\tbest: 1.1069932 (900)\ttotal: 1m 12s\tremaining: 12m 11s\n",
      "1000:\tlearn: 0.8615475\ttest: 0.8615475\ttest1: 1.1044004\tbest: 1.1043046 (991)\ttotal: 1m 20s\tremaining: 12m 2s\n",
      "1100:\tlearn: 0.8609985\ttest: 0.8609985\ttest1: 1.1041206\tbest: 1.1041206 (1100)\ttotal: 1m 28s\tremaining: 11m 53s\n",
      "1200:\tlearn: 0.8591722\ttest: 0.8591722\ttest1: 1.1039204\tbest: 1.1038150 (1176)\ttotal: 1m 36s\tremaining: 11m 44s\n",
      "1300:\tlearn: 0.8583952\ttest: 0.8583952\ttest1: 1.1032758\tbest: 1.1032758 (1299)\ttotal: 1m 44s\tremaining: 11m 35s\n",
      "1400:\tlearn: 0.8576734\ttest: 0.8576734\ttest1: 1.1029455\tbest: 1.1029455 (1400)\ttotal: 1m 51s\tremaining: 11m 26s\n",
      "1500:\tlearn: 0.8551828\ttest: 0.8551828\ttest1: 1.1006063\tbest: 1.1006063 (1499)\ttotal: 1m 59s\tremaining: 11m 18s\n",
      "1600:\tlearn: 0.8538484\ttest: 0.8538484\ttest1: 1.0984015\tbest: 1.0984015 (1600)\ttotal: 2m 7s\tremaining: 11m 10s\n",
      "1700:\tlearn: 0.8523773\ttest: 0.8523773\ttest1: 1.0970664\tbest: 1.0970663 (1699)\ttotal: 2m 15s\tremaining: 11m 1s\n",
      "1800:\tlearn: 0.8519443\ttest: 0.8519443\ttest1: 1.0971182\tbest: 1.0970346 (1728)\ttotal: 2m 23s\tremaining: 10m 53s\n"
     ]
    },
    {
     "name": "stderr",
     "output_type": "stream",
     "text": [
      "\u001b[32m[I 2021-07-30 12:54:13,594]\u001b[0m Trial 61 finished with value: -1.0964038079587974 and parameters: {'colsample_bylevel': 0.08227289528484943, 'depth': 6, 'boosting_type': 'Plain', 'bootstrap_type': 'MVS', 'l2_leaf_reg': 0.5684880758386917, 'random_strength': 2.1412898450354874}. Best is trial 21 with value: -1.0893608618833752.\u001b[0m\n"
     ]
    },
    {
     "name": "stdout",
     "output_type": "stream",
     "text": [
      "Stopped by overfitting detector  (100 iterations wait)\n",
      "\n",
      "bestTest = 1.097034573\n",
      "bestIteration = 1728\n",
      "\n",
      "Shrink model to first 1729 iterations.\n",
      "0:\tlearn: 1.0025908\ttest: 1.0025908\ttest1: 1.3018063\tbest: 1.3018063 (0)\ttotal: 116ms\tremaining: 19m 22s\n",
      "100:\tlearn: 0.8875664\ttest: 0.8875664\ttest1: 1.1368406\tbest: 1.1368406 (100)\ttotal: 9.04s\tremaining: 14m 46s\n",
      "200:\tlearn: 0.8750256\ttest: 0.8750256\ttest1: 1.1207868\tbest: 1.1207851 (196)\ttotal: 17.2s\tremaining: 14m\n",
      "300:\tlearn: 0.8725965\ttest: 0.8725965\ttest1: 1.1186809\tbest: 1.1186809 (300)\ttotal: 25.4s\tremaining: 13m 37s\n",
      "400:\tlearn: 0.8706850\ttest: 0.8706850\ttest1: 1.1170663\tbest: 1.1170653 (394)\ttotal: 33.5s\tremaining: 13m 21s\n",
      "500:\tlearn: 0.8664558\ttest: 0.8664558\ttest1: 1.1113586\tbest: 1.1113586 (500)\ttotal: 41.6s\tremaining: 13m 9s\n",
      "600:\tlearn: 0.8642917\ttest: 0.8642917\ttest1: 1.1088595\tbest: 1.1086126 (552)\ttotal: 49.7s\tremaining: 12m 57s\n",
      "700:\tlearn: 0.8634891\ttest: 0.8634891\ttest1: 1.1077538\tbest: 1.1077538 (700)\ttotal: 57.9s\tremaining: 12m 47s\n",
      "800:\tlearn: 0.8610179\ttest: 0.8610179\ttest1: 1.1051378\tbest: 1.1051378 (800)\ttotal: 1m 6s\tremaining: 12m 38s\n",
      "900:\tlearn: 0.8589129\ttest: 0.8589129\ttest1: 1.1030162\tbest: 1.1030157 (894)\ttotal: 1m 14s\tremaining: 12m 28s\n",
      "1000:\tlearn: 0.8580062\ttest: 0.8580062\ttest1: 1.1019382\tbest: 1.1019286 (987)\ttotal: 1m 22s\tremaining: 12m 19s\n",
      "1100:\tlearn: 0.8568542\ttest: 0.8568542\ttest1: 1.1011439\tbest: 1.1011439 (1100)\ttotal: 1m 30s\tremaining: 12m 11s\n",
      "1200:\tlearn: 0.8557074\ttest: 0.8557074\ttest1: 1.1005105\tbest: 1.1001195 (1178)\ttotal: 1m 38s\tremaining: 12m 2s\n",
      "1300:\tlearn: 0.8547120\ttest: 0.8547120\ttest1: 1.0990098\tbest: 1.0990064 (1299)\ttotal: 1m 46s\tremaining: 11m 53s\n",
      "1400:\tlearn: 0.8532758\ttest: 0.8532758\ttest1: 1.0966588\tbest: 1.0966399 (1398)\ttotal: 1m 54s\tremaining: 11m 45s\n",
      "1500:\tlearn: 0.8523683\ttest: 0.8523683\ttest1: 1.0967261\tbest: 1.0962632 (1495)\ttotal: 2m 3s\tremaining: 11m 36s\n"
     ]
    },
    {
     "name": "stderr",
     "output_type": "stream",
     "text": [
      "\u001b[32m[I 2021-07-30 12:56:25,033]\u001b[0m Trial 62 finished with value: -1.0958132472826505 and parameters: {'colsample_bylevel': 0.09697101643140937, 'depth': 6, 'boosting_type': 'Plain', 'bootstrap_type': 'MVS', 'l2_leaf_reg': 2.7495729539121023, 'random_strength': 2.6278662717213956}. Best is trial 21 with value: -1.0893608618833752.\u001b[0m\n"
     ]
    },
    {
     "name": "stdout",
     "output_type": "stream",
     "text": [
      "Stopped by overfitting detector  (100 iterations wait)\n",
      "\n",
      "bestTest = 1.096263187\n",
      "bestIteration = 1495\n",
      "\n",
      "Shrink model to first 1496 iterations.\n",
      "0:\tlearn: 1.0017910\ttest: 1.0017910\ttest1: 1.3004911\tbest: 1.3004911 (0)\ttotal: 114ms\tremaining: 19m 4s\n",
      "100:\tlearn: 0.8947704\ttest: 0.8947704\ttest1: 1.1461403\tbest: 1.1461403 (100)\ttotal: 9.22s\tremaining: 15m 4s\n",
      "200:\tlearn: 0.8761129\ttest: 0.8761129\ttest1: 1.1203190\tbest: 1.1203190 (200)\ttotal: 17.4s\tremaining: 14m 7s\n",
      "300:\tlearn: 0.8735200\ttest: 0.8735200\ttest1: 1.1166630\tbest: 1.1166593 (299)\ttotal: 25.5s\tremaining: 13m 40s\n",
      "400:\tlearn: 0.8703529\ttest: 0.8703529\ttest1: 1.1131325\tbest: 1.1130993 (390)\ttotal: 33.5s\tremaining: 13m 21s\n",
      "500:\tlearn: 0.8666830\ttest: 0.8666830\ttest1: 1.1089968\tbest: 1.1088757 (484)\ttotal: 41.6s\tremaining: 13m 8s\n",
      "600:\tlearn: 0.8658531\ttest: 0.8658531\ttest1: 1.1088279\tbest: 1.1088036 (595)\ttotal: 49.7s\tremaining: 12m 56s\n",
      "700:\tlearn: 0.8647504\ttest: 0.8647504\ttest1: 1.1079512\tbest: 1.1075676 (662)\ttotal: 57.7s\tremaining: 12m 44s\n",
      "800:\tlearn: 0.8612266\ttest: 0.8612266\ttest1: 1.1023884\tbest: 1.1023418 (793)\ttotal: 1m 5s\tremaining: 12m 34s\n",
      "900:\tlearn: 0.8602886\ttest: 0.8602886\ttest1: 1.1012461\tbest: 1.1012366 (896)\ttotal: 1m 13s\tremaining: 12m 24s\n",
      "1000:\tlearn: 0.8588408\ttest: 0.8588408\ttest1: 1.0998676\tbest: 1.0997690 (996)\ttotal: 1m 21s\tremaining: 12m 15s\n",
      "1100:\tlearn: 0.8576418\ttest: 0.8576418\ttest1: 1.0989108\tbest: 1.0988256 (1088)\ttotal: 1m 29s\tremaining: 12m 6s\n",
      "1200:\tlearn: 0.8563787\ttest: 0.8563787\ttest1: 1.0975162\tbest: 1.0975157 (1195)\ttotal: 1m 37s\tremaining: 11m 56s\n",
      "1300:\tlearn: 0.8550197\ttest: 0.8550197\ttest1: 1.0965728\tbest: 1.0963779 (1261)\ttotal: 1m 45s\tremaining: 11m 48s\n",
      "1400:\tlearn: 0.8544677\ttest: 0.8544677\ttest1: 1.0981290\tbest: 1.0956468 (1376)\ttotal: 1m 54s\tremaining: 11m 40s\n"
     ]
    },
    {
     "name": "stderr",
     "output_type": "stream",
     "text": [
      "\u001b[32m[I 2021-07-30 12:58:25,926]\u001b[0m Trial 63 finished with value: -1.095242031659878 and parameters: {'colsample_bylevel': 0.09381542798276105, 'depth': 6, 'boosting_type': 'Plain', 'bootstrap_type': 'MVS', 'l2_leaf_reg': 0.8647022397936293, 'random_strength': 1.5160355925479223}. Best is trial 21 with value: -1.0893608618833752.\u001b[0m\n"
     ]
    },
    {
     "name": "stdout",
     "output_type": "stream",
     "text": [
      "Stopped by overfitting detector  (100 iterations wait)\n",
      "\n",
      "bestTest = 1.095646819\n",
      "bestIteration = 1376\n",
      "\n",
      "Shrink model to first 1377 iterations.\n",
      "0:\tlearn: 1.0019862\ttest: 1.0019862\ttest1: 1.3013642\tbest: 1.3013642 (0)\ttotal: 109ms\tremaining: 18m 5s\n",
      "100:\tlearn: 0.8898459\ttest: 0.8898459\ttest1: 1.1374152\tbest: 1.1374152 (100)\ttotal: 8.77s\tremaining: 14m 19s\n",
      "200:\tlearn: 0.8802382\ttest: 0.8802382\ttest1: 1.1272724\tbest: 1.1272439 (194)\ttotal: 16.6s\tremaining: 13m 30s\n",
      "300:\tlearn: 0.8723144\ttest: 0.8723144\ttest1: 1.1152208\tbest: 1.1152207 (298)\ttotal: 24.5s\tremaining: 13m 9s\n",
      "400:\tlearn: 0.8686262\ttest: 0.8686262\ttest1: 1.1120473\tbest: 1.1120463 (392)\ttotal: 32.3s\tremaining: 12m 52s\n",
      "500:\tlearn: 0.8680952\ttest: 0.8680952\ttest1: 1.1116437\tbest: 1.1116349 (499)\ttotal: 40s\tremaining: 12m 39s\n",
      "600:\tlearn: 0.8668309\ttest: 0.8668309\ttest1: 1.1106259\tbest: 1.1106259 (600)\ttotal: 47.8s\tremaining: 12m 28s\n",
      "700:\tlearn: 0.8655405\ttest: 0.8655405\ttest1: 1.1095405\tbest: 1.1093340 (651)\ttotal: 55.6s\tremaining: 12m 18s\n",
      "800:\tlearn: 0.8644458\ttest: 0.8644458\ttest1: 1.1086782\tbest: 1.1086689 (799)\ttotal: 1m 3s\tremaining: 12m 8s\n",
      "900:\tlearn: 0.8627316\ttest: 0.8627316\ttest1: 1.1064670\tbest: 1.1064465 (892)\ttotal: 1m 11s\tremaining: 11m 58s\n",
      "1000:\tlearn: 0.8606125\ttest: 0.8606125\ttest1: 1.1046760\tbest: 1.1046417 (993)\ttotal: 1m 19s\tremaining: 11m 50s\n",
      "1100:\tlearn: 0.8583614\ttest: 0.8583614\ttest1: 1.1021541\tbest: 1.1021503 (1097)\ttotal: 1m 26s\tremaining: 11m 42s\n",
      "1200:\tlearn: 0.8560922\ttest: 0.8560922\ttest1: 1.1003793\tbest: 1.1003793 (1200)\ttotal: 1m 34s\tremaining: 11m 33s\n",
      "1300:\tlearn: 0.8550546\ttest: 0.8550546\ttest1: 1.1002238\tbest: 1.1002013 (1296)\ttotal: 1m 42s\tremaining: 11m 25s\n",
      "1400:\tlearn: 0.8538905\ttest: 0.8538905\ttest1: 1.0992842\tbest: 1.0992842 (1400)\ttotal: 1m 50s\tremaining: 11m 16s\n",
      "1500:\tlearn: 0.8534495\ttest: 0.8534495\ttest1: 1.0991771\tbest: 1.0991768 (1499)\ttotal: 1m 58s\tremaining: 11m 8s\n",
      "1600:\tlearn: 0.8527186\ttest: 0.8527186\ttest1: 1.0980037\tbest: 1.0979400 (1570)\ttotal: 2m 5s\tremaining: 11m\n",
      "1700:\tlearn: 0.8523559\ttest: 0.8523559\ttest1: 1.0971295\tbest: 1.0971270 (1697)\ttotal: 2m 13s\tremaining: 10m 52s\n",
      "1800:\tlearn: 0.8515620\ttest: 0.8515620\ttest1: 1.0963397\tbest: 1.0963021 (1783)\ttotal: 2m 21s\tremaining: 10m 44s\n",
      "1900:\tlearn: 0.8507439\ttest: 0.8507439\ttest1: 1.0956402\tbest: 1.0954919 (1872)\ttotal: 2m 29s\tremaining: 10m 36s\n"
     ]
    },
    {
     "name": "stderr",
     "output_type": "stream",
     "text": [
      "\u001b[32m[I 2021-07-30 13:01:01,857]\u001b[0m Trial 64 finished with value: -1.094879622245327 and parameters: {'colsample_bylevel': 0.06541623177769351, 'depth': 6, 'boosting_type': 'Plain', 'bootstrap_type': 'MVS', 'l2_leaf_reg': 2.4388661740979174, 'random_strength': 1.02332859211571}. Best is trial 21 with value: -1.0893608618833752.\u001b[0m\n"
     ]
    },
    {
     "name": "stdout",
     "output_type": "stream",
     "text": [
      "Stopped by overfitting detector  (100 iterations wait)\n",
      "\n",
      "bestTest = 1.095491927\n",
      "bestIteration = 1872\n",
      "\n",
      "Shrink model to first 1873 iterations.\n",
      "0:\tlearn: 1.0076945\ttest: 1.0076945\ttest1: 1.3088331\tbest: 1.3088331 (0)\ttotal: 110ms\tremaining: 18m 19s\n",
      "100:\tlearn: 0.9200638\ttest: 0.9200638\ttest1: 1.1861759\tbest: 1.1861759 (100)\ttotal: 9.49s\tremaining: 15m 29s\n",
      "200:\tlearn: 0.8845421\ttest: 0.8845421\ttest1: 1.1282190\tbest: 1.1282190 (200)\ttotal: 17.4s\tremaining: 14m 6s\n",
      "300:\tlearn: 0.8807768\ttest: 0.8807768\ttest1: 1.1230995\tbest: 1.1230995 (300)\ttotal: 25.1s\tremaining: 13m 27s\n",
      "400:\tlearn: 0.8765607\ttest: 0.8765607\ttest1: 1.1176553\tbest: 1.1176549 (396)\ttotal: 32.7s\tremaining: 13m 3s\n",
      "500:\tlearn: 0.8730678\ttest: 0.8730678\ttest1: 1.1139334\tbest: 1.1139247 (489)\ttotal: 40.5s\tremaining: 12m 48s\n",
      "600:\tlearn: 0.8715859\ttest: 0.8715859\ttest1: 1.1118784\tbest: 1.1118743 (598)\ttotal: 48.1s\tremaining: 12m 32s\n",
      "700:\tlearn: 0.8712621\ttest: 0.8712621\ttest1: 1.1117944\tbest: 1.1117696 (681)\ttotal: 55.9s\tremaining: 12m 21s\n",
      "800:\tlearn: 0.8694170\ttest: 0.8694170\ttest1: 1.1094417\tbest: 1.1094417 (800)\ttotal: 1m 3s\tremaining: 12m 13s\n",
      "900:\tlearn: 0.8683952\ttest: 0.8683952\ttest1: 1.1087823\tbest: 1.1087823 (900)\ttotal: 1m 11s\tremaining: 12m 3s\n",
      "1000:\tlearn: 0.8677614\ttest: 0.8677614\ttest1: 1.1079449\tbest: 1.1079449 (1000)\ttotal: 1m 19s\tremaining: 11m 54s\n",
      "1100:\tlearn: 0.8650587\ttest: 0.8650587\ttest1: 1.1036263\tbest: 1.1036131 (1088)\ttotal: 1m 27s\tremaining: 11m 44s\n",
      "1200:\tlearn: 0.8646209\ttest: 0.8646209\ttest1: 1.1035167\tbest: 1.1035062 (1198)\ttotal: 1m 34s\tremaining: 11m 35s\n",
      "1300:\tlearn: 0.8631513\ttest: 0.8631513\ttest1: 1.1012036\tbest: 1.1012036 (1300)\ttotal: 1m 42s\tremaining: 11m 24s\n",
      "1400:\tlearn: 0.8626098\ttest: 0.8626098\ttest1: 1.1006428\tbest: 1.1006428 (1400)\ttotal: 1m 50s\tremaining: 11m 15s\n",
      "1500:\tlearn: 0.8621423\ttest: 0.8621423\ttest1: 1.1004708\tbest: 1.1004486 (1493)\ttotal: 1m 57s\tremaining: 11m 6s\n",
      "1600:\tlearn: 0.8613584\ttest: 0.8613584\ttest1: 1.0991085\tbest: 1.0991060 (1598)\ttotal: 2m 5s\tremaining: 10m 57s\n",
      "1700:\tlearn: 0.8596978\ttest: 0.8596978\ttest1: 1.0972729\tbest: 1.0972509 (1689)\ttotal: 2m 13s\tremaining: 10m 49s\n",
      "1800:\tlearn: 0.8595801\ttest: 0.8595801\ttest1: 1.0971758\tbest: 1.0971757 (1799)\ttotal: 2m 20s\tremaining: 10m 40s\n",
      "1900:\tlearn: 0.8592746\ttest: 0.8592746\ttest1: 1.0966795\tbest: 1.0966617 (1874)\ttotal: 2m 28s\tremaining: 10m 31s\n",
      "2000:\tlearn: 0.8587733\ttest: 0.8587733\ttest1: 1.0961248\tbest: 1.0961244 (1997)\ttotal: 2m 35s\tremaining: 10m 23s\n",
      "2100:\tlearn: 0.8581836\ttest: 0.8581836\ttest1: 1.0959165\tbest: 1.0958932 (2071)\ttotal: 2m 43s\tremaining: 10m 15s\n",
      "2200:\tlearn: 0.8574979\ttest: 0.8574979\ttest1: 1.0956156\tbest: 1.0956156 (2200)\ttotal: 2m 51s\tremaining: 10m 6s\n",
      "2300:\tlearn: 0.8571495\ttest: 0.8571495\ttest1: 1.0953955\tbest: 1.0953952 (2297)\ttotal: 2m 58s\tremaining: 9m 58s\n",
      "2400:\tlearn: 0.8567877\ttest: 0.8567877\ttest1: 1.0950661\tbest: 1.0950661 (2399)\ttotal: 3m 6s\tremaining: 9m 50s\n",
      "2500:\tlearn: 0.8563369\ttest: 0.8563369\ttest1: 1.0940329\tbest: 1.0940262 (2480)\ttotal: 3m 14s\tremaining: 9m 42s\n",
      "2600:\tlearn: 0.8561330\ttest: 0.8561330\ttest1: 1.0938278\tbest: 1.0938113 (2583)\ttotal: 3m 21s\tremaining: 9m 33s\n",
      "2700:\tlearn: 0.8552826\ttest: 0.8552826\ttest1: 1.0925192\tbest: 1.0925066 (2694)\ttotal: 3m 29s\tremaining: 9m 25s\n",
      "2800:\tlearn: 0.8548319\ttest: 0.8548319\ttest1: 1.0920287\tbest: 1.0920287 (2800)\ttotal: 3m 36s\tremaining: 9m 17s\n",
      "2900:\tlearn: 0.8544257\ttest: 0.8544257\ttest1: 1.0913621\tbest: 1.0913612 (2898)\ttotal: 3m 44s\tremaining: 9m 9s\n",
      "3000:\tlearn: 0.8539124\ttest: 0.8539124\ttest1: 1.0909827\tbest: 1.0909827 (2999)\ttotal: 3m 52s\tremaining: 9m 2s\n",
      "3100:\tlearn: 0.8535494\ttest: 0.8535494\ttest1: 1.0904726\tbest: 1.0904726 (3100)\ttotal: 4m\tremaining: 8m 54s\n",
      "3200:\tlearn: 0.8534287\ttest: 0.8534287\ttest1: 1.0903774\tbest: 1.0903661 (3192)\ttotal: 4m 7s\tremaining: 8m 46s\n",
      "3300:\tlearn: 0.8532642\ttest: 0.8532642\ttest1: 1.0903656\tbest: 1.0903616 (3238)\ttotal: 4m 15s\tremaining: 8m 38s\n",
      "3400:\tlearn: 0.8529773\ttest: 0.8529773\ttest1: 1.0900081\tbest: 1.0900078 (3397)\ttotal: 4m 23s\tremaining: 8m 30s\n",
      "3500:\tlearn: 0.8522555\ttest: 0.8522555\ttest1: 1.0887099\tbest: 1.0885869 (3425)\ttotal: 4m 30s\tremaining: 8m 22s\n"
     ]
    },
    {
     "name": "stderr",
     "output_type": "stream",
     "text": [
      "\u001b[32m[I 2021-07-30 13:05:35,553]\u001b[0m Trial 65 finished with value: -1.0877400185595614 and parameters: {'colsample_bylevel': 0.08895366428650597, 'depth': 5, 'boosting_type': 'Ordered', 'bootstrap_type': 'Bernoulli', 'l2_leaf_reg': 3.5557557033134186, 'random_strength': 3.860389252319713, 'subsample': 0.13876392005397106}. Best is trial 65 with value: -1.0877400185595614.\u001b[0m\n"
     ]
    },
    {
     "name": "stdout",
     "output_type": "stream",
     "text": [
      "Stopped by overfitting detector  (100 iterations wait)\n",
      "\n",
      "bestTest = 1.088586927\n",
      "bestIteration = 3425\n",
      "\n",
      "Shrink model to first 3426 iterations.\n",
      "0:\tlearn: 1.0069479\ttest: 1.0069479\ttest1: 1.3084099\tbest: 1.3084099 (0)\ttotal: 141ms\tremaining: 23m 27s\n",
      "100:\tlearn: 0.9049258\ttest: 0.9049258\ttest1: 1.1585129\tbest: 1.1585129 (100)\ttotal: 10.2s\tremaining: 16m 35s\n",
      "200:\tlearn: 0.8941444\ttest: 0.8941444\ttest1: 1.1428741\tbest: 1.1428741 (200)\ttotal: 19.6s\tremaining: 15m 53s\n",
      "300:\tlearn: 0.8903872\ttest: 0.8903872\ttest1: 1.1383701\tbest: 1.1383687 (298)\ttotal: 28.9s\tremaining: 15m 31s\n",
      "400:\tlearn: 0.8875674\ttest: 0.8875674\ttest1: 1.1344820\tbest: 1.1344818 (398)\ttotal: 38.3s\tremaining: 15m 15s\n",
      "500:\tlearn: 0.8843416\ttest: 0.8843416\ttest1: 1.1286881\tbest: 1.1286881 (500)\ttotal: 47.6s\tremaining: 15m 3s\n",
      "600:\tlearn: 0.8813015\ttest: 0.8813015\ttest1: 1.1245772\tbest: 1.1245769 (593)\ttotal: 56.8s\tremaining: 14m 48s\n",
      "700:\tlearn: 0.8807858\ttest: 0.8807858\ttest1: 1.1238607\tbest: 1.1238606 (693)\ttotal: 1m 6s\tremaining: 14m 37s\n",
      "800:\tlearn: 0.8787460\ttest: 0.8787460\ttest1: 1.1215644\tbest: 1.1215630 (798)\ttotal: 1m 15s\tremaining: 14m 26s\n",
      "900:\tlearn: 0.8784286\ttest: 0.8784286\ttest1: 1.1218028\tbest: 1.1215314 (845)\ttotal: 1m 24s\tremaining: 14m 17s\n",
      "1000:\tlearn: 0.8763224\ttest: 0.8763224\ttest1: 1.1181885\tbest: 1.1181885 (998)\ttotal: 1m 34s\tremaining: 14m 8s\n",
      "1100:\tlearn: 0.8740360\ttest: 0.8740360\ttest1: 1.1155280\tbest: 1.1155280 (1100)\ttotal: 1m 43s\tremaining: 13m 58s\n",
      "1200:\tlearn: 0.8737761\ttest: 0.8737761\ttest1: 1.1151116\tbest: 1.1151092 (1194)\ttotal: 1m 53s\tremaining: 13m 49s\n",
      "1300:\tlearn: 0.8731245\ttest: 0.8731245\ttest1: 1.1142502\tbest: 1.1142272 (1251)\ttotal: 2m 2s\tremaining: 13m 40s\n"
     ]
    },
    {
     "name": "stderr",
     "output_type": "stream",
     "text": [
      "\u001b[32m[I 2021-07-30 13:07:43,733]\u001b[0m Trial 66 finished with value: -1.1134910345715963 and parameters: {'colsample_bylevel': 0.07404294944801712, 'depth': 4, 'boosting_type': 'Ordered', 'bootstrap_type': 'MVS', 'l2_leaf_reg': 3.8543281870661277, 'random_strength': 3.695329215231264}. Best is trial 65 with value: -1.0877400185595614.\u001b[0m\n"
     ]
    },
    {
     "name": "stdout",
     "output_type": "stream",
     "text": [
      "Stopped by overfitting detector  (100 iterations wait)\n",
      "\n",
      "bestTest = 1.114227192\n",
      "bestIteration = 1251\n",
      "\n",
      "Shrink model to first 1252 iterations.\n",
      "0:\tlearn: 1.0075159\ttest: 1.0075159\ttest1: 1.3088764\tbest: 1.3088764 (0)\ttotal: 114ms\tremaining: 18m 57s\n",
      "100:\tlearn: 0.9212939\ttest: 0.9212939\ttest1: 1.1873001\tbest: 1.1873001 (100)\ttotal: 10.2s\tremaining: 16m 37s\n",
      "200:\tlearn: 0.8918277\ttest: 0.8918277\ttest1: 1.1376537\tbest: 1.1376537 (199)\ttotal: 18.6s\tremaining: 15m 7s\n",
      "300:\tlearn: 0.8854373\ttest: 0.8854373\ttest1: 1.1296720\tbest: 1.1295874 (291)\ttotal: 26.8s\tremaining: 14m 23s\n",
      "400:\tlearn: 0.8813711\ttest: 0.8813711\ttest1: 1.1239810\tbest: 1.1239810 (400)\ttotal: 35s\tremaining: 13m 56s\n",
      "500:\tlearn: 0.8793958\ttest: 0.8793958\ttest1: 1.1214903\tbest: 1.1214889 (495)\ttotal: 43.1s\tremaining: 13m 38s\n",
      "600:\tlearn: 0.8769856\ttest: 0.8769856\ttest1: 1.1176290\tbest: 1.1174933 (572)\ttotal: 51.2s\tremaining: 13m 21s\n",
      "700:\tlearn: 0.8748485\ttest: 0.8748485\ttest1: 1.1148901\tbest: 1.1148803 (695)\ttotal: 59.4s\tremaining: 13m 7s\n",
      "800:\tlearn: 0.8742937\ttest: 0.8742937\ttest1: 1.1146463\tbest: 1.1145798 (711)\ttotal: 1m 7s\tremaining: 12m 56s\n"
     ]
    },
    {
     "name": "stderr",
     "output_type": "stream",
     "text": [
      "\u001b[32m[I 2021-07-30 13:08:52,853]\u001b[0m Trial 67 finished with value: -1.1137885622186003 and parameters: {'colsample_bylevel': 0.08813853088582456, 'depth': 5, 'boosting_type': 'Ordered', 'bootstrap_type': 'Bernoulli', 'l2_leaf_reg': 5.08608506512313, 'random_strength': 4.261550575746244, 'subsample': 0.2648961645868747}. Best is trial 65 with value: -1.0877400185595614.\u001b[0m\n"
     ]
    },
    {
     "name": "stdout",
     "output_type": "stream",
     "text": [
      "Stopped by overfitting detector  (100 iterations wait)\n",
      "\n",
      "bestTest = 1.114579834\n",
      "bestIteration = 711\n",
      "\n",
      "Shrink model to first 712 iterations.\n",
      "0:\tlearn: 1.0058620\ttest: 1.0058620\ttest1: 1.3074245\tbest: 1.3074245 (0)\ttotal: 127ms\tremaining: 21m 11s\n",
      "100:\tlearn: 0.9213786\ttest: 0.9213786\ttest1: 1.1886191\tbest: 1.1886173 (98)\ttotal: 12.3s\tremaining: 20m 4s\n",
      "200:\tlearn: 0.8960611\ttest: 0.8960611\ttest1: 1.1508264\tbest: 1.1508264 (200)\ttotal: 22.9s\tremaining: 18m 35s\n",
      "300:\tlearn: 0.8861750\ttest: 0.8861750\ttest1: 1.1344363\tbest: 1.1344355 (298)\ttotal: 33s\tremaining: 17m 41s\n",
      "400:\tlearn: 0.8841055\ttest: 0.8841055\ttest1: 1.1317568\tbest: 1.1317540 (394)\ttotal: 43.1s\tremaining: 17m 11s\n",
      "500:\tlearn: 0.8816513\ttest: 0.8816513\ttest1: 1.1286047\tbest: 1.1286047 (500)\ttotal: 53.2s\tremaining: 16m 48s\n",
      "600:\tlearn: 0.8794098\ttest: 0.8794098\ttest1: 1.1245938\tbest: 1.1245580 (594)\ttotal: 1m 3s\tremaining: 16m 30s\n",
      "700:\tlearn: 0.8786114\ttest: 0.8786114\ttest1: 1.1234560\tbest: 1.1234515 (652)\ttotal: 1m 13s\tremaining: 16m 15s\n"
     ]
    },
    {
     "name": "stderr",
     "output_type": "stream",
     "text": [
      "\u001b[32m[I 2021-07-30 13:10:12,217]\u001b[0m Trial 68 finished with value: -1.1228373078658827 and parameters: {'colsample_bylevel': 0.08082811860265944, 'depth': 4, 'boosting_type': 'Ordered', 'bootstrap_type': 'Bernoulli', 'l2_leaf_reg': 6.008551690863708, 'random_strength': 4.7508557708905235, 'subsample': 0.9909906080780654}. Best is trial 65 with value: -1.0877400185595614.\u001b[0m\n"
     ]
    },
    {
     "name": "stdout",
     "output_type": "stream",
     "text": [
      "Stopped by overfitting detector  (100 iterations wait)\n",
      "\n",
      "bestTest = 1.12345149\n",
      "bestIteration = 652\n",
      "\n",
      "Shrink model to first 653 iterations.\n",
      "0:\tlearn: 1.0050635\ttest: 1.0050635\ttest1: 1.3060752\tbest: 1.3060752 (0)\ttotal: 111ms\tremaining: 18m 33s\n",
      "100:\tlearn: 0.9110297\ttest: 0.9110297\ttest1: 1.1752130\tbest: 1.1752130 (100)\ttotal: 10.6s\tremaining: 17m 15s\n",
      "200:\tlearn: 0.8921368\ttest: 0.8921368\ttest1: 1.1432150\tbest: 1.1432150 (200)\ttotal: 19.8s\tremaining: 16m 3s\n",
      "300:\tlearn: 0.8840938\ttest: 0.8840938\ttest1: 1.1313543\tbest: 1.1311803 (298)\ttotal: 28.5s\tremaining: 15m 18s\n",
      "400:\tlearn: 0.8806729\ttest: 0.8806729\ttest1: 1.1266282\tbest: 1.1266282 (400)\ttotal: 37.2s\tremaining: 14m 51s\n",
      "500:\tlearn: 0.8791251\ttest: 0.8791251\ttest1: 1.1248117\tbest: 1.1248117 (500)\ttotal: 46.1s\tremaining: 14m 33s\n",
      "600:\tlearn: 0.8757432\ttest: 0.8757432\ttest1: 1.1195722\tbest: 1.1195722 (600)\ttotal: 54.8s\tremaining: 14m 16s\n",
      "700:\tlearn: 0.8739438\ttest: 0.8739438\ttest1: 1.1175129\tbest: 1.1175129 (700)\ttotal: 1m 3s\tremaining: 14m 1s\n",
      "800:\tlearn: 0.8713016\ttest: 0.8713016\ttest1: 1.1129847\tbest: 1.1129847 (800)\ttotal: 1m 12s\tremaining: 13m 47s\n",
      "900:\tlearn: 0.8699603\ttest: 0.8699603\ttest1: 1.1118075\tbest: 1.1118075 (899)\ttotal: 1m 20s\tremaining: 13m 35s\n",
      "1000:\tlearn: 0.8683302\ttest: 0.8683302\ttest1: 1.1097916\tbest: 1.1094907 (995)\ttotal: 1m 29s\tremaining: 13m 23s\n",
      "1100:\tlearn: 0.8665427\ttest: 0.8665427\ttest1: 1.1082982\tbest: 1.1082982 (1099)\ttotal: 1m 37s\tremaining: 13m 11s\n",
      "1200:\tlearn: 0.8657514\ttest: 0.8657514\ttest1: 1.1075535\tbest: 1.1075427 (1191)\ttotal: 1m 46s\tremaining: 13m 1s\n",
      "1300:\tlearn: 0.8649678\ttest: 0.8649678\ttest1: 1.1066449\tbest: 1.1065645 (1289)\ttotal: 1m 55s\tremaining: 12m 50s\n",
      "1400:\tlearn: 0.8647387\ttest: 0.8647387\ttest1: 1.1065130\tbest: 1.1065119 (1393)\ttotal: 2m 3s\tremaining: 12m 39s\n",
      "1500:\tlearn: 0.8641884\ttest: 0.8641884\ttest1: 1.1061671\tbest: 1.1061670 (1499)\ttotal: 2m 12s\tremaining: 12m 30s\n",
      "1600:\tlearn: 0.8631095\ttest: 0.8631095\ttest1: 1.1059301\tbest: 1.1056350 (1562)\ttotal: 2m 21s\tremaining: 12m 20s\n",
      "1700:\tlearn: 0.8626058\ttest: 0.8626058\ttest1: 1.1054023\tbest: 1.1054022 (1699)\ttotal: 2m 29s\tremaining: 12m 10s\n",
      "1800:\tlearn: 0.8621012\ttest: 0.8621012\ttest1: 1.1049330\tbest: 1.1049001 (1785)\ttotal: 2m 38s\tremaining: 12m\n",
      "1900:\tlearn: 0.8615348\ttest: 0.8615348\ttest1: 1.1041909\tbest: 1.1041677 (1853)\ttotal: 2m 46s\tremaining: 11m 50s\n",
      "2000:\tlearn: 0.8609562\ttest: 0.8609562\ttest1: 1.1039016\tbest: 1.1038861 (1979)\ttotal: 2m 55s\tremaining: 11m 41s\n",
      "2100:\tlearn: 0.8596971\ttest: 0.8596971\ttest1: 1.1031172\tbest: 1.1030770 (2085)\ttotal: 3m 4s\tremaining: 11m 32s\n",
      "2200:\tlearn: 0.8591817\ttest: 0.8591817\ttest1: 1.1016487\tbest: 1.1016487 (2200)\ttotal: 3m 12s\tremaining: 11m 22s\n",
      "2300:\tlearn: 0.8590084\ttest: 0.8590084\ttest1: 1.1013795\tbest: 1.1013791 (2295)\ttotal: 3m 21s\tremaining: 11m 13s\n",
      "2400:\tlearn: 0.8589079\ttest: 0.8589079\ttest1: 1.1012877\tbest: 1.1012636 (2385)\ttotal: 3m 29s\tremaining: 11m 3s\n",
      "2500:\tlearn: 0.8588107\ttest: 0.8588107\ttest1: 1.1012476\tbest: 1.1012120 (2437)\ttotal: 3m 38s\tremaining: 10m 54s\n",
      "2600:\tlearn: 0.8585526\ttest: 0.8585526\ttest1: 1.1010272\tbest: 1.1010254 (2591)\ttotal: 3m 46s\tremaining: 10m 45s\n",
      "2700:\tlearn: 0.8579134\ttest: 0.8579134\ttest1: 1.1003646\tbest: 1.1003036 (2686)\ttotal: 3m 55s\tremaining: 10m 36s\n",
      "2800:\tlearn: 0.8573945\ttest: 0.8573945\ttest1: 1.0997933\tbest: 1.0997918 (2798)\ttotal: 4m 4s\tremaining: 10m 27s\n",
      "2900:\tlearn: 0.8571187\ttest: 0.8571187\ttest1: 1.0995126\tbest: 1.0995126 (2897)\ttotal: 4m 12s\tremaining: 10m 18s\n",
      "3000:\tlearn: 0.8562880\ttest: 0.8562880\ttest1: 1.0984343\tbest: 1.0984171 (2997)\ttotal: 4m 21s\tremaining: 10m 9s\n",
      "Stopped by overfitting detector  (100 iterations wait)\n",
      "\n",
      "bestTest = 1.09841709\n",
      "bestIteration = 2997\n",
      "\n",
      "Shrink model to first 2998 iterations.\n"
     ]
    },
    {
     "name": "stderr",
     "output_type": "stream",
     "text": [
      "\u001b[32m[I 2021-07-30 13:14:42,876]\u001b[0m Trial 69 finished with value: -1.0975220716184626 and parameters: {'colsample_bylevel': 0.04657777564906394, 'depth': 5, 'boosting_type': 'Ordered', 'bootstrap_type': 'Bernoulli', 'l2_leaf_reg': 7.110503676665267, 'random_strength': 5.575156344568097, 'subsample': 0.45121977402402286}. Best is trial 65 with value: -1.0877400185595614.\u001b[0m\n"
     ]
    },
    {
     "name": "stdout",
     "output_type": "stream",
     "text": [
      "0:\tlearn: 1.0058549\ttest: 1.0058549\ttest1: 1.3072567\tbest: 1.3072567 (0)\ttotal: 107ms\tremaining: 17m 47s\n",
      "100:\tlearn: 0.9165083\ttest: 0.9165083\ttest1: 1.1837709\tbest: 1.1837709 (100)\ttotal: 9.94s\tremaining: 16m 13s\n",
      "200:\tlearn: 0.8885408\ttest: 0.8885408\ttest1: 1.1375758\tbest: 1.1375758 (200)\ttotal: 18.3s\tremaining: 14m 53s\n",
      "300:\tlearn: 0.8799058\ttest: 0.8799058\ttest1: 1.1235638\tbest: 1.1235637 (299)\ttotal: 26.1s\tremaining: 14m 1s\n",
      "400:\tlearn: 0.8783373\ttest: 0.8783373\ttest1: 1.1219270\tbest: 1.1218360 (322)\ttotal: 33.9s\tremaining: 13m 31s\n",
      "500:\tlearn: 0.8758183\ttest: 0.8758183\ttest1: 1.1181081\tbest: 1.1181045 (499)\ttotal: 41.5s\tremaining: 13m 7s\n",
      "600:\tlearn: 0.8736185\ttest: 0.8736185\ttest1: 1.1143696\tbest: 1.1143657 (593)\ttotal: 49.1s\tremaining: 12m 48s\n",
      "700:\tlearn: 0.8722186\ttest: 0.8722186\ttest1: 1.1134655\tbest: 1.1133922 (694)\ttotal: 56.9s\tremaining: 12m 35s\n",
      "800:\tlearn: 0.8714971\ttest: 0.8714971\ttest1: 1.1127020\tbest: 1.1127017 (797)\ttotal: 1m 4s\tremaining: 12m 21s\n",
      "900:\tlearn: 0.8697250\ttest: 0.8697250\ttest1: 1.1105483\tbest: 1.1105483 (900)\ttotal: 1m 12s\tremaining: 12m 9s\n",
      "1000:\tlearn: 0.8689295\ttest: 0.8689295\ttest1: 1.1089892\tbest: 1.1089836 (997)\ttotal: 1m 20s\tremaining: 11m 59s\n",
      "1100:\tlearn: 0.8670451\ttest: 0.8670451\ttest1: 1.1061525\tbest: 1.1061450 (1092)\ttotal: 1m 27s\tremaining: 11m 50s\n",
      "1200:\tlearn: 0.8664730\ttest: 0.8664730\ttest1: 1.1053739\tbest: 1.1053739 (1200)\ttotal: 1m 35s\tremaining: 11m 39s\n",
      "1300:\tlearn: 0.8653805\ttest: 0.8653805\ttest1: 1.1038265\tbest: 1.1038265 (1300)\ttotal: 1m 43s\tremaining: 11m 30s\n",
      "1400:\tlearn: 0.8649442\ttest: 0.8649442\ttest1: 1.1035242\tbest: 1.1035221 (1394)\ttotal: 1m 50s\tremaining: 11m 20s\n",
      "1500:\tlearn: 0.8643642\ttest: 0.8643642\ttest1: 1.1032976\tbest: 1.1032850 (1465)\ttotal: 1m 58s\tremaining: 11m 11s\n",
      "1600:\tlearn: 0.8634572\ttest: 0.8634572\ttest1: 1.1023924\tbest: 1.1023586 (1585)\ttotal: 2m 6s\tremaining: 11m 1s\n",
      "1700:\tlearn: 0.8620126\ttest: 0.8620126\ttest1: 1.1005708\tbest: 1.1005647 (1694)\ttotal: 2m 13s\tremaining: 10m 52s\n",
      "1800:\tlearn: 0.8615580\ttest: 0.8615580\ttest1: 1.0999447\tbest: 1.0999244 (1785)\ttotal: 2m 21s\tremaining: 10m 44s\n",
      "1900:\tlearn: 0.8610635\ttest: 0.8610635\ttest1: 1.0994922\tbest: 1.0993985 (1864)\ttotal: 2m 29s\tremaining: 10m 35s\n",
      "2000:\tlearn: 0.8605208\ttest: 0.8605208\ttest1: 1.0989953\tbest: 1.0988583 (1967)\ttotal: 2m 36s\tremaining: 10m 26s\n",
      "Stopped by overfitting detector  (100 iterations wait)\n",
      "\n",
      "bestTest = 1.09885835\n",
      "bestIteration = 1967\n",
      "\n",
      "Shrink model to first 1968 iterations.\n"
     ]
    },
    {
     "name": "stderr",
     "output_type": "stream",
     "text": [
      "\u001b[32m[I 2021-07-30 13:17:25,762]\u001b[0m Trial 70 finished with value: -1.097999397334923 and parameters: {'colsample_bylevel': 0.07712746598712802, 'depth': 5, 'boosting_type': 'Ordered', 'bootstrap_type': 'Bernoulli', 'l2_leaf_reg': 2.1502213876238256, 'random_strength': 3.5506511028164893, 'subsample': 0.15447364592812896}. Best is trial 65 with value: -1.0877400185595614.\u001b[0m\n"
     ]
    },
    {
     "name": "stdout",
     "output_type": "stream",
     "text": [
      "0:\tlearn: 1.0040487\ttest: 1.0040487\ttest1: 1.3043672\tbest: 1.3043672 (0)\ttotal: 98.2ms\tremaining: 16m 22s\n",
      "100:\tlearn: 0.9097116\ttest: 0.9097116\ttest1: 1.1733231\tbest: 1.1733231 (100)\ttotal: 8.58s\tremaining: 14m 1s\n",
      "200:\tlearn: 0.8854438\ttest: 0.8854438\ttest1: 1.1377355\tbest: 1.1377355 (200)\ttotal: 15.4s\tremaining: 12m 30s\n",
      "300:\tlearn: 0.8757651\ttest: 0.8757651\ttest1: 1.1237649\tbest: 1.1237649 (300)\ttotal: 21.9s\tremaining: 11m 46s\n",
      "400:\tlearn: 0.8729192\ttest: 0.8729192\ttest1: 1.1206065\tbest: 1.1205995 (398)\ttotal: 28.4s\tremaining: 11m 20s\n",
      "500:\tlearn: 0.8707736\ttest: 0.8707736\ttest1: 1.1180389\tbest: 1.1180256 (496)\ttotal: 35s\tremaining: 11m 3s\n",
      "600:\tlearn: 0.8676326\ttest: 0.8676326\ttest1: 1.1142472\tbest: 1.1141950 (592)\ttotal: 41.5s\tremaining: 10m 49s\n",
      "700:\tlearn: 0.8662037\ttest: 0.8662037\ttest1: 1.1136463\tbest: 1.1136439 (698)\ttotal: 48.1s\tremaining: 10m 37s\n",
      "800:\tlearn: 0.8615906\ttest: 0.8615906\ttest1: 1.1079088\tbest: 1.1079033 (798)\ttotal: 54.6s\tremaining: 10m 27s\n",
      "900:\tlearn: 0.8599689\ttest: 0.8599689\ttest1: 1.1058368\tbest: 1.1058366 (898)\ttotal: 1m 1s\tremaining: 10m 17s\n",
      "1000:\tlearn: 0.8585539\ttest: 0.8585539\ttest1: 1.1043776\tbest: 1.1043470 (981)\ttotal: 1m 7s\tremaining: 10m 8s\n",
      "1100:\tlearn: 0.8567612\ttest: 0.8567612\ttest1: 1.1022248\tbest: 1.1022161 (1085)\ttotal: 1m 14s\tremaining: 10m\n",
      "1200:\tlearn: 0.8554940\ttest: 0.8554940\ttest1: 1.1010861\tbest: 1.1010852 (1199)\ttotal: 1m 20s\tremaining: 9m 52s\n",
      "1300:\tlearn: 0.8550623\ttest: 0.8550623\ttest1: 1.1010236\tbest: 1.1008773 (1211)\ttotal: 1m 27s\tremaining: 9m 44s\n"
     ]
    },
    {
     "name": "stderr",
     "output_type": "stream",
     "text": [
      "\u001b[32m[I 2021-07-30 13:18:54,496]\u001b[0m Trial 71 finished with value: -1.1000927047444269 and parameters: {'colsample_bylevel': 0.09972979890256704, 'depth': 6, 'boosting_type': 'Plain', 'bootstrap_type': 'Bernoulli', 'l2_leaf_reg': 3.268980206558102, 'random_strength': 2.7758640142336657, 'subsample': 0.1217205376163473}. Best is trial 65 with value: -1.0877400185595614.\u001b[0m\n"
     ]
    },
    {
     "name": "stdout",
     "output_type": "stream",
     "text": [
      "Stopped by overfitting detector  (100 iterations wait)\n",
      "\n",
      "bestTest = 1.100877269\n",
      "bestIteration = 1211\n",
      "\n",
      "Shrink model to first 1212 iterations.\n",
      "0:\tlearn: 1.0004579\ttest: 1.0004579\ttest1: 1.2990963\tbest: 1.2990963 (0)\ttotal: 123ms\tremaining: 20m 30s\n",
      "100:\tlearn: 0.9091078\ttest: 0.9091078\ttest1: 1.1738382\tbest: 1.1738382 (100)\ttotal: 9.71s\tremaining: 15m 51s\n",
      "200:\tlearn: 0.8886236\ttest: 0.8886236\ttest1: 1.1409572\tbest: 1.1409572 (200)\ttotal: 17.6s\tremaining: 14m 20s\n",
      "300:\tlearn: 0.8765906\ttest: 0.8765906\ttest1: 1.1235689\tbest: 1.1235558 (292)\ttotal: 25.5s\tremaining: 13m 41s\n",
      "400:\tlearn: 0.8730292\ttest: 0.8730292\ttest1: 1.1202781\tbest: 1.1202779 (399)\ttotal: 33.2s\tremaining: 13m 13s\n",
      "500:\tlearn: 0.8697752\ttest: 0.8697752\ttest1: 1.1155846\tbest: 1.1155199 (498)\ttotal: 40.9s\tremaining: 12m 55s\n",
      "600:\tlearn: 0.8683359\ttest: 0.8683359\ttest1: 1.1134435\tbest: 1.1134433 (596)\ttotal: 48.7s\tremaining: 12m 41s\n",
      "700:\tlearn: 0.8661693\ttest: 0.8661693\ttest1: 1.1103795\tbest: 1.1103359 (695)\ttotal: 56.5s\tremaining: 12m 29s\n",
      "800:\tlearn: 0.8637598\ttest: 0.8637598\ttest1: 1.1057645\tbest: 1.1057334 (793)\ttotal: 1m 4s\tremaining: 12m 16s\n",
      "900:\tlearn: 0.8627739\ttest: 0.8627739\ttest1: 1.1050879\tbest: 1.1050057 (898)\ttotal: 1m 11s\tremaining: 12m 6s\n",
      "1000:\tlearn: 0.8609867\ttest: 0.8609867\ttest1: 1.1025530\tbest: 1.1025179 (997)\ttotal: 1m 19s\tremaining: 11m 55s\n",
      "1100:\tlearn: 0.8604249\ttest: 0.8604249\ttest1: 1.1018700\tbest: 1.1018569 (1090)\ttotal: 1m 27s\tremaining: 11m 47s\n",
      "1200:\tlearn: 0.8583783\ttest: 0.8583783\ttest1: 1.0996438\tbest: 1.0995101 (1193)\ttotal: 1m 35s\tremaining: 11m 38s\n",
      "1300:\tlearn: 0.8579600\ttest: 0.8579600\ttest1: 1.0994671\tbest: 1.0994671 (1300)\ttotal: 1m 43s\tremaining: 11m 28s\n",
      "1400:\tlearn: 0.8570132\ttest: 0.8570132\ttest1: 1.0983459\tbest: 1.0983458 (1399)\ttotal: 1m 50s\tremaining: 11m 19s\n",
      "1500:\tlearn: 0.8565673\ttest: 0.8565673\ttest1: 1.0977621\tbest: 1.0977618 (1497)\ttotal: 1m 58s\tremaining: 11m 10s\n",
      "1600:\tlearn: 0.8560645\ttest: 0.8560645\ttest1: 1.0974997\tbest: 1.0974754 (1587)\ttotal: 2m 6s\tremaining: 11m 1s\n",
      "1700:\tlearn: 0.8556624\ttest: 0.8556624\ttest1: 1.0971490\tbest: 1.0971320 (1690)\ttotal: 2m 13s\tremaining: 10m 52s\n",
      "1800:\tlearn: 0.8550508\ttest: 0.8550508\ttest1: 1.0964518\tbest: 1.0964300 (1788)\ttotal: 2m 21s\tremaining: 10m 45s\n",
      "1900:\tlearn: 0.8544780\ttest: 0.8544780\ttest1: 1.0960268\tbest: 1.0960050 (1898)\ttotal: 2m 29s\tremaining: 10m 37s\n",
      "2000:\tlearn: 0.8538768\ttest: 0.8538768\ttest1: 1.0952454\tbest: 1.0951633 (1966)\ttotal: 2m 37s\tremaining: 10m 28s\n"
     ]
    },
    {
     "name": "stderr",
     "output_type": "stream",
     "text": [
      "\u001b[32m[I 2021-07-30 13:21:37,544]\u001b[0m Trial 72 finished with value: -1.0943498236866935 and parameters: {'colsample_bylevel': 0.09108675397599814, 'depth': 6, 'boosting_type': 'Ordered', 'bootstrap_type': 'Bernoulli', 'l2_leaf_reg': 4.114059751843248, 'random_strength': 5.03619877669603, 'subsample': 0.10100682642728065}. Best is trial 65 with value: -1.0877400185595614.\u001b[0m\n"
     ]
    },
    {
     "name": "stdout",
     "output_type": "stream",
     "text": [
      "Stopped by overfitting detector  (100 iterations wait)\n",
      "\n",
      "bestTest = 1.095163327\n",
      "bestIteration = 1966\n",
      "\n",
      "Shrink model to first 1967 iterations.\n",
      "0:\tlearn: 1.0026328\ttest: 1.0026328\ttest1: 1.3024193\tbest: 1.3024193 (0)\ttotal: 96.5ms\tremaining: 16m 4s\n",
      "100:\tlearn: 0.8969186\ttest: 0.8969186\ttest1: 1.1539292\tbest: 1.1539292 (100)\ttotal: 8.19s\tremaining: 13m 22s\n",
      "200:\tlearn: 0.8783537\ttest: 0.8783537\ttest1: 1.1264891\tbest: 1.1262104 (186)\ttotal: 15s\tremaining: 12m 9s\n",
      "300:\tlearn: 0.8706307\ttest: 0.8706307\ttest1: 1.1166551\tbest: 1.1166551 (300)\ttotal: 21.7s\tremaining: 11m 39s\n",
      "400:\tlearn: 0.8654432\ttest: 0.8654432\ttest1: 1.1117863\tbest: 1.1117783 (396)\ttotal: 28.5s\tremaining: 11m 21s\n",
      "500:\tlearn: 0.8632970\ttest: 0.8632970\ttest1: 1.1098376\tbest: 1.1097758 (492)\ttotal: 35.2s\tremaining: 11m 7s\n",
      "600:\tlearn: 0.8605993\ttest: 0.8605993\ttest1: 1.1078664\tbest: 1.1078587 (593)\ttotal: 41.9s\tremaining: 10m 55s\n",
      "700:\tlearn: 0.8586696\ttest: 0.8586696\ttest1: 1.1063924\tbest: 1.1063454 (696)\ttotal: 48.7s\tremaining: 10m 46s\n",
      "800:\tlearn: 0.8551823\ttest: 0.8551823\ttest1: 1.1005683\tbest: 1.1005348 (798)\ttotal: 55.5s\tremaining: 10m 37s\n",
      "900:\tlearn: 0.8529971\ttest: 0.8529971\ttest1: 1.0986329\tbest: 1.0986329 (900)\ttotal: 1m 2s\tremaining: 10m 29s\n",
      "1000:\tlearn: 0.8511444\ttest: 0.8511444\ttest1: 1.0962268\tbest: 1.0962268 (998)\ttotal: 1m 9s\tremaining: 10m 20s\n",
      "1100:\tlearn: 0.8496970\ttest: 0.8496970\ttest1: 1.0950478\tbest: 1.0950337 (1095)\ttotal: 1m 15s\tremaining: 10m 12s\n",
      "1200:\tlearn: 0.8480810\ttest: 0.8480810\ttest1: 1.0938769\tbest: 1.0936629 (1168)\ttotal: 1m 22s\tremaining: 10m 5s\n",
      "1300:\tlearn: 0.8474247\ttest: 0.8474247\ttest1: 1.0934659\tbest: 1.0932725 (1269)\ttotal: 1m 29s\tremaining: 9m 58s\n"
     ]
    },
    {
     "name": "stderr",
     "output_type": "stream",
     "text": [
      "\u001b[32m[I 2021-07-30 13:23:12,331]\u001b[0m Trial 73 finished with value: -1.0923844182292919 and parameters: {'colsample_bylevel': 0.08415025810178597, 'depth': 7, 'boosting_type': 'Plain', 'bootstrap_type': 'Bernoulli', 'l2_leaf_reg': 0.10577321284443668, 'random_strength': 4.004348537614975, 'subsample': 0.19133907669512515}. Best is trial 65 with value: -1.0877400185595614.\u001b[0m\n"
     ]
    },
    {
     "name": "stdout",
     "output_type": "stream",
     "text": [
      "Stopped by overfitting detector  (100 iterations wait)\n",
      "\n",
      "bestTest = 1.093272494\n",
      "bestIteration = 1269\n",
      "\n",
      "Shrink model to first 1270 iterations.\n",
      "0:\tlearn: 1.0026328\ttest: 1.0026328\ttest1: 1.3024193\tbest: 1.3024193 (0)\ttotal: 99.6ms\tremaining: 16m 35s\n",
      "100:\tlearn: 0.9021731\ttest: 0.9021731\ttest1: 1.1630015\tbest: 1.1630015 (100)\ttotal: 8.74s\tremaining: 14m 17s\n",
      "200:\tlearn: 0.8807881\ttest: 0.8807881\ttest1: 1.1320329\tbest: 1.1320329 (200)\ttotal: 15.5s\tremaining: 12m 36s\n",
      "300:\tlearn: 0.8701994\ttest: 0.8701994\ttest1: 1.1194921\tbest: 1.1194805 (299)\ttotal: 22.3s\tremaining: 11m 58s\n",
      "400:\tlearn: 0.8642245\ttest: 0.8642245\ttest1: 1.1152813\tbest: 1.1152813 (400)\ttotal: 29.1s\tremaining: 11m 36s\n",
      "500:\tlearn: 0.8606741\ttest: 0.8606741\ttest1: 1.1133824\tbest: 1.1133653 (498)\ttotal: 35.8s\tremaining: 11m 19s\n",
      "600:\tlearn: 0.8579864\ttest: 0.8579864\ttest1: 1.1104009\tbest: 1.1102033 (579)\ttotal: 42.6s\tremaining: 11m 5s\n",
      "700:\tlearn: 0.8569141\ttest: 0.8569141\ttest1: 1.1104326\tbest: 1.1099719 (645)\ttotal: 49.3s\tremaining: 10m 54s\n",
      "800:\tlearn: 0.8535944\ttest: 0.8535944\ttest1: 1.1072399\tbest: 1.1072355 (799)\ttotal: 56.1s\tremaining: 10m 44s\n",
      "900:\tlearn: 0.8513057\ttest: 0.8513057\ttest1: 1.1061817\tbest: 1.1061439 (891)\ttotal: 1m 2s\tremaining: 10m 34s\n",
      "1000:\tlearn: 0.8502028\ttest: 0.8502028\ttest1: 1.1054146\tbest: 1.1054146 (1000)\ttotal: 1m 9s\tremaining: 10m 26s\n",
      "1100:\tlearn: 0.8484413\ttest: 0.8484413\ttest1: 1.1035029\tbest: 1.1034937 (1098)\ttotal: 1m 16s\tremaining: 10m 18s\n"
     ]
    },
    {
     "name": "stderr",
     "output_type": "stream",
     "text": [
      "\u001b[32m[I 2021-07-30 13:24:36,061]\u001b[0m Trial 74 finished with value: -1.1024725340671935 and parameters: {'colsample_bylevel': 0.0844112461273598, 'depth': 7, 'boosting_type': 'Plain', 'bootstrap_type': 'Bernoulli', 'l2_leaf_reg': 0.2006332051609932, 'random_strength': 4.0275342198277055, 'subsample': 0.19547191513622533}. Best is trial 65 with value: -1.0877400185595614.\u001b[0m\n"
     ]
    },
    {
     "name": "stdout",
     "output_type": "stream",
     "text": [
      "Stopped by overfitting detector  (100 iterations wait)\n",
      "\n",
      "bestTest = 1.103493741\n",
      "bestIteration = 1098\n",
      "\n",
      "Shrink model to first 1099 iterations.\n",
      "0:\tlearn: 1.0016968\ttest: 1.0016968\ttest1: 1.3008694\tbest: 1.3008694 (0)\ttotal: 99.8ms\tremaining: 16m 37s\n",
      "100:\tlearn: 0.8976115\ttest: 0.8976115\ttest1: 1.1538223\tbest: 1.1538174 (99)\ttotal: 8.61s\tremaining: 14m 3s\n",
      "200:\tlearn: 0.8762302\ttest: 0.8762302\ttest1: 1.1243135\tbest: 1.1242453 (195)\ttotal: 15.6s\tremaining: 12m 39s\n",
      "300:\tlearn: 0.8701334\ttest: 0.8701334\ttest1: 1.1185989\tbest: 1.1183524 (290)\ttotal: 22.6s\tremaining: 12m 7s\n",
      "400:\tlearn: 0.8624584\ttest: 0.8624584\ttest1: 1.1088693\tbest: 1.1088007 (392)\ttotal: 29.6s\tremaining: 11m 47s\n",
      "500:\tlearn: 0.8589293\ttest: 0.8589293\ttest1: 1.1045078\tbest: 1.1045039 (499)\ttotal: 36.5s\tremaining: 11m 32s\n",
      "600:\tlearn: 0.8577340\ttest: 0.8577340\ttest1: 1.1055587\tbest: 1.1044194 (565)\ttotal: 43.5s\tremaining: 11m 19s\n"
     ]
    },
    {
     "name": "stderr",
     "output_type": "stream",
     "text": [
      "\u001b[32m[I 2021-07-30 13:25:24,613]\u001b[0m Trial 75 finished with value: -1.103707304339825 and parameters: {'colsample_bylevel': 0.0707748055385658, 'depth': 7, 'boosting_type': 'Plain', 'bootstrap_type': 'Bernoulli', 'l2_leaf_reg': 1.3198988283098794, 'random_strength': 3.3335887064949126, 'subsample': 0.29213361724567455}. Best is trial 65 with value: -1.0877400185595614.\u001b[0m\n"
     ]
    },
    {
     "name": "stdout",
     "output_type": "stream",
     "text": [
      "Stopped by overfitting detector  (100 iterations wait)\n",
      "\n",
      "bestTest = 1.104419393\n",
      "bestIteration = 565\n",
      "\n",
      "Shrink model to first 566 iterations.\n",
      "0:\tlearn: 1.0026300\ttest: 1.0026300\ttest1: 1.3014885\tbest: 1.3014885 (0)\ttotal: 99.1ms\tremaining: 16m 30s\n",
      "100:\tlearn: 0.9115381\ttest: 0.9115381\ttest1: 1.1763258\tbest: 1.1763258 (100)\ttotal: 8.81s\tremaining: 14m 23s\n",
      "200:\tlearn: 0.8783744\ttest: 0.8783744\ttest1: 1.1272331\tbest: 1.1272331 (200)\ttotal: 15.7s\tremaining: 12m 45s\n",
      "300:\tlearn: 0.8698916\ttest: 0.8698916\ttest1: 1.1178427\tbest: 1.1178427 (300)\ttotal: 22.4s\tremaining: 12m 2s\n",
      "400:\tlearn: 0.8635488\ttest: 0.8635488\ttest1: 1.1115872\tbest: 1.1112902 (364)\ttotal: 29.1s\tremaining: 11m 37s\n",
      "500:\tlearn: 0.8599855\ttest: 0.8599855\ttest1: 1.1085422\tbest: 1.1081188 (461)\ttotal: 35.9s\tremaining: 11m 20s\n",
      "600:\tlearn: 0.8571348\ttest: 0.8571348\ttest1: 1.1065601\tbest: 1.1064955 (594)\ttotal: 42.7s\tremaining: 11m 7s\n",
      "700:\tlearn: 0.8557914\ttest: 0.8557914\ttest1: 1.1061106\tbest: 1.1061017 (697)\ttotal: 49.4s\tremaining: 10m 55s\n",
      "800:\tlearn: 0.8539183\ttest: 0.8539183\ttest1: 1.1047564\tbest: 1.1047520 (797)\ttotal: 56.2s\tremaining: 10m 45s\n",
      "900:\tlearn: 0.8519235\ttest: 0.8519235\ttest1: 1.1025603\tbest: 1.1024400 (892)\ttotal: 1m 2s\tremaining: 10m 35s\n",
      "1000:\tlearn: 0.8506673\ttest: 0.8506673\ttest1: 1.1023166\tbest: 1.1016641 (943)\ttotal: 1m 9s\tremaining: 10m 26s\n",
      "1100:\tlearn: 0.8494802\ttest: 0.8494802\ttest1: 1.1006864\tbest: 1.1006864 (1100)\ttotal: 1m 16s\tremaining: 10m 18s\n",
      "1200:\tlearn: 0.8478379\ttest: 0.8478379\ttest1: 1.0996300\tbest: 1.0995018 (1195)\ttotal: 1m 23s\tremaining: 10m 10s\n",
      "1300:\tlearn: 0.8464320\ttest: 0.8464320\ttest1: 1.0977595\tbest: 1.0976600 (1252)\ttotal: 1m 30s\tremaining: 10m 2s\n",
      "1400:\tlearn: 0.8452857\ttest: 0.8452857\ttest1: 1.0968313\tbest: 1.0968041 (1390)\ttotal: 1m 36s\tremaining: 9m 54s\n",
      "1500:\tlearn: 0.8440721\ttest: 0.8440721\ttest1: 1.0956272\tbest: 1.0955317 (1445)\ttotal: 1m 43s\tremaining: 9m 47s\n"
     ]
    },
    {
     "name": "stderr",
     "output_type": "stream",
     "text": [
      "\u001b[32m[I 2021-07-30 13:27:12,029]\u001b[0m Trial 76 finished with value: -1.0948434315363442 and parameters: {'colsample_bylevel': 0.08951055511763424, 'depth': 7, 'boosting_type': 'Plain', 'bootstrap_type': 'Bernoulli', 'l2_leaf_reg': 8.611181861158808, 'random_strength': 4.761333145538643, 'subsample': 0.18627009814046627}. Best is trial 65 with value: -1.0877400185595614.\u001b[0m\n"
     ]
    },
    {
     "name": "stdout",
     "output_type": "stream",
     "text": [
      "Stopped by overfitting detector  (100 iterations wait)\n",
      "\n",
      "bestTest = 1.095531714\n",
      "bestIteration = 1445\n",
      "\n",
      "Shrink model to first 1446 iterations.\n",
      "0:\tlearn: 1.0042607\ttest: 1.0042607\ttest1: 1.3048749\tbest: 1.3048749 (0)\ttotal: 92.2ms\tremaining: 15m 22s\n",
      "100:\tlearn: 0.9421944\ttest: 0.9421944\ttest1: 1.2238119\tbest: 1.2238119 (100)\ttotal: 7.01s\tremaining: 11m 27s\n",
      "200:\tlearn: 0.9070232\ttest: 0.9070232\ttest1: 1.1664652\tbest: 1.1664652 (200)\ttotal: 13.2s\tremaining: 10m 44s\n",
      "300:\tlearn: 0.8941937\ttest: 0.8941937\ttest1: 1.1465197\tbest: 1.1463051 (297)\ttotal: 19.4s\tremaining: 10m 24s\n",
      "400:\tlearn: 0.8866108\ttest: 0.8866108\ttest1: 1.1348150\tbest: 1.1348150 (400)\ttotal: 25.4s\tremaining: 10m 9s\n",
      "500:\tlearn: 0.8816500\ttest: 0.8816500\ttest1: 1.1280888\tbest: 1.1279871 (489)\ttotal: 31.6s\tremaining: 9m 59s\n",
      "600:\tlearn: 0.8792058\ttest: 0.8792058\ttest1: 1.1256010\tbest: 1.1250331 (582)\ttotal: 37.8s\tremaining: 9m 51s\n",
      "700:\tlearn: 0.8762179\ttest: 0.8762179\ttest1: 1.1226856\tbest: 1.1226856 (700)\ttotal: 44s\tremaining: 9m 43s\n",
      "800:\tlearn: 0.8737966\ttest: 0.8737966\ttest1: 1.1198576\tbest: 1.1198442 (798)\ttotal: 50.1s\tremaining: 9m 35s\n",
      "900:\tlearn: 0.8713571\ttest: 0.8713571\ttest1: 1.1174705\tbest: 1.1174557 (899)\ttotal: 56.3s\tremaining: 9m 28s\n",
      "1000:\tlearn: 0.8693194\ttest: 0.8693194\ttest1: 1.1152295\tbest: 1.1151209 (999)\ttotal: 1m 2s\tremaining: 9m 22s\n",
      "1100:\tlearn: 0.8672849\ttest: 0.8672849\ttest1: 1.1123548\tbest: 1.1123544 (1099)\ttotal: 1m 8s\tremaining: 9m 16s\n",
      "1200:\tlearn: 0.8662653\ttest: 0.8662653\ttest1: 1.1110652\tbest: 1.1110652 (1200)\ttotal: 1m 15s\tremaining: 9m 10s\n",
      "1300:\tlearn: 0.8656758\ttest: 0.8656758\ttest1: 1.1105118\tbest: 1.1104932 (1294)\ttotal: 1m 21s\tremaining: 9m 2s\n",
      "1400:\tlearn: 0.8652846\ttest: 0.8652846\ttest1: 1.1105976\tbest: 1.1104068 (1380)\ttotal: 1m 27s\tremaining: 8m 55s\n",
      "1500:\tlearn: 0.8645608\ttest: 0.8645608\ttest1: 1.1095763\tbest: 1.1095763 (1500)\ttotal: 1m 33s\tremaining: 8m 49s\n",
      "1600:\tlearn: 0.8634680\ttest: 0.8634680\ttest1: 1.1080706\tbest: 1.1077963 (1572)\ttotal: 1m 39s\tremaining: 8m 42s\n"
     ]
    },
    {
     "name": "stderr",
     "output_type": "stream",
     "text": [
      "\u001b[32m[I 2021-07-30 13:28:56,790]\u001b[0m Trial 77 finished with value: -1.106707268030083 and parameters: {'colsample_bylevel': 0.010496509555666923, 'depth': 7, 'boosting_type': 'Plain', 'bootstrap_type': 'Bernoulli', 'l2_leaf_reg': 4.779787359610372, 'random_strength': 5.170634466371758, 'subsample': 0.13952608072206837}. Best is trial 65 with value: -1.0877400185595614.\u001b[0m\n"
     ]
    },
    {
     "name": "stdout",
     "output_type": "stream",
     "text": [
      "Stopped by overfitting detector  (100 iterations wait)\n",
      "\n",
      "bestTest = 1.107796259\n",
      "bestIteration = 1572\n",
      "\n",
      "Shrink model to first 1573 iterations.\n",
      "0:\tlearn: 1.0004721\ttest: 1.0004721\ttest1: 1.3001635\tbest: 1.3001635 (0)\ttotal: 151ms\tremaining: 25m 5s\n",
      "100:\tlearn: 0.8856661\ttest: 0.8856661\ttest1: 1.1373718\tbest: 1.1373718 (100)\ttotal: 13.6s\tremaining: 22m 10s\n",
      "200:\tlearn: 0.8736369\ttest: 0.8736369\ttest1: 1.1216421\tbest: 1.1215035 (157)\ttotal: 26.1s\tremaining: 21m 13s\n",
      "300:\tlearn: 0.8680339\ttest: 0.8680339\ttest1: 1.1179382\tbest: 1.1176453 (270)\ttotal: 38.7s\tremaining: 20m 45s\n",
      "400:\tlearn: 0.8635760\ttest: 0.8635760\ttest1: 1.1140060\tbest: 1.1140054 (398)\ttotal: 51.2s\tremaining: 20m 26s\n",
      "500:\tlearn: 0.8575470\ttest: 0.8575470\ttest1: 1.1057862\tbest: 1.1057802 (493)\ttotal: 1m 3s\tremaining: 20m 7s\n",
      "600:\tlearn: 0.8555201\ttest: 0.8555201\ttest1: 1.1045098\tbest: 1.1045021 (597)\ttotal: 1m 16s\tremaining: 19m 52s\n",
      "700:\tlearn: 0.8536831\ttest: 0.8536831\ttest1: 1.1021186\tbest: 1.1020865 (696)\ttotal: 1m 28s\tremaining: 19m 37s\n",
      "800:\tlearn: 0.8521948\ttest: 0.8521948\ttest1: 1.1017484\tbest: 1.1017484 (800)\ttotal: 1m 41s\tremaining: 19m 21s\n",
      "900:\tlearn: 0.8507974\ttest: 0.8507974\ttest1: 1.1013797\tbest: 1.1010321 (847)\ttotal: 1m 53s\tremaining: 19m 7s\n"
     ]
    },
    {
     "name": "stderr",
     "output_type": "stream",
     "text": [
      "\u001b[32m[I 2021-07-30 13:30:56,952]\u001b[0m Trial 78 finished with value: -1.1005137065788915 and parameters: {'colsample_bylevel': 0.0923797455062459, 'depth': 8, 'boosting_type': 'Ordered', 'bootstrap_type': 'MVS', 'l2_leaf_reg': 7.663523908260564, 'random_strength': 4.310235661404943}. Best is trial 65 with value: -1.0877400185595614.\u001b[0m\n"
     ]
    },
    {
     "name": "stdout",
     "output_type": "stream",
     "text": [
      "Stopped by overfitting detector  (100 iterations wait)\n",
      "\n",
      "bestTest = 1.101032145\n",
      "bestIteration = 847\n",
      "\n",
      "Shrink model to first 848 iterations.\n",
      "0:\tlearn: 1.0035509\ttest: 1.0035509\ttest1: 1.3030246\tbest: 1.3030246 (0)\ttotal: 96.6ms\tremaining: 16m 5s\n",
      "100:\tlearn: 0.9150553\ttest: 0.9150553\ttest1: 1.1835464\tbest: 1.1835464 (100)\ttotal: 9.01s\tremaining: 14m 43s\n",
      "200:\tlearn: 0.8860765\ttest: 0.8860765\ttest1: 1.1370044\tbest: 1.1370044 (200)\ttotal: 16.5s\tremaining: 13m 26s\n",
      "300:\tlearn: 0.8786607\ttest: 0.8786607\ttest1: 1.1273042\tbest: 1.1272204 (294)\ttotal: 23.3s\tremaining: 12m 29s\n",
      "400:\tlearn: 0.8732134\ttest: 0.8732134\ttest1: 1.1189871\tbest: 1.1189849 (399)\ttotal: 30s\tremaining: 11m 58s\n",
      "500:\tlearn: 0.8684517\ttest: 0.8684517\ttest1: 1.1137490\tbest: 1.1136814 (495)\ttotal: 36.7s\tremaining: 11m 36s\n",
      "600:\tlearn: 0.8652788\ttest: 0.8652788\ttest1: 1.1114059\tbest: 1.1112931 (596)\ttotal: 43.5s\tremaining: 11m 19s\n",
      "700:\tlearn: 0.8637080\ttest: 0.8637080\ttest1: 1.1100212\tbest: 1.1098687 (673)\ttotal: 50.2s\tremaining: 11m 5s\n",
      "800:\tlearn: 0.8621168\ttest: 0.8621168\ttest1: 1.1080469\tbest: 1.1080440 (791)\ttotal: 56.9s\tremaining: 10m 52s\n",
      "900:\tlearn: 0.8608537\ttest: 0.8608537\ttest1: 1.1066364\tbest: 1.1066100 (892)\ttotal: 1m 3s\tremaining: 10m 41s\n",
      "1000:\tlearn: 0.8590991\ttest: 0.8590991\ttest1: 1.1046739\tbest: 1.1046737 (999)\ttotal: 1m 10s\tremaining: 10m 31s\n",
      "1100:\tlearn: 0.8583585\ttest: 0.8583585\ttest1: 1.1047395\tbest: 1.1044535 (1011)\ttotal: 1m 17s\tremaining: 10m 22s\n"
     ]
    },
    {
     "name": "stderr",
     "output_type": "stream",
     "text": [
      "\u001b[32m[I 2021-07-30 13:32:15,328]\u001b[0m Trial 79 finished with value: -1.1036101137406065 and parameters: {'colsample_bylevel': 0.0798900102365117, 'depth': 6, 'boosting_type': 'Plain', 'bootstrap_type': 'Bernoulli', 'l2_leaf_reg': 16.660154005631334, 'random_strength': 5.864753153530721, 'subsample': 0.24899731801047073}. Best is trial 65 with value: -1.0877400185595614.\u001b[0m\n"
     ]
    },
    {
     "name": "stdout",
     "output_type": "stream",
     "text": [
      "Stopped by overfitting detector  (100 iterations wait)\n",
      "\n",
      "bestTest = 1.10445349\n",
      "bestIteration = 1011\n",
      "\n",
      "Shrink model to first 1012 iterations.\n",
      "0:\tlearn: 1.0088480\ttest: 1.0088480\ttest1: 1.3107100\tbest: 1.3107100 (0)\ttotal: 121ms\tremaining: 20m 11s\n",
      "100:\tlearn: 0.9466936\ttest: 0.9466936\ttest1: 1.2370812\tbest: 1.2370812 (100)\ttotal: 8.63s\tremaining: 14m 6s\n",
      "200:\tlearn: 0.9389083\ttest: 0.9389083\ttest1: 1.2299120\tbest: 1.2299120 (200)\ttotal: 16.7s\tremaining: 13m 36s\n",
      "300:\tlearn: 0.9307181\ttest: 0.9307181\ttest1: 1.2197164\tbest: 1.2197143 (299)\ttotal: 24.9s\tremaining: 13m 21s\n",
      "400:\tlearn: 0.9221303\ttest: 0.9221303\ttest1: 1.2114370\tbest: 1.2113869 (399)\ttotal: 33s\tremaining: 13m 10s\n",
      "500:\tlearn: 0.9161168\ttest: 0.9161168\ttest1: 1.2037505\tbest: 1.2036283 (495)\ttotal: 41.1s\tremaining: 12m 59s\n",
      "600:\tlearn: 0.9105748\ttest: 0.9105748\ttest1: 1.1984688\tbest: 1.1984470 (594)\ttotal: 49.3s\tremaining: 12m 50s\n",
      "700:\tlearn: 0.9096918\ttest: 0.9096918\ttest1: 1.1980503\tbest: 1.1979101 (665)\ttotal: 57.4s\tremaining: 12m 41s\n",
      "800:\tlearn: 0.9059034\ttest: 0.9059034\ttest1: 1.1936237\tbest: 1.1935877 (783)\ttotal: 1m 5s\tremaining: 12m 32s\n",
      "900:\tlearn: 0.9019932\ttest: 0.9019932\ttest1: 1.1882699\tbest: 1.1881928 (898)\ttotal: 1m 13s\tremaining: 12m 24s\n",
      "1000:\tlearn: 0.8955514\ttest: 0.8955514\ttest1: 1.1799883\tbest: 1.1799842 (995)\ttotal: 1m 21s\tremaining: 12m 16s\n",
      "1100:\tlearn: 0.8918780\ttest: 0.8918780\ttest1: 1.1759094\tbest: 1.1758323 (1096)\ttotal: 1m 30s\tremaining: 12m 7s\n",
      "1200:\tlearn: 0.8894636\ttest: 0.8894636\ttest1: 1.1737422\tbest: 1.1731723 (1105)\ttotal: 1m 38s\tremaining: 11m 58s\n"
     ]
    },
    {
     "name": "stderr",
     "output_type": "stream",
     "text": [
      "\u001b[32m[I 2021-07-30 13:33:54,495]\u001b[0m Trial 80 finished with value: -1.172450378029737 and parameters: {'colsample_bylevel': 0.08657728360556673, 'depth': 7, 'boosting_type': 'Plain', 'bootstrap_type': 'Bayesian', 'l2_leaf_reg': 6.900834337896173, 'random_strength': 0.2771001786538146, 'bagging_temperature': 9.834876334845283}. Best is trial 65 with value: -1.0877400185595614.\u001b[0m\n"
     ]
    },
    {
     "name": "stdout",
     "output_type": "stream",
     "text": [
      "Stopped by overfitting detector  (100 iterations wait)\n",
      "\n",
      "bestTest = 1.173172256\n",
      "bestIteration = 1105\n",
      "\n",
      "Shrink model to first 1106 iterations.\n",
      "0:\tlearn: 1.0027551\ttest: 1.0027551\ttest1: 1.3023005\tbest: 1.3023005 (0)\ttotal: 98.8ms\tremaining: 16m 28s\n",
      "100:\tlearn: 0.8961097\ttest: 0.8961097\ttest1: 1.1496650\tbest: 1.1496650 (100)\ttotal: 7.93s\tremaining: 12m 57s\n",
      "200:\tlearn: 0.8810972\ttest: 0.8810972\ttest1: 1.1296171\tbest: 1.1295379 (191)\ttotal: 14.6s\tremaining: 11m 53s\n",
      "300:\tlearn: 0.8735423\ttest: 0.8735423\ttest1: 1.1204302\tbest: 1.1204044 (298)\ttotal: 21.3s\tremaining: 11m 26s\n",
      "400:\tlearn: 0.8710952\ttest: 0.8710952\ttest1: 1.1183235\tbest: 1.1183222 (398)\ttotal: 28s\tremaining: 11m 9s\n",
      "500:\tlearn: 0.8677777\ttest: 0.8677777\ttest1: 1.1132998\tbest: 1.1132900 (494)\ttotal: 34.6s\tremaining: 10m 56s\n",
      "600:\tlearn: 0.8639778\ttest: 0.8639778\ttest1: 1.1086175\tbest: 1.1086115 (598)\ttotal: 41.3s\tremaining: 10m 45s\n",
      "700:\tlearn: 0.8626560\ttest: 0.8626560\ttest1: 1.1071473\tbest: 1.1071225 (699)\ttotal: 48s\tremaining: 10m 36s\n",
      "800:\tlearn: 0.8614210\ttest: 0.8614210\ttest1: 1.1059517\tbest: 1.1059517 (799)\ttotal: 54.6s\tremaining: 10m 27s\n",
      "900:\tlearn: 0.8603620\ttest: 0.8603620\ttest1: 1.1050821\tbest: 1.1050804 (899)\ttotal: 1m 1s\tremaining: 10m 18s\n",
      "1000:\tlearn: 0.8582574\ttest: 0.8582574\ttest1: 1.1023105\tbest: 1.1021002 (991)\ttotal: 1m 7s\tremaining: 10m 11s\n",
      "1100:\tlearn: 0.8568794\ttest: 0.8568794\ttest1: 1.1015656\tbest: 1.1015094 (1083)\ttotal: 1m 14s\tremaining: 10m 3s\n",
      "1200:\tlearn: 0.8557241\ttest: 0.8557241\ttest1: 1.1011204\tbest: 1.1011057 (1198)\ttotal: 1m 21s\tremaining: 9m 56s\n",
      "1300:\tlearn: 0.8546988\ttest: 0.8546988\ttest1: 1.1003182\tbest: 1.1003163 (1291)\ttotal: 1m 28s\tremaining: 9m 49s\n",
      "1400:\tlearn: 0.8532016\ttest: 0.8532016\ttest1: 1.0984799\tbest: 1.0984725 (1388)\ttotal: 1m 34s\tremaining: 9m 42s\n",
      "1500:\tlearn: 0.8527016\ttest: 0.8527016\ttest1: 1.0980110\tbest: 1.0980095 (1489)\ttotal: 1m 41s\tremaining: 9m 35s\n",
      "1600:\tlearn: 0.8520779\ttest: 0.8520779\ttest1: 1.0979207\tbest: 1.0973512 (1586)\ttotal: 1m 48s\tremaining: 9m 28s\n",
      "1700:\tlearn: 0.8515921\ttest: 0.8515921\ttest1: 1.0974392\tbest: 1.0973489 (1685)\ttotal: 1m 55s\tremaining: 9m 21s\n",
      "1800:\tlearn: 0.8509650\ttest: 0.8509650\ttest1: 1.0973945\tbest: 1.0973058 (1743)\ttotal: 2m 1s\tremaining: 9m 14s\n"
     ]
    },
    {
     "name": "stderr",
     "output_type": "stream",
     "text": [
      "\u001b[32m[I 2021-07-30 13:35:59,844]\u001b[0m Trial 81 finished with value: -1.096490344096207 and parameters: {'colsample_bylevel': 0.0958339305487878, 'depth': 6, 'boosting_type': 'Plain', 'bootstrap_type': 'Bernoulli', 'l2_leaf_reg': 1.7938116472127807, 'random_strength': 2.2168544632656983, 'subsample': 0.20949755671985562}. Best is trial 65 with value: -1.0877400185595614.\u001b[0m\n"
     ]
    },
    {
     "name": "stdout",
     "output_type": "stream",
     "text": [
      "Stopped by overfitting detector  (100 iterations wait)\n",
      "\n",
      "bestTest = 1.097305776\n",
      "bestIteration = 1743\n",
      "\n",
      "Shrink model to first 1744 iterations.\n",
      "0:\tlearn: 1.0036246\ttest: 1.0036246\ttest1: 1.3034865\tbest: 1.3034865 (0)\ttotal: 99.8ms\tremaining: 16m 38s\n",
      "100:\tlearn: 0.8882904\ttest: 0.8882904\ttest1: 1.1357804\tbest: 1.1357804 (100)\ttotal: 7.91s\tremaining: 12m 55s\n",
      "200:\tlearn: 0.8774416\ttest: 0.8774416\ttest1: 1.1212273\tbest: 1.1212272 (199)\ttotal: 14.9s\tremaining: 12m 4s\n",
      "300:\tlearn: 0.8726568\ttest: 0.8726568\ttest1: 1.1161344\tbest: 1.1161344 (300)\ttotal: 21.8s\tremaining: 11m 42s\n",
      "400:\tlearn: 0.8693684\ttest: 0.8693684\ttest1: 1.1113415\tbest: 1.1113414 (399)\ttotal: 28.7s\tremaining: 11m 28s\n",
      "500:\tlearn: 0.8674883\ttest: 0.8674883\ttest1: 1.1095896\tbest: 1.1095838 (496)\ttotal: 35.7s\tremaining: 11m 16s\n",
      "600:\tlearn: 0.8649886\ttest: 0.8649886\ttest1: 1.1062696\tbest: 1.1062606 (582)\ttotal: 42.6s\tremaining: 11m 6s\n",
      "700:\tlearn: 0.8627102\ttest: 0.8627102\ttest1: 1.1043071\tbest: 1.1042926 (697)\ttotal: 49.5s\tremaining: 10m 57s\n",
      "800:\tlearn: 0.8604225\ttest: 0.8604225\ttest1: 1.1013878\tbest: 1.1013866 (797)\ttotal: 56.5s\tremaining: 10m 48s\n",
      "900:\tlearn: 0.8589913\ttest: 0.8589913\ttest1: 1.0994264\tbest: 1.0994262 (899)\ttotal: 1m 3s\tremaining: 10m 40s\n",
      "1000:\tlearn: 0.8581954\ttest: 0.8581954\ttest1: 1.0989920\tbest: 1.0988202 (974)\ttotal: 1m 10s\tremaining: 10m 32s\n",
      "1100:\tlearn: 0.8571270\ttest: 0.8571270\ttest1: 1.0981743\tbest: 1.0981617 (1097)\ttotal: 1m 17s\tremaining: 10m 24s\n",
      "1200:\tlearn: 0.8556583\ttest: 0.8556583\ttest1: 1.0966405\tbest: 1.0966369 (1195)\ttotal: 1m 24s\tremaining: 10m 17s\n",
      "1300:\tlearn: 0.8544868\ttest: 0.8544868\ttest1: 1.0963116\tbest: 1.0963114 (1298)\ttotal: 1m 31s\tremaining: 10m 10s\n",
      "1400:\tlearn: 0.8537441\ttest: 0.8537441\ttest1: 1.0957876\tbest: 1.0957275 (1379)\ttotal: 1m 38s\tremaining: 10m 2s\n",
      "1500:\tlearn: 0.8534206\ttest: 0.8534206\ttest1: 1.0958780\tbest: 1.0956897 (1406)\ttotal: 1m 45s\tremaining: 9m 55s\n"
     ]
    },
    {
     "name": "stderr",
     "output_type": "stream",
     "text": [
      "\u001b[32m[I 2021-07-30 13:37:46,049]\u001b[0m Trial 82 finished with value: -1.0952116512117154 and parameters: {'colsample_bylevel': 0.08330521628052222, 'depth': 6, 'boosting_type': 'Plain', 'bootstrap_type': 'Bernoulli', 'l2_leaf_reg': 5.8004348309907545, 'random_strength': 0.6789700497328818, 'subsample': 0.331242589436859}. Best is trial 65 with value: -1.0877400185595614.\u001b[0m\n"
     ]
    },
    {
     "name": "stdout",
     "output_type": "stream",
     "text": [
      "Stopped by overfitting detector  (100 iterations wait)\n",
      "\n",
      "bestTest = 1.095689729\n",
      "bestIteration = 1406\n",
      "\n",
      "Shrink model to first 1407 iterations.\n",
      "0:\tlearn: 1.0032033\ttest: 1.0032033\ttest1: 1.3025052\tbest: 1.3025052 (0)\ttotal: 94.2ms\tremaining: 15m 42s\n",
      "100:\tlearn: 0.8938907\ttest: 0.8938907\ttest1: 1.1495860\tbest: 1.1495860 (100)\ttotal: 7.47s\tremaining: 12m 11s\n",
      "200:\tlearn: 0.8791521\ttest: 0.8791521\ttest1: 1.1306250\tbest: 1.1305132 (181)\ttotal: 14s\tremaining: 11m 20s\n",
      "300:\tlearn: 0.8709797\ttest: 0.8709797\ttest1: 1.1188198\tbest: 1.1188196 (298)\ttotal: 20.4s\tremaining: 10m 57s\n",
      "400:\tlearn: 0.8677108\ttest: 0.8677108\ttest1: 1.1141110\tbest: 1.1141110 (400)\ttotal: 26.9s\tremaining: 10m 42s\n",
      "500:\tlearn: 0.8634635\ttest: 0.8634635\ttest1: 1.1080922\tbest: 1.1080922 (500)\ttotal: 33.3s\tremaining: 10m 31s\n",
      "600:\tlearn: 0.8607271\ttest: 0.8607271\ttest1: 1.1042101\tbest: 1.1041753 (592)\ttotal: 39.7s\tremaining: 10m 21s\n",
      "700:\tlearn: 0.8593672\ttest: 0.8593672\ttest1: 1.1032623\tbest: 1.1032623 (700)\ttotal: 46.2s\tremaining: 10m 12s\n",
      "800:\tlearn: 0.8587520\ttest: 0.8587520\ttest1: 1.1027904\tbest: 1.1026521 (776)\ttotal: 52.7s\tremaining: 10m 4s\n",
      "900:\tlearn: 0.8579438\ttest: 0.8579438\ttest1: 1.1032082\tbest: 1.1026356 (824)\ttotal: 59.2s\tremaining: 9m 57s\n"
     ]
    },
    {
     "name": "stderr",
     "output_type": "stream",
     "text": [
      "\u001b[32m[I 2021-07-30 13:38:47,369]\u001b[0m Trial 83 finished with value: -1.1019854848285033 and parameters: {'colsample_bylevel': 0.06785766199358777, 'depth': 6, 'boosting_type': 'Plain', 'bootstrap_type': 'Bernoulli', 'l2_leaf_reg': 1.0347401052731677, 'random_strength': 1.7717628101368432, 'subsample': 0.12301760297133918}. Best is trial 65 with value: -1.0877400185595614.\u001b[0m\n"
     ]
    },
    {
     "name": "stdout",
     "output_type": "stream",
     "text": [
      "Stopped by overfitting detector  (100 iterations wait)\n",
      "\n",
      "bestTest = 1.102635618\n",
      "bestIteration = 824\n",
      "\n",
      "Shrink model to first 825 iterations.\n",
      "0:\tlearn: 1.0027000\ttest: 1.0027000\ttest1: 1.3014291\tbest: 1.3014291 (0)\ttotal: 95.1ms\tremaining: 15m 50s\n",
      "100:\tlearn: 0.9196739\ttest: 0.9196739\ttest1: 1.1841372\tbest: 1.1841238 (99)\ttotal: 8.56s\tremaining: 13m 58s\n",
      "200:\tlearn: 0.8945726\ttest: 0.8945726\ttest1: 1.1471069\tbest: 1.1471069 (200)\ttotal: 15.8s\tremaining: 12m 50s\n",
      "300:\tlearn: 0.8838879\ttest: 0.8838879\ttest1: 1.1298833\tbest: 1.1298833 (300)\ttotal: 22.3s\tremaining: 11m 58s\n",
      "400:\tlearn: 0.8784328\ttest: 0.8784328\ttest1: 1.1212078\tbest: 1.1212078 (400)\ttotal: 28.8s\tremaining: 11m 29s\n",
      "500:\tlearn: 0.8754121\ttest: 0.8754121\ttest1: 1.1169682\tbest: 1.1169676 (495)\ttotal: 35.3s\tremaining: 11m 9s\n",
      "600:\tlearn: 0.8719285\ttest: 0.8719285\ttest1: 1.1112011\tbest: 1.1112011 (600)\ttotal: 41.8s\tremaining: 10m 53s\n",
      "700:\tlearn: 0.8689832\ttest: 0.8689832\ttest1: 1.1076422\tbest: 1.1076409 (693)\ttotal: 48.2s\tremaining: 10m 39s\n",
      "800:\tlearn: 0.8678247\ttest: 0.8678247\ttest1: 1.1054192\tbest: 1.1054192 (800)\ttotal: 54.7s\tremaining: 10m 27s\n",
      "900:\tlearn: 0.8669620\ttest: 0.8669620\ttest1: 1.1047059\tbest: 1.1047051 (896)\ttotal: 1m 1s\tremaining: 10m 17s\n",
      "1000:\tlearn: 0.8661775\ttest: 0.8661775\ttest1: 1.1045950\tbest: 1.1044437 (942)\ttotal: 1m 7s\tremaining: 10m 7s\n",
      "1100:\tlearn: 0.8645951\ttest: 0.8645951\ttest1: 1.1018714\tbest: 1.1018624 (1092)\ttotal: 1m 13s\tremaining: 9m 57s\n",
      "1200:\tlearn: 0.8638617\ttest: 0.8638617\ttest1: 1.1011448\tbest: 1.1011404 (1173)\ttotal: 1m 20s\tremaining: 9m 49s\n",
      "1300:\tlearn: 0.8627304\ttest: 0.8627304\ttest1: 1.1002407\tbest: 1.1002407 (1300)\ttotal: 1m 26s\tremaining: 9m 41s\n",
      "1400:\tlearn: 0.8617991\ttest: 0.8617991\ttest1: 1.0995614\tbest: 1.0995611 (1394)\ttotal: 1m 33s\tremaining: 9m 33s\n",
      "1500:\tlearn: 0.8609354\ttest: 0.8609354\ttest1: 1.0994042\tbest: 1.0993870 (1475)\ttotal: 1m 39s\tremaining: 9m 25s\n",
      "1600:\tlearn: 0.8604471\ttest: 0.8604471\ttest1: 1.0988641\tbest: 1.0987228 (1577)\ttotal: 1m 46s\tremaining: 9m 17s\n",
      "1700:\tlearn: 0.8594143\ttest: 0.8594143\ttest1: 1.0974936\tbest: 1.0974936 (1700)\ttotal: 1m 52s\tremaining: 9m 10s\n",
      "1800:\tlearn: 0.8588115\ttest: 0.8588115\ttest1: 1.0963158\tbest: 1.0963067 (1787)\ttotal: 1m 59s\tremaining: 9m 3s\n",
      "1900:\tlearn: 0.8582211\ttest: 0.8582211\ttest1: 1.0958128\tbest: 1.0958128 (1900)\ttotal: 2m 5s\tremaining: 8m 56s\n",
      "2000:\tlearn: 0.8579772\ttest: 0.8579772\ttest1: 1.0955491\tbest: 1.0955455 (1992)\ttotal: 2m 12s\tremaining: 8m 48s\n",
      "2100:\tlearn: 0.8574560\ttest: 0.8574560\ttest1: 1.0953366\tbest: 1.0953326 (2092)\ttotal: 2m 18s\tremaining: 8m 41s\n",
      "2200:\tlearn: 0.8562352\ttest: 0.8562352\ttest1: 1.0938297\tbest: 1.0938297 (2200)\ttotal: 2m 25s\tremaining: 8m 34s\n",
      "2300:\tlearn: 0.8561097\ttest: 0.8561097\ttest1: 1.0942631\tbest: 1.0937999 (2219)\ttotal: 2m 31s\tremaining: 8m 27s\n"
     ]
    },
    {
     "name": "stderr",
     "output_type": "stream",
     "text": [
      "\u001b[32m[I 2021-07-30 13:41:20,988]\u001b[0m Trial 84 finished with value: -1.0929757272180085 and parameters: {'colsample_bylevel': 0.08944680922016897, 'depth': 5, 'boosting_type': 'Plain', 'bootstrap_type': 'Bernoulli', 'l2_leaf_reg': 2.620372741340452, 'random_strength': 3.1532279116560016, 'subsample': 0.1762852852336279}. Best is trial 65 with value: -1.0877400185595614.\u001b[0m\n"
     ]
    },
    {
     "name": "stdout",
     "output_type": "stream",
     "text": [
      "Stopped by overfitting detector  (100 iterations wait)\n",
      "\n",
      "bestTest = 1.093799921\n",
      "bestIteration = 2219\n",
      "\n",
      "Shrink model to first 2220 iterations.\n",
      "0:\tlearn: 1.0034998\ttest: 1.0034998\ttest1: 1.3035458\tbest: 1.3035458 (0)\ttotal: 95.3ms\tremaining: 15m 52s\n",
      "100:\tlearn: 0.9081212\ttest: 0.9081212\ttest1: 1.1697652\tbest: 1.1697652 (100)\ttotal: 8.46s\tremaining: 13m 48s\n",
      "200:\tlearn: 0.8825547\ttest: 0.8825547\ttest1: 1.1291263\tbest: 1.1291263 (200)\ttotal: 15s\tremaining: 12m 10s\n",
      "300:\tlearn: 0.8728122\ttest: 0.8728122\ttest1: 1.1170184\tbest: 1.1170184 (300)\ttotal: 21.5s\tremaining: 11m 31s\n",
      "400:\tlearn: 0.8703927\ttest: 0.8703927\ttest1: 1.1146226\tbest: 1.1144643 (388)\ttotal: 27.9s\tremaining: 11m 8s\n",
      "500:\tlearn: 0.8685182\ttest: 0.8685182\ttest1: 1.1117661\tbest: 1.1115467 (468)\ttotal: 34.4s\tremaining: 10m 52s\n",
      "600:\tlearn: 0.8647789\ttest: 0.8647789\ttest1: 1.1083647\tbest: 1.1080210 (573)\ttotal: 40.9s\tremaining: 10m 39s\n",
      "700:\tlearn: 0.8627604\ttest: 0.8627604\ttest1: 1.1062239\tbest: 1.1062230 (698)\ttotal: 47.3s\tremaining: 10m 27s\n",
      "800:\tlearn: 0.8613158\ttest: 0.8613158\ttest1: 1.1051044\tbest: 1.1049299 (747)\ttotal: 53.8s\tremaining: 10m 17s\n",
      "900:\tlearn: 0.8599968\ttest: 0.8599968\ttest1: 1.1043779\tbest: 1.1043777 (899)\ttotal: 1m\tremaining: 10m 8s\n",
      "1000:\tlearn: 0.8583090\ttest: 0.8583090\ttest1: 1.1026518\tbest: 1.1026518 (1000)\ttotal: 1m 6s\tremaining: 10m\n",
      "1100:\tlearn: 0.8580772\ttest: 0.8580772\ttest1: 1.1026306\tbest: 1.1026289 (1089)\ttotal: 1m 13s\tremaining: 9m 52s\n",
      "1200:\tlearn: 0.8559202\ttest: 0.8559202\ttest1: 1.0997599\tbest: 1.0997597 (1199)\ttotal: 1m 19s\tremaining: 9m 44s\n",
      "1300:\tlearn: 0.8548894\ttest: 0.8548894\ttest1: 1.0990559\tbest: 1.0990559 (1300)\ttotal: 1m 26s\tremaining: 9m 36s\n",
      "1400:\tlearn: 0.8541290\ttest: 0.8541290\ttest1: 1.0981193\tbest: 1.0981193 (1400)\ttotal: 1m 32s\tremaining: 9m 29s\n",
      "1500:\tlearn: 0.8531570\ttest: 0.8531570\ttest1: 1.0974146\tbest: 1.0973691 (1478)\ttotal: 1m 39s\tremaining: 9m 21s\n",
      "1600:\tlearn: 0.8524028\ttest: 0.8524028\ttest1: 1.0972698\tbest: 1.0972646 (1591)\ttotal: 1m 45s\tremaining: 9m 14s\n",
      "1700:\tlearn: 0.8520220\ttest: 0.8520220\ttest1: 1.0971949\tbest: 1.0971869 (1670)\ttotal: 1m 52s\tremaining: 9m 7s\n",
      "1800:\tlearn: 0.8512397\ttest: 0.8512397\ttest1: 1.0967673\tbest: 1.0966579 (1776)\ttotal: 1m 58s\tremaining: 9m\n"
     ]
    },
    {
     "name": "stderr",
     "output_type": "stream",
     "text": [
      "\u001b[32m[I 2021-07-30 13:43:25,265]\u001b[0m Trial 85 finished with value: -1.095893564361202 and parameters: {'colsample_bylevel': 0.0748730347700963, 'depth': 6, 'boosting_type': 'Plain', 'bootstrap_type': 'Bernoulli', 'l2_leaf_reg': 3.43229442613495, 'random_strength': 2.886394156735976, 'subsample': 0.12760967385435137}. Best is trial 65 with value: -1.0877400185595614.\u001b[0m\n"
     ]
    },
    {
     "name": "stdout",
     "output_type": "stream",
     "text": [
      "Stopped by overfitting detector  (100 iterations wait)\n",
      "\n",
      "bestTest = 1.096657857\n",
      "bestIteration = 1776\n",
      "\n",
      "Shrink model to first 1777 iterations.\n",
      "0:\tlearn: 1.0034647\ttest: 1.0034647\ttest1: 1.3040118\tbest: 1.3040118 (0)\ttotal: 101ms\tremaining: 16m 53s\n",
      "100:\tlearn: 0.8818847\ttest: 0.8818847\ttest1: 1.1293730\tbest: 1.1293730 (100)\ttotal: 8.02s\tremaining: 13m 6s\n",
      "200:\tlearn: 0.8717062\ttest: 0.8717062\ttest1: 1.1195879\tbest: 1.1195879 (200)\ttotal: 15s\tremaining: 12m 10s\n",
      "300:\tlearn: 0.8662010\ttest: 0.8662010\ttest1: 1.1123723\tbest: 1.1123723 (300)\ttotal: 22s\tremaining: 11m 47s\n",
      "400:\tlearn: 0.8605888\ttest: 0.8605888\ttest1: 1.1077069\tbest: 1.1076838 (398)\ttotal: 29s\tremaining: 11m 33s\n",
      "500:\tlearn: 0.8583152\ttest: 0.8583152\ttest1: 1.1059783\tbest: 1.1057865 (466)\ttotal: 36s\tremaining: 11m 22s\n",
      "600:\tlearn: 0.8544435\ttest: 0.8544435\ttest1: 1.1026000\tbest: 1.1026000 (600)\ttotal: 43s\tremaining: 11m 12s\n",
      "700:\tlearn: 0.8526984\ttest: 0.8526984\ttest1: 1.1010557\tbest: 1.1010135 (686)\ttotal: 50s\tremaining: 11m 3s\n",
      "800:\tlearn: 0.8519211\ttest: 0.8519211\ttest1: 1.1010848\tbest: 1.1008595 (740)\ttotal: 57.1s\tremaining: 10m 55s\n",
      "900:\tlearn: 0.8507410\ttest: 0.8507410\ttest1: 1.0998058\tbest: 1.0997981 (888)\ttotal: 1m 4s\tremaining: 10m 47s\n",
      "1000:\tlearn: 0.8497066\ttest: 0.8497066\ttest1: 1.0989187\tbest: 1.0988874 (957)\ttotal: 1m 11s\tremaining: 10m 39s\n",
      "1100:\tlearn: 0.8491847\ttest: 0.8491847\ttest1: 1.0987368\tbest: 1.0985517 (1083)\ttotal: 1m 18s\tremaining: 10m 31s\n"
     ]
    },
    {
     "name": "stderr",
     "output_type": "stream",
     "text": [
      "\u001b[32m[I 2021-07-30 13:44:49,793]\u001b[0m Trial 86 finished with value: -1.0980776514800394 and parameters: {'colsample_bylevel': 0.09370934903603433, 'depth': 7, 'boosting_type': 'Plain', 'bootstrap_type': 'Bernoulli', 'l2_leaf_reg': 4.261008274274307, 'random_strength': 0.942198174792599, 'subsample': 0.22080804290876643}. Best is trial 65 with value: -1.0877400185595614.\u001b[0m\n"
     ]
    },
    {
     "name": "stdout",
     "output_type": "stream",
     "text": [
      "Stopped by overfitting detector  (100 iterations wait)\n",
      "\n",
      "bestTest = 1.098551747\n",
      "bestIteration = 1083\n",
      "\n",
      "Shrink model to first 1084 iterations.\n",
      "0:\tlearn: 1.0036411\ttest: 1.0036411\ttest1: 1.3038630\tbest: 1.3038630 (0)\ttotal: 104ms\tremaining: 17m 23s\n",
      "100:\tlearn: 0.8902847\ttest: 0.8902847\ttest1: 1.1371734\tbest: 1.1371684 (98)\ttotal: 8.2s\tremaining: 13m 23s\n",
      "200:\tlearn: 0.8785098\ttest: 0.8785098\ttest1: 1.1231109\tbest: 1.1230395 (197)\ttotal: 15.6s\tremaining: 12m 39s\n",
      "300:\tlearn: 0.8723745\ttest: 0.8723745\ttest1: 1.1146433\tbest: 1.1146433 (300)\ttotal: 22.9s\tremaining: 12m 19s\n",
      "400:\tlearn: 0.8697591\ttest: 0.8697591\ttest1: 1.1121455\tbest: 1.1121450 (399)\ttotal: 30.3s\tremaining: 12m 5s\n",
      "500:\tlearn: 0.8663106\ttest: 0.8663106\ttest1: 1.1083090\tbest: 1.1083083 (499)\ttotal: 37.7s\tremaining: 11m 54s\n",
      "600:\tlearn: 0.8645783\ttest: 0.8645783\ttest1: 1.1073153\tbest: 1.1072049 (598)\ttotal: 45.1s\tremaining: 11m 44s\n",
      "700:\tlearn: 0.8636902\ttest: 0.8636902\ttest1: 1.1075386\tbest: 1.1063953 (656)\ttotal: 52.5s\tremaining: 11m 36s\n"
     ]
    },
    {
     "name": "stderr",
     "output_type": "stream",
     "text": [
      "\u001b[32m[I 2021-07-30 13:45:46,989]\u001b[0m Trial 87 finished with value: -1.1060019416733058 and parameters: {'colsample_bylevel': 0.059366135966279834, 'depth': 6, 'boosting_type': 'Plain', 'bootstrap_type': 'Bernoulli', 'l2_leaf_reg': 5.3491629330808514, 'random_strength': 1.1818000081469244, 'subsample': 0.5565989058375725}. Best is trial 65 with value: -1.0877400185595614.\u001b[0m\n"
     ]
    },
    {
     "name": "stdout",
     "output_type": "stream",
     "text": [
      "Stopped by overfitting detector  (100 iterations wait)\n",
      "\n",
      "bestTest = 1.106395285\n",
      "bestIteration = 656\n",
      "\n",
      "Shrink model to first 657 iterations.\n",
      "0:\tlearn: 1.0079402\ttest: 1.0079402\ttest1: 1.3093352\tbest: 1.3093352 (0)\ttotal: 96.6ms\tremaining: 16m 6s\n",
      "100:\tlearn: 0.8950842\ttest: 0.8950842\ttest1: 1.1512935\tbest: 1.1512935 (100)\ttotal: 7.83s\tremaining: 12m 46s\n",
      "200:\tlearn: 0.8807520\ttest: 0.8807520\ttest1: 1.1316591\tbest: 1.1316591 (200)\ttotal: 14.5s\tremaining: 11m 48s\n",
      "300:\tlearn: 0.8720266\ttest: 0.8720266\ttest1: 1.1207263\tbest: 1.1207263 (300)\ttotal: 21.2s\tremaining: 11m 23s\n",
      "400:\tlearn: 0.8675117\ttest: 0.8675117\ttest1: 1.1161963\tbest: 1.1161666 (395)\ttotal: 27.9s\tremaining: 11m 6s\n",
      "500:\tlearn: 0.8650735\ttest: 0.8650735\ttest1: 1.1144245\tbest: 1.1142821 (487)\ttotal: 34.5s\tremaining: 10m 54s\n",
      "600:\tlearn: 0.8595473\ttest: 0.8595473\ttest1: 1.1096804\tbest: 1.1094933 (587)\ttotal: 41.2s\tremaining: 10m 44s\n",
      "700:\tlearn: 0.8575421\ttest: 0.8575421\ttest1: 1.1073728\tbest: 1.1073196 (696)\ttotal: 47.9s\tremaining: 10m 35s\n",
      "800:\tlearn: 0.8552302\ttest: 0.8552302\ttest1: 1.1050228\tbest: 1.1050148 (793)\ttotal: 54.6s\tremaining: 10m 27s\n",
      "900:\tlearn: 0.8536312\ttest: 0.8536312\ttest1: 1.1034120\tbest: 1.1034120 (900)\ttotal: 1m 1s\tremaining: 10m 19s\n",
      "1000:\tlearn: 0.8528513\ttest: 0.8528513\ttest1: 1.1027622\tbest: 1.1025560 (969)\ttotal: 1m 7s\tremaining: 10m 11s\n",
      "1100:\tlearn: 0.8521033\ttest: 0.8521033\ttest1: 1.1025949\tbest: 1.1023746 (1077)\ttotal: 1m 14s\tremaining: 10m 3s\n",
      "1200:\tlearn: 0.8508176\ttest: 0.8508176\ttest1: 1.1022196\tbest: 1.1021926 (1191)\ttotal: 1m 21s\tremaining: 9m 56s\n",
      "1300:\tlearn: 0.8488873\ttest: 0.8488873\ttest1: 1.1012422\tbest: 1.1012422 (1300)\ttotal: 1m 28s\tremaining: 9m 49s\n",
      "1400:\tlearn: 0.8475405\ttest: 0.8475405\ttest1: 1.0995069\tbest: 1.0994890 (1358)\ttotal: 1m 34s\tremaining: 9m 42s\n",
      "1500:\tlearn: 0.8471920\ttest: 0.8471920\ttest1: 1.0994312\tbest: 1.0994137 (1497)\ttotal: 1m 41s\tremaining: 9m 35s\n",
      "1600:\tlearn: 0.8460633\ttest: 0.8460633\ttest1: 1.0986731\tbest: 1.0986731 (1600)\ttotal: 1m 48s\tremaining: 9m 28s\n",
      "1700:\tlearn: 0.8448989\ttest: 0.8448989\ttest1: 1.0980680\tbest: 1.0978214 (1635)\ttotal: 1m 55s\tremaining: 9m 21s\n"
     ]
    },
    {
     "name": "stderr",
     "output_type": "stream",
     "text": [
      "\u001b[32m[I 2021-07-30 13:47:45,175]\u001b[0m Trial 88 finished with value: -1.0968478078204256 and parameters: {'colsample_bylevel': 0.07855049998021554, 'depth': 7, 'boosting_type': 'Plain', 'bootstrap_type': 'Bernoulli', 'l2_leaf_reg': 6.273711886310989, 'random_strength': 3.724231571706956, 'subsample': 0.1695093313286982}. Best is trial 65 with value: -1.0877400185595614.\u001b[0m\n"
     ]
    },
    {
     "name": "stdout",
     "output_type": "stream",
     "text": [
      "Stopped by overfitting detector  (100 iterations wait)\n",
      "\n",
      "bestTest = 1.097821408\n",
      "bestIteration = 1635\n",
      "\n",
      "Shrink model to first 1636 iterations.\n",
      "0:\tlearn: 1.0031352\ttest: 1.0031352\ttest1: 1.3030063\tbest: 1.3030063 (0)\ttotal: 95.7ms\tremaining: 15m 57s\n",
      "100:\tlearn: 0.9062831\ttest: 0.9062831\ttest1: 1.1628939\tbest: 1.1628939 (100)\ttotal: 7.33s\tremaining: 11m 58s\n",
      "200:\tlearn: 0.8870755\ttest: 0.8870755\ttest1: 1.1314779\tbest: 1.1314705 (198)\ttotal: 14s\tremaining: 11m 21s\n",
      "300:\tlearn: 0.8791303\ttest: 0.8791303\ttest1: 1.1187881\tbest: 1.1187881 (300)\ttotal: 20.6s\tremaining: 11m 3s\n",
      "400:\tlearn: 0.8764490\ttest: 0.8764490\ttest1: 1.1167455\tbest: 1.1164551 (361)\ttotal: 27.2s\tremaining: 10m 51s\n",
      "500:\tlearn: 0.8748877\ttest: 0.8748877\ttest1: 1.1162290\tbest: 1.1160771 (455)\ttotal: 33.8s\tremaining: 10m 40s\n",
      "600:\tlearn: 0.8737668\ttest: 0.8737668\ttest1: 1.1151342\tbest: 1.1151298 (598)\ttotal: 40.4s\tremaining: 10m 31s\n",
      "700:\tlearn: 0.8708810\ttest: 0.8708810\ttest1: 1.1115736\tbest: 1.1115401 (681)\ttotal: 47s\tremaining: 10m 23s\n",
      "800:\tlearn: 0.8682918\ttest: 0.8682918\ttest1: 1.1078956\tbest: 1.1078778 (796)\ttotal: 53.6s\tremaining: 10m 15s\n",
      "900:\tlearn: 0.8666717\ttest: 0.8666717\ttest1: 1.1051515\tbest: 1.1051474 (896)\ttotal: 1m\tremaining: 10m 7s\n",
      "1000:\tlearn: 0.8658778\ttest: 0.8658778\ttest1: 1.1048364\tbest: 1.1045373 (966)\ttotal: 1m 6s\tremaining: 9m 59s\n",
      "1100:\tlearn: 0.8647894\ttest: 0.8647894\ttest1: 1.1040227\tbest: 1.1040167 (1083)\ttotal: 1m 13s\tremaining: 9m 52s\n",
      "1200:\tlearn: 0.8633923\ttest: 0.8633923\ttest1: 1.1026842\tbest: 1.1023759 (1167)\ttotal: 1m 19s\tremaining: 9m 45s\n",
      "1300:\tlearn: 0.8623075\ttest: 0.8623075\ttest1: 1.1015594\tbest: 1.1015594 (1298)\ttotal: 1m 26s\tremaining: 9m 38s\n",
      "1400:\tlearn: 0.8610452\ttest: 0.8610452\ttest1: 1.1001778\tbest: 1.1001778 (1400)\ttotal: 1m 33s\tremaining: 9m 31s\n",
      "1500:\tlearn: 0.8606925\ttest: 0.8606925\ttest1: 1.0999677\tbest: 1.0999439 (1462)\ttotal: 1m 39s\tremaining: 9m 24s\n",
      "1600:\tlearn: 0.8602777\ttest: 0.8602777\ttest1: 1.0997028\tbest: 1.0997017 (1581)\ttotal: 1m 46s\tremaining: 9m 17s\n",
      "1700:\tlearn: 0.8594132\ttest: 0.8594132\ttest1: 1.0985048\tbest: 1.0985047 (1699)\ttotal: 1m 52s\tremaining: 9m 10s\n",
      "1800:\tlearn: 0.8585916\ttest: 0.8585916\ttest1: 1.0978582\tbest: 1.0978582 (1798)\ttotal: 1m 59s\tremaining: 9m 4s\n",
      "1900:\tlearn: 0.8580874\ttest: 0.8580874\ttest1: 1.0983119\tbest: 1.0978298 (1808)\ttotal: 2m 6s\tremaining: 8m 57s\n"
     ]
    },
    {
     "name": "stderr",
     "output_type": "stream",
     "text": [
      "\u001b[32m[I 2021-07-30 13:49:52,518]\u001b[0m Trial 89 finished with value: -1.096971849467275 and parameters: {'colsample_bylevel': 0.05453897200674372, 'depth': 5, 'boosting_type': 'Plain', 'bootstrap_type': 'Bernoulli', 'l2_leaf_reg': 0.11156752214625576, 'random_strength': 4.060494845306783, 'subsample': 0.27214727521624327}. Best is trial 65 with value: -1.0877400185595614.\u001b[0m\n"
     ]
    },
    {
     "name": "stdout",
     "output_type": "stream",
     "text": [
      "Stopped by overfitting detector  (100 iterations wait)\n",
      "\n",
      "bestTest = 1.097829779\n",
      "bestIteration = 1808\n",
      "\n",
      "Shrink model to first 1809 iterations.\n",
      "0:\tlearn: 1.0015068\ttest: 1.0015068\ttest1: 1.3015253\tbest: 1.3015253 (0)\ttotal: 124ms\tremaining: 20m 39s\n",
      "100:\tlearn: 0.8689268\ttest: 0.8689268\ttest1: 1.1197105\tbest: 1.1195187 (99)\ttotal: 9.98s\tremaining: 16m 17s\n",
      "200:\tlearn: 0.8528899\ttest: 0.8528899\ttest1: 1.1065823\tbest: 1.1065823 (200)\ttotal: 19.5s\tremaining: 15m 49s\n",
      "300:\tlearn: 0.8445323\ttest: 0.8445323\ttest1: 1.1021513\tbest: 1.1020831 (296)\ttotal: 29s\tremaining: 15m 33s\n",
      "400:\tlearn: 0.8397112\ttest: 0.8397112\ttest1: 1.1036560\tbest: 1.1012827 (367)\ttotal: 38.5s\tremaining: 15m 21s\n"
     ]
    },
    {
     "name": "stderr",
     "output_type": "stream",
     "text": [
      "\u001b[32m[I 2021-07-30 13:50:37,989]\u001b[0m Trial 90 finished with value: -1.100933946698836 and parameters: {'colsample_bylevel': 0.0849444131987426, 'depth': 10, 'boosting_type': 'Plain', 'bootstrap_type': 'Bernoulli', 'l2_leaf_reg': 4.853343440566816, 'random_strength': 0.21345912496016095, 'subsample': 0.8837851834300381}. Best is trial 65 with value: -1.0877400185595614.\u001b[0m\n"
     ]
    },
    {
     "name": "stdout",
     "output_type": "stream",
     "text": [
      "Stopped by overfitting detector  (100 iterations wait)\n",
      "\n",
      "bestTest = 1.101282711\n",
      "bestIteration = 367\n",
      "\n",
      "Shrink model to first 368 iterations.\n",
      "0:\tlearn: 1.0028862\ttest: 1.0028862\ttest1: 1.3026390\tbest: 1.3026390 (0)\ttotal: 94.5ms\tremaining: 15m 44s\n",
      "100:\tlearn: 0.9191528\ttest: 0.9191528\ttest1: 1.1806810\tbest: 1.1803612 (95)\ttotal: 8.64s\tremaining: 14m 7s\n",
      "200:\tlearn: 0.8859265\ttest: 0.8859265\ttest1: 1.1338060\tbest: 1.1338060 (199)\ttotal: 15.3s\tremaining: 12m 23s\n",
      "300:\tlearn: 0.8786380\ttest: 0.8786380\ttest1: 1.1235309\tbest: 1.1235309 (300)\ttotal: 21.7s\tremaining: 11m 38s\n",
      "400:\tlearn: 0.8750037\ttest: 0.8750037\ttest1: 1.1183773\tbest: 1.1183773 (400)\ttotal: 28.1s\tremaining: 11m 11s\n",
      "500:\tlearn: 0.8735200\ttest: 0.8735200\ttest1: 1.1173094\tbest: 1.1173094 (500)\ttotal: 34.5s\tremaining: 10m 54s\n",
      "600:\tlearn: 0.8712119\ttest: 0.8712119\ttest1: 1.1131089\tbest: 1.1131082 (598)\ttotal: 40.9s\tremaining: 10m 39s\n",
      "700:\tlearn: 0.8684627\ttest: 0.8684627\ttest1: 1.1093168\tbest: 1.1093168 (700)\ttotal: 47.4s\tremaining: 10m 28s\n",
      "800:\tlearn: 0.8671976\ttest: 0.8671976\ttest1: 1.1082340\tbest: 1.1082340 (800)\ttotal: 53.8s\tremaining: 10m 18s\n",
      "900:\tlearn: 0.8664152\ttest: 0.8664152\ttest1: 1.1073168\tbest: 1.1072844 (886)\ttotal: 1m\tremaining: 10m 8s\n",
      "1000:\tlearn: 0.8651463\ttest: 0.8651463\ttest1: 1.1059919\tbest: 1.1059767 (988)\ttotal: 1m 6s\tremaining: 9m 59s\n",
      "1100:\tlearn: 0.8645924\ttest: 0.8645924\ttest1: 1.1056994\tbest: 1.1055499 (1079)\ttotal: 1m 13s\tremaining: 9m 51s\n",
      "1200:\tlearn: 0.8632357\ttest: 0.8632357\ttest1: 1.1037525\tbest: 1.1037110 (1193)\ttotal: 1m 19s\tremaining: 9m 42s\n",
      "1300:\tlearn: 0.8624470\ttest: 0.8624470\ttest1: 1.1031542\tbest: 1.1031187 (1266)\ttotal: 1m 25s\tremaining: 9m 34s\n"
     ]
    },
    {
     "name": "stderr",
     "output_type": "stream",
     "text": [
      "\u001b[32m[I 2021-07-30 13:52:08,833]\u001b[0m Trial 91 finished with value: -1.1025014678345935 and parameters: {'colsample_bylevel': 0.08818898720927608, 'depth': 5, 'boosting_type': 'Plain', 'bootstrap_type': 'Bernoulli', 'l2_leaf_reg': 2.474019143948195, 'random_strength': 3.0588529114779686, 'subsample': 0.17800469796699236}. Best is trial 65 with value: -1.0877400185595614.\u001b[0m\n"
     ]
    },
    {
     "name": "stdout",
     "output_type": "stream",
     "text": [
      "Stopped by overfitting detector  (100 iterations wait)\n",
      "\n",
      "bestTest = 1.103118711\n",
      "bestIteration = 1266\n",
      "\n",
      "Shrink model to first 1267 iterations.\n",
      "0:\tlearn: 1.0038970\ttest: 1.0038970\ttest1: 1.3045986\tbest: 1.3045986 (0)\ttotal: 97.7ms\tremaining: 16m 16s\n",
      "100:\tlearn: 0.9141465\ttest: 0.9141465\ttest1: 1.1748673\tbest: 1.1748673 (100)\ttotal: 7.79s\tremaining: 12m 43s\n",
      "200:\tlearn: 0.8854650\ttest: 0.8854650\ttest1: 1.1329434\tbest: 1.1329434 (200)\ttotal: 14.3s\tremaining: 11m 38s\n",
      "300:\tlearn: 0.8797648\ttest: 0.8797648\ttest1: 1.1255365\tbest: 1.1255122 (294)\ttotal: 20.8s\tremaining: 11m 8s\n",
      "400:\tlearn: 0.8739273\ttest: 0.8739273\ttest1: 1.1170368\tbest: 1.1170368 (400)\ttotal: 27.2s\tremaining: 10m 51s\n",
      "500:\tlearn: 0.8714098\ttest: 0.8714098\ttest1: 1.1145655\tbest: 1.1145655 (500)\ttotal: 33.6s\tremaining: 10m 37s\n",
      "600:\tlearn: 0.8682442\ttest: 0.8682442\ttest1: 1.1099915\tbest: 1.1099470 (591)\ttotal: 40.1s\tremaining: 10m 27s\n",
      "700:\tlearn: 0.8667302\ttest: 0.8667302\ttest1: 1.1079087\tbest: 1.1078724 (694)\ttotal: 46.6s\tremaining: 10m 17s\n",
      "800:\tlearn: 0.8659002\ttest: 0.8659002\ttest1: 1.1073939\tbest: 1.1073814 (796)\ttotal: 53s\tremaining: 10m 8s\n",
      "900:\tlearn: 0.8645532\ttest: 0.8645532\ttest1: 1.1063200\tbest: 1.1063200 (900)\ttotal: 59.4s\tremaining: 10m\n",
      "1000:\tlearn: 0.8637206\ttest: 0.8637206\ttest1: 1.1058791\tbest: 1.1058366 (979)\ttotal: 1m 5s\tremaining: 9m 52s\n",
      "1100:\tlearn: 0.8614144\ttest: 0.8614144\ttest1: 1.1022559\tbest: 1.1022559 (1100)\ttotal: 1m 12s\tremaining: 9m 44s\n",
      "1200:\tlearn: 0.8606181\ttest: 0.8606181\ttest1: 1.1016066\tbest: 1.1015326 (1183)\ttotal: 1m 18s\tremaining: 9m 37s\n",
      "1300:\tlearn: 0.8596528\ttest: 0.8596528\ttest1: 1.1000231\tbest: 1.1000231 (1300)\ttotal: 1m 25s\tremaining: 9m 30s\n",
      "1400:\tlearn: 0.8592325\ttest: 0.8592325\ttest1: 1.1000595\tbest: 1.0998339 (1363)\ttotal: 1m 31s\tremaining: 9m 22s\n",
      "1500:\tlearn: 0.8584975\ttest: 0.8584975\ttest1: 1.0995080\tbest: 1.0994853 (1468)\ttotal: 1m 38s\tremaining: 9m 15s\n",
      "1600:\tlearn: 0.8577792\ttest: 0.8577792\ttest1: 1.0984937\tbest: 1.0984870 (1599)\ttotal: 1m 44s\tremaining: 9m 8s\n",
      "1700:\tlearn: 0.8569563\ttest: 0.8569563\ttest1: 1.0980446\tbest: 1.0978289 (1672)\ttotal: 1m 51s\tremaining: 9m 1s\n",
      "1800:\tlearn: 0.8565907\ttest: 0.8565907\ttest1: 1.0976287\tbest: 1.0975968 (1779)\ttotal: 1m 57s\tremaining: 8m 55s\n",
      "1900:\tlearn: 0.8563119\ttest: 0.8563119\ttest1: 1.0975549\tbest: 1.0975192 (1885)\ttotal: 2m 4s\tremaining: 8m 48s\n",
      "2000:\tlearn: 0.8557044\ttest: 0.8557044\ttest1: 1.0969727\tbest: 1.0969726 (1999)\ttotal: 2m 10s\tremaining: 8m 41s\n",
      "2100:\tlearn: 0.8550551\ttest: 0.8550551\ttest1: 1.0960078\tbest: 1.0959576 (2079)\ttotal: 2m 17s\tremaining: 8m 35s\n",
      "2200:\tlearn: 0.8546869\ttest: 0.8546869\ttest1: 1.0956726\tbest: 1.0956598 (2183)\ttotal: 2m 23s\tremaining: 8m 28s\n",
      "2300:\tlearn: 0.8541995\ttest: 0.8541995\ttest1: 1.0950052\tbest: 1.0949668 (2227)\ttotal: 2m 29s\tremaining: 8m 21s\n",
      "2400:\tlearn: 0.8537585\ttest: 0.8537585\ttest1: 1.0946852\tbest: 1.0946705 (2398)\ttotal: 2m 36s\tremaining: 8m 15s\n",
      "2500:\tlearn: 0.8535577\ttest: 0.8535577\ttest1: 1.0945300\tbest: 1.0944307 (2479)\ttotal: 2m 42s\tremaining: 8m 8s\n",
      "2600:\tlearn: 0.8531659\ttest: 0.8531659\ttest1: 1.0940835\tbest: 1.0940805 (2592)\ttotal: 2m 49s\tremaining: 8m 2s\n",
      "2700:\tlearn: 0.8529190\ttest: 0.8529190\ttest1: 1.0939988\tbest: 1.0939363 (2695)\ttotal: 2m 56s\tremaining: 7m 55s\n",
      "2800:\tlearn: 0.8519774\ttest: 0.8519774\ttest1: 1.0931288\tbest: 1.0931279 (2792)\ttotal: 3m 2s\tremaining: 7m 49s\n",
      "Stopped by overfitting detector  (100 iterations wait)\n",
      "\n",
      "bestTest = 1.093127867\n",
      "bestIteration = 2792\n",
      "\n",
      "Shrink model to first 2793 iterations.\n"
     ]
    },
    {
     "name": "stderr",
     "output_type": "stream",
     "text": [
      "\u001b[32m[I 2021-07-30 13:55:18,312]\u001b[0m Trial 92 finished with value: -1.0923970113367842 and parameters: {'colsample_bylevel': 0.09022487456282147, 'depth': 5, 'boosting_type': 'Plain', 'bootstrap_type': 'Bernoulli', 'l2_leaf_reg': 2.7202119166212397, 'random_strength': 3.4139374879953714, 'subsample': 0.18513358878849198}. Best is trial 65 with value: -1.0877400185595614.\u001b[0m\n"
     ]
    },
    {
     "name": "stdout",
     "output_type": "stream",
     "text": [
      "0:\tlearn: 1.0043335\ttest: 1.0043335\ttest1: 1.3047994\tbest: 1.3047994 (0)\ttotal: 98ms\tremaining: 16m 19s\n",
      "100:\tlearn: 0.9237926\ttest: 0.9237926\ttest1: 1.1880837\tbest: 1.1880818 (99)\ttotal: 8.73s\tremaining: 14m 15s\n",
      "200:\tlearn: 0.9122384\ttest: 0.9122384\ttest1: 1.1681588\tbest: 1.1681587 (199)\ttotal: 16.8s\tremaining: 13m 40s\n",
      "300:\tlearn: 0.8975477\ttest: 0.8975477\ttest1: 1.1465707\tbest: 1.1465685 (299)\ttotal: 23.3s\tremaining: 12m 29s\n",
      "400:\tlearn: 0.8877751\ttest: 0.8877751\ttest1: 1.1302035\tbest: 1.1302028 (398)\ttotal: 29.6s\tremaining: 11m 49s\n",
      "500:\tlearn: 0.8845855\ttest: 0.8845855\ttest1: 1.1263576\tbest: 1.1263574 (499)\ttotal: 36s\tremaining: 11m 22s\n",
      "600:\tlearn: 0.8822830\ttest: 0.8822830\ttest1: 1.1228169\tbest: 1.1228169 (600)\ttotal: 42.4s\tremaining: 11m 3s\n",
      "700:\tlearn: 0.8812936\ttest: 0.8812936\ttest1: 1.1216840\tbest: 1.1216831 (699)\ttotal: 48.9s\tremaining: 10m 48s\n",
      "800:\tlearn: 0.8793926\ttest: 0.8793926\ttest1: 1.1185556\tbest: 1.1185556 (800)\ttotal: 55.3s\tremaining: 10m 34s\n",
      "900:\tlearn: 0.8781451\ttest: 0.8781451\ttest1: 1.1172954\tbest: 1.1172927 (870)\ttotal: 1m 1s\tremaining: 10m 23s\n",
      "1000:\tlearn: 0.8763215\ttest: 0.8763215\ttest1: 1.1140140\tbest: 1.1140140 (1000)\ttotal: 1m 8s\tremaining: 10m 12s\n",
      "1100:\tlearn: 0.8741414\ttest: 0.8741414\ttest1: 1.1111010\tbest: 1.1110990 (1095)\ttotal: 1m 14s\tremaining: 10m 2s\n",
      "1200:\tlearn: 0.8736668\ttest: 0.8736668\ttest1: 1.1105234\tbest: 1.1105234 (1198)\ttotal: 1m 21s\tremaining: 9m 53s\n",
      "1300:\tlearn: 0.8732244\ttest: 0.8732244\ttest1: 1.1100115\tbest: 1.1100114 (1290)\ttotal: 1m 27s\tremaining: 9m 44s\n",
      "1400:\tlearn: 0.8729002\ttest: 0.8729002\ttest1: 1.1098837\tbest: 1.1098630 (1398)\ttotal: 1m 33s\tremaining: 9m 36s\n",
      "1500:\tlearn: 0.8716497\ttest: 0.8716497\ttest1: 1.1083883\tbest: 1.1083763 (1467)\ttotal: 1m 40s\tremaining: 9m 28s\n",
      "1600:\tlearn: 0.8706660\ttest: 0.8706660\ttest1: 1.1073556\tbest: 1.1073544 (1599)\ttotal: 1m 46s\tremaining: 9m 20s\n",
      "1700:\tlearn: 0.8700883\ttest: 0.8700883\ttest1: 1.1066893\tbest: 1.1066878 (1689)\ttotal: 1m 53s\tremaining: 9m 12s\n",
      "1800:\tlearn: 0.8694020\ttest: 0.8694020\ttest1: 1.1051757\tbest: 1.1051742 (1793)\ttotal: 1m 59s\tremaining: 9m 4s\n",
      "1900:\tlearn: 0.8681633\ttest: 0.8681633\ttest1: 1.1031470\tbest: 1.1031470 (1900)\ttotal: 2m 5s\tremaining: 8m 56s\n",
      "2000:\tlearn: 0.8670569\ttest: 0.8670569\ttest1: 1.1017530\tbest: 1.1017268 (1980)\ttotal: 2m 12s\tremaining: 8m 49s\n",
      "2100:\tlearn: 0.8662897\ttest: 0.8662897\ttest1: 1.1012030\tbest: 1.1012005 (2099)\ttotal: 2m 18s\tremaining: 8m 41s\n",
      "2200:\tlearn: 0.8658912\ttest: 0.8658912\ttest1: 1.1010599\tbest: 1.1010090 (2133)\ttotal: 2m 25s\tremaining: 8m 34s\n",
      "2300:\tlearn: 0.8652180\ttest: 0.8652180\ttest1: 1.1003481\tbest: 1.1002789 (2287)\ttotal: 2m 31s\tremaining: 8m 27s\n",
      "2400:\tlearn: 0.8651385\ttest: 0.8651385\ttest1: 1.1001911\tbest: 1.1001910 (2399)\ttotal: 2m 37s\tremaining: 8m 19s\n",
      "2500:\tlearn: 0.8650352\ttest: 0.8650352\ttest1: 1.1000818\tbest: 1.1000746 (2491)\ttotal: 2m 44s\tremaining: 8m 12s\n",
      "2600:\tlearn: 0.8648448\ttest: 0.8648448\ttest1: 1.0998627\tbest: 1.0998414 (2588)\ttotal: 2m 50s\tremaining: 8m 5s\n",
      "2700:\tlearn: 0.8644415\ttest: 0.8644415\ttest1: 1.0986733\tbest: 1.0986733 (2700)\ttotal: 2m 57s\tremaining: 7m 58s\n",
      "2800:\tlearn: 0.8642268\ttest: 0.8642268\ttest1: 1.0983615\tbest: 1.0983592 (2797)\ttotal: 3m 3s\tremaining: 7m 51s\n",
      "2900:\tlearn: 0.8640705\ttest: 0.8640705\ttest1: 1.0982725\tbest: 1.0982722 (2886)\ttotal: 3m 9s\tremaining: 7m 44s\n",
      "3000:\tlearn: 0.8638390\ttest: 0.8638390\ttest1: 1.0979740\tbest: 1.0979711 (2978)\ttotal: 3m 16s\tremaining: 7m 37s\n",
      "3100:\tlearn: 0.8633214\ttest: 0.8633214\ttest1: 1.0971455\tbest: 1.0971455 (3100)\ttotal: 3m 22s\tremaining: 7m 30s\n",
      "3200:\tlearn: 0.8624123\ttest: 0.8624123\ttest1: 1.0962783\tbest: 1.0962779 (3186)\ttotal: 3m 29s\tremaining: 7m 23s\n"
     ]
    },
    {
     "name": "stderr",
     "output_type": "stream",
     "text": [
      "\u001b[32m[I 2021-07-30 13:58:54,554]\u001b[0m Trial 93 finished with value: -1.0956315796498202 and parameters: {'colsample_bylevel': 0.0988469871000355, 'depth': 4, 'boosting_type': 'Plain', 'bootstrap_type': 'Bernoulli', 'l2_leaf_reg': 1.9862421555405607, 'random_strength': 3.4612959475156146, 'subsample': 0.2064288035572253}. Best is trial 65 with value: -1.0877400185595614.\u001b[0m\n"
     ]
    },
    {
     "name": "stdout",
     "output_type": "stream",
     "text": [
      "3300:\tlearn: 0.8623107\ttest: 0.8623107\ttest1: 1.0963236\tbest: 1.0962765 (3201)\ttotal: 3m 35s\tremaining: 7m 17s\n",
      "Stopped by overfitting detector  (100 iterations wait)\n",
      "\n",
      "bestTest = 1.096276513\n",
      "bestIteration = 3201\n",
      "\n",
      "Shrink model to first 3202 iterations.\n",
      "0:\tlearn: 1.0022550\ttest: 1.0022550\ttest1: 1.3009385\tbest: 1.3009385 (0)\ttotal: 92.5ms\tremaining: 15m 25s\n",
      "100:\tlearn: 0.9101652\ttest: 0.9101652\ttest1: 1.1725232\tbest: 1.1725232 (100)\ttotal: 8.26s\tremaining: 13m 29s\n",
      "200:\tlearn: 0.8884300\ttest: 0.8884300\ttest1: 1.1382808\tbest: 1.1382808 (200)\ttotal: 14.7s\tremaining: 11m 57s\n",
      "300:\tlearn: 0.8823832\ttest: 0.8823832\ttest1: 1.1298408\tbest: 1.1298022 (293)\ttotal: 21.1s\tremaining: 11m 19s\n",
      "400:\tlearn: 0.8775806\ttest: 0.8775806\ttest1: 1.1230384\tbest: 1.1230384 (400)\ttotal: 27.4s\tremaining: 10m 56s\n",
      "500:\tlearn: 0.8734983\ttest: 0.8734983\ttest1: 1.1171875\tbest: 1.1171871 (498)\ttotal: 33.8s\tremaining: 10m 40s\n",
      "600:\tlearn: 0.8711697\ttest: 0.8711697\ttest1: 1.1136779\tbest: 1.1136779 (600)\ttotal: 40.1s\tremaining: 10m 27s\n",
      "700:\tlearn: 0.8677896\ttest: 0.8677896\ttest1: 1.1092431\tbest: 1.1092431 (700)\ttotal: 46.5s\tremaining: 10m 16s\n",
      "800:\tlearn: 0.8653732\ttest: 0.8653732\ttest1: 1.1066819\tbest: 1.1066738 (776)\ttotal: 52.8s\tremaining: 10m 6s\n",
      "900:\tlearn: 0.8642523\ttest: 0.8642523\ttest1: 1.1053027\tbest: 1.1053025 (896)\ttotal: 59.1s\tremaining: 9m 57s\n",
      "1000:\tlearn: 0.8628544\ttest: 0.8628544\ttest1: 1.1029164\tbest: 1.1028839 (983)\ttotal: 1m 5s\tremaining: 9m 48s\n",
      "1100:\tlearn: 0.8624647\ttest: 0.8624647\ttest1: 1.1024513\tbest: 1.1024432 (1092)\ttotal: 1m 11s\tremaining: 9m 40s\n",
      "1200:\tlearn: 0.8615255\ttest: 0.8615255\ttest1: 1.1016195\tbest: 1.1013793 (1181)\ttotal: 1m 18s\tremaining: 9m 32s\n",
      "1300:\tlearn: 0.8603448\ttest: 0.8603448\ttest1: 1.0998523\tbest: 1.0998476 (1284)\ttotal: 1m 24s\tremaining: 9m 25s\n",
      "1400:\tlearn: 0.8597430\ttest: 0.8597430\ttest1: 1.0990353\tbest: 1.0989965 (1390)\ttotal: 1m 30s\tremaining: 9m 17s\n",
      "1500:\tlearn: 0.8588951\ttest: 0.8588951\ttest1: 1.0977451\tbest: 1.0977450 (1499)\ttotal: 1m 37s\tremaining: 9m 10s\n",
      "1600:\tlearn: 0.8585452\ttest: 0.8585452\ttest1: 1.0973740\tbest: 1.0973708 (1594)\ttotal: 1m 43s\tremaining: 9m 3s\n",
      "1700:\tlearn: 0.8579617\ttest: 0.8579617\ttest1: 1.0969600\tbest: 1.0969389 (1692)\ttotal: 1m 49s\tremaining: 8m 56s\n",
      "1800:\tlearn: 0.8572369\ttest: 0.8572369\ttest1: 1.0959570\tbest: 1.0959454 (1779)\ttotal: 1m 56s\tremaining: 8m 49s\n",
      "1900:\tlearn: 0.8567894\ttest: 0.8567894\ttest1: 1.0955025\tbest: 1.0955023 (1899)\ttotal: 2m 2s\tremaining: 8m 42s\n",
      "2000:\tlearn: 0.8556084\ttest: 0.8556084\ttest1: 1.0937600\tbest: 1.0937424 (1988)\ttotal: 2m 9s\tremaining: 8m 36s\n",
      "2100:\tlearn: 0.8548646\ttest: 0.8548646\ttest1: 1.0927834\tbest: 1.0927824 (2098)\ttotal: 2m 15s\tremaining: 8m 29s\n",
      "2200:\tlearn: 0.8541287\ttest: 0.8541287\ttest1: 1.0917714\tbest: 1.0917714 (2200)\ttotal: 2m 21s\tremaining: 8m 22s\n"
     ]
    },
    {
     "name": "stderr",
     "output_type": "stream",
     "text": [
      "\u001b[32m[I 2021-07-30 14:01:23,605]\u001b[0m Trial 94 finished with value: -1.0910319667426813 and parameters: {'colsample_bylevel': 0.09242584832775158, 'depth': 5, 'boosting_type': 'Plain', 'bootstrap_type': 'Bernoulli', 'l2_leaf_reg': 2.9777744564436586, 'random_strength': 3.842426456853536, 'subsample': 0.10224423784111869}. Best is trial 65 with value: -1.0877400185595614.\u001b[0m\n"
     ]
    },
    {
     "name": "stdout",
     "output_type": "stream",
     "text": [
      "2300:\tlearn: 0.8538449\ttest: 0.8538449\ttest1: 1.0919392\tbest: 1.0917713 (2201)\ttotal: 2m 28s\tremaining: 8m 16s\n",
      "Stopped by overfitting detector  (100 iterations wait)\n",
      "\n",
      "bestTest = 1.091771256\n",
      "bestIteration = 2201\n",
      "\n",
      "Shrink model to first 2202 iterations.\n",
      "0:\tlearn: 1.0032932\ttest: 1.0032932\ttest1: 1.3029513\tbest: 1.3029513 (0)\ttotal: 95.5ms\tremaining: 15m 54s\n",
      "100:\tlearn: 0.9082426\ttest: 0.9082426\ttest1: 1.1646566\tbest: 1.1646566 (100)\ttotal: 7.33s\tremaining: 11m 58s\n",
      "200:\tlearn: 0.8869676\ttest: 0.8869676\ttest1: 1.1314872\tbest: 1.1314872 (200)\ttotal: 13.9s\tremaining: 11m 20s\n",
      "300:\tlearn: 0.8801064\ttest: 0.8801064\ttest1: 1.1229876\tbest: 1.1229876 (300)\ttotal: 20.5s\tremaining: 11m 2s\n",
      "400:\tlearn: 0.8782336\ttest: 0.8782336\ttest1: 1.1211273\tbest: 1.1211273 (399)\ttotal: 27.1s\tremaining: 10m 48s\n",
      "500:\tlearn: 0.8735584\ttest: 0.8735584\ttest1: 1.1148160\tbest: 1.1148160 (500)\ttotal: 33.7s\tremaining: 10m 38s\n",
      "600:\tlearn: 0.8726600\ttest: 0.8726600\ttest1: 1.1142342\tbest: 1.1142342 (600)\ttotal: 40.2s\tremaining: 10m 29s\n",
      "700:\tlearn: 0.8710977\ttest: 0.8710977\ttest1: 1.1114525\tbest: 1.1114150 (682)\ttotal: 46.8s\tremaining: 10m 20s\n",
      "800:\tlearn: 0.8695523\ttest: 0.8695523\ttest1: 1.1094451\tbest: 1.1094451 (800)\ttotal: 53.4s\tremaining: 10m 13s\n",
      "900:\tlearn: 0.8680283\ttest: 0.8680283\ttest1: 1.1073173\tbest: 1.1073173 (900)\ttotal: 60s\tremaining: 10m 5s\n",
      "1000:\tlearn: 0.8672893\ttest: 0.8672893\ttest1: 1.1063785\tbest: 1.1063777 (997)\ttotal: 1m 6s\tremaining: 9m 58s\n",
      "1100:\tlearn: 0.8656530\ttest: 0.8656530\ttest1: 1.1047448\tbest: 1.1047430 (1099)\ttotal: 1m 13s\tremaining: 9m 51s\n",
      "1200:\tlearn: 0.8650987\ttest: 0.8650987\ttest1: 1.1039111\tbest: 1.1038531 (1128)\ttotal: 1m 19s\tremaining: 9m 43s\n"
     ]
    },
    {
     "name": "stderr",
     "output_type": "stream",
     "text": [
      "\u001b[32m[I 2021-07-30 14:02:45,719]\u001b[0m Trial 95 finished with value: -1.1032624972774407 and parameters: {'colsample_bylevel': 0.0922937647565677, 'depth': 5, 'boosting_type': 'Plain', 'bootstrap_type': 'Bernoulli', 'l2_leaf_reg': 0.6212722961136095, 'random_strength': 3.8976969635763306, 'subsample': 0.24381481756912163}. Best is trial 65 with value: -1.0877400185595614.\u001b[0m\n"
     ]
    },
    {
     "name": "stdout",
     "output_type": "stream",
     "text": [
      "Stopped by overfitting detector  (100 iterations wait)\n",
      "\n",
      "bestTest = 1.103853123\n",
      "bestIteration = 1128\n",
      "\n",
      "Shrink model to first 1129 iterations.\n",
      "0:\tlearn: 1.0041816\ttest: 1.0041816\ttest1: 1.3043091\tbest: 1.3043091 (0)\ttotal: 97.6ms\tremaining: 16m 15s\n",
      "100:\tlearn: 0.9068274\ttest: 0.9068274\ttest1: 1.1671423\tbest: 1.1671423 (100)\ttotal: 6.88s\tremaining: 11m 13s\n",
      "200:\tlearn: 0.8891851\ttest: 0.8891851\ttest1: 1.1404712\tbest: 1.1404697 (199)\ttotal: 13.3s\tremaining: 10m 50s\n",
      "300:\tlearn: 0.8789566\ttest: 0.8789566\ttest1: 1.1234763\tbest: 1.1234085 (298)\ttotal: 19.7s\tremaining: 10m 36s\n",
      "400:\tlearn: 0.8745016\ttest: 0.8745016\ttest1: 1.1161982\tbest: 1.1161970 (389)\ttotal: 26.1s\tremaining: 10m 25s\n",
      "500:\tlearn: 0.8724079\ttest: 0.8724079\ttest1: 1.1138683\tbest: 1.1138683 (500)\ttotal: 32.5s\tremaining: 10m 15s\n",
      "600:\tlearn: 0.8718070\ttest: 0.8718070\ttest1: 1.1133009\tbest: 1.1132989 (571)\ttotal: 38.8s\tremaining: 10m 7s\n",
      "700:\tlearn: 0.8713492\ttest: 0.8713492\ttest1: 1.1127400\tbest: 1.1127400 (700)\ttotal: 45.2s\tremaining: 9m 59s\n",
      "800:\tlearn: 0.8695781\ttest: 0.8695781\ttest1: 1.1100700\tbest: 1.1100700 (800)\ttotal: 51.6s\tremaining: 9m 52s\n",
      "900:\tlearn: 0.8683463\ttest: 0.8683463\ttest1: 1.1080706\tbest: 1.1080657 (897)\ttotal: 58s\tremaining: 9m 46s\n",
      "1000:\tlearn: 0.8659734\ttest: 0.8659734\ttest1: 1.1057734\tbest: 1.1057734 (1000)\ttotal: 1m 4s\tremaining: 9m 39s\n",
      "1100:\tlearn: 0.8634719\ttest: 0.8634719\ttest1: 1.1028760\tbest: 1.1028754 (1094)\ttotal: 1m 10s\tremaining: 9m 32s\n",
      "1200:\tlearn: 0.8627123\ttest: 0.8627123\ttest1: 1.1020375\tbest: 1.1020306 (1195)\ttotal: 1m 17s\tremaining: 9m 25s\n",
      "1300:\tlearn: 0.8623447\ttest: 0.8623447\ttest1: 1.1018667\tbest: 1.1018650 (1292)\ttotal: 1m 23s\tremaining: 9m 19s\n",
      "1400:\tlearn: 0.8617793\ttest: 0.8617793\ttest1: 1.1017055\tbest: 1.1013187 (1392)\ttotal: 1m 30s\tremaining: 9m 12s\n",
      "1500:\tlearn: 0.8612038\ttest: 0.8612038\ttest1: 1.1012688\tbest: 1.1012683 (1496)\ttotal: 1m 36s\tremaining: 9m 6s\n",
      "1600:\tlearn: 0.8603952\ttest: 0.8603952\ttest1: 1.1001580\tbest: 1.1001580 (1600)\ttotal: 1m 42s\tremaining: 8m 59s\n",
      "1700:\tlearn: 0.8595625\ttest: 0.8595625\ttest1: 1.0994579\tbest: 1.0994553 (1696)\ttotal: 1m 49s\tremaining: 8m 53s\n",
      "1800:\tlearn: 0.8592020\ttest: 0.8592020\ttest1: 1.0995994\tbest: 1.0991803 (1761)\ttotal: 1m 55s\tremaining: 8m 46s\n",
      "1900:\tlearn: 0.8585006\ttest: 0.8585006\ttest1: 1.0986739\tbest: 1.0986513 (1894)\ttotal: 2m 2s\tremaining: 8m 40s\n",
      "2000:\tlearn: 0.8575429\ttest: 0.8575429\ttest1: 1.0976643\tbest: 1.0976580 (1988)\ttotal: 2m 8s\tremaining: 8m 34s\n",
      "2100:\tlearn: 0.8573678\ttest: 0.8573678\ttest1: 1.0977035\tbest: 1.0976392 (2010)\ttotal: 2m 14s\tremaining: 8m 27s\n"
     ]
    },
    {
     "name": "stderr",
     "output_type": "stream",
     "text": [
      "\u001b[32m[I 2021-07-30 14:05:02,006]\u001b[0m Trial 96 finished with value: -1.0966108998206479 and parameters: {'colsample_bylevel': 0.08175748688626218, 'depth': 5, 'boosting_type': 'Plain', 'bootstrap_type': 'Bernoulli', 'l2_leaf_reg': 4.296823795463996, 'random_strength': 4.521323285569993, 'subsample': 0.1361232504381395}. Best is trial 65 with value: -1.0877400185595614.\u001b[0m\n"
     ]
    },
    {
     "name": "stdout",
     "output_type": "stream",
     "text": [
      "Stopped by overfitting detector  (100 iterations wait)\n",
      "\n",
      "bestTest = 1.097639155\n",
      "bestIteration = 2010\n",
      "\n",
      "Shrink model to first 2011 iterations.\n",
      "0:\tlearn: 1.0011525\ttest: 1.0011525\ttest1: 1.3003053\tbest: 1.3003053 (0)\ttotal: 98.2ms\tremaining: 16m 22s\n",
      "100:\tlearn: 0.9022945\ttest: 0.9022945\ttest1: 1.1583040\tbest: 1.1583040 (100)\ttotal: 7.8s\tremaining: 12m 44s\n",
      "200:\tlearn: 0.8841568\ttest: 0.8841568\ttest1: 1.1294299\tbest: 1.1294299 (200)\ttotal: 14.2s\tremaining: 11m 34s\n",
      "300:\tlearn: 0.8806031\ttest: 0.8806031\ttest1: 1.1264694\tbest: 1.1264613 (297)\ttotal: 20.6s\tremaining: 11m 4s\n",
      "400:\tlearn: 0.8772689\ttest: 0.8772689\ttest1: 1.1225432\tbest: 1.1225432 (400)\ttotal: 27s\tremaining: 10m 47s\n",
      "500:\tlearn: 0.8714968\ttest: 0.8714968\ttest1: 1.1127053\tbest: 1.1127053 (500)\ttotal: 33.5s\tremaining: 10m 34s\n",
      "600:\tlearn: 0.8692156\ttest: 0.8692156\ttest1: 1.1100684\tbest: 1.1100680 (595)\ttotal: 39.9s\tremaining: 10m 23s\n",
      "700:\tlearn: 0.8684423\ttest: 0.8684423\ttest1: 1.1087569\tbest: 1.1087185 (693)\ttotal: 46.3s\tremaining: 10m 14s\n",
      "800:\tlearn: 0.8660845\ttest: 0.8660845\ttest1: 1.1051582\tbest: 1.1051581 (798)\ttotal: 52.7s\tremaining: 10m 5s\n",
      "900:\tlearn: 0.8641705\ttest: 0.8641705\ttest1: 1.1032542\tbest: 1.1032542 (900)\ttotal: 59.1s\tremaining: 9m 56s\n",
      "1000:\tlearn: 0.8631455\ttest: 0.8631455\ttest1: 1.1027713\tbest: 1.1025050 (935)\ttotal: 1m 5s\tremaining: 9m 49s\n",
      "1100:\tlearn: 0.8621736\ttest: 0.8621736\ttest1: 1.1014299\tbest: 1.1013816 (1092)\ttotal: 1m 12s\tremaining: 9m 42s\n",
      "1200:\tlearn: 0.8617838\ttest: 0.8617838\ttest1: 1.1009891\tbest: 1.1009891 (1200)\ttotal: 1m 18s\tremaining: 9m 34s\n",
      "1300:\tlearn: 0.8606858\ttest: 0.8606858\ttest1: 1.0998058\tbest: 1.0997920 (1296)\ttotal: 1m 24s\tremaining: 9m 28s\n",
      "1400:\tlearn: 0.8600421\ttest: 0.8600421\ttest1: 1.0994129\tbest: 1.0993731 (1391)\ttotal: 1m 31s\tremaining: 9m 21s\n",
      "1500:\tlearn: 0.8594278\ttest: 0.8594278\ttest1: 1.0986349\tbest: 1.0986349 (1499)\ttotal: 1m 37s\tremaining: 9m 14s\n",
      "1600:\tlearn: 0.8588924\ttest: 0.8588924\ttest1: 1.0981408\tbest: 1.0981408 (1598)\ttotal: 1m 44s\tremaining: 9m 7s\n",
      "1700:\tlearn: 0.8583632\ttest: 0.8583632\ttest1: 1.0976206\tbest: 1.0975871 (1661)\ttotal: 1m 50s\tremaining: 9m 1s\n",
      "1800:\tlearn: 0.8581303\ttest: 0.8581303\ttest1: 1.0975323\tbest: 1.0975323 (1800)\ttotal: 1m 57s\tremaining: 8m 54s\n",
      "1900:\tlearn: 0.8574857\ttest: 0.8574857\ttest1: 1.0968569\tbest: 1.0968569 (1900)\ttotal: 2m 3s\tremaining: 8m 47s\n",
      "2000:\tlearn: 0.8570095\ttest: 0.8570095\ttest1: 1.0958574\tbest: 1.0958574 (2000)\ttotal: 2m 10s\tremaining: 8m 41s\n",
      "2100:\tlearn: 0.8566653\ttest: 0.8566653\ttest1: 1.0957295\tbest: 1.0955489 (2045)\ttotal: 2m 16s\tremaining: 8m 34s\n"
     ]
    },
    {
     "name": "stderr",
     "output_type": "stream",
     "text": [
      "\u001b[32m[I 2021-07-30 14:07:22,543]\u001b[0m Trial 97 finished with value: -1.0948099384871217 and parameters: {'colsample_bylevel': 0.08638095196437826, 'depth': 5, 'boosting_type': 'Plain', 'bootstrap_type': 'Bernoulli', 'l2_leaf_reg': 1.307036917479111, 'random_strength': 2.3608027843784596, 'subsample': 0.1646722699025267}. Best is trial 65 with value: -1.0877400185595614.\u001b[0m\n"
     ]
    },
    {
     "name": "stdout",
     "output_type": "stream",
     "text": [
      "Stopped by overfitting detector  (100 iterations wait)\n",
      "\n",
      "bestTest = 1.095548938\n",
      "bestIteration = 2045\n",
      "\n",
      "Shrink model to first 2046 iterations.\n",
      "0:\tlearn: 1.0033555\ttest: 1.0033555\ttest1: 1.3026516\tbest: 1.3026516 (0)\ttotal: 106ms\tremaining: 17m 44s\n",
      "100:\tlearn: 0.9166047\ttest: 0.9166047\ttest1: 1.1748646\tbest: 1.1748646 (100)\ttotal: 9.33s\tremaining: 15m 14s\n",
      "200:\tlearn: 0.8950196\ttest: 0.8950196\ttest1: 1.1420453\tbest: 1.1420395 (199)\ttotal: 16.7s\tremaining: 13m 35s\n",
      "300:\tlearn: 0.8896075\ttest: 0.8896075\ttest1: 1.1349111\tbest: 1.1349110 (299)\ttotal: 24s\tremaining: 12m 54s\n",
      "400:\tlearn: 0.8876970\ttest: 0.8876970\ttest1: 1.1320499\tbest: 1.1320128 (388)\ttotal: 31.3s\tremaining: 12m 29s\n",
      "500:\tlearn: 0.8834034\ttest: 0.8834034\ttest1: 1.1254195\tbest: 1.1254179 (498)\ttotal: 38.5s\tremaining: 12m 10s\n",
      "600:\tlearn: 0.8811097\ttest: 0.8811097\ttest1: 1.1217430\tbest: 1.1217430 (600)\ttotal: 45.7s\tremaining: 11m 54s\n",
      "700:\tlearn: 0.8794783\ttest: 0.8794783\ttest1: 1.1189089\tbest: 1.1188940 (685)\ttotal: 53s\tremaining: 11m 43s\n",
      "800:\tlearn: 0.8784834\ttest: 0.8784834\ttest1: 1.1175118\tbest: 1.1174662 (787)\ttotal: 1m\tremaining: 11m 32s\n",
      "900:\tlearn: 0.8769783\ttest: 0.8769783\ttest1: 1.1154081\tbest: 1.1154005 (875)\ttotal: 1m 7s\tremaining: 11m 22s\n",
      "1000:\tlearn: 0.8762341\ttest: 0.8762341\ttest1: 1.1143629\tbest: 1.1143628 (999)\ttotal: 1m 14s\tremaining: 11m 13s\n",
      "1100:\tlearn: 0.8743501\ttest: 0.8743501\ttest1: 1.1110445\tbest: 1.1110315 (1082)\ttotal: 1m 22s\tremaining: 11m 4s\n",
      "1200:\tlearn: 0.8724093\ttest: 0.8724093\ttest1: 1.1088083\tbest: 1.1087885 (1170)\ttotal: 1m 29s\tremaining: 10m 55s\n",
      "1300:\tlearn: 0.8717314\ttest: 0.8717314\ttest1: 1.1073098\tbest: 1.1073046 (1287)\ttotal: 1m 36s\tremaining: 10m 46s\n",
      "1400:\tlearn: 0.8705362\ttest: 0.8705362\ttest1: 1.1059251\tbest: 1.1059245 (1394)\ttotal: 1m 43s\tremaining: 10m 38s\n",
      "1500:\tlearn: 0.8696494\ttest: 0.8696494\ttest1: 1.1048854\tbest: 1.1048825 (1489)\ttotal: 1m 51s\tremaining: 10m 29s\n",
      "1600:\tlearn: 0.8691786\ttest: 0.8691786\ttest1: 1.1043101\tbest: 1.1043049 (1571)\ttotal: 1m 58s\tremaining: 10m 21s\n",
      "1700:\tlearn: 0.8685841\ttest: 0.8685841\ttest1: 1.1031247\tbest: 1.1031247 (1700)\ttotal: 2m 5s\tremaining: 10m 13s\n",
      "1800:\tlearn: 0.8682103\ttest: 0.8682103\ttest1: 1.1026960\tbest: 1.1026836 (1780)\ttotal: 2m 12s\tremaining: 10m 4s\n",
      "1900:\tlearn: 0.8676460\ttest: 0.8676460\ttest1: 1.1022444\tbest: 1.1022444 (1900)\ttotal: 2m 20s\tremaining: 9m 56s\n",
      "2000:\tlearn: 0.8666277\ttest: 0.8666277\ttest1: 1.1013220\tbest: 1.1012743 (1988)\ttotal: 2m 27s\tremaining: 9m 49s\n",
      "2100:\tlearn: 0.8657700\ttest: 0.8657700\ttest1: 1.1004330\tbest: 1.1004328 (2099)\ttotal: 2m 34s\tremaining: 9m 41s\n",
      "2200:\tlearn: 0.8654277\ttest: 0.8654277\ttest1: 1.1000362\tbest: 1.1000355 (2199)\ttotal: 2m 41s\tremaining: 9m 33s\n",
      "2300:\tlearn: 0.8651554\ttest: 0.8651554\ttest1: 1.0998568\tbest: 1.0998280 (2272)\ttotal: 2m 49s\tremaining: 9m 26s\n",
      "2400:\tlearn: 0.8649995\ttest: 0.8649995\ttest1: 1.0997540\tbest: 1.0997460 (2354)\ttotal: 2m 56s\tremaining: 9m 18s\n",
      "2500:\tlearn: 0.8643380\ttest: 0.8643380\ttest1: 1.0988101\tbest: 1.0988030 (2495)\ttotal: 3m 3s\tremaining: 9m 11s\n",
      "2600:\tlearn: 0.8635589\ttest: 0.8635589\ttest1: 1.0981226\tbest: 1.0981226 (2600)\ttotal: 3m 11s\tremaining: 9m 3s\n",
      "2700:\tlearn: 0.8632643\ttest: 0.8632643\ttest1: 1.0977873\tbest: 1.0977839 (2675)\ttotal: 3m 18s\tremaining: 8m 56s\n",
      "2800:\tlearn: 0.8624982\ttest: 0.8624982\ttest1: 1.0973102\tbest: 1.0972827 (2772)\ttotal: 3m 25s\tremaining: 8m 48s\n",
      "2900:\tlearn: 0.8619498\ttest: 0.8619498\ttest1: 1.0968431\tbest: 1.0968085 (2887)\ttotal: 3m 33s\tremaining: 8m 41s\n",
      "3000:\tlearn: 0.8613619\ttest: 0.8613619\ttest1: 1.0967952\tbest: 1.0967482 (2944)\ttotal: 3m 40s\tremaining: 8m 33s\n"
     ]
    },
    {
     "name": "stderr",
     "output_type": "stream",
     "text": [
      "\u001b[32m[I 2021-07-30 14:11:06,861]\u001b[0m Trial 98 finished with value: -1.096250018625672 and parameters: {'colsample_bylevel': 0.097382672395383, 'depth': 4, 'boosting_type': 'Plain', 'bootstrap_type': 'MVS', 'l2_leaf_reg': 5.583486071336413, 'random_strength': 3.5824520724116513}. Best is trial 65 with value: -1.0877400185595614.\u001b[0m\n"
     ]
    },
    {
     "name": "stdout",
     "output_type": "stream",
     "text": [
      "Stopped by overfitting detector  (100 iterations wait)\n",
      "\n",
      "bestTest = 1.096748178\n",
      "bestIteration = 2944\n",
      "\n",
      "Shrink model to first 2945 iterations.\n",
      "0:\tlearn: 1.0033507\ttest: 1.0033507\ttest1: 1.3029950\tbest: 1.3029950 (0)\ttotal: 113ms\tremaining: 18m 51s\n",
      "100:\tlearn: 0.9193139\ttest: 0.9193139\ttest1: 1.1867343\tbest: 1.1867343 (100)\ttotal: 10.1s\tremaining: 16m 26s\n",
      "200:\tlearn: 0.8875088\ttest: 0.8875088\ttest1: 1.1341860\tbest: 1.1341856 (199)\ttotal: 18.6s\tremaining: 15m 6s\n",
      "300:\tlearn: 0.8801127\ttest: 0.8801127\ttest1: 1.1235303\tbest: 1.1235303 (300)\ttotal: 26.6s\tremaining: 14m 16s\n",
      "400:\tlearn: 0.8780939\ttest: 0.8780939\ttest1: 1.1208609\tbest: 1.1208609 (400)\ttotal: 34.5s\tremaining: 13m 46s\n",
      "500:\tlearn: 0.8762079\ttest: 0.8762079\ttest1: 1.1186089\tbest: 1.1185663 (497)\ttotal: 42.4s\tremaining: 13m 24s\n",
      "600:\tlearn: 0.8748912\ttest: 0.8748912\ttest1: 1.1172055\tbest: 1.1171530 (583)\ttotal: 50.4s\tremaining: 13m 8s\n",
      "700:\tlearn: 0.8707029\ttest: 0.8707029\ttest1: 1.1105353\tbest: 1.1105349 (699)\ttotal: 58.4s\tremaining: 12m 54s\n",
      "800:\tlearn: 0.8697949\ttest: 0.8697949\ttest1: 1.1096447\tbest: 1.1096395 (793)\ttotal: 1m 6s\tremaining: 12m 41s\n",
      "900:\tlearn: 0.8689998\ttest: 0.8689998\ttest1: 1.1092225\tbest: 1.1088027 (896)\ttotal: 1m 14s\tremaining: 12m 28s\n",
      "1000:\tlearn: 0.8675262\ttest: 0.8675262\ttest1: 1.1071835\tbest: 1.1071821 (988)\ttotal: 1m 21s\tremaining: 12m 16s\n",
      "1100:\tlearn: 0.8669813\ttest: 0.8669813\ttest1: 1.1067309\tbest: 1.1067309 (1099)\ttotal: 1m 29s\tremaining: 12m 6s\n",
      "1200:\tlearn: 0.8667734\ttest: 0.8667734\ttest1: 1.1068016\tbest: 1.1067037 (1123)\ttotal: 1m 37s\tremaining: 11m 56s\n",
      "1300:\tlearn: 0.8658726\ttest: 0.8658726\ttest1: 1.1050882\tbest: 1.1050882 (1300)\ttotal: 1m 45s\tremaining: 11m 46s\n",
      "1400:\tlearn: 0.8653071\ttest: 0.8653071\ttest1: 1.1042119\tbest: 1.1041928 (1399)\ttotal: 1m 53s\tremaining: 11m 38s\n",
      "1500:\tlearn: 0.8644240\ttest: 0.8644240\ttest1: 1.1027196\tbest: 1.1027196 (1500)\ttotal: 2m 1s\tremaining: 11m 29s\n",
      "1600:\tlearn: 0.8641167\ttest: 0.8641167\ttest1: 1.1025143\tbest: 1.1025143 (1598)\ttotal: 2m 9s\tremaining: 11m 20s\n",
      "1700:\tlearn: 0.8636928\ttest: 0.8636928\ttest1: 1.1021992\tbest: 1.1021991 (1699)\ttotal: 2m 17s\tremaining: 11m 10s\n",
      "1800:\tlearn: 0.8627035\ttest: 0.8627035\ttest1: 1.1010104\tbest: 1.1010046 (1784)\ttotal: 2m 25s\tremaining: 11m 1s\n",
      "1900:\tlearn: 0.8619759\ttest: 0.8619759\ttest1: 1.1011591\tbest: 1.1005041 (1870)\ttotal: 2m 33s\tremaining: 10m 52s\n"
     ]
    },
    {
     "name": "stderr",
     "output_type": "stream",
     "text": [
      "\u001b[32m[I 2021-07-30 14:13:46,411]\u001b[0m Trial 99 finished with value: -1.099613183401718 and parameters: {'colsample_bylevel': 0.09160260819255966, 'depth': 5, 'boosting_type': 'Ordered', 'bootstrap_type': 'Bernoulli', 'l2_leaf_reg': 3.99282658320998, 'random_strength': 4.693531366326374, 'subsample': 0.19463979199156942}. Best is trial 65 with value: -1.0877400185595614.\u001b[0m\n",
      "\u001b[32m[I 2021-07-30 14:13:46,413]\u001b[0m A new study created in memory with name: no-name-f410858e-1701-42c7-b9c6-a2f5dd060678\u001b[0m\n"
     ]
    },
    {
     "name": "stdout",
     "output_type": "stream",
     "text": [
      "Stopped by overfitting detector  (100 iterations wait)\n",
      "\n",
      "bestTest = 1.100504087\n",
      "bestIteration = 1870\n",
      "\n",
      "Shrink model to first 1871 iterations.\n",
      "0:\tlearn: 2.7860829\ttest: 2.7860829\ttest1: 2.7117029\tbest: 2.7117029 (0)\ttotal: 167ms\tremaining: 27m 51s\n",
      "100:\tlearn: 1.9177834\ttest: 1.9177834\ttest1: 2.2391909\tbest: 2.2022846 (27)\ttotal: 13.7s\tremaining: 22m 19s\n",
      "Stopped by overfitting detector  (100 iterations wait)\n",
      "\n",
      "bestTest = 2.202284649\n",
      "bestIteration = 27\n",
      "\n",
      "Shrink model to first 28 iterations.\n"
     ]
    },
    {
     "name": "stderr",
     "output_type": "stream",
     "text": [
      "\u001b[32m[I 2021-07-30 14:14:04,568]\u001b[0m Trial 0 finished with value: -2.2022856481805086 and parameters: {'colsample_bylevel': 0.03924964810396295, 'depth': 10, 'boosting_type': 'Ordered', 'bootstrap_type': 'MVS', 'l2_leaf_reg': 2.9870284681932877, 'random_strength': 0.09345519012376863}. Best is trial 0 with value: -2.2022856481805086.\u001b[0m\n"
     ]
    },
    {
     "name": "stdout",
     "output_type": "stream",
     "text": [
      "0:\tlearn: 2.7998367\ttest: 2.7998367\ttest1: 2.7402456\tbest: 2.7402456 (0)\ttotal: 107ms\tremaining: 17m 49s\n",
      "100:\tlearn: 1.9953322\ttest: 1.9953322\ttest1: 2.2240600\tbest: 2.2240600 (100)\ttotal: 10.8s\tremaining: 17m 39s\n",
      "200:\tlearn: 1.9202683\ttest: 1.9202683\ttest1: 2.2322245\tbest: 2.2226497 (116)\ttotal: 21.8s\tremaining: 17m 41s\n"
     ]
    },
    {
     "name": "stderr",
     "output_type": "stream",
     "text": [
      "\u001b[32m[I 2021-07-30 14:14:28,731]\u001b[0m Trial 1 finished with value: -2.2226019374442734 and parameters: {'colsample_bylevel': 0.0545191461433561, 'depth': 8, 'boosting_type': 'Ordered', 'bootstrap_type': 'MVS', 'l2_leaf_reg': 11.644340745595333, 'random_strength': 9.981409170621172}. Best is trial 0 with value: -2.2022856481805086.\u001b[0m\n"
     ]
    },
    {
     "name": "stdout",
     "output_type": "stream",
     "text": [
      "Stopped by overfitting detector  (100 iterations wait)\n",
      "\n",
      "bestTest = 2.222649727\n",
      "bestIteration = 116\n",
      "\n",
      "Shrink model to first 117 iterations.\n",
      "0:\tlearn: 2.8055119\ttest: 2.8055119\ttest1: 2.7264886\tbest: 2.7264886 (0)\ttotal: 84.3ms\tremaining: 14m 3s\n",
      "100:\tlearn: 1.9895529\ttest: 1.9895529\ttest1: 2.2276001\tbest: 2.2234080 (82)\ttotal: 8.05s\tremaining: 13m 8s\n",
      "200:\tlearn: 1.9189114\ttest: 1.9189114\ttest1: 2.2322393\tbest: 2.2214727 (124)\ttotal: 16.1s\tremaining: 13m 6s\n"
     ]
    },
    {
     "name": "stderr",
     "output_type": "stream",
     "text": [
      "\u001b[32m[I 2021-07-30 14:14:47,365]\u001b[0m Trial 2 finished with value: -2.221435455435734 and parameters: {'colsample_bylevel': 0.03228763684849464, 'depth': 9, 'boosting_type': 'Plain', 'bootstrap_type': 'Bernoulli', 'l2_leaf_reg': 18.604383437547217, 'random_strength': 4.460125291779412, 'subsample': 0.7829534021393254}. Best is trial 0 with value: -2.2022856481805086.\u001b[0m\n"
     ]
    },
    {
     "name": "stdout",
     "output_type": "stream",
     "text": [
      "Stopped by overfitting detector  (100 iterations wait)\n",
      "\n",
      "bestTest = 2.22147265\n",
      "bestIteration = 124\n",
      "\n",
      "Shrink model to first 125 iterations.\n",
      "0:\tlearn: 2.8076373\ttest: 2.8076373\ttest1: 2.7329807\tbest: 2.7329807 (0)\ttotal: 83.6ms\tremaining: 13m 56s\n",
      "100:\tlearn: 1.9298550\ttest: 1.9298550\ttest1: 2.2324349\tbest: 2.2255827 (26)\ttotal: 8.14s\tremaining: 13m 17s\n"
     ]
    },
    {
     "name": "stderr",
     "output_type": "stream",
     "text": [
      "\u001b[32m[I 2021-07-30 14:14:58,129]\u001b[0m Trial 3 finished with value: -2.2255791818149584 and parameters: {'colsample_bylevel': 0.05251875005525702, 'depth': 10, 'boosting_type': 'Plain', 'bootstrap_type': 'MVS', 'l2_leaf_reg': 4.321096407846014, 'random_strength': 3.572006876361968}. Best is trial 0 with value: -2.2022856481805086.\u001b[0m\n"
     ]
    },
    {
     "name": "stdout",
     "output_type": "stream",
     "text": [
      "Stopped by overfitting detector  (100 iterations wait)\n",
      "\n",
      "bestTest = 2.225582686\n",
      "bestIteration = 26\n",
      "\n",
      "Shrink model to first 27 iterations.\n",
      "0:\tlearn: 2.7967971\ttest: 2.7967971\ttest1: 2.7180942\tbest: 2.7180942 (0)\ttotal: 99.6ms\tremaining: 16m 35s\n",
      "100:\tlearn: 2.0347927\ttest: 2.0347927\ttest1: 2.2027640\tbest: 2.1986003 (35)\ttotal: 9.94s\tremaining: 16m 14s\n"
     ]
    },
    {
     "name": "stderr",
     "output_type": "stream",
     "text": [
      "\u001b[32m[I 2021-07-30 14:15:12,059]\u001b[0m Trial 4 finished with value: -2.198601328622154 and parameters: {'colsample_bylevel': 0.06349058149344926, 'depth': 6, 'boosting_type': 'Ordered', 'bootstrap_type': 'Bayesian', 'l2_leaf_reg': 13.077622562148944, 'random_strength': 7.21408107787237, 'bagging_temperature': 6.097466992693584}. Best is trial 4 with value: -2.198601328622154.\u001b[0m\n"
     ]
    },
    {
     "name": "stdout",
     "output_type": "stream",
     "text": [
      "Stopped by overfitting detector  (100 iterations wait)\n",
      "\n",
      "bestTest = 2.198600329\n",
      "bestIteration = 35\n",
      "\n",
      "Shrink model to first 36 iterations.\n",
      "0:\tlearn: 2.8165929\ttest: 2.8165929\ttest1: 2.7434506\tbest: 2.7434506 (0)\ttotal: 78.1ms\tremaining: 13m\n",
      "100:\tlearn: 2.1264554\ttest: 2.1264554\ttest1: 2.2293552\tbest: 2.2286678 (46)\ttotal: 7.42s\tremaining: 12m 7s\n"
     ]
    },
    {
     "name": "stderr",
     "output_type": "stream",
     "text": [
      "\u001b[32m[I 2021-07-30 14:15:23,341]\u001b[0m Trial 5 finished with value: -2.2286687845938897 and parameters: {'colsample_bylevel': 0.06478402076557335, 'depth': 6, 'boosting_type': 'Plain', 'bootstrap_type': 'Bayesian', 'l2_leaf_reg': 19.95682385850677, 'random_strength': 1.3320269571605152, 'bagging_temperature': 9.785449424335358}. Best is trial 4 with value: -2.198601328622154.\u001b[0m\n"
     ]
    },
    {
     "name": "stdout",
     "output_type": "stream",
     "text": [
      "Stopped by overfitting detector  (100 iterations wait)\n",
      "\n",
      "bestTest = 2.228667785\n",
      "bestIteration = 46\n",
      "\n",
      "Shrink model to first 47 iterations.\n",
      "0:\tlearn: 2.8242967\ttest: 2.8242967\ttest1: 2.7511109\tbest: 2.7511109 (0)\ttotal: 67.7ms\tremaining: 11m 16s\n",
      "100:\tlearn: 2.0817107\ttest: 2.0817107\ttest1: 2.2391353\tbest: 2.2391353 (100)\ttotal: 6.81s\tremaining: 11m 7s\n",
      "200:\tlearn: 2.0103238\ttest: 2.0103238\ttest1: 2.2130278\tbest: 2.2118064 (193)\ttotal: 13.5s\tremaining: 10m 59s\n",
      "300:\tlearn: 1.9726197\ttest: 1.9726197\ttest1: 2.2111128\tbest: 2.2077910 (252)\ttotal: 20.3s\tremaining: 10m 54s\n"
     ]
    },
    {
     "name": "stderr",
     "output_type": "stream",
     "text": [
      "\u001b[32m[I 2021-07-30 14:15:47,676]\u001b[0m Trial 6 finished with value: -2.207530229822403 and parameters: {'colsample_bylevel': 0.03368693761009203, 'depth': 5, 'boosting_type': 'Plain', 'bootstrap_type': 'Bernoulli', 'l2_leaf_reg': 18.970251059608007, 'random_strength': 9.50135642739897, 'subsample': 0.7620168961186969}. Best is trial 4 with value: -2.198601328622154.\u001b[0m\n"
     ]
    },
    {
     "name": "stdout",
     "output_type": "stream",
     "text": [
      "Stopped by overfitting detector  (100 iterations wait)\n",
      "\n",
      "bestTest = 2.207790967\n",
      "bestIteration = 252\n",
      "\n",
      "Shrink model to first 253 iterations.\n",
      "0:\tlearn: 2.7848405\ttest: 2.7848405\ttest1: 2.7069180\tbest: 2.7069180 (0)\ttotal: 80.9ms\tremaining: 13m 28s\n",
      "100:\tlearn: 2.0020382\ttest: 2.0020382\ttest1: 2.2347230\tbest: 2.2338262 (22)\ttotal: 7.95s\tremaining: 12m 59s\n",
      "200:\tlearn: 1.9628431\ttest: 1.9628431\ttest1: 2.2356162\tbest: 2.2325619 (108)\ttotal: 15.8s\tremaining: 12m 51s\n"
     ]
    },
    {
     "name": "stderr",
     "output_type": "stream",
     "text": [
      "\u001b[32m[I 2021-07-30 14:16:04,630]\u001b[0m Trial 7 finished with value: -2.232548213652746 and parameters: {'colsample_bylevel': 0.041167923092651174, 'depth': 7, 'boosting_type': 'Plain', 'bootstrap_type': 'Bayesian', 'l2_leaf_reg': 10.667961089762331, 'random_strength': 8.821529884033556, 'bagging_temperature': 5.241780181264178}. Best is trial 4 with value: -2.198601328622154.\u001b[0m\n"
     ]
    },
    {
     "name": "stdout",
     "output_type": "stream",
     "text": [
      "Stopped by overfitting detector  (100 iterations wait)\n",
      "\n",
      "bestTest = 2.232561879\n",
      "bestIteration = 108\n",
      "\n",
      "Shrink model to first 109 iterations.\n",
      "0:\tlearn: 2.7808648\ttest: 2.7808648\ttest1: 2.7158256\tbest: 2.7158256 (0)\ttotal: 99.1ms\tremaining: 16m 31s\n",
      "100:\tlearn: 2.0679402\ttest: 2.0679402\ttest1: 2.2026263\tbest: 2.1984396 (43)\ttotal: 10.4s\tremaining: 16m 58s\n"
     ]
    },
    {
     "name": "stderr",
     "output_type": "stream",
     "text": [
      "\u001b[32m[I 2021-07-30 14:16:20,109]\u001b[0m Trial 8 finished with value: -2.1984406364912568 and parameters: {'colsample_bylevel': 0.09687799519449636, 'depth': 6, 'boosting_type': 'Ordered', 'bootstrap_type': 'Bayesian', 'l2_leaf_reg': 18.080699859286504, 'random_strength': 8.323216394048835, 'bagging_temperature': 9.518033309929757}. Best is trial 8 with value: -2.1984406364912568.\u001b[0m\n"
     ]
    },
    {
     "name": "stdout",
     "output_type": "stream",
     "text": [
      "Stopped by overfitting detector  (100 iterations wait)\n",
      "\n",
      "bestTest = 2.198439637\n",
      "bestIteration = 43\n",
      "\n",
      "Shrink model to first 44 iterations.\n",
      "0:\tlearn: 2.8066703\ttest: 2.8066703\ttest1: 2.7464058\tbest: 2.7464058 (0)\ttotal: 79.9ms\tremaining: 13m 18s\n",
      "100:\tlearn: 1.9577913\ttest: 1.9577913\ttest1: 2.2184504\tbest: 2.2173132 (98)\ttotal: 7.92s\tremaining: 12m 56s\n",
      "200:\tlearn: 1.8955829\ttest: 1.8955829\ttest1: 2.2097732\tbest: 2.2086543 (161)\ttotal: 15.9s\tremaining: 12m 54s\n",
      "300:\tlearn: 1.8557711\ttest: 1.8557711\ttest1: 2.2143474\tbest: 2.2066176 (211)\ttotal: 23.9s\tremaining: 12m 50s\n"
     ]
    },
    {
     "name": "stderr",
     "output_type": "stream",
     "text": [
      "\u001b[32m[I 2021-07-30 14:16:45,418]\u001b[0m Trial 9 finished with value: -2.205967436657042 and parameters: {'colsample_bylevel': 0.07666935070454539, 'depth': 8, 'boosting_type': 'Plain', 'bootstrap_type': 'MVS', 'l2_leaf_reg': 19.89645999133224, 'random_strength': 5.279085699763564}. Best is trial 8 with value: -2.1984406364912568.\u001b[0m\n"
     ]
    },
    {
     "name": "stdout",
     "output_type": "stream",
     "text": [
      "Stopped by overfitting detector  (100 iterations wait)\n",
      "\n",
      "bestTest = 2.206617599\n",
      "bestIteration = 211\n",
      "\n",
      "Shrink model to first 212 iterations.\n",
      "0:\tlearn: 2.8179533\ttest: 2.8179533\ttest1: 2.7574523\tbest: 2.7574523 (0)\ttotal: 95ms\tremaining: 15m 50s\n",
      "100:\tlearn: 2.1482158\ttest: 2.1482158\ttest1: 2.2238746\tbest: 2.2238746 (100)\ttotal: 9.43s\tremaining: 15m 23s\n",
      "200:\tlearn: 2.1176884\ttest: 2.1176884\ttest1: 2.2216082\tbest: 2.2195617 (167)\ttotal: 18.7s\tremaining: 15m 12s\n",
      "300:\tlearn: 2.0937788\ttest: 2.0937788\ttest1: 2.2159587\tbest: 2.2121119 (234)\ttotal: 28s\tremaining: 15m\n"
     ]
    },
    {
     "name": "stderr",
     "output_type": "stream",
     "text": [
      "\u001b[32m[I 2021-07-30 14:17:17,173]\u001b[0m Trial 10 finished with value: -2.2116113030607187 and parameters: {'colsample_bylevel': 0.09586630160790909, 'depth': 4, 'boosting_type': 'Ordered', 'bootstrap_type': 'Bayesian', 'l2_leaf_reg': 16.47928727743646, 'random_strength': 7.078163961168132, 'bagging_temperature': 9.836357160759116}. Best is trial 8 with value: -2.1984406364912568.\u001b[0m\n"
     ]
    },
    {
     "name": "stdout",
     "output_type": "stream",
     "text": [
      "Stopped by overfitting detector  (100 iterations wait)\n",
      "\n",
      "bestTest = 2.21211187\n",
      "bestIteration = 234\n",
      "\n",
      "Shrink model to first 235 iterations.\n",
      "0:\tlearn: 2.7840126\ttest: 2.7840126\ttest1: 2.7148755\tbest: 2.7148755 (0)\ttotal: 101ms\tremaining: 16m 51s\n",
      "100:\tlearn: 2.0214790\ttest: 2.0214790\ttest1: 2.1907740\tbest: 2.1890214 (93)\ttotal: 10.6s\tremaining: 17m 14s\n",
      "200:\tlearn: 1.9969504\ttest: 1.9969504\ttest1: 2.1916063\tbest: 2.1882324 (117)\ttotal: 21.2s\tremaining: 17m 13s\n"
     ]
    },
    {
     "name": "stderr",
     "output_type": "stream",
     "text": [
      "\u001b[32m[I 2021-07-30 14:17:40,784]\u001b[0m Trial 11 finished with value: -2.188225459827145 and parameters: {'colsample_bylevel': 0.09711964370335377, 'depth': 6, 'boosting_type': 'Ordered', 'bootstrap_type': 'Bayesian', 'l2_leaf_reg': 14.164048237789558, 'random_strength': 7.264936425170814, 'bagging_temperature': 6.25667030047839}. Best is trial 11 with value: -2.188225459827145.\u001b[0m\n"
     ]
    },
    {
     "name": "stdout",
     "output_type": "stream",
     "text": [
      "Stopped by overfitting detector  (100 iterations wait)\n",
      "\n",
      "bestTest = 2.188232387\n",
      "bestIteration = 117\n",
      "\n",
      "Shrink model to first 118 iterations.\n",
      "0:\tlearn: 2.8052215\ttest: 2.8052215\ttest1: 2.7216289\tbest: 2.7216289 (0)\ttotal: 103ms\tremaining: 17m 5s\n",
      "100:\tlearn: 2.0702409\ttest: 2.0702409\ttest1: 2.2135265\tbest: 2.2116995 (99)\ttotal: 9.51s\tremaining: 15m 32s\n",
      "200:\tlearn: 2.0047203\ttest: 2.0047203\ttest1: 2.1986351\tbest: 2.1977561 (180)\ttotal: 19s\tremaining: 15m 26s\n",
      "300:\tlearn: 1.9779410\ttest: 1.9779410\ttest1: 2.1942315\tbest: 2.1931509 (242)\ttotal: 28.5s\tremaining: 15m 17s\n",
      "400:\tlearn: 1.9586403\ttest: 1.9586403\ttest1: 2.1920242\tbest: 2.1914275 (343)\ttotal: 38.1s\tremaining: 15m 11s\n",
      "500:\tlearn: 1.9404107\ttest: 1.9404107\ttest1: 2.1886287\tbest: 2.1886287 (500)\ttotal: 47.7s\tremaining: 15m 3s\n",
      "600:\tlearn: 1.9278325\ttest: 1.9278325\ttest1: 2.1854514\tbest: 2.1835634 (592)\ttotal: 57.1s\tremaining: 14m 53s\n",
      "700:\tlearn: 1.9194165\ttest: 1.9194165\ttest1: 2.1824824\tbest: 2.1820454 (669)\ttotal: 1m 6s\tremaining: 14m 47s\n",
      "800:\tlearn: 1.9077141\ttest: 1.9077141\ttest1: 2.1754505\tbest: 2.1754505 (800)\ttotal: 1m 16s\tremaining: 14m 37s\n",
      "900:\tlearn: 1.9004781\ttest: 1.9004781\ttest1: 2.1744568\tbest: 2.1740869 (898)\ttotal: 1m 25s\tremaining: 14m 26s\n",
      "1000:\tlearn: 1.8945405\ttest: 1.8945405\ttest1: 2.1734131\tbest: 2.1734131 (1000)\ttotal: 1m 35s\tremaining: 14m 16s\n",
      "1100:\tlearn: 1.8881130\ttest: 1.8881130\ttest1: 2.1734242\tbest: 2.1728621 (1044)\ttotal: 1m 45s\tremaining: 14m 8s\n"
     ]
    },
    {
     "name": "stderr",
     "output_type": "stream",
     "text": [
      "\u001b[32m[I 2021-07-30 14:19:30,650]\u001b[0m Trial 12 finished with value: -2.1702331254900744 and parameters: {'colsample_bylevel': 0.09654931633394971, 'depth': 4, 'boosting_type': 'Ordered', 'bootstrap_type': 'Bayesian', 'l2_leaf_reg': 14.842180338734579, 'random_strength': 7.4116845266122064, 'bagging_temperature': 0.4258355511560161}. Best is trial 12 with value: -2.1702331254900744.\u001b[0m\n"
     ]
    },
    {
     "name": "stdout",
     "output_type": "stream",
     "text": [
      "Stopped by overfitting detector  (100 iterations wait)\n",
      "\n",
      "bestTest = 2.172862105\n",
      "bestIteration = 1044\n",
      "\n",
      "Shrink model to first 1045 iterations.\n",
      "0:\tlearn: 2.8068348\ttest: 2.8068348\ttest1: 2.7395465\tbest: 2.7395465 (0)\ttotal: 91.3ms\tremaining: 15m 13s\n",
      "100:\tlearn: 2.0587810\ttest: 2.0587810\ttest1: 2.2306264\tbest: 2.2306264 (100)\ttotal: 9.42s\tremaining: 15m 22s\n",
      "200:\tlearn: 2.0010118\ttest: 2.0010118\ttest1: 2.2088679\tbest: 2.2060170 (157)\ttotal: 18.8s\tremaining: 15m 17s\n",
      "300:\tlearn: 1.9743961\ttest: 1.9743961\ttest1: 2.2066894\tbest: 2.2027476 (270)\ttotal: 28.1s\tremaining: 15m 5s\n",
      "400:\tlearn: 1.9569242\ttest: 1.9569242\ttest1: 2.2020720\tbest: 2.2008289 (372)\ttotal: 37.4s\tremaining: 14m 56s\n",
      "500:\tlearn: 1.9410954\ttest: 1.9410954\ttest1: 2.1979120\tbest: 2.1974060 (484)\ttotal: 46.7s\tremaining: 14m 45s\n",
      "600:\tlearn: 1.9325242\ttest: 1.9325242\ttest1: 2.1978866\tbest: 2.1960651 (561)\ttotal: 56s\tremaining: 14m 35s\n",
      "700:\tlearn: 1.9189721\ttest: 1.9189721\ttest1: 2.1907764\tbest: 2.1857108 (652)\ttotal: 1m 5s\tremaining: 14m 27s\n",
      "Stopped by overfitting detector  (100 iterations wait)\n",
      "\n",
      "bestTest = 2.185710796\n",
      "bestIteration = 652\n",
      "\n",
      "Shrink model to first 653 iterations.\n"
     ]
    },
    {
     "name": "stderr",
     "output_type": "stream",
     "text": [
      "\u001b[32m[I 2021-07-30 14:20:41,705]\u001b[0m Trial 13 finished with value: -2.1846986256808596 and parameters: {'colsample_bylevel': 0.08330907336094463, 'depth': 4, 'boosting_type': 'Ordered', 'bootstrap_type': 'Bayesian', 'l2_leaf_reg': 14.965771502909408, 'random_strength': 6.502465261652224, 'bagging_temperature': 0.258957964606862}. Best is trial 12 with value: -2.1702331254900744.\u001b[0m\n"
     ]
    },
    {
     "name": "stdout",
     "output_type": "stream",
     "text": [
      "0:\tlearn: 2.8068348\ttest: 2.8068348\ttest1: 2.7395465\tbest: 2.7395465 (0)\ttotal: 106ms\tremaining: 17m 44s\n",
      "100:\tlearn: 2.0578597\ttest: 2.0578597\ttest1: 2.2164141\tbest: 2.2164141 (100)\ttotal: 9.48s\tremaining: 15m 29s\n",
      "200:\tlearn: 2.0002146\ttest: 2.0002146\ttest1: 2.1964887\tbest: 2.1964887 (200)\ttotal: 18.7s\tremaining: 15m 11s\n",
      "300:\tlearn: 1.9693214\ttest: 1.9693214\ttest1: 2.1993623\tbest: 2.1943585 (235)\ttotal: 27.9s\tremaining: 14m 59s\n"
     ]
    },
    {
     "name": "stderr",
     "output_type": "stream",
     "text": [
      "\u001b[32m[I 2021-07-30 14:21:13,514]\u001b[0m Trial 14 finished with value: -2.1942767107060184 and parameters: {'colsample_bylevel': 0.08229041076932, 'depth': 4, 'boosting_type': 'Ordered', 'bootstrap_type': 'Bayesian', 'l2_leaf_reg': 7.520870452009807, 'random_strength': 5.88796131409399, 'bagging_temperature': 0.17834373477580065}. Best is trial 12 with value: -2.1702331254900744.\u001b[0m\n"
     ]
    },
    {
     "name": "stdout",
     "output_type": "stream",
     "text": [
      "Stopped by overfitting detector  (100 iterations wait)\n",
      "\n",
      "bestTest = 2.194358505\n",
      "bestIteration = 235\n",
      "\n",
      "Shrink model to first 236 iterations.\n",
      "0:\tlearn: 2.8201441\ttest: 2.8201441\ttest1: 2.7536545\tbest: 2.7536545 (0)\ttotal: 81ms\tremaining: 13m 29s\n",
      "100:\tlearn: 2.1836130\ttest: 2.1836130\ttest1: 2.2468311\tbest: 2.2457585 (97)\ttotal: 8.53s\tremaining: 13m 55s\n",
      "200:\tlearn: 2.1060440\ttest: 2.1060440\ttest1: 2.2276712\tbest: 2.2263265 (199)\ttotal: 17s\tremaining: 13m 49s\n",
      "300:\tlearn: 2.0564732\ttest: 2.0564732\ttest1: 2.2171738\tbest: 2.2167072 (287)\ttotal: 25.5s\tremaining: 13m 43s\n"
     ]
    },
    {
     "name": "stderr",
     "output_type": "stream",
     "text": [
      "\u001b[32m[I 2021-07-30 14:21:47,076]\u001b[0m Trial 15 finished with value: -2.2166480396667936 and parameters: {'colsample_bylevel': 0.016644620218499433, 'depth': 4, 'boosting_type': 'Ordered', 'bootstrap_type': 'Bayesian', 'l2_leaf_reg': 15.712585032553378, 'random_strength': 6.123719253745679, 'bagging_temperature': 0.17925611568492839}. Best is trial 12 with value: -2.1702331254900744.\u001b[0m\n"
     ]
    },
    {
     "name": "stdout",
     "output_type": "stream",
     "text": [
      "Stopped by overfitting detector  (100 iterations wait)\n",
      "\n",
      "bestTest = 2.216707198\n",
      "bestIteration = 287\n",
      "\n",
      "Shrink model to first 288 iterations.\n",
      "0:\tlearn: 2.8198167\ttest: 2.8198167\ttest1: 2.7613459\tbest: 2.7613459 (0)\ttotal: 74.4ms\tremaining: 12m 24s\n",
      "100:\tlearn: 2.0464262\ttest: 2.0464262\ttest1: 2.2297463\tbest: 2.2297463 (100)\ttotal: 7s\tremaining: 11m 26s\n",
      "200:\tlearn: 1.9835524\ttest: 1.9835524\ttest1: 2.2213891\tbest: 2.2175709 (190)\ttotal: 13.8s\tremaining: 11m 14s\n",
      "300:\tlearn: 1.9530251\ttest: 1.9530251\ttest1: 2.2147736\tbest: 2.2140523 (263)\ttotal: 20.8s\tremaining: 11m 10s\n",
      "400:\tlearn: 1.9320917\ttest: 1.9320917\ttest1: 2.2044428\tbest: 2.2035587 (394)\ttotal: 27.7s\tremaining: 11m 4s\n",
      "500:\tlearn: 1.9185684\ttest: 1.9185684\ttest1: 2.1992354\tbest: 2.1986603 (495)\ttotal: 34.7s\tremaining: 10m 58s\n",
      "600:\tlearn: 1.9062783\ttest: 1.9062783\ttest1: 2.1999897\tbest: 2.1960862 (516)\ttotal: 41.8s\tremaining: 10m 54s\n"
     ]
    },
    {
     "name": "stderr",
     "output_type": "stream",
     "text": [
      "\u001b[32m[I 2021-07-30 14:22:30,717]\u001b[0m Trial 16 finished with value: -2.1935480186384195 and parameters: {'colsample_bylevel': 0.08341298389493466, 'depth': 5, 'boosting_type': 'Ordered', 'bootstrap_type': 'Bernoulli', 'l2_leaf_reg': 8.23026083234441, 'random_strength': 3.049746440526274, 'subsample': 0.13281812160573936}. Best is trial 12 with value: -2.1702331254900744.\u001b[0m\n"
     ]
    },
    {
     "name": "stdout",
     "output_type": "stream",
     "text": [
      "Stopped by overfitting detector  (100 iterations wait)\n",
      "\n",
      "bestTest = 2.196086247\n",
      "bestIteration = 516\n",
      "\n",
      "Shrink model to first 517 iterations.\n",
      "0:\tlearn: 2.8203415\ttest: 2.8203415\ttest1: 2.7539628\tbest: 2.7539628 (0)\ttotal: 96.1ms\tremaining: 16m\n",
      "100:\tlearn: 2.0185734\ttest: 2.0185734\ttest1: 2.2072905\tbest: 2.2048094 (96)\ttotal: 10.3s\tremaining: 16m 49s\n",
      "200:\tlearn: 1.9705630\ttest: 1.9705630\ttest1: 2.2042233\tbest: 2.2009629 (170)\ttotal: 20.5s\tremaining: 16m 38s\n"
     ]
    },
    {
     "name": "stderr",
     "output_type": "stream",
     "text": [
      "\u001b[32m[I 2021-07-30 14:22:58,953]\u001b[0m Trial 17 finished with value: -2.200875251073977 and parameters: {'colsample_bylevel': 0.08684074529143898, 'depth': 5, 'boosting_type': 'Ordered', 'bootstrap_type': 'Bayesian', 'l2_leaf_reg': 14.470265603286773, 'random_strength': 8.315174697791637, 'bagging_temperature': 2.439796167270856}. Best is trial 12 with value: -2.1702331254900744.\u001b[0m\n"
     ]
    },
    {
     "name": "stdout",
     "output_type": "stream",
     "text": [
      "Stopped by overfitting detector  (100 iterations wait)\n",
      "\n",
      "bestTest = 2.200962936\n",
      "bestIteration = 170\n",
      "\n",
      "Shrink model to first 171 iterations.\n",
      "0:\tlearn: 2.8219918\ttest: 2.8219918\ttest1: 2.7613663\tbest: 2.7613663 (0)\ttotal: 105ms\tremaining: 17m 26s\n",
      "100:\tlearn: 2.0548788\ttest: 2.0548788\ttest1: 2.2098370\tbest: 2.2089418 (86)\ttotal: 9.4s\tremaining: 15m 20s\n",
      "200:\tlearn: 2.0009255\ttest: 2.0009255\ttest1: 2.1974912\tbest: 2.1960215 (186)\ttotal: 18.7s\tremaining: 15m 9s\n",
      "300:\tlearn: 1.9750510\ttest: 1.9750510\ttest1: 2.1957320\tbest: 2.1931063 (235)\ttotal: 27.8s\tremaining: 14m 55s\n",
      "400:\tlearn: 1.9604999\ttest: 1.9604999\ttest1: 2.1915615\tbest: 2.1910188 (397)\ttotal: 37s\tremaining: 14m 46s\n",
      "500:\tlearn: 1.9484537\ttest: 1.9484537\ttest1: 2.1876324\tbest: 2.1863894 (486)\ttotal: 46.2s\tremaining: 14m 36s\n"
     ]
    },
    {
     "name": "stderr",
     "output_type": "stream",
     "text": [
      "\u001b[32m[I 2021-07-30 14:23:53,810]\u001b[0m Trial 18 finished with value: -2.1860920417907264 and parameters: {'colsample_bylevel': 0.07162381667299432, 'depth': 4, 'boosting_type': 'Ordered', 'bootstrap_type': 'Bayesian', 'l2_leaf_reg': 8.677606854109971, 'random_strength': 6.533992097192925, 'bagging_temperature': 2.342430228893901}. Best is trial 12 with value: -2.1702331254900744.\u001b[0m\n"
     ]
    },
    {
     "name": "stdout",
     "output_type": "stream",
     "text": [
      "Stopped by overfitting detector  (100 iterations wait)\n",
      "\n",
      "bestTest = 2.186389428\n",
      "bestIteration = 486\n",
      "\n",
      "Shrink model to first 487 iterations.\n",
      "0:\tlearn: 2.8070658\ttest: 2.8070658\ttest1: 2.7284763\tbest: 2.7284763 (0)\ttotal: 105ms\tremaining: 17m 31s\n",
      "100:\tlearn: 2.0117686\ttest: 2.0117686\ttest1: 2.2070455\tbest: 2.2070455 (100)\ttotal: 10.4s\tremaining: 16m 59s\n",
      "200:\tlearn: 1.9627469\ttest: 1.9627469\ttest1: 2.1937031\tbest: 2.1907249 (191)\ttotal: 20.6s\tremaining: 16m 46s\n"
     ]
    },
    {
     "name": "stderr",
     "output_type": "stream",
     "text": [
      "\u001b[32m[I 2021-07-30 14:24:24,243]\u001b[0m Trial 19 finished with value: -2.190348367674512 and parameters: {'colsample_bylevel': 0.09056756806893831, 'depth': 5, 'boosting_type': 'Ordered', 'bootstrap_type': 'Bayesian', 'l2_leaf_reg': 16.47604292466979, 'random_strength': 4.342427030730301, 'bagging_temperature': 2.2367475843899265}. Best is trial 12 with value: -2.1702331254900744.\u001b[0m\n"
     ]
    },
    {
     "name": "stdout",
     "output_type": "stream",
     "text": [
      "Stopped by overfitting detector  (100 iterations wait)\n",
      "\n",
      "bestTest = 2.190724934\n",
      "bestIteration = 191\n",
      "\n",
      "Shrink model to first 192 iterations.\n",
      "0:\tlearn: 2.8256606\ttest: 2.8256606\ttest1: 2.7607833\tbest: 2.7607833 (0)\ttotal: 62.8ms\tremaining: 10m 27s\n",
      "100:\tlearn: 2.1240050\ttest: 2.1240050\ttest1: 2.2361881\tbest: 2.2361881 (100)\ttotal: 6.73s\tremaining: 11m\n",
      "200:\tlearn: 2.0395860\ttest: 2.0395860\ttest1: 2.2077122\tbest: 2.2077122 (200)\ttotal: 13.4s\tremaining: 10m 50s\n",
      "300:\tlearn: 1.9985131\ttest: 1.9985131\ttest1: 2.2049405\tbest: 2.2037410 (278)\ttotal: 20.2s\tremaining: 10m 52s\n",
      "400:\tlearn: 1.9795115\ttest: 1.9795115\ttest1: 2.1994489\tbest: 2.1961233 (368)\ttotal: 27s\tremaining: 10m 46s\n"
     ]
    },
    {
     "name": "stderr",
     "output_type": "stream",
     "text": [
      "\u001b[32m[I 2021-07-30 14:24:56,507]\u001b[0m Trial 20 finished with value: -2.195576722116972 and parameters: {'colsample_bylevel': 0.07375536349926011, 'depth': 4, 'boosting_type': 'Ordered', 'bootstrap_type': 'Bernoulli', 'l2_leaf_reg': 12.13729049489563, 'random_strength': 7.992938915996722, 'subsample': 0.11070665054455475}. Best is trial 12 with value: -2.1702331254900744.\u001b[0m\n"
     ]
    },
    {
     "name": "stdout",
     "output_type": "stream",
     "text": [
      "Stopped by overfitting detector  (100 iterations wait)\n",
      "\n",
      "bestTest = 2.196123264\n",
      "bestIteration = 368\n",
      "\n",
      "Shrink model to first 369 iterations.\n",
      "0:\tlearn: 2.8210081\ttest: 2.8210081\ttest1: 2.7531883\tbest: 2.7531883 (0)\ttotal: 90.5ms\tremaining: 15m 4s\n",
      "100:\tlearn: 2.0658731\ttest: 2.0658731\ttest1: 2.2093123\tbest: 2.2093123 (100)\ttotal: 9.39s\tremaining: 15m 20s\n",
      "200:\tlearn: 2.0044455\ttest: 2.0044455\ttest1: 2.2001052\tbest: 2.1974661 (188)\ttotal: 18.6s\tremaining: 15m 8s\n",
      "300:\tlearn: 1.9772729\ttest: 1.9772729\ttest1: 2.1967830\tbest: 2.1963946 (295)\ttotal: 27.9s\tremaining: 14m 58s\n",
      "400:\tlearn: 1.9586553\ttest: 1.9586553\ttest1: 2.1976987\tbest: 2.1940535 (334)\ttotal: 37.1s\tremaining: 14m 47s\n"
     ]
    },
    {
     "name": "stderr",
     "output_type": "stream",
     "text": [
      "\u001b[32m[I 2021-07-30 14:25:37,323]\u001b[0m Trial 21 finished with value: -2.1938683127228407 and parameters: {'colsample_bylevel': 0.0684075558797648, 'depth': 4, 'boosting_type': 'Ordered', 'bootstrap_type': 'Bayesian', 'l2_leaf_reg': 8.44859911766001, 'random_strength': 6.2623124606293485, 'bagging_temperature': 1.9126566577150776}. Best is trial 12 with value: -2.1702331254900744.\u001b[0m\n"
     ]
    },
    {
     "name": "stdout",
     "output_type": "stream",
     "text": [
      "Stopped by overfitting detector  (100 iterations wait)\n",
      "\n",
      "bestTest = 2.194053542\n",
      "bestIteration = 334\n",
      "\n",
      "Shrink model to first 335 iterations.\n",
      "0:\tlearn: 2.7981554\ttest: 2.7981554\ttest1: 2.7240818\tbest: 2.7240818 (0)\ttotal: 127ms\tremaining: 21m 8s\n",
      "100:\tlearn: 2.0433860\ttest: 2.0433860\ttest1: 2.2120844\tbest: 2.2120844 (100)\ttotal: 10.1s\tremaining: 16m 26s\n",
      "200:\tlearn: 1.9761487\ttest: 1.9761487\ttest1: 2.1958476\tbest: 2.1958271 (198)\ttotal: 20.2s\tremaining: 16m 23s\n",
      "300:\tlearn: 1.9450505\ttest: 1.9450505\ttest1: 2.1934959\tbest: 2.1920281 (260)\ttotal: 30.3s\tremaining: 16m 15s\n"
     ]
    },
    {
     "name": "stderr",
     "output_type": "stream",
     "text": [
      "\u001b[32m[I 2021-07-30 14:26:14,186]\u001b[0m Trial 22 finished with value: -2.191592636868375 and parameters: {'colsample_bylevel': 0.07775038004922946, 'depth': 5, 'boosting_type': 'Ordered', 'bootstrap_type': 'Bayesian', 'l2_leaf_reg': 5.886745428261706, 'random_strength': 6.738249013612731, 'bagging_temperature': 1.1245502350609042}. Best is trial 12 with value: -2.1702331254900744.\u001b[0m\n"
     ]
    },
    {
     "name": "stdout",
     "output_type": "stream",
     "text": [
      "Stopped by overfitting detector  (100 iterations wait)\n",
      "\n",
      "bestTest = 2.192028133\n",
      "bestIteration = 260\n",
      "\n",
      "Shrink model to first 261 iterations.\n",
      "0:\tlearn: 2.8095059\ttest: 2.8095059\ttest1: 2.7321094\tbest: 2.7321094 (0)\ttotal: 92.9ms\tremaining: 15m 28s\n",
      "100:\tlearn: 2.0375608\ttest: 2.0375608\ttest1: 2.2048027\tbest: 2.2032099 (91)\ttotal: 9.58s\tremaining: 15m 38s\n",
      "200:\tlearn: 2.0028259\ttest: 2.0028259\ttest1: 2.1939535\tbest: 2.1916293 (149)\ttotal: 18.9s\tremaining: 15m 23s\n",
      "300:\tlearn: 1.9813143\ttest: 1.9813143\ttest1: 2.1915000\tbest: 2.1864334 (274)\ttotal: 28.2s\tremaining: 15m 9s\n",
      "Stopped by overfitting detector  (100 iterations wait)\n",
      "\n",
      "bestTest = 2.18643342\n",
      "bestIteration = 274\n",
      "\n",
      "Shrink model to first 275 iterations.\n"
     ]
    },
    {
     "name": "stderr",
     "output_type": "stream",
     "text": [
      "\u001b[32m[I 2021-07-30 14:26:50,014]\u001b[0m Trial 23 finished with value: -2.186410546803874 and parameters: {'colsample_bylevel': 0.09046624722256226, 'depth': 4, 'boosting_type': 'Ordered', 'bootstrap_type': 'Bayesian', 'l2_leaf_reg': 10.126027368052211, 'random_strength': 5.358715771696538, 'bagging_temperature': 3.6273002077483714}. Best is trial 12 with value: -2.1702331254900744.\u001b[0m\n"
     ]
    },
    {
     "name": "stdout",
     "output_type": "stream",
     "text": [
      "0:\tlearn: 2.8114276\ttest: 2.8114276\ttest1: 2.7447337\tbest: 2.7447337 (0)\ttotal: 102ms\tremaining: 17m 4s\n",
      "100:\tlearn: 2.0562015\ttest: 2.0562015\ttest1: 2.2211226\tbest: 2.2211226 (100)\ttotal: 10s\tremaining: 16m 24s\n",
      "200:\tlearn: 1.9758249\ttest: 1.9758249\ttest1: 2.2096871\tbest: 2.2078061 (186)\ttotal: 20.1s\tremaining: 16m 18s\n",
      "300:\tlearn: 1.9447277\ttest: 1.9447277\ttest1: 2.2068326\tbest: 2.2046416 (260)\ttotal: 30s\tremaining: 16m 6s\n",
      "400:\tlearn: 1.9200429\ttest: 1.9200429\ttest1: 2.1981330\tbest: 2.1967073 (376)\ttotal: 40s\tremaining: 15m 57s\n"
     ]
    },
    {
     "name": "stderr",
     "output_type": "stream",
     "text": [
      "\u001b[32m[I 2021-07-30 14:27:38,236]\u001b[0m Trial 24 finished with value: -2.196000459756509 and parameters: {'colsample_bylevel': 0.07076987293787218, 'depth': 5, 'boosting_type': 'Ordered', 'bootstrap_type': 'Bayesian', 'l2_leaf_reg': 13.570603965146947, 'random_strength': 7.586184966659954, 'bagging_temperature': 0.04490674187613228}. Best is trial 12 with value: -2.1702331254900744.\u001b[0m\n"
     ]
    },
    {
     "name": "stdout",
     "output_type": "stream",
     "text": [
      "Stopped by overfitting detector  (100 iterations wait)\n",
      "\n",
      "bestTest = 2.196707346\n",
      "bestIteration = 376\n",
      "\n",
      "Shrink model to first 377 iterations.\n",
      "0:\tlearn: 2.8081933\ttest: 2.8081933\ttest1: 2.7354902\tbest: 2.7354902 (0)\ttotal: 105ms\tremaining: 17m 26s\n",
      "100:\tlearn: 2.0775998\ttest: 2.0775998\ttest1: 2.2197351\tbest: 2.2197351 (100)\ttotal: 9.29s\tremaining: 15m 10s\n",
      "200:\tlearn: 2.0186477\ttest: 2.0186477\ttest1: 2.2076750\tbest: 2.2076750 (200)\ttotal: 18.5s\tremaining: 15m 3s\n",
      "300:\tlearn: 1.9993389\ttest: 1.9993389\ttest1: 2.2063737\tbest: 2.2063689 (299)\ttotal: 27.7s\tremaining: 14m 51s\n",
      "400:\tlearn: 1.9848333\ttest: 1.9848333\ttest1: 2.2039459\tbest: 2.2037486 (327)\ttotal: 36.8s\tremaining: 14m 40s\n",
      "500:\tlearn: 1.9771163\ttest: 1.9771163\ttest1: 2.2010224\tbest: 2.2009967 (482)\ttotal: 45.9s\tremaining: 14m 30s\n",
      "600:\tlearn: 1.9697161\ttest: 1.9697161\ttest1: 2.1987632\tbest: 2.1984610 (580)\ttotal: 55.1s\tremaining: 14m 21s\n",
      "Stopped by overfitting detector  (100 iterations wait)\n",
      "\n",
      "bestTest = 2.19846096\n",
      "bestIteration = 580\n",
      "\n",
      "Shrink model to first 581 iterations.\n"
     ]
    },
    {
     "name": "stderr",
     "output_type": "stream",
     "text": [
      "\u001b[32m[I 2021-07-30 14:28:41,443]\u001b[0m Trial 25 finished with value: -2.1978693492882257 and parameters: {'colsample_bylevel': 0.060001297320003505, 'depth': 4, 'boosting_type': 'Ordered', 'bootstrap_type': 'Bayesian', 'l2_leaf_reg': 0.7930606331922316, 'random_strength': 9.112752383305754, 'bagging_temperature': 3.701068079096761}. Best is trial 12 with value: -2.1702331254900744.\u001b[0m\n"
     ]
    },
    {
     "name": "stdout",
     "output_type": "stream",
     "text": [
      "0:\tlearn: 2.7759935\ttest: 2.7759935\ttest1: 2.7118144\tbest: 2.7118144 (0)\ttotal: 127ms\tremaining: 21m 14s\n",
      "100:\tlearn: 1.9903276\ttest: 1.9903276\ttest1: 2.2229652\tbest: 2.2229652 (100)\ttotal: 11s\tremaining: 18m 2s\n",
      "200:\tlearn: 1.9259555\ttest: 1.9259555\ttest1: 2.2121903\tbest: 2.2105098 (188)\ttotal: 21.9s\tremaining: 17m 47s\n",
      "300:\tlearn: 1.8918792\ttest: 1.8918792\ttest1: 2.2092070\tbest: 2.2086801 (294)\ttotal: 33s\tremaining: 17m 43s\n",
      "400:\tlearn: 1.8676890\ttest: 1.8676890\ttest1: 2.2105531\tbest: 2.2069909 (319)\ttotal: 44.1s\tremaining: 17m 34s\n"
     ]
    },
    {
     "name": "stderr",
     "output_type": "stream",
     "text": [
      "\u001b[32m[I 2021-07-30 14:29:28,254]\u001b[0m Trial 26 finished with value: -2.205819359274483 and parameters: {'colsample_bylevel': 0.07780516482760584, 'depth': 7, 'boosting_type': 'Ordered', 'bootstrap_type': 'Bayesian', 'l2_leaf_reg': 9.389508637244813, 'random_strength': 6.576874211014872, 'bagging_temperature': 1.1531203300142565}. Best is trial 12 with value: -2.1702331254900744.\u001b[0m\n"
     ]
    },
    {
     "name": "stdout",
     "output_type": "stream",
     "text": [
      "Stopped by overfitting detector  (100 iterations wait)\n",
      "\n",
      "bestTest = 2.206990947\n",
      "bestIteration = 319\n",
      "\n",
      "Shrink model to first 320 iterations.\n",
      "0:\tlearn: 2.8082973\ttest: 2.8082973\ttest1: 2.7348717\tbest: 2.7348717 (0)\ttotal: 107ms\tremaining: 17m 47s\n",
      "100:\tlearn: 2.0214700\ttest: 2.0214700\ttest1: 2.2179986\tbest: 2.2179054 (94)\ttotal: 10.5s\tremaining: 17m 9s\n",
      "200:\tlearn: 1.9652237\ttest: 1.9652237\ttest1: 2.2088799\tbest: 2.2088799 (200)\ttotal: 21s\tremaining: 17m 3s\n",
      "300:\tlearn: 1.9381363\ttest: 1.9381363\ttest1: 2.2058611\tbest: 2.2058523 (291)\ttotal: 31.5s\tremaining: 16m 55s\n",
      "400:\tlearn: 1.9163678\ttest: 1.9163678\ttest1: 2.2014171\tbest: 2.2014171 (400)\ttotal: 41.9s\tremaining: 16m 43s\n",
      "500:\tlearn: 1.9047033\ttest: 1.9047033\ttest1: 2.2000516\tbest: 2.2000516 (500)\ttotal: 52.2s\tremaining: 16m 29s\n",
      "600:\tlearn: 1.8942896\ttest: 1.8942896\ttest1: 2.2007404\tbest: 2.1965384 (571)\ttotal: 1m 2s\tremaining: 16m 20s\n",
      "700:\tlearn: 1.8812931\ttest: 1.8812931\ttest1: 2.1940918\tbest: 2.1921783 (619)\ttotal: 1m 13s\tremaining: 16m 10s\n"
     ]
    },
    {
     "name": "stderr",
     "output_type": "stream",
     "text": [
      "\u001b[32m[I 2021-07-30 14:30:44,025]\u001b[0m Trial 27 finished with value: -2.1912267074378344 and parameters: {'colsample_bylevel': 0.09968974553727071, 'depth': 5, 'boosting_type': 'Ordered', 'bootstrap_type': 'Bayesian', 'l2_leaf_reg': 6.265574019521777, 'random_strength': 4.653976566808245, 'bagging_temperature': 0.891957910599698}. Best is trial 12 with value: -2.1702331254900744.\u001b[0m\n"
     ]
    },
    {
     "name": "stdout",
     "output_type": "stream",
     "text": [
      "Stopped by overfitting detector  (100 iterations wait)\n",
      "\n",
      "bestTest = 2.192178319\n",
      "bestIteration = 619\n",
      "\n",
      "Shrink model to first 620 iterations.\n",
      "0:\tlearn: 2.8095059\ttest: 2.8095059\ttest1: 2.7321094\tbest: 2.7321094 (0)\ttotal: 103ms\tremaining: 17m 8s\n",
      "100:\tlearn: 2.0347280\ttest: 2.0347280\ttest1: 2.1959193\tbest: 2.1959193 (100)\ttotal: 9.55s\tremaining: 15m 36s\n",
      "200:\tlearn: 1.9911657\ttest: 1.9911657\ttest1: 2.1862937\tbest: 2.1848008 (185)\ttotal: 19s\tremaining: 15m 24s\n",
      "300:\tlearn: 1.9762826\ttest: 1.9762826\ttest1: 2.1797391\tbest: 2.1792607 (293)\ttotal: 28.4s\tremaining: 15m 13s\n",
      "400:\tlearn: 1.9625163\ttest: 1.9625163\ttest1: 2.1798174\tbest: 2.1774844 (328)\ttotal: 37.8s\tremaining: 15m 5s\n"
     ]
    },
    {
     "name": "stderr",
     "output_type": "stream",
     "text": [
      "\u001b[32m[I 2021-07-30 14:31:25,234]\u001b[0m Trial 28 finished with value: -2.1772465835572783 and parameters: {'colsample_bylevel': 0.08956495787713886, 'depth': 4, 'boosting_type': 'Ordered', 'bootstrap_type': 'Bayesian', 'l2_leaf_reg': 15.595957553672374, 'random_strength': 5.6225977278495005, 'bagging_temperature': 3.380359154113683}. Best is trial 12 with value: -2.1702331254900744.\u001b[0m\n"
     ]
    },
    {
     "name": "stdout",
     "output_type": "stream",
     "text": [
      "Stopped by overfitting detector  (100 iterations wait)\n",
      "\n",
      "bestTest = 2.177484438\n",
      "bestIteration = 328\n",
      "\n",
      "Shrink model to first 329 iterations.\n",
      "0:\tlearn: 2.8015657\ttest: 2.8015657\ttest1: 2.7427095\tbest: 2.7427095 (0)\ttotal: 88.9ms\tremaining: 14m 49s\n",
      "100:\tlearn: 1.9912888\ttest: 1.9912888\ttest1: 2.2104242\tbest: 2.2104242 (100)\ttotal: 9.99s\tremaining: 16m 19s\n",
      "200:\tlearn: 1.9334117\ttest: 1.9334117\ttest1: 2.2005775\tbest: 2.1976976 (180)\ttotal: 19.8s\tremaining: 16m 6s\n",
      "300:\tlearn: 1.9045218\ttest: 1.9045218\ttest1: 2.1928231\tbest: 2.1909821 (293)\ttotal: 29.6s\tremaining: 15m 53s\n",
      "400:\tlearn: 1.8828498\ttest: 1.8828498\ttest1: 2.1922870\tbest: 2.1870904 (333)\ttotal: 39.4s\tremaining: 15m 44s\n"
     ]
    },
    {
     "name": "stderr",
     "output_type": "stream",
     "text": [
      "\u001b[32m[I 2021-07-30 14:32:08,531]\u001b[0m Trial 29 finished with value: -2.1856758414156086 and parameters: {'colsample_bylevel': 0.0935712549200747, 'depth': 6, 'boosting_type': 'Ordered', 'bootstrap_type': 'MVS', 'l2_leaf_reg': 15.547992130991755, 'random_strength': 3.620737641667177}. Best is trial 12 with value: -2.1702331254900744.\u001b[0m\n"
     ]
    },
    {
     "name": "stdout",
     "output_type": "stream",
     "text": [
      "Stopped by overfitting detector  (100 iterations wait)\n",
      "\n",
      "bestTest = 2.187090352\n",
      "bestIteration = 333\n",
      "\n",
      "Shrink model to first 334 iterations.\n",
      "0:\tlearn: 2.8120297\ttest: 2.8120297\ttest1: 2.7354553\tbest: 2.7354553 (0)\ttotal: 104ms\tremaining: 17m 17s\n",
      "100:\tlearn: 2.0368452\ttest: 2.0368452\ttest1: 2.2020659\tbest: 2.2012718 (97)\ttotal: 9.46s\tremaining: 15m 27s\n",
      "200:\tlearn: 2.0013409\ttest: 2.0013409\ttest1: 2.1879391\tbest: 2.1869625 (196)\ttotal: 18.8s\tremaining: 15m 17s\n",
      "300:\tlearn: 1.9847301\ttest: 1.9847301\ttest1: 2.1861525\tbest: 2.1846255 (283)\ttotal: 28.2s\tremaining: 15m 9s\n"
     ]
    },
    {
     "name": "stderr",
     "output_type": "stream",
     "text": [
      "\u001b[32m[I 2021-07-30 14:32:45,063]\u001b[0m Trial 30 finished with value: -2.183946776310633 and parameters: {'colsample_bylevel': 0.08532562439063128, 'depth': 4, 'boosting_type': 'Ordered', 'bootstrap_type': 'Bayesian', 'l2_leaf_reg': 17.831102154527965, 'random_strength': 1.9700955782786638, 'bagging_temperature': 3.772687283774068}. Best is trial 12 with value: -2.1702331254900744.\u001b[0m\n"
     ]
    },
    {
     "name": "stdout",
     "output_type": "stream",
     "text": [
      "Stopped by overfitting detector  (100 iterations wait)\n",
      "\n",
      "bestTest = 2.184625512\n",
      "bestIteration = 283\n",
      "\n",
      "Shrink model to first 284 iterations.\n",
      "0:\tlearn: 2.8094645\ttest: 2.8094645\ttest1: 2.7306582\tbest: 2.7306582 (0)\ttotal: 95.4ms\tremaining: 15m 54s\n",
      "100:\tlearn: 2.0292008\ttest: 2.0292008\ttest1: 2.1914326\tbest: 2.1888556 (97)\ttotal: 9.36s\tremaining: 15m 17s\n",
      "200:\tlearn: 1.9945482\ttest: 1.9945482\ttest1: 2.1832674\tbest: 2.1832674 (200)\ttotal: 18.7s\tremaining: 15m 11s\n",
      "300:\tlearn: 1.9781493\ttest: 1.9781493\ttest1: 2.1852910\tbest: 2.1817969 (227)\ttotal: 28s\tremaining: 15m 2s\n"
     ]
    },
    {
     "name": "stderr",
     "output_type": "stream",
     "text": [
      "\u001b[32m[I 2021-07-30 14:33:16,162]\u001b[0m Trial 31 finished with value: -2.1817311152209595 and parameters: {'colsample_bylevel': 0.08588125542424094, 'depth': 4, 'boosting_type': 'Ordered', 'bootstrap_type': 'Bayesian', 'l2_leaf_reg': 17.173249487809887, 'random_strength': 0.3856610225059045, 'bagging_temperature': 3.3509123763287842}. Best is trial 12 with value: -2.1702331254900744.\u001b[0m\n"
     ]
    },
    {
     "name": "stdout",
     "output_type": "stream",
     "text": [
      "Stopped by overfitting detector  (100 iterations wait)\n",
      "\n",
      "bestTest = 2.181796943\n",
      "bestIteration = 227\n",
      "\n",
      "Shrink model to first 228 iterations.\n",
      "0:\tlearn: 2.8041707\ttest: 2.8041707\ttest1: 2.7254724\tbest: 2.7254724 (0)\ttotal: 101ms\tremaining: 16m 50s\n",
      "100:\tlearn: 2.0068967\ttest: 2.0068967\ttest1: 2.1985130\tbest: 2.1959880 (92)\ttotal: 10.3s\tremaining: 16m 53s\n",
      "200:\tlearn: 1.9726239\ttest: 1.9726239\ttest1: 2.1890109\tbest: 2.1890109 (200)\ttotal: 20.5s\tremaining: 16m 40s\n",
      "300:\tlearn: 1.9559381\ttest: 1.9559381\ttest1: 2.1903643\tbest: 2.1873837 (236)\ttotal: 30.7s\tremaining: 16m 29s\n",
      "400:\tlearn: 1.9439356\ttest: 1.9439356\ttest1: 2.1880048\tbest: 2.1853382 (303)\ttotal: 41s\tremaining: 16m 20s\n",
      "Stopped by overfitting detector  (100 iterations wait)\n",
      "\n",
      "bestTest = 2.185338234\n",
      "bestIteration = 303\n",
      "\n",
      "Shrink model to first 304 iterations.\n"
     ]
    },
    {
     "name": "stderr",
     "output_type": "stream",
     "text": [
      "\u001b[32m[I 2021-07-30 14:33:58,165]\u001b[0m Trial 32 finished with value: -2.1850791338344195 and parameters: {'colsample_bylevel': 0.08849833940799916, 'depth': 5, 'boosting_type': 'Ordered', 'bootstrap_type': 'Bayesian', 'l2_leaf_reg': 17.389566821113057, 'random_strength': 0.31073312892589855, 'bagging_temperature': 3.6070106171666327}. Best is trial 12 with value: -2.1702331254900744.\u001b[0m\n"
     ]
    },
    {
     "name": "stdout",
     "output_type": "stream",
     "text": [
      "0:\tlearn: 2.8060402\ttest: 2.8060402\ttest1: 2.7325420\tbest: 2.7325420 (0)\ttotal: 100ms\tremaining: 16m 42s\n",
      "100:\tlearn: 2.0441277\ttest: 2.0441277\ttest1: 2.2039709\tbest: 2.2033232 (76)\ttotal: 9.76s\tremaining: 15m 56s\n",
      "200:\tlearn: 2.0134187\ttest: 2.0134187\ttest1: 2.1983286\tbest: 2.1979671 (180)\ttotal: 19.4s\tremaining: 15m 44s\n",
      "300:\tlearn: 1.9985624\ttest: 1.9985624\ttest1: 2.1939670\tbest: 2.1927750 (268)\ttotal: 28.9s\tremaining: 15m 32s\n",
      "400:\tlearn: 1.9879838\ttest: 1.9879838\ttest1: 2.1916529\tbest: 2.1913847 (384)\ttotal: 38.5s\tremaining: 15m 20s\n"
     ]
    },
    {
     "name": "stderr",
     "output_type": "stream",
     "text": [
      "\u001b[32m[I 2021-07-30 14:34:45,238]\u001b[0m Trial 33 finished with value: -2.1911124769352885 and parameters: {'colsample_bylevel': 0.09861328512544765, 'depth': 4, 'boosting_type': 'Ordered', 'bootstrap_type': 'Bayesian', 'l2_leaf_reg': 17.245793017584003, 'random_strength': 1.4903314387198214, 'bagging_temperature': 4.478713948408399}. Best is trial 12 with value: -2.1702331254900744.\u001b[0m\n"
     ]
    },
    {
     "name": "stdout",
     "output_type": "stream",
     "text": [
      "Stopped by overfitting detector  (100 iterations wait)\n",
      "\n",
      "bestTest = 2.191384669\n",
      "bestIteration = 384\n",
      "\n",
      "Shrink model to first 385 iterations.\n",
      "0:\tlearn: 2.7972219\ttest: 2.7972219\ttest1: 2.7327452\tbest: 2.7327452 (0)\ttotal: 92ms\tremaining: 15m 20s\n",
      "100:\tlearn: 2.0217288\ttest: 2.0217288\ttest1: 2.1984887\tbest: 2.1984887 (100)\ttotal: 8.91s\tremaining: 14m 33s\n",
      "200:\tlearn: 1.9800607\ttest: 1.9800607\ttest1: 2.1874723\tbest: 2.1871727 (194)\ttotal: 17.7s\tremaining: 14m 21s\n",
      "300:\tlearn: 1.9553945\ttest: 1.9553945\ttest1: 2.1861796\tbest: 2.1855603 (282)\ttotal: 26.4s\tremaining: 14m 9s\n",
      "400:\tlearn: 1.9400353\ttest: 1.9400353\ttest1: 2.1825106\tbest: 2.1821831 (399)\ttotal: 35.2s\tremaining: 14m 2s\n",
      "500:\tlearn: 1.9239410\ttest: 1.9239410\ttest1: 2.1770987\tbest: 2.1761215 (487)\ttotal: 43.9s\tremaining: 13m 52s\n",
      "600:\tlearn: 1.9159412\ttest: 1.9159412\ttest1: 2.1770391\tbest: 2.1761047 (558)\ttotal: 52.6s\tremaining: 13m 42s\n",
      "Stopped by overfitting detector  (100 iterations wait)\n",
      "\n",
      "bestTest = 2.176104664\n",
      "bestIteration = 558\n",
      "\n",
      "Shrink model to first 559 iterations.\n"
     ]
    },
    {
     "name": "stderr",
     "output_type": "stream",
     "text": [
      "\u001b[32m[I 2021-07-30 14:35:43,666]\u001b[0m Trial 34 finished with value: -2.173111016823841 and parameters: {'colsample_bylevel': 0.0843008397752363, 'depth': 4, 'boosting_type': 'Ordered', 'bootstrap_type': 'MVS', 'l2_leaf_reg': 18.711931293671725, 'random_strength': 0.1384507952874463}. Best is trial 12 with value: -2.1702331254900744.\u001b[0m\n"
     ]
    },
    {
     "name": "stdout",
     "output_type": "stream",
     "text": [
      "0:\tlearn: 2.7936768\ttest: 2.7936768\ttest1: 2.7113315\tbest: 2.7113315 (0)\ttotal: 209ms\tremaining: 34m 45s\n",
      "100:\tlearn: 1.8847235\ttest: 1.8847235\ttest1: 2.2019617\tbest: 2.1793189 (14)\ttotal: 16.5s\tremaining: 26m 54s\n"
     ]
    },
    {
     "name": "stderr",
     "output_type": "stream",
     "text": [
      "\u001b[32m[I 2021-07-30 14:36:03,009]\u001b[0m Trial 35 finished with value: -2.1793198802625335 and parameters: {'colsample_bylevel': 0.09205829250281758, 'depth': 10, 'boosting_type': 'Ordered', 'bootstrap_type': 'MVS', 'l2_leaf_reg': 19.423570603514502, 'random_strength': 0.39649908895134434}. Best is trial 12 with value: -2.1702331254900744.\u001b[0m\n"
     ]
    },
    {
     "name": "stdout",
     "output_type": "stream",
     "text": [
      "Stopped by overfitting detector  (100 iterations wait)\n",
      "\n",
      "bestTest = 2.179318881\n",
      "bestIteration = 14\n",
      "\n",
      "Shrink model to first 15 iterations.\n",
      "0:\tlearn: 2.7667104\ttest: 2.7667104\ttest1: 2.7046552\tbest: 2.7046552 (0)\ttotal: 193ms\tremaining: 32m 6s\n",
      "100:\tlearn: 1.8770511\ttest: 1.8770511\ttest1: 2.1905720\tbest: 2.1795846 (15)\ttotal: 16.6s\tremaining: 27m 2s\n"
     ]
    },
    {
     "name": "stderr",
     "output_type": "stream",
     "text": [
      "\u001b[32m[I 2021-07-30 14:36:22,555]\u001b[0m Trial 36 finished with value: -2.179585597899591 and parameters: {'colsample_bylevel': 0.09314325839731255, 'depth': 10, 'boosting_type': 'Ordered', 'bootstrap_type': 'MVS', 'l2_leaf_reg': 19.026541358606718, 'random_strength': 0.7790692498463138}. Best is trial 12 with value: -2.1702331254900744.\u001b[0m\n"
     ]
    },
    {
     "name": "stdout",
     "output_type": "stream",
     "text": [
      "Stopped by overfitting detector  (100 iterations wait)\n",
      "\n",
      "bestTest = 2.179584599\n",
      "bestIteration = 15\n",
      "\n",
      "Shrink model to first 16 iterations.\n",
      "0:\tlearn: 2.7971274\ttest: 2.7971274\ttest1: 2.7181176\tbest: 2.7181176 (0)\ttotal: 125ms\tremaining: 20m 45s\n",
      "100:\tlearn: 1.9441616\ttest: 1.9441616\ttest1: 2.2142904\tbest: 2.2130503 (80)\ttotal: 12s\tremaining: 19m 33s\n"
     ]
    },
    {
     "name": "stderr",
     "output_type": "stream",
     "text": [
      "\u001b[32m[I 2021-07-30 14:36:44,832]\u001b[0m Trial 37 finished with value: -2.2129145684332725 and parameters: {'colsample_bylevel': 0.04717338778670212, 'depth': 9, 'boosting_type': 'Ordered', 'bootstrap_type': 'MVS', 'l2_leaf_reg': 12.638321550068031, 'random_strength': 2.2991854513626357}. Best is trial 12 with value: -2.1702331254900744.\u001b[0m\n"
     ]
    },
    {
     "name": "stdout",
     "output_type": "stream",
     "text": [
      "Stopped by overfitting detector  (100 iterations wait)\n",
      "\n",
      "bestTest = 2.213050289\n",
      "bestIteration = 80\n",
      "\n",
      "Shrink model to first 81 iterations.\n",
      "0:\tlearn: 2.7944364\ttest: 2.7944364\ttest1: 2.7120976\tbest: 2.7120976 (0)\ttotal: 87.4ms\tremaining: 14m 33s\n",
      "100:\tlearn: 1.9404310\ttest: 1.9404310\ttest1: 2.2234014\tbest: 2.2234014 (100)\ttotal: 8.48s\tremaining: 13m 51s\n"
     ]
    },
    {
     "name": "stderr",
     "output_type": "stream",
     "text": [
      "\u001b[32m[I 2021-07-30 14:37:02,381]\u001b[0m Trial 38 finished with value: -2.223379936351454 and parameters: {'colsample_bylevel': 0.08076174288517832, 'depth': 9, 'boosting_type': 'Plain', 'bootstrap_type': 'MVS', 'l2_leaf_reg': 19.563746934543236, 'random_strength': 4.128095969870436}. Best is trial 12 with value: -2.1702331254900744.\u001b[0m\n"
     ]
    },
    {
     "name": "stdout",
     "output_type": "stream",
     "text": [
      "200:\tlearn: 1.8740379\ttest: 1.8740379\ttest1: 2.2321004\tbest: 2.2234014 (100)\ttotal: 17s\tremaining: 13m 50s\n",
      "Stopped by overfitting detector  (100 iterations wait)\n",
      "\n",
      "bestTest = 2.22340138\n",
      "bestIteration = 100\n",
      "\n",
      "Shrink model to first 101 iterations.\n",
      "0:\tlearn: 2.7796021\ttest: 2.7796021\ttest1: 2.7024320\tbest: 2.7024320 (0)\ttotal: 118ms\tremaining: 19m 41s\n",
      "100:\tlearn: 1.9698983\ttest: 1.9698983\ttest1: 2.2240397\tbest: 2.2238653 (99)\ttotal: 11.8s\tremaining: 19m 14s\n",
      "200:\tlearn: 1.8993770\ttest: 1.8993770\ttest1: 2.2156408\tbest: 2.2156408 (200)\ttotal: 23.9s\tremaining: 19m 26s\n",
      "300:\tlearn: 1.8567053\ttest: 1.8567053\ttest1: 2.2121025\tbest: 2.2092860 (282)\ttotal: 36s\tremaining: 19m 19s\n",
      "400:\tlearn: 1.8357894\ttest: 1.8357894\ttest1: 2.2130519\tbest: 2.2066686 (316)\ttotal: 48.1s\tremaining: 19m 10s\n",
      "Stopped by overfitting detector  (100 iterations wait)\n",
      "\n",
      "bestTest = 2.206668644\n",
      "bestIteration = 316\n",
      "\n",
      "Shrink model to first 317 iterations.\n"
     ]
    },
    {
     "name": "stderr",
     "output_type": "stream",
     "text": [
      "\u001b[32m[I 2021-07-30 14:37:53,139]\u001b[0m Trial 39 finished with value: -2.204391873663079 and parameters: {'colsample_bylevel': 0.09978521572677702, 'depth': 8, 'boosting_type': 'Ordered', 'bootstrap_type': 'MVS', 'l2_leaf_reg': 11.226926533869626, 'random_strength': 5.68320155338365}. Best is trial 12 with value: -2.1702331254900744.\u001b[0m\n"
     ]
    },
    {
     "name": "stdout",
     "output_type": "stream",
     "text": [
      "0:\tlearn: 2.8127483\ttest: 2.8127483\ttest1: 2.7403545\tbest: 2.7403545 (0)\ttotal: 74.9ms\tremaining: 12m 29s\n",
      "100:\tlearn: 2.0929212\ttest: 2.0929212\ttest1: 2.2297012\tbest: 2.2297012 (100)\ttotal: 6.78s\tremaining: 11m 4s\n",
      "200:\tlearn: 2.0242675\ttest: 2.0242675\ttest1: 2.2184303\tbest: 2.2172092 (198)\ttotal: 13.5s\tremaining: 10m 58s\n",
      "300:\tlearn: 1.9824992\ttest: 1.9824992\ttest1: 2.2185412\tbest: 2.2164211 (252)\ttotal: 20.3s\tremaining: 10m 53s\n"
     ]
    },
    {
     "name": "stderr",
     "output_type": "stream",
     "text": [
      "\u001b[32m[I 2021-07-30 14:38:17,444]\u001b[0m Trial 40 finished with value: -2.21630792284525 and parameters: {'colsample_bylevel': 0.019578910770938658, 'depth': 6, 'boosting_type': 'Plain', 'bootstrap_type': 'MVS', 'l2_leaf_reg': 18.445563448022938, 'random_strength': 9.94937359112393}. Best is trial 12 with value: -2.1702331254900744.\u001b[0m\n"
     ]
    },
    {
     "name": "stdout",
     "output_type": "stream",
     "text": [
      "Stopped by overfitting detector  (100 iterations wait)\n",
      "\n",
      "bestTest = 2.216421104\n",
      "bestIteration = 252\n",
      "\n",
      "Shrink model to first 253 iterations.\n",
      "0:\tlearn: 2.7713409\ttest: 2.7713409\ttest1: 2.6996835\tbest: 2.6996835 (0)\ttotal: 134ms\tremaining: 22m 24s\n",
      "100:\tlearn: 1.8886063\ttest: 1.8886063\ttest1: 2.2124395\tbest: 2.1851349 (16)\ttotal: 16.7s\tremaining: 27m 16s\n"
     ]
    },
    {
     "name": "stderr",
     "output_type": "stream",
     "text": [
      "\u001b[32m[I 2021-07-30 14:38:37,455]\u001b[0m Trial 41 finished with value: -2.185135936487897 and parameters: {'colsample_bylevel': 0.0945079775172846, 'depth': 10, 'boosting_type': 'Ordered', 'bootstrap_type': 'MVS', 'l2_leaf_reg': 19.25256943868833, 'random_strength': 0.7830245960249685}. Best is trial 12 with value: -2.1702331254900744.\u001b[0m\n"
     ]
    },
    {
     "name": "stdout",
     "output_type": "stream",
     "text": [
      "Stopped by overfitting detector  (100 iterations wait)\n",
      "\n",
      "bestTest = 2.185134937\n",
      "bestIteration = 16\n",
      "\n",
      "Shrink model to first 17 iterations.\n",
      "0:\tlearn: 2.7944897\ttest: 2.7944897\ttest1: 2.7137704\tbest: 2.7137704 (0)\ttotal: 186ms\tremaining: 31m 1s\n",
      "100:\tlearn: 1.8880371\ttest: 1.8880371\ttest1: 2.2012376\tbest: 2.1756255 (18)\ttotal: 16.3s\tremaining: 26m 39s\n"
     ]
    },
    {
     "name": "stderr",
     "output_type": "stream",
     "text": [
      "\u001b[32m[I 2021-07-30 14:38:57,287]\u001b[0m Trial 42 finished with value: -2.1756264520598467 and parameters: {'colsample_bylevel': 0.09166471683050582, 'depth': 10, 'boosting_type': 'Ordered', 'bootstrap_type': 'MVS', 'l2_leaf_reg': 18.734749432473723, 'random_strength': 0.06012908964706132}. Best is trial 12 with value: -2.1702331254900744.\u001b[0m\n"
     ]
    },
    {
     "name": "stdout",
     "output_type": "stream",
     "text": [
      "Stopped by overfitting detector  (100 iterations wait)\n",
      "\n",
      "bestTest = 2.175625453\n",
      "bestIteration = 18\n",
      "\n",
      "Shrink model to first 19 iterations.\n",
      "0:\tlearn: 2.7962114\ttest: 2.7962114\ttest1: 2.7186120\tbest: 2.7186120 (0)\ttotal: 124ms\tremaining: 20m 43s\n",
      "100:\tlearn: 1.8922126\ttest: 1.8922126\ttest1: 2.1907877\tbest: 2.1807498 (15)\ttotal: 13.6s\tremaining: 22m 8s\n"
     ]
    },
    {
     "name": "stderr",
     "output_type": "stream",
     "text": [
      "\u001b[32m[I 2021-07-30 14:39:13,457]\u001b[0m Trial 43 finished with value: -2.1807508148427193 and parameters: {'colsample_bylevel': 0.08958667235332114, 'depth': 9, 'boosting_type': 'Ordered', 'bootstrap_type': 'MVS', 'l2_leaf_reg': 19.993534997370887, 'random_strength': 0.03570563092669805}. Best is trial 12 with value: -2.1702331254900744.\u001b[0m\n"
     ]
    },
    {
     "name": "stdout",
     "output_type": "stream",
     "text": [
      "Stopped by overfitting detector  (100 iterations wait)\n",
      "\n",
      "bestTest = 2.180749816\n",
      "bestIteration = 15\n",
      "\n",
      "Shrink model to first 16 iterations.\n",
      "0:\tlearn: 2.7668339\ttest: 2.7668339\ttest1: 2.6903061\tbest: 2.6903061 (0)\ttotal: 199ms\tremaining: 33m 10s\n",
      "100:\tlearn: 1.8813509\ttest: 1.8813509\ttest1: 2.1883587\tbest: 2.1788041 (15)\ttotal: 16.4s\tremaining: 26m 43s\n"
     ]
    },
    {
     "name": "stderr",
     "output_type": "stream",
     "text": [
      "\u001b[32m[I 2021-07-30 14:39:32,848]\u001b[0m Trial 44 finished with value: -2.1788050713087057 and parameters: {'colsample_bylevel': 0.09284702102736098, 'depth': 10, 'boosting_type': 'Ordered', 'bootstrap_type': 'MVS', 'l2_leaf_reg': 16.179093388538018, 'random_strength': 0.756478454040872}. Best is trial 12 with value: -2.1702331254900744.\u001b[0m\n"
     ]
    },
    {
     "name": "stdout",
     "output_type": "stream",
     "text": [
      "Stopped by overfitting detector  (100 iterations wait)\n",
      "\n",
      "bestTest = 2.178804072\n",
      "bestIteration = 15\n",
      "\n",
      "Shrink model to first 16 iterations.\n",
      "0:\tlearn: 2.7923497\ttest: 2.7923497\ttest1: 2.7188879\tbest: 2.7188879 (0)\ttotal: 188ms\tremaining: 31m 18s\n",
      "100:\tlearn: 1.9077534\ttest: 1.9077534\ttest1: 2.2054703\tbest: 2.2054703 (100)\ttotal: 16.3s\tremaining: 26m 37s\n",
      "200:\tlearn: 1.8384594\ttest: 1.8384594\ttest1: 2.2073493\tbest: 2.2022028 (162)\ttotal: 32.9s\tremaining: 26m 45s\n"
     ]
    },
    {
     "name": "stderr",
     "output_type": "stream",
     "text": [
      "\u001b[32m[I 2021-07-30 14:40:16,779]\u001b[0m Trial 45 finished with value: -2.2015003614392428 and parameters: {'colsample_bylevel': 0.09997136526418783, 'depth': 10, 'boosting_type': 'Ordered', 'bootstrap_type': 'MVS', 'l2_leaf_reg': 15.888794035900489, 'random_strength': 2.583614505162182}. Best is trial 12 with value: -2.1702331254900744.\u001b[0m\n"
     ]
    },
    {
     "name": "stdout",
     "output_type": "stream",
     "text": [
      "Stopped by overfitting detector  (100 iterations wait)\n",
      "\n",
      "bestTest = 2.202202754\n",
      "bestIteration = 162\n",
      "\n",
      "Shrink model to first 163 iterations.\n",
      "0:\tlearn: 2.7741204\ttest: 2.7741204\ttest1: 2.7099835\tbest: 2.7099835 (0)\ttotal: 120ms\tremaining: 19m 54s\n",
      "100:\tlearn: 1.9206143\ttest: 1.9206143\ttest1: 2.2150621\tbest: 2.1989338 (23)\ttotal: 12.9s\tremaining: 20m 59s\n"
     ]
    },
    {
     "name": "stderr",
     "output_type": "stream",
     "text": [
      "\u001b[32m[I 2021-07-30 14:40:33,146]\u001b[0m Trial 46 finished with value: -2.1989348454628117 and parameters: {'colsample_bylevel': 0.08011025562450545, 'depth': 9, 'boosting_type': 'Ordered', 'bootstrap_type': 'MVS', 'l2_leaf_reg': 13.537461429122832, 'random_strength': 1.3782280523357517}. Best is trial 12 with value: -2.1702331254900744.\u001b[0m\n"
     ]
    },
    {
     "name": "stdout",
     "output_type": "stream",
     "text": [
      "Stopped by overfitting detector  (100 iterations wait)\n",
      "\n",
      "bestTest = 2.198933846\n",
      "bestIteration = 23\n",
      "\n",
      "Shrink model to first 24 iterations.\n",
      "0:\tlearn: 2.7990512\ttest: 2.7990512\ttest1: 2.7240214\tbest: 2.7240214 (0)\ttotal: 84.1ms\tremaining: 14m\n",
      "100:\tlearn: 1.9569107\ttest: 1.9569107\ttest1: 2.2125873\tbest: 2.2125873 (100)\ttotal: 8.15s\tremaining: 13m 18s\n",
      "200:\tlearn: 1.8925198\ttest: 1.8925198\ttest1: 2.2062679\tbest: 2.2062679 (200)\ttotal: 16.4s\tremaining: 13m 17s\n",
      "300:\tlearn: 1.8507135\ttest: 1.8507135\ttest1: 2.2030023\tbest: 2.1978366 (261)\ttotal: 24.6s\tremaining: 13m 13s\n",
      "Stopped by overfitting detector  (100 iterations wait)\n",
      "\n",
      "bestTest = 2.197836585\n",
      "bestIteration = 261\n",
      "\n",
      "Shrink model to first 262 iterations.\n"
     ]
    },
    {
     "name": "stderr",
     "output_type": "stream",
     "text": [
      "\u001b[32m[I 2021-07-30 14:41:03,471]\u001b[0m Trial 47 finished with value: -2.1965152723425057 and parameters: {'colsample_bylevel': 0.09596201556299161, 'depth': 8, 'boosting_type': 'Plain', 'bootstrap_type': 'MVS', 'l2_leaf_reg': 16.476550321042417, 'random_strength': 5.110238570121757}. Best is trial 12 with value: -2.1702331254900744.\u001b[0m\n"
     ]
    },
    {
     "name": "stdout",
     "output_type": "stream",
     "text": [
      "0:\tlearn: 2.7987392\ttest: 2.7987392\ttest1: 2.7280497\tbest: 2.7280497 (0)\ttotal: 115ms\tremaining: 19m 13s\n",
      "100:\tlearn: 1.9278701\ttest: 1.9278701\ttest1: 2.2072056\tbest: 2.2062415 (90)\ttotal: 10.7s\tremaining: 17m 33s\n",
      "200:\tlearn: 1.8662743\ttest: 1.8662743\ttest1: 2.2021173\tbest: 2.1964333 (151)\ttotal: 21.4s\tremaining: 17m 23s\n",
      "300:\tlearn: 1.8324346\ttest: 1.8324346\ttest1: 2.2079975\tbest: 2.1963005 (236)\ttotal: 32s\tremaining: 17m 10s\n"
     ]
    },
    {
     "name": "stderr",
     "output_type": "stream",
     "text": [
      "\u001b[32m[I 2021-07-30 14:41:40,010]\u001b[0m Trial 48 finished with value: -2.195141610486859 and parameters: {'colsample_bylevel': 0.07480592797844587, 'depth': 9, 'boosting_type': 'Ordered', 'bootstrap_type': 'Bernoulli', 'l2_leaf_reg': 15.335092985721168, 'random_strength': 0.7966092818102057, 'subsample': 0.40733942369030046}. Best is trial 12 with value: -2.1702331254900744.\u001b[0m\n"
     ]
    },
    {
     "name": "stdout",
     "output_type": "stream",
     "text": [
      "Stopped by overfitting detector  (100 iterations wait)\n",
      "\n",
      "bestTest = 2.196300491\n",
      "bestIteration = 236\n",
      "\n",
      "Shrink model to first 237 iterations.\n",
      "0:\tlearn: 2.8057041\ttest: 2.8057041\ttest1: 2.7297831\tbest: 2.7297831 (0)\ttotal: 149ms\tremaining: 24m 52s\n",
      "100:\tlearn: 1.9577880\ttest: 1.9577880\ttest1: 2.2242633\tbest: 2.2175150 (63)\ttotal: 13.6s\tremaining: 22m 15s\n"
     ]
    },
    {
     "name": "stderr",
     "output_type": "stream",
     "text": [
      "\u001b[32m[I 2021-07-30 14:42:03,060]\u001b[0m Trial 49 finished with value: -2.217459320186739 and parameters: {'colsample_bylevel': 0.05989839099056976, 'depth': 10, 'boosting_type': 'Ordered', 'bootstrap_type': 'MVS', 'l2_leaf_reg': 14.313159733752842, 'random_strength': 7.646188738505515}. Best is trial 12 with value: -2.1702331254900744.\u001b[0m\n"
     ]
    },
    {
     "name": "stdout",
     "output_type": "stream",
     "text": [
      "Stopped by overfitting detector  (100 iterations wait)\n",
      "\n",
      "bestTest = 2.217514981\n",
      "bestIteration = 63\n",
      "\n",
      "Shrink model to first 64 iterations.\n",
      "0:\tlearn: 2.7920096\ttest: 2.7920096\ttest1: 2.7062538\tbest: 2.7062538 (0)\ttotal: 113ms\tremaining: 18m 50s\n",
      "100:\tlearn: 1.9358546\ttest: 1.9358546\ttest1: 2.1998624\tbest: 2.1948628 (19)\ttotal: 11.7s\tremaining: 19m 5s\n"
     ]
    },
    {
     "name": "stderr",
     "output_type": "stream",
     "text": [
      "\u001b[32m[I 2021-07-30 14:42:17,481]\u001b[0m Trial 50 finished with value: -2.1948638082925545 and parameters: {'colsample_bylevel': 0.08664350782079977, 'depth': 8, 'boosting_type': 'Ordered', 'bootstrap_type': 'MVS', 'l2_leaf_reg': 18.508414065384283, 'random_strength': 1.7856504503599302}. Best is trial 12 with value: -2.1702331254900744.\u001b[0m\n"
     ]
    },
    {
     "name": "stdout",
     "output_type": "stream",
     "text": [
      "Stopped by overfitting detector  (100 iterations wait)\n",
      "\n",
      "bestTest = 2.194862809\n",
      "bestIteration = 19\n",
      "\n",
      "Shrink model to first 20 iterations.\n",
      "0:\tlearn: 2.7665401\ttest: 2.7665401\ttest1: 2.6954449\tbest: 2.6954449 (0)\ttotal: 194ms\tremaining: 32m 19s\n",
      "100:\tlearn: 1.8757503\ttest: 1.8757503\ttest1: 2.1941624\tbest: 2.1821706 (19)\ttotal: 16.4s\tremaining: 26m 50s\n"
     ]
    },
    {
     "name": "stderr",
     "output_type": "stream",
     "text": [
      "\u001b[32m[I 2021-07-30 14:42:37,618]\u001b[0m Trial 51 finished with value: -2.1821715999881324 and parameters: {'colsample_bylevel': 0.092628968370559, 'depth': 10, 'boosting_type': 'Ordered', 'bootstrap_type': 'MVS', 'l2_leaf_reg': 17.962608975552463, 'random_strength': 0.05736248526670362}. Best is trial 12 with value: -2.1702331254900744.\u001b[0m\n"
     ]
    },
    {
     "name": "stdout",
     "output_type": "stream",
     "text": [
      "Stopped by overfitting detector  (100 iterations wait)\n",
      "\n",
      "bestTest = 2.182170601\n",
      "bestIteration = 19\n",
      "\n",
      "Shrink model to first 20 iterations.\n",
      "0:\tlearn: 2.7891895\ttest: 2.7891895\ttest1: 2.7030690\tbest: 2.7030690 (0)\ttotal: 167ms\tremaining: 27m 52s\n",
      "100:\tlearn: 1.8905117\ttest: 1.8905117\ttest1: 2.1981632\tbest: 2.1860299 (15)\ttotal: 16.2s\tremaining: 26m 29s\n"
     ]
    },
    {
     "name": "stderr",
     "output_type": "stream",
     "text": [
      "\u001b[32m[I 2021-07-30 14:42:56,730]\u001b[0m Trial 52 finished with value: -2.1860309186171203 and parameters: {'colsample_bylevel': 0.09062815431506122, 'depth': 10, 'boosting_type': 'Ordered', 'bootstrap_type': 'MVS', 'l2_leaf_reg': 16.667271310290374, 'random_strength': 1.0200444545078409}. Best is trial 12 with value: -2.1702331254900744.\u001b[0m\n"
     ]
    },
    {
     "name": "stdout",
     "output_type": "stream",
     "text": [
      "Stopped by overfitting detector  (100 iterations wait)\n",
      "\n",
      "bestTest = 2.18602992\n",
      "bestIteration = 15\n",
      "\n",
      "Shrink model to first 16 iterations.\n",
      "0:\tlearn: 2.7648275\ttest: 2.7648275\ttest1: 2.7024904\tbest: 2.7024904 (0)\ttotal: 163ms\tremaining: 27m 7s\n",
      "100:\tlearn: 1.8787098\ttest: 1.8787098\ttest1: 2.1930701\tbest: 2.1771471 (16)\ttotal: 16.6s\tremaining: 27m 6s\n"
     ]
    },
    {
     "name": "stderr",
     "output_type": "stream",
     "text": [
      "\u001b[32m[I 2021-07-30 14:43:16,645]\u001b[0m Trial 53 finished with value: -2.1771480957726266 and parameters: {'colsample_bylevel': 0.09550196077434114, 'depth': 10, 'boosting_type': 'Ordered', 'bootstrap_type': 'MVS', 'l2_leaf_reg': 14.749782084944837, 'random_strength': 0.4688347226418637}. Best is trial 12 with value: -2.1702331254900744.\u001b[0m\n"
     ]
    },
    {
     "name": "stdout",
     "output_type": "stream",
     "text": [
      "Stopped by overfitting detector  (100 iterations wait)\n",
      "\n",
      "bestTest = 2.177147097\n",
      "bestIteration = 16\n",
      "\n",
      "Shrink model to first 17 iterations.\n",
      "0:\tlearn: 2.7675637\ttest: 2.7675637\ttest1: 2.6945387\tbest: 2.6945387 (0)\ttotal: 128ms\tremaining: 21m 21s\n",
      "100:\tlearn: 1.9037631\ttest: 1.9037631\ttest1: 2.1978119\tbest: 2.1845324 (17)\ttotal: 13.6s\tremaining: 22m 10s\n"
     ]
    },
    {
     "name": "stderr",
     "output_type": "stream",
     "text": [
      "\u001b[32m[I 2021-07-30 14:43:33,102]\u001b[0m Trial 54 finished with value: -2.1845334348338774 and parameters: {'colsample_bylevel': 0.09589469889524461, 'depth': 9, 'boosting_type': 'Ordered', 'bootstrap_type': 'MVS', 'l2_leaf_reg': 15.103105493181564, 'random_strength': 0.07530622119150004}. Best is trial 12 with value: -2.1702331254900744.\u001b[0m\n"
     ]
    },
    {
     "name": "stdout",
     "output_type": "stream",
     "text": [
      "Stopped by overfitting detector  (100 iterations wait)\n",
      "\n",
      "bestTest = 2.184532436\n",
      "bestIteration = 17\n",
      "\n",
      "Shrink model to first 18 iterations.\n",
      "0:\tlearn: 2.7852483\ttest: 2.7852483\ttest1: 2.7139536\tbest: 2.7139536 (0)\ttotal: 177ms\tremaining: 29m 26s\n",
      "100:\tlearn: 1.9032786\ttest: 1.9032786\ttest1: 2.2087208\tbest: 2.1923423 (20)\ttotal: 15.5s\tremaining: 25m 16s\n"
     ]
    },
    {
     "name": "stderr",
     "output_type": "stream",
     "text": [
      "\u001b[32m[I 2021-07-30 14:43:52,270]\u001b[0m Trial 55 finished with value: -2.1923323588238985 and parameters: {'colsample_bylevel': 0.08488862475747609, 'depth': 10, 'boosting_type': 'Ordered', 'bootstrap_type': 'MVS', 'l2_leaf_reg': 12.835881436050443, 'random_strength': 1.2112346426159972}. Best is trial 12 with value: -2.1702331254900744.\u001b[0m\n"
     ]
    },
    {
     "name": "stdout",
     "output_type": "stream",
     "text": [
      "Stopped by overfitting detector  (100 iterations wait)\n",
      "\n",
      "bestTest = 2.19234235\n",
      "bestIteration = 20\n",
      "\n",
      "Shrink model to first 21 iterations.\n",
      "0:\tlearn: 2.8228675\ttest: 2.8228675\ttest1: 2.7536758\tbest: 2.7536758 (0)\ttotal: 73.6ms\tremaining: 12m 15s\n",
      "100:\tlearn: 1.9735013\ttest: 1.9735013\ttest1: 2.2158936\tbest: 2.2153425 (91)\ttotal: 9.06s\tremaining: 14m 47s\n",
      "200:\tlearn: 1.9167416\ttest: 1.9167416\ttest1: 2.2132789\tbest: 2.2085216 (152)\ttotal: 18.1s\tremaining: 14m 42s\n",
      "300:\tlearn: 1.8785226\ttest: 1.8785226\ttest1: 2.2001011\tbest: 2.2000337 (299)\ttotal: 27.2s\tremaining: 14m 36s\n"
     ]
    },
    {
     "name": "stderr",
     "output_type": "stream",
     "text": [
      "\u001b[32m[I 2021-07-30 14:44:29,106]\u001b[0m Trial 56 finished with value: -2.19895584996906 and parameters: {'colsample_bylevel': 0.09947890225811397, 'depth': 7, 'boosting_type': 'Ordered', 'bootstrap_type': 'Bernoulli', 'l2_leaf_reg': 14.254584128059495, 'random_strength': 2.8978856703412745, 'subsample': 0.42671335890300055}. Best is trial 12 with value: -2.1702331254900744.\u001b[0m\n"
     ]
    },
    {
     "name": "stdout",
     "output_type": "stream",
     "text": [
      "Stopped by overfitting detector  (100 iterations wait)\n",
      "\n",
      "bestTest = 2.200033704\n",
      "bestIteration = 299\n",
      "\n",
      "Shrink model to first 300 iterations.\n",
      "0:\tlearn: 2.7696908\ttest: 2.7696908\ttest1: 2.7037149\tbest: 2.7037149 (0)\ttotal: 169ms\tremaining: 28m 5s\n",
      "100:\tlearn: 1.9386929\ttest: 1.9386929\ttest1: 2.2267790\tbest: 2.2258389 (97)\ttotal: 14.1s\tremaining: 23m 2s\n",
      "200:\tlearn: 1.8583672\ttest: 1.8583672\ttest1: 2.2298899\tbest: 2.2229426 (113)\ttotal: 29.4s\tremaining: 23m 53s\n"
     ]
    },
    {
     "name": "stderr",
     "output_type": "stream",
     "text": [
      "\u001b[32m[I 2021-07-30 14:45:01,205]\u001b[0m Trial 57 finished with value: -2.2227373016037384 and parameters: {'colsample_bylevel': 0.08175463007014859, 'depth': 10, 'boosting_type': 'Ordered', 'bootstrap_type': 'MVS', 'l2_leaf_reg': 16.23998876097107, 'random_strength': 7.009494213191999}. Best is trial 12 with value: -2.1702331254900744.\u001b[0m\n"
     ]
    },
    {
     "name": "stdout",
     "output_type": "stream",
     "text": [
      "Stopped by overfitting detector  (100 iterations wait)\n",
      "\n",
      "bestTest = 2.222942603\n",
      "bestIteration = 113\n",
      "\n",
      "Shrink model to first 114 iterations.\n",
      "0:\tlearn: 2.8098059\ttest: 2.8098059\ttest1: 2.7352456\tbest: 2.7352456 (0)\ttotal: 90.1ms\tremaining: 15m\n",
      "100:\tlearn: 2.0388925\ttest: 2.0388925\ttest1: 2.2273769\tbest: 2.2273769 (100)\ttotal: 9.55s\tremaining: 15m 35s\n",
      "200:\tlearn: 1.9738444\ttest: 1.9738444\ttest1: 2.2062440\tbest: 2.2061792 (197)\ttotal: 19s\tremaining: 15m 27s\n",
      "300:\tlearn: 1.9424010\ttest: 1.9424010\ttest1: 2.1959351\tbest: 2.1959351 (300)\ttotal: 28.8s\tremaining: 15m 26s\n",
      "400:\tlearn: 1.9230455\ttest: 1.9230455\ttest1: 2.1957388\tbest: 2.1936127 (332)\ttotal: 38.3s\tremaining: 15m 16s\n",
      "500:\tlearn: 1.9041489\ttest: 1.9041489\ttest1: 2.1861475\tbest: 2.1858523 (443)\ttotal: 47.9s\tremaining: 15m 7s\n",
      "600:\tlearn: 1.8914991\ttest: 1.8914991\ttest1: 2.1877683\tbest: 2.1857488 (510)\ttotal: 57.4s\tremaining: 14m 57s\n"
     ]
    },
    {
     "name": "stderr",
     "output_type": "stream",
     "text": [
      "\u001b[32m[I 2021-07-30 14:46:00,199]\u001b[0m Trial 58 finished with value: -2.183607595305683 and parameters: {'colsample_bylevel': 0.08877929940015797, 'depth': 5, 'boosting_type': 'Ordered', 'bootstrap_type': 'MVS', 'l2_leaf_reg': 11.44968083905513, 'random_strength': 8.907705311521342}. Best is trial 12 with value: -2.1702331254900744.\u001b[0m\n"
     ]
    },
    {
     "name": "stdout",
     "output_type": "stream",
     "text": [
      "Stopped by overfitting detector  (100 iterations wait)\n",
      "\n",
      "bestTest = 2.185748795\n",
      "bestIteration = 510\n",
      "\n",
      "Shrink model to first 511 iterations.\n",
      "0:\tlearn: 2.8184675\ttest: 2.8184675\ttest1: 2.7512340\tbest: 2.7512340 (0)\ttotal: 85ms\tremaining: 14m 9s\n",
      "100:\tlearn: 2.0323629\ttest: 2.0323629\ttest1: 2.2050601\tbest: 2.2047600 (93)\ttotal: 8.93s\tremaining: 14m 35s\n",
      "200:\tlearn: 1.9852254\ttest: 1.9852254\ttest1: 2.1960160\tbest: 2.1911131 (161)\ttotal: 17.8s\tremaining: 14m 29s\n"
     ]
    },
    {
     "name": "stderr",
     "output_type": "stream",
     "text": [
      "\u001b[32m[I 2021-07-30 14:46:24,161]\u001b[0m Trial 59 finished with value: -2.1910013930875456 and parameters: {'colsample_bylevel': 0.09666005767726368, 'depth': 4, 'boosting_type': 'Ordered', 'bootstrap_type': 'MVS', 'l2_leaf_reg': 14.76907948886691, 'random_strength': 0.5980006164895254}. Best is trial 12 with value: -2.1702331254900744.\u001b[0m\n"
     ]
    },
    {
     "name": "stdout",
     "output_type": "stream",
     "text": [
      "Stopped by overfitting detector  (100 iterations wait)\n",
      "\n",
      "bestTest = 2.19111314\n",
      "bestIteration = 161\n",
      "\n",
      "Shrink model to first 162 iterations.\n",
      "0:\tlearn: 2.7990187\ttest: 2.7990187\ttest1: 2.7239880\tbest: 2.7239880 (0)\ttotal: 131ms\tremaining: 21m 53s\n",
      "100:\tlearn: 1.9441350\ttest: 1.9441350\ttest1: 2.2115142\tbest: 2.2105084 (94)\ttotal: 12.5s\tremaining: 20m 22s\n",
      "200:\tlearn: 1.8709335\ttest: 1.8709335\ttest1: 2.2159345\tbest: 2.2066956 (153)\ttotal: 24.9s\tremaining: 20m 12s\n"
     ]
    },
    {
     "name": "stderr",
     "output_type": "stream",
     "text": [
      "\u001b[32m[I 2021-07-30 14:46:56,433]\u001b[0m Trial 60 finished with value: -2.2061552798368083 and parameters: {'colsample_bylevel': 0.06664826202360949, 'depth': 9, 'boosting_type': 'Ordered', 'bootstrap_type': 'MVS', 'l2_leaf_reg': 17.393647961219568, 'random_strength': 3.5153497845034654}. Best is trial 12 with value: -2.1702331254900744.\u001b[0m\n"
     ]
    },
    {
     "name": "stdout",
     "output_type": "stream",
     "text": [
      "Stopped by overfitting detector  (100 iterations wait)\n",
      "\n",
      "bestTest = 2.206695592\n",
      "bestIteration = 153\n",
      "\n",
      "Shrink model to first 154 iterations.\n",
      "0:\tlearn: 2.7638711\ttest: 2.7638711\ttest1: 2.7036050\tbest: 2.7036050 (0)\ttotal: 310ms\tremaining: 51m 41s\n",
      "100:\tlearn: 1.8778326\ttest: 1.8778326\ttest1: 2.2016682\tbest: 2.1786778 (19)\ttotal: 16.8s\tremaining: 27m 23s\n"
     ]
    },
    {
     "name": "stderr",
     "output_type": "stream",
     "text": [
      "\u001b[32m[I 2021-07-30 14:47:16,829]\u001b[0m Trial 61 finished with value: -2.178678812083 and parameters: {'colsample_bylevel': 0.09319670010329426, 'depth': 10, 'boosting_type': 'Ordered', 'bootstrap_type': 'MVS', 'l2_leaf_reg': 19.990618166366243, 'random_strength': 0.4499726540176512}. Best is trial 12 with value: -2.1702331254900744.\u001b[0m\n"
     ]
    },
    {
     "name": "stdout",
     "output_type": "stream",
     "text": [
      "Stopped by overfitting detector  (100 iterations wait)\n",
      "\n",
      "bestTest = 2.178677813\n",
      "bestIteration = 19\n",
      "\n",
      "Shrink model to first 20 iterations.\n",
      "0:\tlearn: 2.7712973\ttest: 2.7712973\ttest1: 2.6997789\tbest: 2.6997789 (0)\ttotal: 127ms\tremaining: 21m 12s\n",
      "100:\tlearn: 1.8891079\ttest: 1.8891079\ttest1: 2.2093199\tbest: 2.1991062 (18)\ttotal: 16.3s\tremaining: 26m 35s\n"
     ]
    },
    {
     "name": "stderr",
     "output_type": "stream",
     "text": [
      "\u001b[32m[I 2021-07-30 14:47:36,562]\u001b[0m Trial 62 finished with value: -2.199107212457618 and parameters: {'colsample_bylevel': 0.09379140892565957, 'depth': 10, 'boosting_type': 'Ordered', 'bootstrap_type': 'MVS', 'l2_leaf_reg': 13.650244676175467, 'random_strength': 1.1072832948817144}. Best is trial 12 with value: -2.1702331254900744.\u001b[0m\n"
     ]
    },
    {
     "name": "stdout",
     "output_type": "stream",
     "text": [
      "Stopped by overfitting detector  (100 iterations wait)\n",
      "\n",
      "bestTest = 2.199106213\n",
      "bestIteration = 18\n",
      "\n",
      "Shrink model to first 19 iterations.\n",
      "0:\tlearn: 2.7759001\ttest: 2.7759001\ttest1: 2.6985910\tbest: 2.6985910 (0)\ttotal: 169ms\tremaining: 28m 8s\n",
      "100:\tlearn: 1.9002242\ttest: 1.9002242\ttest1: 2.2051842\tbest: 2.1915920 (19)\ttotal: 15.8s\tremaining: 25m 46s\n"
     ]
    },
    {
     "name": "stderr",
     "output_type": "stream",
     "text": [
      "\u001b[32m[I 2021-07-30 14:47:55,909]\u001b[0m Trial 63 finished with value: -2.191592980684971 and parameters: {'colsample_bylevel': 0.08875288801772502, 'depth': 10, 'boosting_type': 'Ordered', 'bootstrap_type': 'MVS', 'l2_leaf_reg': 18.322858840889555, 'random_strength': 1.7225332476813024}. Best is trial 12 with value: -2.1702331254900744.\u001b[0m\n"
     ]
    },
    {
     "name": "stdout",
     "output_type": "stream",
     "text": [
      "Stopped by overfitting detector  (100 iterations wait)\n",
      "\n",
      "bestTest = 2.191591981\n",
      "bestIteration = 19\n",
      "\n",
      "Shrink model to first 20 iterations.\n",
      "0:\tlearn: 2.7914676\ttest: 2.7914676\ttest1: 2.7156244\tbest: 2.7156244 (0)\ttotal: 153ms\tremaining: 25m 25s\n",
      "100:\tlearn: 1.9341429\ttest: 1.9341429\ttest1: 2.2182572\tbest: 2.2182572 (100)\ttotal: 14.8s\tremaining: 24m 8s\n"
     ]
    },
    {
     "name": "stderr",
     "output_type": "stream",
     "text": [
      "\u001b[32m[I 2021-07-30 14:48:26,669]\u001b[0m Trial 64 finished with value: -2.2181415086038174 and parameters: {'colsample_bylevel': 0.08242554325306446, 'depth': 10, 'boosting_type': 'Ordered', 'bootstrap_type': 'MVS', 'l2_leaf_reg': 19.971570731732328, 'random_strength': 5.6530432637106935}. Best is trial 12 with value: -2.1702331254900744.\u001b[0m\n"
     ]
    },
    {
     "name": "stdout",
     "output_type": "stream",
     "text": [
      "200:\tlearn: 1.8582984\ttest: 1.8582984\ttest1: 2.2260864\tbest: 2.2182572 (100)\ttotal: 30.2s\tremaining: 24m 30s\n",
      "Stopped by overfitting detector  (100 iterations wait)\n",
      "\n",
      "bestTest = 2.2182572\n",
      "bestIteration = 100\n",
      "\n",
      "Shrink model to first 101 iterations.\n",
      "0:\tlearn: 2.8228675\ttest: 2.8228675\ttest1: 2.7536758\tbest: 2.7536758 (0)\ttotal: 92.2ms\tremaining: 15m 22s\n",
      "100:\tlearn: 1.9423768\ttest: 1.9423768\ttest1: 2.2331502\tbest: 2.2331502 (100)\ttotal: 14.8s\tremaining: 24m 13s\n",
      "200:\tlearn: 1.8709842\ttest: 1.8709842\ttest1: 2.2186290\tbest: 2.2159249 (184)\ttotal: 29.7s\tremaining: 24m 6s\n",
      "300:\tlearn: 1.8228290\ttest: 1.8228290\ttest1: 2.2289165\tbest: 2.2119002 (218)\ttotal: 44.9s\tremaining: 24m 5s\n"
     ]
    },
    {
     "name": "stderr",
     "output_type": "stream",
     "text": [
      "\u001b[32m[I 2021-07-30 14:49:14,924]\u001b[0m Trial 65 finished with value: -2.2109069459797572 and parameters: {'colsample_bylevel': 0.09993069643214829, 'depth': 9, 'boosting_type': 'Ordered', 'bootstrap_type': 'Bernoulli', 'l2_leaf_reg': 15.767550112624805, 'random_strength': 4.790851039417436, 'subsample': 0.9952833233406955}. Best is trial 12 with value: -2.1702331254900744.\u001b[0m\n"
     ]
    },
    {
     "name": "stdout",
     "output_type": "stream",
     "text": [
      "Stopped by overfitting detector  (100 iterations wait)\n",
      "\n",
      "bestTest = 2.211900192\n",
      "bestIteration = 218\n",
      "\n",
      "Shrink model to first 219 iterations.\n",
      "0:\tlearn: 2.8184675\ttest: 2.8184675\ttest1: 2.7512340\tbest: 2.7512340 (0)\ttotal: 84.3ms\tremaining: 14m 2s\n",
      "100:\tlearn: 2.0353127\ttest: 2.0353127\ttest1: 2.1894001\tbest: 2.1886430 (92)\ttotal: 8.97s\tremaining: 14m 39s\n",
      "200:\tlearn: 1.9894151\ttest: 1.9894151\ttest1: 2.1832822\tbest: 2.1787340 (146)\ttotal: 17.9s\tremaining: 14m 30s\n",
      "Stopped by overfitting detector  (100 iterations wait)\n",
      "\n",
      "bestTest = 2.178734005\n",
      "bestIteration = 146\n",
      "\n",
      "Shrink model to first 147 iterations.\n"
     ]
    },
    {
     "name": "stderr",
     "output_type": "stream",
     "text": [
      "\u001b[32m[I 2021-07-30 14:49:37,609]\u001b[0m Trial 66 finished with value: -2.1786852840177535 and parameters: {'colsample_bylevel': 0.09625255836856775, 'depth': 4, 'boosting_type': 'Ordered', 'bootstrap_type': 'MVS', 'l2_leaf_reg': 12.183886421108728, 'random_strength': 0.4174224167056972}. Best is trial 12 with value: -2.1702331254900744.\u001b[0m\n"
     ]
    },
    {
     "name": "stdout",
     "output_type": "stream",
     "text": [
      "0:\tlearn: 2.8188236\ttest: 2.8188236\ttest1: 2.7532357\tbest: 2.7532357 (0)\ttotal: 97.9ms\tremaining: 16m 18s\n",
      "100:\tlearn: 2.0939030\ttest: 2.0939030\ttest1: 2.2212089\tbest: 2.2166519 (73)\ttotal: 9.63s\tremaining: 15m 43s\n",
      "200:\tlearn: 2.0586609\ttest: 2.0586609\ttest1: 2.2085734\tbest: 2.2077366 (194)\ttotal: 19.1s\tremaining: 15m 33s\n",
      "300:\tlearn: 2.0472780\ttest: 2.0472780\ttest1: 2.2051656\tbest: 2.2046559 (226)\ttotal: 28.6s\tremaining: 15m 21s\n",
      "400:\tlearn: 2.0372155\ttest: 2.0372155\ttest1: 2.2055815\tbest: 2.2026693 (357)\ttotal: 38.3s\tremaining: 15m 15s\n"
     ]
    },
    {
     "name": "stderr",
     "output_type": "stream",
     "text": [
      "\u001b[32m[I 2021-07-30 14:50:21,907]\u001b[0m Trial 67 finished with value: -2.2025999209534532 and parameters: {'colsample_bylevel': 0.09719289325093272, 'depth': 4, 'boosting_type': 'Ordered', 'bootstrap_type': 'Bayesian', 'l2_leaf_reg': 12.22727146786707, 'random_strength': 0.18414867204607666, 'bagging_temperature': 6.704610150115918}. Best is trial 12 with value: -2.1702331254900744.\u001b[0m\n"
     ]
    },
    {
     "name": "stdout",
     "output_type": "stream",
     "text": [
      "Stopped by overfitting detector  (100 iterations wait)\n",
      "\n",
      "bestTest = 2.202669328\n",
      "bestIteration = 357\n",
      "\n",
      "Shrink model to first 358 iterations.\n",
      "0:\tlearn: 2.8174940\ttest: 2.8174940\ttest1: 2.7429263\tbest: 2.7429263 (0)\ttotal: 68.3ms\tremaining: 11m 22s\n",
      "100:\tlearn: 2.0328319\ttest: 2.0328319\ttest1: 2.1997548\tbest: 2.1997548 (100)\ttotal: 6.7s\tremaining: 10m 56s\n",
      "200:\tlearn: 1.9863398\ttest: 1.9863398\ttest1: 2.1894717\tbest: 2.1877812 (171)\ttotal: 13.3s\tremaining: 10m 47s\n",
      "300:\tlearn: 1.9644239\ttest: 1.9644239\ttest1: 2.1897647\tbest: 2.1871566 (252)\ttotal: 19.9s\tremaining: 10m 41s\n"
     ]
    },
    {
     "name": "stderr",
     "output_type": "stream",
     "text": [
      "\u001b[32m[I 2021-07-30 14:50:45,800]\u001b[0m Trial 68 finished with value: -2.187130786332679 and parameters: {'colsample_bylevel': 0.08709874577591128, 'depth': 4, 'boosting_type': 'Plain', 'bootstrap_type': 'MVS', 'l2_leaf_reg': 13.242503510680699, 'random_strength': 0.453974471009755}. Best is trial 12 with value: -2.1702331254900744.\u001b[0m\n"
     ]
    },
    {
     "name": "stdout",
     "output_type": "stream",
     "text": [
      "Stopped by overfitting detector  (100 iterations wait)\n",
      "\n",
      "bestTest = 2.187156585\n",
      "bestIteration = 252\n",
      "\n",
      "Shrink model to first 253 iterations.\n",
      "0:\tlearn: 2.8042123\ttest: 2.8042123\ttest1: 2.7265886\tbest: 2.7265886 (0)\ttotal: 106ms\tremaining: 17m 40s\n",
      "100:\tlearn: 2.0232496\ttest: 2.0232496\ttest1: 2.1880312\tbest: 2.1880312 (100)\ttotal: 10.1s\tremaining: 16m 33s\n",
      "200:\tlearn: 1.9904472\ttest: 1.9904472\ttest1: 2.1796927\tbest: 2.1780920 (175)\ttotal: 20.3s\tremaining: 16m 28s\n",
      "300:\tlearn: 1.9767381\ttest: 1.9767381\ttest1: 2.1818547\tbest: 2.1779592 (217)\ttotal: 30.3s\tremaining: 16m 16s\n"
     ]
    },
    {
     "name": "stderr",
     "output_type": "stream",
     "text": [
      "\u001b[32m[I 2021-07-30 14:51:18,412]\u001b[0m Trial 69 finished with value: -2.1779157281616293 and parameters: {'colsample_bylevel': 0.07913265690450391, 'depth': 5, 'boosting_type': 'Ordered', 'bootstrap_type': 'Bayesian', 'l2_leaf_reg': 10.739741899613016, 'random_strength': 2.2174140481612348, 'bagging_temperature': 4.6806250771295534}. Best is trial 12 with value: -2.1702331254900744.\u001b[0m\n"
     ]
    },
    {
     "name": "stdout",
     "output_type": "stream",
     "text": [
      "Stopped by overfitting detector  (100 iterations wait)\n",
      "\n",
      "bestTest = 2.177959166\n",
      "bestIteration = 217\n",
      "\n",
      "Shrink model to first 218 iterations.\n",
      "0:\tlearn: 2.7947146\ttest: 2.7947146\ttest1: 2.7163560\tbest: 2.7163560 (0)\ttotal: 98.4ms\tremaining: 16m 23s\n",
      "100:\tlearn: 2.0798316\ttest: 2.0798316\ttest1: 2.2201983\tbest: 2.2189168 (96)\ttotal: 10.2s\tremaining: 16m 35s\n",
      "200:\tlearn: 2.0585520\ttest: 2.0585520\ttest1: 2.2192490\tbest: 2.2154299 (163)\ttotal: 20.1s\tremaining: 16m 20s\n",
      "300:\tlearn: 2.0361345\ttest: 2.0361345\ttest1: 2.2115231\tbest: 2.2109582 (297)\ttotal: 30s\tremaining: 16m 6s\n",
      "400:\tlearn: 2.0224465\ttest: 2.0224465\ttest1: 2.2032168\tbest: 2.2031262 (397)\ttotal: 39.9s\tremaining: 15m 54s\n",
      "500:\tlearn: 2.0118710\ttest: 2.0118710\ttest1: 2.2043406\tbest: 2.2023290 (406)\ttotal: 49.7s\tremaining: 15m 42s\n"
     ]
    },
    {
     "name": "stderr",
     "output_type": "stream",
     "text": [
      "\u001b[32m[I 2021-07-30 14:52:09,342]\u001b[0m Trial 70 finished with value: -2.2020859356871094 and parameters: {'colsample_bylevel': 0.07640108461380285, 'depth': 5, 'boosting_type': 'Ordered', 'bootstrap_type': 'Bayesian', 'l2_leaf_reg': 10.423883126204023, 'random_strength': 2.0787265403422333, 'bagging_temperature': 7.973485850373382}. Best is trial 12 with value: -2.1702331254900744.\u001b[0m\n"
     ]
    },
    {
     "name": "stdout",
     "output_type": "stream",
     "text": [
      "Stopped by overfitting detector  (100 iterations wait)\n",
      "\n",
      "bestTest = 2.202329046\n",
      "bestIteration = 406\n",
      "\n",
      "Shrink model to first 407 iterations.\n",
      "0:\tlearn: 2.8076634\ttest: 2.8076634\ttest1: 2.7294839\tbest: 2.7294839 (0)\ttotal: 91.9ms\tremaining: 15m 19s\n",
      "100:\tlearn: 2.0497119\ttest: 2.0497119\ttest1: 2.2210090\tbest: 2.2200982 (93)\ttotal: 9.38s\tremaining: 15m 19s\n",
      "200:\tlearn: 2.0133073\ttest: 2.0133073\ttest1: 2.2141084\tbest: 2.2120310 (132)\ttotal: 18.7s\tremaining: 15m 9s\n"
     ]
    },
    {
     "name": "stderr",
     "output_type": "stream",
     "text": [
      "\u001b[32m[I 2021-07-30 14:52:31,538]\u001b[0m Trial 71 finished with value: -2.21201018771571 and parameters: {'colsample_bylevel': 0.07868556200708561, 'depth': 4, 'boosting_type': 'Ordered', 'bootstrap_type': 'Bayesian', 'l2_leaf_reg': 10.745148104033351, 'random_strength': 6.168115089158714, 'bagging_temperature': 4.735345111127613}. Best is trial 12 with value: -2.1702331254900744.\u001b[0m\n"
     ]
    },
    {
     "name": "stdout",
     "output_type": "stream",
     "text": [
      "Stopped by overfitting detector  (100 iterations wait)\n",
      "\n",
      "bestTest = 2.212030991\n",
      "bestIteration = 132\n",
      "\n",
      "Shrink model to first 133 iterations.\n",
      "0:\tlearn: 2.7986066\ttest: 2.7986066\ttest1: 2.7281528\tbest: 2.7281528 (0)\ttotal: 106ms\tremaining: 17m 35s\n",
      "100:\tlearn: 2.0518124\ttest: 2.0518124\ttest1: 2.1944286\tbest: 2.1937218 (90)\ttotal: 10.1s\tremaining: 16m 27s\n",
      "200:\tlearn: 2.0278805\ttest: 2.0278805\ttest1: 2.1915420\tbest: 2.1897846 (160)\ttotal: 20.1s\tremaining: 16m 17s\n",
      "300:\tlearn: 2.0154246\ttest: 2.0154246\ttest1: 2.1920638\tbest: 2.1891903 (243)\ttotal: 30.1s\tremaining: 16m 9s\n"
     ]
    },
    {
     "name": "stderr",
     "output_type": "stream",
     "text": [
      "\u001b[32m[I 2021-07-30 14:53:06,670]\u001b[0m Trial 72 finished with value: -2.189076843593428 and parameters: {'colsample_bylevel': 0.08411645725175843, 'depth': 5, 'boosting_type': 'Ordered', 'bootstrap_type': 'Bayesian', 'l2_leaf_reg': 10.999008502421633, 'random_strength': 4.115433787980171, 'bagging_temperature': 6.882748303995443}. Best is trial 12 with value: -2.1702331254900744.\u001b[0m\n"
     ]
    },
    {
     "name": "stdout",
     "output_type": "stream",
     "text": [
      "Stopped by overfitting detector  (100 iterations wait)\n",
      "\n",
      "bestTest = 2.189190319\n",
      "bestIteration = 243\n",
      "\n",
      "Shrink model to first 244 iterations.\n",
      "0:\tlearn: 2.8068359\ttest: 2.8068359\ttest1: 2.7275100\tbest: 2.7275100 (0)\ttotal: 111ms\tremaining: 18m 29s\n",
      "100:\tlearn: 2.0731737\ttest: 2.0731737\ttest1: 2.2203201\tbest: 2.2148646 (29)\ttotal: 9.52s\tremaining: 15m 33s\n"
     ]
    },
    {
     "name": "stderr",
     "output_type": "stream",
     "text": [
      "\u001b[32m[I 2021-07-30 14:53:19,526]\u001b[0m Trial 73 finished with value: -2.2148655557071475 and parameters: {'colsample_bylevel': 0.09093076704539123, 'depth': 4, 'boosting_type': 'Ordered', 'bootstrap_type': 'Bayesian', 'l2_leaf_reg': 9.669267615681882, 'random_strength': 1.0347524730365463, 'bagging_temperature': 5.625769354192107}. Best is trial 12 with value: -2.1702331254900744.\u001b[0m\n"
     ]
    },
    {
     "name": "stdout",
     "output_type": "stream",
     "text": [
      "Stopped by overfitting detector  (100 iterations wait)\n",
      "\n",
      "bestTest = 2.214864557\n",
      "bestIteration = 29\n",
      "\n",
      "Shrink model to first 30 iterations.\n",
      "0:\tlearn: 2.8171790\ttest: 2.8171790\ttest1: 2.7551630\tbest: 2.7551630 (0)\ttotal: 102ms\tremaining: 16m 55s\n",
      "100:\tlearn: 2.1060632\ttest: 2.1060632\ttest1: 2.2084339\tbest: 2.2084339 (100)\ttotal: 9.57s\tremaining: 15m 37s\n",
      "200:\tlearn: 2.0783966\ttest: 2.0783966\ttest1: 2.2027549\tbest: 2.2012648 (178)\ttotal: 19.1s\tremaining: 15m 33s\n",
      "300:\tlearn: 2.0597786\ttest: 2.0597786\ttest1: 2.1942764\tbest: 2.1941053 (294)\ttotal: 28.5s\tremaining: 15m 18s\n",
      "400:\tlearn: 2.0471689\ttest: 2.0471689\ttest1: 2.1941837\tbest: 2.1928499 (336)\ttotal: 38s\tremaining: 15m 8s\n",
      "500:\tlearn: 2.0375440\ttest: 2.0375440\ttest1: 2.1938130\tbest: 2.1922604 (434)\ttotal: 47.5s\tremaining: 14m 59s\n",
      "Stopped by overfitting detector  (100 iterations wait)\n",
      "\n",
      "bestTest = 2.19226044\n",
      "bestIteration = 434\n",
      "\n",
      "Shrink model to first 435 iterations.\n"
     ]
    },
    {
     "name": "stderr",
     "output_type": "stream",
     "text": [
      "\u001b[32m[I 2021-07-30 14:54:10,934]\u001b[0m Trial 74 finished with value: -2.192178628617987 and parameters: {'colsample_bylevel': 0.09749688154416691, 'depth': 4, 'boosting_type': 'Ordered', 'bootstrap_type': 'Bayesian', 'l2_leaf_reg': 11.946311676256288, 'random_strength': 8.366893031300457, 'bagging_temperature': 7.820746345781409}. Best is trial 12 with value: -2.1702331254900744.\u001b[0m\n"
     ]
    },
    {
     "name": "stdout",
     "output_type": "stream",
     "text": [
      "0:\tlearn: 2.8099849\ttest: 2.8099849\ttest1: 2.7322209\tbest: 2.7322209 (0)\ttotal: 97.3ms\tremaining: 16m 13s\n",
      "100:\tlearn: 2.0321493\ttest: 2.0321493\ttest1: 2.2030270\tbest: 2.2030270 (100)\ttotal: 9.56s\tremaining: 15m 37s\n",
      "200:\tlearn: 1.9921930\ttest: 1.9921930\ttest1: 2.1875749\tbest: 2.1867080 (197)\ttotal: 18.9s\tremaining: 15m 23s\n",
      "300:\tlearn: 1.9704372\ttest: 1.9704372\ttest1: 2.1839534\tbest: 2.1825280 (295)\ttotal: 28.3s\tremaining: 15m 12s\n"
     ]
    },
    {
     "name": "stderr",
     "output_type": "stream",
     "text": [
      "\u001b[32m[I 2021-07-30 14:54:48,711]\u001b[0m Trial 75 finished with value: -2.1823600576169184 and parameters: {'colsample_bylevel': 0.08756500982264614, 'depth': 4, 'boosting_type': 'Ordered', 'bootstrap_type': 'Bayesian', 'l2_leaf_reg': 7.507796981819868, 'random_strength': 0.054655793892179505, 'bagging_temperature': 2.8865262584918816}. Best is trial 12 with value: -2.1702331254900744.\u001b[0m\n"
     ]
    },
    {
     "name": "stdout",
     "output_type": "stream",
     "text": [
      "Stopped by overfitting detector  (100 iterations wait)\n",
      "\n",
      "bestTest = 2.182528035\n",
      "bestIteration = 295\n",
      "\n",
      "Shrink model to first 296 iterations.\n",
      "0:\tlearn: 2.7871073\ttest: 2.7871073\ttest1: 2.7197369\tbest: 2.7197369 (0)\ttotal: 98.7ms\tremaining: 16m 26s\n",
      "100:\tlearn: 2.0002723\ttest: 2.0002723\ttest1: 2.2019482\tbest: 2.2019482 (100)\ttotal: 9.61s\tremaining: 15m 42s\n",
      "200:\tlearn: 1.9547450\ttest: 1.9547450\ttest1: 2.1980342\tbest: 2.1954851 (191)\ttotal: 19.2s\tremaining: 15m 37s\n",
      "300:\tlearn: 1.9250016\ttest: 1.9250016\ttest1: 2.1905008\tbest: 2.1900072 (283)\ttotal: 28.8s\tremaining: 15m 27s\n",
      "400:\tlearn: 1.9069029\ttest: 1.9069029\ttest1: 2.1890195\tbest: 2.1880906 (378)\ttotal: 38.5s\tremaining: 15m 21s\n",
      "500:\tlearn: 1.8928639\ttest: 1.8928639\ttest1: 2.1855046\tbest: 2.1853344 (499)\ttotal: 48.1s\tremaining: 15m 11s\n",
      "600:\tlearn: 1.8822019\ttest: 1.8822019\ttest1: 2.1844041\tbest: 2.1828640 (581)\ttotal: 57.7s\tremaining: 15m 2s\n"
     ]
    },
    {
     "name": "stderr",
     "output_type": "stream",
     "text": [
      "\u001b[32m[I 2021-07-30 14:55:54,766]\u001b[0m Trial 76 finished with value: -2.1826372928561413 and parameters: {'colsample_bylevel': 0.09477375678414396, 'depth': 5, 'boosting_type': 'Ordered', 'bootstrap_type': 'MVS', 'l2_leaf_reg': 9.265750689863918, 'random_strength': 1.5419967271610793}. Best is trial 12 with value: -2.1702331254900744.\u001b[0m\n"
     ]
    },
    {
     "name": "stdout",
     "output_type": "stream",
     "text": [
      "Stopped by overfitting detector  (100 iterations wait)\n",
      "\n",
      "bestTest = 2.182864016\n",
      "bestIteration = 581\n",
      "\n",
      "Shrink model to first 582 iterations.\n",
      "0:\tlearn: 2.7993844\ttest: 2.7993844\ttest1: 2.7184914\tbest: 2.7184914 (0)\ttotal: 99.9ms\tremaining: 16m 39s\n",
      "100:\tlearn: 1.9898172\ttest: 1.9898172\ttest1: 2.2054944\tbest: 2.2041961 (29)\ttotal: 10.6s\tremaining: 17m 19s\n",
      "200:\tlearn: 1.9622251\ttest: 1.9622251\ttest1: 2.1947045\tbest: 2.1947045 (200)\ttotal: 21.1s\tremaining: 17m 7s\n",
      "300:\tlearn: 1.9461609\ttest: 1.9461609\ttest1: 2.1915771\tbest: 2.1912291 (299)\ttotal: 31.7s\tremaining: 17m\n"
     ]
    },
    {
     "name": "stderr",
     "output_type": "stream",
     "text": [
      "\u001b[32m[I 2021-07-30 14:56:37,386]\u001b[0m Trial 77 finished with value: -2.1907860472896963 and parameters: {'colsample_bylevel': 0.09132179020129753, 'depth': 6, 'boosting_type': 'Ordered', 'bootstrap_type': 'Bayesian', 'l2_leaf_reg': 12.354731283779966, 'random_strength': 0.5521693692682839, 'bagging_temperature': 4.462333183347654}. Best is trial 12 with value: -2.1702331254900744.\u001b[0m\n"
     ]
    },
    {
     "name": "stdout",
     "output_type": "stream",
     "text": [
      "Stopped by overfitting detector  (100 iterations wait)\n",
      "\n",
      "bestTest = 2.191229114\n",
      "bestIteration = 299\n",
      "\n",
      "Shrink model to first 300 iterations.\n",
      "0:\tlearn: 2.8214964\ttest: 2.8214964\ttest1: 2.7553553\tbest: 2.7553553 (0)\ttotal: 88.4ms\tremaining: 14m 44s\n",
      "100:\tlearn: 2.0893455\ttest: 2.0893455\ttest1: 2.2220221\tbest: 2.2219353 (99)\ttotal: 8.51s\tremaining: 13m 53s\n",
      "200:\tlearn: 2.0304551\ttest: 2.0304551\ttest1: 2.2082697\tbest: 2.2066142 (189)\ttotal: 16.9s\tremaining: 13m 43s\n",
      "300:\tlearn: 1.9996648\ttest: 1.9996648\ttest1: 2.2004915\tbest: 2.2004915 (300)\ttotal: 25.4s\tremaining: 13m 37s\n",
      "400:\tlearn: 1.9827085\ttest: 1.9827085\ttest1: 2.2010531\tbest: 2.1987855 (356)\ttotal: 33.9s\tremaining: 13m 32s\n"
     ]
    },
    {
     "name": "stderr",
     "output_type": "stream",
     "text": [
      "\u001b[32m[I 2021-07-30 14:57:16,794]\u001b[0m Trial 78 finished with value: -2.198600049974328 and parameters: {'colsample_bylevel': 0.029515787789864145, 'depth': 4, 'boosting_type': 'Ordered', 'bootstrap_type': 'MVS', 'l2_leaf_reg': 18.88789400621516, 'random_strength': 2.425856303282376}. Best is trial 12 with value: -2.1702331254900744.\u001b[0m\n"
     ]
    },
    {
     "name": "stdout",
     "output_type": "stream",
     "text": [
      "Stopped by overfitting detector  (100 iterations wait)\n",
      "\n",
      "bestTest = 2.198785543\n",
      "bestIteration = 356\n",
      "\n",
      "Shrink model to first 357 iterations.\n",
      "0:\tlearn: 2.8120297\ttest: 2.8120297\ttest1: 2.7354553\tbest: 2.7354553 (0)\ttotal: 97.1ms\tremaining: 16m 10s\n",
      "100:\tlearn: 2.0574949\ttest: 2.0574949\ttest1: 2.2109871\tbest: 2.2109871 (100)\ttotal: 9.51s\tremaining: 15m 32s\n",
      "200:\tlearn: 2.0322584\ttest: 2.0322584\ttest1: 2.2060197\tbest: 2.2054007 (134)\ttotal: 18.9s\tremaining: 15m 19s\n",
      "300:\tlearn: 2.0223787\ttest: 2.0223787\ttest1: 2.2003139\tbest: 2.2000588 (283)\ttotal: 28.2s\tremaining: 15m 8s\n",
      "400:\tlearn: 2.0113982\ttest: 2.0113982\ttest1: 2.1982888\tbest: 2.1967204 (362)\ttotal: 37.5s\tremaining: 14m 57s\n"
     ]
    },
    {
     "name": "stderr",
     "output_type": "stream",
     "text": [
      "\u001b[32m[I 2021-07-30 14:58:00,662]\u001b[0m Trial 79 finished with value: -2.1966546809781087 and parameters: {'colsample_bylevel': 0.08577288534858157, 'depth': 4, 'boosting_type': 'Ordered', 'bootstrap_type': 'Bayesian', 'l2_leaf_reg': 17.011667621083387, 'random_strength': 9.610703366438011, 'bagging_temperature': 5.4601743689369435}. Best is trial 12 with value: -2.1702331254900744.\u001b[0m\n"
     ]
    },
    {
     "name": "stdout",
     "output_type": "stream",
     "text": [
      "Stopped by overfitting detector  (100 iterations wait)\n",
      "\n",
      "bestTest = 2.19672038\n",
      "bestIteration = 362\n",
      "\n",
      "Shrink model to first 363 iterations.\n",
      "0:\tlearn: 2.8037003\ttest: 2.8037003\ttest1: 2.7307633\tbest: 2.7307633 (0)\ttotal: 89.8ms\tremaining: 14m 57s\n",
      "100:\tlearn: 2.0479745\ttest: 2.0479745\ttest1: 2.2235701\tbest: 2.2235701 (100)\ttotal: 9.46s\tremaining: 15m 27s\n",
      "200:\tlearn: 1.9788787\ttest: 1.9788787\ttest1: 2.2135498\tbest: 2.2086307 (138)\ttotal: 18.6s\tremaining: 15m 8s\n"
     ]
    },
    {
     "name": "stderr",
     "output_type": "stream",
     "text": [
      "\u001b[32m[I 2021-07-30 14:58:23,383]\u001b[0m Trial 80 finished with value: -2.208624644189239 and parameters: {'colsample_bylevel': 0.049098732944105425, 'depth': 5, 'boosting_type': 'Ordered', 'bootstrap_type': 'MVS', 'l2_leaf_reg': 11.698173735750402, 'random_strength': 3.2745195630302626}. Best is trial 12 with value: -2.1702331254900744.\u001b[0m\n"
     ]
    },
    {
     "name": "stdout",
     "output_type": "stream",
     "text": [
      "Stopped by overfitting detector  (100 iterations wait)\n",
      "\n",
      "bestTest = 2.208630715\n",
      "bestIteration = 138\n",
      "\n",
      "Shrink model to first 139 iterations.\n",
      "0:\tlearn: 2.7669600\ttest: 2.7669600\ttest1: 2.6909244\tbest: 2.6909244 (0)\ttotal: 203ms\tremaining: 33m 49s\n",
      "100:\tlearn: 1.8785967\ttest: 1.8785967\ttest1: 2.1975219\tbest: 2.1856414 (15)\ttotal: 16.6s\tremaining: 27m 8s\n"
     ]
    },
    {
     "name": "stderr",
     "output_type": "stream",
     "text": [
      "\u001b[32m[I 2021-07-30 14:58:43,029]\u001b[0m Trial 81 finished with value: -2.185642360191672 and parameters: {'colsample_bylevel': 0.09278169101714068, 'depth': 10, 'boosting_type': 'Ordered', 'bootstrap_type': 'MVS', 'l2_leaf_reg': 13.700363298418655, 'random_strength': 0.7807823518627317}. Best is trial 12 with value: -2.1702331254900744.\u001b[0m\n"
     ]
    },
    {
     "name": "stdout",
     "output_type": "stream",
     "text": [
      "Stopped by overfitting detector  (100 iterations wait)\n",
      "\n",
      "bestTest = 2.185641361\n",
      "bestIteration = 15\n",
      "\n",
      "Shrink model to first 16 iterations.\n",
      "0:\tlearn: 2.8037040\ttest: 2.8037040\ttest1: 2.7459272\tbest: 2.7459272 (0)\ttotal: 86.2ms\tremaining: 14m 21s\n",
      "100:\tlearn: 2.0173253\ttest: 2.0173253\ttest1: 2.1933543\tbest: 2.1926163 (96)\ttotal: 8.93s\tremaining: 14m 35s\n",
      "200:\tlearn: 1.9813444\ttest: 1.9813444\ttest1: 2.1870138\tbest: 2.1864031 (149)\ttotal: 17.8s\tremaining: 14m 28s\n",
      "300:\tlearn: 1.9562241\ttest: 1.9562241\ttest1: 2.1864275\tbest: 2.1862794 (230)\ttotal: 26.7s\tremaining: 14m 21s\n",
      "400:\tlearn: 1.9345124\ttest: 1.9345124\ttest1: 2.1831630\tbest: 2.1816709 (396)\ttotal: 35.7s\tremaining: 14m 14s\n",
      "500:\tlearn: 1.9240527\ttest: 1.9240527\ttest1: 2.1803821\tbest: 2.1798948 (457)\ttotal: 44.7s\tremaining: 14m 7s\n"
     ]
    },
    {
     "name": "stderr",
     "output_type": "stream",
     "text": [
      "\u001b[32m[I 2021-07-30 14:59:33,510]\u001b[0m Trial 82 finished with value: -2.1780157342040956 and parameters: {'colsample_bylevel': 0.09536399601424685, 'depth': 4, 'boosting_type': 'Ordered', 'bootstrap_type': 'MVS', 'l2_leaf_reg': 17.688670754184578, 'random_strength': 0.31528669479151405}. Best is trial 12 with value: -2.1702331254900744.\u001b[0m\n"
     ]
    },
    {
     "name": "stdout",
     "output_type": "stream",
     "text": [
      "Stopped by overfitting detector  (100 iterations wait)\n",
      "\n",
      "bestTest = 2.179894828\n",
      "bestIteration = 457\n",
      "\n",
      "Shrink model to first 458 iterations.\n",
      "0:\tlearn: 2.8060402\ttest: 2.8060402\ttest1: 2.7325420\tbest: 2.7325420 (0)\ttotal: 91.6ms\tremaining: 15m 15s\n",
      "100:\tlearn: 2.0228572\ttest: 2.0228572\ttest1: 2.1955129\tbest: 2.1953104 (99)\ttotal: 9.17s\tremaining: 14m 58s\n",
      "200:\tlearn: 1.9770481\ttest: 1.9770481\ttest1: 2.1854476\tbest: 2.1837869 (193)\ttotal: 18s\tremaining: 14m 37s\n",
      "300:\tlearn: 1.9550504\ttest: 1.9550504\ttest1: 2.1828181\tbest: 2.1821397 (297)\ttotal: 26.9s\tremaining: 14m 25s\n",
      "400:\tlearn: 1.9421558\ttest: 1.9421558\ttest1: 2.1813241\tbest: 2.1795904 (351)\ttotal: 35.8s\tremaining: 14m 16s\n"
     ]
    },
    {
     "name": "stderr",
     "output_type": "stream",
     "text": [
      "\u001b[32m[I 2021-07-30 15:00:14,514]\u001b[0m Trial 83 finished with value: -2.1789758248993385 and parameters: {'colsample_bylevel': 0.0980538081929911, 'depth': 4, 'boosting_type': 'Ordered', 'bootstrap_type': 'MVS', 'l2_leaf_reg': 17.650960899745048, 'random_strength': 0.26464288318206314}. Best is trial 12 with value: -2.1702331254900744.\u001b[0m\n"
     ]
    },
    {
     "name": "stdout",
     "output_type": "stream",
     "text": [
      "Stopped by overfitting detector  (100 iterations wait)\n",
      "\n",
      "bestTest = 2.179590426\n",
      "bestIteration = 351\n",
      "\n",
      "Shrink model to first 352 iterations.\n",
      "0:\tlearn: 2.8015657\ttest: 2.8015657\ttest1: 2.7427095\tbest: 2.7427095 (0)\ttotal: 97.2ms\tremaining: 16m 12s\n",
      "100:\tlearn: 2.0293038\ttest: 2.0293038\ttest1: 2.1951983\tbest: 2.1951065 (99)\ttotal: 9s\tremaining: 14m 42s\n",
      "200:\tlearn: 1.9866205\ttest: 1.9866205\ttest1: 2.1849688\tbest: 2.1834730 (174)\ttotal: 17.9s\tremaining: 14m 34s\n"
     ]
    },
    {
     "name": "stderr",
     "output_type": "stream",
     "text": [
      "\u001b[32m[I 2021-07-30 15:00:39,648]\u001b[0m Trial 84 finished with value: -2.1834461673503354 and parameters: {'colsample_bylevel': 0.09513204175968452, 'depth': 4, 'boosting_type': 'Ordered', 'bootstrap_type': 'MVS', 'l2_leaf_reg': 19.322545098179976, 'random_strength': 0.49876120306583765}. Best is trial 12 with value: -2.1702331254900744.\u001b[0m\n"
     ]
    },
    {
     "name": "stdout",
     "output_type": "stream",
     "text": [
      "Stopped by overfitting detector  (100 iterations wait)\n",
      "\n",
      "bestTest = 2.183473043\n",
      "bestIteration = 174\n",
      "\n",
      "Shrink model to first 175 iterations.\n",
      "0:\tlearn: 2.7972219\ttest: 2.7972219\ttest1: 2.7327452\tbest: 2.7327452 (0)\ttotal: 91.9ms\tremaining: 15m 18s\n",
      "100:\tlearn: 2.0173777\ttest: 2.0173777\ttest1: 2.1998450\tbest: 2.1996458 (99)\ttotal: 8.93s\tremaining: 14m 35s\n",
      "200:\tlearn: 1.9784980\ttest: 1.9784980\ttest1: 2.1911593\tbest: 2.1885844 (159)\ttotal: 17.8s\tremaining: 14m 27s\n",
      "Stopped by overfitting detector  (100 iterations wait)\n",
      "\n",
      "bestTest = 2.188584377\n",
      "bestIteration = 159\n",
      "\n",
      "Shrink model to first 160 iterations.\n"
     ]
    },
    {
     "name": "stderr",
     "output_type": "stream",
     "text": [
      "\u001b[32m[I 2021-07-30 15:01:03,304]\u001b[0m Trial 85 finished with value: -2.188542684418556 and parameters: {'colsample_bylevel': 0.08350660928292197, 'depth': 4, 'boosting_type': 'Ordered', 'bootstrap_type': 'MVS', 'l2_leaf_reg': 16.886456526809578, 'random_strength': 0.017099232577690415}. Best is trial 12 with value: -2.1702331254900744.\u001b[0m\n"
     ]
    },
    {
     "name": "stdout",
     "output_type": "stream",
     "text": [
      "0:\tlearn: 2.8095059\ttest: 2.8095059\ttest1: 2.7321094\tbest: 2.7321094 (0)\ttotal: 86.8ms\tremaining: 14m 28s\n",
      "100:\tlearn: 2.0255017\ttest: 2.0255017\ttest1: 2.2007969\tbest: 2.2007969 (100)\ttotal: 8.93s\tremaining: 14m 35s\n",
      "200:\tlearn: 1.9863097\ttest: 1.9863097\ttest1: 2.1869277\tbest: 2.1860839 (191)\ttotal: 17.8s\tremaining: 14m 27s\n",
      "300:\tlearn: 1.9663772\ttest: 1.9663772\ttest1: 2.1821116\tbest: 2.1808359 (279)\ttotal: 26.6s\tremaining: 14m 16s\n",
      "400:\tlearn: 1.9444767\ttest: 1.9444767\ttest1: 2.1766168\tbest: 2.1760966 (399)\ttotal: 35.4s\tremaining: 14m 7s\n",
      "500:\tlearn: 1.9317613\ttest: 1.9317613\ttest1: 2.1708082\tbest: 2.1698045 (475)\ttotal: 44.3s\tremaining: 14m\n"
     ]
    },
    {
     "name": "stderr",
     "output_type": "stream",
     "text": [
      "\u001b[32m[I 2021-07-30 15:01:54,904]\u001b[0m Trial 86 finished with value: -2.1695421991660044 and parameters: {'colsample_bylevel': 0.09051083419926985, 'depth': 4, 'boosting_type': 'Ordered', 'bootstrap_type': 'MVS', 'l2_leaf_reg': 18.256162989240764, 'random_strength': 1.2954363886811628}. Best is trial 86 with value: -2.1695421991660044.\u001b[0m\n"
     ]
    },
    {
     "name": "stdout",
     "output_type": "stream",
     "text": [
      "Stopped by overfitting detector  (100 iterations wait)\n",
      "\n",
      "bestTest = 2.169804511\n",
      "bestIteration = 475\n",
      "\n",
      "Shrink model to first 476 iterations.\n",
      "0:\tlearn: 2.8074420\ttest: 2.8074420\ttest1: 2.7295119\tbest: 2.7295119 (0)\ttotal: 103ms\tremaining: 17m 13s\n",
      "100:\tlearn: 2.0093403\ttest: 2.0093403\ttest1: 2.2022423\tbest: 2.2022423 (100)\ttotal: 10.3s\tremaining: 16m 45s\n",
      "200:\tlearn: 1.9623832\ttest: 1.9623832\ttest1: 2.2015638\tbest: 2.1976744 (117)\ttotal: 20.4s\tremaining: 16m 36s\n"
     ]
    },
    {
     "name": "stderr",
     "output_type": "stream",
     "text": [
      "\u001b[32m[I 2021-07-30 15:02:17,680]\u001b[0m Trial 87 finished with value: -2.197661317391101 and parameters: {'colsample_bylevel': 0.08938288997643286, 'depth': 5, 'boosting_type': 'Ordered', 'bootstrap_type': 'Bayesian', 'l2_leaf_reg': 17.972694359458178, 'random_strength': 1.3691316432127079, 'bagging_temperature': 1.8059952281371507}. Best is trial 86 with value: -2.1695421991660044.\u001b[0m\n"
     ]
    },
    {
     "name": "stdout",
     "output_type": "stream",
     "text": [
      "Stopped by overfitting detector  (100 iterations wait)\n",
      "\n",
      "bestTest = 2.197674387\n",
      "bestIteration = 117\n",
      "\n",
      "Shrink model to first 118 iterations.\n",
      "0:\tlearn: 2.8026031\ttest: 2.8026031\ttest1: 2.7257291\tbest: 2.7257291 (0)\ttotal: 70.8ms\tremaining: 11m 47s\n",
      "100:\tlearn: 2.0068010\ttest: 2.0068010\ttest1: 2.2053969\tbest: 2.2053969 (100)\ttotal: 7.01s\tremaining: 11m 27s\n",
      "200:\tlearn: 1.9589137\ttest: 1.9589137\ttest1: 2.1988578\tbest: 2.1982741 (168)\ttotal: 13.9s\tremaining: 11m 18s\n",
      "300:\tlearn: 1.9322185\ttest: 1.9322185\ttest1: 2.1913353\tbest: 2.1909405 (288)\ttotal: 20.9s\tremaining: 11m 11s\n",
      "400:\tlearn: 1.9146882\ttest: 1.9146882\ttest1: 2.1899206\tbest: 2.1891040 (382)\ttotal: 27.8s\tremaining: 11m 6s\n",
      "500:\tlearn: 1.9013296\ttest: 1.9013296\ttest1: 2.1892027\tbest: 2.1877264 (409)\ttotal: 34.8s\tremaining: 10m 59s\n"
     ]
    },
    {
     "name": "stderr",
     "output_type": "stream",
     "text": [
      "\u001b[32m[I 2021-07-30 15:02:53,626]\u001b[0m Trial 88 finished with value: -2.1869551665577593 and parameters: {'colsample_bylevel': 0.07993190414453166, 'depth': 5, 'boosting_type': 'Plain', 'bootstrap_type': 'MVS', 'l2_leaf_reg': 18.847649928408227, 'random_strength': 0.8970296370812706}. Best is trial 86 with value: -2.1695421991660044.\u001b[0m\n"
     ]
    },
    {
     "name": "stdout",
     "output_type": "stream",
     "text": [
      "Stopped by overfitting detector  (100 iterations wait)\n",
      "\n",
      "bestTest = 2.187726434\n",
      "bestIteration = 409\n",
      "\n",
      "Shrink model to first 410 iterations.\n",
      "0:\tlearn: 2.8089457\ttest: 2.8089457\ttest1: 2.7356810\tbest: 2.7356810 (0)\ttotal: 81.2ms\tremaining: 13m 31s\n",
      "100:\tlearn: 2.0280850\ttest: 2.0280850\ttest1: 2.2049982\tbest: 2.2047991 (96)\ttotal: 8.53s\tremaining: 13m 55s\n",
      "200:\tlearn: 1.9842927\ttest: 1.9842927\ttest1: 2.1963236\tbest: 2.1924970 (176)\ttotal: 17s\tremaining: 13m 47s\n",
      "Stopped by overfitting detector  (100 iterations wait)\n",
      "\n",
      "bestTest = 2.192497007\n",
      "bestIteration = 176\n",
      "\n",
      "Shrink model to first 177 iterations.\n"
     ]
    },
    {
     "name": "stderr",
     "output_type": "stream",
     "text": [
      "\u001b[32m[I 2021-07-30 15:03:17,783]\u001b[0m Trial 89 finished with value: -2.1923935187863166 and parameters: {'colsample_bylevel': 0.09113297108481141, 'depth': 4, 'boosting_type': 'Ordered', 'bootstrap_type': 'Bernoulli', 'l2_leaf_reg': 19.463441321148586, 'random_strength': 1.7509787184770285, 'subsample': 0.6634333193507106}. Best is trial 86 with value: -2.1695421991660044.\u001b[0m\n"
     ]
    },
    {
     "name": "stdout",
     "output_type": "stream",
     "text": [
      "0:\tlearn: 2.7944660\ttest: 2.7944660\ttest1: 2.7279497\tbest: 2.7279497 (0)\ttotal: 106ms\tremaining: 17m 41s\n",
      "100:\tlearn: 2.0235520\ttest: 2.0235520\ttest1: 2.2021459\tbest: 2.2021459 (100)\ttotal: 9.44s\tremaining: 15m 25s\n",
      "200:\tlearn: 1.9529952\ttest: 1.9529952\ttest1: 2.1849594\tbest: 2.1849594 (200)\ttotal: 19s\tremaining: 15m 26s\n",
      "300:\tlearn: 1.9175043\ttest: 1.9175043\ttest1: 2.1825762\tbest: 2.1785322 (247)\ttotal: 28.5s\tremaining: 15m 17s\n"
     ]
    },
    {
     "name": "stderr",
     "output_type": "stream",
     "text": [
      "\u001b[32m[I 2021-07-30 15:03:51,378]\u001b[0m Trial 90 finished with value: -2.1783481875989525 and parameters: {'colsample_bylevel': 0.07361257610102698, 'depth': 6, 'boosting_type': 'Ordered', 'bootstrap_type': 'MVS', 'l2_leaf_reg': 19.936342626098572, 'random_strength': 7.508097654749425}. Best is trial 86 with value: -2.1695421991660044.\u001b[0m\n"
     ]
    },
    {
     "name": "stdout",
     "output_type": "stream",
     "text": [
      "Stopped by overfitting detector  (100 iterations wait)\n",
      "\n",
      "bestTest = 2.178532182\n",
      "bestIteration = 247\n",
      "\n",
      "Shrink model to first 248 iterations.\n",
      "0:\tlearn: 2.8199792\ttest: 2.8199792\ttest1: 2.7510484\tbest: 2.7510484 (0)\ttotal: 105ms\tremaining: 17m 27s\n",
      "100:\tlearn: 2.0148454\ttest: 2.0148454\ttest1: 2.2217222\tbest: 2.2198404 (89)\ttotal: 9.82s\tremaining: 16m 2s\n",
      "200:\tlearn: 1.9473328\ttest: 1.9473328\ttest1: 2.2175920\tbest: 2.2166577 (198)\ttotal: 19.5s\tremaining: 15m 50s\n",
      "300:\tlearn: 1.9161392\ttest: 1.9161392\ttest1: 2.2100181\tbest: 2.2095067 (298)\ttotal: 29.1s\tremaining: 15m 38s\n",
      "400:\tlearn: 1.8910564\ttest: 1.8910564\ttest1: 2.2081237\tbest: 2.2079237 (399)\ttotal: 38.9s\tremaining: 15m 30s\n",
      "500:\tlearn: 1.8753081\ttest: 1.8753081\ttest1: 2.2082356\tbest: 2.2045669 (433)\ttotal: 48.7s\tremaining: 15m 22s\n"
     ]
    },
    {
     "name": "stderr",
     "output_type": "stream",
     "text": [
      "\u001b[32m[I 2021-07-30 15:04:43,879]\u001b[0m Trial 91 finished with value: -2.2035309340686515 and parameters: {'colsample_bylevel': 0.08728122450881416, 'depth': 6, 'boosting_type': 'Ordered', 'bootstrap_type': 'MVS', 'l2_leaf_reg': 19.927918047051122, 'random_strength': 7.50796332383297}. Best is trial 86 with value: -2.1695421991660044.\u001b[0m\n"
     ]
    },
    {
     "name": "stdout",
     "output_type": "stream",
     "text": [
      "Stopped by overfitting detector  (100 iterations wait)\n",
      "\n",
      "bestTest = 2.204566923\n",
      "bestIteration = 433\n",
      "\n",
      "Shrink model to first 434 iterations.\n",
      "0:\tlearn: 2.8085589\ttest: 2.8085589\ttest1: 2.7427153\tbest: 2.7427153 (0)\ttotal: 100ms\tremaining: 16m 39s\n",
      "100:\tlearn: 1.9961679\ttest: 1.9961679\ttest1: 2.2233531\tbest: 2.2212630 (93)\ttotal: 10.2s\tremaining: 16m 35s\n",
      "200:\tlearn: 1.9356970\ttest: 1.9356970\ttest1: 2.2148257\tbest: 2.2138206 (196)\ttotal: 20.2s\tremaining: 16m 25s\n",
      "300:\tlearn: 1.8899448\ttest: 1.8899448\ttest1: 2.2113685\tbest: 2.2064369 (273)\ttotal: 30.3s\tremaining: 16m 15s\n",
      "400:\tlearn: 1.8658104\ttest: 1.8658104\ttest1: 2.2072503\tbest: 2.2049005 (338)\ttotal: 40.2s\tremaining: 16m 3s\n"
     ]
    },
    {
     "name": "stderr",
     "output_type": "stream",
     "text": [
      "\u001b[32m[I 2021-07-30 15:05:28,577]\u001b[0m Trial 92 finished with value: -2.2035385410913833 and parameters: {'colsample_bylevel': 0.07014157536237703, 'depth': 7, 'boosting_type': 'Ordered', 'bootstrap_type': 'MVS', 'l2_leaf_reg': 1.6065958788078856, 'random_strength': 6.841523887322798}. Best is trial 86 with value: -2.1695421991660044.\u001b[0m\n"
     ]
    },
    {
     "name": "stdout",
     "output_type": "stream",
     "text": [
      "Stopped by overfitting detector  (100 iterations wait)\n",
      "\n",
      "bestTest = 2.204900519\n",
      "bestIteration = 338\n",
      "\n",
      "Shrink model to first 339 iterations.\n",
      "0:\tlearn: 2.7968767\ttest: 2.7968767\ttest1: 2.7224868\tbest: 2.7224868 (0)\ttotal: 90.7ms\tremaining: 15m 6s\n",
      "100:\tlearn: 2.0292287\ttest: 2.0292287\ttest1: 2.2244666\tbest: 2.2244666 (100)\ttotal: 9.37s\tremaining: 15m 18s\n",
      "200:\tlearn: 1.9613487\ttest: 1.9613487\ttest1: 2.2173211\tbest: 2.2143997 (142)\ttotal: 18.8s\tremaining: 15m 17s\n"
     ]
    },
    {
     "name": "stderr",
     "output_type": "stream",
     "text": [
      "\u001b[32m[I 2021-07-30 15:05:51,999]\u001b[0m Trial 93 finished with value: -2.2141428756353716 and parameters: {'colsample_bylevel': 0.07584350695787097, 'depth': 6, 'boosting_type': 'Ordered', 'bootstrap_type': 'MVS', 'l2_leaf_reg': 18.519693704932763, 'random_strength': 7.99401734775598}. Best is trial 86 with value: -2.1695421991660044.\u001b[0m\n"
     ]
    },
    {
     "name": "stdout",
     "output_type": "stream",
     "text": [
      "Stopped by overfitting detector  (100 iterations wait)\n",
      "\n",
      "bestTest = 2.214399663\n",
      "bestIteration = 142\n",
      "\n",
      "Shrink model to first 143 iterations.\n",
      "0:\tlearn: 2.8034500\ttest: 2.8034500\ttest1: 2.7355476\tbest: 2.7355476 (0)\ttotal: 95.1ms\tremaining: 15m 51s\n",
      "100:\tlearn: 2.0127532\ttest: 2.0127532\ttest1: 2.2228306\tbest: 2.2228306 (100)\ttotal: 9.63s\tremaining: 15m 43s\n",
      "200:\tlearn: 1.9519363\ttest: 1.9519363\ttest1: 2.2052631\tbest: 2.2052631 (200)\ttotal: 19.3s\tremaining: 15m 39s\n",
      "300:\tlearn: 1.9131511\ttest: 1.9131511\ttest1: 2.1975668\tbest: 2.1944837 (272)\ttotal: 29s\tremaining: 15m 34s\n"
     ]
    },
    {
     "name": "stderr",
     "output_type": "stream",
     "text": [
      "\u001b[32m[I 2021-07-30 15:06:28,518]\u001b[0m Trial 94 finished with value: -2.1941108488141436 and parameters: {'colsample_bylevel': 0.0844838591134098, 'depth': 6, 'boosting_type': 'Ordered', 'bootstrap_type': 'MVS', 'l2_leaf_reg': 3.9210406700918297, 'random_strength': 7.208899085421416}. Best is trial 86 with value: -2.1695421991660044.\u001b[0m\n"
     ]
    },
    {
     "name": "stdout",
     "output_type": "stream",
     "text": [
      "Stopped by overfitting detector  (100 iterations wait)\n",
      "\n",
      "bestTest = 2.19448372\n",
      "bestIteration = 272\n",
      "\n",
      "Shrink model to first 273 iterations.\n",
      "0:\tlearn: 2.8114276\ttest: 2.8114276\ttest1: 2.7447337\tbest: 2.7447337 (0)\ttotal: 94ms\tremaining: 15m 39s\n",
      "100:\tlearn: 2.0387864\ttest: 2.0387864\ttest1: 2.2167482\tbest: 2.2167482 (100)\ttotal: 9.32s\tremaining: 15m 13s\n",
      "200:\tlearn: 1.9762385\ttest: 1.9762385\ttest1: 2.2077691\tbest: 2.2055299 (196)\ttotal: 18.6s\tremaining: 15m 8s\n",
      "300:\tlearn: 1.9474027\ttest: 1.9474027\ttest1: 2.2002536\tbest: 2.2002074 (299)\ttotal: 27.9s\tremaining: 14m 58s\n",
      "400:\tlearn: 1.9262938\ttest: 1.9262938\ttest1: 2.1970251\tbest: 2.1966062 (370)\ttotal: 37.1s\tremaining: 14m 48s\n",
      "500:\tlearn: 1.9070387\ttest: 1.9070387\ttest1: 2.1900221\tbest: 2.1879167 (480)\ttotal: 46.4s\tremaining: 14m 39s\n",
      "600:\tlearn: 1.8962634\ttest: 1.8962634\ttest1: 2.1850016\tbest: 2.1848162 (573)\ttotal: 55.7s\tremaining: 14m 30s\n",
      "700:\tlearn: 1.8881137\ttest: 1.8881137\ttest1: 2.1854135\tbest: 2.1843733 (611)\ttotal: 1m 4s\tremaining: 14m 21s\n",
      "Stopped by overfitting detector  (100 iterations wait)\n",
      "\n",
      "bestTest = 2.184373283\n",
      "bestIteration = 611\n",
      "\n",
      "Shrink model to first 612 iterations.\n"
     ]
    },
    {
     "name": "stderr",
     "output_type": "stream",
     "text": [
      "\u001b[32m[I 2021-07-30 15:07:35,271]\u001b[0m Trial 95 finished with value: -2.183806341599506 and parameters: {'colsample_bylevel': 0.07194940010143942, 'depth': 5, 'boosting_type': 'Ordered', 'bootstrap_type': 'MVS', 'l2_leaf_reg': 14.882427545168854, 'random_strength': 7.9811313486666045}. Best is trial 86 with value: -2.1695421991660044.\u001b[0m\n"
     ]
    },
    {
     "name": "stdout",
     "output_type": "stream",
     "text": [
      "0:\tlearn: 2.8068348\ttest: 2.8068348\ttest1: 2.7395465\tbest: 2.7395465 (0)\ttotal: 86.7ms\tremaining: 14m 26s\n",
      "100:\tlearn: 2.0497140\ttest: 2.0497140\ttest1: 2.2082818\tbest: 2.2082818 (100)\ttotal: 8.8s\tremaining: 14m 22s\n",
      "200:\tlearn: 1.9952321\ttest: 1.9952321\ttest1: 2.2023034\tbest: 2.2023034 (200)\ttotal: 17.5s\tremaining: 14m 11s\n",
      "300:\tlearn: 1.9666361\ttest: 1.9666361\ttest1: 2.1963148\tbest: 2.1961048 (293)\ttotal: 26.2s\tremaining: 14m 3s\n",
      "400:\tlearn: 1.9502047\ttest: 1.9502047\ttest1: 2.1934889\tbest: 2.1931140 (379)\ttotal: 35s\tremaining: 13m 57s\n",
      "500:\tlearn: 1.9396982\ttest: 1.9396982\ttest1: 2.1899553\tbest: 2.1892654 (466)\ttotal: 43.7s\tremaining: 13m 48s\n",
      "600:\tlearn: 1.9264100\ttest: 1.9264100\ttest1: 2.1902364\tbest: 2.1882386 (523)\ttotal: 52.4s\tremaining: 13m 39s\n"
     ]
    },
    {
     "name": "stderr",
     "output_type": "stream",
     "text": [
      "\u001b[32m[I 2021-07-30 15:08:30,321]\u001b[0m Trial 96 finished with value: -2.187836026617689 and parameters: {'colsample_bylevel': 0.08071477698414692, 'depth': 4, 'boosting_type': 'Ordered', 'bootstrap_type': 'MVS', 'l2_leaf_reg': 18.071824927675127, 'random_strength': 6.461180686083103}. Best is trial 86 with value: -2.1695421991660044.\u001b[0m\n"
     ]
    },
    {
     "name": "stdout",
     "output_type": "stream",
     "text": [
      "Stopped by overfitting detector  (100 iterations wait)\n",
      "\n",
      "bestTest = 2.188238579\n",
      "bestIteration = 523\n",
      "\n",
      "Shrink model to first 524 iterations.\n",
      "0:\tlearn: 2.8006391\ttest: 2.8006391\ttest1: 2.7239164\tbest: 2.7239164 (0)\ttotal: 106ms\tremaining: 17m 41s\n",
      "100:\tlearn: 2.0328391\ttest: 2.0328391\ttest1: 2.2171779\tbest: 2.2151274 (93)\ttotal: 10.3s\tremaining: 16m 51s\n",
      "200:\tlearn: 1.9938746\ttest: 1.9938746\ttest1: 2.2030799\tbest: 2.2015534 (183)\ttotal: 20.4s\tremaining: 16m 32s\n",
      "300:\tlearn: 1.9756095\ttest: 1.9756095\ttest1: 2.2005211\tbest: 2.1971720 (263)\ttotal: 30.3s\tremaining: 16m 15s\n"
     ]
    },
    {
     "name": "stderr",
     "output_type": "stream",
     "text": [
      "\u001b[32m[I 2021-07-30 15:09:07,494]\u001b[0m Trial 97 finished with value: -2.1971158241080224 and parameters: {'colsample_bylevel': 0.07275859823777887, 'depth': 5, 'boosting_type': 'Ordered', 'bootstrap_type': 'Bayesian', 'l2_leaf_reg': 17.432752434172922, 'random_strength': 8.4620331291662, 'bagging_temperature': 4.271085113165744}. Best is trial 86 with value: -2.1695421991660044.\u001b[0m\n"
     ]
    },
    {
     "name": "stdout",
     "output_type": "stream",
     "text": [
      "Stopped by overfitting detector  (100 iterations wait)\n",
      "\n",
      "bestTest = 2.197172025\n",
      "bestIteration = 263\n",
      "\n",
      "Shrink model to first 264 iterations.\n",
      "0:\tlearn: 2.8015657\ttest: 2.8015657\ttest1: 2.7427095\tbest: 2.7427095 (0)\ttotal: 84.5ms\tremaining: 14m 5s\n",
      "100:\tlearn: 2.0348297\ttest: 2.0348297\ttest1: 2.1994098\tbest: 2.1986006 (99)\ttotal: 8.97s\tremaining: 14m 39s\n",
      "200:\tlearn: 1.9907013\ttest: 1.9907013\ttest1: 2.1883531\tbest: 2.1853102 (176)\ttotal: 17.8s\tremaining: 14m 25s\n",
      "Stopped by overfitting detector  (100 iterations wait)\n",
      "\n",
      "bestTest = 2.185310185\n",
      "bestIteration = 176\n",
      "\n",
      "Shrink model to first 177 iterations.\n"
     ]
    },
    {
     "name": "stderr",
     "output_type": "stream",
     "text": [
      "\u001b[32m[I 2021-07-30 15:09:32,700]\u001b[0m Trial 98 finished with value: -2.1852124707034606 and parameters: {'colsample_bylevel': 0.09399787459895668, 'depth': 4, 'boosting_type': 'Ordered', 'bootstrap_type': 'MVS', 'l2_leaf_reg': 18.92129257086115, 'random_strength': 1.2139232547709295}. Best is trial 86 with value: -2.1695421991660044.\u001b[0m\n"
     ]
    },
    {
     "name": "stdout",
     "output_type": "stream",
     "text": [
      "0:\tlearn: 2.8096280\ttest: 2.8096280\ttest1: 2.7428452\tbest: 2.7428452 (0)\ttotal: 93.2ms\tremaining: 15m 31s\n",
      "100:\tlearn: 2.0582183\ttest: 2.0582183\ttest1: 2.2130012\tbest: 2.2130012 (100)\ttotal: 8.88s\tremaining: 14m 29s\n",
      "200:\tlearn: 2.0018541\ttest: 2.0018541\ttest1: 2.1989169\tbest: 2.1980334 (162)\ttotal: 17.6s\tremaining: 14m 19s\n"
     ]
    },
    {
     "name": "stderr",
     "output_type": "stream",
     "text": [
      "\u001b[32m[I 2021-07-30 15:09:56,275]\u001b[0m Trial 99 finished with value: -2.1979611852366427 and parameters: {'colsample_bylevel': 0.07825621165660472, 'depth': 4, 'boosting_type': 'Ordered', 'bootstrap_type': 'MVS', 'l2_leaf_reg': 19.766839617216952, 'random_strength': 7.378630704832235}. Best is trial 86 with value: -2.1695421991660044.\u001b[0m\n",
      "\u001b[32m[I 2021-07-30 15:09:56,277]\u001b[0m A new study created in memory with name: no-name-18f2e1b3-059d-4c36-84bc-c8664a8828ee\u001b[0m\n"
     ]
    },
    {
     "name": "stdout",
     "output_type": "stream",
     "text": [
      "Stopped by overfitting detector  (100 iterations wait)\n",
      "\n",
      "bestTest = 2.19803342\n",
      "bestIteration = 162\n",
      "\n",
      "Shrink model to first 163 iterations.\n",
      "0:\tlearn: 1.0626136\ttest: 1.0626136\ttest1: 0.9020625\tbest: 0.9020625 (0)\ttotal: 115ms\tremaining: 19m 6s\n",
      "100:\tlearn: 1.0265712\ttest: 1.0265712\ttest1: 0.9108259\tbest: 0.8938831 (7)\ttotal: 8.41s\tremaining: 13m 44s\n"
     ]
    },
    {
     "name": "stderr",
     "output_type": "stream",
     "text": [
      "\u001b[32m[I 2021-07-30 15:10:05,854]\u001b[0m Trial 0 finished with value: -0.8938707741569903 and parameters: {'colsample_bylevel': 0.06412856294938328, 'depth': 10, 'boosting_type': 'Plain', 'bootstrap_type': 'Bernoulli', 'l2_leaf_reg': 3.450282678713017, 'random_strength': 0.29823640091386966, 'subsample': 0.4331100409080505}. Best is trial 0 with value: -0.8938707741569903.\u001b[0m\n"
     ]
    },
    {
     "name": "stdout",
     "output_type": "stream",
     "text": [
      "Stopped by overfitting detector  (100 iterations wait)\n",
      "\n",
      "bestTest = 0.8938830778\n",
      "bestIteration = 7\n",
      "\n",
      "Shrink model to first 8 iterations.\n",
      "0:\tlearn: 1.0638323\ttest: 1.0638323\ttest1: 0.9009097\tbest: 0.9009097 (0)\ttotal: 111ms\tremaining: 18m 32s\n",
      "100:\tlearn: 1.0379311\ttest: 1.0379311\ttest1: 0.8988054\tbest: 0.8938827 (23)\ttotal: 9.14s\tremaining: 14m 55s\n"
     ]
    },
    {
     "name": "stderr",
     "output_type": "stream",
     "text": [
      "\u001b[32m[I 2021-07-30 15:10:17,369]\u001b[0m Trial 1 finished with value: -0.8938783650566149 and parameters: {'colsample_bylevel': 0.06737380290660694, 'depth': 7, 'boosting_type': 'Plain', 'bootstrap_type': 'MVS', 'l2_leaf_reg': 5.514791084667695, 'random_strength': 4.313321518563192}. Best is trial 0 with value: -0.8938707741569903.\u001b[0m\n"
     ]
    },
    {
     "name": "stdout",
     "output_type": "stream",
     "text": [
      "Stopped by overfitting detector  (100 iterations wait)\n",
      "\n",
      "bestTest = 0.8938826645\n",
      "bestIteration = 23\n",
      "\n",
      "Shrink model to first 24 iterations.\n",
      "0:\tlearn: 1.0620723\ttest: 1.0620723\ttest1: 0.8991272\tbest: 0.8991272 (0)\ttotal: 133ms\tremaining: 22m 11s\n",
      "100:\tlearn: 1.0267536\ttest: 1.0267536\ttest1: 0.9168536\tbest: 0.8934915 (8)\ttotal: 10s\tremaining: 16m 24s\n"
     ]
    },
    {
     "name": "stderr",
     "output_type": "stream",
     "text": [
      "\u001b[32m[I 2021-07-30 15:10:28,656]\u001b[0m Trial 2 finished with value: -0.8934845852815534 and parameters: {'colsample_bylevel': 0.0966726393195877, 'depth': 10, 'boosting_type': 'Plain', 'bootstrap_type': 'Bayesian', 'l2_leaf_reg': 11.919001458973872, 'random_strength': 6.508714387866497, 'bagging_temperature': 2.8963716543471127}. Best is trial 2 with value: -0.8934845852815534.\u001b[0m\n"
     ]
    },
    {
     "name": "stdout",
     "output_type": "stream",
     "text": [
      "Stopped by overfitting detector  (100 iterations wait)\n",
      "\n",
      "bestTest = 0.8934915146\n",
      "bestIteration = 8\n",
      "\n",
      "Shrink model to first 9 iterations.\n",
      "0:\tlearn: 1.0636837\ttest: 1.0636837\ttest1: 0.9003697\tbest: 0.9003697 (0)\ttotal: 99.5ms\tremaining: 16m 34s\n",
      "100:\tlearn: 1.0442413\ttest: 1.0442413\ttest1: 0.8900772\tbest: 0.8894297 (92)\ttotal: 7.55s\tremaining: 12m 20s\n",
      "200:\tlearn: 1.0377864\ttest: 1.0377864\ttest1: 0.8900719\tbest: 0.8890383 (190)\ttotal: 14.2s\tremaining: 11m 32s\n",
      "300:\tlearn: 1.0330928\ttest: 1.0330928\ttest1: 0.8882526\tbest: 0.8879650 (296)\ttotal: 20.9s\tremaining: 11m 11s\n",
      "400:\tlearn: 1.0306370\ttest: 1.0306370\ttest1: 0.8895835\tbest: 0.8878373 (337)\ttotal: 27.4s\tremaining: 10m 57s\n"
     ]
    },
    {
     "name": "stderr",
     "output_type": "stream",
     "text": [
      "\u001b[32m[I 2021-07-30 15:10:59,041]\u001b[0m Trial 3 finished with value: -0.8877679223611726 and parameters: {'colsample_bylevel': 0.020357212326233123, 'depth': 4, 'boosting_type': 'Plain', 'bootstrap_type': 'Bernoulli', 'l2_leaf_reg': 11.845125831043715, 'random_strength': 2.46677070066292, 'subsample': 0.5610926292464484}. Best is trial 3 with value: -0.8877679223611726.\u001b[0m\n"
     ]
    },
    {
     "name": "stdout",
     "output_type": "stream",
     "text": [
      "Stopped by overfitting detector  (100 iterations wait)\n",
      "\n",
      "bestTest = 0.8878373163\n",
      "bestIteration = 337\n",
      "\n",
      "Shrink model to first 338 iterations.\n",
      "0:\tlearn: 1.0636519\ttest: 1.0636519\ttest1: 0.9011957\tbest: 0.9011957 (0)\ttotal: 117ms\tremaining: 19m 26s\n",
      "100:\tlearn: 1.0303921\ttest: 1.0303921\ttest1: 0.9041664\tbest: 0.8976138 (8)\ttotal: 9.14s\tremaining: 14m 55s\n"
     ]
    },
    {
     "name": "stderr",
     "output_type": "stream",
     "text": [
      "\u001b[32m[I 2021-07-30 15:11:09,362]\u001b[0m Trial 4 finished with value: -0.897608709409115 and parameters: {'colsample_bylevel': 0.033162577249046324, 'depth': 8, 'boosting_type': 'Plain', 'bootstrap_type': 'MVS', 'l2_leaf_reg': 15.681135458967184, 'random_strength': 0.4630398869497799}. Best is trial 3 with value: -0.8877679223611726.\u001b[0m\n"
     ]
    },
    {
     "name": "stdout",
     "output_type": "stream",
     "text": [
      "Stopped by overfitting detector  (100 iterations wait)\n",
      "\n",
      "bestTest = 0.897613769\n",
      "bestIteration = 8\n",
      "\n",
      "Shrink model to first 9 iterations.\n",
      "0:\tlearn: 1.0630500\ttest: 1.0630500\ttest1: 0.8999783\tbest: 0.8999783 (0)\ttotal: 119ms\tremaining: 19m 53s\n",
      "100:\tlearn: 1.0331088\ttest: 1.0331088\ttest1: 0.8997682\tbest: 0.8939001 (16)\ttotal: 13.2s\tremaining: 21m 29s\n"
     ]
    },
    {
     "name": "stderr",
     "output_type": "stream",
     "text": [
      "\u001b[32m[I 2021-07-30 15:11:25,007]\u001b[0m Trial 5 finished with value: -0.8938981631815637 and parameters: {'colsample_bylevel': 0.0977907389537551, 'depth': 9, 'boosting_type': 'Ordered', 'bootstrap_type': 'Bernoulli', 'l2_leaf_reg': 2.8144013509108707, 'random_strength': 6.555140987277394, 'subsample': 0.44557127525686757}. Best is trial 3 with value: -0.8877679223611726.\u001b[0m\n"
     ]
    },
    {
     "name": "stdout",
     "output_type": "stream",
     "text": [
      "Stopped by overfitting detector  (100 iterations wait)\n",
      "\n",
      "bestTest = 0.8939001391\n",
      "bestIteration = 16\n",
      "\n",
      "Shrink model to first 17 iterations.\n",
      "0:\tlearn: 1.0630687\ttest: 1.0630687\ttest1: 0.9002356\tbest: 0.9002356 (0)\ttotal: 115ms\tremaining: 19m 7s\n",
      "100:\tlearn: 1.0321720\ttest: 1.0321720\ttest1: 0.9140380\tbest: 0.8972097 (3)\ttotal: 9.09s\tremaining: 14m 50s\n"
     ]
    },
    {
     "name": "stderr",
     "output_type": "stream",
     "text": [
      "\u001b[32m[I 2021-07-30 15:11:34,803]\u001b[0m Trial 6 finished with value: -0.8972048873337324 and parameters: {'colsample_bylevel': 0.020683955856890972, 'depth': 10, 'boosting_type': 'Plain', 'bootstrap_type': 'Bayesian', 'l2_leaf_reg': 4.530240796785757, 'random_strength': 6.2456656659335135, 'bagging_temperature': 3.6300294950336918}. Best is trial 3 with value: -0.8877679223611726.\u001b[0m\n"
     ]
    },
    {
     "name": "stdout",
     "output_type": "stream",
     "text": [
      "Stopped by overfitting detector  (100 iterations wait)\n",
      "\n",
      "bestTest = 0.8972097013\n",
      "bestIteration = 3\n",
      "\n",
      "Shrink model to first 4 iterations.\n",
      "0:\tlearn: 1.0631042\ttest: 1.0631042\ttest1: 0.9006386\tbest: 0.9006386 (0)\ttotal: 117ms\tremaining: 19m 25s\n",
      "100:\tlearn: 1.0315716\ttest: 1.0315716\ttest1: 0.8935522\tbest: 0.8895559 (9)\ttotal: 9.36s\tremaining: 15m 17s\n"
     ]
    },
    {
     "name": "stderr",
     "output_type": "stream",
     "text": [
      "\u001b[32m[I 2021-07-30 15:11:45,559]\u001b[0m Trial 7 finished with value: -0.8895467656158564 and parameters: {'colsample_bylevel': 0.06627854916175545, 'depth': 8, 'boosting_type': 'Plain', 'bootstrap_type': 'MVS', 'l2_leaf_reg': 4.639270508602006, 'random_strength': 0.9120096168043301}. Best is trial 3 with value: -0.8877679223611726.\u001b[0m\n"
     ]
    },
    {
     "name": "stdout",
     "output_type": "stream",
     "text": [
      "Stopped by overfitting detector  (100 iterations wait)\n",
      "\n",
      "bestTest = 0.8895558719\n",
      "bestIteration = 9\n",
      "\n",
      "Shrink model to first 10 iterations.\n",
      "0:\tlearn: 1.0637805\ttest: 1.0637805\ttest1: 0.9007776\tbest: 0.9007776 (0)\ttotal: 100ms\tremaining: 16m 42s\n",
      "100:\tlearn: 1.0430408\ttest: 1.0430408\ttest1: 0.8930147\tbest: 0.8923186 (25)\ttotal: 9.14s\tremaining: 14m 56s\n",
      "200:\tlearn: 1.0354903\ttest: 1.0354903\ttest1: 0.8907022\tbest: 0.8907022 (200)\ttotal: 16.8s\tremaining: 13m 40s\n",
      "300:\tlearn: 1.0330058\ttest: 1.0330058\ttest1: 0.8908904\tbest: 0.8901247 (257)\ttotal: 24.4s\tremaining: 13m 6s\n"
     ]
    },
    {
     "name": "stderr",
     "output_type": "stream",
     "text": [
      "\u001b[32m[I 2021-07-30 15:12:14,902]\u001b[0m Trial 8 finished with value: -0.8900202104996984 and parameters: {'colsample_bylevel': 0.06552052224045114, 'depth': 5, 'boosting_type': 'Ordered', 'bootstrap_type': 'Bernoulli', 'l2_leaf_reg': 13.03995229955125, 'random_strength': 2.3259477086498412, 'subsample': 0.16465600469661773}. Best is trial 3 with value: -0.8877679223611726.\u001b[0m\n"
     ]
    },
    {
     "name": "stdout",
     "output_type": "stream",
     "text": [
      "Stopped by overfitting detector  (100 iterations wait)\n",
      "\n",
      "bestTest = 0.8901247047\n",
      "bestIteration = 257\n",
      "\n",
      "Shrink model to first 258 iterations.\n",
      "0:\tlearn: 1.0634788\ttest: 1.0634788\ttest1: 0.8999472\tbest: 0.8999472 (0)\ttotal: 122ms\tremaining: 20m 23s\n",
      "100:\tlearn: 1.0330252\ttest: 1.0330252\ttest1: 0.8934907\tbest: 0.8893152 (28)\ttotal: 12.1s\tremaining: 19m 44s\n"
     ]
    },
    {
     "name": "stderr",
     "output_type": "stream",
     "text": [
      "\u001b[32m[I 2021-07-30 15:12:30,454]\u001b[0m Trial 9 finished with value: -0.8892839920957409 and parameters: {'colsample_bylevel': 0.09899724172364761, 'depth': 9, 'boosting_type': 'Ordered', 'bootstrap_type': 'Bernoulli', 'l2_leaf_reg': 7.46427898720742, 'random_strength': 6.228459062537067, 'subsample': 0.1936457669720889}. Best is trial 3 with value: -0.8877679223611726.\u001b[0m\n"
     ]
    },
    {
     "name": "stdout",
     "output_type": "stream",
     "text": [
      "Stopped by overfitting detector  (100 iterations wait)\n",
      "\n",
      "bestTest = 0.8893151696\n",
      "bestIteration = 28\n",
      "\n",
      "Shrink model to first 29 iterations.\n",
      "0:\tlearn: 1.0638190\ttest: 1.0638190\ttest1: 0.9009448\tbest: 0.9009448 (0)\ttotal: 105ms\tremaining: 17m 30s\n",
      "100:\tlearn: 1.0475661\ttest: 1.0475661\ttest1: 0.8936075\tbest: 0.8936037 (99)\ttotal: 7.52s\tremaining: 12m 17s\n",
      "200:\tlearn: 1.0414712\ttest: 1.0414712\ttest1: 0.8952245\tbest: 0.8913313 (151)\ttotal: 14.3s\tremaining: 11m 35s\n"
     ]
    },
    {
     "name": "stderr",
     "output_type": "stream",
     "text": [
      "\u001b[32m[I 2021-07-30 15:12:48,638]\u001b[0m Trial 10 finished with value: -0.891286660630546 and parameters: {'colsample_bylevel': 0.010390909084796866, 'depth': 5, 'boosting_type': 'Plain', 'bootstrap_type': 'Bernoulli', 'l2_leaf_reg': 19.597446190915054, 'random_strength': 9.048134000775356, 'subsample': 0.8925081130743758}. Best is trial 3 with value: -0.8877679223611726.\u001b[0m\n"
     ]
    },
    {
     "name": "stdout",
     "output_type": "stream",
     "text": [
      "Stopped by overfitting detector  (100 iterations wait)\n",
      "\n",
      "bestTest = 0.8913312907\n",
      "bestIteration = 151\n",
      "\n",
      "Shrink model to first 152 iterations.\n",
      "0:\tlearn: 1.0640050\ttest: 1.0640050\ttest1: 0.9011249\tbest: 0.9011249 (0)\ttotal: 135ms\tremaining: 22m 29s\n",
      "100:\tlearn: 1.0466632\ttest: 1.0466632\ttest1: 0.8976185\tbest: 0.8927940 (38)\ttotal: 10.1s\tremaining: 16m 33s\n"
     ]
    },
    {
     "name": "stderr",
     "output_type": "stream",
     "text": [
      "\u001b[32m[I 2021-07-30 15:13:02,801]\u001b[0m Trial 11 finished with value: -0.8927948559698851 and parameters: {'colsample_bylevel': 0.0450390820392946, 'depth': 4, 'boosting_type': 'Ordered', 'bootstrap_type': 'Bernoulli', 'l2_leaf_reg': 8.29667337187497, 'random_strength': 3.7953263588288433, 'subsample': 0.6971852048885807}. Best is trial 3 with value: -0.8877679223611726.\u001b[0m\n"
     ]
    },
    {
     "name": "stdout",
     "output_type": "stream",
     "text": [
      "Stopped by overfitting detector  (100 iterations wait)\n",
      "\n",
      "bestTest = 0.8927939808\n",
      "bestIteration = 38\n",
      "\n",
      "Shrink model to first 39 iterations.\n",
      "0:\tlearn: 1.0638383\ttest: 1.0638383\ttest1: 0.9010682\tbest: 0.9010682 (0)\ttotal: 133ms\tremaining: 22m 13s\n",
      "100:\tlearn: 1.0401807\ttest: 1.0401807\ttest1: 0.8962029\tbest: 0.8910668 (17)\ttotal: 9.15s\tremaining: 14m 56s\n"
     ]
    },
    {
     "name": "stderr",
     "output_type": "stream",
     "text": [
      "\u001b[32m[I 2021-07-30 15:13:13,910]\u001b[0m Trial 12 finished with value: -0.8910673543611749 and parameters: {'colsample_bylevel': 0.08527448462357702, 'depth': 6, 'boosting_type': 'Ordered', 'bootstrap_type': 'Bernoulli', 'l2_leaf_reg': 8.94054330752345, 'random_strength': 8.73046618528192, 'subsample': 0.2291818064395805}. Best is trial 3 with value: -0.8877679223611726.\u001b[0m\n"
     ]
    },
    {
     "name": "stdout",
     "output_type": "stream",
     "text": [
      "Stopped by overfitting detector  (100 iterations wait)\n",
      "\n",
      "bestTest = 0.8910668408\n",
      "bestIteration = 17\n",
      "\n",
      "Shrink model to first 18 iterations.\n",
      "0:\tlearn: 1.0629972\ttest: 1.0629972\ttest1: 0.9004352\tbest: 0.9004352 (0)\ttotal: 121ms\tremaining: 20m 5s\n",
      "100:\tlearn: 1.0332795\ttest: 1.0332795\ttest1: 0.8975218\tbest: 0.8957461 (52)\ttotal: 10.9s\tremaining: 17m 53s\n"
     ]
    },
    {
     "name": "stderr",
     "output_type": "stream",
     "text": [
      "\u001b[32m[I 2021-07-30 15:13:30,986]\u001b[0m Trial 13 finished with value: -0.8957134647273153 and parameters: {'colsample_bylevel': 0.03884195311761539, 'depth': 8, 'boosting_type': 'Ordered', 'bootstrap_type': 'Bernoulli', 'l2_leaf_reg': 15.843150864730205, 'random_strength': 2.584722198315474, 'subsample': 0.6428854552044047}. Best is trial 3 with value: -0.8877679223611726.\u001b[0m\n"
     ]
    },
    {
     "name": "stdout",
     "output_type": "stream",
     "text": [
      "Stopped by overfitting detector  (100 iterations wait)\n",
      "\n",
      "bestTest = 0.8957461383\n",
      "bestIteration = 52\n",
      "\n",
      "Shrink model to first 53 iterations.\n",
      "0:\tlearn: 1.0653443\ttest: 1.0653443\ttest1: 0.9027098\tbest: 0.9027098 (0)\ttotal: 71.8ms\tremaining: 11m 58s\n",
      "100:\tlearn: 1.0482706\ttest: 1.0482706\ttest1: 0.8941999\tbest: 0.8941999 (100)\ttotal: 8.34s\tremaining: 13m 37s\n",
      "200:\tlearn: 1.0397483\ttest: 1.0397483\ttest1: 0.8903302\tbest: 0.8900848 (193)\ttotal: 16s\tremaining: 13m 1s\n",
      "300:\tlearn: 1.0355786\ttest: 1.0355786\ttest1: 0.8891924\tbest: 0.8890538 (293)\ttotal: 23.5s\tremaining: 12m 37s\n",
      "400:\tlearn: 1.0327087\ttest: 1.0327087\ttest1: 0.8897439\tbest: 0.8885615 (343)\ttotal: 31.3s\tremaining: 12m 28s\n"
     ]
    },
    {
     "name": "stderr",
     "output_type": "stream",
     "text": [
      "\u001b[32m[I 2021-07-30 15:14:06,072]\u001b[0m Trial 14 finished with value: -0.8885205525755571 and parameters: {'colsample_bylevel': 0.014467092480980132, 'depth': 4, 'boosting_type': 'Ordered', 'bootstrap_type': 'Bernoulli', 'l2_leaf_reg': 7.625980793647928, 'random_strength': 5.318026595530511, 'subsample': 0.3452810518202234}. Best is trial 3 with value: -0.8877679223611726.\u001b[0m\n"
     ]
    },
    {
     "name": "stdout",
     "output_type": "stream",
     "text": [
      "Stopped by overfitting detector  (100 iterations wait)\n",
      "\n",
      "bestTest = 0.888561476\n",
      "bestIteration = 343\n",
      "\n",
      "Shrink model to first 344 iterations.\n",
      "0:\tlearn: 1.0646379\ttest: 1.0646379\ttest1: 0.9019687\tbest: 0.9019687 (0)\ttotal: 112ms\tremaining: 18m 44s\n",
      "100:\tlearn: 1.0490230\ttest: 1.0490230\ttest1: 0.8905749\tbest: 0.8904622 (97)\ttotal: 9.07s\tremaining: 14m 49s\n"
     ]
    },
    {
     "name": "stderr",
     "output_type": "stream",
     "text": [
      "\u001b[32m[I 2021-07-30 15:14:23,902]\u001b[0m Trial 15 finished with value: -0.8904361009258214 and parameters: {'colsample_bylevel': 0.012140388259248219, 'depth': 4, 'boosting_type': 'Ordered', 'bootstrap_type': 'Bayesian', 'l2_leaf_reg': 0.7948118849576264, 'random_strength': 2.406951258265754, 'bagging_temperature': 9.43125393276947}. Best is trial 3 with value: -0.8877679223611726.\u001b[0m\n"
     ]
    },
    {
     "name": "stdout",
     "output_type": "stream",
     "text": [
      "Stopped by overfitting detector  (100 iterations wait)\n",
      "\n",
      "bestTest = 0.8904622048\n",
      "bestIteration = 97\n",
      "\n",
      "Shrink model to first 98 iterations.\n",
      "0:\tlearn: 1.0639436\ttest: 1.0639436\ttest1: 0.9012117\tbest: 0.9012117 (0)\ttotal: 104ms\tremaining: 17m 20s\n",
      "100:\tlearn: 1.0451388\ttest: 1.0451388\ttest1: 0.8987828\tbest: 0.8957650 (8)\ttotal: 9.61s\tremaining: 15m 41s\n"
     ]
    },
    {
     "name": "stderr",
     "output_type": "stream",
     "text": [
      "\u001b[32m[I 2021-07-30 15:14:34,723]\u001b[0m Trial 16 finished with value: -0.8957660331123993 and parameters: {'colsample_bylevel': 0.02419097740735482, 'depth': 5, 'boosting_type': 'Ordered', 'bootstrap_type': 'Bernoulli', 'l2_leaf_reg': 11.560233961302306, 'random_strength': 5.00598935737287, 'subsample': 0.376926211780781}. Best is trial 3 with value: -0.8877679223611726.\u001b[0m\n"
     ]
    },
    {
     "name": "stdout",
     "output_type": "stream",
     "text": [
      "Stopped by overfitting detector  (100 iterations wait)\n",
      "\n",
      "bestTest = 0.8957650332\n",
      "bestIteration = 8\n",
      "\n",
      "Shrink model to first 9 iterations.\n",
      "0:\tlearn: 1.0640793\ttest: 1.0640793\ttest1: 0.9009594\tbest: 0.9009594 (0)\ttotal: 102ms\tremaining: 16m 56s\n",
      "100:\tlearn: 1.0440814\ttest: 1.0440814\ttest1: 0.8906672\tbest: 0.8890450 (78)\ttotal: 8.76s\tremaining: 14m 18s\n",
      "200:\tlearn: 1.0371037\ttest: 1.0371037\ttest1: 0.8869891\tbest: 0.8867425 (193)\ttotal: 15.8s\tremaining: 12m 49s\n",
      "300:\tlearn: 1.0341728\ttest: 1.0341728\ttest1: 0.8852178\tbest: 0.8852176 (299)\ttotal: 22.7s\tremaining: 12m 10s\n",
      "400:\tlearn: 1.0317259\ttest: 1.0317259\ttest1: 0.8851010\tbest: 0.8849326 (394)\ttotal: 29.6s\tremaining: 11m 48s\n",
      "500:\tlearn: 1.0290150\ttest: 1.0290150\ttest1: 0.8840174\tbest: 0.8839001 (490)\ttotal: 36.6s\tremaining: 11m 33s\n",
      "600:\tlearn: 1.0276488\ttest: 1.0276488\ttest1: 0.8847716\tbest: 0.8838589 (512)\ttotal: 43.5s\tremaining: 11m 20s\n"
     ]
    },
    {
     "name": "stderr",
     "output_type": "stream",
     "text": [
      "\u001b[32m[I 2021-07-30 15:15:19,641]\u001b[0m Trial 17 finished with value: -0.8837741130261728 and parameters: {'colsample_bylevel': 0.022446544697452553, 'depth': 4, 'boosting_type': 'Plain', 'bootstrap_type': 'Bernoulli', 'l2_leaf_reg': 14.335364448805114, 'random_strength': 7.991983535650494, 'subsample': 0.7986313427902321}. Best is trial 17 with value: -0.8837741130261728.\u001b[0m\n"
     ]
    },
    {
     "name": "stdout",
     "output_type": "stream",
     "text": [
      "Stopped by overfitting detector  (100 iterations wait)\n",
      "\n",
      "bestTest = 0.8838589199\n",
      "bestIteration = 512\n",
      "\n",
      "Shrink model to first 513 iterations.\n",
      "0:\tlearn: 1.0643398\ttest: 1.0643398\ttest1: 0.9012926\tbest: 0.9012926 (0)\ttotal: 112ms\tremaining: 18m 35s\n",
      "100:\tlearn: 1.0400123\ttest: 1.0400123\ttest1: 0.8972222\tbest: 0.8952172 (42)\ttotal: 8.97s\tremaining: 14m 39s\n"
     ]
    },
    {
     "name": "stderr",
     "output_type": "stream",
     "text": [
      "\u001b[32m[I 2021-07-30 15:15:32,438]\u001b[0m Trial 18 finished with value: -0.8952109253602534 and parameters: {'colsample_bylevel': 0.027995542265633847, 'depth': 6, 'boosting_type': 'Plain', 'bootstrap_type': 'Bernoulli', 'l2_leaf_reg': 15.470206241717346, 'random_strength': 7.940581247325779, 'subsample': 0.9185579761706261}. Best is trial 17 with value: -0.8837741130261728.\u001b[0m\n"
     ]
    },
    {
     "name": "stdout",
     "output_type": "stream",
     "text": [
      "Stopped by overfitting detector  (100 iterations wait)\n",
      "\n",
      "bestTest = 0.8952172314\n",
      "bestIteration = 42\n",
      "\n",
      "Shrink model to first 43 iterations.\n",
      "0:\tlearn: 1.0639458\ttest: 1.0639458\ttest1: 0.9021948\tbest: 0.9021948 (0)\ttotal: 113ms\tremaining: 18m 47s\n",
      "100:\tlearn: 1.0447674\ttest: 1.0447674\ttest1: 0.8937082\tbest: 0.8934787 (39)\ttotal: 7.97s\tremaining: 13m 1s\n",
      "200:\tlearn: 1.0369505\ttest: 1.0369505\ttest1: 0.8915125\tbest: 0.8915125 (200)\ttotal: 15.4s\tremaining: 12m 33s\n",
      "300:\tlearn: 1.0349683\ttest: 1.0349683\ttest1: 0.8908076\tbest: 0.8907940 (221)\ttotal: 22.9s\tremaining: 12m 17s\n",
      "400:\tlearn: 1.0328671\ttest: 1.0328671\ttest1: 0.8908654\tbest: 0.8901834 (360)\ttotal: 30.3s\tremaining: 12m 5s\n"
     ]
    },
    {
     "name": "stderr",
     "output_type": "stream",
     "text": [
      "\u001b[32m[I 2021-07-30 15:16:07,751]\u001b[0m Trial 19 finished with value: -0.8900599475497142 and parameters: {'colsample_bylevel': 0.04158930196338412, 'depth': 6, 'boosting_type': 'Plain', 'bootstrap_type': 'Bayesian', 'l2_leaf_reg': 19.749858868587083, 'random_strength': 3.1709540428632748, 'bagging_temperature': 7.919143977856784}. Best is trial 17 with value: -0.8837741130261728.\u001b[0m\n"
     ]
    },
    {
     "name": "stdout",
     "output_type": "stream",
     "text": [
      "Stopped by overfitting detector  (100 iterations wait)\n",
      "\n",
      "bestTest = 0.8901834075\n",
      "bestIteration = 360\n",
      "\n",
      "Shrink model to first 361 iterations.\n",
      "0:\tlearn: 1.0640519\ttest: 1.0640519\ttest1: 0.9012131\tbest: 0.9012131 (0)\ttotal: 104ms\tremaining: 17m 22s\n",
      "100:\tlearn: 1.0430868\ttest: 1.0430868\ttest1: 0.8873624\tbest: 0.8873624 (100)\ttotal: 7.84s\tremaining: 12m 48s\n",
      "200:\tlearn: 1.0377911\ttest: 1.0377911\ttest1: 0.8839935\tbest: 0.8839904 (199)\ttotal: 14.9s\tremaining: 12m 8s\n",
      "300:\tlearn: 1.0358901\ttest: 1.0358901\ttest1: 0.8833305\tbest: 0.8833305 (300)\ttotal: 22s\tremaining: 11m 48s\n",
      "400:\tlearn: 1.0332532\ttest: 1.0332532\ttest1: 0.8817913\tbest: 0.8817913 (400)\ttotal: 29s\tremaining: 11m 35s\n",
      "500:\tlearn: 1.0315681\ttest: 1.0315681\ttest1: 0.8818859\tbest: 0.8817256 (402)\ttotal: 36s\tremaining: 11m 22s\n",
      "Stopped by overfitting detector  (100 iterations wait)\n",
      "\n",
      "bestTest = 0.8817255703\n",
      "bestIteration = 402\n",
      "\n",
      "Shrink model to first 403 iterations.\n"
     ]
    },
    {
     "name": "stderr",
     "output_type": "stream",
     "text": [
      "\u001b[32m[I 2021-07-30 15:16:44,546]\u001b[0m Trial 20 finished with value: -0.8816652484143658 and parameters: {'colsample_bylevel': 0.04744679989018623, 'depth': 4, 'boosting_type': 'Plain', 'bootstrap_type': 'MVS', 'l2_leaf_reg': 17.40108964572644, 'random_strength': 8.042633021725212}. Best is trial 20 with value: -0.8816652484143658.\u001b[0m\n"
     ]
    },
    {
     "name": "stdout",
     "output_type": "stream",
     "text": [
      "0:\tlearn: 1.0638814\ttest: 1.0638814\ttest1: 0.9010513\tbest: 0.9010513 (0)\ttotal: 106ms\tremaining: 17m 37s\n",
      "100:\tlearn: 1.0471909\ttest: 1.0471909\ttest1: 0.8906584\tbest: 0.8906584 (100)\ttotal: 9.18s\tremaining: 14m 59s\n",
      "200:\tlearn: 1.0391905\ttest: 1.0391905\ttest1: 0.8882720\tbest: 0.8881432 (199)\ttotal: 16.6s\tremaining: 13m 27s\n",
      "300:\tlearn: 1.0343268\ttest: 1.0343268\ttest1: 0.8860980\tbest: 0.8860975 (299)\ttotal: 23.6s\tremaining: 12m 39s\n",
      "400:\tlearn: 1.0319434\ttest: 1.0319434\ttest1: 0.8850768\tbest: 0.8849652 (373)\ttotal: 30.6s\tremaining: 12m 11s\n",
      "500:\tlearn: 1.0303902\ttest: 1.0303902\ttest1: 0.8842848\tbest: 0.8842848 (500)\ttotal: 37.6s\tremaining: 11m 52s\n",
      "600:\tlearn: 1.0298322\ttest: 1.0298322\ttest1: 0.8879170\tbest: 0.8835256 (560)\ttotal: 44.5s\tremaining: 11m 36s\n"
     ]
    },
    {
     "name": "stderr",
     "output_type": "stream",
     "text": [
      "\u001b[32m[I 2021-07-30 15:17:33,740]\u001b[0m Trial 21 finished with value: -0.8834575021314269 and parameters: {'colsample_bylevel': 0.05090043182452149, 'depth': 4, 'boosting_type': 'Plain', 'bootstrap_type': 'MVS', 'l2_leaf_reg': 17.210982542774172, 'random_strength': 7.69160915064789}. Best is trial 20 with value: -0.8816652484143658.\u001b[0m\n"
     ]
    },
    {
     "name": "stdout",
     "output_type": "stream",
     "text": [
      "Stopped by overfitting detector  (100 iterations wait)\n",
      "\n",
      "bestTest = 0.8835256262\n",
      "bestIteration = 560\n",
      "\n",
      "Shrink model to first 561 iterations.\n",
      "0:\tlearn: 1.0638260\ttest: 1.0638260\ttest1: 0.9010161\tbest: 0.9010161 (0)\ttotal: 108ms\tremaining: 17m 56s\n",
      "100:\tlearn: 1.0428308\ttest: 1.0428308\ttest1: 0.8986398\tbest: 0.8905598 (41)\ttotal: 8.86s\tremaining: 14m 28s\n"
     ]
    },
    {
     "name": "stderr",
     "output_type": "stream",
     "text": [
      "\u001b[32m[I 2021-07-30 15:17:46,142]\u001b[0m Trial 22 finished with value: -0.89055977443997 and parameters: {'colsample_bylevel': 0.050092317523395644, 'depth': 5, 'boosting_type': 'Plain', 'bootstrap_type': 'MVS', 'l2_leaf_reg': 17.858315640462884, 'random_strength': 7.837088626755316}. Best is trial 20 with value: -0.8816652484143658.\u001b[0m\n"
     ]
    },
    {
     "name": "stdout",
     "output_type": "stream",
     "text": [
      "Stopped by overfitting detector  (100 iterations wait)\n",
      "\n",
      "bestTest = 0.8905598044\n",
      "bestIteration = 41\n",
      "\n",
      "Shrink model to first 42 iterations.\n",
      "0:\tlearn: 1.0640943\ttest: 1.0640943\ttest1: 0.9012565\tbest: 0.9012565 (0)\ttotal: 105ms\tremaining: 17m 27s\n",
      "100:\tlearn: 1.0467143\ttest: 1.0467143\ttest1: 0.8984396\tbest: 0.8962760 (8)\ttotal: 9.06s\tremaining: 14m 47s\n"
     ]
    },
    {
     "name": "stderr",
     "output_type": "stream",
     "text": [
      "\u001b[32m[I 2021-07-30 15:17:56,273]\u001b[0m Trial 23 finished with value: -0.8962769652729742 and parameters: {'colsample_bylevel': 0.05594724230656178, 'depth': 4, 'boosting_type': 'Plain', 'bootstrap_type': 'MVS', 'l2_leaf_reg': 17.58170021594106, 'random_strength': 9.545403331109659}. Best is trial 20 with value: -0.8816652484143658.\u001b[0m\n"
     ]
    },
    {
     "name": "stdout",
     "output_type": "stream",
     "text": [
      "Stopped by overfitting detector  (100 iterations wait)\n",
      "\n",
      "bestTest = 0.8962759654\n",
      "bestIteration = 8\n",
      "\n",
      "Shrink model to first 9 iterations.\n",
      "0:\tlearn: 1.0632570\ttest: 1.0632570\ttest1: 0.9000333\tbest: 0.9000333 (0)\ttotal: 111ms\tremaining: 18m 28s\n",
      "100:\tlearn: 1.0407472\ttest: 1.0407472\ttest1: 0.8910179\tbest: 0.8899484 (85)\ttotal: 7.88s\tremaining: 12m 52s\n"
     ]
    },
    {
     "name": "stderr",
     "output_type": "stream",
     "text": [
      "\u001b[32m[I 2021-07-30 15:18:11,003]\u001b[0m Trial 24 finished with value: -0.8899367792942218 and parameters: {'colsample_bylevel': 0.07734126208629347, 'depth': 5, 'boosting_type': 'Plain', 'bootstrap_type': 'MVS', 'l2_leaf_reg': 14.19394694335155, 'random_strength': 7.524001925023334}. Best is trial 20 with value: -0.8816652484143658.\u001b[0m\n"
     ]
    },
    {
     "name": "stdout",
     "output_type": "stream",
     "text": [
      "Stopped by overfitting detector  (100 iterations wait)\n",
      "\n",
      "bestTest = 0.8899484316\n",
      "bestIteration = 85\n",
      "\n",
      "Shrink model to first 86 iterations.\n",
      "0:\tlearn: 1.0640943\ttest: 1.0640943\ttest1: 0.9012565\tbest: 0.9012565 (0)\ttotal: 104ms\tremaining: 17m 17s\n",
      "100:\tlearn: 1.0469138\ttest: 1.0469138\ttest1: 0.8978289\tbest: 0.8962760 (8)\ttotal: 8.95s\tremaining: 14m 37s\n"
     ]
    },
    {
     "name": "stderr",
     "output_type": "stream",
     "text": [
      "\u001b[32m[I 2021-07-30 15:18:21,058]\u001b[0m Trial 25 finished with value: -0.8962769652729742 and parameters: {'colsample_bylevel': 0.05607160859626395, 'depth': 4, 'boosting_type': 'Plain', 'bootstrap_type': 'MVS', 'l2_leaf_reg': 17.979084143009207, 'random_strength': 9.884381855680424}. Best is trial 20 with value: -0.8816652484143658.\u001b[0m\n"
     ]
    },
    {
     "name": "stdout",
     "output_type": "stream",
     "text": [
      "Stopped by overfitting detector  (100 iterations wait)\n",
      "\n",
      "bestTest = 0.8962759654\n",
      "bestIteration = 8\n",
      "\n",
      "Shrink model to first 9 iterations.\n",
      "0:\tlearn: 1.0636807\ttest: 1.0636807\ttest1: 0.9024380\tbest: 0.9024380 (0)\ttotal: 112ms\tremaining: 18m 35s\n",
      "100:\tlearn: 1.0419063\ttest: 1.0419063\ttest1: 0.8965749\tbest: 0.8943280 (44)\ttotal: 8.54s\tremaining: 13m 57s\n"
     ]
    },
    {
     "name": "stderr",
     "output_type": "stream",
     "text": [
      "\u001b[32m[I 2021-07-30 15:18:33,481]\u001b[0m Trial 26 finished with value: -0.8943284544557826 and parameters: {'colsample_bylevel': 0.03607097964935693, 'depth': 6, 'boosting_type': 'Plain', 'bootstrap_type': 'MVS', 'l2_leaf_reg': 16.822215791972766, 'random_strength': 8.454206218060405}. Best is trial 20 with value: -0.8816652484143658.\u001b[0m\n"
     ]
    },
    {
     "name": "stdout",
     "output_type": "stream",
     "text": [
      "Stopped by overfitting detector  (100 iterations wait)\n",
      "\n",
      "bestTest = 0.8943279832\n",
      "bestIteration = 44\n",
      "\n",
      "Shrink model to first 45 iterations.\n",
      "0:\tlearn: 1.0638260\ttest: 1.0638260\ttest1: 0.9010161\tbest: 0.9010161 (0)\ttotal: 110ms\tremaining: 18m 16s\n",
      "100:\tlearn: 1.0425185\ttest: 1.0425185\ttest1: 0.8922267\tbest: 0.8921502 (37)\ttotal: 8.51s\tremaining: 13m 53s\n",
      "200:\tlearn: 1.0347022\ttest: 1.0347022\ttest1: 0.8889925\tbest: 0.8884478 (182)\ttotal: 15.9s\tremaining: 12m 55s\n"
     ]
    },
    {
     "name": "stderr",
     "output_type": "stream",
     "text": [
      "\u001b[32m[I 2021-07-30 15:18:55,941]\u001b[0m Trial 27 finished with value: -0.8883736327488263 and parameters: {'colsample_bylevel': 0.049959533010599536, 'depth': 5, 'boosting_type': 'Plain', 'bootstrap_type': 'MVS', 'l2_leaf_reg': 19.43347796075325, 'random_strength': 7.2030672430770055}. Best is trial 20 with value: -0.8816652484143658.\u001b[0m\n"
     ]
    },
    {
     "name": "stdout",
     "output_type": "stream",
     "text": [
      "Stopped by overfitting detector  (100 iterations wait)\n",
      "\n",
      "bestTest = 0.8884477782\n",
      "bestIteration = 182\n",
      "\n",
      "Shrink model to first 183 iterations.\n",
      "0:\tlearn: 1.0640163\ttest: 1.0640163\ttest1: 0.9017360\tbest: 0.9017360 (0)\ttotal: 107ms\tremaining: 17m 46s\n",
      "100:\tlearn: 1.0461326\ttest: 1.0461326\ttest1: 0.8957712\tbest: 0.8957451 (98)\ttotal: 8.18s\tremaining: 13m 21s\n",
      "200:\tlearn: 1.0395829\ttest: 1.0395829\ttest1: 0.8947011\tbest: 0.8938809 (145)\ttotal: 15.1s\tremaining: 12m 17s\n",
      "300:\tlearn: 1.0366773\ttest: 1.0366773\ttest1: 0.8940453\tbest: 0.8932776 (284)\ttotal: 22.1s\tremaining: 11m 51s\n"
     ]
    },
    {
     "name": "stderr",
     "output_type": "stream",
     "text": [
      "\u001b[32m[I 2021-07-30 15:19:24,345]\u001b[0m Trial 28 finished with value: -0.8932112226376896 and parameters: {'colsample_bylevel': 0.030578666906893197, 'depth': 4, 'boosting_type': 'Plain', 'bootstrap_type': 'MVS', 'l2_leaf_reg': 13.980832720263303, 'random_strength': 9.260816668384715}. Best is trial 20 with value: -0.8816652484143658.\u001b[0m\n"
     ]
    },
    {
     "name": "stdout",
     "output_type": "stream",
     "text": [
      "Stopped by overfitting detector  (100 iterations wait)\n",
      "\n",
      "bestTest = 0.8932775876\n",
      "bestIteration = 284\n",
      "\n",
      "Shrink model to first 285 iterations.\n",
      "0:\tlearn: 1.0635677\ttest: 1.0635677\ttest1: 0.9004168\tbest: 0.9004168 (0)\ttotal: 115ms\tremaining: 19m 12s\n",
      "100:\tlearn: 1.0378393\ttest: 1.0378393\ttest1: 0.8961824\tbest: 0.8921085 (50)\ttotal: 9.99s\tremaining: 16m 19s\n"
     ]
    },
    {
     "name": "stderr",
     "output_type": "stream",
     "text": [
      "\u001b[32m[I 2021-07-30 15:19:39,223]\u001b[0m Trial 29 finished with value: -0.8920785559006432 and parameters: {'colsample_bylevel': 0.0759285522951437, 'depth': 7, 'boosting_type': 'Plain', 'bootstrap_type': 'MVS', 'l2_leaf_reg': 14.198096206444188, 'random_strength': 9.938959594005281}. Best is trial 20 with value: -0.8816652484143658.\u001b[0m\n"
     ]
    },
    {
     "name": "stdout",
     "output_type": "stream",
     "text": [
      "Stopped by overfitting detector  (100 iterations wait)\n",
      "\n",
      "bestTest = 0.8921085409\n",
      "bestIteration = 50\n",
      "\n",
      "Shrink model to first 51 iterations.\n",
      "0:\tlearn: 1.0638836\ttest: 1.0638836\ttest1: 0.9009534\tbest: 0.9009534 (0)\ttotal: 106ms\tremaining: 17m 41s\n",
      "100:\tlearn: 1.0416343\ttest: 1.0416343\ttest1: 0.8903009\tbest: 0.8894512 (40)\ttotal: 8.05s\tremaining: 13m 9s\n",
      "200:\tlearn: 1.0337412\ttest: 1.0337412\ttest1: 0.8886027\tbest: 0.8878685 (187)\ttotal: 15.5s\tremaining: 12m 34s\n"
     ]
    },
    {
     "name": "stderr",
     "output_type": "stream",
     "text": [
      "\u001b[32m[I 2021-07-30 15:20:01,596]\u001b[0m Trial 30 finished with value: -0.8878426101679826 and parameters: {'colsample_bylevel': 0.05993072405473466, 'depth': 5, 'boosting_type': 'Plain', 'bootstrap_type': 'MVS', 'l2_leaf_reg': 10.301937772251835, 'random_strength': 7.009101493777863}. Best is trial 20 with value: -0.8816652484143658.\u001b[0m\n"
     ]
    },
    {
     "name": "stdout",
     "output_type": "stream",
     "text": [
      "Stopped by overfitting detector  (100 iterations wait)\n",
      "\n",
      "bestTest = 0.8878685163\n",
      "bestIteration = 187\n",
      "\n",
      "Shrink model to first 188 iterations.\n",
      "0:\tlearn: 1.0640793\ttest: 1.0640793\ttest1: 0.9009594\tbest: 0.9009594 (0)\ttotal: 101ms\tremaining: 16m 54s\n",
      "100:\tlearn: 1.0458740\ttest: 1.0458740\ttest1: 0.8908247\tbest: 0.8908247 (100)\ttotal: 7.91s\tremaining: 12m 54s\n",
      "200:\tlearn: 1.0386980\ttest: 1.0386980\ttest1: 0.8899945\tbest: 0.8886943 (164)\ttotal: 14.9s\tremaining: 12m 6s\n",
      "300:\tlearn: 1.0344577\ttest: 1.0344577\ttest1: 0.8889254\tbest: 0.8881886 (278)\ttotal: 21.8s\tremaining: 11m 42s\n"
     ]
    },
    {
     "name": "stderr",
     "output_type": "stream",
     "text": [
      "\u001b[32m[I 2021-07-30 15:20:29,323]\u001b[0m Trial 31 finished with value: -0.8881306539035525 and parameters: {'colsample_bylevel': 0.020504821956714266, 'depth': 4, 'boosting_type': 'Plain', 'bootstrap_type': 'Bernoulli', 'l2_leaf_reg': 12.385552760914916, 'random_strength': 8.25877415267168, 'subsample': 0.7705718507942935}. Best is trial 20 with value: -0.8816652484143658.\u001b[0m\n"
     ]
    },
    {
     "name": "stdout",
     "output_type": "stream",
     "text": [
      "Stopped by overfitting detector  (100 iterations wait)\n",
      "\n",
      "bestTest = 0.8881885579\n",
      "bestIteration = 278\n",
      "\n",
      "Shrink model to first 279 iterations.\n",
      "0:\tlearn: 1.0641092\ttest: 1.0641092\ttest1: 0.9011978\tbest: 0.9011978 (0)\ttotal: 99.7ms\tremaining: 16m 36s\n",
      "100:\tlearn: 1.0430137\ttest: 1.0430137\ttest1: 0.8929347\tbest: 0.8929347 (100)\ttotal: 7.53s\tremaining: 12m 18s\n",
      "200:\tlearn: 1.0366842\ttest: 1.0366842\ttest1: 0.8891894\tbest: 0.8891693 (191)\ttotal: 14.3s\tremaining: 11m 38s\n",
      "300:\tlearn: 1.0349248\ttest: 1.0349248\ttest1: 0.8885846\tbest: 0.8885787 (288)\ttotal: 21.1s\tremaining: 11m 19s\n",
      "400:\tlearn: 1.0324299\ttest: 1.0324299\ttest1: 0.8879568\tbest: 0.8879568 (400)\ttotal: 27.9s\tremaining: 11m 6s\n",
      "500:\tlearn: 1.0309428\ttest: 1.0309428\ttest1: 0.8882571\tbest: 0.8877471 (491)\ttotal: 34.6s\tremaining: 10m 55s\n"
     ]
    },
    {
     "name": "stderr",
     "output_type": "stream",
     "text": [
      "\u001b[32m[I 2021-07-30 15:21:10,548]\u001b[0m Trial 32 finished with value: -0.8876777514148245 and parameters: {'colsample_bylevel': 0.050424393096381706, 'depth': 4, 'boosting_type': 'Plain', 'bootstrap_type': 'Bernoulli', 'l2_leaf_reg': 10.448766379313206, 'random_strength': 1.417921094598968, 'subsample': 0.5616818234189052}. Best is trial 20 with value: -0.8816652484143658.\u001b[0m\n"
     ]
    },
    {
     "name": "stdout",
     "output_type": "stream",
     "text": [
      "Stopped by overfitting detector  (100 iterations wait)\n",
      "\n",
      "bestTest = 0.8877471173\n",
      "bestIteration = 491\n",
      "\n",
      "Shrink model to first 492 iterations.\n",
      "0:\tlearn: 1.0639493\ttest: 1.0639493\ttest1: 0.9010261\tbest: 0.9010261 (0)\ttotal: 105ms\tremaining: 17m 29s\n",
      "100:\tlearn: 1.0439201\ttest: 1.0439201\ttest1: 0.8873475\tbest: 0.8872739 (98)\ttotal: 7.76s\tremaining: 12m 40s\n",
      "200:\tlearn: 1.0385838\ttest: 1.0385838\ttest1: 0.8857641\tbest: 0.8857636 (199)\ttotal: 14.9s\tremaining: 12m 5s\n",
      "300:\tlearn: 1.0351536\ttest: 1.0351536\ttest1: 0.8841345\tbest: 0.8841340 (299)\ttotal: 21.9s\tremaining: 11m 46s\n",
      "400:\tlearn: 1.0328931\ttest: 1.0328931\ttest1: 0.8837671\tbest: 0.8835049 (361)\ttotal: 29s\tremaining: 11m 33s\n",
      "500:\tlearn: 1.0316534\ttest: 1.0316534\ttest1: 0.8833207\tbest: 0.8832434 (492)\ttotal: 36s\tremaining: 11m 22s\n",
      "600:\tlearn: 1.0304236\ttest: 1.0304236\ttest1: 0.8826833\tbest: 0.8824757 (587)\ttotal: 43s\tremaining: 11m 11s\n"
     ]
    },
    {
     "name": "stderr",
     "output_type": "stream",
     "text": [
      "\u001b[32m[I 2021-07-30 15:22:00,148]\u001b[0m Trial 33 finished with value: -0.8824135790865548 and parameters: {'colsample_bylevel': 0.046698619586664956, 'depth': 4, 'boosting_type': 'Plain', 'bootstrap_type': 'MVS', 'l2_leaf_reg': 10.010403276688214, 'random_strength': 5.757067450540349}. Best is trial 20 with value: -0.8816652484143658.\u001b[0m\n"
     ]
    },
    {
     "name": "stdout",
     "output_type": "stream",
     "text": [
      "Stopped by overfitting detector  (100 iterations wait)\n",
      "\n",
      "bestTest = 0.8824756952\n",
      "bestIteration = 587\n",
      "\n",
      "Shrink model to first 588 iterations.\n",
      "0:\tlearn: 1.0639427\ttest: 1.0639427\ttest1: 0.9011381\tbest: 0.9011381 (0)\ttotal: 108ms\tremaining: 17m 57s\n",
      "100:\tlearn: 1.0425350\ttest: 1.0425350\ttest1: 0.8937306\tbest: 0.8933744 (97)\ttotal: 7.9s\tremaining: 12m 53s\n",
      "200:\tlearn: 1.0344972\ttest: 1.0344972\ttest1: 0.8949708\tbest: 0.8929728 (119)\ttotal: 15.2s\tremaining: 12m 23s\n"
     ]
    },
    {
     "name": "stderr",
     "output_type": "stream",
     "text": [
      "\u001b[32m[I 2021-07-30 15:22:17,304]\u001b[0m Trial 34 finished with value: -0.8929443537585473 and parameters: {'colsample_bylevel': 0.044611623522333985, 'depth': 5, 'boosting_type': 'Plain', 'bootstrap_type': 'MVS', 'l2_leaf_reg': 18.62402084124343, 'random_strength': 5.528356174464669}. Best is trial 20 with value: -0.8816652484143658.\u001b[0m\n"
     ]
    },
    {
     "name": "stdout",
     "output_type": "stream",
     "text": [
      "Stopped by overfitting detector  (100 iterations wait)\n",
      "\n",
      "bestTest = 0.8929727596\n",
      "bestIteration = 119\n",
      "\n",
      "Shrink model to first 120 iterations.\n",
      "0:\tlearn: 1.0638836\ttest: 1.0638836\ttest1: 0.9009533\tbest: 0.9009533 (0)\ttotal: 102ms\tremaining: 17m 2s\n",
      "100:\tlearn: 1.0445542\ttest: 1.0445542\ttest1: 0.8905240\tbest: 0.8898093 (21)\ttotal: 7.65s\tremaining: 12m 30s\n",
      "200:\tlearn: 1.0408580\ttest: 1.0408580\ttest1: 0.8883727\tbest: 0.8882033 (191)\ttotal: 14.8s\tremaining: 11m 59s\n",
      "300:\tlearn: 1.0364339\ttest: 1.0364339\ttest1: 0.8859823\tbest: 0.8859359 (289)\ttotal: 21.8s\tremaining: 11m 41s\n",
      "400:\tlearn: 1.0336810\ttest: 1.0336810\ttest1: 0.8851494\tbest: 0.8851494 (400)\ttotal: 28.8s\tremaining: 11m 28s\n",
      "500:\tlearn: 1.0319859\ttest: 1.0319859\ttest1: 0.8843627\tbest: 0.8843627 (500)\ttotal: 35.8s\tremaining: 11m 18s\n",
      "600:\tlearn: 1.0312492\ttest: 1.0312492\ttest1: 0.8840011\tbest: 0.8839947 (597)\ttotal: 42.8s\tremaining: 11m 9s\n",
      "700:\tlearn: 1.0299720\ttest: 1.0299720\ttest1: 0.8839175\tbest: 0.8838400 (692)\ttotal: 49.8s\tremaining: 11m\n",
      "800:\tlearn: 1.0287534\ttest: 1.0287534\ttest1: 0.8840021\tbest: 0.8837463 (722)\ttotal: 56.8s\tremaining: 10m 51s\n",
      "900:\tlearn: 1.0275659\ttest: 1.0275659\ttest1: 0.8835240\tbest: 0.8835170 (888)\ttotal: 1m 3s\tremaining: 10m 43s\n",
      "1000:\tlearn: 1.0271263\ttest: 1.0271263\ttest1: 0.8835203\tbest: 0.8834681 (917)\ttotal: 1m 10s\tremaining: 10m 35s\n"
     ]
    },
    {
     "name": "stderr",
     "output_type": "stream",
     "text": [
      "\u001b[32m[I 2021-07-30 15:23:29,791]\u001b[0m Trial 35 finished with value: -0.8833612635301489 and parameters: {'colsample_bylevel': 0.06209021621529008, 'depth': 4, 'boosting_type': 'Plain', 'bootstrap_type': 'MVS', 'l2_leaf_reg': 16.58759426939278, 'random_strength': 4.461369308466159}. Best is trial 20 with value: -0.8816652484143658.\u001b[0m\n"
     ]
    },
    {
     "name": "stdout",
     "output_type": "stream",
     "text": [
      "Stopped by overfitting detector  (100 iterations wait)\n",
      "\n",
      "bestTest = 0.8834681046\n",
      "bestIteration = 917\n",
      "\n",
      "Shrink model to first 918 iterations.\n",
      "0:\tlearn: 1.0635652\ttest: 1.0635652\ttest1: 0.9003757\tbest: 0.9003757 (0)\ttotal: 105ms\tremaining: 17m 32s\n",
      "100:\tlearn: 1.0435990\ttest: 1.0435990\ttest1: 0.8872734\tbest: 0.8872734 (100)\ttotal: 8.12s\tremaining: 13m 15s\n",
      "200:\tlearn: 1.0363549\ttest: 1.0363549\ttest1: 0.8834260\tbest: 0.8834186 (194)\ttotal: 15.2s\tremaining: 12m 20s\n",
      "300:\tlearn: 1.0343026\ttest: 1.0343026\ttest1: 0.8823951\tbest: 0.8823370 (296)\ttotal: 22.2s\tremaining: 11m 56s\n",
      "400:\tlearn: 1.0319129\ttest: 1.0319129\ttest1: 0.8812962\tbest: 0.8812962 (400)\ttotal: 29.2s\tremaining: 11m 39s\n",
      "500:\tlearn: 1.0297711\ttest: 1.0297711\ttest1: 0.8810277\tbest: 0.8810265 (498)\ttotal: 36.2s\tremaining: 11m 25s\n",
      "600:\tlearn: 1.0284928\ttest: 1.0284928\ttest1: 0.8804269\tbest: 0.8803434 (599)\ttotal: 43.2s\tremaining: 11m 15s\n"
     ]
    },
    {
     "name": "stderr",
     "output_type": "stream",
     "text": [
      "\u001b[32m[I 2021-07-30 15:24:20,424]\u001b[0m Trial 36 finished with value: -0.8802701515659747 and parameters: {'colsample_bylevel': 0.07371924930052895, 'depth': 4, 'boosting_type': 'Plain', 'bootstrap_type': 'MVS', 'l2_leaf_reg': 16.36695844337977, 'random_strength': 4.290626447910629}. Best is trial 36 with value: -0.8802701515659747.\u001b[0m\n"
     ]
    },
    {
     "name": "stdout",
     "output_type": "stream",
     "text": [
      "Stopped by overfitting detector  (100 iterations wait)\n",
      "\n",
      "bestTest = 0.8803433729\n",
      "bestIteration = 599\n",
      "\n",
      "Shrink model to first 600 iterations.\n",
      "0:\tlearn: 1.0631875\ttest: 1.0631875\ttest1: 0.9004279\tbest: 0.9004279 (0)\ttotal: 110ms\tremaining: 18m 17s\n",
      "100:\tlearn: 1.0422873\ttest: 1.0422873\ttest1: 0.8948944\tbest: 0.8947111 (98)\ttotal: 8.1s\tremaining: 13m 13s\n",
      "200:\tlearn: 1.0334443\ttest: 1.0334443\ttest1: 0.8897755\tbest: 0.8897363 (191)\ttotal: 15.6s\tremaining: 12m 38s\n",
      "300:\tlearn: 1.0305574\ttest: 1.0305574\ttest1: 0.8901888\tbest: 0.8897039 (210)\ttotal: 23s\tremaining: 12m 19s\n"
     ]
    },
    {
     "name": "stderr",
     "output_type": "stream",
     "text": [
      "\u001b[32m[I 2021-07-30 15:24:44,657]\u001b[0m Trial 37 finished with value: -0.8895036177650113 and parameters: {'colsample_bylevel': 0.07293199286313694, 'depth': 5, 'boosting_type': 'Plain', 'bootstrap_type': 'MVS', 'l2_leaf_reg': 15.927975375575873, 'random_strength': 3.9391592086126783}. Best is trial 36 with value: -0.8802701515659747.\u001b[0m\n"
     ]
    },
    {
     "name": "stdout",
     "output_type": "stream",
     "text": [
      "Stopped by overfitting detector  (100 iterations wait)\n",
      "\n",
      "bestTest = 0.8897038817\n",
      "bestIteration = 210\n",
      "\n",
      "Shrink model to first 211 iterations.\n",
      "0:\tlearn: 1.0636961\ttest: 1.0636961\ttest1: 0.9005843\tbest: 0.9005843 (0)\ttotal: 108ms\tremaining: 17m 56s\n",
      "100:\tlearn: 1.0452032\ttest: 1.0452032\ttest1: 0.8911048\tbest: 0.8900135 (43)\ttotal: 8.67s\tremaining: 14m 10s\n"
     ]
    },
    {
     "name": "stderr",
     "output_type": "stream",
     "text": [
      "\u001b[32m[I 2021-07-30 15:24:56,918]\u001b[0m Trial 38 finished with value: -0.8900110923752357 and parameters: {'colsample_bylevel': 0.07049060684914375, 'depth': 4, 'boosting_type': 'Plain', 'bootstrap_type': 'MVS', 'l2_leaf_reg': 6.3099019213422185, 'random_strength': 4.459676687574968}. Best is trial 36 with value: -0.8802701515659747.\u001b[0m\n"
     ]
    },
    {
     "name": "stdout",
     "output_type": "stream",
     "text": [
      "Stopped by overfitting detector  (100 iterations wait)\n",
      "\n",
      "bestTest = 0.8900135179\n",
      "bestIteration = 43\n",
      "\n",
      "Shrink model to first 44 iterations.\n",
      "0:\tlearn: 1.0636630\ttest: 1.0636630\ttest1: 0.9003555\tbest: 0.9003555 (0)\ttotal: 114ms\tremaining: 19m 1s\n",
      "100:\tlearn: 1.0427771\ttest: 1.0427771\ttest1: 0.8979009\tbest: 0.8894115 (31)\ttotal: 9.79s\tremaining: 15m 59s\n"
     ]
    },
    {
     "name": "stderr",
     "output_type": "stream",
     "text": [
      "\u001b[32m[I 2021-07-30 15:25:09,921]\u001b[0m Trial 39 finished with value: -0.8893968978751756 and parameters: {'colsample_bylevel': 0.08957167066915787, 'depth': 6, 'boosting_type': 'Plain', 'bootstrap_type': 'MVS', 'l2_leaf_reg': 11.086811548930942, 'random_strength': 5.781744576855512}. Best is trial 36 with value: -0.8802701515659747.\u001b[0m\n"
     ]
    },
    {
     "name": "stdout",
     "output_type": "stream",
     "text": [
      "Stopped by overfitting detector  (100 iterations wait)\n",
      "\n",
      "bestTest = 0.88941151\n",
      "bestIteration = 31\n",
      "\n",
      "Shrink model to first 32 iterations.\n",
      "0:\tlearn: 1.0638836\ttest: 1.0638836\ttest1: 0.9009533\tbest: 0.9009533 (0)\ttotal: 108ms\tremaining: 17m 56s\n",
      "100:\tlearn: 1.0404946\ttest: 1.0404946\ttest1: 0.8941655\tbest: 0.8912788 (31)\ttotal: 8.22s\tremaining: 13m 26s\n"
     ]
    },
    {
     "name": "stderr",
     "output_type": "stream",
     "text": [
      "\u001b[32m[I 2021-07-30 15:25:20,967]\u001b[0m Trial 40 finished with value: -0.8912790506791437 and parameters: {'colsample_bylevel': 0.06185003745513853, 'depth': 5, 'boosting_type': 'Plain', 'bootstrap_type': 'MVS', 'l2_leaf_reg': 13.005570382251825, 'random_strength': 4.729836518572585}. Best is trial 36 with value: -0.8802701515659747.\u001b[0m\n"
     ]
    },
    {
     "name": "stdout",
     "output_type": "stream",
     "text": [
      "Stopped by overfitting detector  (100 iterations wait)\n",
      "\n",
      "bestTest = 0.8912787548\n",
      "bestIteration = 31\n",
      "\n",
      "Shrink model to first 32 iterations.\n",
      "0:\tlearn: 1.0639432\ttest: 1.0639432\ttest1: 0.9008579\tbest: 0.9008579 (0)\ttotal: 103ms\tremaining: 17m 7s\n",
      "100:\tlearn: 1.0442185\ttest: 1.0442185\ttest1: 0.8916110\tbest: 0.8916110 (100)\ttotal: 8.26s\tremaining: 13m 29s\n",
      "200:\tlearn: 1.0371220\ttest: 1.0371220\ttest1: 0.8871760\tbest: 0.8871134 (191)\ttotal: 15.3s\tremaining: 12m 26s\n",
      "300:\tlearn: 1.0347307\ttest: 1.0347307\ttest1: 0.8871152\tbest: 0.8867744 (282)\ttotal: 22.3s\tremaining: 11m 59s\n",
      "400:\tlearn: 1.0335791\ttest: 1.0335791\ttest1: 0.8867233\tbest: 0.8866878 (391)\ttotal: 29.3s\tremaining: 11m 41s\n",
      "500:\tlearn: 1.0321174\ttest: 1.0321174\ttest1: 0.8864769\tbest: 0.8862318 (471)\ttotal: 36.3s\tremaining: 11m 27s\n",
      "600:\tlearn: 1.0309636\ttest: 1.0309636\ttest1: 0.8862427\tbest: 0.8862015 (565)\ttotal: 43.2s\tremaining: 11m 16s\n",
      "700:\tlearn: 1.0291829\ttest: 1.0291829\ttest1: 0.8858008\tbest: 0.8857945 (691)\ttotal: 50.2s\tremaining: 11m 6s\n",
      "800:\tlearn: 1.0284835\ttest: 1.0284835\ttest1: 0.8858867\tbest: 0.8857940 (706)\ttotal: 57.2s\tremaining: 10m 56s\n"
     ]
    },
    {
     "name": "stderr",
     "output_type": "stream",
     "text": [
      "\u001b[32m[I 2021-07-30 15:26:19,118]\u001b[0m Trial 41 finished with value: -0.8857521232214484 and parameters: {'colsample_bylevel': 0.060588336901107695, 'depth': 4, 'boosting_type': 'Plain', 'bootstrap_type': 'MVS', 'l2_leaf_reg': 16.261497997152475, 'random_strength': 3.5843481327444136}. Best is trial 36 with value: -0.8802701515659747.\u001b[0m\n"
     ]
    },
    {
     "name": "stdout",
     "output_type": "stream",
     "text": [
      "Stopped by overfitting detector  (100 iterations wait)\n",
      "\n",
      "bestTest = 0.885794028\n",
      "bestIteration = 706\n",
      "\n",
      "Shrink model to first 707 iterations.\n",
      "0:\tlearn: 1.0638859\ttest: 1.0638859\ttest1: 0.9009531\tbest: 0.9009531 (0)\ttotal: 103ms\tremaining: 17m 13s\n",
      "100:\tlearn: 1.0458837\ttest: 1.0458837\ttest1: 0.8928960\tbest: 0.8918821 (78)\ttotal: 8.61s\tremaining: 14m 4s\n",
      "200:\tlearn: 1.0384867\ttest: 1.0384867\ttest1: 0.8890231\tbest: 0.8890223 (199)\ttotal: 15.7s\tremaining: 12m 45s\n",
      "300:\tlearn: 1.0371520\ttest: 1.0371520\ttest1: 0.8896849\tbest: 0.8887013 (245)\ttotal: 22.7s\tremaining: 12m 12s\n"
     ]
    },
    {
     "name": "stderr",
     "output_type": "stream",
     "text": [
      "\u001b[32m[I 2021-07-30 15:26:45,483]\u001b[0m Trial 42 finished with value: -0.8886348921503758 and parameters: {'colsample_bylevel': 0.05268628656562681, 'depth': 4, 'boosting_type': 'Plain', 'bootstrap_type': 'MVS', 'l2_leaf_reg': 17.070586901241782, 'random_strength': 6.15732763872399}. Best is trial 36 with value: -0.8802701515659747.\u001b[0m\n"
     ]
    },
    {
     "name": "stdout",
     "output_type": "stream",
     "text": [
      "Stopped by overfitting detector  (100 iterations wait)\n",
      "\n",
      "bestTest = 0.8887012933\n",
      "bestIteration = 245\n",
      "\n",
      "Shrink model to first 246 iterations.\n",
      "0:\tlearn: 1.0643333\ttest: 1.0643333\ttest1: 0.9015513\tbest: 0.9015513 (0)\ttotal: 103ms\tremaining: 17m 8s\n",
      "100:\tlearn: 1.0443676\ttest: 1.0443676\ttest1: 0.8907069\tbest: 0.8907069 (100)\ttotal: 8.88s\tremaining: 14m 30s\n",
      "200:\tlearn: 1.0385050\ttest: 1.0385050\ttest1: 0.8888466\tbest: 0.8884712 (182)\ttotal: 16s\tremaining: 12m 58s\n",
      "300:\tlearn: 1.0351116\ttest: 1.0351116\ttest1: 0.8877901\tbest: 0.8872781 (257)\ttotal: 23s\tremaining: 12m 21s\n",
      "400:\tlearn: 1.0325851\ttest: 1.0325851\ttest1: 0.8870072\tbest: 0.8869849 (392)\ttotal: 30s\tremaining: 11m 58s\n",
      "500:\tlearn: 1.0303888\ttest: 1.0303888\ttest1: 0.8863890\tbest: 0.8863890 (500)\ttotal: 37s\tremaining: 11m 41s\n",
      "600:\tlearn: 1.0298770\ttest: 1.0298770\ttest1: 0.8862909\tbest: 0.8861668 (558)\ttotal: 44s\tremaining: 11m 27s\n",
      "700:\tlearn: 1.0291101\ttest: 1.0291101\ttest1: 0.8859172\tbest: 0.8858230 (677)\ttotal: 50.9s\tremaining: 11m 15s\n"
     ]
    },
    {
     "name": "stderr",
     "output_type": "stream",
     "text": [
      "\u001b[32m[I 2021-07-30 15:27:42,335]\u001b[0m Trial 43 finished with value: -0.8857674722163025 and parameters: {'colsample_bylevel': 0.045099796252812845, 'depth': 4, 'boosting_type': 'Plain', 'bootstrap_type': 'MVS', 'l2_leaf_reg': 18.973314313084142, 'random_strength': 6.711727843483779}. Best is trial 36 with value: -0.8802701515659747.\u001b[0m\n"
     ]
    },
    {
     "name": "stdout",
     "output_type": "stream",
     "text": [
      "Stopped by overfitting detector  (100 iterations wait)\n",
      "\n",
      "bestTest = 0.8858230162\n",
      "bestIteration = 677\n",
      "\n",
      "Shrink model to first 678 iterations.\n",
      "0:\tlearn: 1.0639186\ttest: 1.0639186\ttest1: 0.9008256\tbest: 0.9008256 (0)\ttotal: 107ms\tremaining: 17m 54s\n",
      "100:\tlearn: 1.0435755\ttest: 1.0435755\ttest1: 0.8889711\tbest: 0.8889711 (100)\ttotal: 7.88s\tremaining: 12m 52s\n",
      "200:\tlearn: 1.0382894\ttest: 1.0382894\ttest1: 0.8861475\tbest: 0.8861475 (200)\ttotal: 15s\tremaining: 12m 12s\n",
      "300:\tlearn: 1.0357438\ttest: 1.0357438\ttest1: 0.8847254\tbest: 0.8847254 (300)\ttotal: 22.1s\tremaining: 11m 51s\n",
      "400:\tlearn: 1.0350731\ttest: 1.0350731\ttest1: 0.8843462\tbest: 0.8843418 (392)\ttotal: 29.1s\tremaining: 11m 36s\n",
      "500:\tlearn: 1.0335438\ttest: 1.0335438\ttest1: 0.8838304\tbest: 0.8838301 (499)\ttotal: 36.1s\tremaining: 11m 24s\n",
      "600:\tlearn: 1.0321187\ttest: 1.0321187\ttest1: 0.8838175\tbest: 0.8834128 (543)\ttotal: 43.2s\tremaining: 11m 15s\n"
     ]
    },
    {
     "name": "stderr",
     "output_type": "stream",
     "text": [
      "\u001b[32m[I 2021-07-30 15:28:29,091]\u001b[0m Trial 44 finished with value: -0.8833779150631816 and parameters: {'colsample_bylevel': 0.08172043095983059, 'depth': 4, 'boosting_type': 'Plain', 'bootstrap_type': 'MVS', 'l2_leaf_reg': 9.290407261017629, 'random_strength': 4.209064101098048}. Best is trial 36 with value: -0.8802701515659747.\u001b[0m\n"
     ]
    },
    {
     "name": "stdout",
     "output_type": "stream",
     "text": [
      "Stopped by overfitting detector  (100 iterations wait)\n",
      "\n",
      "bestTest = 0.8834127909\n",
      "bestIteration = 543\n",
      "\n",
      "Shrink model to first 544 iterations.\n",
      "0:\tlearn: 1.0637212\ttest: 1.0637212\ttest1: 0.9026630\tbest: 0.9026630 (0)\ttotal: 109ms\tremaining: 18m 10s\n",
      "100:\tlearn: 1.0409496\ttest: 1.0409496\ttest1: 0.8924294\tbest: 0.8924294 (100)\ttotal: 8.19s\tremaining: 13m 22s\n",
      "200:\tlearn: 1.0342448\ttest: 1.0342448\ttest1: 0.8889649\tbest: 0.8889649 (200)\ttotal: 15.7s\tremaining: 12m 44s\n",
      "300:\tlearn: 1.0324766\ttest: 1.0324766\ttest1: 0.8896654\tbest: 0.8889431 (204)\ttotal: 23.1s\tremaining: 12m 25s\n"
     ]
    },
    {
     "name": "stderr",
     "output_type": "stream",
     "text": [
      "\u001b[32m[I 2021-07-30 15:28:53,028]\u001b[0m Trial 45 finished with value: -0.888900999177496 and parameters: {'colsample_bylevel': 0.08278602663893674, 'depth': 5, 'boosting_type': 'Plain', 'bootstrap_type': 'MVS', 'l2_leaf_reg': 8.97410515204783, 'random_strength': 4.172198296052813}. Best is trial 36 with value: -0.8802701515659747.\u001b[0m\n"
     ]
    },
    {
     "name": "stdout",
     "output_type": "stream",
     "text": [
      "Stopped by overfitting detector  (100 iterations wait)\n",
      "\n",
      "bestTest = 0.888943128\n",
      "bestIteration = 204\n",
      "\n",
      "Shrink model to first 205 iterations.\n",
      "0:\tlearn: 1.0638656\ttest: 1.0638656\ttest1: 0.9028037\tbest: 0.9028037 (0)\ttotal: 113ms\tremaining: 18m 47s\n",
      "100:\tlearn: 1.0440078\ttest: 1.0440078\ttest1: 0.8882818\tbest: 0.8882803 (99)\ttotal: 8.06s\tremaining: 13m 9s\n",
      "200:\tlearn: 1.0388381\ttest: 1.0388381\ttest1: 0.8860077\tbest: 0.8860069 (199)\ttotal: 15.2s\tremaining: 12m 21s\n",
      "300:\tlearn: 1.0356659\ttest: 1.0356659\ttest1: 0.8846176\tbest: 0.8845676 (281)\ttotal: 22.3s\tremaining: 11m 59s\n",
      "400:\tlearn: 1.0340284\ttest: 1.0340284\ttest1: 0.8842222\tbest: 0.8842185 (398)\ttotal: 29.4s\tremaining: 11m 44s\n",
      "500:\tlearn: 1.0315613\ttest: 1.0315613\ttest1: 0.8829943\tbest: 0.8829330 (489)\ttotal: 36.5s\tremaining: 11m 32s\n"
     ]
    },
    {
     "name": "stderr",
     "output_type": "stream",
     "text": [
      "\u001b[32m[I 2021-07-30 15:29:36,366]\u001b[0m Trial 46 finished with value: -0.8829070730350718 and parameters: {'colsample_bylevel': 0.09095799898263332, 'depth': 4, 'boosting_type': 'Plain', 'bootstrap_type': 'MVS', 'l2_leaf_reg': 6.3198578842043815, 'random_strength': 3.4115703346630184}. Best is trial 36 with value: -0.8802701515659747.\u001b[0m\n"
     ]
    },
    {
     "name": "stdout",
     "output_type": "stream",
     "text": [
      "Stopped by overfitting detector  (100 iterations wait)\n",
      "\n",
      "bestTest = 0.8829330169\n",
      "bestIteration = 489\n",
      "\n",
      "Shrink model to first 490 iterations.\n",
      "0:\tlearn: 1.0637992\ttest: 1.0637992\ttest1: 0.9005850\tbest: 0.9005850 (0)\ttotal: 110ms\tremaining: 18m 18s\n",
      "100:\tlearn: 1.0442663\ttest: 1.0442663\ttest1: 0.8848065\tbest: 0.8846795 (96)\ttotal: 8.06s\tremaining: 13m 10s\n",
      "200:\tlearn: 1.0357604\ttest: 1.0357604\ttest1: 0.8805182\tbest: 0.8805182 (200)\ttotal: 15.6s\tremaining: 12m 38s\n",
      "300:\tlearn: 1.0348949\ttest: 1.0348949\ttest1: 0.8801529\tbest: 0.8800322 (221)\ttotal: 23s\tremaining: 12m 22s\n",
      "400:\tlearn: 1.0336984\ttest: 1.0336984\ttest1: 0.8797946\tbest: 0.8797946 (399)\ttotal: 30.5s\tremaining: 12m 9s\n",
      "500:\tlearn: 1.0324798\ttest: 1.0324798\ttest1: 0.8797634\tbest: 0.8796699 (483)\ttotal: 37.9s\tremaining: 11m 58s\n",
      "600:\tlearn: 1.0306472\ttest: 1.0306472\ttest1: 0.8793296\tbest: 0.8792075 (589)\ttotal: 45.3s\tremaining: 11m 48s\n",
      "700:\tlearn: 1.0299664\ttest: 1.0299664\ttest1: 0.8792707\tbest: 0.8790957 (645)\ttotal: 52.7s\tremaining: 11m 38s\n"
     ]
    },
    {
     "name": "stderr",
     "output_type": "stream",
     "text": [
      "\u001b[32m[I 2021-07-30 15:30:32,929]\u001b[0m Trial 47 finished with value: -0.8790739401129368 and parameters: {'colsample_bylevel': 0.09318388250279491, 'depth': 4, 'boosting_type': 'Plain', 'bootstrap_type': 'Bayesian', 'l2_leaf_reg': 6.061581953413857, 'random_strength': 2.811027905328177, 'bagging_temperature': 0.14916119657037363}. Best is trial 47 with value: -0.8790739401129368.\u001b[0m\n"
     ]
    },
    {
     "name": "stdout",
     "output_type": "stream",
     "text": [
      "Stopped by overfitting detector  (100 iterations wait)\n",
      "\n",
      "bestTest = 0.8790957456\n",
      "bestIteration = 645\n",
      "\n",
      "Shrink model to first 646 iterations.\n",
      "0:\tlearn: 1.0633371\ttest: 1.0633371\ttest1: 0.9009867\tbest: 0.9009867 (0)\ttotal: 118ms\tremaining: 19m 38s\n",
      "100:\tlearn: 1.0393680\ttest: 1.0393680\ttest1: 0.8851766\tbest: 0.8847560 (31)\ttotal: 9.48s\tremaining: 15m 28s\n",
      "200:\tlearn: 1.0324959\ttest: 1.0324959\ttest1: 0.8817203\tbest: 0.8817203 (200)\ttotal: 17.3s\tremaining: 14m 5s\n",
      "300:\tlearn: 1.0302587\ttest: 1.0302587\ttest1: 0.8813758\tbest: 0.8813742 (298)\ttotal: 25.2s\tremaining: 13m 31s\n",
      "400:\tlearn: 1.0288852\ttest: 1.0288852\ttest1: 0.8812051\tbest: 0.8811995 (396)\ttotal: 33s\tremaining: 13m 10s\n",
      "500:\tlearn: 1.0280106\ttest: 1.0280106\ttest1: 0.8806383\tbest: 0.8806383 (500)\ttotal: 40.8s\tremaining: 12m 53s\n",
      "600:\tlearn: 1.0273581\ttest: 1.0273581\ttest1: 0.8847139\tbest: 0.8805518 (505)\ttotal: 48.6s\tremaining: 12m 40s\n"
     ]
    },
    {
     "name": "stderr",
     "output_type": "stream",
     "text": [
      "\u001b[32m[I 2021-07-30 15:31:22,506]\u001b[0m Trial 48 finished with value: -0.8804847307599052 and parameters: {'colsample_bylevel': 0.09391387886746498, 'depth': 5, 'boosting_type': 'Plain', 'bootstrap_type': 'Bayesian', 'l2_leaf_reg': 5.926069952843676, 'random_strength': 1.7113996707705803, 'bagging_temperature': 0.726958392207714}. Best is trial 47 with value: -0.8790739401129368.\u001b[0m\n"
     ]
    },
    {
     "name": "stdout",
     "output_type": "stream",
     "text": [
      "Stopped by overfitting detector  (100 iterations wait)\n",
      "\n",
      "bestTest = 0.8805518472\n",
      "bestIteration = 505\n",
      "\n",
      "Shrink model to first 506 iterations.\n",
      "0:\tlearn: 1.0624569\ttest: 1.0624569\ttest1: 0.8995755\tbest: 0.8995755 (0)\ttotal: 140ms\tremaining: 23m 18s\n",
      "100:\tlearn: 1.0294805\ttest: 1.0294805\ttest1: 0.8966038\tbest: 0.8891737 (28)\ttotal: 10.4s\tremaining: 16m 59s\n"
     ]
    },
    {
     "name": "stderr",
     "output_type": "stream",
     "text": [
      "\u001b[32m[I 2021-07-30 15:31:36,231]\u001b[0m Trial 49 finished with value: -0.8891530137484774 and parameters: {'colsample_bylevel': 0.09369880780701431, 'depth': 9, 'boosting_type': 'Plain', 'bootstrap_type': 'Bayesian', 'l2_leaf_reg': 2.7014288016618164, 'random_strength': 1.048729311323589, 'bagging_temperature': 0.05332235281109199}. Best is trial 47 with value: -0.8790739401129368.\u001b[0m\n"
     ]
    },
    {
     "name": "stdout",
     "output_type": "stream",
     "text": [
      "Stopped by overfitting detector  (100 iterations wait)\n",
      "\n",
      "bestTest = 0.8891737077\n",
      "bestIteration = 28\n",
      "\n",
      "Shrink model to first 29 iterations.\n",
      "0:\tlearn: 1.0631594\ttest: 1.0631594\ttest1: 0.9002503\tbest: 0.9002503 (0)\ttotal: 116ms\tremaining: 19m 22s\n",
      "100:\tlearn: 1.0408008\ttest: 1.0408008\ttest1: 0.8878649\tbest: 0.8878644 (98)\ttotal: 9.27s\tremaining: 15m 8s\n",
      "200:\tlearn: 1.0335017\ttest: 1.0335017\ttest1: 0.8850515\tbest: 0.8850515 (200)\ttotal: 17.2s\tremaining: 13m 58s\n",
      "300:\tlearn: 1.0320289\ttest: 1.0320289\ttest1: 0.8848150\tbest: 0.8847022 (276)\ttotal: 25.1s\tremaining: 13m 27s\n"
     ]
    },
    {
     "name": "stderr",
     "output_type": "stream",
     "text": [
      "\u001b[32m[I 2021-07-30 15:32:07,779]\u001b[0m Trial 50 finished with value: -0.8846596064805652 and parameters: {'colsample_bylevel': 0.09888510445256578, 'depth': 5, 'boosting_type': 'Plain', 'bootstrap_type': 'Bayesian', 'l2_leaf_reg': 4.247279788213283, 'random_strength': 1.9955898688140075, 'bagging_temperature': 0.12562269506571294}. Best is trial 47 with value: -0.8790739401129368.\u001b[0m\n"
     ]
    },
    {
     "name": "stdout",
     "output_type": "stream",
     "text": [
      "Stopped by overfitting detector  (100 iterations wait)\n",
      "\n",
      "bestTest = 0.8847021876\n",
      "bestIteration = 276\n",
      "\n",
      "Shrink model to first 277 iterations.\n",
      "0:\tlearn: 1.0638656\ttest: 1.0638656\ttest1: 0.9028037\tbest: 0.9028037 (0)\ttotal: 111ms\tremaining: 18m 29s\n",
      "100:\tlearn: 1.0451192\ttest: 1.0451192\ttest1: 0.8901076\tbest: 0.8901076 (100)\ttotal: 8.26s\tremaining: 13m 29s\n",
      "200:\tlearn: 1.0389832\ttest: 1.0389832\ttest1: 0.8872730\tbest: 0.8872730 (200)\ttotal: 15.8s\tremaining: 12m 49s\n",
      "300:\tlearn: 1.0358208\ttest: 1.0358208\ttest1: 0.8867878\tbest: 0.8862833 (242)\ttotal: 23.2s\tremaining: 12m 27s\n"
     ]
    },
    {
     "name": "stderr",
     "output_type": "stream",
     "text": [
      "\u001b[32m[I 2021-07-30 15:32:34,615]\u001b[0m Trial 51 finished with value: -0.8862358675491889 and parameters: {'colsample_bylevel': 0.09177559349556785, 'depth': 4, 'boosting_type': 'Plain', 'bootstrap_type': 'Bayesian', 'l2_leaf_reg': 6.1471978160211895, 'random_strength': 3.1552757974415666, 'bagging_temperature': 1.4444621827779862}. Best is trial 47 with value: -0.8790739401129368.\u001b[0m\n"
     ]
    },
    {
     "name": "stdout",
     "output_type": "stream",
     "text": [
      "Stopped by overfitting detector  (100 iterations wait)\n",
      "\n",
      "bestTest = 0.8862833217\n",
      "bestIteration = 242\n",
      "\n",
      "Shrink model to first 243 iterations.\n",
      "0:\tlearn: 1.0638043\ttest: 1.0638043\ttest1: 0.9007726\tbest: 0.9007726 (0)\ttotal: 108ms\tremaining: 18m 2s\n",
      "100:\tlearn: 1.0496777\ttest: 1.0496777\ttest1: 0.8882916\tbest: 0.8882349 (28)\ttotal: 7.79s\tremaining: 12m 43s\n",
      "200:\tlearn: 1.0460965\ttest: 1.0460965\ttest1: 0.8876617\tbest: 0.8876617 (200)\ttotal: 15s\tremaining: 12m 12s\n",
      "300:\tlearn: 1.0436967\ttest: 1.0436967\ttest1: 0.8867103\tbest: 0.8867081 (299)\ttotal: 22.2s\tremaining: 11m 54s\n",
      "400:\tlearn: 1.0414339\ttest: 1.0414339\ttest1: 0.8863342\tbest: 0.8863342 (400)\ttotal: 29.3s\tremaining: 11m 41s\n",
      "500:\tlearn: 1.0393585\ttest: 1.0393585\ttest1: 0.8851261\tbest: 0.8850869 (476)\ttotal: 36.4s\tremaining: 11m 29s\n",
      "600:\tlearn: 1.0378515\ttest: 1.0378515\ttest1: 0.8848643\tbest: 0.8848031 (588)\ttotal: 43.4s\tremaining: 11m 18s\n",
      "700:\tlearn: 1.0364283\ttest: 1.0364283\ttest1: 0.8851307\tbest: 0.8844768 (685)\ttotal: 50.4s\tremaining: 11m 8s\n"
     ]
    },
    {
     "name": "stderr",
     "output_type": "stream",
     "text": [
      "\u001b[32m[I 2021-07-30 15:33:31,521]\u001b[0m Trial 52 finished with value: -0.8844244088577559 and parameters: {'colsample_bylevel': 0.08800741460486629, 'depth': 4, 'boosting_type': 'Plain', 'bootstrap_type': 'Bayesian', 'l2_leaf_reg': 5.39363203590293, 'random_strength': 3.0368446906000313, 'bagging_temperature': 6.404093697148172}. Best is trial 47 with value: -0.8790739401129368.\u001b[0m\n"
     ]
    },
    {
     "name": "stdout",
     "output_type": "stream",
     "text": [
      "Stopped by overfitting detector  (100 iterations wait)\n",
      "\n",
      "bestTest = 0.8844767947\n",
      "bestIteration = 685\n",
      "\n",
      "Shrink model to first 686 iterations.\n",
      "0:\tlearn: 1.0635593\ttest: 1.0635593\ttest1: 0.9004942\tbest: 0.9004942 (0)\ttotal: 118ms\tremaining: 19m 41s\n",
      "100:\tlearn: 1.0453689\ttest: 1.0453689\ttest1: 0.8904996\tbest: 0.8881618 (51)\ttotal: 9.53s\tremaining: 15m 33s\n"
     ]
    },
    {
     "name": "stderr",
     "output_type": "stream",
     "text": [
      "\u001b[32m[I 2021-07-30 15:33:45,655]\u001b[0m Trial 53 finished with value: -0.888162206798258 and parameters: {'colsample_bylevel': 0.09631830840652503, 'depth': 5, 'boosting_type': 'Plain', 'bootstrap_type': 'Bayesian', 'l2_leaf_reg': 2.389592233551228, 'random_strength': 1.5040814569023055, 'bagging_temperature': 1.706550072701278}. Best is trial 47 with value: -0.8790739401129368.\u001b[0m\n"
     ]
    },
    {
     "name": "stdout",
     "output_type": "stream",
     "text": [
      "Stopped by overfitting detector  (100 iterations wait)\n",
      "\n",
      "bestTest = 0.8881618198\n",
      "bestIteration = 51\n",
      "\n",
      "Shrink model to first 52 iterations.\n",
      "0:\tlearn: 1.0636997\ttest: 1.0636997\ttest1: 0.9006987\tbest: 0.9006987 (0)\ttotal: 108ms\tremaining: 18m 4s\n",
      "100:\tlearn: 1.0441886\ttest: 1.0441886\ttest1: 0.8848692\tbest: 0.8848692 (100)\ttotal: 8.18s\tremaining: 13m 22s\n",
      "200:\tlearn: 1.0379899\ttest: 1.0379899\ttest1: 0.8815866\tbest: 0.8815866 (200)\ttotal: 15.6s\tremaining: 12m 40s\n",
      "300:\tlearn: 1.0360339\ttest: 1.0360339\ttest1: 0.8813484\tbest: 0.8812083 (260)\ttotal: 23s\tremaining: 12m 19s\n",
      "400:\tlearn: 1.0348124\ttest: 1.0348124\ttest1: 0.8806537\tbest: 0.8806496 (378)\ttotal: 30.3s\tremaining: 12m 4s\n",
      "500:\tlearn: 1.0333692\ttest: 1.0333692\ttest1: 0.8806397\tbest: 0.8798944 (474)\ttotal: 37.6s\tremaining: 11m 52s\n"
     ]
    },
    {
     "name": "stderr",
     "output_type": "stream",
     "text": [
      "\u001b[32m[I 2021-07-30 15:34:29,188]\u001b[0m Trial 54 finished with value: -0.8798608764594553 and parameters: {'colsample_bylevel': 0.08578525535360441, 'depth': 4, 'boosting_type': 'Plain', 'bootstrap_type': 'Bayesian', 'l2_leaf_reg': 7.1819256978615735, 'random_strength': 0.19156576786577428, 'bagging_temperature': 0.023696649870879938}. Best is trial 47 with value: -0.8790739401129368.\u001b[0m\n"
     ]
    },
    {
     "name": "stdout",
     "output_type": "stream",
     "text": [
      "Stopped by overfitting detector  (100 iterations wait)\n",
      "\n",
      "bestTest = 0.8798944317\n",
      "bestIteration = 474\n",
      "\n",
      "Shrink model to first 475 iterations.\n",
      "0:\tlearn: 1.0638053\ttest: 1.0638053\ttest1: 0.9007454\tbest: 0.9007454 (0)\ttotal: 109ms\tremaining: 18m 12s\n",
      "100:\tlearn: 1.0467966\ttest: 1.0467966\ttest1: 0.8885196\tbest: 0.8885196 (100)\ttotal: 9.41s\tremaining: 15m 22s\n",
      "200:\tlearn: 1.0361074\ttest: 1.0361074\ttest1: 0.8829795\tbest: 0.8829795 (200)\ttotal: 16.9s\tremaining: 13m 41s\n",
      "300:\tlearn: 1.0344978\ttest: 1.0344978\ttest1: 0.8821448\tbest: 0.8820912 (272)\ttotal: 24.3s\tremaining: 13m 2s\n",
      "400:\tlearn: 1.0331011\ttest: 1.0331011\ttest1: 0.8816708\tbest: 0.8815697 (379)\ttotal: 31.7s\tremaining: 12m 38s\n",
      "500:\tlearn: 1.0314578\ttest: 1.0314578\ttest1: 0.8814724\tbest: 0.8813766 (442)\ttotal: 39.1s\tremaining: 12m 20s\n",
      "600:\tlearn: 1.0308084\ttest: 1.0308084\ttest1: 0.8813445\tbest: 0.8813364 (552)\ttotal: 46.4s\tremaining: 12m 6s\n",
      "700:\tlearn: 1.0293776\ttest: 1.0293776\ttest1: 0.8813472\tbest: 0.8811278 (675)\ttotal: 53.8s\tremaining: 11m 53s\n"
     ]
    },
    {
     "name": "stderr",
     "output_type": "stream",
     "text": [
      "\u001b[32m[I 2021-07-30 15:35:29,056]\u001b[0m Trial 55 finished with value: -0.8810981988104746 and parameters: {'colsample_bylevel': 0.0845462434708451, 'depth': 4, 'boosting_type': 'Plain', 'bootstrap_type': 'Bayesian', 'l2_leaf_reg': 7.307691739586664, 'random_strength': 0.48273867617415306, 'bagging_temperature': 0.09701629341609985}. Best is trial 47 with value: -0.8790739401129368.\u001b[0m\n"
     ]
    },
    {
     "name": "stdout",
     "output_type": "stream",
     "text": [
      "Stopped by overfitting detector  (100 iterations wait)\n",
      "\n",
      "bestTest = 0.8811277957\n",
      "bestIteration = 675\n",
      "\n",
      "Shrink model to first 676 iterations.\n",
      "0:\tlearn: 1.0633313\ttest: 1.0633313\ttest1: 0.9004452\tbest: 0.9004452 (0)\ttotal: 119ms\tremaining: 19m 50s\n",
      "100:\tlearn: 1.0363507\ttest: 1.0363507\ttest1: 0.8864317\tbest: 0.8864069 (40)\ttotal: 9.39s\tremaining: 15m 20s\n",
      "200:\tlearn: 1.0265955\ttest: 1.0265955\ttest1: 0.8846411\tbest: 0.8841689 (170)\ttotal: 17.9s\tremaining: 14m 33s\n"
     ]
    },
    {
     "name": "stderr",
     "output_type": "stream",
     "text": [
      "\u001b[32m[I 2021-07-30 15:35:53,480]\u001b[0m Trial 56 finished with value: -0.8841431376581708 and parameters: {'colsample_bylevel': 0.0856442356679472, 'depth': 7, 'boosting_type': 'Plain', 'bootstrap_type': 'Bayesian', 'l2_leaf_reg': 7.625344192575663, 'random_strength': 0.5105285230132438, 'bagging_temperature': 0.14814251093356828}. Best is trial 47 with value: -0.8790739401129368.\u001b[0m\n"
     ]
    },
    {
     "name": "stdout",
     "output_type": "stream",
     "text": [
      "Stopped by overfitting detector  (100 iterations wait)\n",
      "\n",
      "bestTest = 0.8841688627\n",
      "bestIteration = 170\n",
      "\n",
      "Shrink model to first 171 iterations.\n",
      "0:\tlearn: 1.0634555\ttest: 1.0634555\ttest1: 0.9003891\tbest: 0.9003891 (0)\ttotal: 112ms\tremaining: 18m 40s\n",
      "100:\tlearn: 1.0398247\ttest: 1.0398247\ttest1: 0.8851093\tbest: 0.8851093 (100)\ttotal: 8.86s\tremaining: 14m 27s\n",
      "200:\tlearn: 1.0337156\ttest: 1.0337156\ttest1: 0.8826354\tbest: 0.8824708 (184)\ttotal: 16.6s\tremaining: 13m 30s\n",
      "300:\tlearn: 1.0300053\ttest: 1.0300053\ttest1: 0.8831148\tbest: 0.8810975 (275)\ttotal: 24.4s\tremaining: 13m 5s\n"
     ]
    },
    {
     "name": "stderr",
     "output_type": "stream",
     "text": [
      "\u001b[32m[I 2021-07-30 15:36:24,191]\u001b[0m Trial 57 finished with value: -0.881059419717226 and parameters: {'colsample_bylevel': 0.08025130689192958, 'depth': 5, 'boosting_type': 'Plain', 'bootstrap_type': 'Bayesian', 'l2_leaf_reg': 4.022573885322624, 'random_strength': 0.05052833220250508, 'bagging_temperature': 0.04107116769464708}. Best is trial 47 with value: -0.8790739401129368.\u001b[0m\n"
     ]
    },
    {
     "name": "stdout",
     "output_type": "stream",
     "text": [
      "Stopped by overfitting detector  (100 iterations wait)\n",
      "\n",
      "bestTest = 0.8810974587\n",
      "bestIteration = 275\n",
      "\n",
      "Shrink model to first 276 iterations.\n",
      "0:\tlearn: 1.0634907\ttest: 1.0634907\ttest1: 0.9004548\tbest: 0.9004548 (0)\ttotal: 131ms\tremaining: 21m 44s\n",
      "100:\tlearn: 1.0363650\ttest: 1.0363650\ttest1: 0.8830345\tbest: 0.8829775 (99)\ttotal: 11.8s\tremaining: 19m 16s\n",
      "200:\tlearn: 1.0304855\ttest: 1.0304855\ttest1: 0.8826257\tbest: 0.8822358 (102)\ttotal: 22.8s\tremaining: 18m 32s\n"
     ]
    },
    {
     "name": "stderr",
     "output_type": "stream",
     "text": [
      "\u001b[32m[I 2021-07-30 15:36:47,820]\u001b[0m Trial 58 finished with value: -0.8822326779684568 and parameters: {'colsample_bylevel': 0.07824300012017157, 'depth': 6, 'boosting_type': 'Ordered', 'bootstrap_type': 'Bayesian', 'l2_leaf_reg': 3.752405384136865, 'random_strength': 0.09327208604093318, 'bagging_temperature': 0.13720155936674666}. Best is trial 47 with value: -0.8790739401129368.\u001b[0m\n"
     ]
    },
    {
     "name": "stdout",
     "output_type": "stream",
     "text": [
      "Stopped by overfitting detector  (100 iterations wait)\n",
      "\n",
      "bestTest = 0.8822358283\n",
      "bestIteration = 102\n",
      "\n",
      "Shrink model to first 103 iterations.\n",
      "0:\tlearn: 1.0635593\ttest: 1.0635593\ttest1: 0.9004942\tbest: 0.9004942 (0)\ttotal: 118ms\tremaining: 19m 43s\n",
      "100:\tlearn: 1.0406900\ttest: 1.0406900\ttest1: 0.8820521\tbest: 0.8819689 (99)\ttotal: 8.87s\tremaining: 14m 29s\n",
      "200:\tlearn: 1.0335983\ttest: 1.0335983\ttest1: 0.8773531\tbest: 0.8773531 (200)\ttotal: 16.8s\tremaining: 13m 36s\n",
      "300:\tlearn: 1.0307128\ttest: 1.0307128\ttest1: 0.8763104\tbest: 0.8761893 (292)\ttotal: 24.6s\tremaining: 13m 13s\n"
     ]
    },
    {
     "name": "stderr",
     "output_type": "stream",
     "text": [
      "\u001b[32m[I 2021-07-30 15:37:20,211]\u001b[0m Trial 59 finished with value: -0.8761722167283792 and parameters: {'colsample_bylevel': 0.09540705482961478, 'depth': 5, 'boosting_type': 'Plain', 'bootstrap_type': 'Bayesian', 'l2_leaf_reg': 6.9922716127494065, 'random_strength': 0.6065091643655371, 'bagging_temperature': 1.199826308915641}. Best is trial 59 with value: -0.8761722167283792.\u001b[0m\n"
     ]
    },
    {
     "name": "stdout",
     "output_type": "stream",
     "text": [
      "Stopped by overfitting detector  (100 iterations wait)\n",
      "\n",
      "bestTest = 0.8761893372\n",
      "bestIteration = 292\n",
      "\n",
      "Shrink model to first 293 iterations.\n",
      "0:\tlearn: 1.0635082\ttest: 1.0635082\ttest1: 0.9004383\tbest: 0.9004383 (0)\ttotal: 121ms\tremaining: 20m 13s\n",
      "100:\tlearn: 1.0370477\ttest: 1.0370477\ttest1: 0.8888864\tbest: 0.8883383 (62)\ttotal: 9.43s\tremaining: 15m 23s\n",
      "200:\tlearn: 1.0304157\ttest: 1.0304157\ttest1: 0.8868337\tbest: 0.8867468 (191)\ttotal: 17.7s\tremaining: 14m 22s\n",
      "300:\tlearn: 1.0263286\ttest: 1.0263286\ttest1: 0.8868801\tbest: 0.8863465 (254)\ttotal: 25.9s\tremaining: 13m 54s\n"
     ]
    },
    {
     "name": "stderr",
     "output_type": "stream",
     "text": [
      "\u001b[32m[I 2021-07-30 15:37:51,100]\u001b[0m Trial 60 finished with value: -0.886297823015963 and parameters: {'colsample_bylevel': 0.0947379575002845, 'depth': 6, 'boosting_type': 'Plain', 'bootstrap_type': 'Bayesian', 'l2_leaf_reg': 5.181979930668755, 'random_strength': 1.9643720447981152, 'bagging_temperature': 1.4893418254360413}. Best is trial 59 with value: -0.8761722167283792.\u001b[0m\n"
     ]
    },
    {
     "name": "stdout",
     "output_type": "stream",
     "text": [
      "Stopped by overfitting detector  (100 iterations wait)\n",
      "\n",
      "bestTest = 0.8863465239\n",
      "bestIteration = 254\n",
      "\n",
      "Shrink model to first 255 iterations.\n",
      "0:\tlearn: 1.0636689\ttest: 1.0636689\ttest1: 0.9012444\tbest: 0.9012444 (0)\ttotal: 114ms\tremaining: 18m 55s\n",
      "100:\tlearn: 1.0433428\ttest: 1.0433428\ttest1: 0.8903040\tbest: 0.8873969 (54)\ttotal: 9.4s\tremaining: 15m 21s\n"
     ]
    },
    {
     "name": "stderr",
     "output_type": "stream",
     "text": [
      "\u001b[32m[I 2021-07-30 15:38:05,200]\u001b[0m Trial 61 finished with value: -0.8873966524257368 and parameters: {'colsample_bylevel': 0.08144142910184797, 'depth': 5, 'boosting_type': 'Plain', 'bootstrap_type': 'Bayesian', 'l2_leaf_reg': 6.893551470278756, 'random_strength': 0.5947047752760977, 'bagging_temperature': 0.04233012868548473}. Best is trial 59 with value: -0.8761722167283792.\u001b[0m\n"
     ]
    },
    {
     "name": "stdout",
     "output_type": "stream",
     "text": [
      "Stopped by overfitting detector  (100 iterations wait)\n",
      "\n",
      "bestTest = 0.8873968894\n",
      "bestIteration = 54\n",
      "\n",
      "Shrink model to first 55 iterations.\n",
      "0:\tlearn: 1.0635861\ttest: 1.0635861\ttest1: 0.9005212\tbest: 0.9005212 (0)\ttotal: 115ms\tremaining: 19m 7s\n",
      "100:\tlearn: 1.0399309\ttest: 1.0399309\ttest1: 0.8845166\tbest: 0.8840371 (87)\ttotal: 8.85s\tremaining: 14m 27s\n",
      "200:\tlearn: 1.0332657\ttest: 1.0332657\ttest1: 0.8824680\tbest: 0.8824593 (165)\ttotal: 16.7s\tremaining: 13m 33s\n",
      "300:\tlearn: 1.0309750\ttest: 1.0309750\ttest1: 0.8808641\tbest: 0.8808641 (300)\ttotal: 24.5s\tremaining: 13m 9s\n"
     ]
    },
    {
     "name": "stderr",
     "output_type": "stream",
     "text": [
      "\u001b[32m[I 2021-07-30 15:38:37,989]\u001b[0m Trial 62 finished with value: -0.880810488984018 and parameters: {'colsample_bylevel': 0.08625945504873064, 'depth': 5, 'boosting_type': 'Plain', 'bootstrap_type': 'Bayesian', 'l2_leaf_reg': 8.201154185900387, 'random_strength': 0.2007839636507921, 'bagging_temperature': 1.0267139818613977}. Best is trial 59 with value: -0.8761722167283792.\u001b[0m\n"
     ]
    },
    {
     "name": "stdout",
     "output_type": "stream",
     "text": [
      "400:\tlearn: 1.0293594\ttest: 1.0293594\ttest1: 0.8828544\tbest: 0.8808641 (300)\ttotal: 32.3s\tremaining: 12m 52s\n",
      "Stopped by overfitting detector  (100 iterations wait)\n",
      "\n",
      "bestTest = 0.8808640543\n",
      "bestIteration = 300\n",
      "\n",
      "Shrink model to first 301 iterations.\n",
      "0:\tlearn: 1.0634518\ttest: 1.0634518\ttest1: 0.9011225\tbest: 0.9011225 (0)\ttotal: 117ms\tremaining: 19m 27s\n",
      "100:\tlearn: 1.0376666\ttest: 1.0376666\ttest1: 0.8881211\tbest: 0.8877490 (89)\ttotal: 9.44s\tremaining: 15m 24s\n",
      "200:\tlearn: 1.0292025\ttest: 1.0292025\ttest1: 0.8849838\tbest: 0.8845500 (159)\ttotal: 17.6s\tremaining: 14m 19s\n"
     ]
    },
    {
     "name": "stderr",
     "output_type": "stream",
     "text": [
      "\u001b[32m[I 2021-07-30 15:39:00,966]\u001b[0m Trial 63 finished with value: -0.884532977417627 and parameters: {'colsample_bylevel': 0.08726873930992514, 'depth': 6, 'boosting_type': 'Plain', 'bootstrap_type': 'Bayesian', 'l2_leaf_reg': 8.239368930106682, 'random_strength': 0.9281902526340758, 'bagging_temperature': 1.3381691758425909}. Best is trial 59 with value: -0.8761722167283792.\u001b[0m\n"
     ]
    },
    {
     "name": "stdout",
     "output_type": "stream",
     "text": [
      "Stopped by overfitting detector  (100 iterations wait)\n",
      "\n",
      "bestTest = 0.8845500149\n",
      "bestIteration = 159\n",
      "\n",
      "Shrink model to first 160 iterations.\n",
      "0:\tlearn: 1.0639031\ttest: 1.0639031\ttest1: 0.9007448\tbest: 0.9007448 (0)\ttotal: 112ms\tremaining: 18m 39s\n",
      "100:\tlearn: 1.0403515\ttest: 1.0403515\ttest1: 0.8875636\tbest: 0.8875636 (100)\ttotal: 8.91s\tremaining: 14m 33s\n",
      "200:\tlearn: 1.0361360\ttest: 1.0361360\ttest1: 0.8856702\tbest: 0.8855308 (193)\ttotal: 16.6s\tremaining: 13m 31s\n",
      "300:\tlearn: 1.0322685\ttest: 1.0322685\ttest1: 0.8846923\tbest: 0.8842897 (220)\ttotal: 24.4s\tremaining: 13m 5s\n"
     ]
    },
    {
     "name": "stderr",
     "output_type": "stream",
     "text": [
      "\u001b[32m[I 2021-07-30 15:39:27,413]\u001b[0m Trial 64 finished with value: -0.8841715099073191 and parameters: {'colsample_bylevel': 0.06907303932348016, 'depth': 5, 'boosting_type': 'Plain', 'bootstrap_type': 'Bayesian', 'l2_leaf_reg': 4.769811476169136, 'random_strength': 0.015262097877660877, 'bagging_temperature': 1.0331954434566624}. Best is trial 59 with value: -0.8761722167283792.\u001b[0m\n"
     ]
    },
    {
     "name": "stdout",
     "output_type": "stream",
     "text": [
      "Stopped by overfitting detector  (100 iterations wait)\n",
      "\n",
      "bestTest = 0.8842897348\n",
      "bestIteration = 220\n",
      "\n",
      "Shrink model to first 221 iterations.\n",
      "0:\tlearn: 1.0635062\ttest: 1.0635062\ttest1: 0.9009839\tbest: 0.9009839 (0)\ttotal: 116ms\tremaining: 19m 22s\n",
      "100:\tlearn: 1.0387660\ttest: 1.0387660\ttest1: 0.8952660\tbest: 0.8912310 (21)\ttotal: 9.19s\tremaining: 15m\n"
     ]
    },
    {
     "name": "stderr",
     "output_type": "stream",
     "text": [
      "\u001b[32m[I 2021-07-30 15:39:38,808]\u001b[0m Trial 65 finished with value: -0.8912232789163566 and parameters: {'colsample_bylevel': 0.07876656858120237, 'depth': 6, 'boosting_type': 'Plain', 'bootstrap_type': 'Bayesian', 'l2_leaf_reg': 8.171535451872238, 'random_strength': 1.36039283589141, 'bagging_temperature': 0.9207006111523159}. Best is trial 59 with value: -0.8761722167283792.\u001b[0m\n"
     ]
    },
    {
     "name": "stdout",
     "output_type": "stream",
     "text": [
      "Stopped by overfitting detector  (100 iterations wait)\n",
      "\n",
      "bestTest = 0.8912309897\n",
      "bestIteration = 21\n",
      "\n",
      "Shrink model to first 22 iterations.\n",
      "0:\tlearn: 1.0635227\ttest: 1.0635227\ttest1: 0.9004224\tbest: 0.9004224 (0)\ttotal: 118ms\tremaining: 19m 35s\n",
      "100:\tlearn: 1.0402482\ttest: 1.0402482\ttest1: 0.8895594\tbest: 0.8888670 (20)\ttotal: 9.06s\tremaining: 14m 48s\n",
      "200:\tlearn: 1.0327916\ttest: 1.0327916\ttest1: 0.8870323\tbest: 0.8869845 (194)\ttotal: 17s\tremaining: 13m 46s\n",
      "300:\tlearn: 1.0317015\ttest: 1.0317015\ttest1: 0.8867295\tbest: 0.8867295 (299)\ttotal: 24.9s\tremaining: 13m 21s\n",
      "400:\tlearn: 1.0293106\ttest: 1.0293106\ttest1: 0.8848826\tbest: 0.8848797 (386)\ttotal: 32.7s\tremaining: 13m 3s\n"
     ]
    },
    {
     "name": "stderr",
     "output_type": "stream",
     "text": [
      "\u001b[32m[I 2021-07-30 15:40:18,773]\u001b[0m Trial 66 finished with value: -0.8848555769274343 and parameters: {'colsample_bylevel': 0.0995829564618156, 'depth': 5, 'boosting_type': 'Plain', 'bootstrap_type': 'Bayesian', 'l2_leaf_reg': 5.8435409328274215, 'random_strength': 1.8603743496571723, 'bagging_temperature': 2.365589525329393}. Best is trial 59 with value: -0.8761722167283792.\u001b[0m\n"
     ]
    },
    {
     "name": "stdout",
     "output_type": "stream",
     "text": [
      "Stopped by overfitting detector  (100 iterations wait)\n",
      "\n",
      "bestTest = 0.8848796606\n",
      "bestIteration = 386\n",
      "\n",
      "Shrink model to first 387 iterations.\n",
      "0:\tlearn: 1.0637426\ttest: 1.0637426\ttest1: 0.9005785\tbest: 0.9005785 (0)\ttotal: 115ms\tremaining: 19m 5s\n",
      "100:\tlearn: 1.0407357\ttest: 1.0407357\ttest1: 0.8933894\tbest: 0.8892081 (25)\ttotal: 9.22s\tremaining: 15m 3s\n"
     ]
    },
    {
     "name": "stderr",
     "output_type": "stream",
     "text": [
      "\u001b[32m[I 2021-07-30 15:40:30,449]\u001b[0m Trial 67 finished with value: -0.8892090709082052 and parameters: {'colsample_bylevel': 0.07438825109184052, 'depth': 5, 'boosting_type': 'Plain', 'bootstrap_type': 'Bayesian', 'l2_leaf_reg': 1.8505425925890684, 'random_strength': 2.717076433234589, 'bagging_temperature': 0.6840390209968369}. Best is trial 59 with value: -0.8761722167283792.\u001b[0m\n"
     ]
    },
    {
     "name": "stdout",
     "output_type": "stream",
     "text": [
      "Stopped by overfitting detector  (100 iterations wait)\n",
      "\n",
      "bestTest = 0.8892081366\n",
      "bestIteration = 25\n",
      "\n",
      "Shrink model to first 26 iterations.\n",
      "0:\tlearn: 1.0635534\ttest: 1.0635534\ttest1: 0.9002240\tbest: 0.9002240 (0)\ttotal: 117ms\tremaining: 19m 26s\n",
      "100:\tlearn: 1.0399328\ttest: 1.0399328\ttest1: 0.8833988\tbest: 0.8833988 (100)\ttotal: 8.56s\tremaining: 13m 58s\n",
      "200:\tlearn: 1.0338053\ttest: 1.0338053\ttest1: 0.8811421\tbest: 0.8810639 (151)\ttotal: 16.4s\tremaining: 13m 20s\n",
      "300:\tlearn: 1.0303027\ttest: 1.0303027\ttest1: 0.8791967\tbest: 0.8791967 (300)\ttotal: 24.3s\tremaining: 13m 1s\n",
      "400:\tlearn: 1.0286242\ttest: 1.0286242\ttest1: 0.8804809\tbest: 0.8788728 (355)\ttotal: 32s\tremaining: 12m 47s\n"
     ]
    },
    {
     "name": "stderr",
     "output_type": "stream",
     "text": [
      "\u001b[32m[I 2021-07-30 15:41:07,316]\u001b[0m Trial 68 finished with value: -0.8788228499967485 and parameters: {'colsample_bylevel': 0.09390831619689913, 'depth': 5, 'boosting_type': 'Plain', 'bootstrap_type': 'Bayesian', 'l2_leaf_reg': 4.916425377352117, 'random_strength': 0.16303116578156746, 'bagging_temperature': 2.1918495029073535}. Best is trial 59 with value: -0.8761722167283792.\u001b[0m\n"
     ]
    },
    {
     "name": "stdout",
     "output_type": "stream",
     "text": [
      "Stopped by overfitting detector  (100 iterations wait)\n",
      "\n",
      "bestTest = 0.8788728423\n",
      "bestIteration = 355\n",
      "\n",
      "Shrink model to first 356 iterations.\n",
      "0:\tlearn: 1.0635284\ttest: 1.0635284\ttest1: 0.9003992\tbest: 0.9003992 (0)\ttotal: 136ms\tremaining: 22m 36s\n",
      "100:\tlearn: 1.0419735\ttest: 1.0419735\ttest1: 0.8837040\tbest: 0.8837040 (100)\ttotal: 12.4s\tremaining: 20m 15s\n",
      "200:\tlearn: 1.0355266\ttest: 1.0355266\ttest1: 0.8818838\tbest: 0.8818106 (184)\ttotal: 23.5s\tremaining: 19m 6s\n",
      "300:\tlearn: 1.0332498\ttest: 1.0332498\ttest1: 0.8817993\tbest: 0.8816394 (280)\ttotal: 34.6s\tremaining: 18m 34s\n",
      "400:\tlearn: 1.0307402\ttest: 1.0307402\ttest1: 0.8807902\tbest: 0.8807243 (386)\ttotal: 45.6s\tremaining: 18m 10s\n",
      "500:\tlearn: 1.0301444\ttest: 1.0301444\ttest1: 0.8812334\tbest: 0.8807178 (448)\ttotal: 56.4s\tremaining: 17m 50s\n"
     ]
    },
    {
     "name": "stderr",
     "output_type": "stream",
     "text": [
      "\u001b[32m[I 2021-07-30 15:42:09,637]\u001b[0m Trial 69 finished with value: -0.8806974255268206 and parameters: {'colsample_bylevel': 0.09348275769306233, 'depth': 5, 'boosting_type': 'Ordered', 'bootstrap_type': 'Bayesian', 'l2_leaf_reg': 6.893194651804254, 'random_strength': 1.1418065925878715, 'bagging_temperature': 2.3939352475579048}. Best is trial 59 with value: -0.8761722167283792.\u001b[0m\n"
     ]
    },
    {
     "name": "stdout",
     "output_type": "stream",
     "text": [
      "Stopped by overfitting detector  (100 iterations wait)\n",
      "\n",
      "bestTest = 0.8807177699\n",
      "bestIteration = 448\n",
      "\n",
      "Shrink model to first 449 iterations.\n",
      "0:\tlearn: 1.0632949\ttest: 1.0632949\ttest1: 0.9015261\tbest: 0.9015261 (0)\ttotal: 142ms\tremaining: 23m 42s\n",
      "100:\tlearn: 1.0402364\ttest: 1.0402364\ttest1: 0.8864840\tbest: 0.8863497 (86)\ttotal: 12s\tremaining: 19m 39s\n",
      "200:\tlearn: 1.0350087\ttest: 1.0350087\ttest1: 0.8853085\tbest: 0.8853085 (200)\ttotal: 23.3s\tremaining: 18m 57s\n",
      "300:\tlearn: 1.0323827\ttest: 1.0323827\ttest1: 0.8848483\tbest: 0.8848483 (300)\ttotal: 34.9s\tremaining: 18m 45s\n",
      "400:\tlearn: 1.0312581\ttest: 1.0312581\ttest1: 0.8856641\tbest: 0.8847651 (319)\ttotal: 46.2s\tremaining: 18m 25s\n",
      "Stopped by overfitting detector  (100 iterations wait)\n",
      "\n",
      "bestTest = 0.8847651498\n",
      "bestIteration = 319\n",
      "\n",
      "Shrink model to first 320 iterations.\n"
     ]
    },
    {
     "name": "stderr",
     "output_type": "stream",
     "text": [
      "\u001b[32m[I 2021-07-30 15:42:58,642]\u001b[0m Trial 70 finished with value: -0.8846376864948305 and parameters: {'colsample_bylevel': 0.09273496339251071, 'depth': 6, 'boosting_type': 'Ordered', 'bootstrap_type': 'Bayesian', 'l2_leaf_reg': 6.898161131157595, 'random_strength': 1.1625822247392805, 'bagging_temperature': 3.63573456116859}. Best is trial 59 with value: -0.8761722167283792.\u001b[0m\n"
     ]
    },
    {
     "name": "stdout",
     "output_type": "stream",
     "text": [
      "0:\tlearn: 1.0635634\ttest: 1.0635634\ttest1: 0.9003816\tbest: 0.9003816 (0)\ttotal: 140ms\tremaining: 23m 18s\n",
      "100:\tlearn: 1.0395419\ttest: 1.0395419\ttest1: 0.8850671\tbest: 0.8845810 (96)\ttotal: 12s\tremaining: 19m 33s\n",
      "200:\tlearn: 1.0347210\ttest: 1.0347210\ttest1: 0.8834224\tbest: 0.8834224 (200)\ttotal: 23.2s\tremaining: 18m 51s\n",
      "300:\tlearn: 1.0325399\ttest: 1.0325399\ttest1: 0.8829980\tbest: 0.8828329 (285)\ttotal: 34.6s\tremaining: 18m 33s\n"
     ]
    },
    {
     "name": "stderr",
     "output_type": "stream",
     "text": [
      "\u001b[32m[I 2021-07-30 15:43:43,176]\u001b[0m Trial 71 finished with value: -0.8828006152633997 and parameters: {'colsample_bylevel': 0.09635606448800012, 'depth': 5, 'boosting_type': 'Ordered', 'bootstrap_type': 'Bayesian', 'l2_leaf_reg': 6.93843265463323, 'random_strength': 0.2705689706228207, 'bagging_temperature': 2.170876373127688}. Best is trial 59 with value: -0.8761722167283792.\u001b[0m\n"
     ]
    },
    {
     "name": "stdout",
     "output_type": "stream",
     "text": [
      "Stopped by overfitting detector  (100 iterations wait)\n",
      "\n",
      "bestTest = 0.8828328636\n",
      "bestIteration = 285\n",
      "\n",
      "Shrink model to first 286 iterations.\n",
      "0:\tlearn: 1.0627602\ttest: 1.0627602\ttest1: 0.8997441\tbest: 0.8997441 (0)\ttotal: 183ms\tremaining: 30m 31s\n",
      "100:\tlearn: 1.0327970\ttest: 1.0327970\ttest1: 0.8884454\tbest: 0.8883705 (99)\ttotal: 14s\tremaining: 22m 55s\n",
      "200:\tlearn: 1.0245199\ttest: 1.0245199\ttest1: 0.8945050\tbest: 0.8881435 (106)\ttotal: 27.4s\tremaining: 22m 17s\n"
     ]
    },
    {
     "name": "stderr",
     "output_type": "stream",
     "text": [
      "\u001b[32m[I 2021-07-30 15:44:11,981]\u001b[0m Trial 72 finished with value: -0.8881169340514623 and parameters: {'colsample_bylevel': 0.08960957153172766, 'depth': 8, 'boosting_type': 'Ordered', 'bootstrap_type': 'Bayesian', 'l2_leaf_reg': 4.791766113610252, 'random_strength': 0.6662246826898779, 'bagging_temperature': 2.4585910991656603}. Best is trial 59 with value: -0.8761722167283792.\u001b[0m\n"
     ]
    },
    {
     "name": "stdout",
     "output_type": "stream",
     "text": [
      "Stopped by overfitting detector  (100 iterations wait)\n",
      "\n",
      "bestTest = 0.8881435172\n",
      "bestIteration = 106\n",
      "\n",
      "Shrink model to first 107 iterations.\n",
      "0:\tlearn: 1.0636992\ttest: 1.0636992\ttest1: 0.9004726\tbest: 0.9004726 (0)\ttotal: 133ms\tremaining: 22m 12s\n",
      "100:\tlearn: 1.0421488\ttest: 1.0421488\ttest1: 0.8904906\tbest: 0.8899095 (36)\ttotal: 12.8s\tremaining: 20m 51s\n",
      "200:\tlearn: 1.0354311\ttest: 1.0354311\ttest1: 0.8887410\tbest: 0.8887388 (199)\ttotal: 24.1s\tremaining: 19m 34s\n",
      "300:\tlearn: 1.0327944\ttest: 1.0327944\ttest1: 0.8873969\tbest: 0.8873969 (300)\ttotal: 35.5s\tremaining: 19m 3s\n",
      "400:\tlearn: 1.0313158\ttest: 1.0313158\ttest1: 0.8872290\tbest: 0.8870038 (365)\ttotal: 46.8s\tremaining: 18m 41s\n",
      "500:\tlearn: 1.0300633\ttest: 1.0300633\ttest1: 0.8867675\tbest: 0.8867530 (489)\ttotal: 58.1s\tremaining: 18m 21s\n",
      "600:\tlearn: 1.0285325\ttest: 1.0285325\ttest1: 0.8865575\tbest: 0.8864976 (591)\ttotal: 1m 9s\tremaining: 18m 4s\n",
      "700:\tlearn: 1.0274720\ttest: 1.0274720\ttest1: 0.8871197\tbest: 0.8863830 (621)\ttotal: 1m 20s\tremaining: 17m 47s\n"
     ]
    },
    {
     "name": "stderr",
     "output_type": "stream",
     "text": [
      "\u001b[32m[I 2021-07-30 15:45:35,454]\u001b[0m Trial 73 finished with value: -0.8862629231964025 and parameters: {'colsample_bylevel': 0.09964839096215766, 'depth': 5, 'boosting_type': 'Ordered', 'bootstrap_type': 'Bayesian', 'l2_leaf_reg': 5.695785730605341, 'random_strength': 1.608913745017263, 'bagging_temperature': 0.7790000236997168}. Best is trial 59 with value: -0.8761722167283792.\u001b[0m\n"
     ]
    },
    {
     "name": "stdout",
     "output_type": "stream",
     "text": [
      "Stopped by overfitting detector  (100 iterations wait)\n",
      "\n",
      "bestTest = 0.8863830275\n",
      "bestIteration = 621\n",
      "\n",
      "Shrink model to first 622 iterations.\n",
      "0:\tlearn: 1.0635525\ttest: 1.0635525\ttest1: 0.9003659\tbest: 0.9003659 (0)\ttotal: 134ms\tremaining: 22m 24s\n",
      "100:\tlearn: 1.0405822\ttest: 1.0405822\ttest1: 0.8867781\tbest: 0.8866125 (99)\ttotal: 12.3s\tremaining: 20m 6s\n",
      "200:\tlearn: 1.0350371\ttest: 1.0350371\ttest1: 0.8849990\tbest: 0.8844783 (142)\ttotal: 23.4s\tremaining: 19m 3s\n"
     ]
    },
    {
     "name": "stderr",
     "output_type": "stream",
     "text": [
      "\u001b[32m[I 2021-07-30 15:46:04,231]\u001b[0m Trial 74 finished with value: -0.8844513424262324 and parameters: {'colsample_bylevel': 0.09566600475158102, 'depth': 5, 'boosting_type': 'Ordered', 'bootstrap_type': 'Bayesian', 'l2_leaf_reg': 3.3482238192698, 'random_strength': 2.297019160426663, 'bagging_temperature': 3.231690500509317}. Best is trial 59 with value: -0.8761722167283792.\u001b[0m\n"
     ]
    },
    {
     "name": "stdout",
     "output_type": "stream",
     "text": [
      "Stopped by overfitting detector  (100 iterations wait)\n",
      "\n",
      "bestTest = 0.8844783257\n",
      "bestIteration = 142\n",
      "\n",
      "Shrink model to first 143 iterations.\n",
      "0:\tlearn: 1.0635951\ttest: 1.0635951\ttest1: 0.9006160\tbest: 0.9006160 (0)\ttotal: 141ms\tremaining: 23m 26s\n",
      "100:\tlearn: 1.0405729\ttest: 1.0405729\ttest1: 0.8845243\tbest: 0.8842969 (94)\ttotal: 12.1s\tremaining: 19m 46s\n",
      "200:\tlearn: 1.0344177\ttest: 1.0344177\ttest1: 0.8828687\tbest: 0.8826938 (176)\ttotal: 23.1s\tremaining: 18m 45s\n"
     ]
    },
    {
     "name": "stderr",
     "output_type": "stream",
     "text": [
      "\u001b[32m[I 2021-07-30 15:46:36,234]\u001b[0m Trial 75 finished with value: -0.8826801045944067 and parameters: {'colsample_bylevel': 0.08701285437411914, 'depth': 5, 'boosting_type': 'Ordered', 'bootstrap_type': 'Bayesian', 'l2_leaf_reg': 9.639327727172304, 'random_strength': 0.8465900134950377, 'bagging_temperature': 1.817060123953305}. Best is trial 59 with value: -0.8761722167283792.\u001b[0m\n"
     ]
    },
    {
     "name": "stdout",
     "output_type": "stream",
     "text": [
      "Stopped by overfitting detector  (100 iterations wait)\n",
      "\n",
      "bestTest = 0.8826937862\n",
      "bestIteration = 176\n",
      "\n",
      "Shrink model to first 177 iterations.\n",
      "0:\tlearn: 1.0636353\ttest: 1.0636353\ttest1: 0.9002765\tbest: 0.9002765 (0)\ttotal: 119ms\tremaining: 19m 46s\n",
      "100:\tlearn: 1.0388767\ttest: 1.0388767\ttest1: 0.8827385\tbest: 0.8827385 (100)\ttotal: 9.3s\tremaining: 15m 12s\n",
      "200:\tlearn: 1.0307639\ttest: 1.0307639\ttest1: 0.8799471\tbest: 0.8780376 (165)\ttotal: 17.6s\tremaining: 14m 16s\n"
     ]
    },
    {
     "name": "stderr",
     "output_type": "stream",
     "text": [
      "\u001b[32m[I 2021-07-30 15:46:59,681]\u001b[0m Trial 76 finished with value: -0.878027196581865 and parameters: {'colsample_bylevel': 0.09323096931732201, 'depth': 6, 'boosting_type': 'Plain', 'bootstrap_type': 'Bayesian', 'l2_leaf_reg': 8.20545290833217, 'random_strength': 0.2094708085661321, 'bagging_temperature': 2.892096437812185}. Best is trial 59 with value: -0.8761722167283792.\u001b[0m\n"
     ]
    },
    {
     "name": "stdout",
     "output_type": "stream",
     "text": [
      "Stopped by overfitting detector  (100 iterations wait)\n",
      "\n",
      "bestTest = 0.8780375749\n",
      "bestIteration = 165\n",
      "\n",
      "Shrink model to first 166 iterations.\n",
      "0:\tlearn: 1.0631885\ttest: 1.0631885\ttest1: 0.9000217\tbest: 0.9000217 (0)\ttotal: 124ms\tremaining: 20m 43s\n",
      "100:\tlearn: 1.0389874\ttest: 1.0389874\ttest1: 0.8845540\tbest: 0.8845540 (100)\ttotal: 9.31s\tremaining: 15m 12s\n",
      "200:\tlearn: 1.0282282\ttest: 1.0282282\ttest1: 0.8842526\tbest: 0.8832305 (153)\ttotal: 17.9s\tremaining: 14m 32s\n"
     ]
    },
    {
     "name": "stderr",
     "output_type": "stream",
     "text": [
      "\u001b[32m[I 2021-07-30 15:47:22,665]\u001b[0m Trial 77 finished with value: -0.8827183986486294 and parameters: {'colsample_bylevel': 0.09762158493294192, 'depth': 7, 'boosting_type': 'Plain', 'bootstrap_type': 'Bayesian', 'l2_leaf_reg': 6.726785846298895, 'random_strength': 1.2225315502333043, 'bagging_temperature': 4.253558088417139}. Best is trial 59 with value: -0.8761722167283792.\u001b[0m\n"
     ]
    },
    {
     "name": "stdout",
     "output_type": "stream",
     "text": [
      "Stopped by overfitting detector  (100 iterations wait)\n",
      "\n",
      "bestTest = 0.883230539\n",
      "bestIteration = 153\n",
      "\n",
      "Shrink model to first 154 iterations.\n",
      "0:\tlearn: 1.0635554\ttest: 1.0635554\ttest1: 0.9010612\tbest: 0.9010612 (0)\ttotal: 122ms\tremaining: 20m 15s\n",
      "100:\tlearn: 1.0374573\ttest: 1.0374573\ttest1: 0.8898800\tbest: 0.8886826 (52)\ttotal: 9.36s\tremaining: 15m 16s\n"
     ]
    },
    {
     "name": "stderr",
     "output_type": "stream",
     "text": [
      "\u001b[32m[I 2021-07-30 15:47:36,793]\u001b[0m Trial 78 finished with value: -0.8886769818700184 and parameters: {'colsample_bylevel': 0.0930432728258433, 'depth': 6, 'boosting_type': 'Plain', 'bootstrap_type': 'Bayesian', 'l2_leaf_reg': 7.697278055868143, 'random_strength': 1.7445517233282568, 'bagging_temperature': 2.8740568898361434}. Best is trial 59 with value: -0.8761722167283792.\u001b[0m\n"
     ]
    },
    {
     "name": "stdout",
     "output_type": "stream",
     "text": [
      "Stopped by overfitting detector  (100 iterations wait)\n",
      "\n",
      "bestTest = 0.8886826488\n",
      "bestIteration = 52\n",
      "\n",
      "Shrink model to first 53 iterations.\n",
      "0:\tlearn: 1.0635520\ttest: 1.0635520\ttest1: 0.9005736\tbest: 0.9005736 (0)\ttotal: 119ms\tremaining: 19m 53s\n",
      "100:\tlearn: 1.0385761\ttest: 1.0385761\ttest1: 0.8838806\tbest: 0.8838272 (95)\ttotal: 9.24s\tremaining: 15m 6s\n",
      "200:\tlearn: 1.0316511\ttest: 1.0316511\ttest1: 0.8843044\tbest: 0.8825959 (150)\ttotal: 17.6s\tremaining: 14m 18s\n"
     ]
    },
    {
     "name": "stderr",
     "output_type": "stream",
     "text": [
      "\u001b[32m[I 2021-07-30 15:47:59,114]\u001b[0m Trial 79 finished with value: -0.8825211195365901 and parameters: {'colsample_bylevel': 0.09141152497139692, 'depth': 6, 'boosting_type': 'Plain', 'bootstrap_type': 'Bayesian', 'l2_leaf_reg': 8.94923334038985, 'random_strength': 0.8113277226707241, 'bagging_temperature': 2.883270176810808}. Best is trial 59 with value: -0.8761722167283792.\u001b[0m\n"
     ]
    },
    {
     "name": "stdout",
     "output_type": "stream",
     "text": [
      "Stopped by overfitting detector  (100 iterations wait)\n",
      "\n",
      "bestTest = 0.8825958695\n",
      "bestIteration = 150\n",
      "\n",
      "Shrink model to first 151 iterations.\n",
      "0:\tlearn: 1.0632388\ttest: 1.0632388\ttest1: 0.9006409\tbest: 0.9006409 (0)\ttotal: 114ms\tremaining: 19m 2s\n",
      "100:\tlearn: 1.0426402\ttest: 1.0426402\ttest1: 0.8890391\tbest: 0.8874303 (26)\ttotal: 8.81s\tremaining: 14m 23s\n",
      "200:\tlearn: 1.0373760\ttest: 1.0373760\ttest1: 0.8881484\tbest: 0.8872253 (135)\ttotal: 16.9s\tremaining: 13m 42s\n"
     ]
    },
    {
     "name": "stderr",
     "output_type": "stream",
     "text": [
      "\u001b[32m[I 2021-07-30 15:48:19,286]\u001b[0m Trial 80 finished with value: -0.8872131323482771 and parameters: {'colsample_bylevel': 0.08334884434609713, 'depth': 6, 'boosting_type': 'Plain', 'bootstrap_type': 'Bayesian', 'l2_leaf_reg': 5.081081786230856, 'random_strength': 2.321432956217829, 'bagging_temperature': 4.914516371897081}. Best is trial 59 with value: -0.8761722167283792.\u001b[0m\n"
     ]
    },
    {
     "name": "stdout",
     "output_type": "stream",
     "text": [
      "Stopped by overfitting detector  (100 iterations wait)\n",
      "\n",
      "bestTest = 0.8872252562\n",
      "bestIteration = 135\n",
      "\n",
      "Shrink model to first 136 iterations.\n",
      "0:\tlearn: 1.0633750\ttest: 1.0633750\ttest1: 0.9000682\tbest: 0.9000682 (0)\ttotal: 116ms\tremaining: 19m 22s\n",
      "100:\tlearn: 1.0397447\ttest: 1.0397447\ttest1: 0.8843618\tbest: 0.8841690 (98)\ttotal: 8.68s\tremaining: 14m 10s\n",
      "200:\tlearn: 1.0343613\ttest: 1.0343613\ttest1: 0.8836866\tbest: 0.8826222 (148)\ttotal: 16.5s\tremaining: 13m 26s\n"
     ]
    },
    {
     "name": "stderr",
     "output_type": "stream",
     "text": [
      "\u001b[32m[I 2021-07-30 15:48:40,101]\u001b[0m Trial 81 finished with value: -0.8825901071896738 and parameters: {'colsample_bylevel': 0.08919052774518013, 'depth': 5, 'boosting_type': 'Plain', 'bootstrap_type': 'Bayesian', 'l2_leaf_reg': 8.051331211751041, 'random_strength': 0.28603603208585937, 'bagging_temperature': 0.6274499827637304}. Best is trial 59 with value: -0.8761722167283792.\u001b[0m\n"
     ]
    },
    {
     "name": "stdout",
     "output_type": "stream",
     "text": [
      "Stopped by overfitting detector  (100 iterations wait)\n",
      "\n",
      "bestTest = 0.8826222131\n",
      "bestIteration = 148\n",
      "\n",
      "Shrink model to first 149 iterations.\n",
      "0:\tlearn: 1.0635861\ttest: 1.0635861\ttest1: 0.9005212\tbest: 0.9005212 (0)\ttotal: 112ms\tremaining: 18m 36s\n",
      "100:\tlearn: 1.0428909\ttest: 1.0428909\ttest1: 0.8842725\tbest: 0.8841801 (99)\ttotal: 9.01s\tremaining: 14m 43s\n",
      "200:\tlearn: 1.0354390\ttest: 1.0354390\ttest1: 0.8824550\tbest: 0.8824550 (200)\ttotal: 16.8s\tremaining: 13m 40s\n",
      "300:\tlearn: 1.0334973\ttest: 1.0334973\ttest1: 0.8833586\tbest: 0.8820050 (257)\ttotal: 24.6s\tremaining: 13m 13s\n"
     ]
    },
    {
     "name": "stderr",
     "output_type": "stream",
     "text": [
      "\u001b[32m[I 2021-07-30 15:49:09,669]\u001b[0m Trial 82 finished with value: -0.8819943239084796 and parameters: {'colsample_bylevel': 0.08576898344752137, 'depth': 5, 'boosting_type': 'Plain', 'bootstrap_type': 'Bayesian', 'l2_leaf_reg': 5.94183451137828, 'random_strength': 0.2951633532637067, 'bagging_temperature': 1.977391756012104}. Best is trial 59 with value: -0.8761722167283792.\u001b[0m\n"
     ]
    },
    {
     "name": "stdout",
     "output_type": "stream",
     "text": [
      "Stopped by overfitting detector  (100 iterations wait)\n",
      "\n",
      "bestTest = 0.8820049564\n",
      "bestIteration = 257\n",
      "\n",
      "Shrink model to first 258 iterations.\n",
      "0:\tlearn: 1.0633784\ttest: 1.0633784\ttest1: 0.9004143\tbest: 0.9004143 (0)\ttotal: 113ms\tremaining: 18m 47s\n",
      "100:\tlearn: 1.0432263\ttest: 1.0432263\ttest1: 0.8862665\tbest: 0.8861288 (96)\ttotal: 7.93s\tremaining: 12m 57s\n",
      "200:\tlearn: 1.0378286\ttest: 1.0378286\ttest1: 0.8844308\tbest: 0.8834075 (158)\ttotal: 15.4s\tremaining: 12m 30s\n"
     ]
    },
    {
     "name": "stderr",
     "output_type": "stream",
     "text": [
      "\u001b[32m[I 2021-07-30 15:49:29,889]\u001b[0m Trial 83 finished with value: -0.883392397683189 and parameters: {'colsample_bylevel': 0.09506179459983974, 'depth': 4, 'boosting_type': 'Plain', 'bootstrap_type': 'Bayesian', 'l2_leaf_reg': 8.633468911454028, 'random_strength': 2.775997820458109, 'bagging_temperature': 1.1299407631397607}. Best is trial 59 with value: -0.8761722167283792.\u001b[0m\n"
     ]
    },
    {
     "name": "stdout",
     "output_type": "stream",
     "text": [
      "Stopped by overfitting detector  (100 iterations wait)\n",
      "\n",
      "bestTest = 0.8834074948\n",
      "bestIteration = 158\n",
      "\n",
      "Shrink model to first 159 iterations.\n",
      "0:\tlearn: 1.0637008\ttest: 1.0637008\ttest1: 0.9006273\tbest: 0.9006273 (0)\ttotal: 113ms\tremaining: 18m 50s\n",
      "100:\tlearn: 1.0412185\ttest: 1.0412185\ttest1: 0.8878966\tbest: 0.8870301 (36)\ttotal: 9.23s\tremaining: 15m 4s\n",
      "200:\tlearn: 1.0339874\ttest: 1.0339874\ttest1: 0.8852082\tbest: 0.8850996 (176)\ttotal: 17.1s\tremaining: 13m 52s\n",
      "300:\tlearn: 1.0316251\ttest: 1.0316251\ttest1: 0.8886922\tbest: 0.8847535 (214)\ttotal: 24.9s\tremaining: 13m 21s\n"
     ]
    },
    {
     "name": "stderr",
     "output_type": "stream",
     "text": [
      "\u001b[32m[I 2021-07-30 15:49:56,372]\u001b[0m Trial 84 finished with value: -0.8847376412818737 and parameters: {'colsample_bylevel': 0.09023180833001326, 'depth': 5, 'boosting_type': 'Plain', 'bootstrap_type': 'Bayesian', 'l2_leaf_reg': 6.422240932694405, 'random_strength': 0.6880924202000699, 'bagging_temperature': 0.5910907379907409}. Best is trial 59 with value: -0.8761722167283792.\u001b[0m\n"
     ]
    },
    {
     "name": "stdout",
     "output_type": "stream",
     "text": [
      "Stopped by overfitting detector  (100 iterations wait)\n",
      "\n",
      "bestTest = 0.8847534568\n",
      "bestIteration = 214\n",
      "\n",
      "Shrink model to first 215 iterations.\n",
      "0:\tlearn: 1.0636639\ttest: 1.0636639\ttest1: 0.9005495\tbest: 0.9005495 (0)\ttotal: 113ms\tremaining: 18m 52s\n",
      "100:\tlearn: 1.0425327\ttest: 1.0425327\ttest1: 0.8825451\tbest: 0.8825451 (100)\ttotal: 9.01s\tremaining: 14m 43s\n",
      "200:\tlearn: 1.0374433\ttest: 1.0374433\ttest1: 0.8800505\tbest: 0.8800500 (199)\ttotal: 16.5s\tremaining: 13m 23s\n",
      "300:\tlearn: 1.0350208\ttest: 1.0350208\ttest1: 0.8793398\tbest: 0.8793356 (294)\ttotal: 24s\tremaining: 12m 52s\n",
      "400:\tlearn: 1.0330723\ttest: 1.0330723\ttest1: 0.8791097\tbest: 0.8788025 (365)\ttotal: 31.4s\tremaining: 12m 32s\n",
      "500:\tlearn: 1.0316461\ttest: 1.0316461\ttest1: 0.8784838\tbest: 0.8784651 (478)\ttotal: 38.8s\tremaining: 12m 16s\n",
      "600:\tlearn: 1.0306760\ttest: 1.0306760\ttest1: 0.8778578\tbest: 0.8778148 (589)\ttotal: 46.3s\tremaining: 12m 3s\n",
      "Stopped by overfitting detector  (100 iterations wait)\n",
      "\n",
      "bestTest = 0.8778148144\n",
      "bestIteration = 589\n",
      "\n",
      "Shrink model to first 590 iterations.\n"
     ]
    },
    {
     "name": "stderr",
     "output_type": "stream",
     "text": [
      "\u001b[32m[I 2021-07-30 15:50:49,876]\u001b[0m Trial 85 finished with value: -0.8777768806229843 and parameters: {'colsample_bylevel': 0.09775078560851469, 'depth': 4, 'boosting_type': 'Plain', 'bootstrap_type': 'Bayesian', 'l2_leaf_reg': 7.595110020305472, 'random_strength': 1.1107814145374042, 'bagging_temperature': 2.2979036494694003}. Best is trial 59 with value: -0.8761722167283792.\u001b[0m\n"
     ]
    },
    {
     "name": "stdout",
     "output_type": "stream",
     "text": [
      "0:\tlearn: 1.0636879\ttest: 1.0636879\ttest1: 0.9005723\tbest: 0.9005723 (0)\ttotal: 113ms\tremaining: 18m 52s\n",
      "100:\tlearn: 1.0447376\ttest: 1.0447376\ttest1: 0.8840134\tbest: 0.8840134 (100)\ttotal: 8.96s\tremaining: 14m 38s\n",
      "200:\tlearn: 1.0380099\ttest: 1.0380099\ttest1: 0.8795711\tbest: 0.8795641 (188)\ttotal: 16.5s\tremaining: 13m 23s\n",
      "300:\tlearn: 1.0358324\ttest: 1.0358324\ttest1: 0.8795175\tbest: 0.8794118 (250)\ttotal: 24s\tremaining: 12m 53s\n",
      "400:\tlearn: 1.0342721\ttest: 1.0342721\ttest1: 0.8793923\tbest: 0.8791040 (341)\ttotal: 31.5s\tremaining: 12m 33s\n",
      "500:\tlearn: 1.0330920\ttest: 1.0330920\ttest1: 0.8785168\tbest: 0.8784428 (470)\ttotal: 39s\tremaining: 12m 18s\n",
      "600:\tlearn: 1.0311283\ttest: 1.0311283\ttest1: 0.8781731\tbest: 0.8779805 (557)\ttotal: 46.3s\tremaining: 12m 4s\n",
      "Stopped by overfitting detector  (100 iterations wait)\n",
      "\n",
      "bestTest = 0.8779805066\n",
      "bestIteration = 557\n",
      "\n",
      "Shrink model to first 558 iterations.\n"
     ]
    },
    {
     "name": "stderr",
     "output_type": "stream",
     "text": [
      "\u001b[32m[I 2021-07-30 15:51:41,104]\u001b[0m Trial 86 finished with value: -0.8779438796338563 and parameters: {'colsample_bylevel': 0.09786494300310936, 'depth': 4, 'boosting_type': 'Plain', 'bootstrap_type': 'Bayesian', 'l2_leaf_reg': 7.261947395586302, 'random_strength': 1.0126085532754554, 'bagging_temperature': 2.596989708948069}. Best is trial 59 with value: -0.8761722167283792.\u001b[0m\n"
     ]
    },
    {
     "name": "stdout",
     "output_type": "stream",
     "text": [
      "0:\tlearn: 1.0637017\ttest: 1.0637017\ttest1: 0.9005828\tbest: 0.9005828 (0)\ttotal: 112ms\tremaining: 18m 37s\n",
      "100:\tlearn: 1.0448330\ttest: 1.0448330\ttest1: 0.8835741\tbest: 0.8835741 (100)\ttotal: 8.81s\tremaining: 14m 23s\n",
      "200:\tlearn: 1.0389518\ttest: 1.0389518\ttest1: 0.8806397\tbest: 0.8806360 (198)\ttotal: 16.3s\tremaining: 13m 13s\n",
      "300:\tlearn: 1.0369531\ttest: 1.0369531\ttest1: 0.8793292\tbest: 0.8793039 (297)\ttotal: 23.7s\tremaining: 12m 43s\n",
      "400:\tlearn: 1.0344618\ttest: 1.0344618\ttest1: 0.8776289\tbest: 0.8776289 (400)\ttotal: 31.1s\tremaining: 12m 25s\n",
      "500:\tlearn: 1.0330924\ttest: 1.0330924\ttest1: 0.8771678\tbest: 0.8771525 (489)\ttotal: 38.5s\tremaining: 12m 9s\n"
     ]
    },
    {
     "name": "stderr",
     "output_type": "stream",
     "text": [
      "\u001b[32m[I 2021-07-30 15:52:26,874]\u001b[0m Trial 87 finished with value: -0.8771188017998597 and parameters: {'colsample_bylevel': 0.09763835954968221, 'depth': 4, 'boosting_type': 'Plain', 'bootstrap_type': 'Bayesian', 'l2_leaf_reg': 5.545391292484286, 'random_strength': 1.5649675621749353, 'bagging_temperature': 3.820494796236103}. Best is trial 59 with value: -0.8761722167283792.\u001b[0m\n"
     ]
    },
    {
     "name": "stdout",
     "output_type": "stream",
     "text": [
      "Stopped by overfitting detector  (100 iterations wait)\n",
      "\n",
      "bestTest = 0.8771525424\n",
      "bestIteration = 489\n",
      "\n",
      "Shrink model to first 490 iterations.\n",
      "0:\tlearn: 1.0636879\ttest: 1.0636879\ttest1: 0.9005723\tbest: 0.9005723 (0)\ttotal: 111ms\tremaining: 18m 26s\n",
      "100:\tlearn: 1.0466204\ttest: 1.0466204\ttest1: 0.8855852\tbest: 0.8855852 (100)\ttotal: 8.81s\tremaining: 14m 23s\n",
      "200:\tlearn: 1.0414427\ttest: 1.0414427\ttest1: 0.8823685\tbest: 0.8823391 (199)\ttotal: 16.4s\tremaining: 13m 17s\n",
      "300:\tlearn: 1.0358237\ttest: 1.0358237\ttest1: 0.8785214\tbest: 0.8784318 (292)\ttotal: 23.8s\tremaining: 12m 46s\n",
      "400:\tlearn: 1.0349515\ttest: 1.0349515\ttest1: 0.8787483\tbest: 0.8783634 (350)\ttotal: 31.2s\tremaining: 12m 26s\n"
     ]
    },
    {
     "name": "stderr",
     "output_type": "stream",
     "text": [
      "\u001b[32m[I 2021-07-30 15:53:02,266]\u001b[0m Trial 88 finished with value: -0.8783409914340744 and parameters: {'colsample_bylevel': 0.09794745910017524, 'depth': 4, 'boosting_type': 'Plain', 'bootstrap_type': 'Bayesian', 'l2_leaf_reg': 7.609931469039952, 'random_strength': 1.3037351520751486, 'bagging_temperature': 3.6591554497414545}. Best is trial 59 with value: -0.8761722167283792.\u001b[0m\n"
     ]
    },
    {
     "name": "stdout",
     "output_type": "stream",
     "text": [
      "Stopped by overfitting detector  (100 iterations wait)\n",
      "\n",
      "bestTest = 0.8783633607\n",
      "bestIteration = 350\n",
      "\n",
      "Shrink model to first 351 iterations.\n",
      "0:\tlearn: 1.0636879\ttest: 1.0636879\ttest1: 0.9005723\tbest: 0.9005723 (0)\ttotal: 114ms\tremaining: 18m 56s\n",
      "100:\tlearn: 1.0442591\ttest: 1.0442591\ttest1: 0.8869202\tbest: 0.8867824 (96)\ttotal: 8.22s\tremaining: 13m 26s\n",
      "200:\tlearn: 1.0396458\ttest: 1.0396458\ttest1: 0.8841177\tbest: 0.8841115 (188)\ttotal: 15.7s\tremaining: 12m 46s\n",
      "300:\tlearn: 1.0377019\ttest: 1.0377019\ttest1: 0.8831297\tbest: 0.8830130 (286)\ttotal: 23.1s\tremaining: 12m 25s\n"
     ]
    },
    {
     "name": "stderr",
     "output_type": "stream",
     "text": [
      "\u001b[32m[I 2021-07-30 15:53:32,304]\u001b[0m Trial 89 finished with value: -0.8829930727341726 and parameters: {'colsample_bylevel': 0.09982150166252603, 'depth': 4, 'boosting_type': 'Plain', 'bootstrap_type': 'Bayesian', 'l2_leaf_reg': 7.288676652806842, 'random_strength': 2.1789703207941553, 'bagging_temperature': 3.852843720907882}. Best is trial 59 with value: -0.8761722167283792.\u001b[0m\n"
     ]
    },
    {
     "name": "stdout",
     "output_type": "stream",
     "text": [
      "Stopped by overfitting detector  (100 iterations wait)\n",
      "\n",
      "bestTest = 0.8830129979\n",
      "bestIteration = 286\n",
      "\n",
      "Shrink model to first 287 iterations.\n",
      "0:\tlearn: 1.0636879\ttest: 1.0636879\ttest1: 0.9005723\tbest: 0.9005723 (0)\ttotal: 112ms\tremaining: 18m 38s\n",
      "100:\tlearn: 1.0441196\ttest: 1.0441196\ttest1: 0.8836850\tbest: 0.8836850 (100)\ttotal: 8.39s\tremaining: 13m 42s\n",
      "200:\tlearn: 1.0380444\ttest: 1.0380444\ttest1: 0.8798989\tbest: 0.8798898 (196)\ttotal: 15.9s\tremaining: 12m 55s\n",
      "300:\tlearn: 1.0358692\ttest: 1.0358692\ttest1: 0.8787638\tbest: 0.8786288 (284)\ttotal: 23.4s\tremaining: 12m 33s\n",
      "400:\tlearn: 1.0350223\ttest: 1.0350223\ttest1: 0.8782148\tbest: 0.8778961 (357)\ttotal: 30.8s\tremaining: 12m 18s\n"
     ]
    },
    {
     "name": "stderr",
     "output_type": "stream",
     "text": [
      "\u001b[32m[I 2021-07-30 15:54:07,922]\u001b[0m Trial 90 finished with value: -0.8778813033563276 and parameters: {'colsample_bylevel': 0.09771012374275666, 'depth': 4, 'boosting_type': 'Plain', 'bootstrap_type': 'Bayesian', 'l2_leaf_reg': 9.611191146065387, 'random_strength': 1.3196776342996963, 'bagging_temperature': 3.3402498049648477}. Best is trial 59 with value: -0.8761722167283792.\u001b[0m\n"
     ]
    },
    {
     "name": "stdout",
     "output_type": "stream",
     "text": [
      "Stopped by overfitting detector  (100 iterations wait)\n",
      "\n",
      "bestTest = 0.8778961247\n",
      "bestIteration = 357\n",
      "\n",
      "Shrink model to first 358 iterations.\n",
      "0:\tlearn: 1.0636879\ttest: 1.0636879\ttest1: 0.9005723\tbest: 0.9005723 (0)\ttotal: 110ms\tremaining: 18m 23s\n",
      "100:\tlearn: 1.0439744\ttest: 1.0439744\ttest1: 0.8836443\tbest: 0.8836443 (100)\ttotal: 9s\tremaining: 14m 41s\n",
      "200:\tlearn: 1.0372497\ttest: 1.0372497\ttest1: 0.8792322\tbest: 0.8792322 (200)\ttotal: 16.5s\tremaining: 13m 24s\n",
      "300:\tlearn: 1.0353412\ttest: 1.0353412\ttest1: 0.8780765\tbest: 0.8780760 (298)\ttotal: 24s\tremaining: 12m 53s\n",
      "400:\tlearn: 1.0340903\ttest: 1.0340903\ttest1: 0.8773765\tbest: 0.8771463 (340)\ttotal: 31.4s\tremaining: 12m 32s\n",
      "500:\tlearn: 1.0323273\ttest: 1.0323273\ttest1: 0.8767218\tbest: 0.8765551 (472)\ttotal: 38.9s\tremaining: 12m 16s\n",
      "600:\tlearn: 1.0315642\ttest: 1.0315642\ttest1: 0.8761587\tbest: 0.8760829 (567)\ttotal: 46.2s\tremaining: 12m 3s\n",
      "700:\tlearn: 1.0305633\ttest: 1.0305633\ttest1: 0.8758445\tbest: 0.8754105 (603)\ttotal: 53.7s\tremaining: 11m 51s\n"
     ]
    },
    {
     "name": "stderr",
     "output_type": "stream",
     "text": [
      "\u001b[32m[I 2021-07-30 15:55:02,368]\u001b[0m Trial 91 finished with value: -0.8753753806261396 and parameters: {'colsample_bylevel': 0.097559500109035, 'depth': 4, 'boosting_type': 'Plain', 'bootstrap_type': 'Bayesian', 'l2_leaf_reg': 9.737213821529005, 'random_strength': 1.3679070532051059, 'bagging_temperature': 3.1514402801225176}. Best is trial 91 with value: -0.8753753806261396.\u001b[0m\n"
     ]
    },
    {
     "name": "stdout",
     "output_type": "stream",
     "text": [
      "Stopped by overfitting detector  (100 iterations wait)\n",
      "\n",
      "bestTest = 0.8754105352\n",
      "bestIteration = 603\n",
      "\n",
      "Shrink model to first 604 iterations.\n",
      "0:\tlearn: 1.0636879\ttest: 1.0636879\ttest1: 0.9005723\tbest: 0.9005723 (0)\ttotal: 114ms\tremaining: 18m 55s\n",
      "100:\tlearn: 1.0436902\ttest: 1.0436902\ttest1: 0.8842409\tbest: 0.8841262 (97)\ttotal: 8.5s\tremaining: 13m 52s\n",
      "200:\tlearn: 1.0375389\ttest: 1.0375389\ttest1: 0.8810800\tbest: 0.8808235 (190)\ttotal: 16s\tremaining: 12m 59s\n",
      "300:\tlearn: 1.0355590\ttest: 1.0355590\ttest1: 0.8805387\tbest: 0.8805076 (264)\ttotal: 23.4s\tremaining: 12m 35s\n",
      "400:\tlearn: 1.0345880\ttest: 1.0345880\ttest1: 0.8803954\tbest: 0.8803954 (399)\ttotal: 30.8s\tremaining: 12m 18s\n",
      "500:\tlearn: 1.0341161\ttest: 1.0341161\ttest1: 0.8796396\tbest: 0.8796388 (499)\ttotal: 38.2s\tremaining: 12m 4s\n",
      "600:\tlearn: 1.0328573\ttest: 1.0328573\ttest1: 0.8791423\tbest: 0.8791383 (597)\ttotal: 45.5s\tremaining: 11m 52s\n",
      "700:\tlearn: 1.0305376\ttest: 1.0305376\ttest1: 0.8851829\tbest: 0.8778818 (656)\ttotal: 53s\tremaining: 11m 42s\n"
     ]
    },
    {
     "name": "stderr",
     "output_type": "stream",
     "text": [
      "\u001b[32m[I 2021-07-30 15:56:00,052]\u001b[0m Trial 92 finished with value: -0.8778592526147161 and parameters: {'colsample_bylevel': 0.09746179888400479, 'depth': 4, 'boosting_type': 'Plain', 'bootstrap_type': 'Bayesian', 'l2_leaf_reg': 11.007904243408944, 'random_strength': 1.4536589635862271, 'bagging_temperature': 3.241449453705169}. Best is trial 91 with value: -0.8753753806261396.\u001b[0m\n"
     ]
    },
    {
     "name": "stdout",
     "output_type": "stream",
     "text": [
      "Stopped by overfitting detector  (100 iterations wait)\n",
      "\n",
      "bestTest = 0.8778818038\n",
      "bestIteration = 656\n",
      "\n",
      "Shrink model to first 657 iterations.\n",
      "0:\tlearn: 1.0636879\ttest: 1.0636879\ttest1: 0.9005723\tbest: 0.9005723 (0)\ttotal: 114ms\tremaining: 18m 55s\n",
      "100:\tlearn: 1.0454669\ttest: 1.0454669\ttest1: 0.8846685\tbest: 0.8846685 (100)\ttotal: 8.84s\tremaining: 14m 26s\n",
      "200:\tlearn: 1.0383277\ttest: 1.0383277\ttest1: 0.8796982\tbest: 0.8796967 (198)\ttotal: 16.4s\tremaining: 13m 17s\n",
      "300:\tlearn: 1.0355607\ttest: 1.0355607\ttest1: 0.8784948\tbest: 0.8782643 (266)\ttotal: 23.8s\tremaining: 12m 48s\n"
     ]
    },
    {
     "name": "stderr",
     "output_type": "stream",
     "text": [
      "\u001b[32m[I 2021-07-30 15:56:29,342]\u001b[0m Trial 93 finished with value: -0.8782453394892373 and parameters: {'colsample_bylevel': 0.09793499513147572, 'depth': 4, 'boosting_type': 'Plain', 'bootstrap_type': 'Bayesian', 'l2_leaf_reg': 10.851058670837935, 'random_strength': 1.3254976054170955, 'bagging_temperature': 3.2188804290472497}. Best is trial 91 with value: -0.8753753806261396.\u001b[0m\n"
     ]
    },
    {
     "name": "stdout",
     "output_type": "stream",
     "text": [
      "Stopped by overfitting detector  (100 iterations wait)\n",
      "\n",
      "bestTest = 0.8782642582\n",
      "bestIteration = 266\n",
      "\n",
      "Shrink model to first 267 iterations.\n",
      "0:\tlearn: 1.0636879\ttest: 1.0636879\ttest1: 0.9005723\tbest: 0.9005723 (0)\ttotal: 113ms\tremaining: 18m 48s\n",
      "100:\tlearn: 1.0445209\ttest: 1.0445209\ttest1: 0.8837908\tbest: 0.8837908 (100)\ttotal: 8.82s\tremaining: 14m 24s\n",
      "200:\tlearn: 1.0392609\ttest: 1.0392609\ttest1: 0.8805513\tbest: 0.8805507 (198)\ttotal: 16.4s\tremaining: 13m 17s\n",
      "300:\tlearn: 1.0369256\ttest: 1.0369256\ttest1: 0.8795458\tbest: 0.8795437 (299)\ttotal: 23.8s\tremaining: 12m 47s\n",
      "400:\tlearn: 1.0358638\ttest: 1.0358638\ttest1: 0.8791985\tbest: 0.8789932 (375)\ttotal: 31.3s\tremaining: 12m 28s\n",
      "500:\tlearn: 1.0337988\ttest: 1.0337988\ttest1: 0.8780337\tbest: 0.8779990 (494)\ttotal: 38.7s\tremaining: 12m 13s\n",
      "600:\tlearn: 1.0326897\ttest: 1.0326897\ttest1: 0.8778817\tbest: 0.8776840 (567)\ttotal: 46.1s\tremaining: 12m\n"
     ]
    },
    {
     "name": "stderr",
     "output_type": "stream",
     "text": [
      "\u001b[32m[I 2021-07-30 15:57:20,868]\u001b[0m Trial 94 finished with value: -0.8776165548559105 and parameters: {'colsample_bylevel': 0.09762940413480886, 'depth': 4, 'boosting_type': 'Plain', 'bootstrap_type': 'Bayesian', 'l2_leaf_reg': 10.932957228484861, 'random_strength': 1.34729006147458, 'bagging_temperature': 3.3189613213754448}. Best is trial 91 with value: -0.8753753806261396.\u001b[0m\n"
     ]
    },
    {
     "name": "stdout",
     "output_type": "stream",
     "text": [
      "Stopped by overfitting detector  (100 iterations wait)\n",
      "\n",
      "bestTest = 0.8776840202\n",
      "bestIteration = 567\n",
      "\n",
      "Shrink model to first 568 iterations.\n",
      "0:\tlearn: 1.0636879\ttest: 1.0636879\ttest1: 0.9005723\tbest: 0.9005723 (0)\ttotal: 112ms\tremaining: 18m 37s\n",
      "100:\tlearn: 1.0453351\ttest: 1.0453351\ttest1: 0.8842317\tbest: 0.8842311 (98)\ttotal: 8.76s\tremaining: 14m 18s\n",
      "200:\tlearn: 1.0388668\ttest: 1.0388668\ttest1: 0.8807330\tbest: 0.8807263 (198)\ttotal: 16.3s\tremaining: 13m 14s\n",
      "300:\tlearn: 1.0359574\ttest: 1.0359574\ttest1: 0.8787626\tbest: 0.8786861 (289)\ttotal: 23.7s\tremaining: 12m 45s\n",
      "400:\tlearn: 1.0331737\ttest: 1.0331737\ttest1: 0.8778911\tbest: 0.8778890 (397)\ttotal: 31.2s\tremaining: 12m 26s\n",
      "500:\tlearn: 1.0314825\ttest: 1.0314825\ttest1: 0.8765800\tbest: 0.8765436 (494)\ttotal: 38.6s\tremaining: 12m 12s\n",
      "600:\tlearn: 1.0303705\ttest: 1.0303705\ttest1: 0.8763122\tbest: 0.8762821 (591)\ttotal: 46s\tremaining: 11m 58s\n",
      "700:\tlearn: 1.0297253\ttest: 1.0297253\ttest1: 0.8763159\tbest: 0.8762663 (655)\ttotal: 53.4s\tremaining: 11m 48s\n",
      "800:\tlearn: 1.0287649\ttest: 1.0287649\ttest1: 0.8767226\tbest: 0.8761395 (709)\ttotal: 1m\tremaining: 11m 38s\n"
     ]
    },
    {
     "name": "stderr",
     "output_type": "stream",
     "text": [
      "\u001b[32m[I 2021-07-30 15:58:22,885]\u001b[0m Trial 95 finished with value: -0.8761028687114506 and parameters: {'colsample_bylevel': 0.09761218375499602, 'depth': 4, 'boosting_type': 'Plain', 'bootstrap_type': 'Bayesian', 'l2_leaf_reg': 10.96154826641747, 'random_strength': 1.4779203404765313, 'bagging_temperature': 3.2685847392910734}. Best is trial 91 with value: -0.8753753806261396.\u001b[0m\n"
     ]
    },
    {
     "name": "stdout",
     "output_type": "stream",
     "text": [
      "Stopped by overfitting detector  (100 iterations wait)\n",
      "\n",
      "bestTest = 0.8761395093\n",
      "bestIteration = 709\n",
      "\n",
      "Shrink model to first 710 iterations.\n",
      "0:\tlearn: 1.0634304\ttest: 1.0634304\ttest1: 0.9002001\tbest: 0.9002001 (0)\ttotal: 110ms\tremaining: 18m 24s\n",
      "100:\tlearn: 1.0449359\ttest: 1.0449359\ttest1: 0.8864457\tbest: 0.8860183 (96)\ttotal: 8.2s\tremaining: 13m 23s\n",
      "200:\tlearn: 1.0408170\ttest: 1.0408170\ttest1: 0.8836498\tbest: 0.8835614 (192)\ttotal: 15.7s\tremaining: 12m 45s\n",
      "300:\tlearn: 1.0393332\ttest: 1.0393332\ttest1: 0.8821538\tbest: 0.8821526 (298)\ttotal: 23.1s\tremaining: 12m 23s\n",
      "400:\tlearn: 1.0379767\ttest: 1.0379767\ttest1: 0.8814055\tbest: 0.8813482 (361)\ttotal: 30.5s\tremaining: 12m 9s\n",
      "500:\tlearn: 1.0352942\ttest: 1.0352942\ttest1: 0.8804744\tbest: 0.8804532 (499)\ttotal: 37.8s\tremaining: 11m 57s\n",
      "600:\tlearn: 1.0342732\ttest: 1.0342732\ttest1: 0.8804135\tbest: 0.8803425 (516)\ttotal: 45.2s\tremaining: 11m 46s\n"
     ]
    },
    {
     "name": "stderr",
     "output_type": "stream",
     "text": [
      "\u001b[32m[I 2021-07-30 15:59:09,820]\u001b[0m Trial 96 finished with value: -0.8803066875839478 and parameters: {'colsample_bylevel': 0.09994989776715357, 'depth': 4, 'boosting_type': 'Plain', 'bootstrap_type': 'Bayesian', 'l2_leaf_reg': 11.278383520620894, 'random_strength': 0.9954848174208967, 'bagging_temperature': 4.261336989505704}. Best is trial 91 with value: -0.8753753806261396.\u001b[0m\n"
     ]
    },
    {
     "name": "stdout",
     "output_type": "stream",
     "text": [
      "Stopped by overfitting detector  (100 iterations wait)\n",
      "\n",
      "bestTest = 0.8803424624\n",
      "bestIteration = 516\n",
      "\n",
      "Shrink model to first 517 iterations.\n",
      "0:\tlearn: 1.0636859\ttest: 1.0636859\ttest1: 0.9005724\tbest: 0.9005724 (0)\ttotal: 110ms\tremaining: 18m 23s\n",
      "100:\tlearn: 1.0452900\ttest: 1.0452900\ttest1: 0.8886227\tbest: 0.8886171 (99)\ttotal: 8.82s\tremaining: 14m 24s\n",
      "200:\tlearn: 1.0378646\ttest: 1.0378646\ttest1: 0.8847941\tbest: 0.8846691 (197)\ttotal: 16.3s\tremaining: 13m 14s\n",
      "300:\tlearn: 1.0345736\ttest: 1.0345736\ttest1: 0.8830476\tbest: 0.8830301 (299)\ttotal: 23.8s\tremaining: 12m 45s\n",
      "400:\tlearn: 1.0332588\ttest: 1.0332588\ttest1: 0.8825093\tbest: 0.8825039 (399)\ttotal: 31.2s\tremaining: 12m 26s\n",
      "500:\tlearn: 1.0323681\ttest: 1.0323681\ttest1: 0.8829620\tbest: 0.8824110 (432)\ttotal: 38.6s\tremaining: 12m 11s\n"
     ]
    },
    {
     "name": "stderr",
     "output_type": "stream",
     "text": [
      "\u001b[32m[I 2021-07-30 15:59:51,303]\u001b[0m Trial 97 finished with value: -0.8823718228771394 and parameters: {'colsample_bylevel': 0.09666777991048926, 'depth': 4, 'boosting_type': 'Plain', 'bootstrap_type': 'Bayesian', 'l2_leaf_reg': 9.607688259094525, 'random_strength': 2.082829785697913, 'bagging_temperature': 3.1998849975035535}. Best is trial 91 with value: -0.8753753806261396.\u001b[0m\n"
     ]
    },
    {
     "name": "stdout",
     "output_type": "stream",
     "text": [
      "Stopped by overfitting detector  (100 iterations wait)\n",
      "\n",
      "bestTest = 0.8824110446\n",
      "bestIteration = 432\n",
      "\n",
      "Shrink model to first 433 iterations.\n",
      "0:\tlearn: 1.0637017\ttest: 1.0637017\ttest1: 0.9005828\tbest: 0.9005828 (0)\ttotal: 115ms\tremaining: 19m 5s\n",
      "100:\tlearn: 1.0455475\ttest: 1.0455475\ttest1: 0.8845828\tbest: 0.8845828 (100)\ttotal: 8.4s\tremaining: 13m 43s\n",
      "200:\tlearn: 1.0403084\ttest: 1.0403084\ttest1: 0.8816052\tbest: 0.8815428 (190)\ttotal: 15.9s\tremaining: 12m 55s\n",
      "300:\tlearn: 1.0384564\ttest: 1.0384564\ttest1: 0.8808284\tbest: 0.8806899 (282)\ttotal: 23.4s\tremaining: 12m 33s\n",
      "400:\tlearn: 1.0369802\ttest: 1.0369802\ttest1: 0.8803832\tbest: 0.8803814 (397)\ttotal: 30.8s\tremaining: 12m 17s\n",
      "500:\tlearn: 1.0356432\ttest: 1.0356432\ttest1: 0.8801693\tbest: 0.8796824 (421)\ttotal: 38.2s\tremaining: 12m 4s\n"
     ]
    },
    {
     "name": "stderr",
     "output_type": "stream",
     "text": [
      "\u001b[32m[I 2021-07-30 16:00:31,603]\u001b[0m Trial 98 finished with value: -0.8796585399919182 and parameters: {'colsample_bylevel': 0.09743427836023848, 'depth': 4, 'boosting_type': 'Plain', 'bootstrap_type': 'Bayesian', 'l2_leaf_reg': 12.202408609882639, 'random_strength': 1.8091445867951628, 'bagging_temperature': 3.9952065166901223}. Best is trial 91 with value: -0.8753753806261396.\u001b[0m\n"
     ]
    },
    {
     "name": "stdout",
     "output_type": "stream",
     "text": [
      "Stopped by overfitting detector  (100 iterations wait)\n",
      "\n",
      "bestTest = 0.8796824296\n",
      "bestIteration = 421\n",
      "\n",
      "Shrink model to first 422 iterations.\n",
      "0:\tlearn: 1.0636879\ttest: 1.0636879\ttest1: 0.9005723\tbest: 0.9005723 (0)\ttotal: 111ms\tremaining: 18m 26s\n",
      "100:\tlearn: 1.0447511\ttest: 1.0447511\ttest1: 0.8853924\tbest: 0.8852071 (90)\ttotal: 8.21s\tremaining: 13m 24s\n",
      "200:\tlearn: 1.0380596\ttest: 1.0380596\ttest1: 0.8820009\tbest: 0.8819788 (186)\ttotal: 15.8s\tremaining: 12m 48s\n",
      "300:\tlearn: 1.0354840\ttest: 1.0354840\ttest1: 0.8799881\tbest: 0.8799859 (299)\ttotal: 23.3s\tremaining: 12m 30s\n",
      "400:\tlearn: 1.0341849\ttest: 1.0341849\ttest1: 0.8790417\tbest: 0.8788886 (372)\ttotal: 30.7s\tremaining: 12m 15s\n",
      "500:\tlearn: 1.0330075\ttest: 1.0330075\ttest1: 0.8786152\tbest: 0.8785242 (494)\ttotal: 38.2s\tremaining: 12m 4s\n",
      "600:\tlearn: 1.0312383\ttest: 1.0312383\ttest1: 0.8780168\tbest: 0.8778951 (578)\ttotal: 45.6s\tremaining: 11m 53s\n",
      "700:\tlearn: 1.0300799\ttest: 1.0300799\ttest1: 0.8777676\tbest: 0.8776862 (671)\ttotal: 53.1s\tremaining: 11m 43s\n"
     ]
    },
    {
     "name": "stderr",
     "output_type": "stream",
     "text": [
      "\u001b[32m[I 2021-07-30 16:01:30,514]\u001b[0m Trial 99 finished with value: -0.8776513194327984 and parameters: {'colsample_bylevel': 0.09957005455319626, 'depth': 4, 'boosting_type': 'Plain', 'bootstrap_type': 'Bayesian', 'l2_leaf_reg': 10.840039970327476, 'random_strength': 1.4993230341910695, 'bagging_temperature': 3.1245549432781785}. Best is trial 91 with value: -0.8753753806261396.\u001b[0m\n",
      "\u001b[32m[I 2021-07-30 16:01:30,516]\u001b[0m A new study created in memory with name: no-name-1527b27e-50fb-4ee0-9a3f-f4e7920d5a9e\u001b[0m\n"
     ]
    },
    {
     "name": "stdout",
     "output_type": "stream",
     "text": [
      "Stopped by overfitting detector  (100 iterations wait)\n",
      "\n",
      "bestTest = 0.8776861894\n",
      "bestIteration = 671\n",
      "\n",
      "Shrink model to first 672 iterations.\n",
      "0:\tlearn: 1.3836637\ttest: 1.3836637\ttest1: 1.8762134\tbest: 1.8762134 (0)\ttotal: 121ms\tremaining: 20m 12s\n",
      "100:\tlearn: 1.0784511\ttest: 1.0784511\ttest1: 1.5138065\tbest: 1.5138065 (100)\ttotal: 9.83s\tremaining: 16m 3s\n",
      "200:\tlearn: 1.0302009\ttest: 1.0302009\ttest1: 1.4784180\tbest: 1.4778797 (191)\ttotal: 19.6s\tremaining: 15m 54s\n",
      "300:\tlearn: 1.0101723\ttest: 1.0101723\ttest1: 1.4687708\tbest: 1.4687309 (296)\ttotal: 29.1s\tremaining: 15m 37s\n",
      "400:\tlearn: 0.9980605\ttest: 0.9980605\ttest1: 1.4628834\tbest: 1.4612079 (361)\ttotal: 38.7s\tremaining: 15m 27s\n"
     ]
    },
    {
     "name": "stderr",
     "output_type": "stream",
     "text": [
      "\u001b[32m[I 2021-07-30 16:02:16,019]\u001b[0m Trial 0 finished with value: -1.4609416465180411 and parameters: {'colsample_bylevel': 0.019303445281881035, 'depth': 8, 'boosting_type': 'Ordered', 'bootstrap_type': 'MVS', 'l2_leaf_reg': 18.374290789956994, 'random_strength': 3.8376983325456546}. Best is trial 0 with value: -1.4609416465180411.\u001b[0m\n"
     ]
    },
    {
     "name": "stdout",
     "output_type": "stream",
     "text": [
      "Stopped by overfitting detector  (100 iterations wait)\n",
      "\n",
      "bestTest = 1.461207923\n",
      "bestIteration = 361\n",
      "\n",
      "Shrink model to first 362 iterations.\n",
      "0:\tlearn: 1.3882886\ttest: 1.3882886\ttest1: 1.8832819\tbest: 1.8832819 (0)\ttotal: 108ms\tremaining: 17m 57s\n",
      "100:\tlearn: 1.0615315\ttest: 1.0615315\ttest1: 1.4752271\tbest: 1.4751890 (99)\ttotal: 8.82s\tremaining: 14m 24s\n",
      "200:\tlearn: 1.0198821\ttest: 1.0198821\ttest1: 1.4468053\tbest: 1.4467747 (199)\ttotal: 17.5s\tremaining: 14m 12s\n",
      "300:\tlearn: 0.9948434\ttest: 0.9948434\ttest1: 1.4346495\tbest: 1.4342942 (297)\ttotal: 26.3s\tremaining: 14m 6s\n",
      "400:\tlearn: 0.9804568\ttest: 0.9804568\ttest1: 1.4301988\tbest: 1.4301988 (400)\ttotal: 34.9s\tremaining: 13m 54s\n",
      "500:\tlearn: 0.9685689\ttest: 0.9685689\ttest1: 1.4324508\tbest: 1.4289825 (498)\ttotal: 43.4s\tremaining: 13m 43s\n"
     ]
    },
    {
     "name": "stderr",
     "output_type": "stream",
     "text": [
      "\u001b[32m[I 2021-07-30 16:03:08,609]\u001b[0m Trial 1 finished with value: -1.4281893820268692 and parameters: {'colsample_bylevel': 0.0660668464399991, 'depth': 7, 'boosting_type': 'Ordered', 'bootstrap_type': 'Bernoulli', 'l2_leaf_reg': 7.3682014159176, 'random_strength': 4.564166446969448, 'subsample': 0.4003445650809705}. Best is trial 1 with value: -1.4281893820268692.\u001b[0m\n"
     ]
    },
    {
     "name": "stdout",
     "output_type": "stream",
     "text": [
      "Stopped by overfitting detector  (100 iterations wait)\n",
      "\n",
      "bestTest = 1.428982461\n",
      "bestIteration = 498\n",
      "\n",
      "Shrink model to first 499 iterations.\n",
      "0:\tlearn: 1.3924972\ttest: 1.3924972\ttest1: 1.8915349\tbest: 1.8915349 (0)\ttotal: 96ms\tremaining: 15m 59s\n",
      "100:\tlearn: 1.0455831\ttest: 1.0455831\ttest1: 1.4729121\tbest: 1.4727726 (99)\ttotal: 11.3s\tremaining: 18m 25s\n",
      "200:\tlearn: 1.0035852\ttest: 1.0035852\ttest1: 1.4496680\tbest: 1.4496680 (200)\ttotal: 22.8s\tremaining: 18m 30s\n",
      "300:\tlearn: 0.9777732\ttest: 0.9777732\ttest1: 1.4409472\tbest: 1.4409472 (300)\ttotal: 34.1s\tremaining: 18m 17s\n",
      "400:\tlearn: 0.9593666\ttest: 0.9593666\ttest1: 1.4371319\tbest: 1.4369564 (366)\ttotal: 45.3s\tremaining: 18m 3s\n",
      "500:\tlearn: 0.9471655\ttest: 0.9471655\ttest1: 1.4373322\tbest: 1.4366314 (491)\ttotal: 56.5s\tremaining: 17m 51s\n",
      "600:\tlearn: 0.9371153\ttest: 0.9371153\ttest1: 1.4369066\tbest: 1.4360392 (551)\ttotal: 1m 7s\tremaining: 17m 38s\n"
     ]
    },
    {
     "name": "stderr",
     "output_type": "stream",
     "text": [
      "\u001b[32m[I 2021-07-30 16:04:22,669]\u001b[0m Trial 2 finished with value: -1.4351574334469728 and parameters: {'colsample_bylevel': 0.068711036963455, 'depth': 8, 'boosting_type': 'Ordered', 'bootstrap_type': 'MVS', 'l2_leaf_reg': 3.5000749209626094, 'random_strength': 7.677459126345826}. Best is trial 1 with value: -1.4281893820268692.\u001b[0m\n"
     ]
    },
    {
     "name": "stdout",
     "output_type": "stream",
     "text": [
      "Stopped by overfitting detector  (100 iterations wait)\n",
      "\n",
      "bestTest = 1.436039233\n",
      "bestIteration = 551\n",
      "\n",
      "Shrink model to first 552 iterations.\n",
      "0:\tlearn: 1.3846784\ttest: 1.3846784\ttest1: 1.8800982\tbest: 1.8800982 (0)\ttotal: 90.4ms\tremaining: 15m 3s\n",
      "100:\tlearn: 1.0569886\ttest: 1.0569886\ttest1: 1.4672017\tbest: 1.4672017 (100)\ttotal: 7.83s\tremaining: 12m 46s\n",
      "200:\tlearn: 1.0181250\ttest: 1.0181250\ttest1: 1.4454563\tbest: 1.4453822 (198)\ttotal: 15.5s\tremaining: 12m 33s\n",
      "300:\tlearn: 0.9938387\ttest: 0.9938387\ttest1: 1.4346335\tbest: 1.4346316 (299)\ttotal: 23.1s\tremaining: 12m 24s\n",
      "400:\tlearn: 0.9817730\ttest: 0.9817730\ttest1: 1.4319647\tbest: 1.4319647 (400)\ttotal: 30.8s\tremaining: 12m 17s\n",
      "500:\tlearn: 0.9686428\ttest: 0.9686428\ttest1: 1.4278140\tbest: 1.4278140 (500)\ttotal: 38.5s\tremaining: 12m 9s\n",
      "600:\tlearn: 0.9590663\ttest: 0.9590663\ttest1: 1.4256099\tbest: 1.4256099 (600)\ttotal: 46.2s\tremaining: 12m 3s\n",
      "700:\tlearn: 0.9526694\ttest: 0.9526694\ttest1: 1.4258604\tbest: 1.4254887 (632)\ttotal: 54s\tremaining: 11m 56s\n",
      "800:\tlearn: 0.9447769\ttest: 0.9447769\ttest1: 1.4246192\tbest: 1.4245858 (796)\ttotal: 1m 1s\tremaining: 11m 49s\n",
      "900:\tlearn: 0.9382177\ttest: 0.9382177\ttest1: 1.4252560\tbest: 1.4244059 (806)\ttotal: 1m 9s\tremaining: 11m 42s\n"
     ]
    },
    {
     "name": "stderr",
     "output_type": "stream",
     "text": [
      "\u001b[32m[I 2021-07-30 16:05:33,267]\u001b[0m Trial 3 finished with value: -1.4227901718411184 and parameters: {'colsample_bylevel': 0.073613269018194, 'depth': 7, 'boosting_type': 'Plain', 'bootstrap_type': 'MVS', 'l2_leaf_reg': 10.3793187267794, 'random_strength': 7.006332425302335}. Best is trial 3 with value: -1.4227901718411184.\u001b[0m\n"
     ]
    },
    {
     "name": "stdout",
     "output_type": "stream",
     "text": [
      "Stopped by overfitting detector  (100 iterations wait)\n",
      "\n",
      "bestTest = 1.424405946\n",
      "bestIteration = 806\n",
      "\n",
      "Shrink model to first 807 iterations.\n",
      "0:\tlearn: 1.3797991\ttest: 1.3797991\ttest1: 1.8701626\tbest: 1.8701626 (0)\ttotal: 97.7ms\tremaining: 16m 16s\n",
      "100:\tlearn: 1.0568125\ttest: 1.0568125\ttest1: 1.4703045\tbest: 1.4701563 (99)\ttotal: 8.25s\tremaining: 13m 28s\n",
      "200:\tlearn: 1.0115128\ttest: 1.0115128\ttest1: 1.4394153\tbest: 1.4392873 (190)\ttotal: 16.2s\tremaining: 13m 9s\n",
      "300:\tlearn: 0.9910597\ttest: 0.9910597\ttest1: 1.4322672\tbest: 1.4322037 (264)\ttotal: 24.2s\tremaining: 13m 1s\n",
      "400:\tlearn: 0.9751623\ttest: 0.9751623\ttest1: 1.4272362\tbest: 1.4272362 (400)\ttotal: 32.2s\tremaining: 12m 51s\n",
      "500:\tlearn: 0.9616999\ttest: 0.9616999\ttest1: 1.4306922\tbest: 1.4265442 (455)\ttotal: 40.3s\tremaining: 12m 43s\n"
     ]
    },
    {
     "name": "stderr",
     "output_type": "stream",
     "text": [
      "\u001b[32m[I 2021-07-30 16:06:18,524]\u001b[0m Trial 4 finished with value: -1.425851583409809 and parameters: {'colsample_bylevel': 0.09537981052444221, 'depth': 7, 'boosting_type': 'Plain', 'bootstrap_type': 'Bernoulli', 'l2_leaf_reg': 6.993933605289123, 'random_strength': 5.198396695865872, 'subsample': 0.8005708992614625}. Best is trial 3 with value: -1.4227901718411184.\u001b[0m\n"
     ]
    },
    {
     "name": "stdout",
     "output_type": "stream",
     "text": [
      "Stopped by overfitting detector  (100 iterations wait)\n",
      "\n",
      "bestTest = 1.426544196\n",
      "bestIteration = 455\n",
      "\n",
      "Shrink model to first 456 iterations.\n",
      "0:\tlearn: 1.3921590\ttest: 1.3921590\ttest1: 1.8908321\tbest: 1.8908321 (0)\ttotal: 110ms\tremaining: 18m 15s\n",
      "100:\tlearn: 1.0734513\ttest: 1.0734513\ttest1: 1.4806509\tbest: 1.4806509 (100)\ttotal: 10.5s\tremaining: 17m 7s\n",
      "200:\tlearn: 1.0264992\ttest: 1.0264992\ttest1: 1.4603694\tbest: 1.4603452 (198)\ttotal: 20.9s\tremaining: 16m 56s\n",
      "300:\tlearn: 1.0077188\ttest: 1.0077188\ttest1: 1.4533365\tbest: 1.4533365 (300)\ttotal: 31.2s\tremaining: 16m 45s\n",
      "400:\tlearn: 0.9924366\ttest: 0.9924366\ttest1: 1.4484553\tbest: 1.4480308 (396)\ttotal: 41.5s\tremaining: 16m 32s\n",
      "500:\tlearn: 0.9823531\ttest: 0.9823531\ttest1: 1.4450358\tbest: 1.4450358 (500)\ttotal: 51.6s\tremaining: 16m 19s\n",
      "600:\tlearn: 0.9728923\ttest: 0.9728923\ttest1: 1.4438649\tbest: 1.4433022 (584)\ttotal: 1m 1s\tremaining: 16m 8s\n",
      "700:\tlearn: 0.9653284\ttest: 0.9653284\ttest1: 1.4429497\tbest: 1.4425245 (670)\ttotal: 1m 12s\tremaining: 15m 56s\n",
      "800:\tlearn: 0.9585945\ttest: 0.9585945\ttest1: 1.4425760\tbest: 1.4421779 (749)\ttotal: 1m 22s\tremaining: 15m 46s\n",
      "900:\tlearn: 0.9541507\ttest: 0.9541507\ttest1: 1.4409669\tbest: 1.4406888 (811)\ttotal: 1m 32s\tremaining: 15m 35s\n"
     ]
    },
    {
     "name": "stderr",
     "output_type": "stream",
     "text": [
      "\u001b[32m[I 2021-07-30 16:07:52,920]\u001b[0m Trial 5 finished with value: -1.4388274248662272 and parameters: {'colsample_bylevel': 0.06910895231787402, 'depth': 6, 'boosting_type': 'Ordered', 'bootstrap_type': 'Bernoulli', 'l2_leaf_reg': 6.654995787193619, 'random_strength': 6.172447770749558, 'subsample': 0.9958753639052152}. Best is trial 3 with value: -1.4227901718411184.\u001b[0m\n"
     ]
    },
    {
     "name": "stdout",
     "output_type": "stream",
     "text": [
      "Stopped by overfitting detector  (100 iterations wait)\n",
      "\n",
      "bestTest = 1.440688817\n",
      "bestIteration = 811\n",
      "\n",
      "Shrink model to first 812 iterations.\n",
      "0:\tlearn: 1.3801610\ttest: 1.3801610\ttest1: 1.8713821\tbest: 1.8713821 (0)\ttotal: 117ms\tremaining: 19m 29s\n",
      "100:\tlearn: 1.0093524\ttest: 1.0093524\ttest1: 1.4513536\tbest: 1.4511861 (95)\ttotal: 11s\tremaining: 18m 1s\n",
      "200:\tlearn: 0.9671475\ttest: 0.9671475\ttest1: 1.4385319\tbest: 1.4379312 (186)\ttotal: 22.3s\tremaining: 18m 8s\n",
      "300:\tlearn: 0.9470310\ttest: 0.9470310\ttest1: 1.4383025\tbest: 1.4362067 (223)\ttotal: 33.4s\tremaining: 17m 55s\n",
      "Stopped by overfitting detector  (100 iterations wait)\n",
      "\n",
      "bestTest = 1.436206679\n",
      "bestIteration = 223\n",
      "\n",
      "Shrink model to first 224 iterations.\n"
     ]
    },
    {
     "name": "stderr",
     "output_type": "stream",
     "text": [
      "\u001b[32m[I 2021-07-30 16:08:29,602]\u001b[0m Trial 6 finished with value: -1.4360446497059522 and parameters: {'colsample_bylevel': 0.05913022168536582, 'depth': 10, 'boosting_type': 'Ordered', 'bootstrap_type': 'Bernoulli', 'l2_leaf_reg': 5.601262851892738, 'random_strength': 0.9735482758424312, 'subsample': 0.1708027983332842}. Best is trial 3 with value: -1.4227901718411184.\u001b[0m\n"
     ]
    },
    {
     "name": "stdout",
     "output_type": "stream",
     "text": [
      "0:\tlearn: 1.4111085\ttest: 1.4111085\ttest1: 1.9137369\tbest: 1.9137369 (0)\ttotal: 74.4ms\tremaining: 12m 24s\n",
      "100:\tlearn: 1.1271485\ttest: 1.1271485\ttest1: 1.5503453\tbest: 1.5502701 (97)\ttotal: 8.03s\tremaining: 13m 7s\n",
      "200:\tlearn: 1.0901546\ttest: 1.0901546\ttest1: 1.5114401\tbest: 1.5109935 (194)\ttotal: 16.4s\tremaining: 13m 18s\n",
      "300:\tlearn: 1.0736578\ttest: 1.0736578\ttest1: 1.4962587\tbest: 1.4961453 (287)\ttotal: 24.3s\tremaining: 13m 2s\n",
      "400:\tlearn: 1.0593666\ttest: 1.0593666\ttest1: 1.4838576\tbest: 1.4838576 (400)\ttotal: 32s\tremaining: 12m 47s\n",
      "500:\tlearn: 1.0511726\ttest: 1.0511726\ttest1: 1.4793258\tbest: 1.4791497 (497)\ttotal: 39.9s\tremaining: 12m 36s\n",
      "600:\tlearn: 1.0428197\ttest: 1.0428197\ttest1: 1.4737331\tbest: 1.4737331 (600)\ttotal: 47.8s\tremaining: 12m 28s\n",
      "700:\tlearn: 1.0383174\ttest: 1.0383174\ttest1: 1.4693575\tbest: 1.4693575 (700)\ttotal: 55.7s\tremaining: 12m 19s\n",
      "800:\tlearn: 1.0321314\ttest: 1.0321314\ttest1: 1.4643014\tbest: 1.4642921 (799)\ttotal: 1m 3s\tremaining: 12m 11s\n",
      "900:\tlearn: 1.0277625\ttest: 1.0277625\ttest1: 1.4614178\tbest: 1.4610394 (877)\ttotal: 1m 11s\tremaining: 12m 4s\n",
      "1000:\tlearn: 1.0248634\ttest: 1.0248634\ttest1: 1.4614385\tbest: 1.4604840 (982)\ttotal: 1m 19s\tremaining: 11m 55s\n",
      "1100:\tlearn: 1.0215992\ttest: 1.0215992\ttest1: 1.4614774\tbest: 1.4603248 (1076)\ttotal: 1m 27s\tremaining: 11m 49s\n"
     ]
    },
    {
     "name": "stderr",
     "output_type": "stream",
     "text": [
      "\u001b[32m[I 2021-07-30 16:10:04,139]\u001b[0m Trial 7 finished with value: -1.4592649971188145 and parameters: {'colsample_bylevel': 0.011467004350777597, 'depth': 6, 'boosting_type': 'Ordered', 'bootstrap_type': 'MVS', 'l2_leaf_reg': 13.659850173616045, 'random_strength': 4.232357729767544}. Best is trial 3 with value: -1.4227901718411184.\u001b[0m\n"
     ]
    },
    {
     "name": "stdout",
     "output_type": "stream",
     "text": [
      "Stopped by overfitting detector  (100 iterations wait)\n",
      "\n",
      "bestTest = 1.460324837\n",
      "bestIteration = 1076\n",
      "\n",
      "Shrink model to first 1077 iterations.\n",
      "0:\tlearn: 1.3931707\ttest: 1.3931707\ttest1: 1.8916550\tbest: 1.8916550 (0)\ttotal: 110ms\tremaining: 18m 18s\n",
      "100:\tlearn: 1.0611134\ttest: 1.0611134\ttest1: 1.4757031\tbest: 1.4757031 (100)\ttotal: 10.3s\tremaining: 16m 45s\n",
      "200:\tlearn: 1.0230314\ttest: 1.0230314\ttest1: 1.4510460\tbest: 1.4510280 (199)\ttotal: 20.3s\tremaining: 16m 30s\n",
      "300:\tlearn: 1.0056770\ttest: 1.0056770\ttest1: 1.4473490\tbest: 1.4454950 (239)\ttotal: 30.3s\tremaining: 16m 17s\n"
     ]
    },
    {
     "name": "stderr",
     "output_type": "stream",
     "text": [
      "\u001b[32m[I 2021-07-30 16:10:39,018]\u001b[0m Trial 8 finished with value: -1.445438372167901 and parameters: {'colsample_bylevel': 0.059136846693954186, 'depth': 6, 'boosting_type': 'Ordered', 'bootstrap_type': 'Bayesian', 'l2_leaf_reg': 4.757352127594348, 'random_strength': 4.172270861592549, 'bagging_temperature': 2.4435012870396666}. Best is trial 3 with value: -1.4227901718411184.\u001b[0m\n"
     ]
    },
    {
     "name": "stdout",
     "output_type": "stream",
     "text": [
      "Stopped by overfitting detector  (100 iterations wait)\n",
      "\n",
      "bestTest = 1.445494959\n",
      "bestIteration = 239\n",
      "\n",
      "Shrink model to first 240 iterations.\n",
      "0:\tlearn: 1.3921049\ttest: 1.3921049\ttest1: 1.8892527\tbest: 1.8892527 (0)\ttotal: 101ms\tremaining: 16m 51s\n",
      "100:\tlearn: 1.0195148\ttest: 1.0195148\ttest1: 1.4748274\tbest: 1.4748204 (96)\ttotal: 15.4s\tremaining: 25m 13s\n",
      "200:\tlearn: 0.9634163\ttest: 0.9634163\ttest1: 1.4541762\tbest: 1.4540441 (198)\ttotal: 31.2s\tremaining: 25m 22s\n",
      "300:\tlearn: 0.9427177\ttest: 0.9427177\ttest1: 1.4526463\tbest: 1.4517026 (288)\ttotal: 46.9s\tremaining: 25m 12s\n",
      "Stopped by overfitting detector  (100 iterations wait)\n",
      "\n",
      "bestTest = 1.451702587\n",
      "bestIteration = 288\n",
      "\n",
      "Shrink model to first 289 iterations.\n"
     ]
    },
    {
     "name": "stderr",
     "output_type": "stream",
     "text": [
      "\u001b[32m[I 2021-07-30 16:11:39,745]\u001b[0m Trial 9 finished with value: -1.4507681819141014 and parameters: {'colsample_bylevel': 0.06555185537900493, 'depth': 10, 'boosting_type': 'Ordered', 'bootstrap_type': 'Bayesian', 'l2_leaf_reg': 19.629206422164234, 'random_strength': 4.18733451492737, 'bagging_temperature': 0.1253032220320971}. Best is trial 3 with value: -1.4227901718411184.\u001b[0m\n"
     ]
    },
    {
     "name": "stdout",
     "output_type": "stream",
     "text": [
      "0:\tlearn: 1.3885207\ttest: 1.3885207\ttest1: 1.8849949\tbest: 1.8849949 (0)\ttotal: 87.6ms\tremaining: 14m 36s\n",
      "100:\tlearn: 1.0953620\ttest: 1.0953620\ttest1: 1.4910328\tbest: 1.4910328 (100)\ttotal: 7.06s\tremaining: 11m 32s\n",
      "200:\tlearn: 1.0613173\ttest: 1.0613173\ttest1: 1.4557118\tbest: 1.4556088 (196)\ttotal: 13.9s\tremaining: 11m 16s\n",
      "300:\tlearn: 1.0432192\ttest: 1.0432192\ttest1: 1.4436673\tbest: 1.4435110 (295)\ttotal: 20.7s\tremaining: 11m 6s\n",
      "400:\tlearn: 1.0293638\ttest: 1.0293638\ttest1: 1.4371765\tbest: 1.4369136 (385)\ttotal: 27.5s\tremaining: 10m 59s\n",
      "500:\tlearn: 1.0229051\ttest: 1.0229051\ttest1: 1.4341335\tbest: 1.4339139 (490)\ttotal: 34.3s\tremaining: 10m 51s\n",
      "600:\tlearn: 1.0161001\ttest: 1.0161001\ttest1: 1.4300907\tbest: 1.4299094 (570)\ttotal: 41.2s\tremaining: 10m 43s\n",
      "700:\tlearn: 1.0104049\ttest: 1.0104049\ttest1: 1.4273925\tbest: 1.4271352 (676)\ttotal: 48s\tremaining: 10m 36s\n",
      "800:\tlearn: 1.0055674\ttest: 1.0055674\ttest1: 1.4277323\tbest: 1.4263439 (792)\ttotal: 54.9s\tremaining: 10m 29s\n"
     ]
    },
    {
     "name": "stderr",
     "output_type": "stream",
     "text": [
      "\u001b[32m[I 2021-07-30 16:12:41,502]\u001b[0m Trial 10 finished with value: -1.4240244838852822 and parameters: {'colsample_bylevel': 0.0970966591353521, 'depth': 4, 'boosting_type': 'Plain', 'bootstrap_type': 'MVS', 'l2_leaf_reg': 12.878522611358465, 'random_strength': 9.49443649991727}. Best is trial 3 with value: -1.4227901718411184.\u001b[0m\n"
     ]
    },
    {
     "name": "stdout",
     "output_type": "stream",
     "text": [
      "Stopped by overfitting detector  (100 iterations wait)\n",
      "\n",
      "bestTest = 1.426343928\n",
      "bestIteration = 792\n",
      "\n",
      "Shrink model to first 793 iterations.\n",
      "0:\tlearn: 1.3885207\ttest: 1.3885207\ttest1: 1.8849949\tbest: 1.8849949 (0)\ttotal: 84.4ms\tremaining: 14m 3s\n",
      "100:\tlearn: 1.0952064\ttest: 1.0952064\ttest1: 1.4877188\tbest: 1.4875316 (97)\ttotal: 7.01s\tremaining: 11m 26s\n",
      "200:\tlearn: 1.0597072\ttest: 1.0597072\ttest1: 1.4520774\tbest: 1.4519093 (197)\ttotal: 13.8s\tremaining: 11m 12s\n",
      "300:\tlearn: 1.0416659\ttest: 1.0416659\ttest1: 1.4403529\tbest: 1.4403529 (300)\ttotal: 20.6s\tremaining: 11m 4s\n",
      "400:\tlearn: 1.0287453\ttest: 1.0287453\ttest1: 1.4331632\tbest: 1.4328902 (386)\ttotal: 27.4s\tremaining: 10m 55s\n",
      "500:\tlearn: 1.0201776\ttest: 1.0201776\ttest1: 1.4291543\tbest: 1.4291543 (500)\ttotal: 34.2s\tremaining: 10m 48s\n",
      "600:\tlearn: 1.0121350\ttest: 1.0121350\ttest1: 1.4250965\tbest: 1.4250965 (600)\ttotal: 41.1s\tremaining: 10m 42s\n",
      "700:\tlearn: 1.0075809\ttest: 1.0075809\ttest1: 1.4237716\tbest: 1.4237499 (697)\ttotal: 47.9s\tremaining: 10m 35s\n",
      "800:\tlearn: 1.0034592\ttest: 1.0034592\ttest1: 1.4238783\tbest: 1.4237396 (725)\ttotal: 54.8s\tremaining: 10m 29s\n",
      "900:\tlearn: 0.9985202\ttest: 0.9985202\ttest1: 1.4228316\tbest: 1.4227985 (894)\ttotal: 1m 1s\tremaining: 10m 23s\n",
      "1000:\tlearn: 0.9929963\ttest: 0.9929963\ttest1: 1.4200919\tbest: 1.4200919 (1000)\ttotal: 1m 8s\tremaining: 10m 17s\n",
      "1100:\tlearn: 0.9893286\ttest: 0.9893286\ttest1: 1.4192128\tbest: 1.4191649 (1085)\ttotal: 1m 15s\tremaining: 10m 11s\n",
      "1200:\tlearn: 0.9860705\ttest: 0.9860705\ttest1: 1.4184239\tbest: 1.4183030 (1137)\ttotal: 1m 22s\tremaining: 10m 4s\n",
      "1300:\tlearn: 0.9832466\ttest: 0.9832466\ttest1: 1.4185811\tbest: 1.4180058 (1255)\ttotal: 1m 29s\tremaining: 9m 58s\n"
     ]
    },
    {
     "name": "stderr",
     "output_type": "stream",
     "text": [
      "\u001b[32m[I 2021-07-30 16:14:15,352]\u001b[0m Trial 11 finished with value: -1.4159907825828875 and parameters: {'colsample_bylevel': 0.09864332728592166, 'depth': 4, 'boosting_type': 'Plain', 'bootstrap_type': 'MVS', 'l2_leaf_reg': 12.667071405165183, 'random_strength': 9.899849500611717}. Best is trial 11 with value: -1.4159907825828875.\u001b[0m\n"
     ]
    },
    {
     "name": "stdout",
     "output_type": "stream",
     "text": [
      "Stopped by overfitting detector  (100 iterations wait)\n",
      "\n",
      "bestTest = 1.418005763\n",
      "bestIteration = 1255\n",
      "\n",
      "Shrink model to first 1256 iterations.\n",
      "0:\tlearn: 1.3916046\ttest: 1.3916046\ttest1: 1.8867027\tbest: 1.8867027 (0)\ttotal: 86.2ms\tremaining: 14m 21s\n",
      "100:\tlearn: 1.0937410\ttest: 1.0937410\ttest1: 1.4900539\tbest: 1.4900539 (100)\ttotal: 6.86s\tremaining: 11m 12s\n",
      "200:\tlearn: 1.0637795\ttest: 1.0637795\ttest1: 1.4627775\tbest: 1.4627508 (198)\ttotal: 13.5s\tremaining: 10m 57s\n",
      "300:\tlearn: 1.0399645\ttest: 1.0399645\ttest1: 1.4450921\tbest: 1.4449700 (292)\ttotal: 20.1s\tremaining: 10m 49s\n",
      "400:\tlearn: 1.0277272\ttest: 1.0277272\ttest1: 1.4362286\tbest: 1.4361495 (399)\ttotal: 26.8s\tremaining: 10m 42s\n",
      "500:\tlearn: 1.0205570\ttest: 1.0205570\ttest1: 1.4327584\tbest: 1.4327584 (500)\ttotal: 33.6s\tremaining: 10m 36s\n",
      "600:\tlearn: 1.0139087\ttest: 1.0139087\ttest1: 1.4304101\tbest: 1.4304101 (600)\ttotal: 40.3s\tremaining: 10m 29s\n",
      "700:\tlearn: 1.0087519\ttest: 1.0087519\ttest1: 1.4267393\tbest: 1.4267393 (700)\ttotal: 47s\tremaining: 10m 23s\n",
      "800:\tlearn: 1.0033561\ttest: 1.0033561\ttest1: 1.4250151\tbest: 1.4249293 (796)\ttotal: 53.8s\tremaining: 10m 17s\n",
      "900:\tlearn: 0.9995551\ttest: 0.9995551\ttest1: 1.4240588\tbest: 1.4239749 (897)\ttotal: 1m\tremaining: 10m 11s\n",
      "1000:\tlearn: 0.9946674\ttest: 0.9946674\ttest1: 1.4229135\tbest: 1.4229135 (1000)\ttotal: 1m 7s\tremaining: 10m 5s\n",
      "1100:\tlearn: 0.9902954\ttest: 0.9902954\ttest1: 1.4214594\tbest: 1.4213675 (1081)\ttotal: 1m 14s\tremaining: 9m 58s\n",
      "1200:\tlearn: 0.9869504\ttest: 0.9869504\ttest1: 1.4192077\tbest: 1.4192077 (1200)\ttotal: 1m 20s\tremaining: 9m 52s\n",
      "1300:\tlearn: 0.9848069\ttest: 0.9848069\ttest1: 1.4184914\tbest: 1.4181750 (1284)\ttotal: 1m 27s\tremaining: 9m 46s\n"
     ]
    },
    {
     "name": "stderr",
     "output_type": "stream",
     "text": [
      "\u001b[32m[I 2021-07-30 16:15:49,344]\u001b[0m Trial 12 finished with value: -1.4157830472316506 and parameters: {'colsample_bylevel': 0.08491341081797006, 'depth': 4, 'boosting_type': 'Plain', 'bootstrap_type': 'MVS', 'l2_leaf_reg': 12.352547393467756, 'random_strength': 9.603135344190068}. Best is trial 12 with value: -1.4157830472316506.\u001b[0m\n"
     ]
    },
    {
     "name": "stdout",
     "output_type": "stream",
     "text": [
      "Stopped by overfitting detector  (100 iterations wait)\n",
      "\n",
      "bestTest = 1.418175034\n",
      "bestIteration = 1284\n",
      "\n",
      "Shrink model to first 1285 iterations.\n",
      "0:\tlearn: 1.3916046\ttest: 1.3916046\ttest1: 1.8867027\tbest: 1.8867027 (0)\ttotal: 85.2ms\tremaining: 14m 11s\n",
      "100:\tlearn: 1.0955123\ttest: 1.0955123\ttest1: 1.4929275\tbest: 1.4929275 (100)\ttotal: 6.86s\tremaining: 11m 12s\n",
      "200:\tlearn: 1.0638728\ttest: 1.0638728\ttest1: 1.4589854\tbest: 1.4589786 (198)\ttotal: 13.5s\tremaining: 10m 59s\n",
      "300:\tlearn: 1.0444611\ttest: 1.0444611\ttest1: 1.4447754\tbest: 1.4447754 (300)\ttotal: 20.2s\tremaining: 10m 50s\n",
      "400:\tlearn: 1.0300047\ttest: 1.0300047\ttest1: 1.4334205\tbest: 1.4334205 (400)\ttotal: 26.9s\tremaining: 10m 43s\n",
      "500:\tlearn: 1.0202640\ttest: 1.0202640\ttest1: 1.4267417\tbest: 1.4267417 (500)\ttotal: 33.6s\tremaining: 10m 36s\n",
      "600:\tlearn: 1.0138731\ttest: 1.0138731\ttest1: 1.4255845\tbest: 1.4253632 (595)\ttotal: 40.3s\tremaining: 10m 30s\n",
      "700:\tlearn: 1.0090878\ttest: 1.0090878\ttest1: 1.4243302\tbest: 1.4243302 (700)\ttotal: 47.1s\tremaining: 10m 24s\n",
      "800:\tlearn: 1.0045707\ttest: 1.0045707\ttest1: 1.4227357\tbest: 1.4227049 (798)\ttotal: 53.8s\tremaining: 10m 18s\n",
      "900:\tlearn: 1.0007146\ttest: 1.0007146\ttest1: 1.4214798\tbest: 1.4214798 (900)\ttotal: 1m\tremaining: 10m 12s\n",
      "1000:\tlearn: 0.9959178\ttest: 0.9959178\ttest1: 1.4203105\tbest: 1.4198993 (956)\ttotal: 1m 7s\tremaining: 10m 5s\n",
      "1100:\tlearn: 0.9917474\ttest: 0.9917474\ttest1: 1.4183591\tbest: 1.4183209 (1098)\ttotal: 1m 14s\tremaining: 9m 59s\n",
      "1200:\tlearn: 0.9877940\ttest: 0.9877940\ttest1: 1.4161818\tbest: 1.4161818 (1200)\ttotal: 1m 20s\tremaining: 9m 53s\n",
      "1300:\tlearn: 0.9848766\ttest: 0.9848766\ttest1: 1.4163572\tbest: 1.4158096 (1268)\ttotal: 1m 27s\tremaining: 9m 46s\n",
      "1400:\tlearn: 0.9822351\ttest: 0.9822351\ttest1: 1.4157730\tbest: 1.4157522 (1362)\ttotal: 1m 34s\tremaining: 9m 40s\n",
      "1500:\tlearn: 0.9793088\ttest: 0.9793088\ttest1: 1.4150035\tbest: 1.4149668 (1496)\ttotal: 1m 41s\tremaining: 9m 33s\n",
      "1600:\tlearn: 0.9768772\ttest: 0.9768772\ttest1: 1.4143769\tbest: 1.4141013 (1553)\ttotal: 1m 48s\tremaining: 9m 27s\n",
      "1700:\tlearn: 0.9740748\ttest: 0.9740748\ttest1: 1.4140836\tbest: 1.4140482 (1669)\ttotal: 1m 54s\tremaining: 9m 20s\n",
      "1800:\tlearn: 0.9706506\ttest: 0.9706506\ttest1: 1.4130144\tbest: 1.4129557 (1745)\ttotal: 2m 1s\tremaining: 9m 14s\n"
     ]
    },
    {
     "name": "stderr",
     "output_type": "stream",
     "text": [
      "\u001b[32m[I 2021-07-30 16:17:54,772]\u001b[0m Trial 13 finished with value: -1.4096957817220221 and parameters: {'colsample_bylevel': 0.08539448850580844, 'depth': 4, 'boosting_type': 'Plain', 'bootstrap_type': 'MVS', 'l2_leaf_reg': 16.228733729678517, 'random_strength': 9.600968245314771}. Best is trial 13 with value: -1.4096957817220221.\u001b[0m\n"
     ]
    },
    {
     "name": "stdout",
     "output_type": "stream",
     "text": [
      "Stopped by overfitting detector  (100 iterations wait)\n",
      "\n",
      "bestTest = 1.412955705\n",
      "bestIteration = 1745\n",
      "\n",
      "Shrink model to first 1746 iterations.\n",
      "0:\tlearn: 1.3907302\ttest: 1.3907302\ttest1: 1.8857206\tbest: 1.8857206 (0)\ttotal: 87.3ms\tremaining: 14m 32s\n",
      "100:\tlearn: 1.1030264\ttest: 1.1030264\ttest1: 1.5039658\tbest: 1.5039658 (100)\ttotal: 7s\tremaining: 11m 26s\n",
      "200:\tlearn: 1.0633154\ttest: 1.0633154\ttest1: 1.4598027\tbest: 1.4598027 (200)\ttotal: 13.6s\tremaining: 11m 4s\n",
      "300:\tlearn: 1.0427890\ttest: 1.0427890\ttest1: 1.4453144\tbest: 1.4453110 (298)\ttotal: 20.2s\tremaining: 10m 52s\n",
      "400:\tlearn: 1.0304158\ttest: 1.0304158\ttest1: 1.4361910\tbest: 1.4361910 (400)\ttotal: 26.9s\tremaining: 10m 44s\n",
      "500:\tlearn: 1.0232723\ttest: 1.0232723\ttest1: 1.4323525\tbest: 1.4323514 (498)\ttotal: 33.6s\tremaining: 10m 36s\n",
      "600:\tlearn: 1.0183794\ttest: 1.0183794\ttest1: 1.4318269\tbest: 1.4317466 (598)\ttotal: 40.3s\tremaining: 10m 30s\n",
      "700:\tlearn: 1.0121709\ttest: 1.0121709\ttest1: 1.4295839\tbest: 1.4295136 (697)\ttotal: 47s\tremaining: 10m 24s\n",
      "800:\tlearn: 1.0064933\ttest: 1.0064933\ttest1: 1.4274355\tbest: 1.4274355 (800)\ttotal: 53.8s\tremaining: 10m 17s\n",
      "900:\tlearn: 1.0022962\ttest: 1.0022962\ttest1: 1.4261766\tbest: 1.4258976 (883)\ttotal: 1m\tremaining: 10m 11s\n",
      "1000:\tlearn: 0.9970264\ttest: 0.9970264\ttest1: 1.4242577\tbest: 1.4242077 (959)\ttotal: 1m 7s\tremaining: 10m 5s\n",
      "1100:\tlearn: 0.9938856\ttest: 0.9938856\ttest1: 1.4231229\tbest: 1.4228536 (1047)\ttotal: 1m 14s\tremaining: 9m 58s\n"
     ]
    },
    {
     "name": "stderr",
     "output_type": "stream",
     "text": [
      "\u001b[32m[I 2021-07-30 16:19:12,598]\u001b[0m Trial 14 finished with value: -1.4211838226872489 and parameters: {'colsample_bylevel': 0.08407381351739505, 'depth': 4, 'boosting_type': 'Plain', 'bootstrap_type': 'MVS', 'l2_leaf_reg': 16.32011523510679, 'random_strength': 8.568376663544731}. Best is trial 13 with value: -1.4096957817220221.\u001b[0m\n"
     ]
    },
    {
     "name": "stdout",
     "output_type": "stream",
     "text": [
      "Stopped by overfitting detector  (100 iterations wait)\n",
      "\n",
      "bestTest = 1.422853634\n",
      "bestIteration = 1047\n",
      "\n",
      "Shrink model to first 1048 iterations.\n",
      "0:\tlearn: 1.3971549\ttest: 1.3971549\ttest1: 1.8961170\tbest: 1.8961170 (0)\ttotal: 77.2ms\tremaining: 12m 52s\n",
      "100:\tlearn: 1.0849202\ttest: 1.0849202\ttest1: 1.4885035\tbest: 1.4885035 (100)\ttotal: 7.07s\tremaining: 11m 33s\n",
      "200:\tlearn: 1.0513472\ttest: 1.0513472\ttest1: 1.4567074\tbest: 1.4567074 (200)\ttotal: 13.9s\tremaining: 11m 17s\n",
      "300:\tlearn: 1.0301453\ttest: 1.0301453\ttest1: 1.4474142\tbest: 1.4474142 (300)\ttotal: 20.8s\tremaining: 11m 9s\n",
      "400:\tlearn: 1.0181523\ttest: 1.0181523\ttest1: 1.4438293\tbest: 1.4433473 (396)\ttotal: 27.7s\tremaining: 11m 3s\n",
      "500:\tlearn: 1.0097599\ttest: 1.0097599\ttest1: 1.4421421\tbest: 1.4421002 (499)\ttotal: 34.6s\tremaining: 10m 56s\n",
      "600:\tlearn: 1.0040972\ttest: 1.0040972\ttest1: 1.4386483\tbest: 1.4385323 (591)\ttotal: 41.5s\tremaining: 10m 49s\n",
      "700:\tlearn: 0.9971543\ttest: 0.9971543\ttest1: 1.4356172\tbest: 1.4356101 (699)\ttotal: 48.4s\tremaining: 10m 42s\n",
      "800:\tlearn: 0.9917651\ttest: 0.9917651\ttest1: 1.4353502\tbest: 1.4341411 (747)\ttotal: 55.3s\tremaining: 10m 35s\n"
     ]
    },
    {
     "name": "stderr",
     "output_type": "stream",
     "text": [
      "\u001b[32m[I 2021-07-30 16:20:11,763]\u001b[0m Trial 15 finished with value: -1.4306329855346245 and parameters: {'colsample_bylevel': 0.041522156862658435, 'depth': 5, 'boosting_type': 'Plain', 'bootstrap_type': 'MVS', 'l2_leaf_reg': 16.220449426626207, 'random_strength': 8.868335736192572}. Best is trial 13 with value: -1.4096957817220221.\u001b[0m\n"
     ]
    },
    {
     "name": "stdout",
     "output_type": "stream",
     "text": [
      "Stopped by overfitting detector  (100 iterations wait)\n",
      "\n",
      "bestTest = 1.434141068\n",
      "bestIteration = 747\n",
      "\n",
      "Shrink model to first 748 iterations.\n",
      "0:\tlearn: 1.3907309\ttest: 1.3907309\ttest1: 1.8850729\tbest: 1.8850729 (0)\ttotal: 83.1ms\tremaining: 13m 51s\n",
      "100:\tlearn: 1.1312717\ttest: 1.1312717\ttest1: 1.5297051\tbest: 1.5296909 (98)\ttotal: 7.28s\tremaining: 11m 53s\n",
      "200:\tlearn: 1.1001972\ttest: 1.1001972\ttest1: 1.5003624\tbest: 1.5003624 (200)\ttotal: 14.3s\tremaining: 11m 36s\n",
      "300:\tlearn: 1.0877496\ttest: 1.0877496\ttest1: 1.4882919\tbest: 1.4882919 (300)\ttotal: 21.3s\tremaining: 11m 24s\n",
      "400:\tlearn: 1.0741348\ttest: 1.0741348\ttest1: 1.4697985\tbest: 1.4697985 (400)\ttotal: 28.2s\tremaining: 11m 15s\n",
      "500:\tlearn: 1.0657398\ttest: 1.0657398\ttest1: 1.4640820\tbest: 1.4640721 (499)\ttotal: 35.2s\tremaining: 11m 7s\n",
      "600:\tlearn: 1.0600664\ttest: 1.0600664\ttest1: 1.4574988\tbest: 1.4574703 (598)\ttotal: 42.2s\tremaining: 10m 59s\n",
      "700:\tlearn: 1.0528741\ttest: 1.0528741\ttest1: 1.4508293\tbest: 1.4507098 (693)\ttotal: 49.2s\tremaining: 10m 52s\n",
      "800:\tlearn: 1.0449608\ttest: 1.0449608\ttest1: 1.4453744\tbest: 1.4453744 (800)\ttotal: 56.2s\tremaining: 10m 45s\n",
      "900:\tlearn: 1.0417433\ttest: 1.0417433\ttest1: 1.4433253\tbest: 1.4433181 (899)\ttotal: 1m 3s\tremaining: 10m 37s\n",
      "1000:\tlearn: 1.0381846\ttest: 1.0381846\ttest1: 1.4417960\tbest: 1.4417960 (1000)\ttotal: 1m 10s\tremaining: 10m 30s\n",
      "1100:\tlearn: 1.0340292\ttest: 1.0340292\ttest1: 1.4389432\tbest: 1.4388392 (1093)\ttotal: 1m 17s\tremaining: 10m 23s\n",
      "1200:\tlearn: 1.0306763\ttest: 1.0306763\ttest1: 1.4362497\tbest: 1.4362461 (1199)\ttotal: 1m 24s\tremaining: 10m 16s\n",
      "1300:\tlearn: 1.0279991\ttest: 1.0279991\ttest1: 1.4332054\tbest: 1.4332054 (1300)\ttotal: 1m 31s\tremaining: 10m 9s\n",
      "1400:\tlearn: 1.0248611\ttest: 1.0248611\ttest1: 1.4310556\tbest: 1.4310478 (1397)\ttotal: 1m 38s\tremaining: 10m 1s\n",
      "1500:\tlearn: 1.0226742\ttest: 1.0226742\ttest1: 1.4300413\tbest: 1.4300385 (1494)\ttotal: 1m 44s\tremaining: 9m 54s\n",
      "1600:\tlearn: 1.0200358\ttest: 1.0200358\ttest1: 1.4285756\tbest: 1.4284864 (1593)\ttotal: 1m 51s\tremaining: 9m 47s\n",
      "1700:\tlearn: 1.0176206\ttest: 1.0176206\ttest1: 1.4284725\tbest: 1.4281563 (1673)\ttotal: 1m 58s\tremaining: 9m 40s\n",
      "1800:\tlearn: 1.0158534\ttest: 1.0158534\ttest1: 1.4278828\tbest: 1.4277564 (1766)\ttotal: 2m 5s\tremaining: 9m 33s\n",
      "1900:\tlearn: 1.0138329\ttest: 1.0138329\ttest1: 1.4273842\tbest: 1.4273648 (1885)\ttotal: 2m 12s\tremaining: 9m 25s\n",
      "2000:\tlearn: 1.0122217\ttest: 1.0122217\ttest1: 1.4267974\tbest: 1.4266615 (1970)\ttotal: 2m 19s\tremaining: 9m 18s\n",
      "2100:\tlearn: 1.0105131\ttest: 1.0105131\ttest1: 1.4260903\tbest: 1.4260365 (2093)\ttotal: 2m 26s\tremaining: 9m 11s\n",
      "2200:\tlearn: 1.0090062\ttest: 1.0090062\ttest1: 1.4258483\tbest: 1.4258326 (2151)\ttotal: 2m 33s\tremaining: 9m 4s\n"
     ]
    },
    {
     "name": "stderr",
     "output_type": "stream",
     "text": [
      "\u001b[32m[I 2021-07-30 16:22:49,730]\u001b[0m Trial 16 finished with value: -1.425025158886347 and parameters: {'colsample_bylevel': 0.08575672085620299, 'depth': 5, 'boosting_type': 'Plain', 'bootstrap_type': 'Bayesian', 'l2_leaf_reg': 0.4930824001169345, 'random_strength': 0.18217347418532537, 'bagging_temperature': 9.617695863046272}. Best is trial 13 with value: -1.4096957817220221.\u001b[0m\n"
     ]
    },
    {
     "name": "stdout",
     "output_type": "stream",
     "text": [
      "Stopped by overfitting detector  (100 iterations wait)\n",
      "\n",
      "bestTest = 1.425832621\n",
      "bestIteration = 2151\n",
      "\n",
      "Shrink model to first 2152 iterations.\n",
      "0:\tlearn: 1.3893975\ttest: 1.3893975\ttest1: 1.8876963\tbest: 1.8876963 (0)\ttotal: 85.4ms\tremaining: 14m 13s\n",
      "100:\tlearn: 1.0797061\ttest: 1.0797061\ttest1: 1.4901487\tbest: 1.4901487 (100)\ttotal: 7.05s\tremaining: 11m 31s\n",
      "200:\tlearn: 1.0472904\ttest: 1.0472904\ttest1: 1.4661993\tbest: 1.4661993 (200)\ttotal: 13.9s\tremaining: 11m 18s\n",
      "300:\tlearn: 1.0287456\ttest: 1.0287456\ttest1: 1.4519010\tbest: 1.4517440 (297)\ttotal: 20.8s\tremaining: 11m 10s\n",
      "400:\tlearn: 1.0185890\ttest: 1.0185890\ttest1: 1.4479688\tbest: 1.4474627 (380)\ttotal: 27.7s\tremaining: 11m 3s\n",
      "500:\tlearn: 1.0100618\ttest: 1.0100618\ttest1: 1.4434996\tbest: 1.4434915 (498)\ttotal: 34.6s\tremaining: 10m 56s\n",
      "600:\tlearn: 1.0024002\ttest: 1.0024002\ttest1: 1.4405035\tbest: 1.4405035 (600)\ttotal: 41.6s\tremaining: 10m 49s\n",
      "700:\tlearn: 0.9953809\ttest: 0.9953809\ttest1: 1.4386926\tbest: 1.4384113 (693)\ttotal: 48.5s\tremaining: 10m 43s\n",
      "800:\tlearn: 0.9909220\ttest: 0.9909220\ttest1: 1.4367112\tbest: 1.4367112 (800)\ttotal: 55.5s\tremaining: 10m 36s\n",
      "900:\tlearn: 0.9858050\ttest: 0.9858050\ttest1: 1.4348013\tbest: 1.4348008 (898)\ttotal: 1m 2s\tremaining: 10m 30s\n",
      "1000:\tlearn: 0.9811339\ttest: 0.9811339\ttest1: 1.4330555\tbest: 1.4330078 (969)\ttotal: 1m 9s\tremaining: 10m 24s\n",
      "1100:\tlearn: 0.9772599\ttest: 0.9772599\ttest1: 1.4317482\tbest: 1.4317204 (1099)\ttotal: 1m 16s\tremaining: 10m 17s\n",
      "1200:\tlearn: 0.9729062\ttest: 0.9729062\ttest1: 1.4309590\tbest: 1.4308394 (1165)\ttotal: 1m 23s\tremaining: 10m 11s\n",
      "1300:\tlearn: 0.9692103\ttest: 0.9692103\ttest1: 1.4297890\tbest: 1.4296505 (1290)\ttotal: 1m 30s\tremaining: 10m 4s\n",
      "1400:\tlearn: 0.9659078\ttest: 0.9659078\ttest1: 1.4301915\tbest: 1.4291327 (1355)\ttotal: 1m 37s\tremaining: 9m 57s\n"
     ]
    },
    {
     "name": "stderr",
     "output_type": "stream",
     "text": [
      "\u001b[32m[I 2021-07-30 16:24:31,650]\u001b[0m Trial 17 finished with value: -1.426646605843584 and parameters: {'colsample_bylevel': 0.04785277241466572, 'depth': 5, 'boosting_type': 'Plain', 'bootstrap_type': 'MVS', 'l2_leaf_reg': 10.25318760965861, 'random_strength': 2.234128894019944}. Best is trial 13 with value: -1.4096957817220221.\u001b[0m\n"
     ]
    },
    {
     "name": "stdout",
     "output_type": "stream",
     "text": [
      "Stopped by overfitting detector  (100 iterations wait)\n",
      "\n",
      "bestTest = 1.429132738\n",
      "bestIteration = 1355\n",
      "\n",
      "Shrink model to first 1356 iterations.\n",
      "0:\tlearn: 1.3932938\ttest: 1.3932938\ttest1: 1.8894176\tbest: 1.8894176 (0)\ttotal: 83.3ms\tremaining: 13m 53s\n",
      "100:\tlearn: 1.1034604\ttest: 1.1034604\ttest1: 1.4988679\tbest: 1.4988679 (100)\ttotal: 6.95s\tremaining: 11m 21s\n",
      "200:\tlearn: 1.0673764\ttest: 1.0673764\ttest1: 1.4598245\tbest: 1.4597269 (197)\ttotal: 13.6s\tremaining: 11m 1s\n",
      "300:\tlearn: 1.0482922\ttest: 1.0482922\ttest1: 1.4501656\tbest: 1.4501656 (300)\ttotal: 20.2s\tremaining: 10m 50s\n",
      "400:\tlearn: 1.0357471\ttest: 1.0357471\ttest1: 1.4422555\tbest: 1.4421521 (399)\ttotal: 26.8s\tremaining: 10m 41s\n",
      "500:\tlearn: 1.0278359\ttest: 1.0278359\ttest1: 1.4369118\tbest: 1.4367178 (496)\ttotal: 33.5s\tremaining: 10m 34s\n",
      "600:\tlearn: 1.0218423\ttest: 1.0218423\ttest1: 1.4338715\tbest: 1.4338715 (600)\ttotal: 40.2s\tremaining: 10m 28s\n",
      "700:\tlearn: 1.0160141\ttest: 1.0160141\ttest1: 1.4307058\tbest: 1.4306968 (699)\ttotal: 46.9s\tremaining: 10m 21s\n",
      "800:\tlearn: 1.0087474\ttest: 1.0087474\ttest1: 1.4282289\tbest: 1.4280599 (797)\ttotal: 53.6s\tremaining: 10m 15s\n",
      "900:\tlearn: 1.0038030\ttest: 1.0038030\ttest1: 1.4263695\tbest: 1.4263663 (899)\ttotal: 1m\tremaining: 10m 9s\n",
      "1000:\tlearn: 0.9992612\ttest: 0.9992612\ttest1: 1.4251384\tbest: 1.4251378 (999)\ttotal: 1m 7s\tremaining: 10m 3s\n",
      "1100:\tlearn: 0.9946386\ttest: 0.9946386\ttest1: 1.4232169\tbest: 1.4230396 (1063)\ttotal: 1m 13s\tremaining: 9m 56s\n",
      "1200:\tlearn: 0.9900069\ttest: 0.9900069\ttest1: 1.4221272\tbest: 1.4219839 (1135)\ttotal: 1m 20s\tremaining: 9m 50s\n",
      "1300:\tlearn: 0.9867579\ttest: 0.9867579\ttest1: 1.4209551\tbest: 1.4207063 (1238)\ttotal: 1m 27s\tremaining: 9m 43s\n",
      "1400:\tlearn: 0.9838376\ttest: 0.9838376\ttest1: 1.4208489\tbest: 1.4206714 (1370)\ttotal: 1m 34s\tremaining: 9m 37s\n",
      "1500:\tlearn: 0.9808818\ttest: 0.9808818\ttest1: 1.4204243\tbest: 1.4204243 (1500)\ttotal: 1m 40s\tremaining: 9m 30s\n",
      "1600:\tlearn: 0.9780353\ttest: 0.9780353\ttest1: 1.4208523\tbest: 1.4202353 (1548)\ttotal: 1m 47s\tremaining: 9m 24s\n",
      "1700:\tlearn: 0.9758680\ttest: 0.9758680\ttest1: 1.4198631\tbest: 1.4197572 (1674)\ttotal: 1m 54s\tremaining: 9m 17s\n",
      "1800:\tlearn: 0.9725297\ttest: 0.9725297\ttest1: 1.4187622\tbest: 1.4187622 (1800)\ttotal: 2m 1s\tremaining: 9m 11s\n",
      "1900:\tlearn: 0.9702072\ttest: 0.9702072\ttest1: 1.4181146\tbest: 1.4180139 (1890)\ttotal: 2m 7s\tremaining: 9m 4s\n",
      "2000:\tlearn: 0.9676519\ttest: 0.9676519\ttest1: 1.4188285\tbest: 1.4180038 (1965)\ttotal: 2m 14s\tremaining: 8m 58s\n",
      "2100:\tlearn: 0.9655475\ttest: 0.9655475\ttest1: 1.4168530\tbest: 1.4168501 (2097)\ttotal: 2m 21s\tremaining: 8m 51s\n",
      "2200:\tlearn: 0.9639758\ttest: 0.9639758\ttest1: 1.4166508\tbest: 1.4164883 (2189)\ttotal: 2m 28s\tremaining: 8m 45s\n",
      "2300:\tlearn: 0.9619713\ttest: 0.9619713\ttest1: 1.4163883\tbest: 1.4163787 (2297)\ttotal: 2m 35s\tremaining: 8m 38s\n"
     ]
    },
    {
     "name": "stderr",
     "output_type": "stream",
     "text": [
      "\u001b[32m[I 2021-07-30 16:27:13,932]\u001b[0m Trial 18 finished with value: -1.4125768663952865 and parameters: {'colsample_bylevel': 0.08176294835588811, 'depth': 4, 'boosting_type': 'Plain', 'bootstrap_type': 'MVS', 'l2_leaf_reg': 15.308248313601531, 'random_strength': 9.913152874339827}. Best is trial 13 with value: -1.4096957817220221.\u001b[0m\n"
     ]
    },
    {
     "name": "stdout",
     "output_type": "stream",
     "text": [
      "Stopped by overfitting detector  (100 iterations wait)\n",
      "\n",
      "bestTest = 1.416378727\n",
      "bestIteration = 2297\n",
      "\n",
      "Shrink model to first 2298 iterations.\n",
      "0:\tlearn: 1.3818871\ttest: 1.3818871\ttest1: 1.8773557\tbest: 1.8773557 (0)\ttotal: 91ms\tremaining: 15m 10s\n",
      "100:\tlearn: 1.0813731\ttest: 1.0813731\ttest1: 1.4809174\tbest: 1.4809174 (100)\ttotal: 7.27s\tremaining: 11m 52s\n",
      "200:\tlearn: 1.0431818\ttest: 1.0431818\ttest1: 1.4477502\tbest: 1.4477339 (199)\ttotal: 14.2s\tremaining: 11m 32s\n",
      "300:\tlearn: 1.0247274\ttest: 1.0247274\ttest1: 1.4393356\tbest: 1.4392609 (298)\ttotal: 21.2s\tremaining: 11m 22s\n",
      "400:\tlearn: 1.0145053\ttest: 1.0145053\ttest1: 1.4362356\tbest: 1.4360708 (389)\ttotal: 28.2s\tremaining: 11m 15s\n",
      "500:\tlearn: 1.0030063\ttest: 1.0030063\ttest1: 1.4334477\tbest: 1.4333425 (497)\ttotal: 35.2s\tremaining: 11m 8s\n",
      "600:\tlearn: 0.9936065\ttest: 0.9936065\ttest1: 1.4296460\tbest: 1.4296172 (588)\ttotal: 42.3s\tremaining: 11m 1s\n",
      "700:\tlearn: 0.9881166\ttest: 0.9881166\ttest1: 1.4290306\tbest: 1.4286190 (683)\ttotal: 49.4s\tremaining: 10m 54s\n",
      "800:\tlearn: 0.9827257\ttest: 0.9827257\ttest1: 1.4282448\tbest: 1.4280467 (793)\ttotal: 56.5s\tremaining: 10m 48s\n",
      "900:\tlearn: 0.9777177\ttest: 0.9777177\ttest1: 1.4262719\tbest: 1.4261976 (892)\ttotal: 1m 3s\tremaining: 10m 42s\n",
      "1000:\tlearn: 0.9732686\ttest: 0.9732686\ttest1: 1.4236436\tbest: 1.4236434 (999)\ttotal: 1m 10s\tremaining: 10m 35s\n",
      "1100:\tlearn: 0.9688216\ttest: 0.9688216\ttest1: 1.4230176\tbest: 1.4227446 (1069)\ttotal: 1m 17s\tremaining: 10m 28s\n"
     ]
    },
    {
     "name": "stderr",
     "output_type": "stream",
     "text": [
      "\u001b[32m[I 2021-07-30 16:28:37,251]\u001b[0m Trial 19 finished with value: -1.4199681499709713 and parameters: {'colsample_bylevel': 0.07904119052343613, 'depth': 5, 'boosting_type': 'Plain', 'bootstrap_type': 'MVS', 'l2_leaf_reg': 16.12302015473055, 'random_strength': 8.046219780471352}. Best is trial 13 with value: -1.4096957817220221.\u001b[0m\n"
     ]
    },
    {
     "name": "stdout",
     "output_type": "stream",
     "text": [
      "Stopped by overfitting detector  (100 iterations wait)\n",
      "\n",
      "bestTest = 1.422744559\n",
      "bestIteration = 1069\n",
      "\n",
      "Shrink model to first 1070 iterations.\n",
      "0:\tlearn: 1.3917129\ttest: 1.3917129\ttest1: 1.8865291\tbest: 1.8865291 (0)\ttotal: 72.9ms\tremaining: 12m 8s\n",
      "100:\tlearn: 1.1302841\ttest: 1.1302841\ttest1: 1.5394308\tbest: 1.5394183 (99)\ttotal: 6.99s\tremaining: 11m 24s\n",
      "200:\tlearn: 1.1087901\ttest: 1.1087901\ttest1: 1.5096028\tbest: 1.5096028 (200)\ttotal: 13.8s\tremaining: 11m 11s\n",
      "300:\tlearn: 1.0944362\ttest: 1.0944362\ttest1: 1.4917968\tbest: 1.4917968 (300)\ttotal: 20.5s\tremaining: 10m 59s\n",
      "400:\tlearn: 1.0860537\ttest: 1.0860537\ttest1: 1.4804662\tbest: 1.4804488 (398)\ttotal: 27.1s\tremaining: 10m 48s\n",
      "500:\tlearn: 1.0790621\ttest: 1.0790621\ttest1: 1.4730981\tbest: 1.4730981 (500)\ttotal: 33.7s\tremaining: 10m 39s\n",
      "600:\tlearn: 1.0723393\ttest: 1.0723393\ttest1: 1.4654016\tbest: 1.4653857 (595)\ttotal: 40.4s\tremaining: 10m 31s\n",
      "700:\tlearn: 1.0665825\ttest: 1.0665825\ttest1: 1.4588040\tbest: 1.4586542 (689)\ttotal: 47s\tremaining: 10m 23s\n",
      "800:\tlearn: 1.0630969\ttest: 1.0630969\ttest1: 1.4581376\tbest: 1.4580764 (796)\ttotal: 53.7s\tremaining: 10m 16s\n",
      "900:\tlearn: 1.0603675\ttest: 1.0603675\ttest1: 1.4555354\tbest: 1.4555354 (900)\ttotal: 1m\tremaining: 10m 9s\n",
      "1000:\tlearn: 1.0568213\ttest: 1.0568213\ttest1: 1.4537713\tbest: 1.4537592 (999)\ttotal: 1m 7s\tremaining: 10m 2s\n",
      "1100:\tlearn: 1.0530830\ttest: 1.0530830\ttest1: 1.4508238\tbest: 1.4507917 (1095)\ttotal: 1m 13s\tremaining: 9m 55s\n",
      "1200:\tlearn: 1.0498841\ttest: 1.0498841\ttest1: 1.4490342\tbest: 1.4490067 (1198)\ttotal: 1m 20s\tremaining: 9m 48s\n",
      "1300:\tlearn: 1.0477996\ttest: 1.0477996\ttest1: 1.4476453\tbest: 1.4476185 (1284)\ttotal: 1m 26s\tremaining: 9m 41s\n",
      "1400:\tlearn: 1.0453724\ttest: 1.0453724\ttest1: 1.4461473\tbest: 1.4461124 (1395)\ttotal: 1m 33s\tremaining: 9m 34s\n",
      "1500:\tlearn: 1.0427366\ttest: 1.0427366\ttest1: 1.4434563\tbest: 1.4434493 (1498)\ttotal: 1m 40s\tremaining: 9m 27s\n",
      "1600:\tlearn: 1.0405018\ttest: 1.0405018\ttest1: 1.4420421\tbest: 1.4419816 (1588)\ttotal: 1m 46s\tremaining: 9m 20s\n",
      "1700:\tlearn: 1.0391316\ttest: 1.0391316\ttest1: 1.4414603\tbest: 1.4412595 (1647)\ttotal: 1m 53s\tremaining: 9m 14s\n",
      "1800:\tlearn: 1.0374527\ttest: 1.0374527\ttest1: 1.4410086\tbest: 1.4408359 (1760)\ttotal: 2m\tremaining: 9m 7s\n",
      "1900:\tlearn: 1.0355593\ttest: 1.0355593\ttest1: 1.4398133\tbest: 1.4397576 (1898)\ttotal: 2m 6s\tremaining: 9m\n",
      "2000:\tlearn: 1.0337715\ttest: 1.0337715\ttest1: 1.4388663\tbest: 1.4387974 (1999)\ttotal: 2m 13s\tremaining: 8m 53s\n",
      "2100:\tlearn: 1.0324497\ttest: 1.0324497\ttest1: 1.4385219\tbest: 1.4384034 (2086)\ttotal: 2m 20s\tremaining: 8m 47s\n",
      "2200:\tlearn: 1.0308620\ttest: 1.0308620\ttest1: 1.4375788\tbest: 1.4374859 (2175)\ttotal: 2m 26s\tremaining: 8m 40s\n",
      "2300:\tlearn: 1.0289348\ttest: 1.0289348\ttest1: 1.4349555\tbest: 1.4349376 (2299)\ttotal: 2m 33s\tremaining: 8m 33s\n",
      "2400:\tlearn: 1.0275704\ttest: 1.0275704\ttest1: 1.4349365\tbest: 1.4347935 (2381)\ttotal: 2m 40s\tremaining: 8m 27s\n",
      "2500:\tlearn: 1.0260895\ttest: 1.0260895\ttest1: 1.4336118\tbest: 1.4335965 (2499)\ttotal: 2m 46s\tremaining: 8m 20s\n",
      "2600:\tlearn: 1.0250045\ttest: 1.0250045\ttest1: 1.4324801\tbest: 1.4323353 (2580)\ttotal: 2m 53s\tremaining: 8m 13s\n",
      "2700:\tlearn: 1.0237898\ttest: 1.0237898\ttest1: 1.4323341\tbest: 1.4320619 (2641)\ttotal: 3m\tremaining: 8m 7s\n",
      "2800:\tlearn: 1.0224141\ttest: 1.0224141\ttest1: 1.4309580\tbest: 1.4309580 (2800)\ttotal: 3m 6s\tremaining: 8m\n",
      "2900:\tlearn: 1.0213898\ttest: 1.0213898\ttest1: 1.4300888\tbest: 1.4300837 (2898)\ttotal: 3m 13s\tremaining: 7m 53s\n",
      "3000:\tlearn: 1.0201976\ttest: 1.0201976\ttest1: 1.4296140\tbest: 1.4295946 (2998)\ttotal: 3m 20s\tremaining: 7m 47s\n",
      "3100:\tlearn: 1.0191334\ttest: 1.0191334\ttest1: 1.4292869\tbest: 1.4292668 (3097)\ttotal: 3m 27s\tremaining: 7m 40s\n",
      "3200:\tlearn: 1.0181701\ttest: 1.0181701\ttest1: 1.4290761\tbest: 1.4289892 (3193)\ttotal: 3m 33s\tremaining: 7m 33s\n",
      "3300:\tlearn: 1.0167408\ttest: 1.0167408\ttest1: 1.4288068\tbest: 1.4288066 (3299)\ttotal: 3m 40s\tremaining: 7m 27s\n",
      "3400:\tlearn: 1.0159751\ttest: 1.0159751\ttest1: 1.4285210\tbest: 1.4283521 (3367)\ttotal: 3m 47s\tremaining: 7m 20s\n",
      "3500:\tlearn: 1.0149626\ttest: 1.0149626\ttest1: 1.4277813\tbest: 1.4277116 (3479)\ttotal: 3m 53s\tremaining: 7m 13s\n",
      "3600:\tlearn: 1.0141584\ttest: 1.0141584\ttest1: 1.4274732\tbest: 1.4274425 (3599)\ttotal: 4m\tremaining: 7m 7s\n",
      "3700:\tlearn: 1.0134283\ttest: 1.0134283\ttest1: 1.4269112\tbest: 1.4268785 (3661)\ttotal: 4m 7s\tremaining: 7m\n",
      "3800:\tlearn: 1.0115146\ttest: 1.0115146\ttest1: 1.4267244\tbest: 1.4265945 (3779)\ttotal: 4m 13s\tremaining: 6m 53s\n",
      "3900:\tlearn: 1.0106507\ttest: 1.0106507\ttest1: 1.4270056\tbest: 1.4265322 (3853)\ttotal: 4m 20s\tremaining: 6m 46s\n"
     ]
    },
    {
     "name": "stderr",
     "output_type": "stream",
     "text": [
      "\u001b[32m[I 2021-07-30 16:33:01,904]\u001b[0m Trial 20 finished with value: -1.4253955261582678 and parameters: {'colsample_bylevel': 0.09113113881248286, 'depth': 4, 'boosting_type': 'Plain', 'bootstrap_type': 'Bayesian', 'l2_leaf_reg': 19.981402897690405, 'random_strength': 6.695560263948049, 'bagging_temperature': 8.70329325213724}. Best is trial 13 with value: -1.4096957817220221.\u001b[0m\n"
     ]
    },
    {
     "name": "stdout",
     "output_type": "stream",
     "text": [
      "Stopped by overfitting detector  (100 iterations wait)\n",
      "\n",
      "bestTest = 1.426532215\n",
      "bestIteration = 3853\n",
      "\n",
      "Shrink model to first 3854 iterations.\n",
      "0:\tlearn: 1.3957602\ttest: 1.3957602\ttest1: 1.8984397\tbest: 1.8984397 (0)\ttotal: 71.4ms\tremaining: 11m 53s\n",
      "100:\tlearn: 1.1021129\ttest: 1.1021129\ttest1: 1.5053383\tbest: 1.5053383 (100)\ttotal: 6.88s\tremaining: 11m 14s\n",
      "200:\tlearn: 1.0634440\ttest: 1.0634440\ttest1: 1.4566863\tbest: 1.4565559 (199)\ttotal: 13.5s\tremaining: 10m 57s\n",
      "300:\tlearn: 1.0412683\ttest: 1.0412683\ttest1: 1.4410967\tbest: 1.4409344 (295)\ttotal: 20s\tremaining: 10m 45s\n",
      "400:\tlearn: 1.0337565\ttest: 1.0337565\ttest1: 1.4401426\tbest: 1.4399445 (379)\ttotal: 26.7s\tremaining: 10m 38s\n",
      "500:\tlearn: 1.0252480\ttest: 1.0252480\ttest1: 1.4356784\tbest: 1.4356784 (500)\ttotal: 33.4s\tremaining: 10m 32s\n",
      "600:\tlearn: 1.0177288\ttest: 1.0177288\ttest1: 1.4340218\tbest: 1.4338102 (594)\ttotal: 40s\tremaining: 10m 26s\n",
      "700:\tlearn: 1.0122076\ttest: 1.0122076\ttest1: 1.4310103\tbest: 1.4309950 (699)\ttotal: 46.8s\tremaining: 10m 20s\n",
      "800:\tlearn: 1.0079864\ttest: 1.0079864\ttest1: 1.4291777\tbest: 1.4290436 (792)\ttotal: 53.5s\tremaining: 10m 14s\n",
      "900:\tlearn: 1.0022339\ttest: 1.0022339\ttest1: 1.4257490\tbest: 1.4257482 (899)\ttotal: 1m\tremaining: 10m 8s\n",
      "1000:\tlearn: 0.9985725\ttest: 0.9985725\ttest1: 1.4251486\tbest: 1.4251486 (1000)\ttotal: 1m 6s\tremaining: 10m 1s\n",
      "1100:\tlearn: 0.9955690\ttest: 0.9955690\ttest1: 1.4241908\tbest: 1.4240954 (1054)\ttotal: 1m 13s\tremaining: 9m 55s\n",
      "1200:\tlearn: 0.9917689\ttest: 0.9917689\ttest1: 1.4226930\tbest: 1.4226873 (1199)\ttotal: 1m 20s\tremaining: 9m 48s\n",
      "1300:\tlearn: 0.9892647\ttest: 0.9892647\ttest1: 1.4216829\tbest: 1.4215398 (1288)\ttotal: 1m 27s\tremaining: 9m 42s\n",
      "1400:\tlearn: 0.9858507\ttest: 0.9858507\ttest1: 1.4211116\tbest: 1.4211116 (1400)\ttotal: 1m 33s\tremaining: 9m 36s\n",
      "1500:\tlearn: 0.9838304\ttest: 0.9838304\ttest1: 1.4205031\tbest: 1.4205030 (1499)\ttotal: 1m 40s\tremaining: 9m 29s\n",
      "1600:\tlearn: 0.9812434\ttest: 0.9812434\ttest1: 1.4193631\tbest: 1.4188843 (1582)\ttotal: 1m 47s\tremaining: 9m 23s\n",
      "1700:\tlearn: 0.9794840\ttest: 0.9794840\ttest1: 1.4186292\tbest: 1.4183805 (1634)\ttotal: 1m 54s\tremaining: 9m 16s\n"
     ]
    },
    {
     "name": "stderr",
     "output_type": "stream",
     "text": [
      "\u001b[32m[I 2021-07-30 16:34:58,972]\u001b[0m Trial 21 finished with value: -1.4148179684586613 and parameters: {'colsample_bylevel': 0.07959695853360621, 'depth': 4, 'boosting_type': 'Plain', 'bootstrap_type': 'MVS', 'l2_leaf_reg': 14.339932997820096, 'random_strength': 9.585034429364182}. Best is trial 13 with value: -1.4096957817220221.\u001b[0m\n"
     ]
    },
    {
     "name": "stdout",
     "output_type": "stream",
     "text": [
      "Stopped by overfitting detector  (100 iterations wait)\n",
      "\n",
      "bestTest = 1.418380512\n",
      "bestIteration = 1634\n",
      "\n",
      "Shrink model to first 1635 iterations.\n",
      "0:\tlearn: 1.3918251\ttest: 1.3918251\ttest1: 1.8898762\tbest: 1.8898762 (0)\ttotal: 88.7ms\tremaining: 14m 47s\n",
      "100:\tlearn: 1.0893599\ttest: 1.0893599\ttest1: 1.4921242\tbest: 1.4920979 (99)\ttotal: 7.18s\tremaining: 11m 43s\n",
      "200:\tlearn: 1.0466572\ttest: 1.0466572\ttest1: 1.4547341\tbest: 1.4547341 (200)\ttotal: 14.1s\tremaining: 11m 28s\n",
      "300:\tlearn: 1.0260620\ttest: 1.0260620\ttest1: 1.4408034\tbest: 1.4405986 (299)\ttotal: 21.1s\tremaining: 11m 19s\n",
      "400:\tlearn: 1.0122822\ttest: 1.0122822\ttest1: 1.4358264\tbest: 1.4356172 (384)\ttotal: 28.1s\tremaining: 11m 12s\n",
      "500:\tlearn: 1.0047234\ttest: 1.0047234\ttest1: 1.4314782\tbest: 1.4312593 (479)\ttotal: 35.1s\tremaining: 11m 6s\n",
      "600:\tlearn: 0.9979436\ttest: 0.9979436\ttest1: 1.4270050\tbest: 1.4269659 (599)\ttotal: 42.2s\tremaining: 10m 59s\n",
      "700:\tlearn: 0.9920348\ttest: 0.9920348\ttest1: 1.4257749\tbest: 1.4255754 (693)\ttotal: 49.3s\tremaining: 10m 53s\n",
      "800:\tlearn: 0.9865059\ttest: 0.9865059\ttest1: 1.4247177\tbest: 1.4247177 (800)\ttotal: 56.4s\tremaining: 10m 47s\n",
      "900:\tlearn: 0.9819849\ttest: 0.9819849\ttest1: 1.4236886\tbest: 1.4236834 (894)\ttotal: 1m 3s\tremaining: 10m 41s\n",
      "1000:\tlearn: 0.9775124\ttest: 0.9775124\ttest1: 1.4230076\tbest: 1.4230006 (982)\ttotal: 1m 10s\tremaining: 10m 34s\n",
      "1100:\tlearn: 0.9710915\ttest: 0.9710915\ttest1: 1.4207691\tbest: 1.4206831 (1098)\ttotal: 1m 17s\tremaining: 10m 27s\n",
      "1200:\tlearn: 0.9667189\ttest: 0.9667189\ttest1: 1.4195274\tbest: 1.4194330 (1191)\ttotal: 1m 24s\tremaining: 10m 21s\n",
      "1300:\tlearn: 0.9620355\ttest: 0.9620355\ttest1: 1.4184959\tbest: 1.4182803 (1292)\ttotal: 1m 31s\tremaining: 10m 14s\n",
      "1400:\tlearn: 0.9586538\ttest: 0.9586538\ttest1: 1.4188351\tbest: 1.4179873 (1347)\ttotal: 1m 38s\tremaining: 10m 7s\n"
     ]
    },
    {
     "name": "stderr",
     "output_type": "stream",
     "text": [
      "\u001b[32m[I 2021-07-30 16:36:41,982]\u001b[0m Trial 22 finished with value: -1.4153735410739308 and parameters: {'colsample_bylevel': 0.0761833129212043, 'depth': 5, 'boosting_type': 'Plain', 'bootstrap_type': 'MVS', 'l2_leaf_reg': 14.980225438031297, 'random_strength': 9.83253758241912}. Best is trial 13 with value: -1.4096957817220221.\u001b[0m\n"
     ]
    },
    {
     "name": "stdout",
     "output_type": "stream",
     "text": [
      "Stopped by overfitting detector  (100 iterations wait)\n",
      "\n",
      "bestTest = 1.417987287\n",
      "bestIteration = 1347\n",
      "\n",
      "Shrink model to first 1348 iterations.\n",
      "0:\tlearn: 1.3887334\ttest: 1.3887334\ttest1: 1.8827128\tbest: 1.8827128 (0)\ttotal: 86.8ms\tremaining: 14m 27s\n",
      "100:\tlearn: 1.0973960\ttest: 1.0973960\ttest1: 1.4909135\tbest: 1.4909135 (100)\ttotal: 7s\tremaining: 11m 25s\n",
      "200:\tlearn: 1.0609349\ttest: 1.0609349\ttest1: 1.4585780\tbest: 1.4583353 (195)\ttotal: 13.6s\tremaining: 11m 5s\n",
      "300:\tlearn: 1.0430433\ttest: 1.0430433\ttest1: 1.4477727\tbest: 1.4477727 (300)\ttotal: 20.4s\tremaining: 10m 55s\n",
      "400:\tlearn: 1.0327653\ttest: 1.0327653\ttest1: 1.4407001\tbest: 1.4406100 (394)\ttotal: 27s\tremaining: 10m 46s\n",
      "500:\tlearn: 1.0241682\ttest: 1.0241682\ttest1: 1.4350820\tbest: 1.4350664 (499)\ttotal: 33.6s\tremaining: 10m 37s\n",
      "600:\tlearn: 1.0183813\ttest: 1.0183813\ttest1: 1.4324021\tbest: 1.4324021 (600)\ttotal: 40.3s\tremaining: 10m 30s\n",
      "700:\tlearn: 1.0116985\ttest: 1.0116985\ttest1: 1.4292973\tbest: 1.4292287 (699)\ttotal: 47.1s\tremaining: 10m 24s\n",
      "800:\tlearn: 1.0065189\ttest: 1.0065189\ttest1: 1.4253976\tbest: 1.4253908 (799)\ttotal: 53.9s\tremaining: 10m 18s\n",
      "900:\tlearn: 1.0023147\ttest: 1.0023147\ttest1: 1.4245295\tbest: 1.4245258 (898)\ttotal: 1m\tremaining: 10m 13s\n",
      "1000:\tlearn: 0.9976268\ttest: 0.9976268\ttest1: 1.4224865\tbest: 1.4223696 (988)\ttotal: 1m 7s\tremaining: 10m 6s\n",
      "1100:\tlearn: 0.9921470\ttest: 0.9921470\ttest1: 1.4228023\tbest: 1.4222229 (1008)\ttotal: 1m 14s\tremaining: 10m\n"
     ]
    },
    {
     "name": "stderr",
     "output_type": "stream",
     "text": [
      "\u001b[32m[I 2021-07-30 16:37:57,408]\u001b[0m Trial 23 finished with value: -1.4197495581108335 and parameters: {'colsample_bylevel': 0.08813064977348803, 'depth': 4, 'boosting_type': 'Plain', 'bootstrap_type': 'MVS', 'l2_leaf_reg': 17.338031331560206, 'random_strength': 8.86942524221164}. Best is trial 13 with value: -1.4096957817220221.\u001b[0m\n"
     ]
    },
    {
     "name": "stdout",
     "output_type": "stream",
     "text": [
      "Stopped by overfitting detector  (100 iterations wait)\n",
      "\n",
      "bestTest = 1.422222907\n",
      "bestIteration = 1008\n",
      "\n",
      "Shrink model to first 1009 iterations.\n",
      "0:\tlearn: 1.3818871\ttest: 1.3818871\ttest1: 1.8773557\tbest: 1.8773557 (0)\ttotal: 90.6ms\tremaining: 15m 5s\n",
      "100:\tlearn: 1.0790229\ttest: 1.0790229\ttest1: 1.4776301\tbest: 1.4776301 (100)\ttotal: 7.26s\tremaining: 11m 51s\n",
      "200:\tlearn: 1.0443960\ttest: 1.0443960\ttest1: 1.4493124\tbest: 1.4492854 (199)\ttotal: 14.2s\tremaining: 11m 32s\n",
      "300:\tlearn: 1.0261971\ttest: 1.0261971\ttest1: 1.4394340\tbest: 1.4388356 (281)\ttotal: 21.2s\tremaining: 11m 22s\n",
      "400:\tlearn: 1.0125772\ttest: 1.0125772\ttest1: 1.4333595\tbest: 1.4333595 (400)\ttotal: 28.2s\tremaining: 11m 15s\n",
      "500:\tlearn: 1.0054158\ttest: 1.0054158\ttest1: 1.4297120\tbest: 1.4297120 (500)\ttotal: 35.2s\tremaining: 11m 7s\n",
      "600:\tlearn: 0.9959195\ttest: 0.9959195\ttest1: 1.4263295\tbest: 1.4262778 (599)\ttotal: 42.3s\tremaining: 11m 1s\n",
      "700:\tlearn: 0.9901133\ttest: 0.9901133\ttest1: 1.4233691\tbest: 1.4233411 (699)\ttotal: 49.3s\tremaining: 10m 54s\n",
      "800:\tlearn: 0.9858897\ttest: 0.9858897\ttest1: 1.4216811\tbest: 1.4213991 (754)\ttotal: 56.4s\tremaining: 10m 47s\n",
      "900:\tlearn: 0.9803949\ttest: 0.9803949\ttest1: 1.4192526\tbest: 1.4192526 (900)\ttotal: 1m 3s\tremaining: 10m 40s\n",
      "1000:\tlearn: 0.9760779\ttest: 0.9760779\ttest1: 1.4180544\tbest: 1.4176507 (988)\ttotal: 1m 10s\tremaining: 10m 34s\n",
      "1100:\tlearn: 0.9724270\ttest: 0.9724270\ttest1: 1.4178892\tbest: 1.4174305 (1052)\ttotal: 1m 17s\tremaining: 10m 27s\n"
     ]
    },
    {
     "name": "stderr",
     "output_type": "stream",
     "text": [
      "\u001b[32m[I 2021-07-30 16:39:19,363]\u001b[0m Trial 24 finished with value: -1.4155457322802079 and parameters: {'colsample_bylevel': 0.0791365377602576, 'depth': 5, 'boosting_type': 'Plain', 'bootstrap_type': 'MVS', 'l2_leaf_reg': 18.253724363723187, 'random_strength': 7.8915644186473655}. Best is trial 13 with value: -1.4096957817220221.\u001b[0m\n"
     ]
    },
    {
     "name": "stdout",
     "output_type": "stream",
     "text": [
      "Stopped by overfitting detector  (100 iterations wait)\n",
      "\n",
      "bestTest = 1.417430476\n",
      "bestIteration = 1052\n",
      "\n",
      "Shrink model to first 1053 iterations.\n",
      "0:\tlearn: 1.3866573\ttest: 1.3866573\ttest1: 1.8842468\tbest: 1.8842468 (0)\ttotal: 81.5ms\tremaining: 13m 34s\n",
      "100:\tlearn: 1.1048799\ttest: 1.1048799\ttest1: 1.5099710\tbest: 1.5097049 (97)\ttotal: 6.7s\tremaining: 10m 56s\n",
      "200:\tlearn: 1.0719576\ttest: 1.0719576\ttest1: 1.4765494\tbest: 1.4765110 (192)\ttotal: 13.2s\tremaining: 10m 42s\n",
      "300:\tlearn: 1.0511841\ttest: 1.0511841\ttest1: 1.4592516\tbest: 1.4592482 (299)\ttotal: 19.7s\tremaining: 10m 34s\n",
      "400:\tlearn: 1.0373552\ttest: 1.0373552\ttest1: 1.4499229\tbest: 1.4498565 (399)\ttotal: 26.2s\tremaining: 10m 28s\n",
      "500:\tlearn: 1.0278790\ttest: 1.0278790\ttest1: 1.4469163\tbest: 1.4466791 (468)\ttotal: 32.8s\tremaining: 10m 21s\n",
      "600:\tlearn: 1.0215282\ttest: 1.0215282\ttest1: 1.4440208\tbest: 1.4440208 (600)\ttotal: 39.4s\tremaining: 10m 16s\n",
      "700:\tlearn: 1.0163562\ttest: 1.0163562\ttest1: 1.4433675\tbest: 1.4424585 (621)\ttotal: 46s\tremaining: 10m 10s\n"
     ]
    },
    {
     "name": "stderr",
     "output_type": "stream",
     "text": [
      "\u001b[32m[I 2021-07-30 16:40:07,312]\u001b[0m Trial 25 finished with value: -1.4396948162466072 and parameters: {'colsample_bylevel': 0.039533472735345104, 'depth': 4, 'boosting_type': 'Plain', 'bootstrap_type': 'MVS', 'l2_leaf_reg': 14.43555096619903, 'random_strength': 9.876299145997882}. Best is trial 13 with value: -1.4096957817220221.\u001b[0m\n"
     ]
    },
    {
     "name": "stdout",
     "output_type": "stream",
     "text": [
      "Stopped by overfitting detector  (100 iterations wait)\n",
      "\n",
      "bestTest = 1.442458488\n",
      "bestIteration = 621\n",
      "\n",
      "Shrink model to first 622 iterations.\n",
      "0:\tlearn: 1.3887027\ttest: 1.3887027\ttest1: 1.8865585\tbest: 1.8865585 (0)\ttotal: 90.2ms\tremaining: 15m 2s\n",
      "100:\tlearn: 1.0730534\ttest: 1.0730534\ttest1: 1.4792440\tbest: 1.4792440 (100)\ttotal: 7.81s\tremaining: 12m 45s\n",
      "200:\tlearn: 1.0247143\ttest: 1.0247143\ttest1: 1.4397625\tbest: 1.4397518 (199)\ttotal: 15.3s\tremaining: 12m 28s\n",
      "300:\tlearn: 1.0061914\ttest: 1.0061914\ttest1: 1.4349407\tbest: 1.4349407 (300)\ttotal: 22.9s\tremaining: 12m 18s\n",
      "400:\tlearn: 0.9924383\ttest: 0.9924383\ttest1: 1.4316747\tbest: 1.4316747 (400)\ttotal: 30.5s\tremaining: 12m 11s\n",
      "500:\tlearn: 0.9809875\ttest: 0.9809875\ttest1: 1.4273279\tbest: 1.4273279 (500)\ttotal: 38.1s\tremaining: 12m 3s\n",
      "600:\tlearn: 0.9705418\ttest: 0.9705418\ttest1: 1.4221743\tbest: 1.4221442 (599)\ttotal: 45.8s\tremaining: 11m 56s\n",
      "700:\tlearn: 0.9625844\ttest: 0.9625844\ttest1: 1.4211041\tbest: 1.4210599 (696)\ttotal: 53.5s\tremaining: 11m 49s\n",
      "800:\tlearn: 0.9559553\ttest: 0.9559553\ttest1: 1.4190997\tbest: 1.4190997 (800)\ttotal: 1m 1s\tremaining: 11m 41s\n",
      "900:\tlearn: 0.9506045\ttest: 0.9506045\ttest1: 1.4195199\tbest: 1.4190218 (859)\ttotal: 1m 8s\tremaining: 11m 34s\n"
     ]
    },
    {
     "name": "stderr",
     "output_type": "stream",
     "text": [
      "\u001b[32m[I 2021-07-30 16:41:21,214]\u001b[0m Trial 26 finished with value: -1.417906839382117 and parameters: {'colsample_bylevel': 0.09840332969811527, 'depth': 6, 'boosting_type': 'Plain', 'bootstrap_type': 'MVS', 'l2_leaf_reg': 11.71415822620185, 'random_strength': 8.794869647089062}. Best is trial 13 with value: -1.4096957817220221.\u001b[0m\n"
     ]
    },
    {
     "name": "stdout",
     "output_type": "stream",
     "text": [
      "Stopped by overfitting detector  (100 iterations wait)\n",
      "\n",
      "bestTest = 1.419021841\n",
      "bestIteration = 859\n",
      "\n",
      "Shrink model to first 860 iterations.\n",
      "0:\tlearn: 1.3830265\ttest: 1.3830265\ttest1: 1.8786651\tbest: 1.8786651 (0)\ttotal: 88.8ms\tremaining: 14m 47s\n",
      "100:\tlearn: 1.0957573\ttest: 1.0957573\ttest1: 1.4894610\tbest: 1.4894610 (100)\ttotal: 7.04s\tremaining: 11m 30s\n",
      "200:\tlearn: 1.0627829\ttest: 1.0627829\ttest1: 1.4571696\tbest: 1.4571613 (198)\ttotal: 13.8s\tremaining: 11m 10s\n",
      "300:\tlearn: 1.0441701\ttest: 1.0441701\ttest1: 1.4417093\tbest: 1.4417093 (300)\ttotal: 20.5s\tremaining: 10m 58s\n",
      "400:\tlearn: 1.0313044\ttest: 1.0313044\ttest1: 1.4363051\tbest: 1.4361958 (398)\ttotal: 27.2s\tremaining: 10m 50s\n",
      "500:\tlearn: 1.0223510\ttest: 1.0223510\ttest1: 1.4321550\tbest: 1.4321405 (496)\ttotal: 33.9s\tremaining: 10m 42s\n",
      "600:\tlearn: 1.0159496\ttest: 1.0159496\ttest1: 1.4307183\tbest: 1.4304013 (580)\ttotal: 40.7s\tremaining: 10m 36s\n",
      "700:\tlearn: 1.0104375\ttest: 1.0104375\ttest1: 1.4259888\tbest: 1.4259680 (693)\ttotal: 47.5s\tremaining: 10m 30s\n",
      "800:\tlearn: 1.0047011\ttest: 1.0047011\ttest1: 1.4231125\tbest: 1.4231125 (800)\ttotal: 54.3s\tremaining: 10m 23s\n",
      "900:\tlearn: 1.0000487\ttest: 1.0000487\ttest1: 1.4209745\tbest: 1.4209745 (900)\ttotal: 1m 1s\tremaining: 10m 17s\n",
      "1000:\tlearn: 0.9958295\ttest: 0.9958295\ttest1: 1.4194943\tbest: 1.4194943 (1000)\ttotal: 1m 7s\tremaining: 10m 11s\n",
      "1100:\tlearn: 0.9902633\ttest: 0.9902633\ttest1: 1.4149578\tbest: 1.4149578 (1100)\ttotal: 1m 14s\tremaining: 10m 4s\n",
      "1200:\tlearn: 0.9865860\ttest: 0.9865860\ttest1: 1.4143562\tbest: 1.4142808 (1193)\ttotal: 1m 21s\tremaining: 9m 58s\n",
      "1300:\tlearn: 0.9835946\ttest: 0.9835946\ttest1: 1.4130780\tbest: 1.4130296 (1296)\ttotal: 1m 28s\tremaining: 9m 51s\n",
      "1400:\tlearn: 0.9801710\ttest: 0.9801710\ttest1: 1.4124682\tbest: 1.4124682 (1400)\ttotal: 1m 35s\tremaining: 9m 45s\n",
      "1500:\tlearn: 0.9777646\ttest: 0.9777646\ttest1: 1.4127746\tbest: 1.4117045 (1496)\ttotal: 1m 42s\tremaining: 9m 38s\n"
     ]
    },
    {
     "name": "stderr",
     "output_type": "stream",
     "text": [
      "\u001b[32m[I 2021-07-30 16:43:10,675]\u001b[0m Trial 27 finished with value: -1.40887601696996 and parameters: {'colsample_bylevel': 0.09226472574860985, 'depth': 4, 'boosting_type': 'Plain', 'bootstrap_type': 'MVS', 'l2_leaf_reg': 14.873605323005748, 'random_strength': 7.536884701199561}. Best is trial 27 with value: -1.40887601696996.\u001b[0m\n"
     ]
    },
    {
     "name": "stdout",
     "output_type": "stream",
     "text": [
      "Stopped by overfitting detector  (100 iterations wait)\n",
      "\n",
      "bestTest = 1.411704533\n",
      "bestIteration = 1496\n",
      "\n",
      "Shrink model to first 1497 iterations.\n",
      "0:\tlearn: 1.3811447\ttest: 1.3811447\ttest1: 1.8750752\tbest: 1.8750752 (0)\ttotal: 96ms\tremaining: 15m 59s\n",
      "100:\tlearn: 1.0453785\ttest: 1.0453785\ttest1: 1.4775109\tbest: 1.4775109 (100)\ttotal: 9.01s\tremaining: 14m 43s\n",
      "200:\tlearn: 0.9912517\ttest: 0.9912517\ttest1: 1.4545171\tbest: 1.4542924 (195)\ttotal: 17.8s\tremaining: 14m 27s\n",
      "300:\tlearn: 0.9570009\ttest: 0.9570009\ttest1: 1.4431858\tbest: 1.4430928 (296)\ttotal: 26.6s\tremaining: 14m 18s\n",
      "400:\tlearn: 0.9356475\ttest: 0.9356475\ttest1: 1.4452500\tbest: 1.4427379 (311)\ttotal: 35.6s\tremaining: 14m 11s\n"
     ]
    },
    {
     "name": "stderr",
     "output_type": "stream",
     "text": [
      "\u001b[32m[I 2021-07-30 16:43:47,793]\u001b[0m Trial 28 finished with value: -1.442403600924729 and parameters: {'colsample_bylevel': 0.09168080448965063, 'depth': 9, 'boosting_type': 'Plain', 'bootstrap_type': 'MVS', 'l2_leaf_reg': 18.534958282087004, 'random_strength': 7.23140976882803}. Best is trial 27 with value: -1.40887601696996.\u001b[0m\n"
     ]
    },
    {
     "name": "stdout",
     "output_type": "stream",
     "text": [
      "Stopped by overfitting detector  (100 iterations wait)\n",
      "\n",
      "bestTest = 1.442737879\n",
      "bestIteration = 311\n",
      "\n",
      "Shrink model to first 312 iterations.\n",
      "0:\tlearn: 1.3952972\ttest: 1.3952972\ttest1: 1.8956311\tbest: 1.8956311 (0)\ttotal: 83.1ms\tremaining: 13m 51s\n",
      "100:\tlearn: 1.1079456\ttest: 1.1079456\ttest1: 1.5245363\tbest: 1.5245363 (100)\ttotal: 6.85s\tremaining: 11m 11s\n",
      "200:\tlearn: 1.0667943\ttest: 1.0667943\ttest1: 1.4765013\tbest: 1.4765013 (200)\ttotal: 13.6s\tremaining: 11m 1s\n",
      "300:\tlearn: 1.0490261\ttest: 1.0490261\ttest1: 1.4680730\tbest: 1.4679182 (298)\ttotal: 20.3s\tremaining: 10m 53s\n",
      "400:\tlearn: 1.0342574\ttest: 1.0342574\ttest1: 1.4580056\tbest: 1.4578940 (399)\ttotal: 27s\tremaining: 10m 46s\n",
      "500:\tlearn: 1.0276875\ttest: 1.0276875\ttest1: 1.4560017\tbest: 1.4560017 (500)\ttotal: 33.7s\tremaining: 10m 39s\n",
      "600:\tlearn: 1.0214520\ttest: 1.0214520\ttest1: 1.4529518\tbest: 1.4528456 (576)\ttotal: 40.6s\tremaining: 10m 34s\n",
      "700:\tlearn: 1.0154739\ttest: 1.0154739\ttest1: 1.4507325\tbest: 1.4506193 (695)\ttotal: 47.4s\tremaining: 10m 28s\n",
      "800:\tlearn: 1.0096045\ttest: 1.0096045\ttest1: 1.4480190\tbest: 1.4475905 (785)\ttotal: 54.2s\tremaining: 10m 22s\n"
     ]
    },
    {
     "name": "stderr",
     "output_type": "stream",
     "text": [
      "\u001b[32m[I 2021-07-30 16:44:48,344]\u001b[0m Trial 29 finished with value: -1.4455148066797676 and parameters: {'colsample_bylevel': 0.02363049538075712, 'depth': 5, 'boosting_type': 'Plain', 'bootstrap_type': 'MVS', 'l2_leaf_reg': 8.833761736157772, 'random_strength': 5.708528246060477}. Best is trial 27 with value: -1.40887601696996.\u001b[0m\n"
     ]
    },
    {
     "name": "stdout",
     "output_type": "stream",
     "text": [
      "Stopped by overfitting detector  (100 iterations wait)\n",
      "\n",
      "bestTest = 1.447590531\n",
      "bestIteration = 785\n",
      "\n",
      "Shrink model to first 786 iterations.\n",
      "0:\tlearn: 1.3832473\ttest: 1.3832473\ttest1: 1.8785820\tbest: 1.8785820 (0)\ttotal: 89.2ms\tremaining: 14m 51s\n",
      "100:\tlearn: 1.0443055\ttest: 1.0443055\ttest1: 1.4699122\tbest: 1.4699122 (100)\ttotal: 8.4s\tremaining: 13m 43s\n",
      "200:\tlearn: 1.0008263\ttest: 1.0008263\ttest1: 1.4475852\tbest: 1.4459533 (197)\ttotal: 16.7s\tremaining: 13m 34s\n",
      "300:\tlearn: 0.9765325\ttest: 0.9765325\ttest1: 1.4360008\tbest: 1.4359150 (297)\ttotal: 25.1s\tremaining: 13m 27s\n",
      "400:\tlearn: 0.9571832\ttest: 0.9571832\ttest1: 1.4318164\tbest: 1.4294074 (372)\ttotal: 33.5s\tremaining: 13m 21s\n",
      "500:\tlearn: 0.9424005\ttest: 0.9424005\ttest1: 1.4290133\tbest: 1.4287722 (456)\ttotal: 41.9s\tremaining: 13m 14s\n"
     ]
    },
    {
     "name": "stderr",
     "output_type": "stream",
     "text": [
      "\u001b[32m[I 2021-07-30 16:45:35,554]\u001b[0m Trial 30 finished with value: -1.4279928985060037 and parameters: {'colsample_bylevel': 0.09324469585199206, 'depth': 8, 'boosting_type': 'Plain', 'bootstrap_type': 'MVS', 'l2_leaf_reg': 17.645499926546098, 'random_strength': 8.212103420695197}. Best is trial 27 with value: -1.40887601696996.\u001b[0m\n"
     ]
    },
    {
     "name": "stdout",
     "output_type": "stream",
     "text": [
      "Stopped by overfitting detector  (100 iterations wait)\n",
      "\n",
      "bestTest = 1.428772219\n",
      "bestIteration = 456\n",
      "\n",
      "Shrink model to first 457 iterations.\n",
      "0:\tlearn: 1.3957602\ttest: 1.3957602\ttest1: 1.8984397\tbest: 1.8984397 (0)\ttotal: 70.8ms\tremaining: 11m 47s\n",
      "100:\tlearn: 1.0955405\ttest: 1.0955405\ttest1: 1.5006658\tbest: 1.5006658 (100)\ttotal: 6.89s\tremaining: 11m 15s\n",
      "200:\tlearn: 1.0575845\ttest: 1.0575845\ttest1: 1.4559895\tbest: 1.4558695 (199)\ttotal: 13.5s\tremaining: 10m 57s\n",
      "300:\tlearn: 1.0433972\ttest: 1.0433972\ttest1: 1.4482748\tbest: 1.4482256 (297)\ttotal: 20s\tremaining: 10m 46s\n",
      "400:\tlearn: 1.0313664\ttest: 1.0313664\ttest1: 1.4424765\tbest: 1.4415064 (376)\ttotal: 26.7s\tremaining: 10m 39s\n",
      "500:\tlearn: 1.0242053\ttest: 1.0242053\ttest1: 1.4392369\tbest: 1.4392369 (500)\ttotal: 33.4s\tremaining: 10m 33s\n",
      "600:\tlearn: 1.0189092\ttest: 1.0189092\ttest1: 1.4368168\tbest: 1.4366962 (598)\ttotal: 40.1s\tremaining: 10m 26s\n",
      "700:\tlearn: 1.0119274\ttest: 1.0119274\ttest1: 1.4344782\tbest: 1.4344782 (700)\ttotal: 46.8s\tremaining: 10m 20s\n",
      "800:\tlearn: 1.0072153\ttest: 1.0072153\ttest1: 1.4317137\tbest: 1.4317137 (800)\ttotal: 53.4s\tremaining: 10m 13s\n",
      "900:\tlearn: 1.0022499\ttest: 1.0022499\ttest1: 1.4279167\tbest: 1.4279167 (900)\ttotal: 1m\tremaining: 10m 7s\n",
      "1000:\tlearn: 0.9971212\ttest: 0.9971212\ttest1: 1.4257388\tbest: 1.4257226 (999)\ttotal: 1m 6s\tremaining: 10m 1s\n",
      "1100:\tlearn: 0.9940867\ttest: 0.9940867\ttest1: 1.4248383\tbest: 1.4248308 (1099)\ttotal: 1m 13s\tremaining: 9m 55s\n",
      "1200:\tlearn: 0.9916191\ttest: 0.9916191\ttest1: 1.4246573\tbest: 1.4242289 (1145)\ttotal: 1m 20s\tremaining: 9m 48s\n",
      "1300:\tlearn: 0.9889280\ttest: 0.9889280\ttest1: 1.4231121\tbest: 1.4230818 (1297)\ttotal: 1m 27s\tremaining: 9m 42s\n",
      "1400:\tlearn: 0.9855666\ttest: 0.9855666\ttest1: 1.4219573\tbest: 1.4219489 (1399)\ttotal: 1m 33s\tremaining: 9m 35s\n",
      "1500:\tlearn: 0.9824374\ttest: 0.9824374\ttest1: 1.4220701\tbest: 1.4216628 (1423)\ttotal: 1m 40s\tremaining: 9m 29s\n"
     ]
    },
    {
     "name": "stderr",
     "output_type": "stream",
     "text": [
      "\u001b[32m[I 2021-07-30 16:47:18,366]\u001b[0m Trial 31 finished with value: -1.42011999362031 and parameters: {'colsample_bylevel': 0.07958444559408295, 'depth': 4, 'boosting_type': 'Plain', 'bootstrap_type': 'MVS', 'l2_leaf_reg': 14.97620600012638, 'random_strength': 9.160831660349018}. Best is trial 27 with value: -1.40887601696996.\u001b[0m\n"
     ]
    },
    {
     "name": "stdout",
     "output_type": "stream",
     "text": [
      "Stopped by overfitting detector  (100 iterations wait)\n",
      "\n",
      "bestTest = 1.421662754\n",
      "bestIteration = 1423\n",
      "\n",
      "Shrink model to first 1424 iterations.\n",
      "0:\tlearn: 1.3928740\ttest: 1.3928740\ttest1: 1.8906421\tbest: 1.8906421 (0)\ttotal: 79.8ms\tremaining: 13m 18s\n",
      "100:\tlearn: 1.0893111\ttest: 1.0893111\ttest1: 1.4830970\tbest: 1.4830250 (97)\ttotal: 6.84s\tremaining: 11m 10s\n",
      "200:\tlearn: 1.0540980\ttest: 1.0540980\ttest1: 1.4498073\tbest: 1.4498073 (200)\ttotal: 13.5s\tremaining: 10m 58s\n",
      "300:\tlearn: 1.0395994\ttest: 1.0395994\ttest1: 1.4420342\tbest: 1.4420342 (300)\ttotal: 20.1s\tremaining: 10m 49s\n",
      "400:\tlearn: 1.0321438\ttest: 1.0321438\ttest1: 1.4385786\tbest: 1.4385786 (400)\ttotal: 26.8s\tremaining: 10m 41s\n",
      "500:\tlearn: 1.0208705\ttest: 1.0208705\ttest1: 1.4325095\tbest: 1.4322265 (484)\ttotal: 33.5s\tremaining: 10m 34s\n",
      "600:\tlearn: 1.0138701\ttest: 1.0138701\ttest1: 1.4291742\tbest: 1.4291600 (597)\ttotal: 40.2s\tremaining: 10m 28s\n",
      "700:\tlearn: 1.0085464\ttest: 1.0085464\ttest1: 1.4269067\tbest: 1.4267545 (693)\ttotal: 46.9s\tremaining: 10m 22s\n",
      "800:\tlearn: 1.0039607\ttest: 1.0039607\ttest1: 1.4247626\tbest: 1.4247626 (800)\ttotal: 53.6s\tremaining: 10m 16s\n",
      "900:\tlearn: 0.9988315\ttest: 0.9988315\ttest1: 1.4228578\tbest: 1.4228578 (900)\ttotal: 1m\tremaining: 10m 10s\n",
      "1000:\tlearn: 0.9951576\ttest: 0.9951576\ttest1: 1.4214864\tbest: 1.4214864 (1000)\ttotal: 1m 7s\tremaining: 10m 4s\n",
      "1100:\tlearn: 0.9923496\ttest: 0.9923496\ttest1: 1.4206301\tbest: 1.4206263 (1097)\ttotal: 1m 13s\tremaining: 9m 57s\n",
      "1200:\tlearn: 0.9886156\ttest: 0.9886156\ttest1: 1.4196303\tbest: 1.4193988 (1188)\ttotal: 1m 20s\tremaining: 9m 51s\n",
      "1300:\tlearn: 0.9839562\ttest: 0.9839562\ttest1: 1.4187080\tbest: 1.4186518 (1293)\ttotal: 1m 27s\tremaining: 9m 45s\n",
      "1400:\tlearn: 0.9810893\ttest: 0.9810893\ttest1: 1.4176449\tbest: 1.4176449 (1400)\ttotal: 1m 34s\tremaining: 9m 39s\n",
      "1500:\tlearn: 0.9780243\ttest: 0.9780243\ttest1: 1.4162065\tbest: 1.4162065 (1500)\ttotal: 1m 41s\tremaining: 9m 32s\n",
      "1600:\tlearn: 0.9751383\ttest: 0.9751383\ttest1: 1.4145930\tbest: 1.4145930 (1600)\ttotal: 1m 47s\tremaining: 9m 26s\n",
      "1700:\tlearn: 0.9724762\ttest: 0.9724762\ttest1: 1.4130731\tbest: 1.4130265 (1695)\ttotal: 1m 54s\tremaining: 9m 19s\n",
      "1800:\tlearn: 0.9691828\ttest: 0.9691828\ttest1: 1.4120996\tbest: 1.4120649 (1797)\ttotal: 2m 1s\tremaining: 9m 13s\n",
      "1900:\tlearn: 0.9666111\ttest: 0.9666111\ttest1: 1.4114077\tbest: 1.4110512 (1848)\ttotal: 2m 8s\tremaining: 9m 6s\n"
     ]
    },
    {
     "name": "stderr",
     "output_type": "stream",
     "text": [
      "\u001b[32m[I 2021-07-30 16:49:30,600]\u001b[0m Trial 32 finished with value: -1.4087500793852294 and parameters: {'colsample_bylevel': 0.08324854750274688, 'depth': 4, 'boosting_type': 'Plain', 'bootstrap_type': 'MVS', 'l2_leaf_reg': 13.919253864465833, 'random_strength': 3.14254088101329}. Best is trial 32 with value: -1.4087500793852294.\u001b[0m\n"
     ]
    },
    {
     "name": "stdout",
     "output_type": "stream",
     "text": [
      "Stopped by overfitting detector  (100 iterations wait)\n",
      "\n",
      "bestTest = 1.411051195\n",
      "bestIteration = 1848\n",
      "\n",
      "Shrink model to first 1849 iterations.\n",
      "0:\tlearn: 1.3874193\ttest: 1.3874193\ttest1: 1.8833069\tbest: 1.8833069 (0)\ttotal: 88.6ms\tremaining: 14m 46s\n",
      "100:\tlearn: 1.0757862\ttest: 1.0757862\ttest1: 1.4751157\tbest: 1.4751157 (100)\ttotal: 7.33s\tremaining: 11m 58s\n",
      "200:\tlearn: 1.0409836\ttest: 1.0409836\ttest1: 1.4501044\tbest: 1.4500082 (198)\ttotal: 14.4s\tremaining: 11m 42s\n",
      "300:\tlearn: 1.0197971\ttest: 1.0197971\ttest1: 1.4333536\tbest: 1.4333536 (300)\ttotal: 21.5s\tremaining: 11m 33s\n",
      "400:\tlearn: 1.0103827\ttest: 1.0103827\ttest1: 1.4285747\tbest: 1.4285747 (400)\ttotal: 28.6s\tremaining: 11m 25s\n",
      "500:\tlearn: 1.0005596\ttest: 1.0005596\ttest1: 1.4232700\tbest: 1.4232700 (500)\ttotal: 35.8s\tremaining: 11m 18s\n",
      "600:\tlearn: 0.9907450\ttest: 0.9907450\ttest1: 1.4181262\tbest: 1.4181262 (600)\ttotal: 42.9s\tremaining: 11m 11s\n",
      "700:\tlearn: 0.9842123\ttest: 0.9842123\ttest1: 1.4173057\tbest: 1.4172915 (699)\ttotal: 50.1s\tremaining: 11m 4s\n",
      "800:\tlearn: 0.9778122\ttest: 0.9778122\ttest1: 1.4176901\tbest: 1.4170609 (710)\ttotal: 57.3s\tremaining: 10m 58s\n"
     ]
    },
    {
     "name": "stderr",
     "output_type": "stream",
     "text": [
      "\u001b[32m[I 2021-07-30 16:50:29,235]\u001b[0m Trial 33 finished with value: -1.4161406706001889 and parameters: {'colsample_bylevel': 0.0880835989129652, 'depth': 5, 'boosting_type': 'Plain', 'bootstrap_type': 'MVS', 'l2_leaf_reg': 11.024497090345612, 'random_strength': 2.821349336949084}. Best is trial 32 with value: -1.4087500793852294.\u001b[0m\n"
     ]
    },
    {
     "name": "stdout",
     "output_type": "stream",
     "text": [
      "Stopped by overfitting detector  (100 iterations wait)\n",
      "\n",
      "bestTest = 1.417060866\n",
      "bestIteration = 710\n",
      "\n",
      "Shrink model to first 711 iterations.\n",
      "0:\tlearn: 1.3914955\ttest: 1.3914955\ttest1: 1.8846256\tbest: 1.8846256 (0)\ttotal: 83.1ms\tremaining: 13m 50s\n",
      "100:\tlearn: 1.0885412\ttest: 1.0885412\ttest1: 1.4786073\tbest: 1.4786073 (100)\ttotal: 6.88s\tremaining: 11m 14s\n",
      "200:\tlearn: 1.0608997\ttest: 1.0608997\ttest1: 1.4550020\tbest: 1.4550020 (200)\ttotal: 13.5s\tremaining: 10m 58s\n",
      "300:\tlearn: 1.0475490\ttest: 1.0475490\ttest1: 1.4442992\tbest: 1.4442992 (300)\ttotal: 20.1s\tremaining: 10m 48s\n",
      "400:\tlearn: 1.0334195\ttest: 1.0334195\ttest1: 1.4378545\tbest: 1.4376137 (388)\ttotal: 26.7s\tremaining: 10m 39s\n",
      "500:\tlearn: 1.0268207\ttest: 1.0268207\ttest1: 1.4357106\tbest: 1.4355472 (490)\ttotal: 33.3s\tremaining: 10m 31s\n",
      "600:\tlearn: 1.0183296\ttest: 1.0183296\ttest1: 1.4320398\tbest: 1.4316713 (580)\ttotal: 39.9s\tremaining: 10m 24s\n",
      "700:\tlearn: 1.0135179\ttest: 1.0135179\ttest1: 1.4303347\tbest: 1.4302502 (693)\ttotal: 46.6s\tremaining: 10m 18s\n",
      "800:\tlearn: 1.0083336\ttest: 1.0083336\ttest1: 1.4276073\tbest: 1.4276073 (800)\ttotal: 53.3s\tremaining: 10m 11s\n",
      "900:\tlearn: 1.0025065\ttest: 1.0025065\ttest1: 1.4264586\tbest: 1.4262333 (896)\ttotal: 60s\tremaining: 10m 5s\n",
      "1000:\tlearn: 0.9984247\ttest: 0.9984247\ttest1: 1.4259115\tbest: 1.4258512 (985)\ttotal: 1m 6s\tremaining: 9m 59s\n",
      "1100:\tlearn: 0.9948116\ttest: 0.9948116\ttest1: 1.4246241\tbest: 1.4246179 (1099)\ttotal: 1m 13s\tremaining: 9m 53s\n",
      "1200:\tlearn: 0.9921909\ttest: 0.9921909\ttest1: 1.4235068\tbest: 1.4235068 (1200)\ttotal: 1m 20s\tremaining: 9m 46s\n",
      "1300:\tlearn: 0.9885438\ttest: 0.9885438\ttest1: 1.4217497\tbest: 1.4217497 (1300)\ttotal: 1m 26s\tremaining: 9m 40s\n",
      "1400:\tlearn: 0.9852306\ttest: 0.9852306\ttest1: 1.4191598\tbest: 1.4191591 (1399)\ttotal: 1m 33s\tremaining: 9m 34s\n",
      "1500:\tlearn: 0.9819903\ttest: 0.9819903\ttest1: 1.4189128\tbest: 1.4188824 (1499)\ttotal: 1m 40s\tremaining: 9m 27s\n",
      "1600:\tlearn: 0.9783690\ttest: 0.9783690\ttest1: 1.4174277\tbest: 1.4174277 (1600)\ttotal: 1m 46s\tremaining: 9m 21s\n",
      "1700:\tlearn: 0.9756200\ttest: 0.9756200\ttest1: 1.4172180\tbest: 1.4170825 (1682)\ttotal: 1m 53s\tremaining: 9m 14s\n",
      "1800:\tlearn: 0.9732057\ttest: 0.9732057\ttest1: 1.4164453\tbest: 1.4163403 (1793)\ttotal: 2m\tremaining: 9m 8s\n",
      "1900:\tlearn: 0.9706299\ttest: 0.9706299\ttest1: 1.4162027\tbest: 1.4157738 (1823)\ttotal: 2m 7s\tremaining: 9m 1s\n",
      "Stopped by overfitting detector  (100 iterations wait)\n",
      "\n",
      "bestTest = 1.415773825\n",
      "bestIteration = 1823\n",
      "\n",
      "Shrink model to first 1824 iterations.\n"
     ]
    },
    {
     "name": "stderr",
     "output_type": "stream",
     "text": [
      "\u001b[32m[I 2021-07-30 16:52:38,720]\u001b[0m Trial 34 finished with value: -1.4114891733494017 and parameters: {'colsample_bylevel': 0.07308878485342353, 'depth': 4, 'boosting_type': 'Plain', 'bootstrap_type': 'MVS', 'l2_leaf_reg': 8.905690645183531, 'random_strength': 2.8830479943046265}. Best is trial 32 with value: -1.4087500793852294.\u001b[0m\n"
     ]
    },
    {
     "name": "stdout",
     "output_type": "stream",
     "text": [
      "0:\tlearn: 1.3943940\ttest: 1.3943940\ttest1: 1.8976659\tbest: 1.8976659 (0)\ttotal: 67.7ms\tremaining: 11m 16s\n",
      "100:\tlearn: 1.0838175\ttest: 1.0838175\ttest1: 1.4842209\tbest: 1.4834656 (89)\ttotal: 6.66s\tremaining: 10m 52s\n",
      "200:\tlearn: 1.0552128\ttest: 1.0552128\ttest1: 1.4564674\tbest: 1.4564674 (200)\ttotal: 13.1s\tremaining: 10m 37s\n",
      "300:\tlearn: 1.0384148\ttest: 1.0384148\ttest1: 1.4427926\tbest: 1.4426766 (286)\ttotal: 19.5s\tremaining: 10m 27s\n",
      "400:\tlearn: 1.0285888\ttest: 1.0285888\ttest1: 1.4376194\tbest: 1.4376194 (400)\ttotal: 25.9s\tremaining: 10m 20s\n",
      "500:\tlearn: 1.0208897\ttest: 1.0208897\ttest1: 1.4343224\tbest: 1.4340247 (479)\ttotal: 32.4s\tremaining: 10m 14s\n",
      "600:\tlearn: 1.0153100\ttest: 1.0153100\ttest1: 1.4329311\tbest: 1.4328544 (587)\ttotal: 38.9s\tremaining: 10m 8s\n",
      "700:\tlearn: 1.0095734\ttest: 1.0095734\ttest1: 1.4308155\tbest: 1.4307127 (685)\ttotal: 45.4s\tremaining: 10m 2s\n",
      "800:\tlearn: 1.0040124\ttest: 1.0040124\ttest1: 1.4279204\tbest: 1.4274936 (771)\ttotal: 51.9s\tremaining: 9m 56s\n",
      "900:\tlearn: 1.0007133\ttest: 1.0007133\ttest1: 1.4264616\tbest: 1.4264616 (900)\ttotal: 58.5s\tremaining: 9m 50s\n",
      "1000:\tlearn: 0.9969886\ttest: 0.9969886\ttest1: 1.4243669\tbest: 1.4243669 (1000)\ttotal: 1m 4s\tremaining: 9m 44s\n",
      "1100:\tlearn: 0.9934890\ttest: 0.9934890\ttest1: 1.4229179\tbest: 1.4227259 (1091)\ttotal: 1m 11s\tremaining: 9m 37s\n",
      "1200:\tlearn: 0.9907846\ttest: 0.9907846\ttest1: 1.4222192\tbest: 1.4222192 (1200)\ttotal: 1m 17s\tremaining: 9m 31s\n",
      "1300:\tlearn: 0.9870487\ttest: 0.9870487\ttest1: 1.4187911\tbest: 1.4186835 (1289)\ttotal: 1m 24s\tremaining: 9m 25s\n",
      "1400:\tlearn: 0.9844079\ttest: 0.9844079\ttest1: 1.4175058\tbest: 1.4174084 (1385)\ttotal: 1m 31s\tremaining: 9m 18s\n",
      "1500:\tlearn: 0.9820728\ttest: 0.9820728\ttest1: 1.4162123\tbest: 1.4161591 (1489)\ttotal: 1m 37s\tremaining: 9m 12s\n",
      "1600:\tlearn: 0.9787510\ttest: 0.9787510\ttest1: 1.4153544\tbest: 1.4151438 (1573)\ttotal: 1m 44s\tremaining: 9m 6s\n",
      "1700:\tlearn: 0.9768923\ttest: 0.9768923\ttest1: 1.4143548\tbest: 1.4143506 (1699)\ttotal: 1m 50s\tremaining: 8m 59s\n",
      "1800:\tlearn: 0.9745098\ttest: 0.9745098\ttest1: 1.4132841\tbest: 1.4128857 (1793)\ttotal: 1m 57s\tremaining: 8m 53s\n",
      "1900:\tlearn: 0.9720730\ttest: 0.9720730\ttest1: 1.4126311\tbest: 1.4125756 (1881)\ttotal: 2m 3s\tremaining: 8m 47s\n",
      "2000:\tlearn: 0.9691034\ttest: 0.9691034\ttest1: 1.4120231\tbest: 1.4118963 (1928)\ttotal: 2m 10s\tremaining: 8m 40s\n",
      "2100:\tlearn: 0.9670945\ttest: 0.9670945\ttest1: 1.4116000\tbest: 1.4114048 (2052)\ttotal: 2m 16s\tremaining: 8m 34s\n"
     ]
    },
    {
     "name": "stderr",
     "output_type": "stream",
     "text": [
      "\u001b[32m[I 2021-07-30 16:54:59,619]\u001b[0m Trial 35 finished with value: -1.4095140433778284 and parameters: {'colsample_bylevel': 0.07198290003133348, 'depth': 4, 'boosting_type': 'Plain', 'bootstrap_type': 'Bernoulli', 'l2_leaf_reg': 8.246857526135704, 'random_strength': 2.731614841033026, 'subsample': 0.6145283635921123}. Best is trial 32 with value: -1.4087500793852294.\u001b[0m\n"
     ]
    },
    {
     "name": "stdout",
     "output_type": "stream",
     "text": [
      "Stopped by overfitting detector  (100 iterations wait)\n",
      "\n",
      "bestTest = 1.411404805\n",
      "bestIteration = 2052\n",
      "\n",
      "Shrink model to first 2053 iterations.\n",
      "0:\tlearn: 1.3816168\ttest: 1.3816168\ttest1: 1.8734970\tbest: 1.8734970 (0)\ttotal: 85.2ms\tremaining: 14m 11s\n",
      "100:\tlearn: 1.0651896\ttest: 1.0651896\ttest1: 1.4779403\tbest: 1.4779155 (97)\ttotal: 7.16s\tremaining: 11m 41s\n",
      "200:\tlearn: 1.0206561\ttest: 1.0206561\ttest1: 1.4431539\tbest: 1.4429544 (187)\ttotal: 14.1s\tremaining: 11m 26s\n",
      "300:\tlearn: 1.0042687\ttest: 1.0042687\ttest1: 1.4358622\tbest: 1.4358622 (300)\ttotal: 21s\tremaining: 11m 17s\n",
      "400:\tlearn: 0.9934352\ttest: 0.9934352\ttest1: 1.4325295\tbest: 1.4323836 (394)\ttotal: 28s\tremaining: 11m 9s\n",
      "500:\tlearn: 0.9833585\ttest: 0.9833585\ttest1: 1.4274558\tbest: 1.4274558 (500)\ttotal: 35s\tremaining: 11m 3s\n",
      "600:\tlearn: 0.9764874\ttest: 0.9764874\ttest1: 1.4249868\tbest: 1.4249868 (600)\ttotal: 42s\tremaining: 10m 57s\n",
      "700:\tlearn: 0.9689629\ttest: 0.9689629\ttest1: 1.4244528\tbest: 1.4244018 (696)\ttotal: 49.1s\tremaining: 10m 50s\n",
      "800:\tlearn: 0.9619724\ttest: 0.9619724\ttest1: 1.4224181\tbest: 1.4224016 (798)\ttotal: 56.1s\tremaining: 10m 44s\n",
      "900:\tlearn: 0.9564158\ttest: 0.9564158\ttest1: 1.4222815\tbest: 1.4222609 (894)\ttotal: 1m 3s\tremaining: 10m 37s\n",
      "1000:\tlearn: 0.9512740\ttest: 0.9512740\ttest1: 1.4202348\tbest: 1.4201865 (997)\ttotal: 1m 10s\tremaining: 10m 30s\n",
      "1100:\tlearn: 0.9465717\ttest: 0.9465717\ttest1: 1.4173596\tbest: 1.4173496 (1098)\ttotal: 1m 17s\tremaining: 10m 24s\n",
      "1200:\tlearn: 0.9412224\ttest: 0.9412224\ttest1: 1.4187255\tbest: 1.4171881 (1122)\ttotal: 1m 24s\tremaining: 10m 17s\n"
     ]
    },
    {
     "name": "stderr",
     "output_type": "stream",
     "text": [
      "\u001b[32m[I 2021-07-30 16:56:26,066]\u001b[0m Trial 36 finished with value: -1.4160252750550772 and parameters: {'colsample_bylevel': 0.07138317809398644, 'depth': 6, 'boosting_type': 'Plain', 'bootstrap_type': 'Bernoulli', 'l2_leaf_reg': 8.568559953758488, 'random_strength': 1.8605206079160044, 'subsample': 0.6152302792837003}. Best is trial 32 with value: -1.4087500793852294.\u001b[0m\n"
     ]
    },
    {
     "name": "stdout",
     "output_type": "stream",
     "text": [
      "Stopped by overfitting detector  (100 iterations wait)\n",
      "\n",
      "bestTest = 1.417188121\n",
      "bestIteration = 1122\n",
      "\n",
      "Shrink model to first 1123 iterations.\n",
      "0:\tlearn: 1.3848349\ttest: 1.3848349\ttest1: 1.8775575\tbest: 1.8775575 (0)\ttotal: 79.9ms\tremaining: 13m 19s\n",
      "100:\tlearn: 1.0831505\ttest: 1.0831505\ttest1: 1.4758196\tbest: 1.4758196 (100)\ttotal: 6.56s\tremaining: 10m 43s\n",
      "200:\tlearn: 1.0478932\ttest: 1.0478932\ttest1: 1.4468080\tbest: 1.4468080 (200)\ttotal: 12.9s\tremaining: 10m 30s\n",
      "300:\tlearn: 1.0292228\ttest: 1.0292228\ttest1: 1.4377763\tbest: 1.4377763 (300)\ttotal: 19.3s\tremaining: 10m 21s\n",
      "400:\tlearn: 1.0186434\ttest: 1.0186434\ttest1: 1.4323560\tbest: 1.4319469 (367)\ttotal: 25.7s\tremaining: 10m 16s\n",
      "500:\tlearn: 1.0079841\ttest: 1.0079841\ttest1: 1.4262782\tbest: 1.4261655 (483)\ttotal: 32.2s\tremaining: 10m 10s\n",
      "600:\tlearn: 1.0004762\ttest: 1.0004762\ttest1: 1.4236693\tbest: 1.4236596 (599)\ttotal: 38.6s\tremaining: 10m 4s\n",
      "700:\tlearn: 0.9940816\ttest: 0.9940816\ttest1: 1.4211694\tbest: 1.4211172 (658)\ttotal: 45.1s\tremaining: 9m 58s\n",
      "800:\tlearn: 0.9877793\ttest: 0.9877793\ttest1: 1.4204101\tbest: 1.4201900 (775)\ttotal: 51.6s\tremaining: 9m 52s\n",
      "900:\tlearn: 0.9830817\ttest: 0.9830817\ttest1: 1.4190828\tbest: 1.4187360 (860)\ttotal: 58.1s\tremaining: 9m 46s\n",
      "1000:\tlearn: 0.9779684\ttest: 0.9779684\ttest1: 1.4170157\tbest: 1.4168606 (972)\ttotal: 1m 4s\tremaining: 9m 40s\n",
      "1100:\tlearn: 0.9749438\ttest: 0.9749438\ttest1: 1.4160779\tbest: 1.4160779 (1100)\ttotal: 1m 11s\tremaining: 9m 34s\n",
      "1200:\tlearn: 0.9711948\ttest: 0.9711948\ttest1: 1.4140435\tbest: 1.4140435 (1200)\ttotal: 1m 17s\tremaining: 9m 28s\n",
      "1300:\tlearn: 0.9684283\ttest: 0.9684283\ttest1: 1.4136604\tbest: 1.4135215 (1294)\ttotal: 1m 24s\tremaining: 9m 22s\n",
      "1400:\tlearn: 0.9644523\ttest: 0.9644523\ttest1: 1.4141141\tbest: 1.4128810 (1359)\ttotal: 1m 30s\tremaining: 9m 16s\n"
     ]
    },
    {
     "name": "stderr",
     "output_type": "stream",
     "text": [
      "\u001b[32m[I 2021-07-30 16:58:01,120]\u001b[0m Trial 37 finished with value: -1.411217133192922 and parameters: {'colsample_bylevel': 0.05968431129671782, 'depth': 5, 'boosting_type': 'Plain', 'bootstrap_type': 'Bernoulli', 'l2_leaf_reg': 11.304708387124798, 'random_strength': 3.52369062779361, 'subsample': 0.4740972728254579}. Best is trial 32 with value: -1.4087500793852294.\u001b[0m\n"
     ]
    },
    {
     "name": "stdout",
     "output_type": "stream",
     "text": [
      "Stopped by overfitting detector  (100 iterations wait)\n",
      "\n",
      "bestTest = 1.412880991\n",
      "bestIteration = 1359\n",
      "\n",
      "Shrink model to first 1360 iterations.\n",
      "0:\tlearn: 1.3955708\ttest: 1.3955708\ttest1: 1.8980716\tbest: 1.8980716 (0)\ttotal: 66.5ms\tremaining: 11m 4s\n",
      "100:\tlearn: 1.0899430\ttest: 1.0899430\ttest1: 1.4862856\tbest: 1.4862856 (100)\ttotal: 6.8s\tremaining: 11m 7s\n",
      "200:\tlearn: 1.0587642\ttest: 1.0587642\ttest1: 1.4536451\tbest: 1.4535034 (198)\ttotal: 13.4s\tremaining: 10m 52s\n",
      "300:\tlearn: 1.0432975\ttest: 1.0432975\ttest1: 1.4455238\tbest: 1.4454199 (297)\ttotal: 20s\tremaining: 10m 44s\n",
      "400:\tlearn: 1.0316874\ttest: 1.0316874\ttest1: 1.4382557\tbest: 1.4382557 (400)\ttotal: 26.6s\tremaining: 10m 37s\n",
      "500:\tlearn: 1.0254964\ttest: 1.0254964\ttest1: 1.4358811\tbest: 1.4358811 (500)\ttotal: 33.3s\tremaining: 10m 31s\n",
      "600:\tlearn: 1.0187619\ttest: 1.0187619\ttest1: 1.4342259\tbest: 1.4340317 (568)\ttotal: 39.9s\tremaining: 10m 24s\n",
      "700:\tlearn: 1.0130419\ttest: 1.0130419\ttest1: 1.4318961\tbest: 1.4318961 (700)\ttotal: 46.6s\tremaining: 10m 18s\n",
      "800:\tlearn: 1.0082200\ttest: 1.0082200\ttest1: 1.4291926\tbest: 1.4291795 (799)\ttotal: 53.3s\tremaining: 10m 12s\n",
      "900:\tlearn: 1.0029854\ttest: 1.0029854\ttest1: 1.4265961\tbest: 1.4265462 (898)\ttotal: 60s\tremaining: 10m 5s\n",
      "1000:\tlearn: 0.9986020\ttest: 0.9986020\ttest1: 1.4252888\tbest: 1.4252697 (996)\ttotal: 1m 6s\tremaining: 9m 59s\n",
      "1100:\tlearn: 0.9955441\ttest: 0.9955441\ttest1: 1.4239388\tbest: 1.4237757 (1086)\ttotal: 1m 13s\tremaining: 9m 52s\n",
      "1200:\tlearn: 0.9920713\ttest: 0.9920713\ttest1: 1.4233584\tbest: 1.4230405 (1191)\ttotal: 1m 20s\tremaining: 9m 46s\n",
      "1300:\tlearn: 0.9892692\ttest: 0.9892692\ttest1: 1.4226370\tbest: 1.4224958 (1274)\ttotal: 1m 26s\tremaining: 9m 40s\n",
      "1400:\tlearn: 0.9865134\ttest: 0.9865134\ttest1: 1.4210754\tbest: 1.4210754 (1400)\ttotal: 1m 33s\tremaining: 9m 33s\n",
      "1500:\tlearn: 0.9837853\ttest: 0.9837853\ttest1: 1.4203236\tbest: 1.4203229 (1499)\ttotal: 1m 40s\tremaining: 9m 27s\n",
      "1600:\tlearn: 0.9808503\ttest: 0.9808503\ttest1: 1.4198012\tbest: 1.4194265 (1550)\ttotal: 1m 46s\tremaining: 9m 20s\n"
     ]
    },
    {
     "name": "stderr",
     "output_type": "stream",
     "text": [
      "\u001b[32m[I 2021-07-30 16:59:52,051]\u001b[0m Trial 38 finished with value: -1.4175558915813207 and parameters: {'colsample_bylevel': 0.06588805601301563, 'depth': 4, 'boosting_type': 'Plain', 'bootstrap_type': 'Bernoulli', 'l2_leaf_reg': 13.642789870796513, 'random_strength': 4.914520693843141, 'subsample': 0.7567389233054371}. Best is trial 32 with value: -1.4087500793852294.\u001b[0m\n"
     ]
    },
    {
     "name": "stdout",
     "output_type": "stream",
     "text": [
      "Stopped by overfitting detector  (100 iterations wait)\n",
      "\n",
      "bestTest = 1.419426524\n",
      "bestIteration = 1550\n",
      "\n",
      "Shrink model to first 1551 iterations.\n",
      "0:\tlearn: 1.3792158\ttest: 1.3792158\ttest1: 1.8730127\tbest: 1.8730127 (0)\ttotal: 111ms\tremaining: 18m 29s\n",
      "100:\tlearn: 1.0433472\ttest: 1.0433472\ttest1: 1.4573605\tbest: 1.4573605 (100)\ttotal: 8.27s\tremaining: 13m 30s\n",
      "200:\tlearn: 1.0071569\ttest: 1.0071569\ttest1: 1.4349764\tbest: 1.4348747 (195)\ttotal: 16.3s\tremaining: 13m 14s\n",
      "300:\tlearn: 0.9863723\ttest: 0.9863723\ttest1: 1.4257119\tbest: 1.4255597 (291)\ttotal: 24.4s\tremaining: 13m 6s\n",
      "400:\tlearn: 0.9765758\ttest: 0.9765758\ttest1: 1.4223534\tbest: 1.4219683 (394)\ttotal: 32.5s\tremaining: 12m 56s\n",
      "500:\tlearn: 0.9672133\ttest: 0.9672133\ttest1: 1.4229644\tbest: 1.4219382 (473)\ttotal: 40.5s\tremaining: 12m 47s\n"
     ]
    },
    {
     "name": "stderr",
     "output_type": "stream",
     "text": [
      "\u001b[32m[I 2021-07-30 17:00:39,108]\u001b[0m Trial 39 finished with value: -1.4212585124291912 and parameters: {'colsample_bylevel': 0.07414521439481181, 'depth': 7, 'boosting_type': 'Ordered', 'bootstrap_type': 'Bernoulli', 'l2_leaf_reg': 1.7414451558277868, 'random_strength': 1.085705848312839, 'subsample': 0.2399133129126056}. Best is trial 32 with value: -1.4087500793852294.\u001b[0m\n"
     ]
    },
    {
     "name": "stdout",
     "output_type": "stream",
     "text": [
      "Stopped by overfitting detector  (100 iterations wait)\n",
      "\n",
      "bestTest = 1.421938153\n",
      "bestIteration = 473\n",
      "\n",
      "Shrink model to first 474 iterations.\n",
      "0:\tlearn: 1.3833815\ttest: 1.3833815\ttest1: 1.8747783\tbest: 1.8747783 (0)\ttotal: 89.1ms\tremaining: 14m 51s\n",
      "100:\tlearn: 1.0673305\ttest: 1.0673305\ttest1: 1.4812353\tbest: 1.4812353 (100)\ttotal: 7.86s\tremaining: 12m 50s\n",
      "200:\tlearn: 1.0280587\ttest: 1.0280587\ttest1: 1.4516808\tbest: 1.4516668 (197)\ttotal: 15.5s\tremaining: 12m 36s\n",
      "300:\tlearn: 1.0115042\ttest: 1.0115042\ttest1: 1.4444210\tbest: 1.4442198 (289)\ttotal: 23.2s\tremaining: 12m 28s\n",
      "400:\tlearn: 0.9984998\ttest: 0.9984998\ttest1: 1.4393258\tbest: 1.4393258 (400)\ttotal: 30.9s\tremaining: 12m 20s\n",
      "500:\tlearn: 0.9889024\ttest: 0.9889024\ttest1: 1.4408039\tbest: 1.4380542 (417)\ttotal: 38.7s\tremaining: 12m 13s\n"
     ]
    },
    {
     "name": "stderr",
     "output_type": "stream",
     "text": [
      "\u001b[32m[I 2021-07-30 17:01:19,648]\u001b[0m Trial 40 finished with value: -1.4375136155921147 and parameters: {'colsample_bylevel': 0.05079411631567738, 'depth': 6, 'boosting_type': 'Plain', 'bootstrap_type': 'Bernoulli', 'l2_leaf_reg': 7.983653419346389, 'random_strength': 2.925969089794108, 'subsample': 0.9271291456605728}. Best is trial 32 with value: -1.4087500793852294.\u001b[0m\n"
     ]
    },
    {
     "name": "stdout",
     "output_type": "stream",
     "text": [
      "Stopped by overfitting detector  (100 iterations wait)\n",
      "\n",
      "bestTest = 1.438054155\n",
      "bestIteration = 417\n",
      "\n",
      "Shrink model to first 418 iterations.\n",
      "0:\tlearn: 1.3848349\ttest: 1.3848349\ttest1: 1.8775575\tbest: 1.8775575 (0)\ttotal: 77.8ms\tremaining: 12m 57s\n",
      "100:\tlearn: 1.0857379\ttest: 1.0857379\ttest1: 1.4909675\tbest: 1.4909675 (100)\ttotal: 6.47s\tremaining: 10m 34s\n",
      "200:\tlearn: 1.0471318\ttest: 1.0471318\ttest1: 1.4559964\tbest: 1.4559722 (196)\ttotal: 12.8s\tremaining: 10m 25s\n",
      "300:\tlearn: 1.0270975\ttest: 1.0270975\ttest1: 1.4421007\tbest: 1.4419898 (299)\ttotal: 19.2s\tremaining: 10m 20s\n",
      "400:\tlearn: 1.0136084\ttest: 1.0136084\ttest1: 1.4376263\tbest: 1.4375463 (398)\ttotal: 25.7s\tremaining: 10m 14s\n",
      "500:\tlearn: 1.0040255\ttest: 1.0040255\ttest1: 1.4331524\tbest: 1.4331474 (499)\ttotal: 32.1s\tremaining: 10m 9s\n",
      "600:\tlearn: 0.9968539\ttest: 0.9968539\ttest1: 1.4301520\tbest: 1.4301393 (599)\ttotal: 38.6s\tremaining: 10m 3s\n",
      "700:\tlearn: 0.9914915\ttest: 0.9914915\ttest1: 1.4284078\tbest: 1.4279861 (658)\ttotal: 45.1s\tremaining: 9m 57s\n",
      "800:\tlearn: 0.9872107\ttest: 0.9872107\ttest1: 1.4266667\tbest: 1.4266667 (800)\ttotal: 51.5s\tremaining: 9m 51s\n",
      "900:\tlearn: 0.9824553\ttest: 0.9824553\ttest1: 1.4226327\tbest: 1.4226317 (899)\ttotal: 58s\tremaining: 9m 45s\n",
      "1000:\tlearn: 0.9776259\ttest: 0.9776259\ttest1: 1.4218322\tbest: 1.4215361 (939)\ttotal: 1m 4s\tremaining: 9m 39s\n",
      "1100:\tlearn: 0.9730015\ttest: 0.9730015\ttest1: 1.4209651\tbest: 1.4208898 (1056)\ttotal: 1m 10s\tremaining: 9m 33s\n",
      "1200:\tlearn: 0.9696832\ttest: 0.9696832\ttest1: 1.4228121\tbest: 1.4203494 (1154)\ttotal: 1m 17s\tremaining: 9m 27s\n"
     ]
    },
    {
     "name": "stderr",
     "output_type": "stream",
     "text": [
      "\u001b[32m[I 2021-07-30 17:02:41,226]\u001b[0m Trial 41 finished with value: -1.418406895882754 and parameters: {'colsample_bylevel': 0.057403837760208465, 'depth': 5, 'boosting_type': 'Plain', 'bootstrap_type': 'Bernoulli', 'l2_leaf_reg': 11.29968599819426, 'random_strength': 3.6277108073892084, 'subsample': 0.4847043071169541}. Best is trial 32 with value: -1.4087500793852294.\u001b[0m\n"
     ]
    },
    {
     "name": "stdout",
     "output_type": "stream",
     "text": [
      "Stopped by overfitting detector  (100 iterations wait)\n",
      "\n",
      "bestTest = 1.420349361\n",
      "bestIteration = 1154\n",
      "\n",
      "Shrink model to first 1155 iterations.\n",
      "0:\tlearn: 1.3881864\ttest: 1.3881864\ttest1: 1.8844162\tbest: 1.8844162 (0)\ttotal: 67ms\tremaining: 11m 9s\n",
      "100:\tlearn: 1.0918122\ttest: 1.0918122\ttest1: 1.4903544\tbest: 1.4902665 (99)\ttotal: 6.56s\tremaining: 10m 42s\n",
      "200:\tlearn: 1.0621169\ttest: 1.0621169\ttest1: 1.4613471\tbest: 1.4612552 (199)\ttotal: 12.9s\tremaining: 10m 30s\n",
      "300:\tlearn: 1.0464617\ttest: 1.0464617\ttest1: 1.4478301\tbest: 1.4478301 (300)\ttotal: 19.3s\tremaining: 10m 20s\n",
      "400:\tlearn: 1.0372391\ttest: 1.0372391\ttest1: 1.4438053\tbest: 1.4436116 (396)\ttotal: 25.6s\tremaining: 10m 12s\n",
      "500:\tlearn: 1.0271370\ttest: 1.0271370\ttest1: 1.4385880\tbest: 1.4385880 (500)\ttotal: 32s\tremaining: 10m 6s\n",
      "600:\tlearn: 1.0206993\ttest: 1.0206993\ttest1: 1.4333723\tbest: 1.4333723 (600)\ttotal: 38.4s\tremaining: 10m 1s\n",
      "700:\tlearn: 1.0142776\ttest: 1.0142776\ttest1: 1.4295473\tbest: 1.4295473 (700)\ttotal: 44.9s\tremaining: 9m 55s\n",
      "800:\tlearn: 1.0084834\ttest: 1.0084834\ttest1: 1.4266915\tbest: 1.4263419 (748)\ttotal: 51.3s\tremaining: 9m 49s\n"
     ]
    },
    {
     "name": "stderr",
     "output_type": "stream",
     "text": [
      "\u001b[32m[I 2021-07-30 17:03:36,235]\u001b[0m Trial 42 finished with value: -1.4245315771122429 and parameters: {'colsample_bylevel': 0.060783804198571406, 'depth': 4, 'boosting_type': 'Plain', 'bootstrap_type': 'Bernoulli', 'l2_leaf_reg': 6.206533269828224, 'random_strength': 3.657147458069722, 'subsample': 0.6206828065190351}. Best is trial 32 with value: -1.4087500793852294.\u001b[0m\n"
     ]
    },
    {
     "name": "stdout",
     "output_type": "stream",
     "text": [
      "Stopped by overfitting detector  (100 iterations wait)\n",
      "\n",
      "bestTest = 1.426341865\n",
      "bestIteration = 748\n",
      "\n",
      "Shrink model to first 749 iterations.\n",
      "0:\tlearn: 1.3848349\ttest: 1.3848349\ttest1: 1.8775575\tbest: 1.8775575 (0)\ttotal: 76.9ms\tremaining: 12m 48s\n",
      "100:\tlearn: 1.0844352\ttest: 1.0844352\ttest1: 1.4885994\tbest: 1.4880184 (97)\ttotal: 6.36s\tremaining: 10m 23s\n",
      "200:\tlearn: 1.0482506\ttest: 1.0482506\ttest1: 1.4548103\tbest: 1.4546968 (199)\ttotal: 12.5s\tremaining: 10m 9s\n",
      "300:\tlearn: 1.0303692\ttest: 1.0303692\ttest1: 1.4440622\tbest: 1.4440622 (300)\ttotal: 18.6s\tremaining: 9m 59s\n",
      "400:\tlearn: 1.0181710\ttest: 1.0181710\ttest1: 1.4387339\tbest: 1.4384771 (383)\ttotal: 24.8s\tremaining: 9m 53s\n",
      "500:\tlearn: 1.0074964\ttest: 1.0074964\ttest1: 1.4352665\tbest: 1.4352665 (500)\ttotal: 31s\tremaining: 9m 47s\n",
      "600:\tlearn: 0.9977479\ttest: 0.9977479\ttest1: 1.4316491\tbest: 1.4316491 (600)\ttotal: 37.2s\tremaining: 9m 42s\n",
      "700:\tlearn: 0.9910705\ttest: 0.9910705\ttest1: 1.4287137\tbest: 1.4287102 (699)\ttotal: 43.5s\tremaining: 9m 37s\n",
      "800:\tlearn: 0.9858777\ttest: 0.9858777\ttest1: 1.4261863\tbest: 1.4261382 (799)\ttotal: 49.8s\tremaining: 9m 31s\n",
      "900:\tlearn: 0.9802974\ttest: 0.9802974\ttest1: 1.4238714\tbest: 1.4237872 (881)\ttotal: 56s\tremaining: 9m 25s\n",
      "1000:\tlearn: 0.9745422\ttest: 0.9745422\ttest1: 1.4215624\tbest: 1.4210590 (985)\ttotal: 1m 2s\tremaining: 9m 19s\n",
      "1100:\tlearn: 0.9702881\ttest: 0.9702881\ttest1: 1.4204332\tbest: 1.4204116 (1095)\ttotal: 1m 8s\tremaining: 9m 13s\n",
      "1200:\tlearn: 0.9665179\ttest: 0.9665179\ttest1: 1.4203101\tbest: 1.4202726 (1104)\ttotal: 1m 14s\tremaining: 9m 7s\n"
     ]
    },
    {
     "name": "stderr",
     "output_type": "stream",
     "text": [
      "\u001b[32m[I 2021-07-30 17:04:51,873]\u001b[0m Trial 43 finished with value: -1.4184884099599977 and parameters: {'colsample_bylevel': 0.062135932088806266, 'depth': 5, 'boosting_type': 'Plain', 'bootstrap_type': 'Bernoulli', 'l2_leaf_reg': 13.513853471376986, 'random_strength': 3.274888419786981, 'subsample': 0.3547822492502114}. Best is trial 32 with value: -1.4087500793852294.\u001b[0m\n"
     ]
    },
    {
     "name": "stdout",
     "output_type": "stream",
     "text": [
      "Stopped by overfitting detector  (100 iterations wait)\n",
      "\n",
      "bestTest = 1.420272632\n",
      "bestIteration = 1104\n",
      "\n",
      "Shrink model to first 1105 iterations.\n",
      "0:\tlearn: 1.3958396\ttest: 1.3958396\ttest1: 1.8975039\tbest: 1.8975039 (0)\ttotal: 62.9ms\tremaining: 10m 28s\n",
      "100:\tlearn: 1.0870552\ttest: 1.0870552\ttest1: 1.4859040\tbest: 1.4859040 (100)\ttotal: 6.42s\tremaining: 10m 29s\n",
      "200:\tlearn: 1.0575258\ttest: 1.0575258\ttest1: 1.4564581\tbest: 1.4564581 (200)\ttotal: 12.7s\tremaining: 10m 17s\n",
      "300:\tlearn: 1.0431615\ttest: 1.0431615\ttest1: 1.4490798\tbest: 1.4490384 (299)\ttotal: 18.9s\tremaining: 10m 8s\n",
      "400:\tlearn: 1.0328299\ttest: 1.0328299\ttest1: 1.4418747\tbest: 1.4418702 (397)\ttotal: 25.2s\tremaining: 10m 4s\n",
      "500:\tlearn: 1.0230781\ttest: 1.0230781\ttest1: 1.4378961\tbest: 1.4378961 (500)\ttotal: 31.6s\tremaining: 9m 59s\n",
      "600:\tlearn: 1.0172239\ttest: 1.0172239\ttest1: 1.4357737\tbest: 1.4356582 (556)\ttotal: 37.9s\tremaining: 9m 53s\n",
      "700:\tlearn: 1.0123875\ttest: 1.0123875\ttest1: 1.4335424\tbest: 1.4335424 (700)\ttotal: 44.2s\tremaining: 9m 46s\n",
      "800:\tlearn: 1.0078590\ttest: 1.0078590\ttest1: 1.4300706\tbest: 1.4300042 (797)\ttotal: 50.6s\tremaining: 9m 40s\n",
      "900:\tlearn: 1.0036389\ttest: 1.0036389\ttest1: 1.4289814\tbest: 1.4288706 (889)\ttotal: 56.9s\tremaining: 9m 34s\n",
      "1000:\tlearn: 0.9986132\ttest: 0.9986132\ttest1: 1.4262910\tbest: 1.4262693 (991)\ttotal: 1m 3s\tremaining: 9m 29s\n",
      "1100:\tlearn: 0.9938042\ttest: 0.9938042\ttest1: 1.4245187\tbest: 1.4242360 (1065)\ttotal: 1m 9s\tremaining: 9m 23s\n",
      "1200:\tlearn: 0.9903447\ttest: 0.9903447\ttest1: 1.4233460\tbest: 1.4233147 (1196)\ttotal: 1m 16s\tremaining: 9m 17s\n",
      "1300:\tlearn: 0.9877633\ttest: 0.9877633\ttest1: 1.4229694\tbest: 1.4226812 (1235)\ttotal: 1m 22s\tremaining: 9m 11s\n",
      "Stopped by overfitting detector  (100 iterations wait)\n",
      "\n",
      "bestTest = 1.422681234\n",
      "bestIteration = 1235\n",
      "\n",
      "Shrink model to first 1236 iterations.\n"
     ]
    },
    {
     "name": "stderr",
     "output_type": "stream",
     "text": [
      "\u001b[32m[I 2021-07-30 17:06:17,326]\u001b[0m Trial 44 finished with value: -1.4203540666891903 and parameters: {'colsample_bylevel': 0.06912711849488984, 'depth': 4, 'boosting_type': 'Plain', 'bootstrap_type': 'Bernoulli', 'l2_leaf_reg': 9.712982869451686, 'random_strength': 1.771120890021186, 'subsample': 0.553264294170314}. Best is trial 32 with value: -1.4087500793852294.\u001b[0m\n"
     ]
    },
    {
     "name": "stdout",
     "output_type": "stream",
     "text": [
      "0:\tlearn: 1.3888533\ttest: 1.3888533\ttest1: 1.8840554\tbest: 1.8840554 (0)\ttotal: 106ms\tremaining: 17m 36s\n",
      "100:\tlearn: 1.0987884\ttest: 1.0987884\ttest1: 1.4999674\tbest: 1.4999674 (100)\ttotal: 8.83s\tremaining: 14m 25s\n",
      "200:\tlearn: 1.0634312\ttest: 1.0634312\ttest1: 1.4638414\tbest: 1.4638047 (199)\ttotal: 17.5s\tremaining: 14m 12s\n",
      "300:\tlearn: 1.0464227\ttest: 1.0464227\ttest1: 1.4495755\tbest: 1.4494546 (294)\ttotal: 26.1s\tremaining: 14m 1s\n",
      "400:\tlearn: 1.0371130\ttest: 1.0371130\ttest1: 1.4449441\tbest: 1.4449441 (400)\ttotal: 34.8s\tremaining: 13m 52s\n",
      "500:\tlearn: 1.0281054\ttest: 1.0281054\ttest1: 1.4404131\tbest: 1.4399968 (474)\ttotal: 43.3s\tremaining: 13m 41s\n",
      "600:\tlearn: 1.0209983\ttest: 1.0209983\ttest1: 1.4372662\tbest: 1.4369598 (590)\ttotal: 52s\tremaining: 13m 32s\n",
      "700:\tlearn: 1.0142664\ttest: 1.0142664\ttest1: 1.4322151\tbest: 1.4321916 (699)\ttotal: 1m\tremaining: 13m 23s\n",
      "800:\tlearn: 1.0097548\ttest: 1.0097548\ttest1: 1.4307640\tbest: 1.4304484 (774)\ttotal: 1m 9s\tremaining: 13m 14s\n",
      "900:\tlearn: 1.0050020\ttest: 1.0050020\ttest1: 1.4277496\tbest: 1.4276615 (894)\ttotal: 1m 17s\tremaining: 13m 5s\n",
      "1000:\tlearn: 0.9999907\ttest: 0.9999907\ttest1: 1.4252064\tbest: 1.4252007 (999)\ttotal: 1m 26s\tremaining: 12m 56s\n",
      "1100:\tlearn: 0.9947762\ttest: 0.9947762\ttest1: 1.4249885\tbest: 1.4248483 (1097)\ttotal: 1m 35s\tremaining: 12m 47s\n",
      "1200:\tlearn: 0.9908531\ttest: 0.9908531\ttest1: 1.4233694\tbest: 1.4231966 (1199)\ttotal: 1m 43s\tremaining: 12m 38s\n",
      "1300:\tlearn: 0.9879730\ttest: 0.9879730\ttest1: 1.4228314\tbest: 1.4227861 (1277)\ttotal: 1m 52s\tremaining: 12m 29s\n",
      "1400:\tlearn: 0.9847272\ttest: 0.9847272\ttest1: 1.4213989\tbest: 1.4213120 (1386)\ttotal: 2m\tremaining: 12m 20s\n",
      "1500:\tlearn: 0.9830061\ttest: 0.9830061\ttest1: 1.4210536\tbest: 1.4208652 (1479)\ttotal: 2m 9s\tremaining: 12m 11s\n",
      "1600:\tlearn: 0.9808515\ttest: 0.9808515\ttest1: 1.4205214\tbest: 1.4204659 (1558)\ttotal: 2m 17s\tremaining: 12m 3s\n",
      "Stopped by overfitting detector  (100 iterations wait)\n",
      "\n",
      "bestTest = 1.420465892\n",
      "bestIteration = 1558\n",
      "\n",
      "Shrink model to first 1559 iterations.\n"
     ]
    },
    {
     "name": "stderr",
     "output_type": "stream",
     "text": [
      "\u001b[32m[I 2021-07-30 17:08:41,103]\u001b[0m Trial 45 finished with value: -1.4181159202720224 and parameters: {'colsample_bylevel': 0.05372170381844267, 'depth': 4, 'boosting_type': 'Ordered', 'bootstrap_type': 'Bernoulli', 'l2_leaf_reg': 11.944760181894448, 'random_strength': 4.635473645911061, 'subsample': 0.7750287660500028}. Best is trial 32 with value: -1.4087500793852294.\u001b[0m\n"
     ]
    },
    {
     "name": "stdout",
     "output_type": "stream",
     "text": [
      "0:\tlearn: 1.3801872\ttest: 1.3801872\ttest1: 1.8724615\tbest: 1.8724615 (0)\ttotal: 85.9ms\tremaining: 14m 19s\n",
      "100:\tlearn: 1.0737653\ttest: 1.0737653\ttest1: 1.4961073\tbest: 1.4961073 (100)\ttotal: 6.96s\tremaining: 11m 22s\n",
      "200:\tlearn: 1.0166229\ttest: 1.0166229\ttest1: 1.4528164\tbest: 1.4528164 (200)\ttotal: 13.6s\tremaining: 11m 4s\n",
      "300:\tlearn: 0.9934994\ttest: 0.9934994\ttest1: 1.4408394\tbest: 1.4407411 (294)\ttotal: 20.3s\tremaining: 10m 55s\n",
      "400:\tlearn: 0.9774385\ttest: 0.9774385\ttest1: 1.4363746\tbest: 1.4363589 (399)\ttotal: 27.1s\tremaining: 10m 48s\n",
      "500:\tlearn: 0.9637952\ttest: 0.9637952\ttest1: 1.4328754\tbest: 1.4328754 (500)\ttotal: 33.9s\tremaining: 10m 42s\n",
      "600:\tlearn: 0.9521381\ttest: 0.9521381\ttest1: 1.4305586\tbest: 1.4304573 (590)\ttotal: 40.7s\tremaining: 10m 36s\n",
      "700:\tlearn: 0.9434040\ttest: 0.9434040\ttest1: 1.4294616\tbest: 1.4292382 (661)\ttotal: 47.5s\tremaining: 10m 30s\n"
     ]
    },
    {
     "name": "stderr",
     "output_type": "stream",
     "text": [
      "\u001b[32m[I 2021-07-30 17:09:33,368]\u001b[0m Trial 46 finished with value: -1.4274824168257434 and parameters: {'colsample_bylevel': 0.09985644720169151, 'depth': 7, 'boosting_type': 'Plain', 'bootstrap_type': 'Bernoulli', 'l2_leaf_reg': 12.937149945489274, 'random_strength': 5.474861726975346, 'subsample': 0.3530793016646855}. Best is trial 32 with value: -1.4087500793852294.\u001b[0m\n"
     ]
    },
    {
     "name": "stdout",
     "output_type": "stream",
     "text": [
      "Stopped by overfitting detector  (100 iterations wait)\n",
      "\n",
      "bestTest = 1.429238169\n",
      "bestIteration = 661\n",
      "\n",
      "Shrink model to first 662 iterations.\n",
      "0:\tlearn: 1.3875398\ttest: 1.3875398\ttest1: 1.8798051\tbest: 1.8798051 (0)\ttotal: 88.9ms\tremaining: 14m 48s\n",
      "100:\tlearn: 1.0853613\ttest: 1.0853613\ttest1: 1.4814923\tbest: 1.4814052 (98)\ttotal: 7.4s\tremaining: 12m 5s\n",
      "200:\tlearn: 1.0623111\ttest: 1.0623111\ttest1: 1.4564286\tbest: 1.4562574 (199)\ttotal: 14.6s\tremaining: 11m 51s\n",
      "300:\tlearn: 1.0503345\ttest: 1.0503345\ttest1: 1.4525718\tbest: 1.4521834 (290)\ttotal: 21.8s\tremaining: 11m 41s\n",
      "400:\tlearn: 1.0391751\ttest: 1.0391751\ttest1: 1.4433910\tbest: 1.4433377 (395)\ttotal: 29s\tremaining: 11m 33s\n",
      "500:\tlearn: 1.0318893\ttest: 1.0318893\ttest1: 1.4406513\tbest: 1.4406327 (496)\ttotal: 36.2s\tremaining: 11m 25s\n",
      "600:\tlearn: 1.0262118\ttest: 1.0262118\ttest1: 1.4384825\tbest: 1.4381421 (550)\ttotal: 43.3s\tremaining: 11m 17s\n",
      "700:\tlearn: 1.0218987\ttest: 1.0218987\ttest1: 1.4374103\tbest: 1.4373938 (689)\ttotal: 50.5s\tremaining: 11m 10s\n",
      "800:\tlearn: 1.0177640\ttest: 1.0177640\ttest1: 1.4362532\tbest: 1.4361101 (788)\ttotal: 57.7s\tremaining: 11m 2s\n",
      "900:\tlearn: 1.0144945\ttest: 1.0144945\ttest1: 1.4340826\tbest: 1.4339447 (886)\ttotal: 1m 4s\tremaining: 10m 55s\n",
      "1000:\tlearn: 1.0113329\ttest: 1.0113329\ttest1: 1.4332246\tbest: 1.4330876 (996)\ttotal: 1m 12s\tremaining: 10m 47s\n",
      "1100:\tlearn: 1.0088428\ttest: 1.0088428\ttest1: 1.4322098\tbest: 1.4321859 (1097)\ttotal: 1m 19s\tremaining: 10m 40s\n",
      "1200:\tlearn: 1.0066494\ttest: 1.0066494\ttest1: 1.4312643\tbest: 1.4312643 (1200)\ttotal: 1m 26s\tremaining: 10m 32s\n",
      "1300:\tlearn: 1.0049696\ttest: 1.0049696\ttest1: 1.4312185\tbest: 1.4311923 (1236)\ttotal: 1m 33s\tremaining: 10m 25s\n",
      "1400:\tlearn: 1.0022867\ttest: 1.0022867\ttest1: 1.4303959\tbest: 1.4302995 (1368)\ttotal: 1m 40s\tremaining: 10m 18s\n"
     ]
    },
    {
     "name": "stderr",
     "output_type": "stream",
     "text": [
      "\u001b[32m[I 2021-07-30 17:11:19,587]\u001b[0m Trial 47 finished with value: -1.4297234817233746 and parameters: {'colsample_bylevel': 0.06532559613991953, 'depth': 5, 'boosting_type': 'Plain', 'bootstrap_type': 'Bayesian', 'l2_leaf_reg': 7.54845494722832, 'random_strength': 2.36474866411384, 'bagging_temperature': 5.690259730927422}. Best is trial 32 with value: -1.4087500793852294.\u001b[0m\n"
     ]
    },
    {
     "name": "stdout",
     "output_type": "stream",
     "text": [
      "Stopped by overfitting detector  (100 iterations wait)\n",
      "\n",
      "bestTest = 1.430299464\n",
      "bestIteration = 1368\n",
      "\n",
      "Shrink model to first 1369 iterations.\n",
      "0:\tlearn: 1.3975316\ttest: 1.3975316\ttest1: 1.8951916\tbest: 1.8951916 (0)\ttotal: 80.4ms\tremaining: 13m 23s\n",
      "100:\tlearn: 1.0935911\ttest: 1.0935911\ttest1: 1.4890642\tbest: 1.4889845 (98)\ttotal: 6.84s\tremaining: 11m 10s\n",
      "200:\tlearn: 1.0595606\ttest: 1.0595606\ttest1: 1.4546192\tbest: 1.4546192 (200)\ttotal: 13.4s\tremaining: 10m 55s\n",
      "300:\tlearn: 1.0429245\ttest: 1.0429245\ttest1: 1.4439945\tbest: 1.4439945 (300)\ttotal: 20s\tremaining: 10m 44s\n",
      "400:\tlearn: 1.0315418\ttest: 1.0315418\ttest1: 1.4368096\tbest: 1.4368009 (399)\ttotal: 26.5s\tremaining: 10m 34s\n",
      "500:\tlearn: 1.0220118\ttest: 1.0220118\ttest1: 1.4310189\tbest: 1.4309267 (491)\ttotal: 33.1s\tremaining: 10m 28s\n",
      "600:\tlearn: 1.0147651\ttest: 1.0147651\ttest1: 1.4288232\tbest: 1.4288232 (600)\ttotal: 39.8s\tremaining: 10m 21s\n",
      "700:\tlearn: 1.0097585\ttest: 1.0097585\ttest1: 1.4272925\tbest: 1.4271953 (693)\ttotal: 46.4s\tremaining: 10m 15s\n",
      "800:\tlearn: 1.0057765\ttest: 1.0057765\ttest1: 1.4257438\tbest: 1.4257255 (741)\ttotal: 53s\tremaining: 10m 8s\n",
      "900:\tlearn: 1.0025170\ttest: 1.0025170\ttest1: 1.4257869\tbest: 1.4248836 (846)\ttotal: 59.7s\tremaining: 10m 2s\n"
     ]
    },
    {
     "name": "stderr",
     "output_type": "stream",
     "text": [
      "\u001b[32m[I 2021-07-30 17:12:22,881]\u001b[0m Trial 48 finished with value: -1.4220951028453652 and parameters: {'colsample_bylevel': 0.08684081978756028, 'depth': 4, 'boosting_type': 'Plain', 'bootstrap_type': 'Bernoulli', 'l2_leaf_reg': 4.838395727212001, 'random_strength': 6.235388511067356, 'subsample': 0.683138641579131}. Best is trial 32 with value: -1.4087500793852294.\u001b[0m\n"
     ]
    },
    {
     "name": "stdout",
     "output_type": "stream",
     "text": [
      "Stopped by overfitting detector  (100 iterations wait)\n",
      "\n",
      "bestTest = 1.424883555\n",
      "bestIteration = 846\n",
      "\n",
      "Shrink model to first 847 iterations.\n",
      "0:\tlearn: 1.3896626\ttest: 1.3896626\ttest1: 1.8872371\tbest: 1.8872371 (0)\ttotal: 81.4ms\tremaining: 13m 33s\n",
      "100:\tlearn: 1.0745459\ttest: 1.0745459\ttest1: 1.4745012\tbest: 1.4745012 (100)\ttotal: 8.64s\tremaining: 14m 7s\n",
      "200:\tlearn: 1.0404911\ttest: 1.0404911\ttest1: 1.4507119\tbest: 1.4507119 (200)\ttotal: 17.1s\tremaining: 13m 55s\n",
      "300:\tlearn: 1.0223013\ttest: 1.0223013\ttest1: 1.4389081\tbest: 1.4388907 (299)\ttotal: 25.5s\tremaining: 13m 42s\n",
      "400:\tlearn: 1.0106827\ttest: 1.0106827\ttest1: 1.4342085\tbest: 1.4341986 (398)\ttotal: 33.9s\tremaining: 13m 30s\n",
      "500:\tlearn: 1.0008958\ttest: 1.0008958\ttest1: 1.4283049\tbest: 1.4282420 (494)\ttotal: 42.3s\tremaining: 13m 21s\n",
      "600:\tlearn: 0.9931413\ttest: 0.9931413\ttest1: 1.4252813\tbest: 1.4252813 (600)\ttotal: 50.5s\tremaining: 13m 10s\n",
      "700:\tlearn: 0.9859825\ttest: 0.9859825\ttest1: 1.4223854\tbest: 1.4223595 (699)\ttotal: 59s\tremaining: 13m 3s\n",
      "800:\tlearn: 0.9794177\ttest: 0.9794177\ttest1: 1.4195252\tbest: 1.4195252 (800)\ttotal: 1m 7s\tremaining: 12m 55s\n",
      "900:\tlearn: 0.9747409\ttest: 0.9747409\ttest1: 1.4180219\tbest: 1.4180219 (900)\ttotal: 1m 15s\tremaining: 12m 47s\n",
      "1000:\tlearn: 0.9698183\ttest: 0.9698183\ttest1: 1.4170242\tbest: 1.4170225 (999)\ttotal: 1m 24s\tremaining: 12m 38s\n",
      "1100:\tlearn: 0.9664694\ttest: 0.9664694\ttest1: 1.4168940\tbest: 1.4166587 (1025)\ttotal: 1m 32s\tremaining: 12m 31s\n",
      "Stopped by overfitting detector  (100 iterations wait)\n",
      "\n",
      "bestTest = 1.416658672\n",
      "bestIteration = 1025\n",
      "\n",
      "Shrink model to first 1026 iterations.\n"
     ]
    },
    {
     "name": "stderr",
     "output_type": "stream",
     "text": [
      "\u001b[32m[I 2021-07-30 17:13:58,736]\u001b[0m Trial 49 finished with value: -1.4155110844057421 and parameters: {'colsample_bylevel': 0.09512149280099264, 'depth': 5, 'boosting_type': 'Ordered', 'bootstrap_type': 'Bernoulli', 'l2_leaf_reg': 9.797938708519347, 'random_strength': 4.043683196687879, 'subsample': 0.4570821610135745}. Best is trial 32 with value: -1.4087500793852294.\u001b[0m\n"
     ]
    },
    {
     "name": "stdout",
     "output_type": "stream",
     "text": [
      "0:\tlearn: 1.3982220\ttest: 1.3982220\ttest1: 1.8963155\tbest: 1.8963155 (0)\ttotal: 64.9ms\tremaining: 10m 49s\n",
      "100:\tlearn: 1.0969519\ttest: 1.0969519\ttest1: 1.5027782\tbest: 1.5026006 (99)\ttotal: 6.53s\tremaining: 10m 40s\n",
      "200:\tlearn: 1.0542877\ttest: 1.0542877\ttest1: 1.4531891\tbest: 1.4530606 (197)\ttotal: 12.8s\tremaining: 10m 25s\n",
      "300:\tlearn: 1.0374170\ttest: 1.0374170\ttest1: 1.4430921\tbest: 1.4430921 (300)\ttotal: 19s\tremaining: 10m 13s\n",
      "400:\tlearn: 1.0290842\ttest: 1.0290842\ttest1: 1.4400743\tbest: 1.4398468 (395)\ttotal: 25.2s\tremaining: 10m 4s\n",
      "500:\tlearn: 1.0199889\ttest: 1.0199889\ttest1: 1.4361995\tbest: 1.4361995 (500)\ttotal: 31.5s\tremaining: 9m 58s\n",
      "600:\tlearn: 1.0139827\ttest: 1.0139827\ttest1: 1.4341093\tbest: 1.4340992 (597)\ttotal: 37.8s\tremaining: 9m 51s\n",
      "700:\tlearn: 1.0080378\ttest: 1.0080378\ttest1: 1.4301553\tbest: 1.4300635 (677)\ttotal: 44.2s\tremaining: 9m 45s\n",
      "800:\tlearn: 1.0045558\ttest: 1.0045558\ttest1: 1.4290037\tbest: 1.4288766 (795)\ttotal: 50.5s\tremaining: 9m 40s\n",
      "900:\tlearn: 1.0013857\ttest: 1.0013857\ttest1: 1.4278016\tbest: 1.4275853 (897)\ttotal: 56.9s\tremaining: 9m 34s\n",
      "1000:\tlearn: 0.9976269\ttest: 0.9976269\ttest1: 1.4272765\tbest: 1.4272643 (997)\ttotal: 1m 3s\tremaining: 9m 28s\n",
      "1100:\tlearn: 0.9929427\ttest: 0.9929427\ttest1: 1.4241650\tbest: 1.4241624 (1099)\ttotal: 1m 9s\tremaining: 9m 22s\n",
      "1200:\tlearn: 0.9889505\ttest: 0.9889505\ttest1: 1.4230387\tbest: 1.4230088 (1194)\ttotal: 1m 15s\tremaining: 9m 16s\n",
      "1300:\tlearn: 0.9857833\ttest: 0.9857833\ttest1: 1.4219509\tbest: 1.4219463 (1298)\ttotal: 1m 22s\tremaining: 9m 9s\n",
      "1400:\tlearn: 0.9829761\ttest: 0.9829761\ttest1: 1.4208400\tbest: 1.4208146 (1380)\ttotal: 1m 28s\tremaining: 9m 3s\n",
      "1500:\tlearn: 0.9805251\ttest: 0.9805251\ttest1: 1.4202374\tbest: 1.4201830 (1485)\ttotal: 1m 34s\tremaining: 8m 57s\n",
      "1600:\tlearn: 0.9783175\ttest: 0.9783175\ttest1: 1.4196729\tbest: 1.4194964 (1565)\ttotal: 1m 41s\tremaining: 8m 51s\n",
      "1700:\tlearn: 0.9763943\ttest: 0.9763943\ttest1: 1.4194480\tbest: 1.4190193 (1664)\ttotal: 1m 47s\tremaining: 8m 45s\n"
     ]
    },
    {
     "name": "stderr",
     "output_type": "stream",
     "text": [
      "\u001b[32m[I 2021-07-30 17:15:51,172]\u001b[0m Trial 50 finished with value: -1.4171565320515607 and parameters: {'colsample_bylevel': 0.07531362024727666, 'depth': 4, 'boosting_type': 'Plain', 'bootstrap_type': 'Bernoulli', 'l2_leaf_reg': 15.81695025556357, 'random_strength': 3.260441260544664, 'subsample': 0.510650160615286}. Best is trial 32 with value: -1.4087500793852294.\u001b[0m\n"
     ]
    },
    {
     "name": "stdout",
     "output_type": "stream",
     "text": [
      "Stopped by overfitting detector  (100 iterations wait)\n",
      "\n",
      "bestTest = 1.419019334\n",
      "bestIteration = 1664\n",
      "\n",
      "Shrink model to first 1665 iterations.\n",
      "0:\tlearn: 1.3928740\ttest: 1.3928740\ttest1: 1.8906421\tbest: 1.8906421 (0)\ttotal: 79.3ms\tremaining: 13m 12s\n",
      "100:\tlearn: 1.0945495\ttest: 1.0945495\ttest1: 1.4885477\tbest: 1.4885477 (100)\ttotal: 6.81s\tremaining: 11m 7s\n",
      "200:\tlearn: 1.0584083\ttest: 1.0584083\ttest1: 1.4533989\tbest: 1.4532732 (199)\ttotal: 13.5s\tremaining: 10m 56s\n",
      "300:\tlearn: 1.0435646\ttest: 1.0435646\ttest1: 1.4434377\tbest: 1.4434377 (300)\ttotal: 20.1s\tremaining: 10m 47s\n",
      "400:\tlearn: 1.0305232\ttest: 1.0305232\ttest1: 1.4333340\tbest: 1.4332973 (393)\ttotal: 26.8s\tremaining: 10m 41s\n",
      "500:\tlearn: 1.0224139\ttest: 1.0224139\ttest1: 1.4289440\tbest: 1.4289095 (498)\ttotal: 33.5s\tremaining: 10m 34s\n",
      "600:\tlearn: 1.0156126\ttest: 1.0156126\ttest1: 1.4263802\tbest: 1.4262492 (595)\ttotal: 40.2s\tremaining: 10m 28s\n",
      "700:\tlearn: 1.0087417\ttest: 1.0087417\ttest1: 1.4234448\tbest: 1.4234119 (695)\ttotal: 47s\tremaining: 10m 22s\n",
      "800:\tlearn: 1.0037921\ttest: 1.0037921\ttest1: 1.4210071\tbest: 1.4210025 (797)\ttotal: 53.7s\tremaining: 10m 16s\n",
      "900:\tlearn: 1.0003782\ttest: 1.0003782\ttest1: 1.4199032\tbest: 1.4198395 (885)\ttotal: 1m\tremaining: 10m 10s\n",
      "1000:\tlearn: 0.9969698\ttest: 0.9969698\ttest1: 1.4182500\tbest: 1.4182500 (1000)\ttotal: 1m 7s\tremaining: 10m 4s\n",
      "1100:\tlearn: 0.9932394\ttest: 0.9932394\ttest1: 1.4165117\tbest: 1.4164789 (1099)\ttotal: 1m 13s\tremaining: 9m 57s\n",
      "1200:\tlearn: 0.9901070\ttest: 0.9901070\ttest1: 1.4157174\tbest: 1.4156804 (1194)\ttotal: 1m 20s\tremaining: 9m 51s\n",
      "1300:\tlearn: 0.9868414\ttest: 0.9868414\ttest1: 1.4142013\tbest: 1.4141610 (1292)\ttotal: 1m 27s\tremaining: 9m 45s\n",
      "1400:\tlearn: 0.9836383\ttest: 0.9836383\ttest1: 1.4135185\tbest: 1.4134409 (1392)\ttotal: 1m 34s\tremaining: 9m 38s\n",
      "1500:\tlearn: 0.9804986\ttest: 0.9804986\ttest1: 1.4109610\tbest: 1.4108716 (1490)\ttotal: 1m 41s\tremaining: 9m 32s\n"
     ]
    },
    {
     "name": "stderr",
     "output_type": "stream",
     "text": [
      "\u001b[32m[I 2021-07-30 17:17:39,015]\u001b[0m Trial 51 finished with value: -1.4090056414651098 and parameters: {'colsample_bylevel': 0.08338517523382982, 'depth': 4, 'boosting_type': 'Plain', 'bootstrap_type': 'MVS', 'l2_leaf_reg': 8.983345679802312, 'random_strength': 2.500900163679285}. Best is trial 32 with value: -1.4087500793852294.\u001b[0m\n"
     ]
    },
    {
     "name": "stdout",
     "output_type": "stream",
     "text": [
      "Stopped by overfitting detector  (100 iterations wait)\n",
      "\n",
      "bestTest = 1.410871639\n",
      "bestIteration = 1490\n",
      "\n",
      "Shrink model to first 1491 iterations.\n",
      "0:\tlearn: 1.3914192\ttest: 1.3914192\ttest1: 1.8860867\tbest: 1.8860867 (0)\ttotal: 75.9ms\tremaining: 12m 39s\n",
      "100:\tlearn: 1.0900656\ttest: 1.0900656\ttest1: 1.4878024\tbest: 1.4878024 (100)\ttotal: 6.84s\tremaining: 11m 10s\n",
      "200:\tlearn: 1.0537457\ttest: 1.0537457\ttest1: 1.4519126\tbest: 1.4519089 (199)\ttotal: 13.5s\tremaining: 10m 58s\n",
      "300:\tlearn: 1.0396960\ttest: 1.0396960\ttest1: 1.4405107\tbest: 1.4405107 (300)\ttotal: 20.2s\tremaining: 10m 50s\n",
      "400:\tlearn: 1.0291668\ttest: 1.0291668\ttest1: 1.4342861\tbest: 1.4342782 (398)\ttotal: 26.9s\tremaining: 10m 43s\n",
      "500:\tlearn: 1.0210825\ttest: 1.0210825\ttest1: 1.4312689\tbest: 1.4311720 (489)\ttotal: 33.6s\tremaining: 10m 36s\n",
      "600:\tlearn: 1.0169224\ttest: 1.0169224\ttest1: 1.4296899\tbest: 1.4295777 (593)\ttotal: 40.3s\tremaining: 10m 30s\n",
      "700:\tlearn: 1.0101785\ttest: 1.0101785\ttest1: 1.4264947\tbest: 1.4263338 (696)\ttotal: 47s\tremaining: 10m 23s\n",
      "800:\tlearn: 1.0052548\ttest: 1.0052548\ttest1: 1.4232694\tbest: 1.4232694 (800)\ttotal: 53.8s\tremaining: 10m 17s\n",
      "900:\tlearn: 0.9991049\ttest: 0.9991049\ttest1: 1.4209541\tbest: 1.4208813 (893)\ttotal: 1m\tremaining: 10m 10s\n",
      "1000:\tlearn: 0.9943897\ttest: 0.9943897\ttest1: 1.4197255\tbest: 1.4196912 (995)\ttotal: 1m 7s\tremaining: 10m 4s\n",
      "1100:\tlearn: 0.9912256\ttest: 0.9912256\ttest1: 1.4190937\tbest: 1.4190922 (1097)\ttotal: 1m 14s\tremaining: 9m 58s\n",
      "1200:\tlearn: 0.9873155\ttest: 0.9873155\ttest1: 1.4176747\tbest: 1.4176747 (1200)\ttotal: 1m 20s\tremaining: 9m 51s\n",
      "1300:\tlearn: 0.9840646\ttest: 0.9840646\ttest1: 1.4162493\tbest: 1.4162493 (1300)\ttotal: 1m 27s\tremaining: 9m 45s\n",
      "1400:\tlearn: 0.9812981\ttest: 0.9812981\ttest1: 1.4148870\tbest: 1.4148308 (1399)\ttotal: 1m 34s\tremaining: 9m 38s\n",
      "1500:\tlearn: 0.9769910\ttest: 0.9769910\ttest1: 1.4140196\tbest: 1.4139596 (1498)\ttotal: 1m 41s\tremaining: 9m 32s\n",
      "1600:\tlearn: 0.9737160\ttest: 0.9737160\ttest1: 1.4123654\tbest: 1.4123473 (1598)\ttotal: 1m 47s\tremaining: 9m 25s\n",
      "1700:\tlearn: 0.9716462\ttest: 0.9716462\ttest1: 1.4126402\tbest: 1.4122176 (1612)\ttotal: 1m 54s\tremaining: 9m 18s\n"
     ]
    },
    {
     "name": "stderr",
     "output_type": "stream",
     "text": [
      "\u001b[32m[I 2021-07-30 17:19:35,078]\u001b[0m Trial 52 finished with value: -1.410412352670963 and parameters: {'colsample_bylevel': 0.0837815568463842, 'depth': 4, 'boosting_type': 'Plain', 'bootstrap_type': 'MVS', 'l2_leaf_reg': 10.968246513191541, 'random_strength': 1.1244006797438777}. Best is trial 32 with value: -1.4087500793852294.\u001b[0m\n"
     ]
    },
    {
     "name": "stdout",
     "output_type": "stream",
     "text": [
      "Stopped by overfitting detector  (100 iterations wait)\n",
      "\n",
      "bestTest = 1.412217571\n",
      "bestIteration = 1612\n",
      "\n",
      "Shrink model to first 1613 iterations.\n",
      "0:\tlearn: 1.3887025\ttest: 1.3887025\ttest1: 1.8845987\tbest: 1.8845987 (0)\ttotal: 84.4ms\tremaining: 14m 3s\n",
      "100:\tlearn: 1.0825550\ttest: 1.0825550\ttest1: 1.4739905\tbest: 1.4739905 (100)\ttotal: 6.94s\tremaining: 11m 20s\n",
      "200:\tlearn: 1.0517443\ttest: 1.0517443\ttest1: 1.4489735\tbest: 1.4489508 (198)\ttotal: 13.6s\tremaining: 11m 2s\n",
      "300:\tlearn: 1.0350903\ttest: 1.0350903\ttest1: 1.4389909\tbest: 1.4389363 (298)\ttotal: 20.3s\tremaining: 10m 53s\n",
      "400:\tlearn: 1.0260870\ttest: 1.0260870\ttest1: 1.4339274\tbest: 1.4339274 (400)\ttotal: 27s\tremaining: 10m 46s\n",
      "500:\tlearn: 1.0190481\ttest: 1.0190481\ttest1: 1.4297486\tbest: 1.4293551 (487)\ttotal: 33.8s\tremaining: 10m 40s\n",
      "600:\tlearn: 1.0121120\ttest: 1.0121120\ttest1: 1.4264626\tbest: 1.4263885 (596)\ttotal: 40.5s\tremaining: 10m 33s\n",
      "700:\tlearn: 1.0050140\ttest: 1.0050140\ttest1: 1.4236338\tbest: 1.4236338 (700)\ttotal: 47.3s\tremaining: 10m 27s\n",
      "800:\tlearn: 1.0004669\ttest: 1.0004669\ttest1: 1.4217381\tbest: 1.4217381 (800)\ttotal: 54s\tremaining: 10m 20s\n",
      "900:\tlearn: 0.9958859\ttest: 0.9958859\ttest1: 1.4208059\tbest: 1.4207895 (899)\ttotal: 1m\tremaining: 10m 14s\n",
      "1000:\tlearn: 0.9918509\ttest: 0.9918509\ttest1: 1.4194252\tbest: 1.4193745 (995)\ttotal: 1m 7s\tremaining: 10m 7s\n",
      "1100:\tlearn: 0.9878226\ttest: 0.9878226\ttest1: 1.4182057\tbest: 1.4181498 (1098)\ttotal: 1m 14s\tremaining: 10m 1s\n",
      "1200:\tlearn: 0.9847206\ttest: 0.9847206\ttest1: 1.4163413\tbest: 1.4163413 (1200)\ttotal: 1m 21s\tremaining: 9m 55s\n",
      "1300:\tlearn: 0.9816958\ttest: 0.9816958\ttest1: 1.4150136\tbest: 1.4150136 (1300)\ttotal: 1m 28s\tremaining: 9m 48s\n",
      "1400:\tlearn: 0.9793621\ttest: 0.9793621\ttest1: 1.4148529\tbest: 1.4148081 (1393)\ttotal: 1m 34s\tremaining: 9m 41s\n",
      "1500:\tlearn: 0.9769941\ttest: 0.9769941\ttest1: 1.4149966\tbest: 1.4147941 (1489)\ttotal: 1m 41s\tremaining: 9m 35s\n",
      "1600:\tlearn: 0.9743839\ttest: 0.9743839\ttest1: 1.4128144\tbest: 1.4128144 (1600)\ttotal: 1m 48s\tremaining: 9m 28s\n",
      "1700:\tlearn: 0.9723022\ttest: 0.9723022\ttest1: 1.4119828\tbest: 1.4118097 (1691)\ttotal: 1m 55s\tremaining: 9m 21s\n",
      "1800:\tlearn: 0.9702234\ttest: 0.9702234\ttest1: 1.4114221\tbest: 1.4113971 (1796)\ttotal: 2m 1s\tremaining: 9m 15s\n",
      "1900:\tlearn: 0.9671999\ttest: 0.9671999\ttest1: 1.4104332\tbest: 1.4104076 (1897)\ttotal: 2m 8s\tremaining: 9m 8s\n",
      "2000:\tlearn: 0.9653274\ttest: 0.9653274\ttest1: 1.4099037\tbest: 1.4099000 (1999)\ttotal: 2m 15s\tremaining: 9m 1s\n",
      "2100:\tlearn: 0.9633570\ttest: 0.9633570\ttest1: 1.4093609\tbest: 1.4093532 (2091)\ttotal: 2m 22s\tremaining: 8m 54s\n",
      "2200:\tlearn: 0.9617310\ttest: 0.9617310\ttest1: 1.4086690\tbest: 1.4084683 (2174)\ttotal: 2m 29s\tremaining: 8m 48s\n"
     ]
    },
    {
     "name": "stderr",
     "output_type": "stream",
     "text": [
      "\u001b[32m[I 2021-07-30 17:22:09,934]\u001b[0m Trial 53 finished with value: -1.405837558943491 and parameters: {'colsample_bylevel': 0.08298121144403207, 'depth': 4, 'boosting_type': 'Plain', 'bootstrap_type': 'MVS', 'l2_leaf_reg': 17.053313108562428, 'random_strength': 0.22779915629252523}. Best is trial 53 with value: -1.405837558943491.\u001b[0m\n"
     ]
    },
    {
     "name": "stdout",
     "output_type": "stream",
     "text": [
      "Stopped by overfitting detector  (100 iterations wait)\n",
      "\n",
      "bestTest = 1.408468345\n",
      "bestIteration = 2174\n",
      "\n",
      "Shrink model to first 2175 iterations.\n",
      "0:\tlearn: 1.3910463\ttest: 1.3910463\ttest1: 1.8879587\tbest: 1.8879587 (0)\ttotal: 84.8ms\tremaining: 14m 7s\n",
      "100:\tlearn: 1.0890771\ttest: 1.0890771\ttest1: 1.4835452\tbest: 1.4835443 (99)\ttotal: 6.99s\tremaining: 11m 25s\n",
      "200:\tlearn: 1.0543018\ttest: 1.0543018\ttest1: 1.4491106\tbest: 1.4486361 (197)\ttotal: 13.7s\tremaining: 11m 6s\n",
      "300:\tlearn: 1.0363934\ttest: 1.0363934\ttest1: 1.4373247\tbest: 1.4370154 (284)\ttotal: 20.4s\tremaining: 10m 57s\n",
      "400:\tlearn: 1.0261213\ttest: 1.0261213\ttest1: 1.4311322\tbest: 1.4311322 (400)\ttotal: 27s\tremaining: 10m 47s\n",
      "500:\tlearn: 1.0182699\ttest: 1.0182699\ttest1: 1.4279556\tbest: 1.4279163 (499)\ttotal: 33.8s\tremaining: 10m 40s\n",
      "600:\tlearn: 1.0142962\ttest: 1.0142962\ttest1: 1.4275407\tbest: 1.4273178 (572)\ttotal: 40.6s\tremaining: 10m 34s\n",
      "700:\tlearn: 1.0085584\ttest: 1.0085584\ttest1: 1.4242952\tbest: 1.4241787 (697)\ttotal: 47.4s\tremaining: 10m 28s\n",
      "800:\tlearn: 1.0026590\ttest: 1.0026590\ttest1: 1.4206418\tbest: 1.4206353 (793)\ttotal: 54.2s\tremaining: 10m 21s\n",
      "900:\tlearn: 0.9969553\ttest: 0.9969553\ttest1: 1.4185238\tbest: 1.4185229 (899)\ttotal: 1m\tremaining: 10m 15s\n",
      "1000:\tlearn: 0.9933881\ttest: 0.9933881\ttest1: 1.4176650\tbest: 1.4176064 (979)\ttotal: 1m 7s\tremaining: 10m 9s\n",
      "1100:\tlearn: 0.9899052\ttest: 0.9899052\ttest1: 1.4152698\tbest: 1.4152698 (1100)\ttotal: 1m 14s\tremaining: 10m 2s\n",
      "1200:\tlearn: 0.9862935\ttest: 0.9862935\ttest1: 1.4131507\tbest: 1.4129622 (1182)\ttotal: 1m 21s\tremaining: 9m 56s\n",
      "1300:\tlearn: 0.9838742\ttest: 0.9838742\ttest1: 1.4120405\tbest: 1.4118547 (1283)\ttotal: 1m 28s\tremaining: 9m 50s\n",
      "1400:\tlearn: 0.9804101\ttest: 0.9804101\ttest1: 1.4108736\tbest: 1.4108488 (1397)\ttotal: 1m 35s\tremaining: 9m 43s\n",
      "1500:\tlearn: 0.9774499\ttest: 0.9774499\ttest1: 1.4102557\tbest: 1.4102290 (1497)\ttotal: 1m 41s\tremaining: 9m 36s\n",
      "1600:\tlearn: 0.9745912\ttest: 0.9745912\ttest1: 1.4111448\tbest: 1.4098155 (1533)\ttotal: 1m 48s\tremaining: 9m 30s\n"
     ]
    },
    {
     "name": "stderr",
     "output_type": "stream",
     "text": [
      "\u001b[32m[I 2021-07-30 17:24:01,528]\u001b[0m Trial 54 finished with value: -1.4069735945482906 and parameters: {'colsample_bylevel': 0.08830976331058189, 'depth': 4, 'boosting_type': 'Plain', 'bootstrap_type': 'MVS', 'l2_leaf_reg': 18.813250194701048, 'random_strength': 0.11716777608498502}. Best is trial 53 with value: -1.405837558943491.\u001b[0m\n"
     ]
    },
    {
     "name": "stdout",
     "output_type": "stream",
     "text": [
      "Stopped by overfitting detector  (100 iterations wait)\n",
      "\n",
      "bestTest = 1.40981555\n",
      "bestIteration = 1533\n",
      "\n",
      "Shrink model to first 1534 iterations.\n",
      "0:\tlearn: 1.3853160\ttest: 1.3853160\ttest1: 1.8802023\tbest: 1.8802023 (0)\ttotal: 80.1ms\tremaining: 13m 21s\n",
      "100:\tlearn: 1.0849746\ttest: 1.0849746\ttest1: 1.4791754\tbest: 1.4791754 (100)\ttotal: 6.93s\tremaining: 11m 19s\n",
      "200:\tlearn: 1.0521470\ttest: 1.0521470\ttest1: 1.4477157\tbest: 1.4477157 (200)\ttotal: 13.6s\tremaining: 11m 3s\n",
      "300:\tlearn: 1.0373374\ttest: 1.0373374\ttest1: 1.4361553\tbest: 1.4361553 (300)\ttotal: 20.3s\tremaining: 10m 54s\n",
      "400:\tlearn: 1.0260017\ttest: 1.0260017\ttest1: 1.4310015\tbest: 1.4309616 (390)\ttotal: 27s\tremaining: 10m 46s\n",
      "500:\tlearn: 1.0202007\ttest: 1.0202007\ttest1: 1.4286824\tbest: 1.4285677 (497)\ttotal: 33.8s\tremaining: 10m 40s\n",
      "600:\tlearn: 1.0142111\ttest: 1.0142111\ttest1: 1.4250805\tbest: 1.4250805 (600)\ttotal: 40.6s\tremaining: 10m 34s\n",
      "700:\tlearn: 1.0075279\ttest: 1.0075279\ttest1: 1.4225339\tbest: 1.4225246 (696)\ttotal: 47.4s\tremaining: 10m 28s\n",
      "800:\tlearn: 1.0033787\ttest: 1.0033787\ttest1: 1.4199396\tbest: 1.4199396 (800)\ttotal: 54.2s\tremaining: 10m 22s\n",
      "900:\tlearn: 0.9968427\ttest: 0.9968427\ttest1: 1.4198069\tbest: 1.4186842 (867)\ttotal: 1m\tremaining: 10m 15s\n"
     ]
    },
    {
     "name": "stderr",
     "output_type": "stream",
     "text": [
      "\u001b[32m[I 2021-07-30 17:25:07,663]\u001b[0m Trial 55 finished with value: -1.4173961641913402 and parameters: {'colsample_bylevel': 0.09011330934614475, 'depth': 4, 'boosting_type': 'Plain', 'bootstrap_type': 'MVS', 'l2_leaf_reg': 19.526098275672123, 'random_strength': 0.13116474760835198}. Best is trial 53 with value: -1.405837558943491.\u001b[0m\n"
     ]
    },
    {
     "name": "stdout",
     "output_type": "stream",
     "text": [
      "Stopped by overfitting detector  (100 iterations wait)\n",
      "\n",
      "bestTest = 1.418684223\n",
      "bestIteration = 867\n",
      "\n",
      "Shrink model to first 868 iterations.\n",
      "0:\tlearn: 1.3888259\ttest: 1.3888259\ttest1: 1.8852603\tbest: 1.8852603 (0)\ttotal: 84.2ms\tremaining: 14m 1s\n",
      "100:\tlearn: 1.0919562\ttest: 1.0919562\ttest1: 1.4866454\tbest: 1.4866454 (100)\ttotal: 6.84s\tremaining: 11m 10s\n",
      "200:\tlearn: 1.0570610\ttest: 1.0570610\ttest1: 1.4535129\tbest: 1.4534136 (196)\ttotal: 13.5s\tremaining: 10m 58s\n",
      "300:\tlearn: 1.0434031\ttest: 1.0434031\ttest1: 1.4458849\tbest: 1.4458849 (300)\ttotal: 20.2s\tremaining: 10m 50s\n",
      "400:\tlearn: 1.0313601\ttest: 1.0313601\ttest1: 1.4390564\tbest: 1.4390143 (398)\ttotal: 26.8s\tremaining: 10m 42s\n",
      "500:\tlearn: 1.0250277\ttest: 1.0250277\ttest1: 1.4355433\tbest: 1.4355433 (500)\ttotal: 33.5s\tremaining: 10m 35s\n",
      "600:\tlearn: 1.0186058\ttest: 1.0186058\ttest1: 1.4333869\tbest: 1.4333249 (597)\ttotal: 40.3s\tremaining: 10m 29s\n",
      "700:\tlearn: 1.0124762\ttest: 1.0124762\ttest1: 1.4324103\tbest: 1.4323952 (699)\ttotal: 47s\tremaining: 10m 23s\n",
      "800:\tlearn: 1.0069969\ttest: 1.0069969\ttest1: 1.4293584\tbest: 1.4293584 (800)\ttotal: 53.7s\tremaining: 10m 17s\n",
      "900:\tlearn: 1.0008759\ttest: 1.0008759\ttest1: 1.4262436\tbest: 1.4262325 (899)\ttotal: 1m\tremaining: 10m 10s\n",
      "1000:\tlearn: 0.9975747\ttest: 0.9975747\ttest1: 1.4248470\tbest: 1.4248470 (1000)\ttotal: 1m 7s\tremaining: 10m 4s\n",
      "1100:\tlearn: 0.9938912\ttest: 0.9938912\ttest1: 1.4233280\tbest: 1.4230892 (1089)\ttotal: 1m 14s\tremaining: 9m 58s\n",
      "1200:\tlearn: 0.9899417\ttest: 0.9899417\ttest1: 1.4221445\tbest: 1.4221431 (1199)\ttotal: 1m 20s\tremaining: 9m 52s\n",
      "1300:\tlearn: 0.9865113\ttest: 0.9865113\ttest1: 1.4202548\tbest: 1.4202519 (1299)\ttotal: 1m 27s\tremaining: 9m 45s\n",
      "1400:\tlearn: 0.9823316\ttest: 0.9823316\ttest1: 1.4194809\tbest: 1.4194161 (1370)\ttotal: 1m 34s\tremaining: 9m 39s\n",
      "1500:\tlearn: 0.9791818\ttest: 0.9791818\ttest1: 1.4199112\tbest: 1.4192844 (1464)\ttotal: 1m 41s\tremaining: 9m 32s\n"
     ]
    },
    {
     "name": "stderr",
     "output_type": "stream",
     "text": [
      "\u001b[32m[I 2021-07-30 17:26:53,847]\u001b[0m Trial 56 finished with value: -1.418071511185304 and parameters: {'colsample_bylevel': 0.08264606697871318, 'depth': 4, 'boosting_type': 'Plain', 'bootstrap_type': 'MVS', 'l2_leaf_reg': 17.42997744415194, 'random_strength': 0.48235155009992436}. Best is trial 53 with value: -1.405837558943491.\u001b[0m\n"
     ]
    },
    {
     "name": "stdout",
     "output_type": "stream",
     "text": [
      "Stopped by overfitting detector  (100 iterations wait)\n",
      "\n",
      "bestTest = 1.419284397\n",
      "bestIteration = 1464\n",
      "\n",
      "Shrink model to first 1465 iterations.\n",
      "0:\tlearn: 1.3910895\ttest: 1.3910895\ttest1: 1.8902172\tbest: 1.8902172 (0)\ttotal: 80ms\tremaining: 13m 19s\n",
      "100:\tlearn: 1.0861330\ttest: 1.0861330\ttest1: 1.4750277\tbest: 1.4750277 (100)\ttotal: 7.05s\tremaining: 11m 31s\n",
      "200:\tlearn: 1.0544185\ttest: 1.0544185\ttest1: 1.4501634\tbest: 1.4501634 (200)\ttotal: 13.8s\tremaining: 11m 12s\n",
      "300:\tlearn: 1.0386455\ttest: 1.0386455\ttest1: 1.4383721\tbest: 1.4383714 (299)\ttotal: 20.6s\tremaining: 11m 2s\n",
      "400:\tlearn: 1.0277226\ttest: 1.0277226\ttest1: 1.4315546\tbest: 1.4315334 (389)\ttotal: 27.3s\tremaining: 10m 54s\n",
      "500:\tlearn: 1.0207448\ttest: 1.0207448\ttest1: 1.4276889\tbest: 1.4275143 (491)\ttotal: 34.1s\tremaining: 10m 47s\n",
      "600:\tlearn: 1.0141047\ttest: 1.0141047\ttest1: 1.4251055\tbest: 1.4250976 (598)\ttotal: 41s\tremaining: 10m 40s\n",
      "700:\tlearn: 1.0072014\ttest: 1.0072014\ttest1: 1.4233807\tbest: 1.4233807 (700)\ttotal: 47.8s\tremaining: 10m 33s\n",
      "800:\tlearn: 1.0020357\ttest: 1.0020357\ttest1: 1.4218548\tbest: 1.4218548 (800)\ttotal: 54.6s\tremaining: 10m 27s\n",
      "900:\tlearn: 0.9978584\ttest: 0.9978584\ttest1: 1.4193634\tbest: 1.4193634 (900)\ttotal: 1m 1s\tremaining: 10m 20s\n",
      "1000:\tlearn: 0.9932485\ttest: 0.9932485\ttest1: 1.4172076\tbest: 1.4171289 (999)\ttotal: 1m 8s\tremaining: 10m 14s\n",
      "1100:\tlearn: 0.9900205\ttest: 0.9900205\ttest1: 1.4164192\tbest: 1.4163428 (1097)\ttotal: 1m 15s\tremaining: 10m 8s\n",
      "1200:\tlearn: 0.9863621\ttest: 0.9863621\ttest1: 1.4167413\tbest: 1.4157159 (1155)\ttotal: 1m 22s\tremaining: 10m 1s\n"
     ]
    },
    {
     "name": "stderr",
     "output_type": "stream",
     "text": [
      "\u001b[32m[I 2021-07-30 17:28:20,332]\u001b[0m Trial 57 finished with value: -1.4137209979164207 and parameters: {'colsample_bylevel': 0.0947135929935098, 'depth': 4, 'boosting_type': 'Plain', 'bootstrap_type': 'MVS', 'l2_leaf_reg': 19.094286550829647, 'random_strength': 1.4793098166499274}. Best is trial 53 with value: -1.405837558943491.\u001b[0m\n"
     ]
    },
    {
     "name": "stdout",
     "output_type": "stream",
     "text": [
      "Stopped by overfitting detector  (100 iterations wait)\n",
      "\n",
      "bestTest = 1.41571588\n",
      "bestIteration = 1155\n",
      "\n",
      "Shrink model to first 1156 iterations.\n",
      "0:\tlearn: 1.3834552\ttest: 1.3834552\ttest1: 1.8767341\tbest: 1.8767341 (0)\ttotal: 89.1ms\tremaining: 14m 50s\n",
      "100:\tlearn: 1.0740673\ttest: 1.0740673\ttest1: 1.4785545\tbest: 1.4785545 (100)\ttotal: 7.25s\tremaining: 11m 50s\n",
      "200:\tlearn: 1.0395546\ttest: 1.0395546\ttest1: 1.4495867\tbest: 1.4494411 (192)\ttotal: 14.2s\tremaining: 11m 32s\n",
      "300:\tlearn: 1.0241459\ttest: 1.0241459\ttest1: 1.4410780\tbest: 1.4410780 (300)\ttotal: 21.2s\tremaining: 11m 22s\n",
      "400:\tlearn: 1.0128609\ttest: 1.0128609\ttest1: 1.4329346\tbest: 1.4329346 (400)\ttotal: 28.2s\tremaining: 11m 15s\n",
      "500:\tlearn: 1.0039543\ttest: 1.0039543\ttest1: 1.4307128\tbest: 1.4304743 (498)\ttotal: 35.3s\tremaining: 11m 8s\n",
      "600:\tlearn: 0.9962882\ttest: 0.9962882\ttest1: 1.4284441\tbest: 1.4284441 (600)\ttotal: 42.3s\tremaining: 11m 2s\n",
      "700:\tlearn: 0.9896970\ttest: 0.9896970\ttest1: 1.4275461\tbest: 1.4270541 (653)\ttotal: 49.4s\tremaining: 10m 55s\n",
      "800:\tlearn: 0.9822660\ttest: 0.9822660\ttest1: 1.4231329\tbest: 1.4227080 (795)\ttotal: 56.5s\tremaining: 10m 49s\n",
      "900:\tlearn: 0.9758173\ttest: 0.9758173\ttest1: 1.4210811\tbest: 1.4210616 (899)\ttotal: 1m 3s\tremaining: 10m 42s\n",
      "1000:\tlearn: 0.9707397\ttest: 0.9707397\ttest1: 1.4219668\tbest: 1.4210420 (909)\ttotal: 1m 10s\tremaining: 10m 35s\n"
     ]
    },
    {
     "name": "stderr",
     "output_type": "stream",
     "text": [
      "\u001b[32m[I 2021-07-30 17:29:32,269]\u001b[0m Trial 58 finished with value: -1.4194406128888037 and parameters: {'colsample_bylevel': 0.0774616111469126, 'depth': 5, 'boosting_type': 'Plain', 'bootstrap_type': 'MVS', 'l2_leaf_reg': 16.781145722333513, 'random_strength': 2.5082770073668965}. Best is trial 53 with value: -1.405837558943491.\u001b[0m\n"
     ]
    },
    {
     "name": "stdout",
     "output_type": "stream",
     "text": [
      "Stopped by overfitting detector  (100 iterations wait)\n",
      "\n",
      "bestTest = 1.421042047\n",
      "bestIteration = 909\n",
      "\n",
      "Shrink model to first 910 iterations.\n",
      "0:\tlearn: 1.3910481\ttest: 1.3910481\ttest1: 1.8879758\tbest: 1.8879758 (0)\ttotal: 86.9ms\tremaining: 14m 29s\n",
      "100:\tlearn: 1.0849994\ttest: 1.0849994\ttest1: 1.4789494\tbest: 1.4789494 (100)\ttotal: 7.03s\tremaining: 11m 29s\n",
      "200:\tlearn: 1.0555433\ttest: 1.0555433\ttest1: 1.4501719\tbest: 1.4501719 (200)\ttotal: 13.7s\tremaining: 11m 9s\n",
      "300:\tlearn: 1.0419964\ttest: 1.0419964\ttest1: 1.4421074\tbest: 1.4421074 (300)\ttotal: 20.5s\tremaining: 10m 59s\n",
      "400:\tlearn: 1.0308838\ttest: 1.0308838\ttest1: 1.4365662\tbest: 1.4365112 (394)\ttotal: 27.2s\tremaining: 10m 51s\n",
      "500:\tlearn: 1.0210833\ttest: 1.0210833\ttest1: 1.4288579\tbest: 1.4288440 (497)\ttotal: 34s\tremaining: 10m 44s\n",
      "600:\tlearn: 1.0158411\ttest: 1.0158411\ttest1: 1.4271111\tbest: 1.4267036 (568)\ttotal: 40.8s\tremaining: 10m 37s\n",
      "700:\tlearn: 1.0106581\ttest: 1.0106581\ttest1: 1.4242116\tbest: 1.4242111 (699)\ttotal: 47.6s\tremaining: 10m 30s\n",
      "800:\tlearn: 1.0052246\ttest: 1.0052246\ttest1: 1.4234805\tbest: 1.4233188 (781)\ttotal: 54.3s\tremaining: 10m 24s\n",
      "900:\tlearn: 1.0001030\ttest: 1.0001030\ttest1: 1.4202055\tbest: 1.4202055 (900)\ttotal: 1m 1s\tremaining: 10m 17s\n",
      "1000:\tlearn: 0.9968234\ttest: 0.9968234\ttest1: 1.4186731\tbest: 1.4186731 (1000)\ttotal: 1m 7s\tremaining: 10m 10s\n",
      "1100:\tlearn: 0.9925758\ttest: 0.9925758\ttest1: 1.4163833\tbest: 1.4162826 (1098)\ttotal: 1m 14s\tremaining: 10m 4s\n",
      "1200:\tlearn: 0.9885352\ttest: 0.9885352\ttest1: 1.4142977\tbest: 1.4142636 (1193)\ttotal: 1m 21s\tremaining: 9m 57s\n",
      "1300:\tlearn: 0.9848382\ttest: 0.9848382\ttest1: 1.4133587\tbest: 1.4131102 (1267)\ttotal: 1m 28s\tremaining: 9m 50s\n",
      "1400:\tlearn: 0.9817309\ttest: 0.9817309\ttest1: 1.4124151\tbest: 1.4124151 (1400)\ttotal: 1m 35s\tremaining: 9m 44s\n",
      "1500:\tlearn: 0.9781913\ttest: 0.9781913\ttest1: 1.4120760\tbest: 1.4119640 (1451)\ttotal: 1m 41s\tremaining: 9m 37s\n",
      "1600:\tlearn: 0.9754146\ttest: 0.9754146\ttest1: 1.4115014\tbest: 1.4114816 (1598)\ttotal: 1m 48s\tremaining: 9m 30s\n",
      "1700:\tlearn: 0.9721839\ttest: 0.9721839\ttest1: 1.4106436\tbest: 1.4106338 (1698)\ttotal: 1m 55s\tremaining: 9m 23s\n",
      "1800:\tlearn: 0.9696041\ttest: 0.9696041\ttest1: 1.4104834\tbest: 1.4104431 (1789)\ttotal: 2m 2s\tremaining: 9m 16s\n",
      "1900:\tlearn: 0.9671505\ttest: 0.9671505\ttest1: 1.4105055\tbest: 1.4102643 (1840)\ttotal: 2m 9s\tremaining: 9m 10s\n",
      "2000:\tlearn: 0.9646081\ttest: 0.9646081\ttest1: 1.4094891\tbest: 1.4090319 (1976)\ttotal: 2m 15s\tremaining: 9m 3s\n"
     ]
    },
    {
     "name": "stderr",
     "output_type": "stream",
     "text": [
      "\u001b[32m[I 2021-07-30 17:31:54,125]\u001b[0m Trial 59 finished with value: -1.406340200522565 and parameters: {'colsample_bylevel': 0.08893025008196567, 'depth': 4, 'boosting_type': 'Plain', 'bootstrap_type': 'MVS', 'l2_leaf_reg': 18.166483481426162, 'random_strength': 0.36842158764715555}. Best is trial 53 with value: -1.405837558943491.\u001b[0m\n"
     ]
    },
    {
     "name": "stdout",
     "output_type": "stream",
     "text": [
      "Stopped by overfitting detector  (100 iterations wait)\n",
      "\n",
      "bestTest = 1.409031945\n",
      "bestIteration = 1976\n",
      "\n",
      "Shrink model to first 1977 iterations.\n",
      "0:\tlearn: 1.3910481\ttest: 1.3910481\ttest1: 1.8879758\tbest: 1.8879758 (0)\ttotal: 86.1ms\tremaining: 14m 21s\n",
      "100:\tlearn: 1.0958414\ttest: 1.0958414\ttest1: 1.4927792\tbest: 1.4927792 (100)\ttotal: 7.07s\tremaining: 11m 32s\n",
      "200:\tlearn: 1.0593892\ttest: 1.0593892\ttest1: 1.4544667\tbest: 1.4544562 (194)\ttotal: 13.8s\tremaining: 11m 12s\n",
      "300:\tlearn: 1.0410831\ttest: 1.0410831\ttest1: 1.4400744\tbest: 1.4397222 (286)\ttotal: 20.5s\tremaining: 11m 1s\n",
      "400:\tlearn: 1.0311775\ttest: 1.0311775\ttest1: 1.4360821\tbest: 1.4360815 (399)\ttotal: 27.2s\tremaining: 10m 50s\n",
      "500:\tlearn: 1.0221139\ttest: 1.0221139\ttest1: 1.4315709\tbest: 1.4314717 (497)\ttotal: 33.9s\tremaining: 10m 41s\n",
      "600:\tlearn: 1.0143792\ttest: 1.0143792\ttest1: 1.4282004\tbest: 1.4281818 (599)\ttotal: 40.6s\tremaining: 10m 35s\n",
      "700:\tlearn: 1.0081730\ttest: 1.0081730\ttest1: 1.4254817\tbest: 1.4254817 (700)\ttotal: 47.4s\tremaining: 10m 28s\n",
      "800:\tlearn: 1.0045057\ttest: 1.0045057\ttest1: 1.4251372\tbest: 1.4249783 (758)\ttotal: 54.2s\tremaining: 10m 22s\n",
      "900:\tlearn: 1.0006670\ttest: 1.0006670\ttest1: 1.4235476\tbest: 1.4232796 (871)\ttotal: 1m\tremaining: 10m 15s\n",
      "1000:\tlearn: 0.9969731\ttest: 0.9969731\ttest1: 1.4222617\tbest: 1.4221831 (971)\ttotal: 1m 7s\tremaining: 10m 9s\n",
      "1100:\tlearn: 0.9923354\ttest: 0.9923354\ttest1: 1.4206845\tbest: 1.4205881 (1099)\ttotal: 1m 14s\tremaining: 10m 2s\n",
      "1200:\tlearn: 0.9890039\ttest: 0.9890039\ttest1: 1.4194339\tbest: 1.4193457 (1193)\ttotal: 1m 21s\tremaining: 9m 56s\n",
      "1300:\tlearn: 0.9858232\ttest: 0.9858232\ttest1: 1.4184200\tbest: 1.4183216 (1293)\ttotal: 1m 28s\tremaining: 9m 49s\n",
      "1400:\tlearn: 0.9833967\ttest: 0.9833967\ttest1: 1.4180076\tbest: 1.4179044 (1396)\ttotal: 1m 35s\tremaining: 9m 43s\n",
      "1500:\tlearn: 0.9806534\ttest: 0.9806534\ttest1: 1.4169688\tbest: 1.4169408 (1496)\ttotal: 1m 41s\tremaining: 9m 36s\n",
      "1600:\tlearn: 0.9779840\ttest: 0.9779840\ttest1: 1.4155497\tbest: 1.4155477 (1598)\ttotal: 1m 48s\tremaining: 9m 30s\n",
      "1700:\tlearn: 0.9754407\ttest: 0.9754407\ttest1: 1.4154223\tbest: 1.4153197 (1650)\ttotal: 1m 55s\tremaining: 9m 23s\n",
      "1800:\tlearn: 0.9733994\ttest: 0.9733994\ttest1: 1.4151577\tbest: 1.4150962 (1758)\ttotal: 2m 2s\tremaining: 9m 16s\n",
      "1900:\tlearn: 0.9701829\ttest: 0.9701829\ttest1: 1.4141714\tbest: 1.4140650 (1895)\ttotal: 2m 9s\tremaining: 9m 10s\n",
      "2000:\tlearn: 0.9673153\ttest: 0.9673153\ttest1: 1.4128401\tbest: 1.4127855 (1995)\ttotal: 2m 16s\tremaining: 9m 3s\n",
      "2100:\tlearn: 0.9648106\ttest: 0.9648106\ttest1: 1.4124556\tbest: 1.4123662 (2040)\ttotal: 2m 22s\tremaining: 8m 57s\n",
      "2200:\tlearn: 0.9627801\ttest: 0.9627801\ttest1: 1.4122952\tbest: 1.4119496 (2179)\ttotal: 2m 29s\tremaining: 8m 50s\n"
     ]
    },
    {
     "name": "stderr",
     "output_type": "stream",
     "text": [
      "\u001b[32m[I 2021-07-30 17:34:29,935]\u001b[0m Trial 60 finished with value: -1.4091574094705521 and parameters: {'colsample_bylevel': 0.08896530195683953, 'depth': 4, 'boosting_type': 'Plain', 'bootstrap_type': 'MVS', 'l2_leaf_reg': 18.527395303768966, 'random_strength': 0.5904632939645347}. Best is trial 53 with value: -1.405837558943491.\u001b[0m\n"
     ]
    },
    {
     "name": "stdout",
     "output_type": "stream",
     "text": [
      "Stopped by overfitting detector  (100 iterations wait)\n",
      "\n",
      "bestTest = 1.411949586\n",
      "bestIteration = 2179\n",
      "\n",
      "Shrink model to first 2180 iterations.\n",
      "0:\tlearn: 1.3832674\ttest: 1.3832674\ttest1: 1.8787368\tbest: 1.8787368 (0)\ttotal: 89.5ms\tremaining: 14m 54s\n",
      "100:\tlearn: 1.0855534\ttest: 1.0855534\ttest1: 1.4833631\tbest: 1.4832867 (99)\ttotal: 7s\tremaining: 11m 26s\n",
      "200:\tlearn: 1.0523041\ttest: 1.0523041\ttest1: 1.4512095\tbest: 1.4512095 (200)\ttotal: 13.7s\tremaining: 11m 5s\n",
      "300:\tlearn: 1.0353778\ttest: 1.0353778\ttest1: 1.4417922\tbest: 1.4414154 (294)\ttotal: 20.3s\tremaining: 10m 55s\n",
      "400:\tlearn: 1.0250742\ttest: 1.0250742\ttest1: 1.4361940\tbest: 1.4361296 (394)\ttotal: 27.1s\tremaining: 10m 47s\n",
      "500:\tlearn: 1.0194558\ttest: 1.0194558\ttest1: 1.4325284\tbest: 1.4325278 (499)\ttotal: 33.8s\tremaining: 10m 41s\n",
      "600:\tlearn: 1.0114155\ttest: 1.0114155\ttest1: 1.4281321\tbest: 1.4278890 (591)\ttotal: 40.6s\tremaining: 10m 35s\n",
      "700:\tlearn: 1.0050608\ttest: 1.0050608\ttest1: 1.4256864\tbest: 1.4256708 (698)\ttotal: 47.4s\tremaining: 10m 29s\n",
      "800:\tlearn: 1.0009992\ttest: 1.0009992\ttest1: 1.4229364\tbest: 1.4228605 (784)\ttotal: 54.3s\tremaining: 10m 23s\n",
      "900:\tlearn: 0.9969830\ttest: 0.9969830\ttest1: 1.4214816\tbest: 1.4213884 (896)\ttotal: 1m 1s\tremaining: 10m 16s\n",
      "1000:\tlearn: 0.9936048\ttest: 0.9936048\ttest1: 1.4206429\tbest: 1.4206429 (1000)\ttotal: 1m 7s\tremaining: 10m 9s\n",
      "1100:\tlearn: 0.9900968\ttest: 0.9900968\ttest1: 1.4184284\tbest: 1.4184164 (1098)\ttotal: 1m 14s\tremaining: 10m 3s\n",
      "1200:\tlearn: 0.9863371\ttest: 0.9863371\ttest1: 1.4178519\tbest: 1.4177689 (1169)\ttotal: 1m 21s\tremaining: 9m 56s\n",
      "1300:\tlearn: 0.9832302\ttest: 0.9832302\ttest1: 1.4168297\tbest: 1.4168297 (1300)\ttotal: 1m 28s\tremaining: 9m 49s\n",
      "1400:\tlearn: 0.9806174\ttest: 0.9806174\ttest1: 1.4154384\tbest: 1.4154384 (1400)\ttotal: 1m 35s\tremaining: 9m 43s\n",
      "1500:\tlearn: 0.9783230\ttest: 0.9783230\ttest1: 1.4146092\tbest: 1.4146092 (1500)\ttotal: 1m 41s\tremaining: 9m 36s\n",
      "1600:\tlearn: 0.9750140\ttest: 0.9750140\ttest1: 1.4130607\tbest: 1.4130464 (1596)\ttotal: 1m 48s\tremaining: 9m 30s\n",
      "1700:\tlearn: 0.9728063\ttest: 0.9728063\ttest1: 1.4126390\tbest: 1.4125530 (1693)\ttotal: 1m 55s\tremaining: 9m 23s\n",
      "1800:\tlearn: 0.9704567\ttest: 0.9704567\ttest1: 1.4123763\tbest: 1.4123398 (1795)\ttotal: 2m 2s\tremaining: 9m 16s\n"
     ]
    },
    {
     "name": "stderr",
     "output_type": "stream",
     "text": [
      "\u001b[32m[I 2021-07-30 17:36:39,386]\u001b[0m Trial 61 finished with value: -1.4101177880755564 and parameters: {'colsample_bylevel': 0.08986764933744928, 'depth': 4, 'boosting_type': 'Plain', 'bootstrap_type': 'MVS', 'l2_leaf_reg': 18.360382069830695, 'random_strength': 0.508950496582481}. Best is trial 53 with value: -1.405837558943491.\u001b[0m\n"
     ]
    },
    {
     "name": "stdout",
     "output_type": "stream",
     "text": [
      "Stopped by overfitting detector  (100 iterations wait)\n",
      "\n",
      "bestTest = 1.412339787\n",
      "bestIteration = 1795\n",
      "\n",
      "Shrink model to first 1796 iterations.\n",
      "0:\tlearn: 1.3910895\ttest: 1.3910895\ttest1: 1.8902172\tbest: 1.8902172 (0)\ttotal: 79.7ms\tremaining: 13m 16s\n",
      "100:\tlearn: 1.0828138\ttest: 1.0828138\ttest1: 1.4760010\tbest: 1.4759978 (99)\ttotal: 6.99s\tremaining: 11m 25s\n",
      "200:\tlearn: 1.0540138\ttest: 1.0540138\ttest1: 1.4496341\tbest: 1.4496288 (199)\ttotal: 13.7s\tremaining: 11m 9s\n",
      "300:\tlearn: 1.0362642\ttest: 1.0362642\ttest1: 1.4362130\tbest: 1.4362130 (300)\ttotal: 20.5s\tremaining: 11m 1s\n",
      "400:\tlearn: 1.0241069\ttest: 1.0241069\ttest1: 1.4265129\tbest: 1.4264936 (399)\ttotal: 27.3s\tremaining: 10m 53s\n",
      "500:\tlearn: 1.0167108\ttest: 1.0167108\ttest1: 1.4244631\tbest: 1.4241970 (471)\ttotal: 34.1s\tremaining: 10m 47s\n",
      "600:\tlearn: 1.0083268\ttest: 1.0083268\ttest1: 1.4175346\tbest: 1.4175109 (596)\ttotal: 41s\tremaining: 10m 40s\n",
      "700:\tlearn: 1.0038100\ttest: 1.0038100\ttest1: 1.4155523\tbest: 1.4153653 (684)\ttotal: 47.8s\tremaining: 10m 34s\n",
      "800:\tlearn: 0.9992424\ttest: 0.9992424\ttest1: 1.4141375\tbest: 1.4136342 (795)\ttotal: 54.7s\tremaining: 10m 28s\n",
      "900:\tlearn: 0.9952074\ttest: 0.9952074\ttest1: 1.4123829\tbest: 1.4122784 (880)\ttotal: 1m 1s\tremaining: 10m 21s\n",
      "1000:\tlearn: 0.9912722\ttest: 0.9912722\ttest1: 1.4111323\tbest: 1.4111323 (1000)\ttotal: 1m 8s\tremaining: 10m 15s\n",
      "1100:\tlearn: 0.9875348\ttest: 0.9875348\ttest1: 1.4094648\tbest: 1.4094648 (1100)\ttotal: 1m 15s\tremaining: 10m 8s\n",
      "1200:\tlearn: 0.9830562\ttest: 0.9830562\ttest1: 1.4087574\tbest: 1.4086662 (1191)\ttotal: 1m 22s\tremaining: 10m 2s\n",
      "1300:\tlearn: 0.9790508\ttest: 0.9790508\ttest1: 1.4078187\tbest: 1.4078187 (1300)\ttotal: 1m 29s\tremaining: 9m 55s\n",
      "1400:\tlearn: 0.9767662\ttest: 0.9767662\ttest1: 1.4075790\tbest: 1.4074774 (1383)\ttotal: 1m 36s\tremaining: 9m 49s\n",
      "1500:\tlearn: 0.9745796\ttest: 0.9745796\ttest1: 1.4075698\tbest: 1.4072190 (1493)\ttotal: 1m 42s\tremaining: 9m 42s\n",
      "1600:\tlearn: 0.9724526\ttest: 0.9724526\ttest1: 1.4076170\tbest: 1.4069561 (1522)\ttotal: 1m 49s\tremaining: 9m 35s\n"
     ]
    },
    {
     "name": "stderr",
     "output_type": "stream",
     "text": [
      "\u001b[32m[I 2021-07-30 17:38:31,334]\u001b[0m Trial 62 finished with value: -1.4045143467657557 and parameters: {'colsample_bylevel': 0.09775007972730122, 'depth': 4, 'boosting_type': 'Plain', 'bootstrap_type': 'MVS', 'l2_leaf_reg': 17.89235096393024, 'random_strength': 0.6344794168245826}. Best is trial 62 with value: -1.4045143467657557.\u001b[0m\n"
     ]
    },
    {
     "name": "stdout",
     "output_type": "stream",
     "text": [
      "Stopped by overfitting detector  (100 iterations wait)\n",
      "\n",
      "bestTest = 1.406956096\n",
      "bestIteration = 1522\n",
      "\n",
      "Shrink model to first 1523 iterations.\n",
      "0:\tlearn: 1.3910895\ttest: 1.3910895\ttest1: 1.8902172\tbest: 1.8902172 (0)\ttotal: 80.3ms\tremaining: 13m 23s\n",
      "100:\tlearn: 1.0799587\ttest: 1.0799587\ttest1: 1.4755144\tbest: 1.4755144 (100)\ttotal: 7.03s\tremaining: 11m 28s\n",
      "200:\tlearn: 1.0522417\ttest: 1.0522417\ttest1: 1.4489972\tbest: 1.4489495 (196)\ttotal: 13.8s\tremaining: 11m 12s\n",
      "300:\tlearn: 1.0342050\ttest: 1.0342050\ttest1: 1.4351708\tbest: 1.4350569 (297)\ttotal: 20.6s\tremaining: 11m 3s\n",
      "400:\tlearn: 1.0230098\ttest: 1.0230098\ttest1: 1.4281989\tbest: 1.4279926 (397)\ttotal: 27.4s\tremaining: 10m 56s\n",
      "500:\tlearn: 1.0150801\ttest: 1.0150801\ttest1: 1.4260913\tbest: 1.4260680 (499)\ttotal: 34.3s\tremaining: 10m 49s\n",
      "600:\tlearn: 1.0089632\ttest: 1.0089632\ttest1: 1.4244062\tbest: 1.4244016 (598)\ttotal: 41.1s\tremaining: 10m 42s\n",
      "700:\tlearn: 1.0035109\ttest: 1.0035109\ttest1: 1.4214931\tbest: 1.4214931 (700)\ttotal: 48s\tremaining: 10m 36s\n",
      "800:\tlearn: 0.9988555\ttest: 0.9988555\ttest1: 1.4200992\tbest: 1.4200992 (800)\ttotal: 54.8s\tremaining: 10m 29s\n",
      "900:\tlearn: 0.9939700\ttest: 0.9939700\ttest1: 1.4176554\tbest: 1.4175715 (894)\ttotal: 1m 1s\tremaining: 10m 23s\n",
      "1000:\tlearn: 0.9905408\ttest: 0.9905408\ttest1: 1.4170614\tbest: 1.4169824 (943)\ttotal: 1m 8s\tremaining: 10m 17s\n",
      "1100:\tlearn: 0.9872101\ttest: 0.9872101\ttest1: 1.4152592\tbest: 1.4152291 (1084)\ttotal: 1m 15s\tremaining: 10m 10s\n",
      "1200:\tlearn: 0.9844380\ttest: 0.9844380\ttest1: 1.4146378\tbest: 1.4144230 (1164)\ttotal: 1m 22s\tremaining: 10m 4s\n",
      "1300:\tlearn: 0.9811244\ttest: 0.9811244\ttest1: 1.4130825\tbest: 1.4130438 (1280)\ttotal: 1m 29s\tremaining: 9m 57s\n",
      "1400:\tlearn: 0.9772711\ttest: 0.9772711\ttest1: 1.4117382\tbest: 1.4116898 (1395)\ttotal: 1m 36s\tremaining: 9m 50s\n",
      "1500:\tlearn: 0.9734525\ttest: 0.9734525\ttest1: 1.4103995\tbest: 1.4103944 (1499)\ttotal: 1m 43s\tremaining: 9m 43s\n",
      "1600:\tlearn: 0.9706415\ttest: 0.9706415\ttest1: 1.4094544\tbest: 1.4094303 (1597)\ttotal: 1m 50s\tremaining: 9m 37s\n",
      "1700:\tlearn: 0.9688977\ttest: 0.9688977\ttest1: 1.4087689\tbest: 1.4087494 (1696)\ttotal: 1m 56s\tremaining: 9m 30s\n",
      "1800:\tlearn: 0.9662473\ttest: 0.9662473\ttest1: 1.4083919\tbest: 1.4083090 (1726)\ttotal: 2m 3s\tremaining: 9m 23s\n"
     ]
    },
    {
     "name": "stderr",
     "output_type": "stream",
     "text": [
      "\u001b[32m[I 2021-07-30 17:40:37,559]\u001b[0m Trial 63 finished with value: -1.406336838870814 and parameters: {'colsample_bylevel': 0.09681532764930863, 'depth': 4, 'boosting_type': 'Plain', 'bootstrap_type': 'MVS', 'l2_leaf_reg': 16.689398938769756, 'random_strength': 0.7837488921908315}. Best is trial 62 with value: -1.4045143467657557.\u001b[0m\n"
     ]
    },
    {
     "name": "stdout",
     "output_type": "stream",
     "text": [
      "Stopped by overfitting detector  (100 iterations wait)\n",
      "\n",
      "bestTest = 1.40830897\n",
      "bestIteration = 1726\n",
      "\n",
      "Shrink model to first 1727 iterations.\n",
      "0:\tlearn: 1.3910895\ttest: 1.3910895\ttest1: 1.8902172\tbest: 1.8902172 (0)\ttotal: 80.3ms\tremaining: 13m 23s\n",
      "100:\tlearn: 1.0845683\ttest: 1.0845683\ttest1: 1.4789153\tbest: 1.4789153 (100)\ttotal: 6.95s\tremaining: 11m 21s\n",
      "200:\tlearn: 1.0499571\ttest: 1.0499571\ttest1: 1.4483810\tbest: 1.4482784 (198)\ttotal: 13.7s\tremaining: 11m 8s\n",
      "300:\tlearn: 1.0354295\ttest: 1.0354295\ttest1: 1.4358634\tbest: 1.4358630 (299)\ttotal: 20.5s\tremaining: 11m 1s\n",
      "400:\tlearn: 1.0268236\ttest: 1.0268236\ttest1: 1.4312744\tbest: 1.4310545 (368)\ttotal: 27.4s\tremaining: 10m 55s\n",
      "500:\tlearn: 1.0178014\ttest: 1.0178014\ttest1: 1.4261431\tbest: 1.4260883 (499)\ttotal: 34.2s\tremaining: 10m 48s\n",
      "600:\tlearn: 1.0116901\ttest: 1.0116901\ttest1: 1.4232047\tbest: 1.4232023 (598)\ttotal: 41.1s\tremaining: 10m 42s\n",
      "700:\tlearn: 1.0062304\ttest: 1.0062304\ttest1: 1.4215258\tbest: 1.4214301 (698)\ttotal: 48s\tremaining: 10m 36s\n",
      "800:\tlearn: 1.0011694\ttest: 1.0011694\ttest1: 1.4199965\tbest: 1.4198314 (784)\ttotal: 54.9s\tremaining: 10m 30s\n",
      "900:\tlearn: 0.9976646\ttest: 0.9976646\ttest1: 1.4188679\tbest: 1.4188679 (900)\ttotal: 1m 1s\tremaining: 10m 24s\n",
      "1000:\tlearn: 0.9918931\ttest: 0.9918931\ttest1: 1.4160409\tbest: 1.4160331 (999)\ttotal: 1m 8s\tremaining: 10m 17s\n",
      "1100:\tlearn: 0.9880333\ttest: 0.9880333\ttest1: 1.4153771\tbest: 1.4153376 (1096)\ttotal: 1m 15s\tremaining: 10m 11s\n",
      "1200:\tlearn: 0.9847033\ttest: 0.9847033\ttest1: 1.4138105\tbest: 1.4138100 (1199)\ttotal: 1m 22s\tremaining: 10m 5s\n",
      "1300:\tlearn: 0.9813473\ttest: 0.9813473\ttest1: 1.4133653\tbest: 1.4132115 (1287)\ttotal: 1m 29s\tremaining: 9m 58s\n",
      "1400:\tlearn: 0.9778499\ttest: 0.9778499\ttest1: 1.4130697\tbest: 1.4130236 (1391)\ttotal: 1m 36s\tremaining: 9m 51s\n",
      "1500:\tlearn: 0.9746615\ttest: 0.9746615\ttest1: 1.4128050\tbest: 1.4126540 (1469)\ttotal: 1m 43s\tremaining: 9m 45s\n",
      "1600:\tlearn: 0.9717353\ttest: 0.9717353\ttest1: 1.4116842\tbest: 1.4116722 (1598)\ttotal: 1m 50s\tremaining: 9m 38s\n",
      "1700:\tlearn: 0.9691725\ttest: 0.9691725\ttest1: 1.4108169\tbest: 1.4106767 (1679)\ttotal: 1m 57s\tremaining: 9m 31s\n",
      "1800:\tlearn: 0.9669124\ttest: 0.9669124\ttest1: 1.4103300\tbest: 1.4102407 (1761)\ttotal: 2m 4s\tremaining: 9m 24s\n",
      "1900:\tlearn: 0.9639693\ttest: 0.9639693\ttest1: 1.4088200\tbest: 1.4087439 (1889)\ttotal: 2m 11s\tremaining: 9m 18s\n",
      "2000:\tlearn: 0.9621667\ttest: 0.9621667\ttest1: 1.4082126\tbest: 1.4080559 (1975)\ttotal: 2m 17s\tremaining: 9m 11s\n",
      "2100:\tlearn: 0.9603463\ttest: 0.9603463\ttest1: 1.4073497\tbest: 1.4073471 (2099)\ttotal: 2m 24s\tremaining: 9m 4s\n",
      "2200:\tlearn: 0.9582223\ttest: 0.9582223\ttest1: 1.4069664\tbest: 1.4069005 (2129)\ttotal: 2m 31s\tremaining: 8m 57s\n",
      "2300:\tlearn: 0.9564014\ttest: 0.9564014\ttest1: 1.4066406\tbest: 1.4066390 (2298)\ttotal: 2m 38s\tremaining: 8m 51s\n",
      "2400:\tlearn: 0.9545320\ttest: 0.9545320\ttest1: 1.4064261\tbest: 1.4063513 (2396)\ttotal: 2m 45s\tremaining: 8m 44s\n"
     ]
    },
    {
     "name": "stderr",
     "output_type": "stream",
     "text": [
      "\u001b[32m[I 2021-07-30 17:43:30,619]\u001b[0m Trial 64 finished with value: -1.4044354054419523 and parameters: {'colsample_bylevel': 0.09997644862588669, 'depth': 4, 'boosting_type': 'Plain', 'bootstrap_type': 'MVS', 'l2_leaf_reg': 16.881989137868633, 'random_strength': 0.9004911846794734}. Best is trial 64 with value: -1.4044354054419523.\u001b[0m\n"
     ]
    },
    {
     "name": "stdout",
     "output_type": "stream",
     "text": [
      "Stopped by overfitting detector  (100 iterations wait)\n",
      "\n",
      "bestTest = 1.406351276\n",
      "bestIteration = 2396\n",
      "\n",
      "Shrink model to first 2397 iterations.\n",
      "0:\tlearn: 1.3877247\ttest: 1.3877247\ttest1: 1.8846849\tbest: 1.8846849 (0)\ttotal: 84.2ms\tremaining: 14m 1s\n",
      "100:\tlearn: 1.0567005\ttest: 1.0567005\ttest1: 1.4566205\tbest: 1.4566205 (100)\ttotal: 7.37s\tremaining: 12m 1s\n",
      "200:\tlearn: 1.0324434\ttest: 1.0324434\ttest1: 1.4416022\tbest: 1.4415092 (197)\ttotal: 14.5s\tremaining: 11m 44s\n",
      "300:\tlearn: 1.0158701\ttest: 1.0158701\ttest1: 1.4322680\tbest: 1.4318994 (287)\ttotal: 21.6s\tremaining: 11m 36s\n",
      "400:\tlearn: 1.0054531\ttest: 1.0054531\ttest1: 1.4282220\tbest: 1.4280911 (395)\ttotal: 28.8s\tremaining: 11m 30s\n",
      "500:\tlearn: 0.9972865\ttest: 0.9972865\ttest1: 1.4254076\tbest: 1.4253115 (496)\ttotal: 36.1s\tremaining: 11m 23s\n",
      "600:\tlearn: 0.9904279\ttest: 0.9904279\ttest1: 1.4224293\tbest: 1.4223965 (592)\ttotal: 43.3s\tremaining: 11m 16s\n",
      "700:\tlearn: 0.9836792\ttest: 0.9836792\ttest1: 1.4202575\tbest: 1.4201495 (694)\ttotal: 50.5s\tremaining: 11m 10s\n",
      "800:\tlearn: 0.9776017\ttest: 0.9776017\ttest1: 1.4162196\tbest: 1.4161663 (784)\ttotal: 57.8s\tremaining: 11m 4s\n",
      "900:\tlearn: 0.9731014\ttest: 0.9731014\ttest1: 1.4125598\tbest: 1.4125598 (900)\ttotal: 1m 5s\tremaining: 10m 57s\n",
      "1000:\tlearn: 0.9671157\ttest: 0.9671157\ttest1: 1.4119181\tbest: 1.4116452 (996)\ttotal: 1m 12s\tremaining: 10m 50s\n",
      "1100:\tlearn: 0.9622886\ttest: 0.9622886\ttest1: 1.4109906\tbest: 1.4106174 (1037)\ttotal: 1m 19s\tremaining: 10m 44s\n",
      "1200:\tlearn: 0.9576187\ttest: 0.9576187\ttest1: 1.4100076\tbest: 1.4100076 (1200)\ttotal: 1m 26s\tremaining: 10m 37s\n",
      "1300:\tlearn: 0.9536984\ttest: 0.9536984\ttest1: 1.4085845\tbest: 1.4085708 (1285)\ttotal: 1m 34s\tremaining: 10m 30s\n",
      "1400:\tlearn: 0.9498545\ttest: 0.9498545\ttest1: 1.4072180\tbest: 1.4071750 (1389)\ttotal: 1m 41s\tremaining: 10m 23s\n"
     ]
    },
    {
     "name": "stderr",
     "output_type": "stream",
     "text": [
      "\u001b[32m[I 2021-07-30 17:45:19,335]\u001b[0m Trial 65 finished with value: -1.4059820213081191 and parameters: {'colsample_bylevel': 0.09687793079983587, 'depth': 5, 'boosting_type': 'Plain', 'bootstrap_type': 'MVS', 'l2_leaf_reg': 16.954635402026945, 'random_strength': 0.789619175867057}. Best is trial 64 with value: -1.4044354054419523.\u001b[0m\n"
     ]
    },
    {
     "name": "stdout",
     "output_type": "stream",
     "text": [
      "Stopped by overfitting detector  (100 iterations wait)\n",
      "\n",
      "bestTest = 1.40717503\n",
      "bestIteration = 1389\n",
      "\n",
      "Shrink model to first 1390 iterations.\n",
      "0:\tlearn: 1.3877247\ttest: 1.3877247\ttest1: 1.8846849\tbest: 1.8846849 (0)\ttotal: 84.4ms\tremaining: 14m 4s\n",
      "100:\tlearn: 1.0655144\ttest: 1.0655144\ttest1: 1.4604491\tbest: 1.4604491 (100)\ttotal: 7.39s\tremaining: 12m 4s\n",
      "200:\tlearn: 1.0332699\ttest: 1.0332699\ttest1: 1.4387059\tbest: 1.4386531 (190)\ttotal: 14.6s\tremaining: 11m 49s\n",
      "300:\tlearn: 1.0165700\ttest: 1.0165700\ttest1: 1.4312459\tbest: 1.4312363 (298)\ttotal: 21.8s\tremaining: 11m 41s\n",
      "400:\tlearn: 1.0046440\ttest: 1.0046440\ttest1: 1.4252550\tbest: 1.4252550 (400)\ttotal: 29s\tremaining: 11m 34s\n",
      "500:\tlearn: 0.9971113\ttest: 0.9971113\ttest1: 1.4229914\tbest: 1.4229764 (499)\ttotal: 36.3s\tremaining: 11m 27s\n",
      "600:\tlearn: 0.9886109\ttest: 0.9886109\ttest1: 1.4174592\tbest: 1.4174592 (600)\ttotal: 43.6s\tremaining: 11m 21s\n",
      "700:\tlearn: 0.9820148\ttest: 0.9820148\ttest1: 1.4157392\tbest: 1.4154030 (682)\ttotal: 50.9s\tremaining: 11m 15s\n",
      "800:\tlearn: 0.9765431\ttest: 0.9765431\ttest1: 1.4129268\tbest: 1.4121936 (780)\ttotal: 58.2s\tremaining: 11m 8s\n",
      "900:\tlearn: 0.9716486\ttest: 0.9716486\ttest1: 1.4115483\tbest: 1.4114440 (853)\ttotal: 1m 5s\tremaining: 11m 2s\n",
      "1000:\tlearn: 0.9662479\ttest: 0.9662479\ttest1: 1.4103207\tbest: 1.4099649 (983)\ttotal: 1m 12s\tremaining: 10m 55s\n"
     ]
    },
    {
     "name": "stderr",
     "output_type": "stream",
     "text": [
      "\u001b[32m[I 2021-07-30 17:46:38,938]\u001b[0m Trial 66 finished with value: -1.408668167002909 and parameters: {'colsample_bylevel': 0.09967536756619735, 'depth': 5, 'boosting_type': 'Plain', 'bootstrap_type': 'MVS', 'l2_leaf_reg': 16.88905921129705, 'random_strength': 0.7896432591647691}. Best is trial 64 with value: -1.4044354054419523.\u001b[0m\n"
     ]
    },
    {
     "name": "stdout",
     "output_type": "stream",
     "text": [
      "Stopped by overfitting detector  (100 iterations wait)\n",
      "\n",
      "bestTest = 1.409964889\n",
      "bestIteration = 983\n",
      "\n",
      "Shrink model to first 984 iterations.\n",
      "0:\tlearn: 1.3873344\ttest: 1.3873344\ttest1: 1.8840930\tbest: 1.8840930 (0)\ttotal: 85.1ms\tremaining: 14m 10s\n",
      "100:\tlearn: 1.0627229\ttest: 1.0627229\ttest1: 1.4626985\tbest: 1.4626985 (100)\ttotal: 7.41s\tremaining: 12m 6s\n",
      "200:\tlearn: 1.0326567\ttest: 1.0326567\ttest1: 1.4390229\tbest: 1.4389739 (199)\ttotal: 14.6s\tremaining: 11m 50s\n",
      "300:\tlearn: 1.0125123\ttest: 1.0125123\ttest1: 1.4317605\tbest: 1.4317605 (300)\ttotal: 21.7s\tremaining: 11m 40s\n",
      "400:\tlearn: 1.0050859\ttest: 1.0050859\ttest1: 1.4291207\tbest: 1.4286710 (383)\ttotal: 28.9s\tremaining: 11m 32s\n",
      "500:\tlearn: 0.9971953\ttest: 0.9971953\ttest1: 1.4230652\tbest: 1.4229909 (499)\ttotal: 36.2s\tremaining: 11m 25s\n",
      "600:\tlearn: 0.9886555\ttest: 0.9886555\ttest1: 1.4195347\tbest: 1.4194648 (592)\ttotal: 43.4s\tremaining: 11m 18s\n",
      "700:\tlearn: 0.9831633\ttest: 0.9831633\ttest1: 1.4185994\tbest: 1.4185497 (696)\ttotal: 50.7s\tremaining: 11m 12s\n",
      "800:\tlearn: 0.9778963\ttest: 0.9778963\ttest1: 1.4177641\tbest: 1.4177610 (799)\ttotal: 58s\tremaining: 11m 6s\n",
      "900:\tlearn: 0.9735015\ttest: 0.9735015\ttest1: 1.4171345\tbest: 1.4169075 (830)\ttotal: 1m 5s\tremaining: 10m 59s\n"
     ]
    },
    {
     "name": "stderr",
     "output_type": "stream",
     "text": [
      "\u001b[32m[I 2021-07-30 17:47:46,992]\u001b[0m Trial 67 finished with value: -1.4149956746429797 and parameters: {'colsample_bylevel': 0.0970663052817356, 'depth': 5, 'boosting_type': 'Plain', 'bootstrap_type': 'MVS', 'l2_leaf_reg': 19.137147420790868, 'random_strength': 0.0768301366780264}. Best is trial 64 with value: -1.4044354054419523.\u001b[0m\n"
     ]
    },
    {
     "name": "stdout",
     "output_type": "stream",
     "text": [
      "Stopped by overfitting detector  (100 iterations wait)\n",
      "\n",
      "bestTest = 1.416907468\n",
      "bestIteration = 830\n",
      "\n",
      "Shrink model to first 831 iterations.\n",
      "0:\tlearn: 1.3803491\ttest: 1.3803491\ttest1: 1.8770409\tbest: 1.8770409 (0)\ttotal: 105ms\tremaining: 17m 32s\n",
      "100:\tlearn: 1.0339558\ttest: 1.0339558\ttest1: 1.4489525\tbest: 1.4489294 (98)\ttotal: 8.71s\tremaining: 14m 13s\n",
      "200:\tlearn: 0.9912343\ttest: 0.9912343\ttest1: 1.4303565\tbest: 1.4303565 (200)\ttotal: 17.2s\tremaining: 13m 56s\n",
      "300:\tlearn: 0.9694060\ttest: 0.9694060\ttest1: 1.4225282\tbest: 1.4225282 (300)\ttotal: 25.6s\tremaining: 13m 44s\n",
      "400:\tlearn: 0.9503909\ttest: 0.9503909\ttest1: 1.4152897\tbest: 1.4146278 (389)\ttotal: 34.1s\tremaining: 13m 36s\n",
      "500:\tlearn: 0.9382527\ttest: 0.9382527\ttest1: 1.4143865\tbest: 1.4124704 (452)\ttotal: 42.6s\tremaining: 13m 28s\n",
      "Stopped by overfitting detector  (100 iterations wait)\n",
      "\n",
      "bestTest = 1.412470417\n",
      "bestIteration = 452\n",
      "\n",
      "Shrink model to first 453 iterations.\n"
     ]
    },
    {
     "name": "stderr",
     "output_type": "stream",
     "text": [
      "\u001b[32m[I 2021-07-30 17:48:34,751]\u001b[0m Trial 68 finished with value: -1.4122891708119005 and parameters: {'colsample_bylevel': 0.0967753040898382, 'depth': 8, 'boosting_type': 'Plain', 'bootstrap_type': 'MVS', 'l2_leaf_reg': 19.94141515045594, 'random_strength': 1.411978953974608}. Best is trial 64 with value: -1.4044354054419523.\u001b[0m\n"
     ]
    },
    {
     "name": "stdout",
     "output_type": "stream",
     "text": [
      "0:\tlearn: 1.3877247\ttest: 1.3877247\ttest1: 1.8846849\tbest: 1.8846849 (0)\ttotal: 88ms\tremaining: 14m 39s\n",
      "100:\tlearn: 1.0626454\ttest: 1.0626454\ttest1: 1.4552883\tbest: 1.4552883 (100)\ttotal: 7.44s\tremaining: 12m 9s\n",
      "200:\tlearn: 1.0354509\ttest: 1.0354509\ttest1: 1.4365636\tbest: 1.4365636 (200)\ttotal: 14.6s\tremaining: 11m 53s\n",
      "300:\tlearn: 1.0186377\ttest: 1.0186377\ttest1: 1.4281780\tbest: 1.4278028 (284)\ttotal: 21.9s\tremaining: 11m 45s\n",
      "400:\tlearn: 1.0070287\ttest: 1.0070287\ttest1: 1.4213877\tbest: 1.4213877 (400)\ttotal: 29.2s\tremaining: 11m 37s\n",
      "500:\tlearn: 0.9999434\ttest: 0.9999434\ttest1: 1.4186761\tbest: 1.4185496 (496)\ttotal: 36.4s\tremaining: 11m 30s\n",
      "600:\tlearn: 0.9918965\ttest: 0.9918965\ttest1: 1.4163148\tbest: 1.4159556 (576)\ttotal: 43.7s\tremaining: 11m 23s\n",
      "700:\tlearn: 0.9851232\ttest: 0.9851232\ttest1: 1.4135017\tbest: 1.4132097 (684)\ttotal: 51s\tremaining: 11m 16s\n",
      "800:\tlearn: 0.9787316\ttest: 0.9787316\ttest1: 1.4106500\tbest: 1.4106336 (778)\ttotal: 58.3s\tremaining: 11m 9s\n",
      "900:\tlearn: 0.9739444\ttest: 0.9739444\ttest1: 1.4088892\tbest: 1.4088892 (900)\ttotal: 1m 5s\tremaining: 11m 2s\n",
      "1000:\tlearn: 0.9700516\ttest: 0.9700516\ttest1: 1.4074394\tbest: 1.4071754 (971)\ttotal: 1m 12s\tremaining: 10m 55s\n",
      "1100:\tlearn: 0.9642567\ttest: 0.9642567\ttest1: 1.4058357\tbest: 1.4055330 (1082)\ttotal: 1m 20s\tremaining: 10m 48s\n"
     ]
    },
    {
     "name": "stderr",
     "output_type": "stream",
     "text": [
      "\u001b[32m[I 2021-07-30 17:50:01,611]\u001b[0m Trial 69 finished with value: -1.4048989286832543 and parameters: {'colsample_bylevel': 0.09998405274662048, 'depth': 5, 'boosting_type': 'Plain', 'bootstrap_type': 'MVS', 'l2_leaf_reg': 15.601273332446477, 'random_strength': 0.24114645926768064}. Best is trial 64 with value: -1.4044354054419523.\u001b[0m\n"
     ]
    },
    {
     "name": "stdout",
     "output_type": "stream",
     "text": [
      "Stopped by overfitting detector  (100 iterations wait)\n",
      "\n",
      "bestTest = 1.40553299\n",
      "bestIteration = 1082\n",
      "\n",
      "Shrink model to first 1083 iterations.\n",
      "0:\tlearn: 1.3799689\ttest: 1.3799689\ttest1: 1.8728042\tbest: 1.8728042 (0)\ttotal: 120ms\tremaining: 19m 56s\n",
      "100:\tlearn: 1.0553836\ttest: 1.0553836\ttest1: 1.4600023\tbest: 1.4600023 (100)\ttotal: 10.7s\tremaining: 17m 30s\n",
      "200:\tlearn: 1.0138968\ttest: 1.0138968\ttest1: 1.4341122\tbest: 1.4341122 (200)\ttotal: 21.3s\tremaining: 17m 18s\n",
      "300:\tlearn: 0.9962600\ttest: 0.9962600\ttest1: 1.4258871\tbest: 1.4256609 (293)\ttotal: 32s\tremaining: 17m 9s\n",
      "400:\tlearn: 0.9866746\ttest: 0.9866746\ttest1: 1.4205407\tbest: 1.4204882 (398)\ttotal: 42.4s\tremaining: 16m 54s\n",
      "500:\tlearn: 0.9757986\ttest: 0.9757986\ttest1: 1.4167612\tbest: 1.4167501 (498)\ttotal: 52.7s\tremaining: 16m 40s\n",
      "600:\tlearn: 0.9691357\ttest: 0.9691357\ttest1: 1.4156470\tbest: 1.4153596 (565)\ttotal: 1m 3s\tremaining: 16m 26s\n",
      "700:\tlearn: 0.9625938\ttest: 0.9625938\ttest1: 1.4141860\tbest: 1.4141527 (696)\ttotal: 1m 13s\tremaining: 16m 14s\n",
      "800:\tlearn: 0.9547106\ttest: 0.9547106\ttest1: 1.4122535\tbest: 1.4119528 (781)\ttotal: 1m 23s\tremaining: 16m 3s\n",
      "900:\tlearn: 0.9489712\ttest: 0.9489712\ttest1: 1.4123779\tbest: 1.4117311 (809)\ttotal: 1m 34s\tremaining: 15m 51s\n"
     ]
    },
    {
     "name": "stderr",
     "output_type": "stream",
     "text": [
      "\u001b[32m[I 2021-07-30 17:51:37,499]\u001b[0m Trial 70 finished with value: -1.4109658423801703 and parameters: {'colsample_bylevel': 0.099900974509986, 'depth': 6, 'boosting_type': 'Ordered', 'bootstrap_type': 'MVS', 'l2_leaf_reg': 15.682845485799364, 'random_strength': 0.8007078015343972}. Best is trial 64 with value: -1.4044354054419523.\u001b[0m\n"
     ]
    },
    {
     "name": "stdout",
     "output_type": "stream",
     "text": [
      "Stopped by overfitting detector  (100 iterations wait)\n",
      "\n",
      "bestTest = 1.41173108\n",
      "bestIteration = 809\n",
      "\n",
      "Shrink model to first 810 iterations.\n",
      "0:\tlearn: 1.3851519\ttest: 1.3851519\ttest1: 1.8796287\tbest: 1.8796287 (0)\ttotal: 87.6ms\tremaining: 14m 36s\n",
      "100:\tlearn: 1.0621471\ttest: 1.0621471\ttest1: 1.4583335\tbest: 1.4583335 (100)\ttotal: 7.32s\tremaining: 11m 57s\n",
      "200:\tlearn: 1.0362966\ttest: 1.0362966\ttest1: 1.4402517\tbest: 1.4402517 (200)\ttotal: 14.4s\tremaining: 11m 44s\n",
      "300:\tlearn: 1.0189987\ttest: 1.0189987\ttest1: 1.4284776\tbest: 1.4272714 (296)\ttotal: 21.5s\tremaining: 11m 33s\n",
      "400:\tlearn: 1.0060818\ttest: 1.0060818\ttest1: 1.4237037\tbest: 1.4235535 (396)\ttotal: 28.7s\tremaining: 11m 26s\n",
      "500:\tlearn: 0.9971171\ttest: 0.9971171\ttest1: 1.4186801\tbest: 1.4186801 (500)\ttotal: 35.9s\tremaining: 11m 20s\n",
      "600:\tlearn: 0.9899663\ttest: 0.9899663\ttest1: 1.4193193\tbest: 1.4182730 (578)\ttotal: 43.1s\tremaining: 11m 13s\n",
      "700:\tlearn: 0.9836422\ttest: 0.9836422\ttest1: 1.4175468\tbest: 1.4174179 (696)\ttotal: 50.3s\tremaining: 11m 7s\n",
      "800:\tlearn: 0.9777892\ttest: 0.9777892\ttest1: 1.4167697\tbest: 1.4167604 (792)\ttotal: 57.6s\tremaining: 11m 1s\n",
      "900:\tlearn: 0.9723533\ttest: 0.9723533\ttest1: 1.4154706\tbest: 1.4154532 (899)\ttotal: 1m 4s\tremaining: 10m 54s\n",
      "1000:\tlearn: 0.9677484\ttest: 0.9677484\ttest1: 1.4146492\tbest: 1.4145055 (980)\ttotal: 1m 12s\tremaining: 10m 47s\n",
      "1100:\tlearn: 0.9630168\ttest: 0.9630168\ttest1: 1.4140313\tbest: 1.4136744 (1057)\ttotal: 1m 19s\tremaining: 10m 40s\n",
      "1200:\tlearn: 0.9589567\ttest: 0.9589567\ttest1: 1.4129732\tbest: 1.4128165 (1184)\ttotal: 1m 26s\tremaining: 10m 33s\n",
      "1300:\tlearn: 0.9549000\ttest: 0.9549000\ttest1: 1.4125501\tbest: 1.4125501 (1300)\ttotal: 1m 33s\tremaining: 10m 26s\n",
      "1400:\tlearn: 0.9515812\ttest: 0.9515812\ttest1: 1.4117253\tbest: 1.4117253 (1400)\ttotal: 1m 40s\tremaining: 10m 19s\n",
      "1500:\tlearn: 0.9484638\ttest: 0.9484638\ttest1: 1.4109493\tbest: 1.4109164 (1498)\ttotal: 1m 48s\tremaining: 10m 12s\n",
      "1600:\tlearn: 0.9458459\ttest: 0.9458459\ttest1: 1.4094385\tbest: 1.4092907 (1590)\ttotal: 1m 55s\tremaining: 10m 5s\n"
     ]
    },
    {
     "name": "stderr",
     "output_type": "stream",
     "text": [
      "\u001b[32m[I 2021-07-30 17:53:40,120]\u001b[0m Trial 71 finished with value: -1.4082532347496157 and parameters: {'colsample_bylevel': 0.09323351901255827, 'depth': 5, 'boosting_type': 'Plain', 'bootstrap_type': 'MVS', 'l2_leaf_reg': 17.840577865369568, 'random_strength': 0.22926071173308799}. Best is trial 64 with value: -1.4044354054419523.\u001b[0m\n"
     ]
    },
    {
     "name": "stdout",
     "output_type": "stream",
     "text": [
      "Stopped by overfitting detector  (100 iterations wait)\n",
      "\n",
      "bestTest = 1.409290701\n",
      "bestIteration = 1590\n",
      "\n",
      "Shrink model to first 1591 iterations.\n",
      "0:\tlearn: 1.3910895\ttest: 1.3910895\ttest1: 1.8902172\tbest: 1.8902172 (0)\ttotal: 80.1ms\tremaining: 13m 20s\n",
      "100:\tlearn: 1.0790814\ttest: 1.0790814\ttest1: 1.4772623\tbest: 1.4771852 (99)\ttotal: 7.01s\tremaining: 11m 27s\n",
      "200:\tlearn: 1.0505957\ttest: 1.0505957\ttest1: 1.4461148\tbest: 1.4461148 (200)\ttotal: 13.7s\tremaining: 11m 10s\n",
      "300:\tlearn: 1.0400292\ttest: 1.0400292\ttest1: 1.4400805\tbest: 1.4400797 (299)\ttotal: 20.5s\tremaining: 10m 59s\n",
      "400:\tlearn: 1.0276739\ttest: 1.0276739\ttest1: 1.4325875\tbest: 1.4325875 (400)\ttotal: 27.3s\tremaining: 10m 52s\n",
      "500:\tlearn: 1.0204688\ttest: 1.0204688\ttest1: 1.4286362\tbest: 1.4286362 (500)\ttotal: 34.1s\tremaining: 10m 46s\n",
      "600:\tlearn: 1.0150897\ttest: 1.0150897\ttest1: 1.4265493\tbest: 1.4265493 (600)\ttotal: 40.9s\tremaining: 10m 40s\n",
      "700:\tlearn: 1.0086629\ttest: 1.0086629\ttest1: 1.4251249\tbest: 1.4250043 (695)\ttotal: 47.8s\tremaining: 10m 33s\n",
      "800:\tlearn: 1.0046579\ttest: 1.0046579\ttest1: 1.4244123\tbest: 1.4241266 (783)\ttotal: 54.6s\tremaining: 10m 27s\n",
      "900:\tlearn: 1.0000086\ttest: 1.0000086\ttest1: 1.4226818\tbest: 1.4226643 (899)\ttotal: 1m 1s\tremaining: 10m 20s\n",
      "1000:\tlearn: 0.9955980\ttest: 0.9955980\ttest1: 1.4203827\tbest: 1.4203827 (1000)\ttotal: 1m 8s\tremaining: 10m 14s\n",
      "1100:\tlearn: 0.9922402\ttest: 0.9922402\ttest1: 1.4189173\tbest: 1.4188004 (1089)\ttotal: 1m 15s\tremaining: 10m 7s\n",
      "1200:\tlearn: 0.9888383\ttest: 0.9888383\ttest1: 1.4169202\tbest: 1.4167173 (1189)\ttotal: 1m 22s\tremaining: 10m 1s\n"
     ]
    },
    {
     "name": "stderr",
     "output_type": "stream",
     "text": [
      "\u001b[32m[I 2021-07-30 17:55:08,895]\u001b[0m Trial 72 finished with value: -1.4153366830050786 and parameters: {'colsample_bylevel': 0.09584348780024023, 'depth': 4, 'boosting_type': 'Plain', 'bootstrap_type': 'MVS', 'l2_leaf_reg': 16.658123203855446, 'random_strength': 1.3064593485450609}. Best is trial 64 with value: -1.4044354054419523.\u001b[0m\n"
     ]
    },
    {
     "name": "stdout",
     "output_type": "stream",
     "text": [
      "Stopped by overfitting detector  (100 iterations wait)\n",
      "\n",
      "bestTest = 1.416717309\n",
      "bestIteration = 1189\n",
      "\n",
      "Shrink model to first 1190 iterations.\n",
      "0:\tlearn: 1.3783185\ttest: 1.3783185\ttest1: 1.8689290\tbest: 1.8689290 (0)\ttotal: 89.1ms\tremaining: 14m 51s\n",
      "100:\tlearn: 1.0464733\ttest: 1.0464733\ttest1: 1.4464081\tbest: 1.4464081 (100)\ttotal: 7.67s\tremaining: 12m 31s\n",
      "200:\tlearn: 1.0166836\ttest: 1.0166836\ttest1: 1.4284924\tbest: 1.4284924 (200)\ttotal: 15.3s\tremaining: 12m 24s\n",
      "300:\tlearn: 0.9984828\ttest: 0.9984828\ttest1: 1.4219075\tbest: 1.4217239 (283)\ttotal: 22.9s\tremaining: 12m 18s\n",
      "400:\tlearn: 0.9878739\ttest: 0.9878739\ttest1: 1.4149666\tbest: 1.4149559 (399)\ttotal: 30.6s\tremaining: 12m 12s\n",
      "500:\tlearn: 0.9755818\ttest: 0.9755818\ttest1: 1.4087289\tbest: 1.4087285 (499)\ttotal: 38.2s\tremaining: 12m 4s\n",
      "600:\tlearn: 0.9682837\ttest: 0.9682837\ttest1: 1.4070568\tbest: 1.4070568 (600)\ttotal: 45.9s\tremaining: 11m 58s\n",
      "700:\tlearn: 0.9608699\ttest: 0.9608699\ttest1: 1.4062800\tbest: 1.4062783 (698)\ttotal: 53.6s\tremaining: 11m 51s\n",
      "800:\tlearn: 0.9547031\ttest: 0.9547031\ttest1: 1.4052902\tbest: 1.4051041 (788)\ttotal: 1m 1s\tremaining: 11m 45s\n",
      "900:\tlearn: 0.9479102\ttest: 0.9479102\ttest1: 1.4035526\tbest: 1.4035271 (899)\ttotal: 1m 9s\tremaining: 11m 37s\n",
      "1000:\tlearn: 0.9417191\ttest: 0.9417191\ttest1: 1.4034582\tbest: 1.4028087 (931)\ttotal: 1m 16s\tremaining: 11m 31s\n"
     ]
    },
    {
     "name": "stderr",
     "output_type": "stream",
     "text": [
      "\u001b[32m[I 2021-07-30 17:56:28,774]\u001b[0m Trial 73 finished with value: -1.4021397484251732 and parameters: {'colsample_bylevel': 0.0933782679955531, 'depth': 6, 'boosting_type': 'Plain', 'bootstrap_type': 'MVS', 'l2_leaf_reg': 17.226054250316672, 'random_strength': 0.38535553612063733}. Best is trial 73 with value: -1.4021397484251732.\u001b[0m\n"
     ]
    },
    {
     "name": "stdout",
     "output_type": "stream",
     "text": [
      "Stopped by overfitting detector  (100 iterations wait)\n",
      "\n",
      "bestTest = 1.402808675\n",
      "bestIteration = 931\n",
      "\n",
      "Shrink model to first 932 iterations.\n",
      "0:\tlearn: 1.3818399\ttest: 1.3818399\ttest1: 1.8756191\tbest: 1.8756191 (0)\ttotal: 90.1ms\tremaining: 15m 1s\n",
      "100:\tlearn: 1.0531115\ttest: 1.0531115\ttest1: 1.4655713\tbest: 1.4646572 (97)\ttotal: 7.61s\tremaining: 12m 26s\n",
      "200:\tlearn: 1.0162524\ttest: 1.0162524\ttest1: 1.4453651\tbest: 1.4453651 (200)\ttotal: 15.1s\tremaining: 12m 16s\n",
      "300:\tlearn: 1.0005356\ttest: 1.0005356\ttest1: 1.4383741\tbest: 1.4383741 (300)\ttotal: 22.6s\tremaining: 12m 9s\n",
      "400:\tlearn: 0.9866116\ttest: 0.9866116\ttest1: 1.4327498\tbest: 1.4326675 (395)\ttotal: 30.2s\tremaining: 12m 2s\n",
      "500:\tlearn: 0.9760470\ttest: 0.9760470\ttest1: 1.4285192\tbest: 1.4285192 (500)\ttotal: 37.7s\tremaining: 11m 55s\n",
      "600:\tlearn: 0.9685492\ttest: 0.9685492\ttest1: 1.4271571\tbest: 1.4271541 (599)\ttotal: 45.3s\tremaining: 11m 48s\n",
      "700:\tlearn: 0.9611185\ttest: 0.9611185\ttest1: 1.4236186\tbest: 1.4234945 (653)\ttotal: 52.9s\tremaining: 11m 41s\n",
      "800:\tlearn: 0.9535880\ttest: 0.9535880\ttest1: 1.4209584\tbest: 1.4209584 (800)\ttotal: 1m\tremaining: 11m 34s\n",
      "900:\tlearn: 0.9485325\ttest: 0.9485325\ttest1: 1.4197372\tbest: 1.4195812 (883)\ttotal: 1m 8s\tremaining: 11m 27s\n",
      "1000:\tlearn: 0.9439512\ttest: 0.9439512\ttest1: 1.4184090\tbest: 1.4181919 (978)\ttotal: 1m 15s\tremaining: 11m 21s\n",
      "1100:\tlearn: 0.9397191\ttest: 0.9397191\ttest1: 1.4183332\tbest: 1.4179197 (1036)\ttotal: 1m 23s\tremaining: 11m 14s\n"
     ]
    },
    {
     "name": "stderr",
     "output_type": "stream",
     "text": [
      "\u001b[32m[I 2021-07-30 17:57:55,596]\u001b[0m Trial 74 finished with value: -1.4169261386284575 and parameters: {'colsample_bylevel': 0.09313913137779425, 'depth': 6, 'boosting_type': 'Plain', 'bootstrap_type': 'MVS', 'l2_leaf_reg': 17.08657261976154, 'random_strength': 1.8812007339242047}. Best is trial 73 with value: -1.4021397484251732.\u001b[0m\n"
     ]
    },
    {
     "name": "stdout",
     "output_type": "stream",
     "text": [
      "Stopped by overfitting detector  (100 iterations wait)\n",
      "\n",
      "bestTest = 1.417919711\n",
      "bestIteration = 1036\n",
      "\n",
      "Shrink model to first 1037 iterations.\n",
      "0:\tlearn: 1.3849428\ttest: 1.3849428\ttest1: 1.8847681\tbest: 1.8847681 (0)\ttotal: 94.5ms\tremaining: 15m 45s\n",
      "100:\tlearn: 1.0596757\ttest: 1.0596757\ttest1: 1.4593974\tbest: 1.4593974 (100)\ttotal: 8.03s\tremaining: 13m 7s\n",
      "200:\tlearn: 1.0400892\ttest: 1.0400892\ttest1: 1.4420083\tbest: 1.4418644 (195)\ttotal: 15.9s\tremaining: 12m 54s\n",
      "300:\tlearn: 1.0284494\ttest: 1.0284494\ttest1: 1.4328317\tbest: 1.4327524 (299)\ttotal: 23.7s\tremaining: 12m 44s\n",
      "400:\tlearn: 1.0171930\ttest: 1.0171930\ttest1: 1.4246845\tbest: 1.4245749 (387)\ttotal: 31.6s\tremaining: 12m 35s\n",
      "500:\tlearn: 1.0087257\ttest: 1.0087257\ttest1: 1.4231568\tbest: 1.4230206 (499)\ttotal: 39.4s\tremaining: 12m 26s\n",
      "600:\tlearn: 1.0030064\ttest: 1.0030064\ttest1: 1.4208795\tbest: 1.4208795 (600)\ttotal: 47.2s\tremaining: 12m 18s\n",
      "700:\tlearn: 0.9981102\ttest: 0.9981102\ttest1: 1.4190371\tbest: 1.4189600 (693)\ttotal: 55s\tremaining: 12m 10s\n",
      "800:\tlearn: 0.9940088\ttest: 0.9940088\ttest1: 1.4179025\tbest: 1.4178811 (798)\ttotal: 1m 2s\tremaining: 12m 1s\n",
      "900:\tlearn: 0.9908327\ttest: 0.9908327\ttest1: 1.4172265\tbest: 1.4172036 (899)\ttotal: 1m 10s\tremaining: 11m 53s\n",
      "1000:\tlearn: 0.9873387\ttest: 0.9873387\ttest1: 1.4152976\tbest: 1.4152650 (999)\ttotal: 1m 18s\tremaining: 11m 45s\n",
      "1100:\tlearn: 0.9847836\ttest: 0.9847836\ttest1: 1.4148525\tbest: 1.4145329 (1023)\ttotal: 1m 26s\tremaining: 11m 37s\n"
     ]
    },
    {
     "name": "stderr",
     "output_type": "stream",
     "text": [
      "\u001b[32m[I 2021-07-30 17:59:24,250]\u001b[0m Trial 75 finished with value: -1.4137505315726064 and parameters: {'colsample_bylevel': 0.09823449187014202, 'depth': 6, 'boosting_type': 'Plain', 'bootstrap_type': 'Bayesian', 'l2_leaf_reg': 17.636714873098814, 'random_strength': 0.4302227209090108, 'bagging_temperature': 5.28378617933331}. Best is trial 73 with value: -1.4021397484251732.\u001b[0m\n"
     ]
    },
    {
     "name": "stdout",
     "output_type": "stream",
     "text": [
      "Stopped by overfitting detector  (100 iterations wait)\n",
      "\n",
      "bestTest = 1.41453286\n",
      "bestIteration = 1023\n",
      "\n",
      "Shrink model to first 1024 iterations.\n",
      "0:\tlearn: 1.3831296\ttest: 1.3831296\ttest1: 1.8817413\tbest: 1.8817413 (0)\ttotal: 87.5ms\tremaining: 14m 35s\n",
      "100:\tlearn: 1.0531474\ttest: 1.0531474\ttest1: 1.4545079\tbest: 1.4545079 (100)\ttotal: 7.77s\tremaining: 12m 41s\n",
      "200:\tlearn: 1.0144969\ttest: 1.0144969\ttest1: 1.4293221\tbest: 1.4292420 (199)\ttotal: 15.4s\tremaining: 12m 29s\n",
      "300:\tlearn: 0.9970508\ttest: 0.9970508\ttest1: 1.4218636\tbest: 1.4218260 (297)\ttotal: 23s\tremaining: 12m 20s\n",
      "400:\tlearn: 0.9848597\ttest: 0.9848597\ttest1: 1.4187024\tbest: 1.4186572 (390)\ttotal: 30.6s\tremaining: 12m 13s\n",
      "500:\tlearn: 0.9752464\ttest: 0.9752464\ttest1: 1.4140845\tbest: 1.4140845 (500)\ttotal: 38.3s\tremaining: 12m 5s\n",
      "600:\tlearn: 0.9682684\ttest: 0.9682684\ttest1: 1.4125341\tbest: 1.4119106 (563)\ttotal: 45.9s\tremaining: 11m 58s\n",
      "700:\tlearn: 0.9597223\ttest: 0.9597223\ttest1: 1.4094992\tbest: 1.4094808 (695)\ttotal: 53.6s\tremaining: 11m 51s\n",
      "800:\tlearn: 0.9511198\ttest: 0.9511198\ttest1: 1.4105577\tbest: 1.4078131 (793)\ttotal: 1m 1s\tremaining: 11m 44s\n"
     ]
    },
    {
     "name": "stderr",
     "output_type": "stream",
     "text": [
      "\u001b[32m[I 2021-07-30 18:00:33,328]\u001b[0m Trial 76 finished with value: -1.4074973446199452 and parameters: {'colsample_bylevel': 0.0998249565624895, 'depth': 6, 'boosting_type': 'Plain', 'bootstrap_type': 'MVS', 'l2_leaf_reg': 15.471316947146706, 'random_strength': 0.7852864783630252}. Best is trial 73 with value: -1.4021397484251732.\u001b[0m\n"
     ]
    },
    {
     "name": "stdout",
     "output_type": "stream",
     "text": [
      "Stopped by overfitting detector  (100 iterations wait)\n",
      "\n",
      "bestTest = 1.407813105\n",
      "bestIteration = 793\n",
      "\n",
      "Shrink model to first 794 iterations.\n",
      "0:\tlearn: 1.3877247\ttest: 1.3877247\ttest1: 1.8846849\tbest: 1.8846849 (0)\ttotal: 85.4ms\tremaining: 14m 13s\n",
      "100:\tlearn: 1.0729498\ttest: 1.0729498\ttest1: 1.4707010\tbest: 1.4707010 (100)\ttotal: 7.35s\tremaining: 12m\n",
      "200:\tlearn: 1.0359408\ttest: 1.0359408\ttest1: 1.4384431\tbest: 1.4384431 (200)\ttotal: 14.4s\tremaining: 11m 44s\n",
      "300:\tlearn: 1.0199840\ttest: 1.0199840\ttest1: 1.4312883\tbest: 1.4311731 (298)\ttotal: 21.6s\tremaining: 11m 35s\n",
      "400:\tlearn: 1.0093987\ttest: 1.0093987\ttest1: 1.4252664\tbest: 1.4252664 (400)\ttotal: 28.7s\tremaining: 11m 27s\n",
      "500:\tlearn: 1.0014543\ttest: 1.0014543\ttest1: 1.4231181\tbest: 1.4230689 (499)\ttotal: 35.9s\tremaining: 11m 20s\n",
      "600:\tlearn: 0.9914890\ttest: 0.9914890\ttest1: 1.4183112\tbest: 1.4183112 (600)\ttotal: 43.1s\tremaining: 11m 14s\n",
      "700:\tlearn: 0.9854161\ttest: 0.9854161\ttest1: 1.4160684\tbest: 1.4160684 (700)\ttotal: 50.3s\tremaining: 11m 7s\n",
      "800:\tlearn: 0.9794223\ttest: 0.9794223\ttest1: 1.4149503\tbest: 1.4148710 (783)\ttotal: 57.5s\tremaining: 11m\n",
      "900:\tlearn: 0.9739926\ttest: 0.9739926\ttest1: 1.4127983\tbest: 1.4127983 (900)\ttotal: 1m 4s\tremaining: 10m 54s\n",
      "1000:\tlearn: 0.9682734\ttest: 0.9682734\ttest1: 1.4108656\tbest: 1.4106235 (966)\ttotal: 1m 12s\tremaining: 10m 47s\n",
      "1100:\tlearn: 0.9641589\ttest: 0.9641589\ttest1: 1.4100950\tbest: 1.4100861 (1099)\ttotal: 1m 19s\tremaining: 10m 40s\n"
     ]
    },
    {
     "name": "stderr",
     "output_type": "stream",
     "text": [
      "\u001b[32m[I 2021-07-30 18:02:00,321]\u001b[0m Trial 77 finished with value: -1.4079591254885713 and parameters: {'colsample_bylevel': 0.09473922235197778, 'depth': 5, 'boosting_type': 'Plain', 'bootstrap_type': 'MVS', 'l2_leaf_reg': 16.419969364414243, 'random_strength': 0.9589567023449841}. Best is trial 73 with value: -1.4021397484251732.\u001b[0m\n"
     ]
    },
    {
     "name": "stdout",
     "output_type": "stream",
     "text": [
      "Stopped by overfitting detector  (100 iterations wait)\n",
      "\n",
      "bestTest = 1.410086059\n",
      "bestIteration = 1099\n",
      "\n",
      "Shrink model to first 1100 iterations.\n",
      "0:\tlearn: 1.3813855\ttest: 1.3813855\ttest1: 1.8751574\tbest: 1.8751574 (0)\ttotal: 89.3ms\tremaining: 14m 52s\n",
      "100:\tlearn: 1.0672838\ttest: 1.0672838\ttest1: 1.4660763\tbest: 1.4660763 (100)\ttotal: 7.32s\tremaining: 11m 56s\n",
      "200:\tlearn: 1.0327664\ttest: 1.0327664\ttest1: 1.4373489\tbest: 1.4370142 (194)\ttotal: 14.4s\tremaining: 11m 41s\n",
      "300:\tlearn: 1.0190336\ttest: 1.0190336\ttest1: 1.4306957\tbest: 1.4306957 (300)\ttotal: 21.5s\tremaining: 11m 32s\n",
      "400:\tlearn: 1.0093642\ttest: 1.0093642\ttest1: 1.4274585\tbest: 1.4272770 (390)\ttotal: 28.6s\tremaining: 11m 25s\n",
      "500:\tlearn: 1.0007207\ttest: 1.0007207\ttest1: 1.4227830\tbest: 1.4227830 (500)\ttotal: 35.8s\tremaining: 11m 18s\n",
      "600:\tlearn: 0.9952968\ttest: 0.9952968\ttest1: 1.4200605\tbest: 1.4200313 (594)\ttotal: 43s\tremaining: 11m 12s\n",
      "700:\tlearn: 0.9870893\ttest: 0.9870893\ttest1: 1.4184549\tbest: 1.4184549 (700)\ttotal: 50.2s\tremaining: 11m 5s\n",
      "800:\tlearn: 0.9818293\ttest: 0.9818293\ttest1: 1.4154879\tbest: 1.4154821 (798)\ttotal: 57.4s\tremaining: 10m 59s\n",
      "900:\tlearn: 0.9756987\ttest: 0.9756987\ttest1: 1.4133694\tbest: 1.4133694 (900)\ttotal: 1m 4s\tremaining: 10m 52s\n",
      "1000:\tlearn: 0.9698224\ttest: 0.9698224\ttest1: 1.4129924\tbest: 1.4126860 (992)\ttotal: 1m 11s\tremaining: 10m 45s\n",
      "1100:\tlearn: 0.9644865\ttest: 0.9644865\ttest1: 1.4112992\tbest: 1.4111012 (1085)\ttotal: 1m 19s\tremaining: 10m 39s\n",
      "1200:\tlearn: 0.9602001\ttest: 0.9602001\ttest1: 1.4104402\tbest: 1.4103298 (1187)\ttotal: 1m 26s\tremaining: 10m 32s\n",
      "1300:\tlearn: 0.9573700\ttest: 0.9573700\ttest1: 1.4082151\tbest: 1.4081926 (1285)\ttotal: 1m 33s\tremaining: 10m 25s\n",
      "1400:\tlearn: 0.9541632\ttest: 0.9541632\ttest1: 1.4072160\tbest: 1.4068813 (1386)\ttotal: 1m 40s\tremaining: 10m 18s\n",
      "1500:\tlearn: 0.9504582\ttest: 0.9504582\ttest1: 1.4066214\tbest: 1.4065180 (1423)\ttotal: 1m 48s\tremaining: 10m 11s\n",
      "1600:\tlearn: 0.9472052\ttest: 0.9472052\ttest1: 1.4048285\tbest: 1.4048285 (1600)\ttotal: 1m 55s\tremaining: 10m 4s\n",
      "1700:\tlearn: 0.9447042\ttest: 0.9447042\ttest1: 1.4038948\tbest: 1.4037961 (1682)\ttotal: 2m 2s\tremaining: 9m 57s\n",
      "1800:\tlearn: 0.9409444\ttest: 0.9409444\ttest1: 1.4048218\tbest: 1.4033110 (1780)\ttotal: 2m 9s\tremaining: 9m 50s\n"
     ]
    },
    {
     "name": "stderr",
     "output_type": "stream",
     "text": [
      "\u001b[32m[I 2021-07-30 18:04:16,530]\u001b[0m Trial 78 finished with value: -1.40225486115952 and parameters: {'colsample_bylevel': 0.09132203369812399, 'depth': 5, 'boosting_type': 'Plain', 'bootstrap_type': 'MVS', 'l2_leaf_reg': 18.25113865699815, 'random_strength': 1.6457908007581041}. Best is trial 73 with value: -1.4021397484251732.\u001b[0m\n"
     ]
    },
    {
     "name": "stdout",
     "output_type": "stream",
     "text": [
      "Stopped by overfitting detector  (100 iterations wait)\n",
      "\n",
      "bestTest = 1.403311032\n",
      "bestIteration = 1780\n",
      "\n",
      "Shrink model to first 1781 iterations.\n",
      "0:\tlearn: 1.3811447\ttest: 1.3811447\ttest1: 1.8750752\tbest: 1.8750752 (0)\ttotal: 92.7ms\tremaining: 15m 27s\n",
      "100:\tlearn: 1.0559924\ttest: 1.0559924\ttest1: 1.4634617\tbest: 1.4633924 (98)\ttotal: 7.66s\tremaining: 12m 30s\n",
      "200:\tlearn: 1.0153925\ttest: 1.0153925\ttest1: 1.4336492\tbest: 1.4336462 (198)\ttotal: 15.1s\tremaining: 12m 18s\n",
      "300:\tlearn: 1.0000520\ttest: 1.0000520\ttest1: 1.4276290\tbest: 1.4275467 (298)\ttotal: 22.7s\tremaining: 12m 10s\n",
      "400:\tlearn: 0.9868264\ttest: 0.9868264\ttest1: 1.4209089\tbest: 1.4208873 (398)\ttotal: 30.2s\tremaining: 12m 2s\n",
      "500:\tlearn: 0.9771107\ttest: 0.9771107\ttest1: 1.4178860\tbest: 1.4178321 (482)\ttotal: 37.7s\tremaining: 11m 54s\n",
      "600:\tlearn: 0.9683393\ttest: 0.9683393\ttest1: 1.4156664\tbest: 1.4155767 (587)\ttotal: 45.3s\tremaining: 11m 48s\n",
      "700:\tlearn: 0.9617654\ttest: 0.9617654\ttest1: 1.4153988\tbest: 1.4148990 (673)\ttotal: 52.9s\tremaining: 11m 41s\n",
      "800:\tlearn: 0.9558744\ttest: 0.9558744\ttest1: 1.4147885\tbest: 1.4146413 (737)\ttotal: 1m\tremaining: 11m 34s\n",
      "900:\tlearn: 0.9493989\ttest: 0.9493989\ttest1: 1.4154592\tbest: 1.4133873 (873)\ttotal: 1m 8s\tremaining: 11m 27s\n"
     ]
    },
    {
     "name": "stderr",
     "output_type": "stream",
     "text": [
      "\u001b[32m[I 2021-07-30 18:05:30,737]\u001b[0m Trial 79 finished with value: -1.4121319940530324 and parameters: {'colsample_bylevel': 0.09182973140570304, 'depth': 6, 'boosting_type': 'Plain', 'bootstrap_type': 'MVS', 'l2_leaf_reg': 16.11496348738551, 'random_strength': 1.613688955569548}. Best is trial 73 with value: -1.4021397484251732.\u001b[0m\n"
     ]
    },
    {
     "name": "stdout",
     "output_type": "stream",
     "text": [
      "Stopped by overfitting detector  (100 iterations wait)\n",
      "\n",
      "bestTest = 1.41338728\n",
      "bestIteration = 873\n",
      "\n",
      "Shrink model to first 874 iterations.\n",
      "0:\tlearn: 1.3887991\ttest: 1.3887991\ttest1: 1.8820191\tbest: 1.8820191 (0)\ttotal: 92.3ms\tremaining: 15m 22s\n",
      "100:\tlearn: 1.0731092\ttest: 1.0731092\ttest1: 1.4741234\tbest: 1.4741004 (99)\ttotal: 7.31s\tremaining: 11m 56s\n",
      "200:\tlearn: 1.0362582\ttest: 1.0362582\ttest1: 1.4454303\tbest: 1.4453912 (199)\ttotal: 14.4s\tremaining: 11m 39s\n",
      "300:\tlearn: 1.0198045\ttest: 1.0198045\ttest1: 1.4361212\tbest: 1.4353381 (285)\ttotal: 21.4s\tremaining: 11m 30s\n",
      "400:\tlearn: 1.0104899\ttest: 1.0104899\ttest1: 1.4344338\tbest: 1.4342605 (334)\ttotal: 28.5s\tremaining: 11m 22s\n",
      "500:\tlearn: 1.0011104\ttest: 1.0011104\ttest1: 1.4284315\tbest: 1.4284158 (499)\ttotal: 35.6s\tremaining: 11m 15s\n",
      "600:\tlearn: 0.9937740\ttest: 0.9937740\ttest1: 1.4238959\tbest: 1.4238959 (600)\ttotal: 42.7s\tremaining: 11m 8s\n",
      "700:\tlearn: 0.9871881\ttest: 0.9871881\ttest1: 1.4211776\tbest: 1.4209515 (695)\ttotal: 49.9s\tremaining: 11m 1s\n",
      "800:\tlearn: 0.9818368\ttest: 0.9818368\ttest1: 1.4177316\tbest: 1.4176348 (797)\ttotal: 57s\tremaining: 10m 54s\n",
      "900:\tlearn: 0.9773604\ttest: 0.9773604\ttest1: 1.4163839\tbest: 1.4163140 (879)\ttotal: 1m 4s\tremaining: 10m 47s\n",
      "1000:\tlearn: 0.9722975\ttest: 0.9722975\ttest1: 1.4145952\tbest: 1.4145105 (999)\ttotal: 1m 11s\tremaining: 10m 40s\n",
      "1100:\tlearn: 0.9678185\ttest: 0.9678185\ttest1: 1.4145431\tbest: 1.4142352 (1054)\ttotal: 1m 18s\tremaining: 10m 34s\n",
      "1200:\tlearn: 0.9646887\ttest: 0.9646887\ttest1: 1.4141743\tbest: 1.4141743 (1200)\ttotal: 1m 25s\tremaining: 10m 27s\n",
      "1300:\tlearn: 0.9602664\ttest: 0.9602664\ttest1: 1.4138275\tbest: 1.4136058 (1281)\ttotal: 1m 32s\tremaining: 10m 20s\n",
      "1400:\tlearn: 0.9565603\ttest: 0.9565603\ttest1: 1.4136307\tbest: 1.4130938 (1368)\ttotal: 1m 40s\tremaining: 10m 13s\n"
     ]
    },
    {
     "name": "stderr",
     "output_type": "stream",
     "text": [
      "\u001b[32m[I 2021-07-30 18:07:16,262]\u001b[0m Trial 80 finished with value: -1.4117630615507495 and parameters: {'colsample_bylevel': 0.08627741800197695, 'depth': 5, 'boosting_type': 'Plain', 'bootstrap_type': 'MVS', 'l2_leaf_reg': 14.333286881586124, 'random_strength': 2.094413620206125}. Best is trial 73 with value: -1.4021397484251732.\u001b[0m\n"
     ]
    },
    {
     "name": "stdout",
     "output_type": "stream",
     "text": [
      "Stopped by overfitting detector  (100 iterations wait)\n",
      "\n",
      "bestTest = 1.41309381\n",
      "bestIteration = 1368\n",
      "\n",
      "Shrink model to first 1369 iterations.\n",
      "0:\tlearn: 1.3894308\ttest: 1.3894308\ttest1: 1.8878040\tbest: 1.8878040 (0)\ttotal: 85.9ms\tremaining: 14m 18s\n",
      "100:\tlearn: 1.0653024\ttest: 1.0653024\ttest1: 1.4664748\tbest: 1.4664748 (100)\ttotal: 7.42s\tremaining: 12m 7s\n",
      "200:\tlearn: 1.0332158\ttest: 1.0332158\ttest1: 1.4411242\tbest: 1.4411124 (198)\ttotal: 14.5s\tremaining: 11m 48s\n",
      "300:\tlearn: 1.0184017\ttest: 1.0184017\ttest1: 1.4336923\tbest: 1.4336923 (300)\ttotal: 21.7s\tremaining: 11m 38s\n",
      "400:\tlearn: 1.0081848\ttest: 1.0081848\ttest1: 1.4277918\tbest: 1.4277918 (400)\ttotal: 28.9s\tremaining: 11m 31s\n",
      "500:\tlearn: 1.0007687\ttest: 1.0007687\ttest1: 1.4255330\tbest: 1.4254910 (492)\ttotal: 36.1s\tremaining: 11m 24s\n",
      "600:\tlearn: 0.9915854\ttest: 0.9915854\ttest1: 1.4217061\tbest: 1.4217061 (600)\ttotal: 43.3s\tremaining: 11m 17s\n",
      "700:\tlearn: 0.9843262\ttest: 0.9843262\ttest1: 1.4189344\tbest: 1.4189344 (700)\ttotal: 50.5s\tremaining: 11m 10s\n",
      "800:\tlearn: 0.9791993\ttest: 0.9791993\ttest1: 1.4173567\tbest: 1.4173209 (786)\ttotal: 57.8s\tremaining: 11m 4s\n",
      "900:\tlearn: 0.9726572\ttest: 0.9726572\ttest1: 1.4164090\tbest: 1.4148086 (853)\ttotal: 1m 5s\tremaining: 10m 57s\n",
      "Stopped by overfitting detector  (100 iterations wait)\n",
      "\n",
      "bestTest = 1.414808605\n",
      "bestIteration = 853\n",
      "\n",
      "Shrink model to first 854 iterations.\n"
     ]
    },
    {
     "name": "stderr",
     "output_type": "stream",
     "text": [
      "\u001b[32m[I 2021-07-30 18:08:25,948]\u001b[0m Trial 81 finished with value: -1.4135574312717274 and parameters: {'colsample_bylevel': 0.09652591048962049, 'depth': 5, 'boosting_type': 'Plain', 'bootstrap_type': 'MVS', 'l2_leaf_reg': 18.016504937626912, 'random_strength': 1.1458010572566448}. Best is trial 73 with value: -1.4021397484251732.\u001b[0m\n"
     ]
    },
    {
     "name": "stdout",
     "output_type": "stream",
     "text": [
      "0:\tlearn: 1.3817390\ttest: 1.3817390\ttest1: 1.8754812\tbest: 1.8754812 (0)\ttotal: 91.3ms\tremaining: 15m 12s\n",
      "100:\tlearn: 1.0615220\ttest: 1.0615220\ttest1: 1.4615608\tbest: 1.4615608 (100)\ttotal: 7.34s\tremaining: 11m 59s\n",
      "200:\tlearn: 1.0306476\ttest: 1.0306476\ttest1: 1.4396436\tbest: 1.4395170 (198)\ttotal: 14.5s\tremaining: 11m 46s\n",
      "300:\tlearn: 1.0168202\ttest: 1.0168202\ttest1: 1.4339834\tbest: 1.4338392 (295)\ttotal: 21.7s\tremaining: 11m 37s\n",
      "400:\tlearn: 1.0085139\ttest: 1.0085139\ttest1: 1.4302455\tbest: 1.4302455 (400)\ttotal: 28.8s\tremaining: 11m 30s\n",
      "500:\tlearn: 1.0007359\ttest: 1.0007359\ttest1: 1.4261411\tbest: 1.4260681 (490)\ttotal: 36s\tremaining: 11m 22s\n",
      "600:\tlearn: 0.9932677\ttest: 0.9932677\ttest1: 1.4230094\tbest: 1.4230094 (600)\ttotal: 43.2s\tremaining: 11m 15s\n",
      "700:\tlearn: 0.9853281\ttest: 0.9853281\ttest1: 1.4201505\tbest: 1.4201352 (699)\ttotal: 50.4s\tremaining: 11m 8s\n",
      "800:\tlearn: 0.9796118\ttest: 0.9796118\ttest1: 1.4197644\tbest: 1.4196805 (785)\ttotal: 57.6s\tremaining: 11m 1s\n",
      "900:\tlearn: 0.9740474\ttest: 0.9740474\ttest1: 1.4165991\tbest: 1.4165991 (900)\ttotal: 1m 4s\tremaining: 10m 54s\n",
      "1000:\tlearn: 0.9703783\ttest: 0.9703783\ttest1: 1.4150869\tbest: 1.4150743 (997)\ttotal: 1m 11s\tremaining: 10m 46s\n",
      "1100:\tlearn: 0.9652256\ttest: 0.9652256\ttest1: 1.4130561\tbest: 1.4130561 (1100)\ttotal: 1m 19s\tremaining: 10m 40s\n",
      "1200:\tlearn: 0.9609918\ttest: 0.9609918\ttest1: 1.4127572\tbest: 1.4125391 (1164)\ttotal: 1m 26s\tremaining: 10m 33s\n"
     ]
    },
    {
     "name": "stderr",
     "output_type": "stream",
     "text": [
      "\u001b[32m[I 2021-07-30 18:09:57,791]\u001b[0m Trial 82 finished with value: -1.4112855603737091 and parameters: {'colsample_bylevel': 0.09073767762137737, 'depth': 5, 'boosting_type': 'Plain', 'bootstrap_type': 'MVS', 'l2_leaf_reg': 17.24700920655633, 'random_strength': 0.2886351123259855}. Best is trial 73 with value: -1.4021397484251732.\u001b[0m\n"
     ]
    },
    {
     "name": "stdout",
     "output_type": "stream",
     "text": [
      "Stopped by overfitting detector  (100 iterations wait)\n",
      "\n",
      "bestTest = 1.412539052\n",
      "bestIteration = 1164\n",
      "\n",
      "Shrink model to first 1165 iterations.\n",
      "0:\tlearn: 1.3873344\ttest: 1.3873344\ttest1: 1.8840930\tbest: 1.8840930 (0)\ttotal: 85.4ms\tremaining: 14m 13s\n",
      "100:\tlearn: 1.0689167\ttest: 1.0689167\ttest1: 1.4646657\tbest: 1.4646657 (100)\ttotal: 7.4s\tremaining: 12m 5s\n",
      "200:\tlearn: 1.0363416\ttest: 1.0363416\ttest1: 1.4391822\tbest: 1.4391822 (200)\ttotal: 14.6s\tremaining: 11m 49s\n",
      "300:\tlearn: 1.0201999\ttest: 1.0201999\ttest1: 1.4298500\tbest: 1.4296488 (292)\ttotal: 21.7s\tremaining: 11m 40s\n",
      "400:\tlearn: 1.0076787\ttest: 1.0076787\ttest1: 1.4251157\tbest: 1.4251067 (399)\ttotal: 28.9s\tremaining: 11m 32s\n",
      "500:\tlearn: 0.9970487\ttest: 0.9970487\ttest1: 1.4211191\tbest: 1.4210223 (490)\ttotal: 36.2s\tremaining: 11m 25s\n",
      "600:\tlearn: 0.9905615\ttest: 0.9905615\ttest1: 1.4186684\tbest: 1.4183664 (592)\ttotal: 43.4s\tremaining: 11m 18s\n",
      "700:\tlearn: 0.9850270\ttest: 0.9850270\ttest1: 1.4157161\tbest: 1.4155283 (697)\ttotal: 50.7s\tremaining: 11m 11s\n",
      "800:\tlearn: 0.9776204\ttest: 0.9776204\ttest1: 1.4141183\tbest: 1.4141183 (800)\ttotal: 58s\tremaining: 11m 5s\n",
      "900:\tlearn: 0.9728445\ttest: 0.9728445\ttest1: 1.4131056\tbest: 1.4130449 (897)\ttotal: 1m 5s\tremaining: 10m 58s\n",
      "1000:\tlearn: 0.9681139\ttest: 0.9681139\ttest1: 1.4123785\tbest: 1.4122879 (985)\ttotal: 1m 12s\tremaining: 10m 51s\n",
      "1100:\tlearn: 0.9632412\ttest: 0.9632412\ttest1: 1.4126560\tbest: 1.4119099 (1082)\ttotal: 1m 19s\tremaining: 10m 45s\n",
      "1200:\tlearn: 0.9573899\ttest: 0.9573899\ttest1: 1.4112056\tbest: 1.4108929 (1176)\ttotal: 1m 27s\tremaining: 10m 38s\n",
      "1300:\tlearn: 0.9531555\ttest: 0.9531555\ttest1: 1.4100941\tbest: 1.4099408 (1264)\ttotal: 1m 34s\tremaining: 10m 31s\n",
      "1400:\tlearn: 0.9501798\ttest: 0.9501798\ttest1: 1.4093716\tbest: 1.4093671 (1398)\ttotal: 1m 41s\tremaining: 10m 24s\n",
      "1500:\tlearn: 0.9469688\ttest: 0.9469688\ttest1: 1.4102435\tbest: 1.4093559 (1402)\ttotal: 1m 49s\tremaining: 10m 17s\n",
      "Stopped by overfitting detector  (100 iterations wait)\n",
      "\n",
      "bestTest = 1.409355883\n",
      "bestIteration = 1402\n",
      "\n",
      "Shrink model to first 1403 iterations.\n"
     ]
    },
    {
     "name": "stderr",
     "output_type": "stream",
     "text": [
      "\u001b[32m[I 2021-07-30 18:11:47,615]\u001b[0m Trial 83 finished with value: -1.4076505774263965 and parameters: {'colsample_bylevel': 0.09785574353890472, 'depth': 5, 'boosting_type': 'Plain', 'bootstrap_type': 'MVS', 'l2_leaf_reg': 19.303297467304265, 'random_strength': 0.01551646474266588}. Best is trial 73 with value: -1.4021397484251732.\u001b[0m\n"
     ]
    },
    {
     "name": "stdout",
     "output_type": "stream",
     "text": [
      "0:\tlearn: 1.3824707\ttest: 1.3824707\ttest1: 1.8808257\tbest: 1.8808257 (0)\ttotal: 95.3ms\tremaining: 15m 52s\n",
      "100:\tlearn: 1.0420405\ttest: 1.0420405\ttest1: 1.4504111\tbest: 1.4504095 (99)\ttotal: 8.18s\tremaining: 13m 21s\n",
      "200:\tlearn: 1.0024074\ttest: 1.0024074\ttest1: 1.4235283\tbest: 1.4235169 (197)\ttotal: 16.2s\tremaining: 13m 8s\n",
      "300:\tlearn: 0.9824786\ttest: 0.9824786\ttest1: 1.4191156\tbest: 1.4191156 (300)\ttotal: 24.2s\tremaining: 13m\n",
      "400:\tlearn: 0.9676582\ttest: 0.9676582\ttest1: 1.4168884\tbest: 1.4168630 (399)\ttotal: 32.3s\tremaining: 12m 53s\n",
      "500:\tlearn: 0.9554927\ttest: 0.9554927\ttest1: 1.4144702\tbest: 1.4143925 (490)\ttotal: 40.4s\tremaining: 12m 46s\n",
      "600:\tlearn: 0.9462134\ttest: 0.9462134\ttest1: 1.4146084\tbest: 1.4141241 (564)\ttotal: 48.6s\tremaining: 12m 39s\n",
      "700:\tlearn: 0.9391586\ttest: 0.9391586\ttest1: 1.4152123\tbest: 1.4138939 (612)\ttotal: 56.7s\tremaining: 12m 32s\n"
     ]
    },
    {
     "name": "stderr",
     "output_type": "stream",
     "text": [
      "\u001b[32m[I 2021-07-30 18:12:45,861]\u001b[0m Trial 84 finished with value: -1.4133455602561156 and parameters: {'colsample_bylevel': 0.09416482724651945, 'depth': 7, 'boosting_type': 'Plain', 'bootstrap_type': 'MVS', 'l2_leaf_reg': 18.020944178026873, 'random_strength': 0.6911753567331816}. Best is trial 73 with value: -1.4021397484251732.\u001b[0m\n"
     ]
    },
    {
     "name": "stdout",
     "output_type": "stream",
     "text": [
      "Stopped by overfitting detector  (100 iterations wait)\n",
      "\n",
      "bestTest = 1.413893916\n",
      "bestIteration = 612\n",
      "\n",
      "Shrink model to first 613 iterations.\n",
      "0:\tlearn: 1.3849952\ttest: 1.3849952\ttest1: 1.8786834\tbest: 1.8786834 (0)\ttotal: 91.3ms\tremaining: 15m 12s\n",
      "100:\tlearn: 1.0511570\ttest: 1.0511570\ttest1: 1.4602601\tbest: 1.4602027 (98)\ttotal: 7.56s\tremaining: 12m 21s\n",
      "200:\tlearn: 1.0139552\ttest: 1.0139552\ttest1: 1.4333815\tbest: 1.4333764 (199)\ttotal: 14.9s\tremaining: 12m 7s\n",
      "300:\tlearn: 0.9988888\ttest: 0.9988888\ttest1: 1.4364144\tbest: 1.4327463 (213)\ttotal: 22.3s\tremaining: 11m 59s\n"
     ]
    },
    {
     "name": "stderr",
     "output_type": "stream",
     "text": [
      "\u001b[32m[I 2021-07-30 18:13:09,699]\u001b[0m Trial 85 finished with value: -1.4326805770551814 and parameters: {'colsample_bylevel': 0.08090141430358558, 'depth': 6, 'boosting_type': 'Plain', 'bootstrap_type': 'MVS', 'l2_leaf_reg': 19.934537042644124, 'random_strength': 0.9500967029362541}. Best is trial 73 with value: -1.4021397484251732.\u001b[0m\n"
     ]
    },
    {
     "name": "stdout",
     "output_type": "stream",
     "text": [
      "Stopped by overfitting detector  (100 iterations wait)\n",
      "\n",
      "bestTest = 1.432746283\n",
      "bestIteration = 213\n",
      "\n",
      "Shrink model to first 214 iterations.\n",
      "0:\tlearn: 1.3887063\ttest: 1.3887063\ttest1: 1.8817437\tbest: 1.8817437 (0)\ttotal: 91.1ms\tremaining: 15m 10s\n",
      "100:\tlearn: 1.0698911\ttest: 1.0698911\ttest1: 1.4760870\tbest: 1.4760870 (100)\ttotal: 7.29s\tremaining: 11m 54s\n",
      "200:\tlearn: 1.0335434\ttest: 1.0335434\ttest1: 1.4468651\tbest: 1.4467983 (197)\ttotal: 14.3s\tremaining: 11m 38s\n",
      "300:\tlearn: 1.0166900\ttest: 1.0166900\ttest1: 1.4332223\tbest: 1.4331358 (296)\ttotal: 21.4s\tremaining: 11m 29s\n",
      "400:\tlearn: 1.0038676\ttest: 1.0038676\ttest1: 1.4276421\tbest: 1.4270710 (377)\ttotal: 28.5s\tremaining: 11m 22s\n",
      "500:\tlearn: 0.9962664\ttest: 0.9962664\ttest1: 1.4243051\tbest: 1.4243051 (500)\ttotal: 35.6s\tremaining: 11m 15s\n",
      "600:\tlearn: 0.9887336\ttest: 0.9887336\ttest1: 1.4190102\tbest: 1.4190102 (600)\ttotal: 42.7s\tremaining: 11m 8s\n",
      "700:\tlearn: 0.9830356\ttest: 0.9830356\ttest1: 1.4179338\tbest: 1.4179338 (700)\ttotal: 49.9s\tremaining: 11m 1s\n",
      "800:\tlearn: 0.9780340\ttest: 0.9780340\ttest1: 1.4166103\tbest: 1.4163874 (794)\ttotal: 57s\tremaining: 10m 54s\n",
      "900:\tlearn: 0.9718978\ttest: 0.9718978\ttest1: 1.4162197\tbest: 1.4153086 (834)\ttotal: 1m 4s\tremaining: 10m 48s\n"
     ]
    },
    {
     "name": "stderr",
     "output_type": "stream",
     "text": [
      "\u001b[32m[I 2021-07-30 18:14:16,931]\u001b[0m Trial 86 finished with value: -1.4140866248363066 and parameters: {'colsample_bylevel': 0.08651723539369628, 'depth': 5, 'boosting_type': 'Plain', 'bootstrap_type': 'MVS', 'l2_leaf_reg': 14.927398841386957, 'random_strength': 0.37978553788068337}. Best is trial 73 with value: -1.4021397484251732.\u001b[0m\n"
     ]
    },
    {
     "name": "stdout",
     "output_type": "stream",
     "text": [
      "Stopped by overfitting detector  (100 iterations wait)\n",
      "\n",
      "bestTest = 1.415308601\n",
      "bestIteration = 834\n",
      "\n",
      "Shrink model to first 835 iterations.\n",
      "0:\tlearn: 1.3925944\ttest: 1.3925944\ttest1: 1.8882625\tbest: 1.8882625 (0)\ttotal: 84.3ms\tremaining: 14m 3s\n",
      "100:\tlearn: 1.1121889\ttest: 1.1121889\ttest1: 1.5284569\tbest: 1.5283781 (99)\ttotal: 6.65s\tremaining: 10m 51s\n",
      "200:\tlearn: 1.0756420\ttest: 1.0756420\ttest1: 1.4796715\tbest: 1.4796715 (200)\ttotal: 13.1s\tremaining: 10m 41s\n",
      "300:\tlearn: 1.0583558\ttest: 1.0583558\ttest1: 1.4673778\tbest: 1.4672222 (299)\ttotal: 19.7s\tremaining: 10m 33s\n",
      "400:\tlearn: 1.0471552\ttest: 1.0471552\ttest1: 1.4592878\tbest: 1.4592279 (395)\ttotal: 26.1s\tremaining: 10m 25s\n",
      "500:\tlearn: 1.0396682\ttest: 1.0396682\ttest1: 1.4541571\tbest: 1.4541571 (500)\ttotal: 32.6s\tremaining: 10m 18s\n",
      "600:\tlearn: 1.0320986\ttest: 1.0320986\ttest1: 1.4516055\tbest: 1.4501588 (594)\ttotal: 39.2s\tremaining: 10m 12s\n",
      "700:\tlearn: 1.0269903\ttest: 1.0269903\ttest1: 1.4489079\tbest: 1.4487239 (695)\ttotal: 45.7s\tremaining: 10m 6s\n",
      "800:\tlearn: 1.0230254\ttest: 1.0230254\ttest1: 1.4476676\tbest: 1.4475028 (776)\ttotal: 52.3s\tremaining: 10m\n",
      "900:\tlearn: 1.0187839\ttest: 1.0187839\ttest1: 1.4462101\tbest: 1.4459184 (877)\ttotal: 58.8s\tremaining: 9m 54s\n",
      "1000:\tlearn: 1.0144445\ttest: 1.0144445\ttest1: 1.4457653\tbest: 1.4457653 (1000)\ttotal: 1m 5s\tremaining: 9m 48s\n",
      "1100:\tlearn: 1.0103788\ttest: 1.0103788\ttest1: 1.4439496\tbest: 1.4437712 (1094)\ttotal: 1m 11s\tremaining: 9m 41s\n",
      "1200:\tlearn: 1.0067549\ttest: 1.0067549\ttest1: 1.4418379\tbest: 1.4417911 (1196)\ttotal: 1m 18s\tremaining: 9m 35s\n",
      "1300:\tlearn: 1.0046893\ttest: 1.0046893\ttest1: 1.4408095\tbest: 1.4408095 (1300)\ttotal: 1m 25s\tremaining: 9m 29s\n",
      "1400:\tlearn: 1.0017274\ttest: 1.0017274\ttest1: 1.4399641\tbest: 1.4397344 (1373)\ttotal: 1m 31s\tremaining: 9m 23s\n",
      "1500:\tlearn: 0.9979548\ttest: 0.9979548\ttest1: 1.4392839\tbest: 1.4391723 (1488)\ttotal: 1m 38s\tremaining: 9m 16s\n",
      "1600:\tlearn: 0.9960284\ttest: 0.9960284\ttest1: 1.4388718\tbest: 1.4388708 (1599)\ttotal: 1m 44s\tremaining: 9m 10s\n",
      "1700:\tlearn: 0.9940739\ttest: 0.9940739\ttest1: 1.4373705\tbest: 1.4372595 (1650)\ttotal: 1m 51s\tremaining: 9m 3s\n",
      "1800:\tlearn: 0.9918993\ttest: 0.9918993\ttest1: 1.4369286\tbest: 1.4368583 (1771)\ttotal: 1m 58s\tremaining: 8m 57s\n",
      "1900:\tlearn: 0.9903147\ttest: 0.9903147\ttest1: 1.4364299\tbest: 1.4363807 (1882)\ttotal: 2m 4s\tremaining: 8m 50s\n",
      "2000:\tlearn: 0.9885459\ttest: 0.9885459\ttest1: 1.4354013\tbest: 1.4353554 (1997)\ttotal: 2m 11s\tremaining: 8m 43s\n",
      "2100:\tlearn: 0.9865682\ttest: 0.9865682\ttest1: 1.4343193\tbest: 1.4343161 (2096)\ttotal: 2m 17s\tremaining: 8m 37s\n",
      "2200:\tlearn: 0.9845111\ttest: 0.9845111\ttest1: 1.4337841\tbest: 1.4337797 (2199)\ttotal: 2m 24s\tremaining: 8m 31s\n",
      "2300:\tlearn: 0.9828814\ttest: 0.9828814\ttest1: 1.4327189\tbest: 1.4326090 (2292)\ttotal: 2m 30s\tremaining: 8m 24s\n",
      "2400:\tlearn: 0.9814861\ttest: 0.9814861\ttest1: 1.4325335\tbest: 1.4324522 (2358)\ttotal: 2m 37s\tremaining: 8m 18s\n",
      "2500:\tlearn: 0.9800229\ttest: 0.9800229\ttest1: 1.4323047\tbest: 1.4319289 (2455)\ttotal: 2m 44s\tremaining: 8m 11s\n"
     ]
    },
    {
     "name": "stderr",
     "output_type": "stream",
     "text": [
      "\u001b[32m[I 2021-07-30 18:17:05,282]\u001b[0m Trial 87 finished with value: -1.429026986268319 and parameters: {'colsample_bylevel': 0.029690442441982726, 'depth': 4, 'boosting_type': 'Plain', 'bootstrap_type': 'MVS', 'l2_leaf_reg': 16.162897333051017, 'random_strength': 1.323723879798449}. Best is trial 73 with value: -1.4021397484251732.\u001b[0m\n"
     ]
    },
    {
     "name": "stdout",
     "output_type": "stream",
     "text": [
      "Stopped by overfitting detector  (100 iterations wait)\n",
      "\n",
      "bestTest = 1.43192886\n",
      "bestIteration = 2455\n",
      "\n",
      "Shrink model to first 2456 iterations.\n",
      "0:\tlearn: 1.3830265\ttest: 1.3830265\ttest1: 1.8786651\tbest: 1.8786651 (0)\ttotal: 86.6ms\tremaining: 14m 25s\n",
      "100:\tlearn: 1.0873961\ttest: 1.0873961\ttest1: 1.4856922\tbest: 1.4856907 (99)\ttotal: 7.04s\tremaining: 11m 30s\n",
      "200:\tlearn: 1.0572586\ttest: 1.0572586\ttest1: 1.4584566\tbest: 1.4584566 (200)\ttotal: 13.8s\tremaining: 11m 12s\n",
      "300:\tlearn: 1.0398756\ttest: 1.0398756\ttest1: 1.4465836\tbest: 1.4464707 (295)\ttotal: 20.6s\tremaining: 11m 2s\n",
      "400:\tlearn: 1.0293188\ttest: 1.0293188\ttest1: 1.4414173\tbest: 1.4414170 (399)\ttotal: 27.3s\tremaining: 10m 52s\n",
      "500:\tlearn: 1.0218012\ttest: 1.0218012\ttest1: 1.4380120\tbest: 1.4380107 (499)\ttotal: 34s\tremaining: 10m 44s\n",
      "600:\tlearn: 1.0152299\ttest: 1.0152299\ttest1: 1.4342460\tbest: 1.4342209 (593)\ttotal: 40.8s\tremaining: 10m 37s\n",
      "700:\tlearn: 1.0088411\ttest: 1.0088411\ttest1: 1.4319489\tbest: 1.4318198 (698)\ttotal: 47.6s\tremaining: 10m 31s\n",
      "800:\tlearn: 1.0032346\ttest: 1.0032346\ttest1: 1.4288123\tbest: 1.4287660 (786)\ttotal: 54.5s\tremaining: 10m 25s\n",
      "900:\tlearn: 0.9989156\ttest: 0.9989156\ttest1: 1.4267489\tbest: 1.4265602 (897)\ttotal: 1m 1s\tremaining: 10m 18s\n",
      "1000:\tlearn: 0.9941529\ttest: 0.9941529\ttest1: 1.4265057\tbest: 1.4259829 (975)\ttotal: 1m 8s\tremaining: 10m 12s\n"
     ]
    },
    {
     "name": "stderr",
     "output_type": "stream",
     "text": [
      "\u001b[32m[I 2021-07-30 18:18:19,125]\u001b[0m Trial 88 finished with value: -1.4231726306907375 and parameters: {'colsample_bylevel': 0.09295996264252471, 'depth': 4, 'boosting_type': 'Plain', 'bootstrap_type': 'MVS', 'l2_leaf_reg': 17.201537642979673, 'random_strength': 1.6740843492878656}. Best is trial 73 with value: -1.4021397484251732.\u001b[0m\n"
     ]
    },
    {
     "name": "stdout",
     "output_type": "stream",
     "text": [
      "Stopped by overfitting detector  (100 iterations wait)\n",
      "\n",
      "bestTest = 1.425982886\n",
      "bestIteration = 975\n",
      "\n",
      "Shrink model to first 976 iterations.\n",
      "0:\tlearn: 1.3910895\ttest: 1.3910895\ttest1: 1.8902172\tbest: 1.8902172 (0)\ttotal: 80.3ms\tremaining: 13m 22s\n",
      "100:\tlearn: 1.0791519\ttest: 1.0791519\ttest1: 1.4764414\tbest: 1.4764414 (100)\ttotal: 6.97s\tremaining: 11m 22s\n",
      "200:\tlearn: 1.0491342\ttest: 1.0491342\ttest1: 1.4478334\tbest: 1.4478334 (200)\ttotal: 13.7s\tremaining: 11m 9s\n",
      "300:\tlearn: 1.0327174\ttest: 1.0327174\ttest1: 1.4380853\tbest: 1.4380853 (300)\ttotal: 20.6s\tremaining: 11m 2s\n",
      "400:\tlearn: 1.0234016\ttest: 1.0234016\ttest1: 1.4328668\tbest: 1.4328668 (400)\ttotal: 27.4s\tremaining: 10m 55s\n",
      "500:\tlearn: 1.0165129\ttest: 1.0165129\ttest1: 1.4271230\tbest: 1.4271230 (500)\ttotal: 34.2s\tremaining: 10m 48s\n",
      "600:\tlearn: 1.0107254\ttest: 1.0107254\ttest1: 1.4238429\tbest: 1.4238422 (598)\ttotal: 41s\tremaining: 10m 41s\n",
      "700:\tlearn: 1.0052646\ttest: 1.0052646\ttest1: 1.4194946\tbest: 1.4194946 (700)\ttotal: 47.9s\tremaining: 10m 34s\n",
      "800:\tlearn: 0.9995571\ttest: 0.9995571\ttest1: 1.4185907\tbest: 1.4184751 (794)\ttotal: 54.7s\tremaining: 10m 28s\n",
      "900:\tlearn: 0.9957743\ttest: 0.9957743\ttest1: 1.4165263\tbest: 1.4164269 (896)\ttotal: 1m 1s\tremaining: 10m 23s\n",
      "1000:\tlearn: 0.9920212\ttest: 0.9920212\ttest1: 1.4144975\tbest: 1.4143557 (947)\ttotal: 1m 8s\tremaining: 10m 16s\n",
      "1100:\tlearn: 0.9882520\ttest: 0.9882520\ttest1: 1.4133232\tbest: 1.4133024 (1088)\ttotal: 1m 15s\tremaining: 10m 10s\n",
      "1200:\tlearn: 0.9847022\ttest: 0.9847022\ttest1: 1.4122539\tbest: 1.4121932 (1194)\ttotal: 1m 22s\tremaining: 10m 4s\n",
      "1300:\tlearn: 0.9815821\ttest: 0.9815821\ttest1: 1.4116363\tbest: 1.4116363 (1300)\ttotal: 1m 29s\tremaining: 9m 57s\n",
      "1400:\tlearn: 0.9793636\ttest: 0.9793636\ttest1: 1.4113004\tbest: 1.4112950 (1396)\ttotal: 1m 36s\tremaining: 9m 50s\n",
      "1500:\tlearn: 0.9762483\ttest: 0.9762483\ttest1: 1.4107502\tbest: 1.4106638 (1471)\ttotal: 1m 43s\tremaining: 9m 44s\n",
      "1600:\tlearn: 0.9742809\ttest: 0.9742809\ttest1: 1.4101012\tbest: 1.4100980 (1598)\ttotal: 1m 50s\tremaining: 9m 37s\n",
      "1700:\tlearn: 0.9717081\ttest: 0.9717081\ttest1: 1.4096952\tbest: 1.4096153 (1691)\ttotal: 1m 56s\tremaining: 9m 30s\n",
      "1800:\tlearn: 0.9681505\ttest: 0.9681505\ttest1: 1.4088463\tbest: 1.4088031 (1778)\ttotal: 2m 3s\tremaining: 9m 24s\n"
     ]
    },
    {
     "name": "stderr",
     "output_type": "stream",
     "text": [
      "\u001b[32m[I 2021-07-30 18:20:29,113]\u001b[0m Trial 89 finished with value: -1.4073025149582086 and parameters: {'colsample_bylevel': 0.09948561616229293, 'depth': 4, 'boosting_type': 'Plain', 'bootstrap_type': 'MVS', 'l2_leaf_reg': 18.74013706492031, 'random_strength': 0.6772627841448576}. Best is trial 73 with value: -1.4021397484251732.\u001b[0m\n"
     ]
    },
    {
     "name": "stdout",
     "output_type": "stream",
     "text": [
      "Stopped by overfitting detector  (100 iterations wait)\n",
      "\n",
      "bestTest = 1.408803144\n",
      "bestIteration = 1778\n",
      "\n",
      "Shrink model to first 1779 iterations.\n",
      "0:\tlearn: 1.3873344\ttest: 1.3873344\ttest1: 1.8840930\tbest: 1.8840930 (0)\ttotal: 88.8ms\tremaining: 14m 47s\n",
      "100:\tlearn: 1.0676704\ttest: 1.0676704\ttest1: 1.4685974\tbest: 1.4685974 (100)\ttotal: 7.71s\tremaining: 12m 35s\n",
      "200:\tlearn: 1.0292741\ttest: 1.0292741\ttest1: 1.4377405\tbest: 1.4377405 (200)\ttotal: 15.2s\tremaining: 12m 20s\n",
      "300:\tlearn: 1.0178699\ttest: 1.0178699\ttest1: 1.4326969\tbest: 1.4324113 (288)\ttotal: 22.7s\tremaining: 12m 10s\n",
      "400:\tlearn: 1.0068622\ttest: 1.0068622\ttest1: 1.4272967\tbest: 1.4270418 (390)\ttotal: 30.2s\tremaining: 12m 2s\n",
      "500:\tlearn: 0.9979367\ttest: 0.9979367\ttest1: 1.4220924\tbest: 1.4220488 (491)\ttotal: 37.7s\tremaining: 11m 54s\n",
      "600:\tlearn: 0.9893913\ttest: 0.9893913\ttest1: 1.4197088\tbest: 1.4196643 (597)\ttotal: 45.2s\tremaining: 11m 47s\n",
      "700:\tlearn: 0.9821149\ttest: 0.9821149\ttest1: 1.4148520\tbest: 1.4148492 (699)\ttotal: 52.8s\tremaining: 11m 40s\n",
      "800:\tlearn: 0.9773572\ttest: 0.9773572\ttest1: 1.4130779\tbest: 1.4130709 (797)\ttotal: 1m\tremaining: 11m 33s\n",
      "900:\tlearn: 0.9718354\ttest: 0.9718354\ttest1: 1.4118138\tbest: 1.4117164 (890)\ttotal: 1m 7s\tremaining: 11m 26s\n",
      "1000:\tlearn: 0.9673947\ttest: 0.9673947\ttest1: 1.4115994\tbest: 1.4115062 (994)\ttotal: 1m 15s\tremaining: 11m 18s\n",
      "1100:\tlearn: 0.9636296\ttest: 0.9636296\ttest1: 1.4106679\tbest: 1.4106220 (1098)\ttotal: 1m 23s\tremaining: 11m 11s\n"
     ]
    },
    {
     "name": "stderr",
     "output_type": "stream",
     "text": [
      "\u001b[32m[I 2021-07-30 18:22:00,223]\u001b[0m Trial 90 finished with value: -1.4097912131133723 and parameters: {'colsample_bylevel': 0.09620752040464522, 'depth': 5, 'boosting_type': 'Plain', 'bootstrap_type': 'Bayesian', 'l2_leaf_reg': 15.405521156189922, 'random_strength': 0.03930779285020081, 'bagging_temperature': 0.45893415999730713}. Best is trial 73 with value: -1.4021397484251732.\u001b[0m\n"
     ]
    },
    {
     "name": "stdout",
     "output_type": "stream",
     "text": [
      "Stopped by overfitting detector  (100 iterations wait)\n",
      "\n",
      "bestTest = 1.410621999\n",
      "bestIteration = 1098\n",
      "\n",
      "Shrink model to first 1099 iterations.\n",
      "0:\tlearn: 1.3910463\ttest: 1.3910463\ttest1: 1.8879587\tbest: 1.8879587 (0)\ttotal: 84.6ms\tremaining: 14m 5s\n",
      "100:\tlearn: 1.0789606\ttest: 1.0789606\ttest1: 1.4756599\tbest: 1.4756599 (100)\ttotal: 6.97s\tremaining: 11m 23s\n",
      "200:\tlearn: 1.0535924\ttest: 1.0535924\ttest1: 1.4539331\tbest: 1.4539331 (200)\ttotal: 13.7s\tremaining: 11m 5s\n",
      "300:\tlearn: 1.0361898\ttest: 1.0361898\ttest1: 1.4450739\tbest: 1.4450739 (300)\ttotal: 20.3s\tremaining: 10m 54s\n",
      "400:\tlearn: 1.0280671\ttest: 1.0280671\ttest1: 1.4396495\tbest: 1.4396348 (396)\ttotal: 27s\tremaining: 10m 47s\n",
      "500:\tlearn: 1.0215614\ttest: 1.0215614\ttest1: 1.4348054\tbest: 1.4347876 (497)\ttotal: 33.8s\tremaining: 10m 40s\n",
      "600:\tlearn: 1.0154022\ttest: 1.0154022\ttest1: 1.4324827\tbest: 1.4324827 (600)\ttotal: 40.5s\tremaining: 10m 33s\n",
      "700:\tlearn: 1.0104605\ttest: 1.0104605\ttest1: 1.4292046\tbest: 1.4291617 (699)\ttotal: 47.3s\tremaining: 10m 27s\n",
      "800:\tlearn: 1.0047458\ttest: 1.0047458\ttest1: 1.4259097\tbest: 1.4259097 (800)\ttotal: 54.1s\tremaining: 10m 21s\n",
      "900:\tlearn: 1.0009972\ttest: 1.0009972\ttest1: 1.4234070\tbest: 1.4233799 (896)\ttotal: 1m\tremaining: 10m 15s\n",
      "1000:\tlearn: 0.9956179\ttest: 0.9956179\ttest1: 1.4208169\tbest: 1.4208169 (1000)\ttotal: 1m 7s\tremaining: 10m 8s\n",
      "1100:\tlearn: 0.9919193\ttest: 0.9919193\ttest1: 1.4200744\tbest: 1.4200744 (1100)\ttotal: 1m 14s\tremaining: 10m 2s\n",
      "1200:\tlearn: 0.9891640\ttest: 0.9891640\ttest1: 1.4186699\tbest: 1.4186089 (1196)\ttotal: 1m 21s\tremaining: 9m 55s\n",
      "1300:\tlearn: 0.9851562\ttest: 0.9851562\ttest1: 1.4197171\tbest: 1.4185729 (1234)\ttotal: 1m 28s\tremaining: 9m 49s\n"
     ]
    },
    {
     "name": "stderr",
     "output_type": "stream",
     "text": [
      "\u001b[32m[I 2021-07-30 18:23:31,245]\u001b[0m Trial 91 finished with value: -1.4160284064063162 and parameters: {'colsample_bylevel': 0.08793628165760985, 'depth': 4, 'boosting_type': 'Plain', 'bootstrap_type': 'MVS', 'l2_leaf_reg': 18.93595831764069, 'random_strength': 0.2951473820856438}. Best is trial 73 with value: -1.4021397484251732.\u001b[0m\n"
     ]
    },
    {
     "name": "stdout",
     "output_type": "stream",
     "text": [
      "Stopped by overfitting detector  (100 iterations wait)\n",
      "\n",
      "bestTest = 1.418572936\n",
      "bestIteration = 1234\n",
      "\n",
      "Shrink model to first 1235 iterations.\n",
      "0:\tlearn: 1.3832674\ttest: 1.3832674\ttest1: 1.8787368\tbest: 1.8787368 (0)\ttotal: 87.8ms\tremaining: 14m 38s\n",
      "100:\tlearn: 1.0869164\ttest: 1.0869164\ttest1: 1.4835236\tbest: 1.4835236 (100)\ttotal: 6.96s\tremaining: 11m 21s\n",
      "200:\tlearn: 1.0543611\ttest: 1.0543611\ttest1: 1.4557719\tbest: 1.4554312 (196)\ttotal: 13.7s\tremaining: 11m 7s\n",
      "300:\tlearn: 1.0348863\ttest: 1.0348863\ttest1: 1.4406780\tbest: 1.4406206 (297)\ttotal: 20.4s\tremaining: 10m 58s\n",
      "400:\tlearn: 1.0264987\ttest: 1.0264987\ttest1: 1.4363209\tbest: 1.4362844 (394)\ttotal: 27.2s\tremaining: 10m 50s\n",
      "500:\tlearn: 1.0196510\ttest: 1.0196510\ttest1: 1.4333541\tbest: 1.4333541 (500)\ttotal: 34s\tremaining: 10m 43s\n",
      "600:\tlearn: 1.0110117\ttest: 1.0110117\ttest1: 1.4292204\tbest: 1.4291089 (582)\ttotal: 40.8s\tremaining: 10m 37s\n",
      "700:\tlearn: 1.0047016\ttest: 1.0047016\ttest1: 1.4265159\tbest: 1.4265159 (700)\ttotal: 47.6s\tremaining: 10m 31s\n",
      "800:\tlearn: 0.9996574\ttest: 0.9996574\ttest1: 1.4235812\tbest: 1.4235699 (799)\ttotal: 54.4s\tremaining: 10m 25s\n",
      "900:\tlearn: 0.9948429\ttest: 0.9948429\ttest1: 1.4230907\tbest: 1.4223761 (860)\ttotal: 1m 1s\tremaining: 10m 19s\n"
     ]
    },
    {
     "name": "stderr",
     "output_type": "stream",
     "text": [
      "\u001b[32m[I 2021-07-30 18:24:37,241]\u001b[0m Trial 92 finished with value: -1.4210924977672406 and parameters: {'colsample_bylevel': 0.09062091623809615, 'depth': 4, 'boosting_type': 'Plain', 'bootstrap_type': 'MVS', 'l2_leaf_reg': 18.239992365477818, 'random_strength': 0.968821472210284}. Best is trial 73 with value: -1.4021397484251732.\u001b[0m\n"
     ]
    },
    {
     "name": "stdout",
     "output_type": "stream",
     "text": [
      "Stopped by overfitting detector  (100 iterations wait)\n",
      "\n",
      "bestTest = 1.422376135\n",
      "bestIteration = 860\n",
      "\n",
      "Shrink model to first 861 iterations.\n",
      "0:\tlearn: 1.3855015\ttest: 1.3855015\ttest1: 1.8802943\tbest: 1.8802943 (0)\ttotal: 79.7ms\tremaining: 13m 17s\n",
      "100:\tlearn: 1.0748043\ttest: 1.0748043\ttest1: 1.4675735\tbest: 1.4674674 (96)\ttotal: 6.96s\tremaining: 11m 22s\n",
      "200:\tlearn: 1.0495018\ttest: 1.0495018\ttest1: 1.4502094\tbest: 1.4502094 (200)\ttotal: 13.6s\tremaining: 11m 5s\n",
      "300:\tlearn: 1.0346489\ttest: 1.0346489\ttest1: 1.4386549\tbest: 1.4386549 (300)\ttotal: 20.4s\tremaining: 10m 56s\n",
      "400:\tlearn: 1.0249289\ttest: 1.0249289\ttest1: 1.4318301\tbest: 1.4318301 (400)\ttotal: 27.2s\tremaining: 10m 50s\n",
      "500:\tlearn: 1.0161589\ttest: 1.0161589\ttest1: 1.4273213\tbest: 1.4273038 (491)\ttotal: 33.9s\tremaining: 10m 43s\n",
      "600:\tlearn: 1.0089361\ttest: 1.0089361\ttest1: 1.4217832\tbest: 1.4215973 (591)\ttotal: 40.7s\tremaining: 10m 36s\n",
      "700:\tlearn: 1.0028865\ttest: 1.0028865\ttest1: 1.4188626\tbest: 1.4188265 (695)\ttotal: 47.5s\tremaining: 10m 30s\n",
      "800:\tlearn: 0.9982820\ttest: 0.9982820\ttest1: 1.4173648\tbest: 1.4172989 (794)\ttotal: 54.3s\tremaining: 10m 23s\n",
      "900:\tlearn: 0.9945712\ttest: 0.9945712\ttest1: 1.4154972\tbest: 1.4148736 (898)\ttotal: 1m 1s\tremaining: 10m 17s\n",
      "1000:\tlearn: 0.9909540\ttest: 0.9909540\ttest1: 1.4138851\tbest: 1.4138151 (991)\ttotal: 1m 7s\tremaining: 10m 10s\n",
      "1100:\tlearn: 0.9880857\ttest: 0.9880857\ttest1: 1.4134212\tbest: 1.4134212 (1100)\ttotal: 1m 14s\tremaining: 10m 4s\n",
      "1200:\tlearn: 0.9851183\ttest: 0.9851183\ttest1: 1.4122075\tbest: 1.4121708 (1192)\ttotal: 1m 21s\tremaining: 9m 58s\n",
      "1300:\tlearn: 0.9812038\ttest: 0.9812038\ttest1: 1.4110257\tbest: 1.4109746 (1296)\ttotal: 1m 28s\tremaining: 9m 51s\n",
      "1400:\tlearn: 0.9777449\ttest: 0.9777449\ttest1: 1.4099176\tbest: 1.4099116 (1399)\ttotal: 1m 35s\tremaining: 9m 45s\n",
      "1500:\tlearn: 0.9748819\ttest: 0.9748819\ttest1: 1.4094962\tbest: 1.4092539 (1478)\ttotal: 1m 42s\tremaining: 9m 39s\n",
      "1600:\tlearn: 0.9722083\ttest: 0.9722083\ttest1: 1.4088384\tbest: 1.4086822 (1571)\ttotal: 1m 49s\tremaining: 9m 32s\n",
      "1700:\tlearn: 0.9697853\ttest: 0.9697853\ttest1: 1.4088081\tbest: 1.4086368 (1627)\ttotal: 1m 55s\tremaining: 9m 25s\n"
     ]
    },
    {
     "name": "stderr",
     "output_type": "stream",
     "text": [
      "\u001b[32m[I 2021-07-30 18:26:35,707]\u001b[0m Trial 93 finished with value: -1.4073133543194445 and parameters: {'colsample_bylevel': 0.09182503141794712, 'depth': 4, 'boosting_type': 'Plain', 'bootstrap_type': 'MVS', 'l2_leaf_reg': 17.692055939646536, 'random_strength': 0.06913363455789848}. Best is trial 73 with value: -1.4021397484251732.\u001b[0m\n"
     ]
    },
    {
     "name": "stdout",
     "output_type": "stream",
     "text": [
      "Stopped by overfitting detector  (100 iterations wait)\n",
      "\n",
      "bestTest = 1.40863679\n",
      "bestIteration = 1627\n",
      "\n",
      "Shrink model to first 1628 iterations.\n",
      "0:\tlearn: 1.3906214\ttest: 1.3906214\ttest1: 1.8842297\tbest: 1.8842297 (0)\ttotal: 85.7ms\tremaining: 14m 16s\n",
      "100:\tlearn: 1.0888264\ttest: 1.0888264\ttest1: 1.4768377\tbest: 1.4767746 (99)\ttotal: 6.88s\tremaining: 11m 13s\n",
      "200:\tlearn: 1.0565005\ttest: 1.0565005\ttest1: 1.4504157\tbest: 1.4504157 (200)\ttotal: 13.5s\tremaining: 11m\n",
      "300:\tlearn: 1.0386383\ttest: 1.0386383\ttest1: 1.4426095\tbest: 1.4425590 (284)\ttotal: 20.2s\tremaining: 10m 51s\n",
      "400:\tlearn: 1.0288665\ttest: 1.0288665\ttest1: 1.4378078\tbest: 1.4377918 (390)\ttotal: 26.9s\tremaining: 10m 43s\n",
      "500:\tlearn: 1.0196038\ttest: 1.0196038\ttest1: 1.4341328\tbest: 1.4341328 (500)\ttotal: 33.6s\tremaining: 10m 36s\n",
      "600:\tlearn: 1.0137007\ttest: 1.0137007\ttest1: 1.4319759\tbest: 1.4319759 (600)\ttotal: 40.3s\tremaining: 10m 30s\n",
      "700:\tlearn: 1.0078551\ttest: 1.0078551\ttest1: 1.4279224\tbest: 1.4278702 (697)\ttotal: 47.1s\tremaining: 10m 24s\n",
      "800:\tlearn: 1.0038078\ttest: 1.0038078\ttest1: 1.4271383\tbest: 1.4270331 (777)\ttotal: 53.8s\tremaining: 10m 18s\n",
      "900:\tlearn: 0.9979964\ttest: 0.9979964\ttest1: 1.4248285\tbest: 1.4247020 (885)\ttotal: 1m\tremaining: 10m 11s\n",
      "1000:\tlearn: 0.9929546\ttest: 0.9929546\ttest1: 1.4209495\tbest: 1.4206243 (991)\ttotal: 1m 7s\tremaining: 10m 5s\n",
      "1100:\tlearn: 0.9893579\ttest: 0.9893579\ttest1: 1.4193691\tbest: 1.4193424 (1092)\ttotal: 1m 14s\tremaining: 9m 58s\n",
      "1200:\tlearn: 0.9854747\ttest: 0.9854747\ttest1: 1.4175289\tbest: 1.4172717 (1192)\ttotal: 1m 20s\tremaining: 9m 52s\n"
     ]
    },
    {
     "name": "stderr",
     "output_type": "stream",
     "text": [
      "\u001b[32m[I 2021-07-30 18:28:03,404]\u001b[0m Trial 94 finished with value: -1.4151653143960516 and parameters: {'colsample_bylevel': 0.08509300488953439, 'depth': 4, 'boosting_type': 'Plain', 'bootstrap_type': 'MVS', 'l2_leaf_reg': 16.62667383275872, 'random_strength': 1.1732816147666087}. Best is trial 73 with value: -1.4021397484251732.\u001b[0m\n"
     ]
    },
    {
     "name": "stdout",
     "output_type": "stream",
     "text": [
      "Stopped by overfitting detector  (100 iterations wait)\n",
      "\n",
      "bestTest = 1.417271691\n",
      "bestIteration = 1192\n",
      "\n",
      "Shrink model to first 1193 iterations.\n",
      "0:\tlearn: 1.3901592\ttest: 1.3901592\ttest1: 1.8837260\tbest: 1.8837260 (0)\ttotal: 86.1ms\tremaining: 14m 21s\n",
      "100:\tlearn: 1.0811495\ttest: 1.0811495\ttest1: 1.4709576\tbest: 1.4708976 (99)\ttotal: 6.9s\tremaining: 11m 16s\n",
      "200:\tlearn: 1.0523552\ttest: 1.0523552\ttest1: 1.4472000\tbest: 1.4466837 (191)\ttotal: 13.6s\tremaining: 11m 2s\n",
      "300:\tlearn: 1.0412963\ttest: 1.0412963\ttest1: 1.4419651\tbest: 1.4415452 (256)\ttotal: 20.2s\tremaining: 10m 52s\n",
      "400:\tlearn: 1.0295619\ttest: 1.0295619\ttest1: 1.4348056\tbest: 1.4348056 (400)\ttotal: 26.9s\tremaining: 10m 44s\n",
      "500:\tlearn: 1.0214959\ttest: 1.0214959\ttest1: 1.4298266\tbest: 1.4298266 (500)\ttotal: 33.6s\tremaining: 10m 37s\n",
      "600:\tlearn: 1.0141556\ttest: 1.0141556\ttest1: 1.4246458\tbest: 1.4246064 (598)\ttotal: 40.4s\tremaining: 10m 31s\n",
      "700:\tlearn: 1.0080375\ttest: 1.0080375\ttest1: 1.4202678\tbest: 1.4200463 (682)\ttotal: 47.2s\tremaining: 10m 25s\n",
      "800:\tlearn: 1.0032150\ttest: 1.0032150\ttest1: 1.4184386\tbest: 1.4182233 (793)\ttotal: 53.9s\tremaining: 10m 19s\n",
      "900:\tlearn: 0.9986948\ttest: 0.9986948\ttest1: 1.4173494\tbest: 1.4170988 (890)\ttotal: 1m\tremaining: 10m 13s\n",
      "1000:\tlearn: 0.9938479\ttest: 0.9938479\ttest1: 1.4160186\tbest: 1.4158939 (949)\ttotal: 1m 7s\tremaining: 10m 7s\n",
      "1100:\tlearn: 0.9893176\ttest: 0.9893176\ttest1: 1.4139667\tbest: 1.4137592 (1093)\ttotal: 1m 14s\tremaining: 10m\n",
      "1200:\tlearn: 0.9858618\ttest: 0.9858618\ttest1: 1.4133227\tbest: 1.4132614 (1187)\ttotal: 1m 21s\tremaining: 9m 54s\n",
      "1300:\tlearn: 0.9829466\ttest: 0.9829466\ttest1: 1.4128418\tbest: 1.4125644 (1271)\ttotal: 1m 27s\tremaining: 9m 48s\n"
     ]
    },
    {
     "name": "stderr",
     "output_type": "stream",
     "text": [
      "\u001b[32m[I 2021-07-30 18:29:36,847]\u001b[0m Trial 95 finished with value: -1.410152922910855 and parameters: {'colsample_bylevel': 0.0875687501729263, 'depth': 4, 'boosting_type': 'Plain', 'bootstrap_type': 'MVS', 'l2_leaf_reg': 18.679953994063684, 'random_strength': 0.5267066697747267}. Best is trial 73 with value: -1.4021397484251732.\u001b[0m\n"
     ]
    },
    {
     "name": "stdout",
     "output_type": "stream",
     "text": [
      "Stopped by overfitting detector  (100 iterations wait)\n",
      "\n",
      "bestTest = 1.412564354\n",
      "bestIteration = 1271\n",
      "\n",
      "Shrink model to first 1272 iterations.\n",
      "0:\tlearn: 1.3867910\ttest: 1.3867910\ttest1: 1.8824236\tbest: 1.8824236 (0)\ttotal: 89.2ms\tremaining: 14m 51s\n",
      "100:\tlearn: 1.0697710\ttest: 1.0697710\ttest1: 1.4696973\tbest: 1.4696973 (100)\ttotal: 7.28s\tremaining: 11m 53s\n",
      "200:\tlearn: 1.0319917\ttest: 1.0319917\ttest1: 1.4407450\tbest: 1.4405874 (193)\ttotal: 14.3s\tremaining: 11m 39s\n",
      "300:\tlearn: 1.0182651\ttest: 1.0182651\ttest1: 1.4292184\tbest: 1.4290991 (297)\ttotal: 21.4s\tremaining: 11m 29s\n",
      "400:\tlearn: 1.0091731\ttest: 1.0091731\ttest1: 1.4285863\tbest: 1.4283303 (370)\ttotal: 28.5s\tremaining: 11m 22s\n",
      "500:\tlearn: 1.0016952\ttest: 1.0016952\ttest1: 1.4267251\tbest: 1.4267152 (485)\ttotal: 35.6s\tremaining: 11m 15s\n",
      "600:\tlearn: 0.9927284\ttest: 0.9927284\ttest1: 1.4216823\tbest: 1.4216823 (600)\ttotal: 42.8s\tremaining: 11m 8s\n",
      "700:\tlearn: 0.9857142\ttest: 0.9857142\ttest1: 1.4201416\tbest: 1.4201114 (698)\ttotal: 50s\tremaining: 11m 2s\n",
      "800:\tlearn: 0.9789943\ttest: 0.9789943\ttest1: 1.4190046\tbest: 1.4190046 (800)\ttotal: 57.1s\tremaining: 10m 56s\n",
      "900:\tlearn: 0.9738532\ttest: 0.9738532\ttest1: 1.4186064\tbest: 1.4184174 (878)\ttotal: 1m 4s\tremaining: 10m 49s\n",
      "1000:\tlearn: 0.9691130\ttest: 0.9691130\ttest1: 1.4171530\tbest: 1.4170681 (988)\ttotal: 1m 11s\tremaining: 10m 43s\n",
      "1100:\tlearn: 0.9638484\ttest: 0.9638484\ttest1: 1.4166345\tbest: 1.4164933 (1066)\ttotal: 1m 18s\tremaining: 10m 36s\n"
     ]
    },
    {
     "name": "stderr",
     "output_type": "stream",
     "text": [
      "\u001b[32m[I 2021-07-30 18:31:00,925]\u001b[0m Trial 96 finished with value: -1.4146870803418985 and parameters: {'colsample_bylevel': 0.08895756716299372, 'depth': 5, 'boosting_type': 'Plain', 'bootstrap_type': 'MVS', 'l2_leaf_reg': 19.713589409953858, 'random_strength': 0.3270148501047258}. Best is trial 73 with value: -1.4021397484251732.\u001b[0m\n"
     ]
    },
    {
     "name": "stdout",
     "output_type": "stream",
     "text": [
      "Stopped by overfitting detector  (100 iterations wait)\n",
      "\n",
      "bestTest = 1.4164933\n",
      "bestIteration = 1066\n",
      "\n",
      "Shrink model to first 1067 iterations.\n",
      "0:\tlearn: 1.3874302\ttest: 1.3874302\ttest1: 1.8852013\tbest: 1.8852013 (0)\ttotal: 85.1ms\tremaining: 14m 11s\n",
      "100:\tlearn: 1.0931664\ttest: 1.0931664\ttest1: 1.4881106\tbest: 1.4881106 (100)\ttotal: 7.07s\tremaining: 11m 33s\n",
      "200:\tlearn: 1.0571743\ttest: 1.0571743\ttest1: 1.4518569\tbest: 1.4518569 (200)\ttotal: 13.8s\tremaining: 11m 14s\n",
      "300:\tlearn: 1.0442459\ttest: 1.0442459\ttest1: 1.4450228\tbest: 1.4450205 (298)\ttotal: 20.6s\tremaining: 11m 3s\n",
      "400:\tlearn: 1.0310916\ttest: 1.0310916\ttest1: 1.4375796\tbest: 1.4374272 (397)\ttotal: 27.3s\tremaining: 10m 53s\n",
      "500:\tlearn: 1.0228499\ttest: 1.0228499\ttest1: 1.4325287\tbest: 1.4324925 (497)\ttotal: 34.1s\tremaining: 10m 45s\n",
      "600:\tlearn: 1.0157525\ttest: 1.0157525\ttest1: 1.4300861\tbest: 1.4300415 (596)\ttotal: 40.9s\tremaining: 10m 39s\n",
      "700:\tlearn: 1.0119370\ttest: 1.0119370\ttest1: 1.4283636\tbest: 1.4283113 (688)\ttotal: 47.7s\tremaining: 10m 32s\n",
      "800:\tlearn: 1.0073824\ttest: 1.0073824\ttest1: 1.4266193\tbest: 1.4265564 (796)\ttotal: 54.5s\tremaining: 10m 26s\n",
      "900:\tlearn: 1.0023768\ttest: 1.0023768\ttest1: 1.4243412\tbest: 1.4241946 (894)\ttotal: 1m 1s\tremaining: 10m 19s\n",
      "1000:\tlearn: 0.9989463\ttest: 0.9989463\ttest1: 1.4230511\tbest: 1.4230239 (999)\ttotal: 1m 8s\tremaining: 10m 13s\n"
     ]
    },
    {
     "name": "stderr",
     "output_type": "stream",
     "text": [
      "\u001b[32m[I 2021-07-30 18:32:16,541]\u001b[0m Trial 97 finished with value: -1.4214535814354996 and parameters: {'colsample_bylevel': 0.09387253682015617, 'depth': 4, 'boosting_type': 'Plain', 'bootstrap_type': 'MVS', 'l2_leaf_reg': 15.922736651750688, 'random_strength': 2.0319113280383494}. Best is trial 73 with value: -1.4021397484251732.\u001b[0m\n"
     ]
    },
    {
     "name": "stdout",
     "output_type": "stream",
     "text": [
      "Stopped by overfitting detector  (100 iterations wait)\n",
      "\n",
      "bestTest = 1.423023942\n",
      "bestIteration = 999\n",
      "\n",
      "Shrink model to first 1000 iterations.\n",
      "0:\tlearn: 1.3900835\ttest: 1.3900835\ttest1: 1.8859263\tbest: 1.8859263 (0)\ttotal: 114ms\tremaining: 18m 57s\n",
      "100:\tlearn: 1.0881800\ttest: 1.0881800\ttest1: 1.4849622\tbest: 1.4848961 (98)\ttotal: 9.45s\tremaining: 15m 25s\n",
      "200:\tlearn: 1.0559118\ttest: 1.0559118\ttest1: 1.4533768\tbest: 1.4533281 (197)\ttotal: 18.8s\tremaining: 15m 18s\n",
      "300:\tlearn: 1.0401407\ttest: 1.0401407\ttest1: 1.4416373\tbest: 1.4415365 (292)\ttotal: 28s\tremaining: 15m 2s\n",
      "400:\tlearn: 1.0289253\ttest: 1.0289253\ttest1: 1.4369337\tbest: 1.4369337 (400)\ttotal: 37.3s\tremaining: 14m 51s\n",
      "500:\tlearn: 1.0202982\ttest: 1.0202982\ttest1: 1.4304566\tbest: 1.4304566 (500)\ttotal: 46.6s\tremaining: 14m 44s\n",
      "600:\tlearn: 1.0122076\ttest: 1.0122076\ttest1: 1.4273325\tbest: 1.4272250 (591)\ttotal: 55.9s\tremaining: 14m 34s\n",
      "700:\tlearn: 1.0060550\ttest: 1.0060550\ttest1: 1.4255536\tbest: 1.4254946 (696)\ttotal: 1m 5s\tremaining: 14m 23s\n",
      "800:\tlearn: 1.0014208\ttest: 1.0014208\ttest1: 1.4240109\tbest: 1.4238946 (791)\ttotal: 1m 14s\tremaining: 14m 13s\n",
      "900:\tlearn: 0.9964519\ttest: 0.9964519\ttest1: 1.4230844\tbest: 1.4229981 (891)\ttotal: 1m 23s\tremaining: 14m 3s\n",
      "1000:\tlearn: 0.9934942\ttest: 0.9934942\ttest1: 1.4213641\tbest: 1.4213503 (996)\ttotal: 1m 32s\tremaining: 13m 53s\n",
      "1100:\tlearn: 0.9894505\ttest: 0.9894505\ttest1: 1.4204643\tbest: 1.4203509 (1081)\ttotal: 1m 42s\tremaining: 13m 44s\n",
      "1200:\tlearn: 0.9863605\ttest: 0.9863605\ttest1: 1.4185542\tbest: 1.4185305 (1198)\ttotal: 1m 51s\tremaining: 13m 34s\n",
      "1300:\tlearn: 0.9821121\ttest: 0.9821121\ttest1: 1.4169200\tbest: 1.4169063 (1265)\ttotal: 2m\tremaining: 13m 25s\n",
      "1400:\tlearn: 0.9791024\ttest: 0.9791024\ttest1: 1.4164086\tbest: 1.4164032 (1399)\ttotal: 2m 9s\tremaining: 13m 15s\n",
      "1500:\tlearn: 0.9755973\ttest: 0.9755973\ttest1: 1.4166219\tbest: 1.4163504 (1423)\ttotal: 2m 18s\tremaining: 13m 6s\n",
      "Stopped by overfitting detector  (100 iterations wait)\n",
      "\n",
      "bestTest = 1.416350415\n",
      "bestIteration = 1423\n",
      "\n",
      "Shrink model to first 1424 iterations.\n"
     ]
    },
    {
     "name": "stderr",
     "output_type": "stream",
     "text": [
      "\u001b[32m[I 2021-07-30 18:34:38,362]\u001b[0m Trial 98 finished with value: -1.4143208018249869 and parameters: {'colsample_bylevel': 0.09842792094725968, 'depth': 4, 'boosting_type': 'Ordered', 'bootstrap_type': 'MVS', 'l2_leaf_reg': 16.94946290248329, 'random_strength': 0.8105986734256381}. Best is trial 73 with value: -1.4021397484251732.\u001b[0m\n"
     ]
    },
    {
     "name": "stdout",
     "output_type": "stream",
     "text": [
      "0:\tlearn: 1.3894308\ttest: 1.3894308\ttest1: 1.8878040\tbest: 1.8878040 (0)\ttotal: 87.1ms\tremaining: 14m 30s\n",
      "100:\tlearn: 1.0622631\ttest: 1.0622631\ttest1: 1.4626149\tbest: 1.4626149 (100)\ttotal: 7.49s\tremaining: 12m 13s\n",
      "200:\tlearn: 1.0318287\ttest: 1.0318287\ttest1: 1.4415834\tbest: 1.4415834 (200)\ttotal: 14.7s\tremaining: 11m 54s\n",
      "300:\tlearn: 1.0177179\ttest: 1.0177179\ttest1: 1.4350992\tbest: 1.4350884 (297)\ttotal: 21.9s\tremaining: 11m 45s\n",
      "400:\tlearn: 1.0076118\ttest: 1.0076118\ttest1: 1.4287021\tbest: 1.4286423 (393)\ttotal: 29.1s\tremaining: 11m 36s\n",
      "500:\tlearn: 0.9996242\ttest: 0.9996242\ttest1: 1.4254954\tbest: 1.4254836 (499)\ttotal: 36.3s\tremaining: 11m 28s\n",
      "600:\tlearn: 0.9928147\ttest: 0.9928147\ttest1: 1.4233927\tbest: 1.4233213 (599)\ttotal: 43.5s\tremaining: 11m 20s\n",
      "700:\tlearn: 0.9851953\ttest: 0.9851953\ttest1: 1.4196207\tbest: 1.4195605 (697)\ttotal: 50.8s\tremaining: 11m 13s\n",
      "800:\tlearn: 0.9787841\ttest: 0.9787841\ttest1: 1.4180912\tbest: 1.4174835 (771)\ttotal: 58s\tremaining: 11m 6s\n",
      "900:\tlearn: 0.9730683\ttest: 0.9730683\ttest1: 1.4170322\tbest: 1.4166248 (896)\ttotal: 1m 5s\tremaining: 11m\n",
      "1000:\tlearn: 0.9685220\ttest: 0.9685220\ttest1: 1.4156042\tbest: 1.4156042 (1000)\ttotal: 1m 12s\tremaining: 10m 52s\n",
      "1100:\tlearn: 0.9642064\ttest: 0.9642064\ttest1: 1.4145736\tbest: 1.4144967 (1066)\ttotal: 1m 19s\tremaining: 10m 45s\n"
     ]
    },
    {
     "name": "stderr",
     "output_type": "stream",
     "text": [
      "\u001b[32m[I 2021-07-30 18:36:03,629]\u001b[0m Trial 99 finished with value: -1.412983631341419 and parameters: {'colsample_bylevel': 0.09569671145254313, 'depth': 5, 'boosting_type': 'Plain', 'bootstrap_type': 'MVS', 'l2_leaf_reg': 17.630540728321595, 'random_strength': 1.482422855683099}. Best is trial 73 with value: -1.4021397484251732.\u001b[0m\n"
     ]
    },
    {
     "name": "stdout",
     "output_type": "stream",
     "text": [
      "Stopped by overfitting detector  (100 iterations wait)\n",
      "\n",
      "bestTest = 1.414496693\n",
      "bestIteration = 1066\n",
      "\n",
      "Shrink model to first 1067 iterations.\n"
     ]
    }
   ],
   "source": [
    "study1, study2, study3, study4 = rt4kaido_train.train_and_evaluate(train, isgamedayonly=False)"
   ]
  },
  {
   "cell_type": "code",
   "execution_count": 19,
   "id": "792fbbf7",
   "metadata": {},
   "outputs": [
    {
     "name": "stdout",
     "output_type": "stream",
     "text": [
      "best_score = 1.0877400185595614\n"
     ]
    },
    {
     "data": {
      "text/plain": [
       "{'colsample_bylevel': 0.08895366428650597,\n",
       " 'depth': 5,\n",
       " 'boosting_type': 'Ordered',\n",
       " 'bootstrap_type': 'Bernoulli',\n",
       " 'l2_leaf_reg': 3.5557557033134186,\n",
       " 'random_strength': 3.860389252319713,\n",
       " 'subsample': 0.13876392005397106}"
      ]
     },
     "execution_count": 19,
     "metadata": {},
     "output_type": "execute_result"
    }
   ],
   "source": [
    "print(f'best_score = {-study1.best_value}')\n",
    "study1.best_trial.params"
   ]
  },
  {
   "cell_type": "code",
   "execution_count": 20,
   "id": "48fc915e",
   "metadata": {},
   "outputs": [
    {
     "name": "stdout",
     "output_type": "stream",
     "text": [
      "best_score = 2.1695421991660044\n"
     ]
    },
    {
     "data": {
      "text/plain": [
       "{'colsample_bylevel': 0.09051083419926985,\n",
       " 'depth': 4,\n",
       " 'boosting_type': 'Ordered',\n",
       " 'bootstrap_type': 'MVS',\n",
       " 'l2_leaf_reg': 18.256162989240764,\n",
       " 'random_strength': 1.2954363886811628}"
      ]
     },
     "execution_count": 20,
     "metadata": {},
     "output_type": "execute_result"
    }
   ],
   "source": [
    "print(f'best_score = {-study2.best_value}')\n",
    "study2.best_trial.params"
   ]
  },
  {
   "cell_type": "code",
   "execution_count": 21,
   "id": "e6b79277",
   "metadata": {},
   "outputs": [
    {
     "name": "stdout",
     "output_type": "stream",
     "text": [
      "best_score = 0.8753753806261396\n"
     ]
    },
    {
     "data": {
      "text/plain": [
       "{'colsample_bylevel': 0.097559500109035,\n",
       " 'depth': 4,\n",
       " 'boosting_type': 'Plain',\n",
       " 'bootstrap_type': 'Bayesian',\n",
       " 'l2_leaf_reg': 9.737213821529005,\n",
       " 'random_strength': 1.3679070532051059,\n",
       " 'bagging_temperature': 3.1514402801225176}"
      ]
     },
     "execution_count": 21,
     "metadata": {},
     "output_type": "execute_result"
    }
   ],
   "source": [
    "print(f'best_score = {-study3.best_value}')\n",
    "study3.best_trial.params"
   ]
  },
  {
   "cell_type": "code",
   "execution_count": 22,
   "id": "a1ed2317",
   "metadata": {},
   "outputs": [
    {
     "name": "stdout",
     "output_type": "stream",
     "text": [
      "best_score = 1.4021397484251732\n"
     ]
    },
    {
     "data": {
      "text/plain": [
       "{'colsample_bylevel': 0.0933782679955531,\n",
       " 'depth': 6,\n",
       " 'boosting_type': 'Plain',\n",
       " 'bootstrap_type': 'MVS',\n",
       " 'l2_leaf_reg': 17.226054250316672,\n",
       " 'random_strength': 0.38535553612063733}"
      ]
     },
     "execution_count": 22,
     "metadata": {},
     "output_type": "execute_result"
    }
   ],
   "source": [
    "print(f'best_score = {-study4.best_value}')\n",
    "study4.best_trial.params"
   ]
  },
  {
   "cell_type": "code",
   "execution_count": null,
   "id": "e1830771",
   "metadata": {},
   "outputs": [],
   "source": []
  },
  {
   "cell_type": "code",
   "execution_count": null,
   "id": "83fa23f2",
   "metadata": {},
   "outputs": [],
   "source": []
  }
 ],
 "metadata": {
  "kernelspec": {
   "display_name": "Python 3",
   "language": "python",
   "name": "python3"
  },
  "language_info": {
   "codemirror_mode": {
    "name": "ipython",
    "version": 3
   },
   "file_extension": ".py",
   "mimetype": "text/x-python",
   "name": "python",
   "nbconvert_exporter": "python",
   "pygments_lexer": "ipython3",
   "version": "3.6.13"
  }
 },
 "nbformat": 4,
 "nbformat_minor": 5
}
